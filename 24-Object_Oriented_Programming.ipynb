{
  "nbformat": 4,
  "nbformat_minor": 0,
  "metadata": {
    "kernelspec": {
      "display_name": "Python 3",
      "language": "python",
      "name": "python3"
    },
    "language_info": {
      "codemirror_mode": {
        "name": "ipython",
        "version": 3
      },
      "file_extension": ".py",
      "mimetype": "text/x-python",
      "name": "python",
      "nbconvert_exporter": "python",
      "pygments_lexer": "ipython3",
      "version": "3.6.2"
    },
    "colab": {
      "name": "01-Object Oriented Programming.ipynb",
      "provenance": [],
      "collapsed_sections": []
    }
  },
  "cells": [
    {
      "cell_type": "markdown",
      "metadata": {
        "id": "nOSbmoZOHT8J",
        "colab_type": "text"
      },
      "source": [
        "Object-oriented Programming, or OOP for short, is a programming paradigm which provides a means of structuring programs so that properties and behaviors are bundled into individual objects.\n",
        "\n",
        "Example:\n",
        "\n",
        "An object could represent a person with a name property, age, address, etc., with behaviors like walking, talking, breathing, and running. \n",
        "\n",
        "An object could represent an email with properties like recipient list, subject, body, etc., and behaviors like adding attachments and sending. \n",
        "\n",
        "\n",
        "Put another way, object-oriented programming is an approach for modeling concrete, real-world things like cars as well as relations between things like companies and employees, students and teachers, etc. OOP models real-world entities as software objects, which have some data associated with them and can perform certain functions.\n",
        "\n",
        "\n",
        "\n",
        "**NOTE:** Since Python is a multi-paradigm programming language, you can choose the paradigm that best suits the problem at hand, mix different paradigms in one program, and/or switch from one paradigm to another as your program evolves.\n"
      ]
    },
    {
      "cell_type": "markdown",
      "metadata": {
        "id": "R-wmDT9z_w0l",
        "colab_type": "text"
      },
      "source": [
        "\n",
        "# Python's Built-in Data Structures are Objects\n",
        "\n",
        "**In Python, *everything is an object*.** What is means, when I am creating any variable holding list, any variable holding a string value, or any data structure. They are basically the objects of their respective classes.\n",
        "\n",
        "\n",
        "Remember from previous lectures we can use type() to check the type of object something is:"
      ]
    },
    {
      "cell_type": "code",
      "metadata": {
        "id": "kuQJBNfX_w0p",
        "colab_type": "code",
        "outputId": "34f86103-9dfa-4364-d0bb-42dffcfd6d41",
        "colab": {
          "base_uri": "https://localhost:8080/",
          "height": 34
        }
      },
      "source": [
        "my_number = 1 \n",
        "print(type(my_number)) # my_number is a variable holding the object of class integer \n",
        "\n",
        "# Although the my_number is a variable, yet it is an object of the class 'int'.\n",
        "# Thats why we say that in Python, everthing is a object."
      ],
      "execution_count": 1,
      "outputs": [
        {
          "output_type": "stream",
          "text": [
            "<class 'int'>\n"
          ],
          "name": "stdout"
        }
      ]
    },
    {
      "cell_type": "code",
      "metadata": {
        "id": "pG5It3k1I7jZ",
        "colab_type": "code",
        "outputId": "747282ed-94a5-4e5c-d60a-dfca54e9889f",
        "colab": {
          "base_uri": "https://localhost:8080/",
          "height": 34
        }
      },
      "source": [
        "my_list = [] # my_list is a variable holding the object of class list \n",
        "print(type(my_list))\n",
        "\n",
        "\n",
        "# Although the my_list is a variable, yet it is an object of the class 'list'.\n",
        "# Thats why we say that in Python, everthing is a object."
      ],
      "execution_count": 0,
      "outputs": [
        {
          "output_type": "stream",
          "text": [
            "<class 'list'>\n"
          ],
          "name": "stdout"
        }
      ]
    },
    {
      "cell_type": "code",
      "metadata": {
        "id": "ToGy_ilUIrkt",
        "colab_type": "code",
        "outputId": "5109e822-7df4-4b40-e5e3-34df616735cb",
        "colab": {
          "base_uri": "https://localhost:8080/",
          "height": 34
        }
      },
      "source": [
        "my_tuple = () # my_tuple is a variable holding the object of class tuple \n",
        "print(type(my_tuple))"
      ],
      "execution_count": 0,
      "outputs": [
        {
          "output_type": "stream",
          "text": [
            "<class 'tuple'>\n"
          ],
          "name": "stdout"
        }
      ]
    },
    {
      "cell_type": "code",
      "metadata": {
        "id": "_6vyY1ozJdt3",
        "colab_type": "code",
        "outputId": "18f074fc-6062-4cf0-df97-e00be55e2ab1",
        "colab": {
          "base_uri": "https://localhost:8080/",
          "height": 34
        }
      },
      "source": [
        "my_dict = {} # my_dict is a variable holding the object of class dictionary \n",
        "print(type(my_dict))"
      ],
      "execution_count": 0,
      "outputs": [
        {
          "output_type": "stream",
          "text": [
            "<class 'dict'>\n"
          ],
          "name": "stdout"
        }
      ]
    },
    {
      "cell_type": "markdown",
      "metadata": {
        "collapsed": true,
        "id": "1VWGJy1z_wz1",
        "colab_type": "text"
      },
      "source": [
        "# So we know all these things/ built-in data stuctures are objects, so how can we create our own Object types?\n",
        "\n",
        "\n",
        "What we will basically be doing in this lecture is exploring how we could create an Object type like a list.\n",
        "\n",
        "That is where the following buzzwords comes in.\n",
        "\n",
        "In this lesson we will construct our knowledge of OOP in Python by building on the following topics:\n",
        "\n",
        "* Objects\n",
        "* Using the *class* keyword\n",
        "* Creating class attributes\n",
        "* Creating methods in a class\n",
        "* Learning about Inheritance\n",
        "* Learning about Polymorphism\n",
        "* Learning about Special Methods for classes\n",
        "\n",
        "\n",
        "# Basic Syntax\n",
        "\n",
        "    class ClassName:\n",
        "\n",
        "        def __init__(self, class_attribute_name1 , class_attribute_name2, class_attribute_name3 ):\n",
        "\n",
        "          self.class_attribute_name1 = class_attribute_name1\n",
        "          self.class_attribute_name2 = class_attribute_name2\n",
        "          self.class_attribute_name3 = class_attribute_name3\n",
        "\n",
        "        def class_method1(self):\n",
        "          ACTIONS using class attributes\n",
        "\n",
        "        def class_method_with_extra_parameters(self , extra_parameters):\n",
        "          ACTIONS using class attributes and extra_parameters\n",
        "\n",
        "\n",
        "      object_name = ClassName()\n",
        "\n",
        "      print(object_name.class_attribute_name1)\n",
        "      print(object_name.class_method1())\n",
        "      print(object_name.class_method_with_extra_parameters( extra_parameter) )\n",
        "\n",
        "        \n",
        "\n",
        "\n"
      ]
    },
    {
      "cell_type": "markdown",
      "metadata": {
        "id": "NHx099qv_w01",
        "colab_type": "text"
      },
      "source": [
        "\n",
        "# class\n",
        "\n",
        "**What is a class?**\n",
        "The class is a blueprint that defines the nature of a future object.\n",
        "\n",
        "**Why the classes are used?**\n",
        "Classes are used to create new user-defined objects that contain arbitrary information about something. \n",
        "\n",
        "**class keyword:** User defined objects are created using the <code>class</code> keyword.\n",
        "\n",
        "**Name of the Class:** By convention we give classes a name that starts with a capital letter. Inside of the class we currently just have pass. But we can define class attributes and methods.\n",
        "\n",
        "An **attribute** is a characteristic of an object.\n",
        "\n",
        "**Methods** are functions defined inside the body of a class. They are used to perform operations with the attributes of our objects. Methods are a key concept of the OOP paradigm. They are essential to dividing responsibilities in programming, especially in large applications.\n",
        "\n",
        "You can basically think of methods as functions acting on an Object that take the Object itself into account through its *self* argument.\n",
        "\n",
        "\n",
        "\n",
        "# Object / Instance of the class\n",
        "\n",
        "Once we have classes, then from classes we can construct instances. For example, above we created the object <code>lst</code> which was an instance of a list object. An instance is a specific object created from a particular class. \n",
        "\n",
        "\n",
        "Note how <code>x</code> is now the reference to our new instance of a Sample class. In other words, we **instantiate** the Sample class.\n",
        " \n",
        "# A Sample Class"
      ]
    },
    {
      "cell_type": "code",
      "metadata": {
        "id": "19jS73U2_w03",
        "colab_type": "code",
        "outputId": "1cad69b4-bfe8-4615-bb4c-2b8216e3b14d",
        "colab": {
          "base_uri": "https://localhost:8080/",
          "height": 34
        }
      },
      "source": [
        "# Create a new object type called Sample\n",
        "class Sample:\n",
        "    pass\n",
        "\n",
        "# Instance of Sample / Object of sample\n",
        "x = Sample()\n",
        "\n",
        "print(type(x))"
      ],
      "execution_count": 2,
      "outputs": [
        {
          "output_type": "stream",
          "text": [
            "<class '__main__.Sample'>\n"
          ],
          "name": "stdout"
        }
      ]
    },
    {
      "cell_type": "markdown",
      "metadata": {
        "id": "dVoCFiTE_w1E",
        "colab_type": "text"
      },
      "source": [
        "# Example Class to perform arithmetic operations on two numbers\n"
      ]
    },
    {
      "cell_type": "code",
      "metadata": {
        "id": "uiIkrRXYQNQx",
        "colab_type": "code",
        "colab": {}
      },
      "source": [
        "class AirthmeticOperations:\n",
        "\n",
        "  # This method is used to initialize the attributes of an object. \n",
        "  # The special method __init__() is called automatically right after the object has been created.\n",
        "  # It is sometimes known as a constructor.\n",
        "\n",
        "  def __init__(self, number_one , number_two ):\n",
        "    \n",
        "    # Creating class attributes\n",
        "    # Each attribute in a class definition begins with a reference to the instance object.\n",
        "    # It is by convention named self. The number_one , number_two are the arguments.\n",
        "    # The value is passed during the class instantiation.\n",
        "    # SYNTAX: self.attribute = something\n",
        "\n",
        "    self.number_one = number_one \n",
        "    self.number_two = number_two \n",
        "\n",
        "    # Operations using class attributes\n",
        "    self.addition_attribute = self.number_one + self.number_two \n",
        "\n",
        "  # Creating class methods\n",
        "  # Smililar to normal functions\n",
        "  # Pass 'self' as a parameter to access the class attributes in side the class methods\n",
        "  \n",
        "  def addition(self):\n",
        "    print(\"Addition method of AirthmeticOperations class\")\n",
        "    return self.number_one + self.number_two\n",
        "\n",
        "  def addition_with_extra_parameter(self , extra_parameter1, ep2, ep3, ep4):\n",
        "    print(f'Printing the value of the extra_parameter inside the class {extra_parameter1} {ep2} {ep3} {ep4}')\n",
        "    return self.number_one + self.number_two + extra_parameter1 + ep3 +ep4 + ep4\n",
        "\n",
        "\n",
        "#object1 = AirthmeticOperations() \n",
        "#object1 = AirthmeticOperations(4)\n",
        "object1 = AirthmeticOperations(4,5) \n"
      ],
      "execution_count": 0,
      "outputs": []
    },
    {
      "cell_type": "markdown",
      "metadata": {
        "id": "OqMD2vnSUd-D",
        "colab_type": "text"
      },
      "source": [
        "Check by writing the objectname and then dot (.) , you can notice the attributes and functions are appearing in the dropdown as they were appearing in the case of built-in python objects( eg: list, dictionay, tuples)\n"
      ]
    },
    {
      "cell_type": "code",
      "metadata": {
        "id": "WLYJxrvz_w0W",
        "colab_type": "code",
        "colab": {}
      },
      "source": [
        "# Remember how we could call methods on a list?\n",
        "\n",
        "lst = [1,2,3]"
      ],
      "execution_count": 0,
      "outputs": []
    },
    {
      "cell_type": "code",
      "metadata": {
        "id": "pPXLMD1m7-d2",
        "colab_type": "code",
        "colab": {}
      },
      "source": [
        "lst.append(4)\n",
        "lst.reverse()\n",
        "\n",
        "print(lst)"
      ],
      "execution_count": 0,
      "outputs": []
    },
    {
      "cell_type": "code",
      "metadata": {
        "id": "0Ov5vJtiT-df",
        "colab_type": "code",
        "colab": {}
      },
      "source": [
        "#object1. #In jupyter notebook press 'Tab' key to check the attributes and methods of the class"
      ],
      "execution_count": 0,
      "outputs": []
    },
    {
      "cell_type": "code",
      "metadata": {
        "id": "5LpFJuwIVIkW",
        "colab_type": "code",
        "outputId": "e3613145-3983-43d4-da66-1220a0e21868",
        "colab": {
          "base_uri": "https://localhost:8080/",
          "height": 34
        }
      },
      "source": [
        "# Access the value of the object1 attributes\n",
        "# Note how we don't have any parentheses after number_one; this is because it is an attribute and doesn't take any arguments.\n",
        "\n",
        "object1.number_one"
      ],
      "execution_count": 7,
      "outputs": [
        {
          "output_type": "execute_result",
          "data": {
            "text/plain": [
              "4"
            ]
          },
          "metadata": {
            "tags": []
          },
          "execution_count": 7
        }
      ]
    },
    {
      "cell_type": "code",
      "metadata": {
        "id": "duqcbbLjUCcI",
        "colab_type": "code",
        "outputId": "d34ac90b-5d89-41ee-a05e-be6af9fee32b",
        "colab": {
          "base_uri": "https://localhost:8080/",
          "height": 34
        }
      },
      "source": [
        "# Access the value of the object1 attributes\n",
        "object1.number_two"
      ],
      "execution_count": 8,
      "outputs": [
        {
          "output_type": "execute_result",
          "data": {
            "text/plain": [
              "5"
            ]
          },
          "metadata": {
            "tags": []
          },
          "execution_count": 8
        }
      ]
    },
    {
      "cell_type": "code",
      "metadata": {
        "id": "XtKyfI-DYN8I",
        "colab_type": "code",
        "outputId": "b3e51f4b-9ae2-4608-dd6b-0d9e959b2a93",
        "colab": {
          "base_uri": "https://localhost:8080/",
          "height": 34
        }
      },
      "source": [
        "# Access the addtion of the two numbers and result stored in the addition_attribute\n",
        "object1.addition_attribute"
      ],
      "execution_count": 14,
      "outputs": [
        {
          "output_type": "execute_result",
          "data": {
            "text/plain": [
              "9"
            ]
          },
          "metadata": {
            "tags": []
          },
          "execution_count": 14
        }
      ]
    },
    {
      "cell_type": "code",
      "metadata": {
        "id": "AuT9Yj_UUWVq",
        "colab_type": "code",
        "outputId": "6cdfb68b-ba6e-45ab-f1ae-788f55bf4088",
        "colab": {
          "base_uri": "https://localhost:8080/",
          "height": 52
        }
      },
      "source": [
        "# Access the method of the object1\n",
        "\n",
        "#addition_result = object1.addition\n",
        "addition_result = object1.addition()\n",
        "print(addition_result)"
      ],
      "execution_count": 12,
      "outputs": [
        {
          "output_type": "stream",
          "text": [
            "Addition method of AirthmeticOperations class\n",
            "9\n"
          ],
          "name": "stdout"
        }
      ]
    },
    {
      "cell_type": "code",
      "metadata": {
        "id": "Te-jjxHjZOIi",
        "colab_type": "code",
        "outputId": "b36a99e7-948c-4ee9-cbff-908f66f56d64",
        "colab": {
          "base_uri": "https://localhost:8080/",
          "height": 52
        }
      },
      "source": [
        "# Access the method of the object1\n",
        "\n",
        "# *args\n",
        "\n",
        "addition_with_extra_parameter_result = object1.addition_with_extra_parameter(6, 7, 8 , 9)\n",
        "print(addition_with_extra_parameter_result)"
      ],
      "execution_count": 20,
      "outputs": [
        {
          "output_type": "stream",
          "text": [
            "Printing the value of the extra_parameter inside the class 6 7 8 9\n",
            "41\n"
          ],
          "name": "stdout"
        }
      ]
    },
    {
      "cell_type": "markdown",
      "metadata": {
        "id": "8xmqFH3wOFoN",
        "colab_type": "text"
      },
      "source": [
        "# Example of the Another Class\n",
        "\n",
        "\n",
        "For example, we can create a class called Dog.\n",
        "\n",
        "## Attributes and Methods\n",
        "\n",
        "An attribute of a dog may be its breed or its name.\n",
        "While a method of a dog may be defined by a .bark() method which returns a sound.\n"
      ]
    },
    {
      "cell_type": "code",
      "metadata": {
        "id": "Q7r_BCZd_w1H",
        "colab_type": "code",
        "colab": {}
      },
      "source": [
        "class Dog:\n",
        "    \n",
        "    def __init__(self,breed):\n",
        "        self.breed = breed\n",
        "        \n",
        "#dog1 = Dog(breed='Lab')\n",
        "dog1 = Dog('Lab')\n",
        "\n",
        "\n",
        "#dog2 = Dog(breed='Huskie')\n",
        "dog2 = Dog('Huskie')"
      ],
      "execution_count": 0,
      "outputs": []
    },
    {
      "cell_type": "markdown",
      "metadata": {
        "id": "SrxVUpEe_w1X",
        "colab_type": "text"
      },
      "source": [
        "Now we have created two instances of the Dog class. With two breed types, we can then access these attributes like this:"
      ]
    },
    {
      "cell_type": "code",
      "metadata": {
        "id": "mmf2glMd_w1Y",
        "colab_type": "code",
        "outputId": "01470a66-308c-4418-c3e7-58319ed5357e",
        "colab": {
          "base_uri": "https://localhost:8080/",
          "height": 34
        }
      },
      "source": [
        "dog1.breed"
      ],
      "execution_count": 22,
      "outputs": [
        {
          "output_type": "execute_result",
          "data": {
            "text/plain": [
              "'Lab'"
            ]
          },
          "metadata": {
            "tags": []
          },
          "execution_count": 22
        }
      ]
    },
    {
      "cell_type": "code",
      "metadata": {
        "id": "v6Acn64t_w1h",
        "colab_type": "code",
        "outputId": "33e18c91-c30c-44f4-c6b5-981248457f96",
        "colab": {
          "base_uri": "https://localhost:8080/",
          "height": 34
        }
      },
      "source": [
        "dog2.breed"
      ],
      "execution_count": 23,
      "outputs": [
        {
          "output_type": "execute_result",
          "data": {
            "text/plain": [
              "'Huskie'"
            ]
          },
          "metadata": {
            "tags": []
          },
          "execution_count": 23
        }
      ]
    },
    {
      "cell_type": "markdown",
      "metadata": {
        "id": "Dj8PpphE_w1q",
        "colab_type": "text"
      },
      "source": [
        "# class object attributes\n",
        "\n",
        "In Python there are also *class object attributes*. These Class Object Attributes are the same for any instance of the class.\n",
        "\n",
        "For example, we could create the attribute *species* for the Dog class. Dogs, regardless of their breed, name, or other attributes, will always be mammals. We apply this logic in the following manner:"
      ]
    },
    {
      "cell_type": "code",
      "metadata": {
        "id": "d0dbGohe_w1s",
        "colab_type": "code",
        "colab": {}
      },
      "source": [
        "class Dog:\n",
        "    \n",
        "    # Class Object Attribute\n",
        "    species = 'mammal'\n",
        "    \n",
        "    def __init__(self,breed,name):\n",
        "        self.breed = breed\n",
        "        self.name = name"
      ],
      "execution_count": 0,
      "outputs": []
    },
    {
      "cell_type": "code",
      "metadata": {
        "id": "yb4KP9B5_w11",
        "colab_type": "code",
        "colab": {}
      },
      "source": [
        "dog1 = Dog(name = 'Sam', breed = 'Lab')\n",
        "dog2 = Dog(name = 'Sammy', breed = 'Huskie')"
      ],
      "execution_count": 0,
      "outputs": []
    },
    {
      "cell_type": "code",
      "metadata": {
        "id": "qZT7T7S-CWPD",
        "colab_type": "code",
        "colab": {
          "base_uri": "https://localhost:8080/",
          "height": 34
        },
        "outputId": "005da8c1-ec53-4322-835d-e7e6b49369f2"
      },
      "source": [
        "dog1.name"
      ],
      "execution_count": 42,
      "outputs": [
        {
          "output_type": "execute_result",
          "data": {
            "text/plain": [
              "'Sam'"
            ]
          },
          "metadata": {
            "tags": []
          },
          "execution_count": 42
        }
      ]
    },
    {
      "cell_type": "code",
      "metadata": {
        "id": "yM_rjM02CgtS",
        "colab_type": "code",
        "colab": {
          "base_uri": "https://localhost:8080/",
          "height": 34
        },
        "outputId": "04edf121-d883-4067-c8ba-3b16432345bc"
      },
      "source": [
        "dog2.name"
      ],
      "execution_count": 43,
      "outputs": [
        {
          "output_type": "execute_result",
          "data": {
            "text/plain": [
              "'Sammy'"
            ]
          },
          "metadata": {
            "tags": []
          },
          "execution_count": 43
        }
      ]
    },
    {
      "cell_type": "code",
      "metadata": {
        "id": "C_0-HSfJ_w2A",
        "colab_type": "code",
        "outputId": "c51ecfd5-c176-479f-fd33-c4c684faedd4",
        "colab": {
          "base_uri": "https://localhost:8080/",
          "height": 34
        }
      },
      "source": [
        "dog1.species"
      ],
      "execution_count": 38,
      "outputs": [
        {
          "output_type": "execute_result",
          "data": {
            "text/plain": [
              "'mammal'"
            ]
          },
          "metadata": {
            "tags": []
          },
          "execution_count": 38
        }
      ]
    },
    {
      "cell_type": "code",
      "metadata": {
        "id": "xckGqJbuCdA1",
        "colab_type": "code",
        "colab": {
          "base_uri": "https://localhost:8080/",
          "height": 34
        },
        "outputId": "c8be5227-8a03-491a-a479-b48d69d9ce16"
      },
      "source": [
        "dog2.species"
      ],
      "execution_count": 39,
      "outputs": [
        {
          "output_type": "execute_result",
          "data": {
            "text/plain": [
              "'mammal'"
            ]
          },
          "metadata": {
            "tags": []
          },
          "execution_count": 39
        }
      ]
    },
    {
      "cell_type": "markdown",
      "metadata": {
        "id": "KbdeCUZy_w2K",
        "colab_type": "text"
      },
      "source": [
        "Note that the Class Object Attribute is defined outside of any methods in the class. Also by convention, we place them first before the init."
      ]
    },
    {
      "cell_type": "code",
      "metadata": {
        "id": "rnL8pya3_w2L",
        "colab_type": "code",
        "outputId": "ae5f7125-23bf-4195-a39a-9b64393552c4",
        "colab": {
          "base_uri": "https://localhost:8080/",
          "height": 34
        }
      },
      "source": [
        "dog1.species"
      ],
      "execution_count": 0,
      "outputs": [
        {
          "output_type": "execute_result",
          "data": {
            "text/plain": [
              "'mammal'"
            ]
          },
          "metadata": {
            "tags": []
          },
          "execution_count": 98
        }
      ]
    },
    {
      "cell_type": "markdown",
      "metadata": {
        "id": "qyPRKi8K_w2Y",
        "colab_type": "text"
      },
      "source": [
        "# An example of creating a Circle class:"
      ]
    },
    {
      "cell_type": "code",
      "metadata": {
        "id": "ajX3-bqy_w2Z",
        "colab_type": "code",
        "outputId": "3bf09f22-6692-435c-c2f3-ef4102dbe427",
        "colab": {
          "base_uri": "https://localhost:8080/",
          "height": 208
        }
      },
      "source": [
        "class Circle:\n",
        "    pi = 3.14\n",
        "\n",
        "    # Circle gets instantiated with a radius (default is 1)\n",
        "    def __init__(self, radius = 1):\n",
        "        self.radius = radius \n",
        "        self.area = radius * radius * Circle.pi\n",
        "\n",
        "    # Method for getting Circumference\n",
        "    def getCircumference(self):\n",
        "        return self.radius * self.pi * 2\n",
        "\n",
        "\n",
        "\n",
        "print(' ---------- Circle with default value ----------- ')\n",
        "c = Circle() # It will not cause an error as default value of radius is set = 1.\n",
        "print('Radius is: ',c.radius)\n",
        "print('Area is: ',c.area)\n",
        "print('Circumference is: ',c.getCircumference())\n",
        "\n",
        "\n",
        "\n",
        "print(' \\n\\n\\n---------- Circle with 5 as a radius ----------- ')\n",
        "\n",
        "c = Circle(5) \n",
        "print('Radius is: ',c.radius)\n",
        "print('Area is: ',c.area)\n",
        "print('Circumference is: ',c.getCircumference())\n"
      ],
      "execution_count": 47,
      "outputs": [
        {
          "output_type": "stream",
          "text": [
            " ---------- Circle with default value ----------- \n",
            "Radius is:  1\n",
            "Area is:  3.14\n",
            "Circumference is:  6.28\n",
            " \n",
            "\n",
            "\n",
            "---------- Circle with 5 as a radius ----------- \n",
            "Radius is:  5\n",
            "Area is:  78.5\n",
            "Circumference is:  31.400000000000002\n"
          ],
          "name": "stdout"
        }
      ]
    },
    {
      "cell_type": "markdown",
      "metadata": {
        "id": "z5jWXHIS_w2h",
        "colab_type": "text"
      },
      "source": [
        "In the \\__init__ method above, in order to calculate the area attribute, we had to call Circle.pi. This is because the object does not yet have its own .pi attribute, so we call the Class Object Attribute pi instead.<br>\n",
        "In the setRadius method, however, we'll be working with an existing Circle object that does have its own pi attribute. Here we can use either Circle.pi or self.pi.<br><br>\n",
        "Now let's change the radius and see how that affects our Circle object:"
      ]
    },
    {
      "cell_type": "code",
      "metadata": {
        "id": "g9mt1cTn_w2i",
        "colab_type": "code",
        "outputId": "f38f3ec7-f2bd-4645-bc3d-43105b673db3",
        "colab": {
          "base_uri": "https://localhost:8080/",
          "height": 86
        }
      },
      "source": [
        "class Circle:\n",
        "    pi = 3.14\n",
        "\n",
        "    # Circle gets instantiated with a radius (default is 1)\n",
        "    def __init__(self, radius=1):\n",
        "        self.radius = radius \n",
        "        self.area = radius * radius * Circle.pi\n",
        "\n",
        "    # Method for getting Circumference\n",
        "    def getCircumference(self):\n",
        "        return self.radius * self.pi * 2\n",
        "\n",
        "    # New Method added for resetting Radius\n",
        "    def setRadius(self, new_radius):\n",
        "        self.radius = new_radius\n",
        "        self.area = new_radius * new_radius * self.pi\n",
        "\n",
        "\n",
        "\n",
        "c = Circle()\n",
        "c.setRadius(5)\n",
        "\n",
        "print('New Radius with extra parameter is: ')\n",
        "print('Radius is: ',c.radius)\n",
        "print('Area is: ',c.area)\n",
        "print('Circumference is: ',c.getCircumference())"
      ],
      "execution_count": 50,
      "outputs": [
        {
          "output_type": "stream",
          "text": [
            "New Radius with extra parameter is: \n",
            "Radius is:  5\n",
            "Area is:  78.5\n",
            "Circumference is:  31.400000000000002\n"
          ],
          "name": "stdout"
        }
      ]
    },
    {
      "cell_type": "markdown",
      "metadata": {
        "id": "TPfOGq7S_w2t",
        "colab_type": "text"
      },
      "source": [
        "Great! Notice how we used self. notation to reference attributes of the class within the method calls. Review how the code above works and try creating your own method.\n",
        "\n",
        "## Inheritance\n",
        "\n",
        "Inheritance is a way to form new classes using classes that have already been defined. The newly formed classes are called derived classes, the classes that we derive from are called base classes. Important benefits of inheritance are code reuse and reduction of complexity of a program. The derived classes (descendants) override or extend the functionality of base classes (ancestors).\n",
        "\n",
        "Let's see an example by incorporating our previous work on the Dog class:"
      ]
    },
    {
      "cell_type": "code",
      "metadata": {
        "id": "7LV1Ihx27yn9",
        "colab_type": "code",
        "outputId": "602a8b6e-db13-4f7a-b8ae-2686cd2c2969",
        "colab": {
          "base_uri": "https://localhost:8080/",
          "height": 52
        }
      },
      "source": [
        "class AirthmeticOperations:\n",
        "\n",
        "  def __init__(self, number_one , number_two ):\n",
        "    \n",
        "    self.number_one = number_one \n",
        "    self.number_two = number_two \n",
        "\n",
        "    self.addition_attribute = self.number_one + self.number_two \n",
        "\n",
        "  def addition(self):\n",
        "    return self.number_one + self.number_two\n",
        "\n",
        "  def addition_with_extra_parameter(self , extra_parameter):\n",
        "    print(f'Printing the value of the extra_parameter inside the class {extra_parameter} ')\n",
        "    return self.number_one + self.number_two + extra_parameter\n",
        "\n",
        "\n",
        "class AdvanceAirthmeticOperations(AirthmeticOperations):\n",
        "\n",
        "  def __init__(self, number_one , number_two ):\n",
        "\n",
        "    AirthmeticOperations.__init__(self, number_one , number_two)\n",
        "    self.number_one = number_one \n",
        "    self.number_two = number_two \n",
        "    \n",
        "  def substraction(self):\n",
        "    return self.number_one - self.number_two\n",
        "\n",
        "\n",
        "object1 = AdvanceAirthmeticOperations(4,5) \n",
        "print( f'Addition  = {object1.addition()}')\n",
        "print( f'Substraction  = {object1.substraction()}')\n"
      ],
      "execution_count": 0,
      "outputs": [
        {
          "output_type": "stream",
          "text": [
            "Addition  = 9\n",
            "Substraction  = -1\n"
          ],
          "name": "stdout"
        }
      ]
    },
    {
      "cell_type": "code",
      "metadata": {
        "id": "wRUFsMB__w2u",
        "colab_type": "code",
        "colab": {}
      },
      "source": [
        "class Animal:\n",
        "    def __init__(self):\n",
        "        print(\"Special method of Dog Class called. ------------> Animal created\")\n",
        "\n",
        "    def whoAmI(self):\n",
        "        print(\"Animal\")\n",
        "\n",
        "    def eat(self):\n",
        "        print(\"Eating\")\n",
        "\n",
        "\n",
        "class Dog(Animal):\n",
        "    def __init__(self):\n",
        "        Animal.__init__(self)\n",
        "        print(\"Special method of Dog Class called. ------------> Dog created\")\n",
        "\n",
        "    def whoAmI(self):\n",
        "        print(\"Dog\")\n",
        "\n",
        "    def bark(self):\n",
        "        print(\"Dog barking...... Woof! Woof! Woof!\")"
      ],
      "execution_count": 0,
      "outputs": []
    },
    {
      "cell_type": "code",
      "metadata": {
        "id": "u2ZINRT4_w21",
        "colab_type": "code",
        "outputId": "e3b7e91f-8806-4230-c50b-4ac10078ee36",
        "colab": {
          "base_uri": "https://localhost:8080/",
          "height": 52
        }
      },
      "source": [
        "d = Dog()"
      ],
      "execution_count": 0,
      "outputs": [
        {
          "output_type": "stream",
          "text": [
            "Special method of Dog Class called. ------------> Animal created\n",
            "Special method of Dog Class called. ------------> Dog created\n"
          ],
          "name": "stdout"
        }
      ]
    },
    {
      "cell_type": "code",
      "metadata": {
        "id": "Kuw-Ld-I_w3F",
        "colab_type": "code",
        "outputId": "236bbd0d-14ce-4c29-d5d5-f1bebaa47e4d",
        "colab": {
          "base_uri": "https://localhost:8080/",
          "height": 34
        }
      },
      "source": [
        "# Calling the method of base class\n",
        "d.eat()"
      ],
      "execution_count": 0,
      "outputs": [
        {
          "output_type": "stream",
          "text": [
            "Eating\n"
          ],
          "name": "stdout"
        }
      ]
    },
    {
      "cell_type": "code",
      "metadata": {
        "id": "JXSmx10O_w2-",
        "colab_type": "code",
        "outputId": "a7f3c165-fffb-4e1a-fb5f-39d6cfa84dfc",
        "colab": {
          "base_uri": "https://localhost:8080/",
          "height": 34
        }
      },
      "source": [
        "# Overrides the method of base class\n",
        "d.whoAmI()"
      ],
      "execution_count": 0,
      "outputs": [
        {
          "output_type": "stream",
          "text": [
            "Dog\n"
          ],
          "name": "stdout"
        }
      ]
    },
    {
      "cell_type": "code",
      "metadata": {
        "id": "6MQx1OWK_w3O",
        "colab_type": "code",
        "outputId": "d607d45a-13b1-4fa2-d7b1-6f3373f852d1",
        "colab": {
          "base_uri": "https://localhost:8080/",
          "height": 34
        }
      },
      "source": [
        "# Calling the method of the derived class\n",
        "d.bark()"
      ],
      "execution_count": 0,
      "outputs": [
        {
          "output_type": "stream",
          "text": [
            "Dog barking...... Woof! Woof! Woof!\n"
          ],
          "name": "stdout"
        }
      ]
    },
    {
      "cell_type": "markdown",
      "metadata": {
        "id": "jKRAob-5_w3Y",
        "colab_type": "text"
      },
      "source": [
        "In this example, we have two classes: Animal and Dog. The Animal is the base class, the Dog is the derived class. \n",
        "\n",
        "The derived class inherits the functionality of the base class. \n",
        "\n",
        "* It is shown by the eat() method. \n",
        "\n",
        "The derived class modifies existing behavior of the base class.\n",
        "\n",
        "* shown by the whoAmI() method. \n",
        "\n",
        "Finally, the derived class extends the functionality of the base class, by defining a new bark() method."
      ]
    },
    {
      "cell_type": "markdown",
      "metadata": {
        "id": "H7NBwB4-_w3Y",
        "colab_type": "text"
      },
      "source": [
        "## Polymorphism\n",
        "\n",
        "We've learned that while functions can take in different arguments, methods belong to the objects they act on. \n",
        "\n",
        "In Python, *polymorphism* refers to the way in which different object classes can share the same method name, and those methods can be called from the same place even though a variety of different objects might be passed in. The best way to explain this is by example:"
      ]
    },
    {
      "cell_type": "code",
      "metadata": {
        "id": "Uc9A5Jrn_w3a",
        "colab_type": "code",
        "outputId": "990f417a-ac2c-4654-8d79-56e5c9ce0ca0",
        "colab": {
          "base_uri": "https://localhost:8080/",
          "height": 52
        }
      },
      "source": [
        "class Dog:\n",
        "    def __init__(self, name):\n",
        "        self.name = name\n",
        "\n",
        "    def speak(self):\n",
        "        return self.name+' says Woof!'\n",
        "    \n",
        "class Cat:\n",
        "    def __init__(self, name):\n",
        "        self.name = name\n",
        "\n",
        "    def speak(self):\n",
        "        return self.name+' says Meow!' \n",
        "    \n",
        "niko = Dog('Niko')\n",
        "felix = Cat('Felix')\n",
        "\n",
        "print(niko.speak())\n",
        "print(felix.speak())"
      ],
      "execution_count": 0,
      "outputs": [
        {
          "output_type": "stream",
          "text": [
            "Niko says Woof!\n",
            "Felix says Meow!\n"
          ],
          "name": "stdout"
        }
      ]
    },
    {
      "cell_type": "markdown",
      "metadata": {
        "id": "j53dRMMH_w3i",
        "colab_type": "text"
      },
      "source": [
        "Here we have a Dog class and a Cat class, and each has a `.speak()` method. When called, each object's `.speak()` method returns a result unique to the object.\n",
        "\n",
        "There a few different ways to demonstrate polymorphism. First, with a for loop:"
      ]
    },
    {
      "cell_type": "code",
      "metadata": {
        "id": "Nd3W1lX8_w3k",
        "colab_type": "code",
        "outputId": "e0f876b1-4be0-4c15-d400-c18a6a94a6c3",
        "colab": {
          "base_uri": "https://localhost:8080/",
          "height": 52
        }
      },
      "source": [
        "for pet in [niko,felix]:\n",
        "    print(pet.speak())"
      ],
      "execution_count": 0,
      "outputs": [
        {
          "output_type": "stream",
          "text": [
            "Niko says Woof!\n",
            "Felix says Meow!\n"
          ],
          "name": "stdout"
        }
      ]
    },
    {
      "cell_type": "markdown",
      "metadata": {
        "id": "deZTwhmj_w3q",
        "colab_type": "text"
      },
      "source": [
        "Another is with functions:"
      ]
    },
    {
      "cell_type": "code",
      "metadata": {
        "id": "pKS-SjZ5_w3s",
        "colab_type": "code",
        "outputId": "6fc435b0-4808-4fca-8c94-ef7a4229d7a8",
        "colab": {
          "base_uri": "https://localhost:8080/",
          "height": 52
        }
      },
      "source": [
        "def pet_speak(pet):\n",
        "    print(pet.speak())\n",
        "\n",
        "pet_speak(niko)\n",
        "pet_speak(felix)"
      ],
      "execution_count": 0,
      "outputs": [
        {
          "output_type": "stream",
          "text": [
            "Niko says Woof!\n",
            "Felix says Meow!\n"
          ],
          "name": "stdout"
        }
      ]
    },
    {
      "cell_type": "markdown",
      "metadata": {
        "id": "_dZd1eK1_w33",
        "colab_type": "text"
      },
      "source": [
        "In both cases we were able to pass in different object types, and we obtained object-specific results from the same mechanism.\n",
        "\n",
        "A more common practice is to use abstract classes and inheritance. An abstract class is one that never expects to be instantiated. For example, we will never have an Animal object, only Dog and Cat objects, although Dogs and Cats are derived from Animals:"
      ]
    },
    {
      "cell_type": "code",
      "metadata": {
        "id": "V73kb7Om_w34",
        "colab_type": "code",
        "outputId": "06f6cb1b-5497-476f-8bec-a19eff560d16",
        "colab": {
          "base_uri": "https://localhost:8080/",
          "height": 52
        }
      },
      "source": [
        "class Animal:\n",
        "    def __init__(self, name):    # Constructor of the class\n",
        "        self.name = name\n",
        "\n",
        "    def speak(self):              # Abstract method, defined by convention only\n",
        "        raise NotImplementedError(\"Subclass must implement abstract method\")\n",
        "\n",
        "\n",
        "class Dog(Animal):\n",
        "    \n",
        "    def speak(self):\n",
        "        return self.name+' says Woof!'\n",
        "    \n",
        "class Cat(Animal):\n",
        "\n",
        "    def speak(self):\n",
        "        return self.name+' says Meow!'\n",
        "    \n",
        "fido = Dog('Fido')\n",
        "isis = Cat('Isis')\n",
        "\n",
        "print(fido.speak())\n",
        "print(isis.speak())"
      ],
      "execution_count": 0,
      "outputs": [
        {
          "output_type": "stream",
          "text": [
            "Fido says Woof!\n",
            "Isis says Meow!\n"
          ],
          "name": "stdout"
        }
      ]
    },
    {
      "cell_type": "markdown",
      "metadata": {
        "id": "w_SZzYTF_w4M",
        "colab_type": "text"
      },
      "source": [
        "Real life examples of polymorphism include:\n",
        "* opening different file types - different tools are needed to display Word, pdf and Excel files\n",
        "* adding different objects - the `+` operator performs arithmetic and concatenation"
      ]
    },
    {
      "cell_type": "markdown",
      "metadata": {
        "id": "5AVaIGoE_w4O",
        "colab_type": "text"
      },
      "source": [
        "## Special Methods\n",
        "Finally let's go over special methods. Classes in Python can implement certain operations with special method names. These methods are not actually called directly but by Python specific language syntax. For example let's create a Book class:"
      ]
    },
    {
      "cell_type": "code",
      "metadata": {
        "id": "pG7vAqSD_w4R",
        "colab_type": "code",
        "colab": {}
      },
      "source": [
        "class Book:\n",
        "    def __init__(self, title, author, pages):\n",
        "        print(\"A book is created\")\n",
        "        self.title = title\n",
        "        self.author = author\n",
        "        self.pages = pages\n",
        "\n",
        "    def __str__(self):\n",
        "        return \"Title: %s, author: %s, pages: %s\" %(self.title, self.author, self.pages)\n",
        "\n",
        "    def __len__(self):\n",
        "        return self.pages\n",
        "\n",
        "    def __del__(self):\n",
        "        print(\"A book is destroyed\")"
      ],
      "execution_count": 0,
      "outputs": []
    },
    {
      "cell_type": "code",
      "metadata": {
        "id": "0XGLCsua_w4b",
        "colab_type": "code",
        "outputId": "3b72f5f5-56b1-418c-a14b-c367f2e97f4d",
        "colab": {
          "base_uri": "https://localhost:8080/",
          "height": 86
        }
      },
      "source": [
        "book = Book(\"Learning Python!\", \"Harpreet Kaur\", 159)\n",
        "\n",
        "#Special Methods\n",
        "print(book)\n",
        "print(len(book))\n",
        "del book"
      ],
      "execution_count": 0,
      "outputs": [
        {
          "output_type": "stream",
          "text": [
            "A book is created\n",
            "Title: Learning Python!, author: Harpreet Kaur, pages: 159\n",
            "159\n",
            "A book is destroyed\n"
          ],
          "name": "stdout"
        }
      ]
    },
    {
      "cell_type": "markdown",
      "metadata": {
        "id": "g1hd5oi5_w4g",
        "colab_type": "text"
      },
      "source": [
        "    The __init__(), __str__(), __len__() and __del__() methods\n",
        "These special methods are defined by their use of underscores. They allow us to use Python specific functions on objects created through our class.\n",
        "\n",
        "**Great! After this lecture you should have a basic understanding of how to create your own objects with class in Python. You will be utilizing this heavily in your next milestone project!**\n",
        "\n",
        "For more great resources on this topic, check out:\n",
        "\n",
        "[Jeff Knupp's Post](https://jeffknupp.com/blog/2014/06/18/improve-your-python-python-classes-and-object-oriented-programming/)\n",
        "\n",
        "[Mozilla's Post](https://developer.mozilla.org/en-US/Learn/Python/Quickly_Learn_Object_Oriented_Programming)\n",
        "\n",
        "[Tutorial's Point](http://www.tutorialspoint.com/python/python_classes_objects.htm)\n",
        "\n",
        "[Official Documentation](https://docs.python.org/3/tutorial/classes.html)"
      ]
    }
  ]
}