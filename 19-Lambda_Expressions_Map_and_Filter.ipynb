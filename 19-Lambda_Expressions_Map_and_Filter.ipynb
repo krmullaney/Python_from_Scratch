{
  "nbformat": 4,
  "nbformat_minor": 0,
  "metadata": {
    "kernelspec": {
      "display_name": "Python 3",
      "language": "python",
      "name": "python3"
    },
    "language_info": {
      "codemirror_mode": {
        "name": "ipython",
        "version": 3
      },
      "file_extension": ".py",
      "mimetype": "text/x-python",
      "name": "python",
      "nbconvert_exporter": "python",
      "pygments_lexer": "ipython3",
      "version": "3.6.1"
    },
    "colab": {
      "name": "05-Lambda-Expressions-Map-and-Filter.ipynb",
      "provenance": [],
      "collapsed_sections": []
    }
  },
  "cells": [
    {
      "cell_type": "markdown",
      "metadata": {
        "id": "zV89yAJQk-Jl",
        "colab_type": "text"
      },
      "source": [
        "# Lambda Expressions, Map, and Filter\n",
        "\n",
        "Now its time to quickly learn about two built in functions, filter and map. Once we learn about how these operate, we can learn about the lambda expression, which will come in handy when you begin to develop your skills further!"
      ]
    },
    {
      "cell_type": "markdown",
      "metadata": {
        "id": "1UsZNn2uk-Js",
        "colab_type": "text"
      },
      "source": [
        "## map function : \"map\" a function to an iterable object\n",
        "\n",
        "The **map** function allows you to \"map\" a function to an iterable object. That is to say you can quickly call the same function to every item in an iterable, such as a list. For example:"
      ]
    },
    {
      "cell_type": "code",
      "metadata": {
        "id": "6AU_CRGrk-Jy",
        "colab_type": "code",
        "colab": {}
      },
      "source": [
        "def square(num):\n",
        "    return num**2"
      ],
      "execution_count": 0,
      "outputs": []
    },
    {
      "cell_type": "code",
      "metadata": {
        "id": "QJ-j5WRHk-KR",
        "colab_type": "code",
        "colab": {}
      },
      "source": [
        "my_nums = [1,2,3,4,5]"
      ],
      "execution_count": 0,
      "outputs": []
    },
    {
      "cell_type": "code",
      "metadata": {
        "id": "ndSwTJKGCstZ",
        "colab_type": "code",
        "colab": {}
      },
      "source": [
        "my_list = []\n",
        "for num in my_nums:\n",
        "  my_list.append(square(num))"
      ],
      "execution_count": 0,
      "outputs": []
    },
    {
      "cell_type": "code",
      "metadata": {
        "id": "ixoYJ-WkC8pm",
        "colab_type": "code",
        "colab": {
          "base_uri": "https://localhost:8080/",
          "height": 34
        },
        "outputId": "bce10797-a933-4099-d552-fe4163d07a35"
      },
      "source": [
        "my_list"
      ],
      "execution_count": 5,
      "outputs": [
        {
          "output_type": "execute_result",
          "data": {
            "text/plain": [
              "[1, 4, 9, 16, 25]"
            ]
          },
          "metadata": {
            "tags": []
          },
          "execution_count": 5
        }
      ]
    },
    {
      "cell_type": "code",
      "metadata": {
        "id": "Q5tYKUhzk-Kj",
        "colab_type": "code",
        "outputId": "4289b327-8862-4cd7-ea56-188d6070e9ef",
        "colab": {
          "base_uri": "https://localhost:8080/",
          "height": 34
        }
      },
      "source": [
        "map(square,my_nums) "
      ],
      "execution_count": 6,
      "outputs": [
        {
          "output_type": "execute_result",
          "data": {
            "text/plain": [
              "<map at 0x7fe584deda20>"
            ]
          },
          "metadata": {
            "tags": []
          },
          "execution_count": 6
        }
      ]
    },
    {
      "cell_type": "code",
      "metadata": {
        "id": "41ZH3sUZDqAF",
        "colab_type": "code",
        "colab": {
          "base_uri": "https://localhost:8080/",
          "height": 34
        },
        "outputId": "83226bdf-9738-4287-a3af-c10fc35e7b29"
      },
      "source": [
        "list(range(20))"
      ],
      "execution_count": 8,
      "outputs": [
        {
          "output_type": "execute_result",
          "data": {
            "text/plain": [
              "[0, 1, 2, 3, 4, 5, 6, 7, 8, 9, 10, 11, 12, 13, 14, 15, 16, 17, 18, 19]"
            ]
          },
          "metadata": {
            "tags": []
          },
          "execution_count": 8
        }
      ]
    },
    {
      "cell_type": "code",
      "metadata": {
        "id": "-75ZuA12k-K4",
        "colab_type": "code",
        "outputId": "1ca933fa-622e-484b-e65a-96c650c3d34c",
        "colab": {
          "base_uri": "https://localhost:8080/",
          "height": 34
        }
      },
      "source": [
        "# To get the results, either iterate through map() \n",
        "# or just cast to a list  # similar to range list(range(0,10))\n",
        "\n",
        "list(map(square,my_nums))"
      ],
      "execution_count": 11,
      "outputs": [
        {
          "output_type": "execute_result",
          "data": {
            "text/plain": [
              "[1, 4, 9, 16, 25]"
            ]
          },
          "metadata": {
            "tags": []
          },
          "execution_count": 11
        }
      ]
    },
    {
      "cell_type": "markdown",
      "metadata": {
        "id": "3LaGTeHqk-LJ",
        "colab_type": "text"
      },
      "source": [
        "The functions can also be more complex"
      ]
    },
    {
      "cell_type": "code",
      "metadata": {
        "id": "LE3occHGk-LM",
        "colab_type": "code",
        "colab": {}
      },
      "source": [
        "def splicer(mystring):\n",
        "    if len(mystring) % 2 == 0:\n",
        "        return 'even'\n",
        "    else:\n",
        "        return mystring[0]"
      ],
      "execution_count": 0,
      "outputs": []
    },
    {
      "cell_type": "code",
      "metadata": {
        "id": "-xBXRJb4k-Le",
        "colab_type": "code",
        "colab": {}
      },
      "source": [
        "mynames = ['Happy', 'Kristin' , 'John', 'Cindy', 'Sarah', 'Kelly', 'Mike']"
      ],
      "execution_count": 0,
      "outputs": []
    },
    {
      "cell_type": "code",
      "metadata": {
        "id": "k9sOh-kKk-Lq",
        "colab_type": "code",
        "colab": {}
      },
      "source": [
        "#list(map(splicer,mynames))"
      ],
      "execution_count": 0,
      "outputs": []
    },
    {
      "cell_type": "code",
      "metadata": {
        "id": "LByLs875EZOb",
        "colab_type": "code",
        "colab": {
          "base_uri": "https://localhost:8080/",
          "height": 34
        },
        "outputId": "d56632d4-e56c-4ddf-fb30-7d465cc68170"
      },
      "source": [
        "list( map(splicer , mynames) )"
      ],
      "execution_count": 22,
      "outputs": [
        {
          "output_type": "execute_result",
          "data": {
            "text/plain": [
              "['H', 'K', 'even', 'C', 'S', 'K', 'even']"
            ]
          },
          "metadata": {
            "tags": []
          },
          "execution_count": 22
        }
      ]
    },
    {
      "cell_type": "markdown",
      "metadata": {
        "id": "DvvOt-U8k-L1",
        "colab_type": "text"
      },
      "source": [
        "## filter function\n",
        "\n",
        "The filter function returns an iterator yielding those items of iterable for which function(item)\n",
        "is true. Meaning you need to filter by a function that returns either True or False. Then passing that into filter (along with your iterable) and you will get back only the results that would return True when passed to the function."
      ]
    },
    {
      "cell_type": "code",
      "metadata": {
        "id": "DyDCpu5IFOzC",
        "colab_type": "code",
        "colab": {
          "base_uri": "https://localhost:8080/",
          "height": 34
        },
        "outputId": "87ec328b-6eac-4000-e910-66908b6f0cbb"
      },
      "source": [
        "5 % 2 == 0 "
      ],
      "execution_count": 23,
      "outputs": [
        {
          "output_type": "execute_result",
          "data": {
            "text/plain": [
              "False"
            ]
          },
          "metadata": {
            "tags": []
          },
          "execution_count": 23
        }
      ]
    },
    {
      "cell_type": "code",
      "metadata": {
        "id": "LswQeoG8FRk0",
        "colab_type": "code",
        "colab": {
          "base_uri": "https://localhost:8080/",
          "height": 34
        },
        "outputId": "c5a82ea6-40a9-40cf-e818-fdca8a246b60"
      },
      "source": [
        "6 % 2 == 0 "
      ],
      "execution_count": 24,
      "outputs": [
        {
          "output_type": "execute_result",
          "data": {
            "text/plain": [
              "True"
            ]
          },
          "metadata": {
            "tags": []
          },
          "execution_count": 24
        }
      ]
    },
    {
      "cell_type": "code",
      "metadata": {
        "id": "witZbb-Ok-L3",
        "colab_type": "code",
        "colab": {}
      },
      "source": [
        "def check_even(num):\n",
        "    return num % 2 == 0 "
      ],
      "execution_count": 0,
      "outputs": []
    },
    {
      "cell_type": "code",
      "metadata": {
        "id": "nTRUdb9Wk-MF",
        "colab_type": "code",
        "colab": {}
      },
      "source": [
        "nums = [0,1,2,3,4,5,6,7,8,9,10]"
      ],
      "execution_count": 0,
      "outputs": []
    },
    {
      "cell_type": "code",
      "metadata": {
        "id": "Qit_yfHWk-MV",
        "colab_type": "code",
        "outputId": "a31eb885-3397-479b-e33c-a19127fbe7dc",
        "colab": {
          "base_uri": "https://localhost:8080/",
          "height": 34
        }
      },
      "source": [
        "filter(check_even,nums)"
      ],
      "execution_count": 28,
      "outputs": [
        {
          "output_type": "execute_result",
          "data": {
            "text/plain": [
              "<filter at 0x7fe584cfdda0>"
            ]
          },
          "metadata": {
            "tags": []
          },
          "execution_count": 28
        }
      ]
    },
    {
      "cell_type": "code",
      "metadata": {
        "id": "-W8t9SdCk-Mi",
        "colab_type": "code",
        "outputId": "f1ffd879-3a37-4cd8-8960-3cb13f6f4536",
        "colab": {
          "base_uri": "https://localhost:8080/",
          "height": 34
        }
      },
      "source": [
        "list(filter(check_even,nums))"
      ],
      "execution_count": 29,
      "outputs": [
        {
          "output_type": "execute_result",
          "data": {
            "text/plain": [
              "[0, 2, 4, 6, 8, 10]"
            ]
          },
          "metadata": {
            "tags": []
          },
          "execution_count": 29
        }
      ]
    },
    {
      "cell_type": "markdown",
      "metadata": {
        "collapsed": true,
        "id": "RIhfez2bk-Mz",
        "colab_type": "text"
      },
      "source": [
        "## lambda expression\n",
        "\n",
        "One of Pythons most useful (and for beginners, confusing) tools is the lambda expression. lambda expressions allow us to create \"anonymous\" functions. This basically means we can quickly make ad-hoc functions without needing to properly define a function using def.\n",
        "\n",
        "Function objects returned by running lambda expressions work exactly the same as those created and assigned by defs. There is key difference that makes lambda useful in specialized roles:\n",
        "\n",
        "**lambda's body is a single expression, not a block of statements.**\n",
        "\n",
        "* The lambda's body is similar to what we would put in a def body's return statement. We simply type the result as an expression instead of explicitly returning it. Because it is limited to an expression, a lambda is less general that a def. We can only squeeze design, to limit program nesting. lambda is designed for coding simple functions, and def handles the larger tasks."
      ]
    },
    {
      "cell_type": "markdown",
      "metadata": {
        "id": "rFa0_D_Uk-M4",
        "colab_type": "text"
      },
      "source": [
        "Lets slowly break down a lambda expression by deconstructing a function:"
      ]
    },
    {
      "cell_type": "code",
      "metadata": {
        "id": "zAtoXMfnk-M7",
        "colab_type": "code",
        "colab": {}
      },
      "source": [
        "def square(num):\n",
        "    result = num**2\n",
        "    return result"
      ],
      "execution_count": 0,
      "outputs": []
    },
    {
      "cell_type": "code",
      "metadata": {
        "id": "yVN6EyeGk-NK",
        "colab_type": "code",
        "outputId": "c736a93d-0a70-49e7-8129-5d4bf610ac8b",
        "colab": {
          "base_uri": "https://localhost:8080/",
          "height": 34
        }
      },
      "source": [
        "square(5)"
      ],
      "execution_count": 32,
      "outputs": [
        {
          "output_type": "execute_result",
          "data": {
            "text/plain": [
              "25"
            ]
          },
          "metadata": {
            "tags": []
          },
          "execution_count": 32
        }
      ]
    },
    {
      "cell_type": "markdown",
      "metadata": {
        "id": "QVL-zAmUk-NZ",
        "colab_type": "text"
      },
      "source": [
        "We could simplify it:"
      ]
    },
    {
      "cell_type": "code",
      "metadata": {
        "id": "bfKDyju0k-Nd",
        "colab_type": "code",
        "colab": {}
      },
      "source": [
        "def square(num):\n",
        "    return num**2"
      ],
      "execution_count": 0,
      "outputs": []
    },
    {
      "cell_type": "code",
      "metadata": {
        "id": "U2FChI60k-Nr",
        "colab_type": "code",
        "outputId": "6fd0159c-9a42-4e24-8f3f-709e9a99c235",
        "colab": {
          "base_uri": "https://localhost:8080/",
          "height": 34
        }
      },
      "source": [
        "square(5)"
      ],
      "execution_count": 34,
      "outputs": [
        {
          "output_type": "execute_result",
          "data": {
            "text/plain": [
              "25"
            ]
          },
          "metadata": {
            "tags": []
          },
          "execution_count": 34
        }
      ]
    },
    {
      "cell_type": "markdown",
      "metadata": {
        "id": "LOEBE5cEk-N2",
        "colab_type": "text"
      },
      "source": [
        "We could actually even write this all on one line."
      ]
    },
    {
      "cell_type": "code",
      "metadata": {
        "id": "9IaHOfRXk-N4",
        "colab_type": "code",
        "colab": {}
      },
      "source": [
        "def square(num): return num**2"
      ],
      "execution_count": 0,
      "outputs": []
    },
    {
      "cell_type": "code",
      "metadata": {
        "id": "Sfrsqezak-OC",
        "colab_type": "code",
        "outputId": "b83e6eac-f55d-484b-d543-d220bd70a228",
        "colab": {
          "base_uri": "https://localhost:8080/",
          "height": 34
        }
      },
      "source": [
        "square(5)"
      ],
      "execution_count": 36,
      "outputs": [
        {
          "output_type": "execute_result",
          "data": {
            "text/plain": [
              "25"
            ]
          },
          "metadata": {
            "tags": []
          },
          "execution_count": 36
        }
      ]
    },
    {
      "cell_type": "markdown",
      "metadata": {
        "id": "C7UMAVIKk-OL",
        "colab_type": "text"
      },
      "source": [
        "This is the form a function that a lambda expression intends to replicate. A lambda expression can then be written as:"
      ]
    },
    {
      "cell_type": "code",
      "metadata": {
        "id": "ifI6L-1aG0nd",
        "colab_type": "code",
        "colab": {
          "base_uri": "https://localhost:8080/",
          "height": 34
        },
        "outputId": "7cdea5aa-4c49-4a5a-ec73-70f0460c511f"
      },
      "source": [
        "lambda num: num**2"
      ],
      "execution_count": 39,
      "outputs": [
        {
          "output_type": "execute_result",
          "data": {
            "text/plain": [
              "<function __main__.<lambda>>"
            ]
          },
          "metadata": {
            "tags": []
          },
          "execution_count": 39
        }
      ]
    },
    {
      "cell_type": "code",
      "metadata": {
        "id": "0d1kt_qPk-OY",
        "colab_type": "code",
        "colab": {}
      },
      "source": [
        "# You wouldn't usually assign a name to a lambda expression, this is just for demonstration!\n",
        "square = lambda num: num **2"
      ],
      "execution_count": 0,
      "outputs": []
    },
    {
      "cell_type": "code",
      "metadata": {
        "id": "0C6CL25yk-Oi",
        "colab_type": "code",
        "outputId": "3ca9e0dc-942b-42c6-9ba8-dfb40da9b395",
        "colab": {
          "base_uri": "https://localhost:8080/",
          "height": 34
        }
      },
      "source": [
        "square(5)"
      ],
      "execution_count": 40,
      "outputs": [
        {
          "output_type": "execute_result",
          "data": {
            "text/plain": [
              "25"
            ]
          },
          "metadata": {
            "tags": []
          },
          "execution_count": 40
        }
      ]
    },
    {
      "cell_type": "markdown",
      "metadata": {
        "id": "WEH_bBVHk-Ot",
        "colab_type": "text"
      },
      "source": [
        "So why would use this? Many function calls need a function passed in, such as map and filter. Often you only need to use the function you are passing in once, so instead of formally defining it, you just use the lambda expression. Let's repeat some of the examples from above with a lambda expression"
      ]
    },
    {
      "cell_type": "code",
      "metadata": {
        "id": "kY4sTv-4HzaB",
        "colab_type": "code",
        "colab": {
          "base_uri": "https://localhost:8080/",
          "height": 34
        },
        "outputId": "56e3535e-ac6f-4da9-ced1-ae1f97c60dd4"
      },
      "source": [
        "list(map(square,my_nums))"
      ],
      "execution_count": 41,
      "outputs": [
        {
          "output_type": "execute_result",
          "data": {
            "text/plain": [
              "[1, 4, 9, 16, 25]"
            ]
          },
          "metadata": {
            "tags": []
          },
          "execution_count": 41
        }
      ]
    },
    {
      "cell_type": "code",
      "metadata": {
        "id": "9kf76Uqbk-Ou",
        "colab_type": "code",
        "outputId": "b4d2de89-b74a-494e-ba0c-cb2d8e56dbc3",
        "colab": {
          "base_uri": "https://localhost:8080/",
          "height": 34
        }
      },
      "source": [
        "list(map(lambda num: num ** 2, my_nums))"
      ],
      "execution_count": 42,
      "outputs": [
        {
          "output_type": "execute_result",
          "data": {
            "text/plain": [
              "[1, 4, 9, 16, 25]"
            ]
          },
          "metadata": {
            "tags": []
          },
          "execution_count": 42
        }
      ]
    },
    {
      "cell_type": "code",
      "metadata": {
        "id": "U5GRNTvxILdl",
        "colab_type": "code",
        "colab": {
          "base_uri": "https://localhost:8080/",
          "height": 34
        },
        "outputId": "da4e0384-bbe9-463d-939a-cb690d2e8cae"
      },
      "source": [
        "list(filter(check_even,nums))"
      ],
      "execution_count": 43,
      "outputs": [
        {
          "output_type": "execute_result",
          "data": {
            "text/plain": [
              "[0, 2, 4, 6, 8, 10]"
            ]
          },
          "metadata": {
            "tags": []
          },
          "execution_count": 43
        }
      ]
    },
    {
      "cell_type": "code",
      "metadata": {
        "id": "MQ2xr59Rk-O8",
        "colab_type": "code",
        "outputId": "1e16ea78-9668-4a87-95e1-245341384d8b",
        "colab": {
          "base_uri": "https://localhost:8080/",
          "height": 34
        }
      },
      "source": [
        "list(filter(lambda n: n % 2 == 0,nums))"
      ],
      "execution_count": 44,
      "outputs": [
        {
          "output_type": "execute_result",
          "data": {
            "text/plain": [
              "[0, 2, 4, 6, 8, 10]"
            ]
          },
          "metadata": {
            "tags": []
          },
          "execution_count": 44
        }
      ]
    },
    {
      "cell_type": "markdown",
      "metadata": {
        "id": "mbH5mi1Ak-PH",
        "colab_type": "text"
      },
      "source": [
        "Here are a few more examples, keep in mind the more comples a function is, the harder it is to translate into a lambda expression, meaning sometimes its just easier (and often the only way) to create the def keyword function."
      ]
    },
    {
      "cell_type": "markdown",
      "metadata": {
        "id": "MLfwoO1Xk-PJ",
        "colab_type": "text"
      },
      "source": [
        "** Lambda expression for grabbing the first character of a string: **"
      ]
    },
    {
      "cell_type": "code",
      "metadata": {
        "id": "FEN967XRJHNc",
        "colab_type": "code",
        "colab": {
          "base_uri": "https://localhost:8080/",
          "height": 34
        },
        "outputId": "16da6035-c3c6-4cd7-9c57-4a7b2bd76400"
      },
      "source": [
        "print( mynames)"
      ],
      "execution_count": 47,
      "outputs": [
        {
          "output_type": "stream",
          "text": [
            "['Happy', 'Kristin', 'John', 'Cindy', 'Sarah', 'Kelly', 'Mike']\n"
          ],
          "name": "stdout"
        }
      ]
    },
    {
      "cell_type": "code",
      "metadata": {
        "id": "Mz06eFW8k-PL",
        "colab_type": "code",
        "colab": {}
      },
      "source": [
        "lambda s: s[0]"
      ],
      "execution_count": 0,
      "outputs": []
    },
    {
      "cell_type": "code",
      "metadata": {
        "id": "PZkm_ac571gr",
        "colab_type": "code",
        "colab": {
          "base_uri": "https://localhost:8080/",
          "height": 34
        },
        "outputId": "1f546e87-52ce-4a85-b997-68c7688b7afe"
      },
      "source": [
        "list( map(lambda s: s[0] , mynames))"
      ],
      "execution_count": 45,
      "outputs": [
        {
          "output_type": "execute_result",
          "data": {
            "text/plain": [
              "['H', 'K', 'J', 'C', 'S', 'K', 'M']"
            ]
          },
          "metadata": {
            "tags": []
          },
          "execution_count": 45
        }
      ]
    },
    {
      "cell_type": "markdown",
      "metadata": {
        "id": "YBWcF6hFk-PY",
        "colab_type": "text"
      },
      "source": [
        "** Lambda expression for reversing a string: **"
      ]
    },
    {
      "cell_type": "code",
      "metadata": {
        "id": "SlI1m2Zpk-PZ",
        "colab_type": "code",
        "colab": {}
      },
      "source": [
        "lambda s: s[::-1]"
      ],
      "execution_count": 0,
      "outputs": []
    },
    {
      "cell_type": "code",
      "metadata": {
        "id": "RudbeEyp8Kh1",
        "colab_type": "code",
        "colab": {
          "base_uri": "https://localhost:8080/",
          "height": 34
        },
        "outputId": "d2d5ad3a-c2da-44ab-8bee-6b592745343f"
      },
      "source": [
        "list( map(lambda s: s[::-1] , mynames))"
      ],
      "execution_count": 48,
      "outputs": [
        {
          "output_type": "execute_result",
          "data": {
            "text/plain": [
              "['yppaH', 'nitsirK', 'nhoJ', 'ydniC', 'haraS', 'ylleK', 'ekiM']"
            ]
          },
          "metadata": {
            "tags": []
          },
          "execution_count": 48
        }
      ]
    },
    {
      "cell_type": "markdown",
      "metadata": {
        "id": "dPLe3QmFk-Ph",
        "colab_type": "text"
      },
      "source": [
        "You can even pass in multiple arguments into a lambda expression. Again, keep in mind that not every function can be translated into a lambda expression."
      ]
    },
    {
      "cell_type": "code",
      "metadata": {
        "id": "D-vjoNwPk-Ph",
        "colab_type": "code",
        "colab": {}
      },
      "source": [
        "lambda x,y : x + y"
      ],
      "execution_count": 0,
      "outputs": []
    },
    {
      "cell_type": "code",
      "metadata": {
        "id": "Jc3Ar2rV8QOu",
        "colab_type": "code",
        "colab": {
          "base_uri": "https://localhost:8080/",
          "height": 34
        },
        "outputId": "8ef1ec32-9ff9-437c-df82-c7ae4120494c"
      },
      "source": [
        "my_list_1 = [1,2,3]\n",
        "my_list_2 = [4,5,6]\n",
        "\n",
        "list( map(lambda x,y : x + y, my_list_1 , my_list_2 ))"
      ],
      "execution_count": 49,
      "outputs": [
        {
          "output_type": "execute_result",
          "data": {
            "text/plain": [
              "[5, 7, 9]"
            ]
          },
          "metadata": {
            "tags": []
          },
          "execution_count": 49
        }
      ]
    },
    {
      "cell_type": "markdown",
      "metadata": {
        "id": "82si066kk-Pr",
        "colab_type": "text"
      },
      "source": [
        "You will find yourself using lambda expressions often with certain non-built-in libraries, for example the pandas library for data analysis works very well with lambda expressions."
      ]
    }
  ]
}