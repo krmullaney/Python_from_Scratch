{
  "nbformat": 4,
  "nbformat_minor": 0,
  "metadata": {
    "colab": {
      "name": "Lecture_2_6_Dictionaries.ipynb",
      "provenance": [],
      "collapsed_sections": []
    },
    "kernelspec": {
      "name": "python3",
      "display_name": "Python 3"
    }
  },
  "cells": [
    {
      "cell_type": "markdown",
      "metadata": {
        "id": "EdweUuq7hJNT",
        "colab_type": "text"
      },
      "source": [
        "# Python Collections\n",
        "\n",
        "There are four collection data types in the Python programming language:\n",
        "\n",
        "    List is a collection which is ordered and changeable. Allows duplicate members.\n",
        "    Tuple is a collection which is ordered and unchangeable. Allows duplicate members.\n",
        "    Set is a collection which is unordered and unindexed. No duplicate members.\n",
        "    Dictionary is a collection which is unordered, changeable and indexed. No duplicate members.\n",
        "\n",
        "**Choosing a collection type**\n",
        "\n",
        "When choosing a collection type, it is useful to understand the properties of that type. Choosing the right type for a particular data set could mean retention of meaning, and, it could mean an increase in efficiency or security."
      ]
    },
    {
      "cell_type": "markdown",
      "metadata": {
        "id": "gWW3z34Whixb",
        "colab_type": "text"
      },
      "source": [
        "\n",
        "# Dictionaries\n",
        "\n",
        "    A Python dictionary consists of a key and then an associated value. The keys are unique (within one dictionary). ThE value can be almost any Python object.\n",
        "\n",
        "    {key1: value1, key2: value2, key3: value3}\n",
        "\n",
        "    Dictionary is a collection which is unordered, changeable and indexed. No duplicate members.\n",
        "\n",
        "    A pair of braces creates an empty dictionary: {}"
      ]
    },
    {
      "cell_type": "markdown",
      "metadata": {
        "id": "fIUCyexSZdCM",
        "colab_type": "text"
      },
      "source": [
        "**Constructing a Dictionary**\n",
        "\n",
        "Let's see how we can construct dictionaries to get a better understanding of how they work!"
      ]
    },
    {
      "cell_type": "code",
      "metadata": {
        "id": "p2pdceuVZ1oh",
        "colab_type": "code",
        "outputId": "a2eb6af9-0dfd-4b78-e7c1-5521f8e70a19",
        "colab": {
          "base_uri": "https://localhost:8080/",
          "height": 52
        }
      },
      "source": [
        "empty_dictionary = {}\n",
        "print(empty_dictionary) \n",
        "print(type(empty_dictionary))"
      ],
      "execution_count": 32,
      "outputs": [
        {
          "output_type": "stream",
          "text": [
            "{}\n",
            "<class 'dict'>\n"
          ],
          "name": "stdout"
        }
      ]
    },
    {
      "cell_type": "markdown",
      "metadata": {
        "id": "ooYOeA5Sb8P4",
        "colab_type": "text"
      },
      "source": [
        "# What kind of data types are allowed in the dictionary keys and values?\n",
        "\n",
        "**Allowed data types in the keys**\n",
        "\n",
        "    keys of Dictionaries can be = Strings / Numbers /Tuples\n",
        "\n",
        "    Keys of the dictionaries cannot be = Any mutable object either directly or indirectly. \n",
        "    For example,  You can’t use lists as keys, since lists can be modified in place using index assignments, slice assignments, or methods like append() and extend().\n"
      ]
    },
    {
      "cell_type": "code",
      "metadata": {
        "id": "Ht1oNqFre9gd",
        "colab_type": "code",
        "outputId": "665fbb70-592f-4e95-ac12-3605a00dd862",
        "colab": {
          "base_uri": "https://localhost:8080/",
          "height": 34
        }
      },
      "source": [
        "# dictionary containing mixed data-types keys\n",
        "my_dict = {\n",
        "    1: 1,\n",
        "    \"first_name\" : \"Kristin\" ,\n",
        "    \"course\" : \"Python\",\n",
        "    (2,4) : \"a tuple\",\n",
        "    }\n",
        "print(my_dict)"
      ],
      "execution_count": 33,
      "outputs": [
        {
          "output_type": "stream",
          "text": [
            "{1: 1, 'first_name': 'Kristin', 'course': 'Python', (2, 4): 'a tuple'}\n"
          ],
          "name": "stdout"
        }
      ]
    },
    {
      "cell_type": "markdown",
      "metadata": {
        "id": "AUZ-e9Owc7Yx",
        "colab_type": "text"
      },
      "source": [
        "\n",
        "**Allowed data types in the values**\n",
        "\n",
        "    Dictionaries are very flexible in the data types they can hold. For example:**\n",
        "\n",
        "    Values in the dictionary can be of any data type. Strings, numbers, boolean, set, tuples, lists."
      ]
    },
    {
      "cell_type": "code",
      "metadata": {
        "id": "HjqpVfPyc_G6",
        "colab_type": "code",
        "outputId": "e6b3968a-6df8-4b73-f42d-d5c8250b8c7d",
        "colab": {
          "base_uri": "https://localhost:8080/",
          "height": 225
        }
      },
      "source": [
        "# dictionary containing mixed data-types values\n",
        "\n",
        "my_dict = {\n",
        "    'key1': 'Python' ,\n",
        "    'key2': 123,\n",
        "    'key3': [12,23,33.0],\n",
        "    'key4': ['item0','item1','item2'] ,\n",
        "    'key5': True, \n",
        "    'key6': {1,2,3,4,5,6} , \n",
        "    'key7' : \n",
        "      {'nested_key1' : 'nested_value1' ,\n",
        "       \"nested_key2\" : \"nested_value2\"   \n",
        "       }\n",
        "      }\n",
        "\n",
        "print( my_dict['key2'] )\n",
        "print( my_dict['key3'] )\n",
        "print( my_dict['key3'][1] )\n",
        "print( my_dict['key4'] )\n",
        "print( my_dict['key4'][1] )\n",
        "print( my_dict['key5'] )\n",
        "print( my_dict['key6'] )\n",
        "print( type(my_dict['key6'] ))\n",
        "print( my_dict['key7'] )\n",
        "print( type(my_dict['key7'] ))\n",
        "print( my_dict['key7'][\"nested_key1\"] )\n",
        "print( type(my_dict['key7'][\"nested_key1\"] ) )\n"
      ],
      "execution_count": 52,
      "outputs": [
        {
          "output_type": "stream",
          "text": [
            "123\n",
            "[12, 23, 33.0]\n",
            "23\n",
            "['item0', 'item1', 'item2']\n",
            "item1\n",
            "True\n",
            "{1, 2, 3, 4, 5, 6}\n",
            "<class 'set'>\n",
            "{'nested_key1': 'nested_value1', 'nested_key2': 'nested_value2'}\n",
            "<class 'dict'>\n",
            "nested_value1\n",
            "<class 'str'>\n"
          ],
          "name": "stdout"
        }
      ]
    },
    {
      "cell_type": "markdown",
      "metadata": {
        "id": "b9NGB4iFhJFH",
        "colab_type": "text"
      },
      "source": [
        "# Create a dictionary using the dict() constructor"
      ]
    },
    {
      "cell_type": "code",
      "metadata": {
        "id": "52vxy1bJfVHQ",
        "colab_type": "code",
        "outputId": "6cb027a8-dcd3-44de-ae33-44a624e713db",
        "colab": {
          "base_uri": "https://localhost:8080/",
          "height": 52
        }
      },
      "source": [
        "# using dictionart using disc() constructor\n",
        "\n",
        "a = {\n",
        "    1: 'apple',\n",
        "    2: 'ball',\n",
        "    3: 'cat',\n",
        "    4: 'doll'\n",
        "    }\n",
        "\n",
        "print( type(a) )\n",
        "\n",
        "my_dict = dict()\n",
        "\n",
        "my_dict['key1'] = 'value1'\n",
        "print(my_dict)"
      ],
      "execution_count": 57,
      "outputs": [
        {
          "output_type": "stream",
          "text": [
            "<class 'dict'>\n",
            "{'key1': 'value1'}\n"
          ],
          "name": "stdout"
        }
      ]
    },
    {
      "cell_type": "code",
      "metadata": {
        "id": "ETn-9dbIfKkA",
        "colab_type": "code",
        "outputId": "6632fd4f-4cba-4b93-8b5c-55deee9648ff",
        "colab": {
          "base_uri": "https://localhost:8080/",
          "height": 34
        }
      },
      "source": [
        "# from sequence having each item as a pair\n",
        "my_dict = dict( [\n",
        "                ('first_name','Kristin'),\n",
        "                ('last_name','Mullaney'),\n",
        "                ('course','Python')\n",
        "                ] \n",
        ")\n",
        "my_dict"
      ],
      "execution_count": 58,
      "outputs": [
        {
          "output_type": "execute_result",
          "data": {
            "text/plain": [
              "{'course': 'Python', 'first_name': 'Kristin', 'last_name': 'Mullaney'}"
            ]
          },
          "metadata": {
            "tags": []
          },
          "execution_count": 58
        }
      ]
    },
    {
      "cell_type": "markdown",
      "metadata": {
        "id": "twCkPkTHeNZD",
        "colab_type": "text"
      },
      "source": [
        "# Difference between lists and dictionaries\n",
        "\n",
        "Dictionaries and lists share the following characteristics:\n",
        "\n",
        "    Both are mutable.\n",
        "    Both are dynamic. They can grow and shrink as needed.\n",
        "    Both can be nested. A list can contain another list. A dictionary can contain another dictionary. A dictionary can also contain a list, and vice versa.\n",
        "\n",
        "Dictionaries differ from lists primarily in how elements are accessed:\n",
        "\n",
        "    List elements are accessed by their position in the list, via indexing.\n",
        "    Dictionary elements are accessed via keys.\n"
      ]
    },
    {
      "cell_type": "markdown",
      "metadata": {
        "id": "VGcPM5J9h7eJ",
        "colab_type": "text"
      },
      "source": [
        "# Access Items using the key\n",
        "\n"
      ]
    },
    {
      "cell_type": "code",
      "metadata": {
        "id": "z_Jtoc9Ch_E6",
        "colab_type": "code",
        "outputId": "cdc7b0d4-7b17-41ed-a9b3-eda2b6ad5038",
        "colab": {
          "base_uri": "https://localhost:8080/",
          "height": 86
        }
      },
      "source": [
        "canada_province_capital = dict({\n",
        "        \"Ontario\" : \"Toronto\",\n",
        "        \"Manitoba\" : \"Winnipeg\",\n",
        "        \"Saskatchewan\" : \"Regina\",\n",
        "        \"Alberta\" : \"Edmonton\",\n",
        "        \"British Columbia\" : \"Victoria\"\n",
        "})\n",
        "\n",
        "# Method 1\n",
        "print(canada_province_capital['Alberta'])\n",
        "print(canada_province_capital['British Columbia'])\n",
        "\n",
        "# Method 2\n",
        "print(canada_province_capital.get('Alberta'))\n",
        "print(canada_province_capital.get('British Columbia'))"
      ],
      "execution_count": 59,
      "outputs": [
        {
          "output_type": "stream",
          "text": [
            "Edmonton\n",
            "Victoria\n",
            "Edmonton\n",
            "Victoria\n"
          ],
          "name": "stdout"
        }
      ]
    },
    {
      "cell_type": "markdown",
      "metadata": {
        "id": "bb67sOkdD26C",
        "colab_type": "text"
      },
      "source": [
        "# Accessing all keys, value and both using dictionary functions"
      ]
    },
    {
      "cell_type": "code",
      "metadata": {
        "id": "DSF-hvQ7D-dB",
        "colab_type": "code",
        "colab": {
          "base_uri": "https://localhost:8080/",
          "height": 34
        },
        "outputId": "3007c736-90e4-4605-9f42-1ccf9083676e"
      },
      "source": [
        "canada_province_capital.keys()"
      ],
      "execution_count": 60,
      "outputs": [
        {
          "output_type": "execute_result",
          "data": {
            "text/plain": [
              "dict_keys(['Ontario', 'Manitoba', 'Saskatchewan', 'Alberta', 'British Columbia'])"
            ]
          },
          "metadata": {
            "tags": []
          },
          "execution_count": 60
        }
      ]
    },
    {
      "cell_type": "code",
      "metadata": {
        "id": "iExxR0x2EG4a",
        "colab_type": "code",
        "colab": {
          "base_uri": "https://localhost:8080/",
          "height": 34
        },
        "outputId": "ade19a7e-2919-4578-deed-a6801325ef56"
      },
      "source": [
        "canada_province_capital.values()"
      ],
      "execution_count": 61,
      "outputs": [
        {
          "output_type": "execute_result",
          "data": {
            "text/plain": [
              "dict_values(['Toronto', 'Winnipeg', 'Regina', 'Edmonton', 'Victoria'])"
            ]
          },
          "metadata": {
            "tags": []
          },
          "execution_count": 61
        }
      ]
    },
    {
      "cell_type": "code",
      "metadata": {
        "id": "GPXjmUBeEHJS",
        "colab_type": "code",
        "colab": {
          "base_uri": "https://localhost:8080/",
          "height": 54
        },
        "outputId": "d7c4da9f-7787-4d8f-8f4e-0ffc7799fd11"
      },
      "source": [
        "canada_province_capital.items()"
      ],
      "execution_count": 62,
      "outputs": [
        {
          "output_type": "execute_result",
          "data": {
            "text/plain": [
              "dict_items([('Ontario', 'Toronto'), ('Manitoba', 'Winnipeg'), ('Saskatchewan', 'Regina'), ('Alberta', 'Edmonton'), ('British Columbia', 'Victoria')])"
            ]
          },
          "metadata": {
            "tags": []
          },
          "execution_count": 62
        }
      ]
    },
    {
      "cell_type": "markdown",
      "metadata": {
        "id": "KOfAY-MUl6Yd",
        "colab_type": "text"
      },
      "source": [
        "# Remember:Dictionary is changeable\n",
        "\n",
        "You can Change the dictionary Value using the key \n",
        "\n",
        "\n"
      ]
    },
    {
      "cell_type": "code",
      "metadata": {
        "id": "zaMbpmqLlyLd",
        "colab_type": "code",
        "outputId": "cd753791-a58b-46d5-afe1-a2b02957d388",
        "colab": {
          "base_uri": "https://localhost:8080/",
          "height": 34
        }
      },
      "source": [
        "canada_province_capital['Alberta'] = 'EDMONTON'\n",
        "\n",
        "print(canada_province_capital)"
      ],
      "execution_count": 63,
      "outputs": [
        {
          "output_type": "stream",
          "text": [
            "{'Ontario': 'Toronto', 'Manitoba': 'Winnipeg', 'Saskatchewan': 'Regina', 'Alberta': 'EDMONTON', 'British Columbia': 'Victoria'}\n"
          ],
          "name": "stdout"
        }
      ]
    },
    {
      "cell_type": "markdown",
      "metadata": {
        "id": "AhsSjY-om9Uz",
        "colab_type": "text"
      },
      "source": [
        "# Check if Item Exists in the list\n"
      ]
    },
    {
      "cell_type": "code",
      "metadata": {
        "id": "1LAEetLYm1_2",
        "colab_type": "code",
        "outputId": "892ce785-66fa-44e1-cd65-e0166803de03",
        "colab": {
          "base_uri": "https://localhost:8080/",
          "height": 34
        }
      },
      "source": [
        "if \"Alberta\" in canada_province_capital :\n",
        "  print(\"Yes, 'Alberta' is the province of canada\") \n",
        "else:\n",
        "  print(\"Alberta is not present in the dictionary\")"
      ],
      "execution_count": 11,
      "outputs": [
        {
          "output_type": "stream",
          "text": [
            "Yes, 'Alberta' is the province of canada\n"
          ],
          "name": "stdout"
        }
      ]
    },
    {
      "cell_type": "markdown",
      "metadata": {
        "id": "d_JOCk6rnbtf",
        "colab_type": "text"
      },
      "source": [
        "# Find the dictionary length / number of items in the dictionary\n"
      ]
    },
    {
      "cell_type": "code",
      "metadata": {
        "id": "MCV8tFiMnPFP",
        "colab_type": "code",
        "outputId": "41f82d96-6967-43b3-af13-03b7224e2dfe",
        "colab": {
          "base_uri": "https://localhost:8080/",
          "height": 34
        }
      },
      "source": [
        "print(len(canada_province_capital))"
      ],
      "execution_count": 12,
      "outputs": [
        {
          "output_type": "stream",
          "text": [
            "5\n"
          ],
          "name": "stdout"
        }
      ]
    },
    {
      "cell_type": "markdown",
      "metadata": {
        "id": "jkOW-UC2nrKw",
        "colab_type": "text"
      },
      "source": [
        "# Add items in the dictionary"
      ]
    },
    {
      "cell_type": "code",
      "metadata": {
        "id": "JPiZ9I0Bntfj",
        "colab_type": "code",
        "outputId": "de90b01f-a4a2-43f3-83c9-1130bfb49207",
        "colab": {
          "base_uri": "https://localhost:8080/",
          "height": 54
        }
      },
      "source": [
        "canada_province_capital['Nova Scotia'] = 'Halifax'\n",
        "print(canada_province_capital)"
      ],
      "execution_count": 64,
      "outputs": [
        {
          "output_type": "stream",
          "text": [
            "{'Ontario': 'Toronto', 'Manitoba': 'Winnipeg', 'Saskatchewan': 'Regina', 'Alberta': 'EDMONTON', 'British Columbia': 'Victoria', 'Nova Scotia': 'Halifax'}\n"
          ],
          "name": "stdout"
        }
      ]
    },
    {
      "cell_type": "code",
      "metadata": {
        "id": "yYCTzxjpBrS9",
        "colab_type": "code",
        "colab": {
          "base_uri": "https://localhost:8080/",
          "height": 54
        },
        "outputId": "aac75d1e-dfec-4522-ae87-e1c6c9354747"
      },
      "source": [
        "canada_province_capital = {'Ontario': 'Toronto', 'Manitoba': 'Winnipeg', 'Saskatchewan': 'Regina', 'Alberta': 'EDMONTON', 'British Columbia': 'Victoria'}\n",
        "canada_province_capital.update({\"Quebec\": \"Quebec City\"})\n",
        "\n",
        "print(canada_province_capital) "
      ],
      "execution_count": 14,
      "outputs": [
        {
          "output_type": "stream",
          "text": [
            "{'Ontario': 'Toronto', 'Manitoba': 'Winnipeg', 'Saskatchewan': 'Regina', 'Alberta': 'EDMONTON', 'British Columbia': 'Victoria', 'Quebec': 'Quebec City'}\n"
          ],
          "name": "stdout"
        }
      ]
    },
    {
      "cell_type": "markdown",
      "metadata": {
        "id": "6GBratmloRBa",
        "colab_type": "text"
      },
      "source": [
        "# Remove Item from the list"
      ]
    },
    {
      "cell_type": "code",
      "metadata": {
        "id": "Gu3EjxzToMFv",
        "colab_type": "code",
        "outputId": "b9bb76b4-0ac0-4171-e558-58951007c355",
        "colab": {
          "base_uri": "https://localhost:8080/",
          "height": 34
        }
      },
      "source": [
        "# pop() : Remove the specified value\n",
        "canada_province_capital = {'Ontario': 'Toronto', 'Manitoba': 'Winnipeg', 'Saskatchewan': 'Regina', 'Alberta': 'EDMONTON', 'British Columbia': 'Victoria', 'Nova Scotia': 'Halifax'}\n",
        "\n",
        "canada_province_capital.pop(\"Ontario\")\n",
        "print(canada_province_capital)"
      ],
      "execution_count": 65,
      "outputs": [
        {
          "output_type": "stream",
          "text": [
            "{'Manitoba': 'Winnipeg', 'Saskatchewan': 'Regina', 'Alberta': 'EDMONTON', 'British Columbia': 'Victoria', 'Nova Scotia': 'Halifax'}\n"
          ],
          "name": "stdout"
        }
      ]
    },
    {
      "cell_type": "code",
      "metadata": {
        "id": "2KnCktfSolCE",
        "colab_type": "code",
        "outputId": "bc6ca038-388d-43ce-83e7-8b9ec166599a",
        "colab": {
          "base_uri": "https://localhost:8080/",
          "height": 72
        }
      },
      "source": [
        "# popitem() : removes the last added item  \n",
        "\n",
        "canada_province_capital = {'Ontario': 'Toronto', 'Manitoba': 'Winnipeg', 'Saskatchewan': 'Regina', 'Alberta': 'EDMONTON', 'British Columbia': 'Victoria'}\n",
        "canada_province_capital['Nova Scotia'] = 'Halifax'\n",
        "print(canada_province_capital)\n",
        "\n",
        "canada_province_capital.popitem()\n",
        "print(canada_province_capital)\n"
      ],
      "execution_count": 66,
      "outputs": [
        {
          "output_type": "stream",
          "text": [
            "{'Ontario': 'Toronto', 'Manitoba': 'Winnipeg', 'Saskatchewan': 'Regina', 'Alberta': 'EDMONTON', 'British Columbia': 'Victoria', 'Nova Scotia': 'Halifax'}\n",
            "{'Ontario': 'Toronto', 'Manitoba': 'Winnipeg', 'Saskatchewan': 'Regina', 'Alberta': 'EDMONTON', 'British Columbia': 'Victoria'}\n"
          ],
          "name": "stdout"
        }
      ]
    },
    {
      "cell_type": "code",
      "metadata": {
        "id": "IYWfPpVPpM0x",
        "colab_type": "code",
        "colab": {}
      },
      "source": [
        "# del : keyword (not a function) removes the specified index\n",
        "canada_province_capital = {'Ontario': 'Toronto', 'Manitoba': 'Winnipeg', 'Saskatchewan': 'Regina', 'Alberta': 'EDMONTON', 'British Columbia': 'Victoria'}\n",
        "del canada_province_capital\n",
        "#print(canada_province_capital)"
      ],
      "execution_count": 0,
      "outputs": []
    },
    {
      "cell_type": "code",
      "metadata": {
        "id": "W8oucsnnqCcw",
        "colab_type": "code",
        "colab": {
          "base_uri": "https://localhost:8080/",
          "height": 34
        },
        "outputId": "ad74f1e8-8eec-4cc8-a127-5d53dcb2f3a6"
      },
      "source": [
        "# clear() : clear the dictionary\n",
        "canada_province_capital = {'Ontario': 'Toronto', 'Manitoba': 'Winnipeg', 'Saskatchewan': 'Regina', 'Alberta': 'EDMONTON', 'British Columbia': 'Victoria'}\n",
        "canada_province_capital.clear()\n",
        "print(canada_province_capital)"
      ],
      "execution_count": 72,
      "outputs": [
        {
          "output_type": "stream",
          "text": [
            "{}\n"
          ],
          "name": "stdout"
        }
      ]
    },
    {
      "cell_type": "markdown",
      "metadata": {
        "id": "AMIc1weCq0Ly",
        "colab_type": "text"
      },
      "source": [
        "# Copy a Dictionary\n"
      ]
    },
    {
      "cell_type": "code",
      "metadata": {
        "id": "ofCvQ2a5r372",
        "colab_type": "code",
        "colab": {
          "base_uri": "https://localhost:8080/",
          "height": 52
        },
        "outputId": "b9206701-9848-4289-d57b-56c51eb8d13f"
      },
      "source": [
        "canada_province_capital = {'Ontario': 'Toronto', 'Manitoba': 'Winnipeg', 'Saskatchewan': 'Regina', 'Alberta': 'EDMONTON', 'British Columbia': 'Victoria'}\n",
        "\n",
        "canada_province_capital_copy = canada_province_capital.copy()\n",
        "\n",
        "print(canada_province_capital)\n",
        "print(canada_province_capital_copy)"
      ],
      "execution_count": 74,
      "outputs": [
        {
          "output_type": "stream",
          "text": [
            "{'Ontario': 'Toronto', 'Manitoba': 'Winnipeg', 'Saskatchewan': 'Regina', 'Alberta': 'EDMONTON', 'British Columbia': 'Victoria'}\n",
            "{'Ontario': 'Toronto', 'Manitoba': 'Winnipeg', 'Saskatchewan': 'Regina', 'Alberta': 'EDMONTON', 'British Columbia': 'Victoria'}\n"
          ],
          "name": "stdout"
        }
      ]
    },
    {
      "cell_type": "markdown",
      "metadata": {
        "id": "8q4RkR4It_iT",
        "colab_type": "text"
      },
      "source": [
        "# Loop Through a Dictionary\n",
        "\n",
        "You can loop through the dictionary items by using a for loop:"
      ]
    },
    {
      "cell_type": "code",
      "metadata": {
        "id": "oD2GhfiPuE02",
        "colab_type": "code",
        "colab": {
          "base_uri": "https://localhost:8080/",
          "height": 104
        },
        "outputId": "f0e437bc-709d-4032-e083-338b47e4f670"
      },
      "source": [
        "# Accessing Keys\n",
        "canada_province_capital = {'Ontario': 'Toronto', 'Manitoba': 'Winnipeg', 'Saskatchewan': 'Regina', 'Alberta': 'EDMONTON', 'British Columbia': 'Victoria'}\n",
        "\n",
        "for province in canada_province_capital:\n",
        "  print( province)\n"
      ],
      "execution_count": 75,
      "outputs": [
        {
          "output_type": "stream",
          "text": [
            "Ontario\n",
            "Manitoba\n",
            "Saskatchewan\n",
            "Alberta\n",
            "British Columbia\n"
          ],
          "name": "stdout"
        }
      ]
    },
    {
      "cell_type": "code",
      "metadata": {
        "id": "3DD-l9mDAgX7",
        "colab_type": "code",
        "colab": {
          "base_uri": "https://localhost:8080/",
          "height": 104
        },
        "outputId": "38994a62-c3a1-478b-e0d7-3133d7100e7a"
      },
      "source": [
        "# Accessing keys using keys() function\n",
        " \n",
        "canada_province_capital = {'Ontario': 'Toronto', 'Manitoba': 'Winnipeg', 'Saskatchewan': 'Regina', 'Alberta': 'EDMONTON', 'British Columbia': 'Victoria'}\n",
        "\n",
        "for province in canada_province_capital.keys():\n",
        "  print( province) "
      ],
      "execution_count": 76,
      "outputs": [
        {
          "output_type": "stream",
          "text": [
            "Ontario\n",
            "Manitoba\n",
            "Saskatchewan\n",
            "Alberta\n",
            "British Columbia\n"
          ],
          "name": "stdout"
        }
      ]
    },
    {
      "cell_type": "code",
      "metadata": {
        "id": "_UMxe-PH_dfE",
        "colab_type": "code",
        "colab": {
          "base_uri": "https://localhost:8080/",
          "height": 104
        },
        "outputId": "24fef678-0498-43ab-8ed7-385963204a2d"
      },
      "source": [
        "# Accessing Values using dynamic keys\n",
        "\n",
        "canada_province_capital = {'Ontario': 'Toronto', 'Manitoba': 'Winnipeg', 'Saskatchewan': 'Regina', 'Alberta': 'EDMONTON', 'British Columbia': 'Victoria'}\n",
        "\n",
        "#print(canada_province_capital['Ontario'])\n",
        "\n",
        "for province in canada_province_capital:\n",
        " print( canada_province_capital[province]) # notice we have not given single or double quotes around the province"
      ],
      "execution_count": 80,
      "outputs": [
        {
          "output_type": "stream",
          "text": [
            "Toronto\n",
            "Winnipeg\n",
            "Regina\n",
            "EDMONTON\n",
            "Victoria\n"
          ],
          "name": "stdout"
        }
      ]
    },
    {
      "cell_type": "code",
      "metadata": {
        "id": "dcQ66LvUADTs",
        "colab_type": "code",
        "colab": {
          "base_uri": "https://localhost:8080/",
          "height": 121
        },
        "outputId": "336c2913-e27c-448e-cb12-de709f07d8b3"
      },
      "source": [
        "# Accessing Values using values() function\n",
        " \n",
        "canada_province_capital = {'Ontario': 'Toronto', 'Manitoba': 'Winnipeg', 'Saskatchewan': 'Regina', 'Alberta': 'EDMONTON', 'British Columbia': 'Victoria'}\n",
        "print(canada_province_capital.values())\n",
        "\n",
        "for capital in canada_province_capital.values():\n",
        "  print( capital) "
      ],
      "execution_count": 83,
      "outputs": [
        {
          "output_type": "stream",
          "text": [
            "dict_values(['Toronto', 'Winnipeg', 'Regina', 'EDMONTON', 'Victoria'])\n",
            "Toronto\n",
            "Winnipeg\n",
            "Regina\n",
            "EDMONTON\n",
            "Victoria\n"
          ],
          "name": "stdout"
        }
      ]
    },
    {
      "cell_type": "code",
      "metadata": {
        "id": "hrEw0PzDAOvI",
        "colab_type": "code",
        "colab": {
          "base_uri": "https://localhost:8080/",
          "height": 104
        },
        "outputId": "19f3068c-6dbc-45fc-fabe-747d48e7d10c"
      },
      "source": [
        "# Accessing keys and values both using items() function\n",
        " \n",
        "canada_province_capital = {'Ontario': 'Toronto', 'Manitoba': 'Winnipeg', 'Saskatchewan': 'Regina', 'Alberta': 'EDMONTON', 'British Columbia': 'Victoria'}\n",
        "\n",
        "#print(canada_province_capital.items())\n",
        "\n",
        "x, y = ('Ontario', 'Toronto')\n",
        "#print(x)\n",
        "#print(y)\n",
        "\n",
        "for province, capital in canada_province_capital.items():\n",
        "  print( province + ' ---------------- '+ capital) "
      ],
      "execution_count": 89,
      "outputs": [
        {
          "output_type": "stream",
          "text": [
            "Ontario ---------------- Toronto\n",
            "Manitoba ---------------- Winnipeg\n",
            "Saskatchewan ---------------- Regina\n",
            "Alberta ---------------- EDMONTON\n",
            "British Columbia ---------------- Victoria\n"
          ],
          "name": "stdout"
        }
      ]
    },
    {
      "cell_type": "markdown",
      "metadata": {
        "id": "ATYBlrseCPAN",
        "colab_type": "text"
      },
      "source": [
        "# Operations on the dictionaries"
      ]
    },
    {
      "cell_type": "code",
      "metadata": {
        "id": "ve6ElhS7AcnQ",
        "colab_type": "code",
        "colab": {}
      },
      "source": [
        "my_dict = {\n",
        "           'key1':123,\n",
        "           'key2':[12,23,33],\n",
        "           'key3':['item0','item1','item2']\n",
        "           }"
      ],
      "execution_count": 0,
      "outputs": []
    },
    {
      "cell_type": "code",
      "metadata": {
        "id": "juNGoGRNCUID",
        "colab_type": "code",
        "colab": {
          "base_uri": "https://localhost:8080/",
          "height": 34
        },
        "outputId": "3613f904-0236-4a20-c04e-2a97f67c1fcd"
      },
      "source": [
        "#We can affect the values of a key as well. For instance:\n",
        "my_dict['key1']"
      ],
      "execution_count": 97,
      "outputs": [
        {
          "output_type": "execute_result",
          "data": {
            "text/plain": [
              "123"
            ]
          },
          "metadata": {
            "tags": []
          },
          "execution_count": 97
        }
      ]
    },
    {
      "cell_type": "code",
      "metadata": {
        "id": "NO_cXBnqCfk4",
        "colab_type": "code",
        "colab": {}
      },
      "source": [
        "# Subtract 123 from the value\n",
        "my_dict['key1'] = my_dict['key1'] - 100"
      ],
      "execution_count": 0,
      "outputs": []
    },
    {
      "cell_type": "code",
      "metadata": {
        "id": "icKCnSVACiQp",
        "colab_type": "code",
        "colab": {
          "base_uri": "https://localhost:8080/",
          "height": 34
        },
        "outputId": "57957aaf-a18f-4c93-85c2-849450b69843"
      },
      "source": [
        "#Check\n",
        "my_dict['key1']"
      ],
      "execution_count": 99,
      "outputs": [
        {
          "output_type": "execute_result",
          "data": {
            "text/plain": [
              "23"
            ]
          },
          "metadata": {
            "tags": []
          },
          "execution_count": 99
        }
      ]
    },
    {
      "cell_type": "markdown",
      "metadata": {
        "id": "FNCKiyHPCqqa",
        "colab_type": "text"
      },
      "source": [
        "**A quick note, Python has a built-in method of doing a self subtraction or addition (or multiplication or division). \n",
        "We could have also used += or -= for the above statement. \n",
        "For example:**"
      ]
    },
    {
      "cell_type": "code",
      "metadata": {
        "id": "f01jk4mhCkHI",
        "colab_type": "code",
        "colab": {
          "base_uri": "https://localhost:8080/",
          "height": 34
        },
        "outputId": "2d4b222a-bf36-4d5d-e989-8feae1596f69"
      },
      "source": [
        "# x  = x - 1\n",
        "# x -= 1\n",
        "\n",
        "# Set the object equal to itself minus 123 \n",
        "\n",
        "my_dict['key1'] -= 123\n",
        "my_dict['key1']"
      ],
      "execution_count": 100,
      "outputs": [
        {
          "output_type": "execute_result",
          "data": {
            "text/plain": [
              "-100"
            ]
          },
          "metadata": {
            "tags": []
          },
          "execution_count": 100
        }
      ]
    },
    {
      "cell_type": "markdown",
      "metadata": {
        "id": "sO7eQrCOC59a",
        "colab_type": "text"
      },
      "source": [
        "**Nesting with Dictionaries**\n",
        "\n",
        "Hopefully you're starting to see how powerful Python is with its flexibility of nesting objects and calling methods on them. Let's see a dictionary nested inside a dictionary:"
      ]
    },
    {
      "cell_type": "code",
      "metadata": {
        "id": "SteQdOlyCuan",
        "colab_type": "code",
        "colab": {}
      },
      "source": [
        "# Dictionary nested inside a dictionary \n",
        "d = {'key1':\n",
        "     {'nestkey':\n",
        "      {'subnestkey':'value'}\n",
        "      }\n",
        "     }"
      ],
      "execution_count": 0,
      "outputs": []
    },
    {
      "cell_type": "code",
      "metadata": {
        "id": "5_AqskJaC-Y-",
        "colab_type": "code",
        "colab": {
          "base_uri": "https://localhost:8080/",
          "height": 34
        },
        "outputId": "6c67106e-2085-4309-e9fd-b662811951dc"
      },
      "source": [
        "# Keep calling the keys\n",
        "d['key1']['nestkey']['subnestkey']"
      ],
      "execution_count": 102,
      "outputs": [
        {
          "output_type": "execute_result",
          "data": {
            "text/plain": [
              "'value'"
            ]
          },
          "metadata": {
            "tags": []
          },
          "execution_count": 102
        }
      ]
    },
    {
      "cell_type": "code",
      "metadata": {
        "id": "SyzCquK4DBsB",
        "colab_type": "code",
        "colab": {}
      },
      "source": [
        ""
      ],
      "execution_count": 0,
      "outputs": []
    }
  ]
}