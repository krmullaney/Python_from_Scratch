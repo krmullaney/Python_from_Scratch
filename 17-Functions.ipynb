{
  "nbformat": 4,
  "nbformat_minor": 0,
  "metadata": {
    "kernelspec": {
      "display_name": "Python 3",
      "language": "python",
      "name": "python3"
    },
    "language_info": {
      "codemirror_mode": {
        "name": "ipython",
        "version": 3
      },
      "file_extension": ".py",
      "mimetype": "text/x-python",
      "name": "python",
      "nbconvert_exporter": "python",
      "pygments_lexer": "ipython3",
      "version": "3.6.2"
    },
    "colab": {
      "name": "02-Functions.ipynb",
      "provenance": [],
      "collapsed_sections": []
    }
  },
  "cells": [
    {
      "cell_type": "markdown",
      "metadata": {
        "id": "UK6azqWbkytq",
        "colab_type": "text"
      },
      "source": [
        "# Functions\n",
        "\n",
        "## Introduction to Functions\n",
        "\n",
        "In larger projects, functions are the main building blocks. Functions are very helpful.\n",
        "\n",
        "**So what is a function?**\n",
        "\n",
        "A function is a block of code/ set of statements which only runs when it is called. We group the statements so that the code written inside can be called as many times as we want.\n",
        "\n",
        "    Functions allow us to not have to repeatedly write the same code again and again.\n",
        "\n",
        "    Re-use the code\n",
        "\n",
        "    Well written code - easy to update - as we need to modify the logic at only one place \n",
        "\n",
        "    They can also let us specify parameters that can serve as inputs to the functions.\n"
      ]
    },
    {
      "cell_type": "markdown",
      "metadata": {
        "id": "i2QIcpCLkytw",
        "colab_type": "text"
      },
      "source": [
        "# Creating a function"
      ]
    },
    {
      "cell_type": "code",
      "metadata": {
        "id": "PS6Vti8Akyt3",
        "colab_type": "code",
        "colab": {}
      },
      "source": [
        "def name_of_function(arg1,arg2):\n",
        "    '''\n",
        "    Here I will write the description about the functionality of the function, so that if a new user is viewing your code, he/she came to know what is happening inside the function and can get help using the help() function.\n",
        "    This is where the function's Document String (docstring) goes\n",
        "    '''\n",
        "    # Do coding and logic stuff here\n",
        "    # Return desired result"
      ],
      "execution_count": 0,
      "outputs": []
    },
    {
      "cell_type": "code",
      "metadata": {
        "id": "CFDOy9vy8Lmg",
        "colab_type": "code",
        "colab": {
          "base_uri": "https://localhost:8080/",
          "height": 141
        },
        "outputId": "b8fa1871-7215-4579-bc9e-d618e650d796"
      },
      "source": [
        "help(name_of_function)"
      ],
      "execution_count": 32,
      "outputs": [
        {
          "output_type": "stream",
          "text": [
            "Help on function name_of_function in module __main__:\n",
            "\n",
            "name_of_function(arg1, arg2)\n",
            "    Here I will write the description about the functionality of the function, so that if a new user is viewing your code, he/she came to know what is happening inside the function and can get help using the help() function.\n",
            "    This is where the function's Document String (docstring) goes\n",
            "\n"
          ],
          "name": "stdout"
        }
      ]
    },
    {
      "cell_type": "markdown",
      "metadata": {
        "id": "W6AHor1qkyuW",
        "colab_type": "text"
      },
      "source": [
        "**def** introduces a function definition.\n",
        "\n",
        "\n",
        "**Space and name of the function** We begin with <code>def</code> then a space followed by the name of the function. Try to keep names relevant, for example len() is a good name for a length() function. Also be careful with names, you wouldn't want to call a function the same name as a [built-in function in Python](https://docs.python.org/2/library/functions.html) (such as len).\n",
        "\n",
        "\n",
        "\n",
        "**parenthesis and parameters/arguments** Next come a pair of parentheses with a number of arguments separated by a comma. These arguments are the inputs for your function. You'll be able to use these inputs in your function and reference them. After this you put a colon.\n",
        "\n",
        "\n",
        "\n",
        "**Indentation** Now here is the important step, you must indent to begin the code inside your function correctly. Python makes use of *whitespace* to organize code. Lots of other programing languages do not do this, so keep that in mind.\n",
        "\n",
        "\n",
        "\n",
        "**docstring** Next you'll see the docstring, this is where you write a basic description of the function. Using iPython and iPython Notebooks, you'll be able to read these docstrings by pressing Shift+Tab after a function name. Docstrings are not necessary for simple functions, but it's good practice to put them in so you or other people can easily understand the code you write.\n",
        "There are tools which use docstrings to automatically produce online or printed documentation, or to let the user interactively browse through code; it’s good practice to include docstrings in code that you write, so make a habit of it.\n",
        "\n",
        "\n",
        "\n",
        "**set of statements/ block of code** After all this you begin writing the code you wish to execute.\n",
        "\n",
        "\n",
        "\n",
        "The best way to learn functions is by going through examples. "
      ]
    },
    {
      "cell_type": "markdown",
      "metadata": {
        "id": "XKgknMatkyud",
        "colab_type": "text"
      },
      "source": [
        "### Calling a Function"
      ]
    },
    {
      "cell_type": "code",
      "metadata": {
        "id": "-lbE5Osykyug",
        "colab_type": "code",
        "colab": {}
      },
      "source": [
        "def say_hello():\n",
        "  \"\"\" This message will print the hello\"\"\"\n",
        "  print('hello')"
      ],
      "execution_count": 0,
      "outputs": []
    },
    {
      "cell_type": "markdown",
      "metadata": {
        "id": "CbRtq6ZMkyu3",
        "colab_type": "text"
      },
      "source": [
        "Call the function:"
      ]
    },
    {
      "cell_type": "code",
      "metadata": {
        "id": "L1NRfkuKkyu7",
        "colab_type": "code",
        "outputId": "5d7b1285-c5a7-4a6b-beb5-b45f06be02fb",
        "colab": {
          "base_uri": "https://localhost:8080/",
          "height": 34
        }
      },
      "source": [
        "say_hello()"
      ],
      "execution_count": 34,
      "outputs": [
        {
          "output_type": "stream",
          "text": [
            "hello\n"
          ],
          "name": "stdout"
        }
      ]
    },
    {
      "cell_type": "markdown",
      "metadata": {
        "id": "nMG3GZRm7Azx",
        "colab_type": "text"
      },
      "source": [
        "### Checking the type of function"
      ]
    },
    {
      "cell_type": "code",
      "metadata": {
        "id": "pRMnPata6-cT",
        "colab_type": "code",
        "outputId": "b372ca7b-79e7-46bf-8052-fd379d307bfe",
        "colab": {
          "base_uri": "https://localhost:8080/",
          "height": 34
        }
      },
      "source": [
        "type(say_hello)"
      ],
      "execution_count": 35,
      "outputs": [
        {
          "output_type": "execute_result",
          "data": {
            "text/plain": [
              "function"
            ]
          },
          "metadata": {
            "tags": []
          },
          "execution_count": 35
        }
      ]
    },
    {
      "cell_type": "markdown",
      "metadata": {
        "id": "gR0Xr-BikyvO",
        "colab_type": "text"
      },
      "source": [
        "\n",
        "###  Arguments\n",
        "\n",
        "Information can be passed into functions as arguments.\n",
        "\n",
        "Arguments are specified after the function name, inside the parentheses. You can add as many arguments as you want, just separate them with a comma.\n",
        "\n",
        "Let's write a function that greets people with their name.\n",
        "\n",
        "\n",
        "Note: Arguments are often shortened to args in Python documentations.\n"
      ]
    },
    {
      "cell_type": "markdown",
      "metadata": {
        "id": "X4GHmah_1ou5",
        "colab_type": "text"
      },
      "source": [
        "### Parameters or Arguments?\n",
        "\n",
        "The terms parameter and argument can be used for the same thing: information that are passed into a function.\n",
        "\n",
        "### From a function's perspective:\n",
        "\n",
        "A parameter is the variable listed inside the parentheses in the function definition.\n",
        "\n",
        "An argument is the value that is sent to the function when it is called.\n"
      ]
    },
    {
      "cell_type": "code",
      "metadata": {
        "id": "Zx38B7_nkyvS",
        "colab_type": "code",
        "colab": {}
      },
      "source": [
        "def greeting(name):\n",
        "    print(f'Hello!!! Welcome to the Python Course..... {name}' )"
      ],
      "execution_count": 0,
      "outputs": []
    },
    {
      "cell_type": "code",
      "metadata": {
        "id": "F0ANCAbskyvg",
        "colab_type": "code",
        "outputId": "099ca18b-8403-41e5-ba8d-17997f01e58c",
        "colab": {
          "base_uri": "https://localhost:8080/",
          "height": 86
        }
      },
      "source": [
        "greeting('Kristin Mullaney')\n",
        "greeting('Harpreet Kaur')\n",
        "greeting('Peter')\n",
        "greeting('Jack')"
      ],
      "execution_count": 39,
      "outputs": [
        {
          "output_type": "stream",
          "text": [
            "Hello!!! Welcome to the Python Course..... Kristin Mullaney\n",
            "Hello!!! Welcome to the Python Course..... Harpreet Kaur\n",
            "Hello!!! Welcome to the Python Course..... Peter\n",
            "Hello!!! Welcome to the Python Course..... Jack\n"
          ],
          "name": "stdout"
        }
      ]
    },
    {
      "cell_type": "markdown",
      "metadata": {
        "id": "aw6lkWIs2n6j",
        "colab_type": "text"
      },
      "source": [
        "### Number of Arguments\n",
        "\n",
        "By default, a function must be called with the correct number of arguments. Meaning that if your function expects 2 arguments, you have to call the function with 2 arguments, not more, and not less.\n"
      ]
    },
    {
      "cell_type": "code",
      "metadata": {
        "id": "cPjJdxeu2v_8",
        "colab_type": "code",
        "outputId": "a1e60462-d460-4648-beac-174edf6760e9",
        "colab": {
          "base_uri": "https://localhost:8080/",
          "height": 34
        }
      },
      "source": [
        "def my_function(fname, lname):\n",
        "  print(fname + \" \" + lname)\n",
        "\n",
        "my_function(\"Kristin\", \"Mullaney\") "
      ],
      "execution_count": 40,
      "outputs": [
        {
          "output_type": "stream",
          "text": [
            "Kristin Mullaney\n"
          ],
          "name": "stdout"
        }
      ]
    },
    {
      "cell_type": "code",
      "metadata": {
        "id": "d-GF-1UV22z_",
        "colab_type": "code",
        "outputId": "3366f275-2b0d-4b0e-c4f7-ac9d0ceb8fdd",
        "colab": {
          "base_uri": "https://localhost:8080/",
          "height": 167
        }
      },
      "source": [
        "my_function(\"Kristin\") "
      ],
      "execution_count": 41,
      "outputs": [
        {
          "output_type": "error",
          "ename": "TypeError",
          "evalue": "ignored",
          "traceback": [
            "\u001b[0;31m---------------------------------------------------------------------------\u001b[0m",
            "\u001b[0;31mTypeError\u001b[0m                                 Traceback (most recent call last)",
            "\u001b[0;32m<ipython-input-41-829c6dc94539>\u001b[0m in \u001b[0;36m<module>\u001b[0;34m()\u001b[0m\n\u001b[0;32m----> 1\u001b[0;31m \u001b[0mmy_function\u001b[0m\u001b[0;34m(\u001b[0m\u001b[0;34m\"Kristin\"\u001b[0m\u001b[0;34m)\u001b[0m\u001b[0;34m\u001b[0m\u001b[0;34m\u001b[0m\u001b[0m\n\u001b[0m",
            "\u001b[0;31mTypeError\u001b[0m: my_function() missing 1 required positional argument: 'lname'"
          ]
        }
      ]
    },
    {
      "cell_type": "code",
      "metadata": {
        "id": "8F0Q4Gj-3Jd4",
        "colab_type": "code",
        "outputId": "a77de553-3b9b-46b5-8225-749d34798c50",
        "colab": {
          "base_uri": "https://localhost:8080/",
          "height": 167
        }
      },
      "source": [
        "my_function(\"Kristin\", \"middle name\" , \"Mullaney\") "
      ],
      "execution_count": 42,
      "outputs": [
        {
          "output_type": "error",
          "ename": "TypeError",
          "evalue": "ignored",
          "traceback": [
            "\u001b[0;31m---------------------------------------------------------------------------\u001b[0m",
            "\u001b[0;31mTypeError\u001b[0m                                 Traceback (most recent call last)",
            "\u001b[0;32m<ipython-input-42-ed630f67ada8>\u001b[0m in \u001b[0;36m<module>\u001b[0;34m()\u001b[0m\n\u001b[0;32m----> 1\u001b[0;31m \u001b[0mmy_function\u001b[0m\u001b[0;34m(\u001b[0m\u001b[0;34m\"Kristin\"\u001b[0m\u001b[0;34m,\u001b[0m \u001b[0;34m\"middle name\"\u001b[0m \u001b[0;34m,\u001b[0m \u001b[0;34m\"Mullaney\"\u001b[0m\u001b[0;34m)\u001b[0m\u001b[0;34m\u001b[0m\u001b[0;34m\u001b[0m\u001b[0m\n\u001b[0m",
            "\u001b[0;31mTypeError\u001b[0m: my_function() takes 2 positional arguments but 3 were given"
          ]
        }
      ]
    },
    {
      "cell_type": "markdown",
      "metadata": {
        "id": "KQiGUHOquNxW",
        "colab_type": "text"
      },
      "source": [
        "### Default Parameter Value\n",
        "\n",
        "The following example shows how to use a default parameter value.\n",
        "\n",
        "If we call the function without argument, it uses the default value:\n"
      ]
    },
    {
      "cell_type": "code",
      "metadata": {
        "id": "8tA38Hd32_AW",
        "colab_type": "code",
        "outputId": "ae2539c9-8f36-445b-986d-e78327e0895b",
        "colab": {
          "base_uri": "https://localhost:8080/",
          "height": 52
        }
      },
      "source": [
        "def my_function(fname='', lname=''):\n",
        "  print(f\" First name = {fname}\")\n",
        "  print(f\" Last name = {lname}\")\n",
        "\n",
        "#my_function('Kristin','' )  equivalent to my_function('Kristin' ) \n",
        "my_function(\"\" , 'Mullaney')\n",
        "#my_function('Mullaney') "
      ],
      "execution_count": 50,
      "outputs": [
        {
          "output_type": "stream",
          "text": [
            " First name = \n",
            " Last name = Mullaney\n"
          ],
          "name": "stdout"
        }
      ]
    },
    {
      "cell_type": "code",
      "metadata": {
        "id": "Vvc0c84_4v9B",
        "colab_type": "code",
        "outputId": "9db31e8c-671b-4368-b435-a0d8d018933e",
        "colab": {
          "base_uri": "https://localhost:8080/",
          "height": 86
        }
      },
      "source": [
        "def my_function(country = \"Norway\"):\n",
        "  print(\"I am from \" + country)\n",
        "\n",
        "my_function()\n",
        "my_function(\"India\")\n",
        "my_function(\"CANADA\")\n",
        "my_function(\"USA\") "
      ],
      "execution_count": 54,
      "outputs": [
        {
          "output_type": "stream",
          "text": [
            "I am from Norway\n",
            "I am from India\n",
            "I am from CANADA\n",
            "I am from USA\n"
          ],
          "name": "stdout"
        }
      ]
    },
    {
      "cell_type": "markdown",
      "metadata": {
        "id": "e-XOSdzfBemZ",
        "colab_type": "text"
      },
      "source": [
        "`add_numbers` is a function that takes two numbers and adds them together."
      ]
    },
    {
      "cell_type": "code",
      "metadata": {
        "id": "VEMZlnB7A0Sr",
        "colab_type": "code",
        "outputId": "b9bfc645-bf08-4778-a5c6-5c2311bd0f83",
        "colab": {
          "base_uri": "https://localhost:8080/",
          "height": 52
        }
      },
      "source": [
        "def add_numbers(x, y):\n",
        "    return x + y\n",
        "\n",
        "print(add_numbers(2,7))\n",
        "print(add_numbers(1900, 2000))"
      ],
      "execution_count": 56,
      "outputs": [
        {
          "output_type": "stream",
          "text": [
            "14\n",
            "3800000\n"
          ],
          "name": "stdout"
        }
      ]
    },
    {
      "cell_type": "code",
      "metadata": {
        "id": "VywothEQ_tSN",
        "colab_type": "code",
        "colab": {
          "base_uri": "https://localhost:8080/",
          "height": 121
        },
        "outputId": "ab806005-73f5-4308-8af4-f7ec44469b07"
      },
      "source": [
        "def sum_product_numbers(x, y):\n",
        "  addition = x+y\n",
        "  product = x*y\n",
        "  return (addition, product)\n",
        "\n",
        "addition_result , product_result = sum_product_numbers(2,7)\n",
        "\n",
        "print(addition_result)\n",
        "print(product_result)\n",
        "\n",
        "print ( sum_product_numbers(2000056765765,75456456476576))\n",
        "print ( sum_product_numbers(566,76786) )\n",
        "print ( sum_product_numbers(13,13))\n",
        "print ( sum_product_numbers(2,7))\n"
      ],
      "execution_count": 65,
      "outputs": [
        {
          "output_type": "stream",
          "text": [
            "9\n",
            "14\n",
            "(77456513242341, 150917196296628082041220640)\n",
            "(77352, 43460876)\n",
            "(26, 169)\n",
            "(9, 14)\n"
          ],
          "name": "stdout"
        }
      ]
    },
    {
      "cell_type": "markdown",
      "metadata": {
        "id": "K7l9B6IjBVzt",
        "colab_type": "text"
      },
      "source": [
        "`add_numbers` updated to take an optional 3rd parameter. Using `print` allows printing of multiple expressions within a single cell."
      ]
    },
    {
      "cell_type": "code",
      "metadata": {
        "id": "x2PkxGhzBX6a",
        "colab_type": "code",
        "outputId": "fc09e95c-88f6-4f2d-c116-772d213436f9",
        "colab": {
          "base_uri": "https://localhost:8080/",
          "height": 52
        }
      },
      "source": [
        "def add_numbers(x,y,z=None):\n",
        "    if (z==None):\n",
        "        return x+y\n",
        "    else:\n",
        "        return x+y+z\n",
        "\n",
        "print(add_numbers(1, 2))\n",
        "print(add_numbers(1, 2, 3))"
      ],
      "execution_count": 67,
      "outputs": [
        {
          "output_type": "stream",
          "text": [
            "3\n",
            "6\n"
          ],
          "name": "stdout"
        }
      ]
    },
    {
      "cell_type": "markdown",
      "metadata": {
        "id": "AmdDXmTwCaHS",
        "colab_type": "text"
      },
      "source": [
        "`add_numbers` updated to take an optional flag parameter."
      ]
    },
    {
      "cell_type": "markdown",
      "metadata": {
        "id": "IE9m4pVc312O",
        "colab_type": "text"
      },
      "source": [
        "### Keyword Arguments\n",
        "\n",
        "You can also send arguments with the key = value syntax.\n",
        "\n",
        "This way the order of the arguments does not matter."
      ]
    },
    {
      "cell_type": "code",
      "metadata": {
        "id": "8dLV6pGD38f5",
        "colab_type": "code",
        "outputId": "d1c99370-9e87-47c1-cf18-bfafd1641ef6",
        "colab": {
          "base_uri": "https://localhost:8080/",
          "height": 69
        }
      },
      "source": [
        "def my_function(child1, child2, child3):\n",
        "  print(\"The first child is \" + child1)\n",
        "  print(\"The second child is \" + child2)\n",
        "  print(\"The third child is \" + child3)\n",
        "\n",
        "my_function( child2 = \"Jack\", child3 = \"Maria\" , child1 = \"Tom\") "
      ],
      "execution_count": 71,
      "outputs": [
        {
          "output_type": "stream",
          "text": [
            "The first child is Tom\n",
            "The second child is Jack\n",
            "The third child is Maria\n"
          ],
          "name": "stdout"
        }
      ]
    },
    {
      "cell_type": "code",
      "metadata": {
        "id": "RDrK2mRmCfqM",
        "colab_type": "code",
        "outputId": "319c19f3-ff7a-422a-cf93-72ee2d4b578d",
        "colab": {
          "base_uri": "https://localhost:8080/",
          "height": 52
        }
      },
      "source": [
        "def add_numbers(x, y, z=None, flag=False):\n",
        "    if (flag):\n",
        "        print('Flag is true!')\n",
        "    if (z==None):\n",
        "        return x + y\n",
        "    else:\n",
        "        return x + y + z\n",
        "    \n",
        "print(add_numbers(1, 2, flag = True))"
      ],
      "execution_count": 72,
      "outputs": [
        {
          "output_type": "stream",
          "text": [
            "Flag is true!\n",
            "3\n"
          ],
          "name": "stdout"
        }
      ]
    },
    {
      "cell_type": "markdown",
      "metadata": {
        "id": "GyumQrJR42Wo",
        "colab_type": "text"
      },
      "source": [
        "### Passing a List as an Argument\n",
        "\n"
      ]
    },
    {
      "cell_type": "code",
      "metadata": {
        "id": "R3muRO8_5CxJ",
        "colab_type": "code",
        "outputId": "bbef04d7-b30e-42e4-8d2e-744214af9404",
        "colab": {
          "base_uri": "https://localhost:8080/",
          "height": 69
        }
      },
      "source": [
        "def my_function(food):\n",
        "  for x in food:\n",
        "    print(x)\n",
        "\n",
        "fruits = [\"apple\", \"banana\", \"cherry\"]\n",
        "\n",
        "my_function(fruits)"
      ],
      "execution_count": 73,
      "outputs": [
        {
          "output_type": "stream",
          "text": [
            "apple\n",
            "banana\n",
            "cherry\n"
          ],
          "name": "stdout"
        }
      ]
    },
    {
      "cell_type": "markdown",
      "metadata": {
        "id": "DE8oDgPI5Pae",
        "colab_type": "text"
      },
      "source": [
        "### The pass Statement\n",
        "\n",
        "function definitions cannot be empty, but if you for some reason have a function definition with no content, put in the pass statement to avoid getting an error."
      ]
    },
    {
      "cell_type": "code",
      "metadata": {
        "id": "SgIp1q2p5VY6",
        "colab_type": "code",
        "colab": {}
      },
      "source": [
        "def myfunction():\n",
        "  pass"
      ],
      "execution_count": 0,
      "outputs": []
    },
    {
      "cell_type": "markdown",
      "metadata": {
        "id": "pdFqHBtHkyvz",
        "colab_type": "text"
      },
      "source": [
        "\n",
        "## Using return\n",
        "Let's see some example that use a <code>return</code> statement. <code>return</code> allows a function to *return* a result that can then be stored as a variable, or used in whatever manner a user wants."
      ]
    },
    {
      "cell_type": "code",
      "metadata": {
        "id": "6qsBmMp_DGcj",
        "colab_type": "code",
        "outputId": "e6ba2a4b-6c5a-4342-f5b3-e7f2e596865d",
        "colab": {
          "base_uri": "https://localhost:8080/",
          "height": 34
        }
      },
      "source": [
        "def add_numbers(x,y):\n",
        "    return x+y\n",
        "\n",
        "addition = add_numbers(5,9)\n",
        "\n",
        "print(f\"My updated balance in the bank is { 5 + addition }\")\n"
      ],
      "execution_count": 79,
      "outputs": [
        {
          "output_type": "stream",
          "text": [
            "My updated balance in the bank is 19\n"
          ],
          "name": "stdout"
        }
      ]
    },
    {
      "cell_type": "markdown",
      "metadata": {
        "id": "Qvz3hPy7kywq",
        "colab_type": "text"
      },
      "source": [
        "What happens if we input two strings?"
      ]
    },
    {
      "cell_type": "code",
      "metadata": {
        "id": "TFQFusGUDwaC",
        "colab_type": "code",
        "colab": {
          "base_uri": "https://localhost:8080/",
          "height": 34
        },
        "outputId": "43258101-ac52-40bd-dc04-ff6dbd08f26d"
      },
      "source": [
        "'one' + 'two' # concatenation"
      ],
      "execution_count": 81,
      "outputs": [
        {
          "output_type": "execute_result",
          "data": {
            "text/plain": [
              "'onetwo'"
            ]
          },
          "metadata": {
            "tags": []
          },
          "execution_count": 81
        }
      ]
    },
    {
      "cell_type": "code",
      "metadata": {
        "id": "1_p9ch_Tkywt",
        "colab_type": "code",
        "outputId": "8948f1d9-b88f-4a04-8c0b-835687ab539e",
        "colab": {
          "base_uri": "https://localhost:8080/",
          "height": 34
        }
      },
      "source": [
        "add_numbers('one','two')"
      ],
      "execution_count": 80,
      "outputs": [
        {
          "output_type": "execute_result",
          "data": {
            "text/plain": [
              "'onetwo'"
            ]
          },
          "metadata": {
            "tags": []
          },
          "execution_count": 80
        }
      ]
    },
    {
      "cell_type": "markdown",
      "metadata": {
        "id": "2uNbLiRDkyw4",
        "colab_type": "text"
      },
      "source": [
        "Note that because we don't declare variable types in Python, this function could be used to add numbers or sequences together! We'll later learn about adding in checks to make sure a user puts in the correct arguments into a function.\n",
        "\n",
        "Let's also start using <code>break</code>, <code>continue</code>, and <code>pass</code> statements in our code. We introduced these during the <code>while</code> lecture."
      ]
    },
    {
      "cell_type": "markdown",
      "metadata": {
        "collapsed": true,
        "id": "cgiUKnyzkyw5",
        "colab_type": "text"
      },
      "source": [
        "Finally let's go over a full example of creating a function to check if a number is prime (a common interview exercise).\n",
        "\n",
        "We know a number is prime if that number is only evenly divisible by 1 and itself. Let's write our first version of the function to check all the numbers from 1 to N and perform modulo checks."
      ]
    },
    {
      "cell_type": "code",
      "metadata": {
        "id": "aEplGn7Ukyw8",
        "colab_type": "code",
        "colab": {}
      },
      "source": [
        "def is_prime(num):\n",
        "    '''\n",
        "    Naive method of checking for primes. \n",
        "    '''\n",
        "    for n in range(2,num): #range(0,9)\n",
        "        if num % n == 0:\n",
        "            print(num,'is not prime')\n",
        "            break\n",
        "    else: # If never mod zero, then prime\n",
        "        print(num,'is prime!')"
      ],
      "execution_count": 0,
      "outputs": []
    },
    {
      "cell_type": "code",
      "metadata": {
        "id": "-mbaKhsukyxK",
        "colab_type": "code",
        "outputId": "061d1d44-510e-4257-cda4-ecd461a84a34",
        "colab": {
          "base_uri": "https://localhost:8080/",
          "height": 34
        }
      },
      "source": [
        "is_prime(16)"
      ],
      "execution_count": 83,
      "outputs": [
        {
          "output_type": "stream",
          "text": [
            "16 is not prime\n"
          ],
          "name": "stdout"
        }
      ]
    },
    {
      "cell_type": "code",
      "metadata": {
        "id": "kf8H0wM_kyxY",
        "colab_type": "code",
        "outputId": "5df62812-4e03-4d4f-d8d2-90b7187b4ebc",
        "colab": {
          "base_uri": "https://localhost:8080/",
          "height": 34
        }
      },
      "source": [
        "is_prime(17)\n"
      ],
      "execution_count": 85,
      "outputs": [
        {
          "output_type": "stream",
          "text": [
            "17 is prime!\n"
          ],
          "name": "stdout"
        }
      ]
    },
    {
      "cell_type": "code",
      "metadata": {
        "id": "KPgVt9v3FarW",
        "colab_type": "code",
        "colab": {
          "base_uri": "https://localhost:8080/",
          "height": 121
        },
        "outputId": "8584fa63-99ea-4896-ea88-51183ba249a6"
      },
      "source": [
        "my_num_list = [3,5,16, 17, 19, 21]\n",
        "\n",
        "for item in my_num_list:\n",
        "  is_prime (item) "
      ],
      "execution_count": 87,
      "outputs": [
        {
          "output_type": "stream",
          "text": [
            "3 is prime!\n",
            "5 is prime!\n",
            "16 is not prime\n",
            "17 is prime!\n",
            "19 is prime!\n",
            "21 is not prime\n"
          ],
          "name": "stdout"
        }
      ]
    },
    {
      "cell_type": "markdown",
      "metadata": {
        "id": "KMguum8Okyxp",
        "colab_type": "text"
      },
      "source": [
        "Note how the <code>else</code> lines up under <code>for</code> and not <code>if</code>. This is because we want the <code>for</code> loop to exhaust all possibilities in the range before printing our number is prime.\n",
        "\n",
        "Also note how we break the code after the first print statement. As soon as we determine that a number is not prime we break out of the <code>for</code> loop.\n"
      ]
    },
    {
      "cell_type": "markdown",
      "metadata": {
        "id": "aQm2SYqL5m3B",
        "colab_type": "text"
      },
      "source": [
        "### Recursion\n",
        "\n",
        "Python also accepts function recursion, which means a defined function can call itself.\n",
        "\n",
        "Recursion is a common mathematical and programming concept. It means that a function calls itself. This has the benefit of meaning that you can loop through data to reach a result.\n",
        "\n",
        "The developer should be very careful with recursion as it can be quite easy to slip into writing a function which never terminates, or one that uses excess amounts of memory or processor power. However, when written correctly recursion can be a very efficient and mathematically-elegant approach to programming.\n",
        "\n",
        "In this example, tri_recursion() is a function that we have defined to call itself (\"recurse\"). We use the k variable as the data, which decrements (-1) every time we recurse. The recursion ends when the condition is not greater than 0 (i.e. when it is 0).\n",
        "\n",
        "To a new developer it can take some time to work out how exactly this works, best way to find out is by testing and modifying it."
      ]
    },
    {
      "cell_type": "code",
      "metadata": {
        "id": "QM3f-KRT5t58",
        "colab_type": "code",
        "outputId": "8c969352-db9a-48d9-ac7a-d391b2e6ab0b",
        "colab": {
          "base_uri": "https://localhost:8080/",
          "height": 86
        }
      },
      "source": [
        "def tri_recursion(k):\n",
        "  if(k > 0):\n",
        "    result = k + tri_recursion(k - 1)\n",
        "    #print(result)\n",
        "  else:\n",
        "    result = 0\n",
        "  return result\n",
        "\n",
        "print(\"\\n\\nRecursion Example Results\")\n",
        "tri_recursion(6)"
      ],
      "execution_count": 88,
      "outputs": [
        {
          "output_type": "stream",
          "text": [
            "\n",
            "\n",
            "Recursion Example Results\n"
          ],
          "name": "stdout"
        },
        {
          "output_type": "execute_result",
          "data": {
            "text/plain": [
              "21"
            ]
          },
          "metadata": {
            "tags": []
          },
          "execution_count": 88
        }
      ]
    },
    {
      "cell_type": "markdown",
      "metadata": {
        "id": "1nwpulCfkyyL",
        "colab_type": "text"
      },
      "source": [
        "Great! You should now have a basic understanding of creating your own functions to save yourself from repeatedly writing code!"
      ]
    }
  ]
}