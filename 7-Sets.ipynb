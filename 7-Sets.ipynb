{
  "nbformat": 4,
  "nbformat_minor": 0,
  "metadata": {
    "colab": {
      "name": "Lecture_2_5_Sets.ipynb",
      "provenance": [],
      "collapsed_sections": []
    },
    "kernelspec": {
      "name": "python3",
      "display_name": "Python 3"
    }
  },
  "cells": [
    {
      "cell_type": "markdown",
      "metadata": {
        "id": "EdweUuq7hJNT",
        "colab_type": "text"
      },
      "source": [
        "# Python Collections\n",
        "\n",
        "There are four collection data types in the Python programming language:\n",
        "\n",
        "    List is a collection which is ordered and changeable. Allows duplicate members.\n",
        "    Tuple is a collection which is ordered and unchangeable. Allows duplicate members.\n",
        "    Set is a collection which is unordered and unindexed. No duplicate members.\n",
        "    Dictionary is a collection which is unordered, changeable and indexed. No duplicate members.\n",
        "\n",
        "**Choosing a collection type**\n",
        "\n",
        "When choosing a collection type, it is useful to understand the properties of that type. Choosing the right type for a particular data set could mean retention of meaning, and, it could mean an increase in efficiency or security."
      ]
    },
    {
      "cell_type": "markdown",
      "metadata": {
        "id": "gWW3z34Whixb",
        "colab_type": "text"
      },
      "source": [
        "# SET\n",
        "\n",
        "    Set is a collection which is unordered and unindexed. No duplicate members.\n",
        "\n",
        "    Basic uses include membership testing and eliminating duplicate entries.\n",
        "    Set objects also support mathematical operations like union, intersection, difference, and symmetric difference.\n",
        "\n",
        "    Curly braces or the set() function can be used to create sets. \n",
        "    \n",
        "    Note: to create an empty set you have to use set(), not {}; the latter creates an empty dictionary, a data structure that we discuss in the next section.\n",
        "\n"
      ]
    },
    {
      "cell_type": "code",
      "metadata": {
        "id": "LcT2whdMbD1k",
        "colab_type": "code",
        "colab": {
          "base_uri": "https://localhost:8080/",
          "height": 52
        },
        "outputId": "814d99b9-e961-470c-bc79-e1ceb9549659"
      },
      "source": [
        "empty_set = set() # {} - dictionary\n",
        "print(empty_set) \n",
        "print(type(empty_set))"
      ],
      "execution_count": 2,
      "outputs": [
        {
          "output_type": "stream",
          "text": [
            "set()\n",
            "<class 'set'>\n"
          ],
          "name": "stdout"
        }
      ]
    },
    {
      "cell_type": "code",
      "metadata": {
        "id": "Cd_3lc7NhxSR",
        "colab_type": "code",
        "outputId": "3fb22ac5-7baf-44ae-a306-f8835f2c580a",
        "colab": {
          "base_uri": "https://localhost:8080/",
          "height": 52
        }
      },
      "source": [
        "basket = {'apple', 'orange', 'apple', 'pear', 'orange', 'banana'}\n",
        "print(basket)\n",
        "print(type(basket))"
      ],
      "execution_count": 6,
      "outputs": [
        {
          "output_type": "stream",
          "text": [
            "{'banana', 'apple', 'pear', 'orange'}\n",
            "<class 'set'>\n"
          ],
          "name": "stdout"
        }
      ]
    },
    {
      "cell_type": "markdown",
      "metadata": {
        "id": "VGcPM5J9h7eJ",
        "colab_type": "text"
      },
      "source": [
        "# Access Items using the index number\n",
        "\n",
        "NOT POSSIBLE IN THE CASE OF SETS, AS THE SETS ARE UNORDERED.\n",
        "\n",
        "\n",
        "Is there any other way to access the items?\n",
        "\n",
        "1. Find/ Access the item using the membership operator\n",
        "2. Iterate a loop through the all values of the set.\n",
        "\n",
        "\n"
      ]
    },
    {
      "cell_type": "markdown",
      "metadata": {
        "id": "AhsSjY-om9Uz",
        "colab_type": "text"
      },
      "source": [
        "# Check if Item Exists in the set"
      ]
    },
    {
      "cell_type": "code",
      "metadata": {
        "id": "1LAEetLYm1_2",
        "colab_type": "code",
        "outputId": "82ee710a-7a61-4084-a781-ac55d0ba0240",
        "colab": {
          "base_uri": "https://localhost:8080/",
          "height": 52
        }
      },
      "source": [
        "basket = {'apple', 'orange', 'apple', 'pear', 'orange', 'banana'}\n",
        "print(basket)\n",
        "\n",
        "if \"apple\" in basket :\n",
        "  print(\"Yes, 'apple' is in the fruits set\") \n",
        "else:\n",
        "  print(\"apple is not present in the set\")"
      ],
      "execution_count": 0,
      "outputs": [
        {
          "output_type": "stream",
          "text": [
            "{'apple', 'banana', 'orange', 'pear'}\n",
            "Yes, 'apple' is in the fruits set\n"
          ],
          "name": "stdout"
        }
      ]
    },
    {
      "cell_type": "markdown",
      "metadata": {
        "id": "sdwiKkwFHOA0",
        "colab_type": "text"
      },
      "source": [
        "# Loop Through a set\n",
        "\n",
        "You can loop through the set items by using a for loop"
      ]
    },
    {
      "cell_type": "code",
      "metadata": {
        "id": "Jf8SD0yDHOZh",
        "colab_type": "code",
        "outputId": "40f0d41a-31cf-41c8-b214-161b02cbe4f2",
        "colab": {
          "base_uri": "https://localhost:8080/",
          "height": 86
        }
      },
      "source": [
        "# Print all items in the list, one by one\n",
        "\n",
        "for fruit in basket:\n",
        "  print( fruit)"
      ],
      "execution_count": 0,
      "outputs": [
        {
          "output_type": "stream",
          "text": [
            "apple\n",
            "banana\n",
            "orange\n",
            "pear\n"
          ],
          "name": "stdout"
        }
      ]
    },
    {
      "cell_type": "markdown",
      "metadata": {
        "id": "d_JOCk6rnbtf",
        "colab_type": "text"
      },
      "source": [
        "# Find the set length / number of items in the set"
      ]
    },
    {
      "cell_type": "code",
      "metadata": {
        "id": "MCV8tFiMnPFP",
        "colab_type": "code",
        "outputId": "a23a2af4-ce75-4b11-8ded-badbf32dcfd1",
        "colab": {
          "base_uri": "https://localhost:8080/",
          "height": 34
        }
      },
      "source": [
        "print(len(basket))"
      ],
      "execution_count": 7,
      "outputs": [
        {
          "output_type": "stream",
          "text": [
            "4\n"
          ],
          "name": "stdout"
        }
      ]
    },
    {
      "cell_type": "markdown",
      "metadata": {
        "id": "KOfAY-MUl6Yd",
        "colab_type": "text"
      },
      "source": [
        "# Add items in the set\n",
        "**Remember: Sets are unordered and un-changeable**\n",
        "\n",
        "Once a set is created, you cannot change its items, but you can add new items."
      ]
    },
    {
      "cell_type": "code",
      "metadata": {
        "id": "zaMbpmqLlyLd",
        "colab_type": "code",
        "outputId": "9d2aa69f-e853-43e5-a90d-0399fa1ce45f",
        "colab": {
          "base_uri": "https://localhost:8080/",
          "height": 34
        }
      },
      "source": [
        "# add() : to add an single item in the set\n",
        "\n",
        "basket = {'apple', 'banana', 'orange', 'pear'}\n",
        "basket.add(\"strawberries\")\n",
        "print(basket)"
      ],
      "execution_count": 8,
      "outputs": [
        {
          "output_type": "stream",
          "text": [
            "{'orange', 'pear', 'apple', 'banana', 'strawberries'}\n"
          ],
          "name": "stdout"
        }
      ]
    },
    {
      "cell_type": "markdown",
      "metadata": {
        "id": "QuBbhN-xNsdV",
        "colab_type": "text"
      },
      "source": [
        "**update()**: To add multiple items (as the list of items) in the set"
      ]
    },
    {
      "cell_type": "code",
      "metadata": {
        "id": "JPiZ9I0Bntfj",
        "colab_type": "code",
        "outputId": "b4ce05bb-0649-4343-af5d-58c59ea463af",
        "colab": {
          "base_uri": "https://localhost:8080/",
          "height": 34
        }
      },
      "source": [
        "basket.update([\"blueberries\" , \"mango\" , \"cherries\"])\n",
        "print(basket)"
      ],
      "execution_count": 9,
      "outputs": [
        {
          "output_type": "stream",
          "text": [
            "{'orange', 'pear', 'apple', 'banana', 'strawberries', 'cherries', 'blueberries', 'mango'}\n"
          ],
          "name": "stdout"
        }
      ]
    },
    {
      "cell_type": "markdown",
      "metadata": {
        "id": "6GBratmloRBa",
        "colab_type": "text"
      },
      "source": [
        "# Remove Item from the set"
      ]
    },
    {
      "cell_type": "code",
      "metadata": {
        "id": "Gu3EjxzToMFv",
        "colab_type": "code",
        "outputId": "c4de18b8-1bbc-4b44-ca87-cf21627bbb76",
        "colab": {
          "base_uri": "https://localhost:8080/",
          "height": 34
        }
      },
      "source": [
        "# remove() : Remove the specified value\n",
        "\n",
        "basket = {'apple', 'banana', 'orange', 'pear'}\n",
        "basket.remove(\"banana\")\n",
        "print(basket)"
      ],
      "execution_count": 10,
      "outputs": [
        {
          "output_type": "stream",
          "text": [
            "{'apple', 'pear', 'orange'}\n"
          ],
          "name": "stdout"
        }
      ]
    },
    {
      "cell_type": "code",
      "metadata": {
        "id": "aTThAfJYKj2G",
        "colab_type": "code",
        "outputId": "42c0bef0-99a1-4458-c955-c72bea9ccf8c",
        "colab": {
          "base_uri": "https://localhost:8080/",
          "height": 202
        }
      },
      "source": [
        "# If item to be deleted does not exist, remove() will raise an error\n",
        "basket = {'apple', 'banana', 'orange', 'pear'}\n",
        "basket.remove(\"strawberries\")\n",
        "print(basket)"
      ],
      "execution_count": 11,
      "outputs": [
        {
          "output_type": "error",
          "ename": "KeyError",
          "evalue": "ignored",
          "traceback": [
            "\u001b[0;31m---------------------------------------------------------------------------\u001b[0m",
            "\u001b[0;31mKeyError\u001b[0m                                  Traceback (most recent call last)",
            "\u001b[0;32m<ipython-input-11-d139007aa34a>\u001b[0m in \u001b[0;36m<module>\u001b[0;34m()\u001b[0m\n\u001b[1;32m      1\u001b[0m \u001b[0mbasket\u001b[0m \u001b[0;34m=\u001b[0m \u001b[0;34m{\u001b[0m\u001b[0;34m'apple'\u001b[0m\u001b[0;34m,\u001b[0m \u001b[0;34m'banana'\u001b[0m\u001b[0;34m,\u001b[0m \u001b[0;34m'orange'\u001b[0m\u001b[0;34m,\u001b[0m \u001b[0;34m'pear'\u001b[0m\u001b[0;34m}\u001b[0m\u001b[0;34m\u001b[0m\u001b[0;34m\u001b[0m\u001b[0m\n\u001b[0;32m----> 2\u001b[0;31m \u001b[0mbasket\u001b[0m\u001b[0;34m.\u001b[0m\u001b[0mremove\u001b[0m\u001b[0;34m(\u001b[0m\u001b[0;34m\"strawberries\"\u001b[0m\u001b[0;34m)\u001b[0m\u001b[0;34m\u001b[0m\u001b[0;34m\u001b[0m\u001b[0m\n\u001b[0m\u001b[1;32m      3\u001b[0m \u001b[0mprint\u001b[0m\u001b[0;34m(\u001b[0m\u001b[0mbasket\u001b[0m\u001b[0;34m)\u001b[0m\u001b[0;34m\u001b[0m\u001b[0;34m\u001b[0m\u001b[0m\n",
            "\u001b[0;31mKeyError\u001b[0m: 'strawberries'"
          ]
        }
      ]
    },
    {
      "cell_type": "markdown",
      "metadata": {
        "id": "xKbYsa9SK897",
        "colab_type": "text"
      },
      "source": [
        "If the item to remove does not exist, discard() will NOT raise an error."
      ]
    },
    {
      "cell_type": "code",
      "metadata": {
        "id": "YDQmqVhJK7Hz",
        "colab_type": "code",
        "outputId": "daebabf4-542a-4878-d4f2-233c7fdb850c",
        "colab": {
          "base_uri": "https://localhost:8080/",
          "height": 34
        }
      },
      "source": [
        "basket = {'apple', 'banana', 'orange', 'pear'}\n",
        "basket.discard(\"strawberries\")\n",
        "print(basket)"
      ],
      "execution_count": 12,
      "outputs": [
        {
          "output_type": "stream",
          "text": [
            "{'banana', 'apple', 'pear', 'orange'}\n"
          ],
          "name": "stdout"
        }
      ]
    },
    {
      "cell_type": "markdown",
      "metadata": {
        "id": "htJiAuL6LT5H",
        "colab_type": "text"
      },
      "source": [
        "**pop()** : removes the last item by default. Remember that sets are unordered, so you will not know what item that gets removed.\n"
      ]
    },
    {
      "cell_type": "code",
      "metadata": {
        "id": "2KnCktfSolCE",
        "colab_type": "code",
        "outputId": "5299e6d6-d46e-4e0c-9374-7ef1dbb339f3",
        "colab": {
          "base_uri": "https://localhost:8080/",
          "height": 34
        }
      },
      "source": [
        "basket = {'apple', 'banana', 'orange', 'pear'}\n",
        "basket.pop()\n",
        "print(basket)"
      ],
      "execution_count": 13,
      "outputs": [
        {
          "output_type": "stream",
          "text": [
            "{'apple', 'pear', 'orange'}\n"
          ],
          "name": "stdout"
        }
      ]
    },
    {
      "cell_type": "markdown",
      "metadata": {
        "id": "GVXTMV84LnL_",
        "colab_type": "text"
      },
      "source": [
        "Want to know which item gets removed?\n",
        "The return value of the pop() method is the removed item."
      ]
    },
    {
      "cell_type": "code",
      "metadata": {
        "id": "h9mEONTxLvnA",
        "colab_type": "code",
        "outputId": "57c5cf94-d4bc-41f4-9b36-31e13e0a010f",
        "colab": {
          "base_uri": "https://localhost:8080/",
          "height": 52
        }
      },
      "source": [
        "basket = {'apple', 'banana', 'orange', 'pear'}\n",
        "popped_item = basket.pop()\n",
        "print(popped_item)\n",
        "print(basket)"
      ],
      "execution_count": 15,
      "outputs": [
        {
          "output_type": "stream",
          "text": [
            "banana\n",
            "{'apple', 'pear', 'orange'}\n"
          ],
          "name": "stdout"
        }
      ]
    },
    {
      "cell_type": "markdown",
      "metadata": {
        "id": "jm9vF9ubL_EV",
        "colab_type": "text"
      },
      "source": [
        "**del** : keyword (not a function) removes the entire set completely\n"
      ]
    },
    {
      "cell_type": "code",
      "metadata": {
        "id": "IYWfPpVPpM0x",
        "colab_type": "code",
        "colab": {}
      },
      "source": [
        "basket = {'apple', 'banana', 'orange', 'pear'}\n",
        "del basket\n",
        "#print(basket)"
      ],
      "execution_count": 0,
      "outputs": []
    },
    {
      "cell_type": "markdown",
      "metadata": {
        "id": "XbpqS_dHMTpU",
        "colab_type": "text"
      },
      "source": [
        "**clear()** : clear the set"
      ]
    },
    {
      "cell_type": "code",
      "metadata": {
        "id": "W8oucsnnqCcw",
        "colab_type": "code",
        "outputId": "d6d2793c-e912-4557-8d53-d1377c149e52",
        "colab": {
          "base_uri": "https://localhost:8080/",
          "height": 52
        }
      },
      "source": [
        "basket = {'apple', 'banana', 'orange', 'pear'}\n",
        "basket.clear()\n",
        "print(basket)\n",
        "print(bool(basket))"
      ],
      "execution_count": 18,
      "outputs": [
        {
          "output_type": "stream",
          "text": [
            "set()\n",
            "False\n"
          ],
          "name": "stdout"
        }
      ]
    },
    {
      "cell_type": "markdown",
      "metadata": {
        "id": "AMIc1weCq0Ly",
        "colab_type": "text"
      },
      "source": [
        "# Copy of a set\n"
      ]
    },
    {
      "cell_type": "code",
      "metadata": {
        "id": "ofCvQ2a5r372",
        "colab_type": "code",
        "outputId": "c101edea-0e70-4b2d-a595-42a9631fd1c8",
        "colab": {
          "base_uri": "https://localhost:8080/",
          "height": 52
        }
      },
      "source": [
        "basket = {'apple', 'banana', 'orange', 'pear'}\n",
        "basket2 = basket.copy()\n",
        "\n",
        "print(basket)\n",
        "print(basket2)"
      ],
      "execution_count": 19,
      "outputs": [
        {
          "output_type": "stream",
          "text": [
            "{'banana', 'apple', 'pear', 'orange'}\n",
            "{'banana', 'apple', 'pear', 'orange'}\n"
          ],
          "name": "stdout"
        }
      ]
    },
    {
      "cell_type": "markdown",
      "metadata": {
        "id": "Oz69l5gWtOX_",
        "colab_type": "text"
      },
      "source": [
        "# Join two lists\n",
        "\n",
        "**union()** method that returns a new set containing all items from both sets\n",
        "\n",
        "**update()** method that inserts all the items from one set into another. The update() method updates the current set, by adding items from another set.\n",
        "\n",
        "Both union() and update() will exclude any duplicate items."
      ]
    },
    {
      "cell_type": "code",
      "metadata": {
        "id": "OTYD5RemQKUH",
        "colab_type": "code",
        "outputId": "70580d06-74c3-4bac-9db9-46f1e12c44c2",
        "colab": {
          "base_uri": "https://localhost:8080/",
          "height": 52
        }
      },
      "source": [
        "set1 = {\"a\", \"b\" , \"c\"}\n",
        "set2 = {1, 2, 3}\n",
        "\n",
        "set1.update(set2)\n",
        "\n",
        "print(set1) \n",
        "print(set2)"
      ],
      "execution_count": 20,
      "outputs": [
        {
          "output_type": "stream",
          "text": [
            "{1, 2, 3, 'b', 'c', 'a'}\n",
            "{1, 2, 3}\n"
          ],
          "name": "stdout"
        }
      ]
    },
    {
      "cell_type": "code",
      "metadata": {
        "id": "KoLH7sdZs2DR",
        "colab_type": "code",
        "outputId": "59ec7813-fa0c-4832-c8ee-5dd7e73bc5cc",
        "colab": {
          "base_uri": "https://localhost:8080/",
          "height": 86
        }
      },
      "source": [
        "set1 = {\"a\", \"b\" , \"c\" , \"x\"}\n",
        "set2 = {1, 2, 3}\n",
        "set3 = {\"x\" , \"y\" , \"z\" , \"a\"}\n",
        "\n",
        "set4 = set1.union(set2, set3)\n",
        "\n",
        "print(set1) \n",
        "print(set2) \n",
        "print(set3) \n",
        "print(set4) "
      ],
      "execution_count": 21,
      "outputs": [
        {
          "output_type": "stream",
          "text": [
            "{'b', 'c', 'a', 'x'}\n",
            "{1, 2, 3}\n",
            "{'z', 'a', 'y', 'x'}\n",
            "{1, 2, 3, 'y', 'a', 'z', 'b', 'c', 'x'}\n"
          ],
          "name": "stdout"
        }
      ]
    },
    {
      "cell_type": "markdown",
      "metadata": {
        "id": "BCe_4c56R9Yu",
        "colab_type": "text"
      },
      "source": [
        "# Set Methods"
      ]
    },
    {
      "cell_type": "code",
      "metadata": {
        "id": "T4E6d7OdQWWX",
        "colab_type": "code",
        "outputId": "f1df4f64-c52e-4ca4-a98a-089e2d391257",
        "colab": {
          "base_uri": "https://localhost:8080/",
          "height": 69
        }
      },
      "source": [
        "set1 = {\"a\", \"b\" , \"c\" , \"x\"}\n",
        "set2 = {\"x\" , \"y\" , \"z\" , \"a\"}\n",
        "\n",
        "difference_set = set1.difference(set2)\n",
        "\n",
        "print(set1)\n",
        "print(set2)\n",
        "print(difference_set)"
      ],
      "execution_count": 22,
      "outputs": [
        {
          "output_type": "stream",
          "text": [
            "{'b', 'c', 'a', 'x'}\n",
            "{'z', 'a', 'y', 'x'}\n",
            "{'b', 'c'}\n"
          ],
          "name": "stdout"
        }
      ]
    },
    {
      "cell_type": "code",
      "metadata": {
        "id": "xAqY-gXiSVYH",
        "colab_type": "code",
        "outputId": "92826ffa-3838-46bf-e6bb-a70c59f829b0",
        "colab": {
          "base_uri": "https://localhost:8080/",
          "height": 34
        }
      },
      "source": [
        "set1 = {\"a\", \"b\" , \"c\" , \"x\"}\n",
        "set2 = {\"x\" , \"y\" , \"z\" , \"a\"}\n",
        "\n",
        "difference_set = set1 - set2\n",
        "print(difference_set)"
      ],
      "execution_count": 0,
      "outputs": [
        {
          "output_type": "stream",
          "text": [
            "{'b', 'c'}\n"
          ],
          "name": "stdout"
        }
      ]
    },
    {
      "cell_type": "markdown",
      "metadata": {
        "id": "i26p0FR4TXaM",
        "colab_type": "text"
      },
      "source": [
        "**difference()** method returns a new set, without the unwanted items, and without affecting the original set \n",
        "\n",
        "**difference_update()** method removes the unwanted items from the original set"
      ]
    },
    {
      "cell_type": "code",
      "metadata": {
        "id": "6xT9QI3-ShDv",
        "colab_type": "code",
        "outputId": "728de9d1-3b49-4a8e-d511-066149380c65",
        "colab": {
          "base_uri": "https://localhost:8080/",
          "height": 52
        }
      },
      "source": [
        "set1 = {\"a\", \"b\" , \"c\" , \"x\"}\n",
        "set2 = {\"x\" , \"y\" , \"z\" , \"a\"}\n",
        "\n",
        "set1.difference_update(set2)\n",
        "\n",
        "print(set1)\n",
        "print(set2)"
      ],
      "execution_count": 24,
      "outputs": [
        {
          "output_type": "stream",
          "text": [
            "{'b', 'c'}\n",
            "{'z', 'a', 'y', 'x'}\n"
          ],
          "name": "stdout"
        }
      ]
    },
    {
      "cell_type": "code",
      "metadata": {
        "id": "w-Y9dYSCTLPz",
        "colab_type": "code",
        "outputId": "de7e86f8-32c7-4628-c2fe-d76c1f666d88",
        "colab": {
          "base_uri": "https://localhost:8080/",
          "height": 69
        }
      },
      "source": [
        "set1 = {\"a\", \"b\" , \"c\" , \"x\"}\n",
        "set2 = {\"x\" , \"y\" , \"z\" , \"a\"}\n",
        "\n",
        "common_set = set1.intersection(set2)\n",
        "\n",
        "print(set1)\n",
        "print(set2)\n",
        "print(common_set)"
      ],
      "execution_count": 25,
      "outputs": [
        {
          "output_type": "stream",
          "text": [
            "{'b', 'c', 'a', 'x'}\n",
            "{'z', 'a', 'y', 'x'}\n",
            "{'a', 'x'}\n"
          ],
          "name": "stdout"
        }
      ]
    },
    {
      "cell_type": "code",
      "metadata": {
        "id": "hXopsWjDT7xs",
        "colab_type": "code",
        "outputId": "1f49c860-e265-4002-c608-08a05b67ae58",
        "colab": {
          "base_uri": "https://localhost:8080/",
          "height": 69
        }
      },
      "source": [
        "set1 = {\"a\", \"b\" , \"c\" , \"x\"}\n",
        "set2 = {\"x\" , \"y\" , \"z\" , \"a\"}\n",
        "\n",
        "common_set = set1 & set2\n",
        "\n",
        "print(set1)\n",
        "print(set2)\n",
        "print(common_set)"
      ],
      "execution_count": 0,
      "outputs": [
        {
          "output_type": "stream",
          "text": [
            "{'a', 'b', 'c', 'x'}\n",
            "{'a', 'z', 'y', 'x'}\n",
            "{'a', 'x'}\n"
          ],
          "name": "stdout"
        }
      ]
    },
    {
      "cell_type": "code",
      "metadata": {
        "id": "U_hLsUJ6UCm3",
        "colab_type": "code",
        "outputId": "02bfbb27-5c24-4151-90ce-807f0260a925",
        "colab": {
          "base_uri": "https://localhost:8080/",
          "height": 52
        }
      },
      "source": [
        "set1 = {\"a\", \"b\" , \"c\" , \"x\"}\n",
        "set2 = {\"x\" , \"y\" , \"z\" , \"a\"}\n",
        "\n",
        "set1.intersection_update(set2)\n",
        "\n",
        "print(set1)\n",
        "print(set2)"
      ],
      "execution_count": 26,
      "outputs": [
        {
          "output_type": "stream",
          "text": [
            "{'a', 'x'}\n",
            "{'z', 'a', 'y', 'x'}\n"
          ],
          "name": "stdout"
        }
      ]
    },
    {
      "cell_type": "markdown",
      "metadata": {
        "id": "VXQgSH_3UoNH",
        "colab_type": "text"
      },
      "source": [
        "**isdisjoint()** method returns \n",
        "\n",
        "    True if no common item in both sets\n",
        "    False if there is any common item in the sets"
      ]
    },
    {
      "cell_type": "code",
      "metadata": {
        "id": "EHAuL23uUb7r",
        "colab_type": "code",
        "outputId": "fe95124c-8035-41df-a620-1a40f4814426",
        "colab": {
          "base_uri": "https://localhost:8080/",
          "height": 34
        }
      },
      "source": [
        "set1 = {\"a\", \"b\" , \"c\" , \"x\"}\n",
        "set2 = {\"x\" , \"y\" , \"z\" , \"a\"}\n",
        "\n",
        "disjoint = set1.isdisjoint(set2)\n",
        "\n",
        "print(disjoint)"
      ],
      "execution_count": 27,
      "outputs": [
        {
          "output_type": "stream",
          "text": [
            "False\n"
          ],
          "name": "stdout"
        }
      ]
    },
    {
      "cell_type": "code",
      "metadata": {
        "id": "30MFVGzbVMmp",
        "colab_type": "code",
        "outputId": "1d6edaf5-ede1-4387-ed5c-d1ddaf99290f",
        "colab": {
          "base_uri": "https://localhost:8080/",
          "height": 34
        }
      },
      "source": [
        "set1 = {\"a\", \"b\" , \"c\" }\n",
        "set2 = {\"x\" , \"y\" , \"z\" }\n",
        "\n",
        "disjoint = set1.isdisjoint(set2)\n",
        "\n",
        "print(disjoint)"
      ],
      "execution_count": 28,
      "outputs": [
        {
          "output_type": "stream",
          "text": [
            "True\n"
          ],
          "name": "stdout"
        }
      ]
    },
    {
      "cell_type": "code",
      "metadata": {
        "id": "MZD4mq-rVSdB",
        "colab_type": "code",
        "outputId": "46611565-80b0-4578-8d04-6f9fff15864e",
        "colab": {
          "base_uri": "https://localhost:8080/",
          "height": 34
        }
      },
      "source": [
        "set1 = {\"a\", \"b\" , \"c\" }\n",
        "set2 = {\"x\" , \"y\" , \"z\" , \"a\", \"b\" ,\"c\"}\n",
        "\n",
        "subset = set1.issubset(set2)\n",
        "print(subset)\n"
      ],
      "execution_count": 29,
      "outputs": [
        {
          "output_type": "stream",
          "text": [
            "True\n"
          ],
          "name": "stdout"
        }
      ]
    },
    {
      "cell_type": "code",
      "metadata": {
        "id": "d35yFc6-VmEN",
        "colab_type": "code",
        "outputId": "44b18ca0-2a5a-4308-a645-c04f3d48a8f4",
        "colab": {
          "base_uri": "https://localhost:8080/",
          "height": 34
        }
      },
      "source": [
        "set1 = {\"a\", \"b\" , \"c\" }\n",
        "set2 = {\"x\" , \"y\" , \"z\" , \"a\", \"b\" ,\"c\"}\n",
        "\n",
        "#subset = set1.issuperset(set2)\n",
        "subset = set2.issuperset(set1)\n",
        "print(subset)"
      ],
      "execution_count": 31,
      "outputs": [
        {
          "output_type": "stream",
          "text": [
            "True\n"
          ],
          "name": "stdout"
        }
      ]
    },
    {
      "cell_type": "markdown",
      "metadata": {
        "id": "D1mYxhUQV5u7",
        "colab_type": "text"
      },
      "source": [
        "**symmetric_difference()** returned set contains a mix of items that are not present in both sets."
      ]
    },
    {
      "cell_type": "code",
      "metadata": {
        "id": "y6cpicU_WFrR",
        "colab_type": "code",
        "outputId": "142efc7a-2cd1-40f7-e161-619a8720b892",
        "colab": {
          "base_uri": "https://localhost:8080/",
          "height": 34
        }
      },
      "source": [
        "set1 = {\"a\", \"b\" , \"c\" , \"x\"}\n",
        "set2 = {\"x\" , \"y\" , \"z\" , \"a\"}\n",
        "\n",
        "symmetric_difference_set = set1.symmetric_difference(set2)\n",
        "\n",
        "print(symmetric_difference_set)"
      ],
      "execution_count": 33,
      "outputs": [
        {
          "output_type": "stream",
          "text": [
            "{'y', 'z', 'b', 'c'}\n"
          ],
          "name": "stdout"
        }
      ]
    },
    {
      "cell_type": "code",
      "metadata": {
        "id": "JC787CkTWgyp",
        "colab_type": "code",
        "outputId": "d5821420-47ce-4efa-e50a-1863f4176225",
        "colab": {
          "base_uri": "https://localhost:8080/",
          "height": 52
        }
      },
      "source": [
        "set1 = {\"a\", \"b\" , \"c\" , \"x\"}\n",
        "set2 = {\"x\" , \"y\" , \"z\" , \"a\"}\n",
        "\n",
        "set1.symmetric_difference_update(set2)\n",
        "\n",
        "print(set1)\n",
        "print(set2)"
      ],
      "execution_count": 34,
      "outputs": [
        {
          "output_type": "stream",
          "text": [
            "{'y', 'z', 'b', 'c'}\n",
            "{'z', 'a', 'y', 'x'}\n"
          ],
          "name": "stdout"
        }
      ]
    },
    {
      "cell_type": "code",
      "metadata": {
        "id": "fwC5IHEwWyCo",
        "colab_type": "code",
        "colab": {}
      },
      "source": [
        ""
      ],
      "execution_count": 0,
      "outputs": []
    }
  ]
}