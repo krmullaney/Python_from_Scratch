{
  "nbformat": 4,
  "nbformat_minor": 0,
  "metadata": {
    "kernelspec": {
      "display_name": "Python 3",
      "language": "python",
      "name": "python3"
    },
    "language_info": {
      "codemirror_mode": {
        "name": "ipython",
        "version": 3
      },
      "file_extension": ".py",
      "mimetype": "text/x-python",
      "name": "python",
      "nbconvert_exporter": "python",
      "pygments_lexer": "ipython3",
      "version": "3.6.1"
    },
    "colab": {
      "name": "Useful-Operators.ipynb",
      "provenance": [],
      "collapsed_sections": []
    }
  },
  "cells": [
    {
      "cell_type": "markdown",
      "metadata": {
        "id": "7qOe7lVuECog",
        "colab_type": "text"
      },
      "source": [
        "# Useful Operators\n",
        "\n",
        "There are a few built-in functions and \"operators\" in Python that don't fit well into any category, so we will go over them in this lecture, let's begin!"
      ]
    },
    {
      "cell_type": "markdown",
      "metadata": {
        "id": "l8VmpDvmECok",
        "colab_type": "text"
      },
      "source": [
        "## range\n",
        "\n",
        "The range function allows you to quickly *generate* a list of integers, this comes in handy a lot, so take note of how to use it! There are 3 parameters you can pass, a start, a stop, and a step size. Let's see some examples:"
      ]
    },
    {
      "cell_type": "code",
      "metadata": {
        "id": "tW_qTSasECop",
        "colab_type": "code",
        "outputId": "69e22440-5914-4b7b-b189-a864a6563381",
        "colab": {
          "base_uri": "https://localhost:8080/",
          "height": 34
        }
      },
      "source": [
        "range(0,11)"
      ],
      "execution_count": 38,
      "outputs": [
        {
          "output_type": "execute_result",
          "data": {
            "text/plain": [
              "range(0, 11)"
            ]
          },
          "metadata": {
            "tags": []
          },
          "execution_count": 38
        }
      ]
    },
    {
      "cell_type": "markdown",
      "metadata": {
        "id": "Mclu5lymECpC",
        "colab_type": "text"
      },
      "source": [
        "Note that this is a **generator** function, so to actually get a list out of it, we need to cast it to a list with **list()**. What is a generator? Its a special type of function that will generate information and not need to save it to memory. We haven't talked about functions or generators yet, so just keep this in your notes for now, we will discuss this in much more detail in later on in your training!"
      ]
    },
    {
      "cell_type": "code",
      "metadata": {
        "id": "BoypTwJKECpG",
        "colab_type": "code",
        "outputId": "58ad83a8-9501-4135-d06a-70676835e73f",
        "colab": {
          "base_uri": "https://localhost:8080/",
          "height": 34
        }
      },
      "source": [
        "# Notice how 11 is not included, up to but not including 11, just like slice notation!\n",
        "list(range(0,11))"
      ],
      "execution_count": 39,
      "outputs": [
        {
          "output_type": "execute_result",
          "data": {
            "text/plain": [
              "[0, 1, 2, 3, 4, 5, 6, 7, 8, 9, 10]"
            ]
          },
          "metadata": {
            "tags": []
          },
          "execution_count": 39
        }
      ]
    },
    {
      "cell_type": "code",
      "metadata": {
        "id": "JsL94eTYECpT",
        "colab_type": "code",
        "outputId": "bd14c3eb-0e60-4d23-de2c-11fa6b9cded7",
        "colab": {
          "base_uri": "https://localhost:8080/",
          "height": 34
        }
      },
      "source": [
        "list(range(0,12))"
      ],
      "execution_count": 40,
      "outputs": [
        {
          "output_type": "execute_result",
          "data": {
            "text/plain": [
              "[0, 1, 2, 3, 4, 5, 6, 7, 8, 9, 10, 11]"
            ]
          },
          "metadata": {
            "tags": []
          },
          "execution_count": 40
        }
      ]
    },
    {
      "cell_type": "code",
      "metadata": {
        "id": "roqpjUsJECph",
        "colab_type": "code",
        "outputId": "d858796f-bb38-438b-9783-42cce6b82745",
        "colab": {
          "base_uri": "https://localhost:8080/",
          "height": 34
        }
      },
      "source": [
        "# Third parameter is step size!\n",
        "# step size just means how big of a jump/leap/step you \n",
        "# take from the starting number to get to the next number.\n",
        "\n",
        "list(range(0,13,2))"
      ],
      "execution_count": 42,
      "outputs": [
        {
          "output_type": "execute_result",
          "data": {
            "text/plain": [
              "[0, 2, 4, 6, 8, 10, 12]"
            ]
          },
          "metadata": {
            "tags": []
          },
          "execution_count": 42
        }
      ]
    },
    {
      "cell_type": "code",
      "metadata": {
        "id": "vGeqzCbnECpu",
        "colab_type": "code",
        "outputId": "d4a2f472-d1f8-4dc8-9bc0-61a9cd08551c",
        "colab": {
          "base_uri": "https://localhost:8080/",
          "height": 34
        }
      },
      "source": [
        "list(range(0,101,10))"
      ],
      "execution_count": 43,
      "outputs": [
        {
          "output_type": "execute_result",
          "data": {
            "text/plain": [
              "[0, 10, 20, 30, 40, 50, 60, 70, 80, 90, 100]"
            ]
          },
          "metadata": {
            "tags": []
          },
          "execution_count": 43
        }
      ]
    },
    {
      "cell_type": "markdown",
      "metadata": {
        "id": "N8OTT2EIECp8",
        "colab_type": "text"
      },
      "source": [
        "## enumerate\n",
        "\n",
        "enumerate is a very useful function to use with for loops. Let's imagine the following situation:"
      ]
    },
    {
      "cell_type": "code",
      "metadata": {
        "id": "Cmsry1bdECqB",
        "colab_type": "code",
        "outputId": "9805ab54-5fec-4534-af60-c10a8f7be0ad",
        "colab": {
          "base_uri": "https://localhost:8080/",
          "height": 191
        }
      },
      "source": [
        "index_count = 0\n",
        "\n",
        "for letter in 'abcde':\n",
        "    print(index_count)\n",
        "    print(letter)\n",
        "    #print(\"At index {} the letter is {}\".format(index_count,letter))\n",
        "    index_count += 1"
      ],
      "execution_count": 44,
      "outputs": [
        {
          "output_type": "stream",
          "text": [
            "0\n",
            "a\n",
            "1\n",
            "b\n",
            "2\n",
            "c\n",
            "3\n",
            "d\n",
            "4\n",
            "e\n"
          ],
          "name": "stdout"
        }
      ]
    },
    {
      "cell_type": "markdown",
      "metadata": {
        "id": "P0ESpJnFECqP",
        "colab_type": "text"
      },
      "source": [
        "Keeping track of how many loops you've gone through is so common, that enumerate was created so you don't need to worry about creating and updating this index_count or loop_count variable"
      ]
    },
    {
      "cell_type": "code",
      "metadata": {
        "id": "zrXT9UGYk3NC",
        "colab_type": "code",
        "colab": {
          "base_uri": "https://localhost:8080/",
          "height": 69
        },
        "outputId": "cec72d10-ffbe-4c65-dea3-2ace50642cd3"
      },
      "source": [
        "# Tuple unpacking\n",
        "x, y, z = 1,2,3\n",
        "print(x)\n",
        "print(y)\n",
        "print(z)"
      ],
      "execution_count": 48,
      "outputs": [
        {
          "output_type": "stream",
          "text": [
            "1\n",
            "2\n",
            "3\n"
          ],
          "name": "stdout"
        }
      ]
    },
    {
      "cell_type": "code",
      "metadata": {
        "id": "MIiNGBxaECqd",
        "colab_type": "code",
        "outputId": "69a37e40-730b-42a7-c891-1fe02cc1e987",
        "colab": {
          "base_uri": "https://localhost:8080/",
          "height": 34
        }
      },
      "source": [
        "list(enumerate('abcde'))"
      ],
      "execution_count": 53,
      "outputs": [
        {
          "output_type": "execute_result",
          "data": {
            "text/plain": [
              "[(0, 'a'), (1, 'b'), (2, 'c'), (3, 'd'), (4, 'e')]"
            ]
          },
          "metadata": {
            "tags": []
          },
          "execution_count": 53
        }
      ]
    },
    {
      "cell_type": "code",
      "metadata": {
        "id": "dXayo7FMlD7G",
        "colab_type": "code",
        "colab": {}
      },
      "source": [
        "# enumerate - for your understanding, imagine you wAN T TO FIND THE INDEX OF THE ELEMENTS IN THE OBJECT( string, list, tuple)"
      ],
      "execution_count": 0,
      "outputs": []
    },
    {
      "cell_type": "code",
      "metadata": {
        "id": "qh6V5FjEECqS",
        "colab_type": "code",
        "outputId": "e86419da-471a-4950-e754-dc5bbfd07d50",
        "colab": {
          "base_uri": "https://localhost:8080/",
          "height": 104
        }
      },
      "source": [
        "# Notice the tuple unpacking!\n",
        "\n",
        "for i,letter in enumerate('abcde'):\n",
        "    print(\"At index {} the letter is {}\".format(i,letter))"
      ],
      "execution_count": 55,
      "outputs": [
        {
          "output_type": "stream",
          "text": [
            "At index 0 the letter is a\n",
            "At index 1 the letter is b\n",
            "At index 2 the letter is c\n",
            "At index 3 the letter is d\n",
            "At index 4 the letter is e\n"
          ],
          "name": "stdout"
        }
      ]
    },
    {
      "cell_type": "code",
      "metadata": {
        "id": "C3UjhPm8SlN0",
        "colab_type": "code",
        "colab": {
          "base_uri": "https://localhost:8080/",
          "height": 69
        },
        "outputId": "72d10677-7b00-4881-8786-9341808cb7a1"
      },
      "source": [
        "# passing list inside enumerate\n",
        "\n",
        "for i,letter in enumerate( ['a', 'b', 'c']):\n",
        "    print(\"At index {} the letter is {}\".format(i,letter))"
      ],
      "execution_count": 56,
      "outputs": [
        {
          "output_type": "stream",
          "text": [
            "At index 0 the letter is a\n",
            "At index 1 the letter is b\n",
            "At index 2 the letter is c\n"
          ],
          "name": "stdout"
        }
      ]
    },
    {
      "cell_type": "code",
      "metadata": {
        "id": "1XdrKXeBTDhc",
        "colab_type": "code",
        "colab": {
          "base_uri": "https://localhost:8080/",
          "height": 69
        },
        "outputId": "565ad26f-b62a-4029-cc55-623d41ad455c"
      },
      "source": [
        "# Passing a tuple inside the enumerate\n",
        "\n",
        "for i,letter in enumerate( ('aa', 'bb', 'cc')):\n",
        "    print(\"At index {} the letter is {}\".format(i,letter))"
      ],
      "execution_count": 57,
      "outputs": [
        {
          "output_type": "stream",
          "text": [
            "At index 0 the letter is aa\n",
            "At index 1 the letter is bb\n",
            "At index 2 the letter is cc\n"
          ],
          "name": "stdout"
        }
      ]
    },
    {
      "cell_type": "markdown",
      "metadata": {
        "id": "6dgDBczLTttg",
        "colab_type": "text"
      },
      "source": [
        "# Remeber in case of dictionaries, we were using the items() function to extract the keys and the values. Use of the enumerate can be wrong there.\n",
        "\n",
        "Look at the following example:"
      ]
    },
    {
      "cell_type": "code",
      "metadata": {
        "id": "DMI92n0eT5tn",
        "colab_type": "code",
        "colab": {
          "base_uri": "https://localhost:8080/",
          "height": 69
        },
        "outputId": "baed2016-4f63-41ac-e0f7-66be9e06204e"
      },
      "source": [
        "for i,letter in enumerate( {'k1': 'aa', 'k2' :'bb', 'k3':'cc'}):\n",
        "    print(\"At index {} the letter is {}\".format(i,letter))"
      ],
      "execution_count": 58,
      "outputs": [
        {
          "output_type": "stream",
          "text": [
            "At index 0 the letter is k1\n",
            "At index 1 the letter is k2\n",
            "At index 2 the letter is k3\n"
          ],
          "name": "stdout"
        }
      ]
    },
    {
      "cell_type": "markdown",
      "metadata": {
        "id": "31cRbrjGECqa",
        "colab_type": "text"
      },
      "source": [
        "## zip\n",
        "\n",
        "Notice the format enumerate actually returns, let's take a look by transforming it to a list()"
      ]
    },
    {
      "cell_type": "code",
      "metadata": {
        "id": "z2XIRKD5ECqr",
        "colab_type": "code",
        "colab": {}
      },
      "source": [
        "mylist1 = [1,2,3,4,5]\n",
        "mylist2 = ['a','b','c','d','e']"
      ],
      "execution_count": 0,
      "outputs": []
    },
    {
      "cell_type": "code",
      "metadata": {
        "id": "eSltU0ARECq2",
        "colab_type": "code",
        "outputId": "ed3403e3-2867-44df-dd11-4ce2043a3d54",
        "colab": {
          "base_uri": "https://localhost:8080/",
          "height": 34
        }
      },
      "source": [
        "# This one is also a generator! We will explain this later, but for now let's transform it to a list\n",
        "zip(mylist1,mylist2)"
      ],
      "execution_count": 11,
      "outputs": [
        {
          "output_type": "execute_result",
          "data": {
            "text/plain": [
              "<zip at 0x7f289f1ab748>"
            ]
          },
          "metadata": {
            "tags": []
          },
          "execution_count": 11
        }
      ]
    },
    {
      "cell_type": "code",
      "metadata": {
        "id": "hNs74SFJECrA",
        "colab_type": "code",
        "outputId": "07e21d6f-5346-4ed3-9f80-1a77e4df1e2a",
        "colab": {
          "base_uri": "https://localhost:8080/",
          "height": 34
        }
      },
      "source": [
        "list(zip(mylist1,mylist2))"
      ],
      "execution_count": 12,
      "outputs": [
        {
          "output_type": "execute_result",
          "data": {
            "text/plain": [
              "[(1, 'a'), (2, 'b'), (3, 'c'), (4, 'd'), (5, 'e')]"
            ]
          },
          "metadata": {
            "tags": []
          },
          "execution_count": 12
        }
      ]
    },
    {
      "cell_type": "markdown",
      "metadata": {
        "id": "6VhgSMAxECqp",
        "colab_type": "text"
      },
      "source": [
        "It was a list of tuples, meaning we could use tuple unpacking during our for loop. This data structure is actually very common in Python , especially when working with outside libraries. You can use the **zip()** function to quickly create a list of tuples by \"zipping\" up together two lists."
      ]
    },
    {
      "cell_type": "markdown",
      "metadata": {
        "id": "slp4cFJ3ECrN",
        "colab_type": "text"
      },
      "source": [
        "To use the generator, we could just use a for loop"
      ]
    },
    {
      "cell_type": "code",
      "metadata": {
        "id": "uRMVEd7FECrQ",
        "colab_type": "code",
        "outputId": "7b900eb8-9323-4bc6-8c66-e23e6b8f0186",
        "colab": {
          "base_uri": "https://localhost:8080/",
          "height": 104
        }
      },
      "source": [
        "for item1, item2 in zip(mylist1,mylist2):\n",
        "    print('For this tuple, first item was {} and second item was {}'.format(item1,item2))"
      ],
      "execution_count": 59,
      "outputs": [
        {
          "output_type": "stream",
          "text": [
            "For this tuple, first item was 1 and second item was a\n",
            "For this tuple, first item was 2 and second item was b\n",
            "For this tuple, first item was 3 and second item was c\n",
            "For this tuple, first item was 4 and second item was d\n",
            "For this tuple, first item was 5 and second item was e\n"
          ],
          "name": "stdout"
        }
      ]
    },
    {
      "cell_type": "markdown",
      "metadata": {
        "id": "hJls-s1qECrZ",
        "colab_type": "text"
      },
      "source": [
        "## in operator\n",
        "\n",
        "We've already seen the **in** keyword durng the for loop, but we can also use it to quickly check if an object is in a list"
      ]
    },
    {
      "cell_type": "code",
      "metadata": {
        "id": "KCr3KnRUECra",
        "colab_type": "code",
        "outputId": "81ee01fe-bb22-4236-f6b3-4c69fe565eeb",
        "colab": {
          "base_uri": "https://localhost:8080/",
          "height": 34
        }
      },
      "source": [
        "'x' in ['x','y','z']"
      ],
      "execution_count": 60,
      "outputs": [
        {
          "output_type": "execute_result",
          "data": {
            "text/plain": [
              "True"
            ]
          },
          "metadata": {
            "tags": []
          },
          "execution_count": 60
        }
      ]
    },
    {
      "cell_type": "code",
      "metadata": {
        "id": "QX4eWA0yECrl",
        "colab_type": "code",
        "outputId": "1f7b88b6-bbf6-4d45-9cc1-f078f09ca8fb",
        "colab": {
          "base_uri": "https://localhost:8080/",
          "height": 34
        }
      },
      "source": [
        "'x' in [1,2,3]"
      ],
      "execution_count": 61,
      "outputs": [
        {
          "output_type": "execute_result",
          "data": {
            "text/plain": [
              "False"
            ]
          },
          "metadata": {
            "tags": []
          },
          "execution_count": 61
        }
      ]
    },
    {
      "cell_type": "markdown",
      "metadata": {
        "id": "Rjt_JK4YECru",
        "colab_type": "text"
      },
      "source": [
        "## min and max\n",
        "\n",
        "Quickly check the minimum or maximum of a list with these functions."
      ]
    },
    {
      "cell_type": "code",
      "metadata": {
        "id": "FYMFEVXwECrw",
        "colab_type": "code",
        "colab": {}
      },
      "source": [
        "mylist = [10,20,30,40,100]"
      ],
      "execution_count": 0,
      "outputs": []
    },
    {
      "cell_type": "code",
      "metadata": {
        "id": "ckuQwU6GECr3",
        "colab_type": "code",
        "outputId": "faee7271-6cee-4c45-b14b-755ac1e1a5d5",
        "colab": {
          "base_uri": "https://localhost:8080/",
          "height": 34
        }
      },
      "source": [
        "min(mylist)"
      ],
      "execution_count": 62,
      "outputs": [
        {
          "output_type": "execute_result",
          "data": {
            "text/plain": [
              "10"
            ]
          },
          "metadata": {
            "tags": []
          },
          "execution_count": 62
        }
      ]
    },
    {
      "cell_type": "code",
      "metadata": {
        "id": "Ba5N7R2eECr_",
        "colab_type": "code",
        "outputId": "d31bea45-37fb-4fcb-d79e-d0f7a58e26d7",
        "colab": {
          "base_uri": "https://localhost:8080/",
          "height": 34
        }
      },
      "source": [
        "max(mylist)"
      ],
      "execution_count": 63,
      "outputs": [
        {
          "output_type": "execute_result",
          "data": {
            "text/plain": [
              "100"
            ]
          },
          "metadata": {
            "tags": []
          },
          "execution_count": 63
        }
      ]
    },
    {
      "cell_type": "markdown",
      "metadata": {
        "id": "CXQJwXQQECsI",
        "colab_type": "text"
      },
      "source": [
        "## random\n",
        "\n",
        "Python comes with a built in random library. There are a lot of functions included in this random library, so we will only show you two useful functions for now.\n",
        "\n",
        "\n",
        "For more random functions: Have  a look at the following link:\n",
        "\n",
        "https://docs.python.org/3/library/random.html"
      ]
    },
    {
      "cell_type": "code",
      "metadata": {
        "id": "i02cqUyQECsI",
        "colab_type": "code",
        "colab": {}
      },
      "source": [
        "# import random - to import all the function of the random library\n",
        "from random import shuffle # to import the shuffle function from the random library"
      ],
      "execution_count": 0,
      "outputs": []
    },
    {
      "cell_type": "code",
      "metadata": {
        "id": "jcG4y-YpECsU",
        "colab_type": "code",
        "colab": {}
      },
      "source": [
        "# This shuffles the list \"in-place\" meaning it won't return\n",
        "# anything, instead it will effect the list passed\n",
        "shuffle(mylist)"
      ],
      "execution_count": 0,
      "outputs": []
    },
    {
      "cell_type": "code",
      "metadata": {
        "id": "d3HiTgFiECsd",
        "colab_type": "code",
        "outputId": "e159b078-740d-4bbd-c69e-8013b3db962f",
        "colab": {
          "base_uri": "https://localhost:8080/",
          "height": 34
        }
      },
      "source": [
        "mylist"
      ],
      "execution_count": 65,
      "outputs": [
        {
          "output_type": "execute_result",
          "data": {
            "text/plain": [
              "[40, 20, 100, 30, 10]"
            ]
          },
          "metadata": {
            "tags": []
          },
          "execution_count": 65
        }
      ]
    },
    {
      "cell_type": "code",
      "metadata": {
        "id": "O66Eo0CmECsn",
        "colab_type": "code",
        "colab": {}
      },
      "source": [
        "from random import randint"
      ],
      "execution_count": 0,
      "outputs": []
    },
    {
      "cell_type": "code",
      "metadata": {
        "id": "qsoVa5FfECsx",
        "colab_type": "code",
        "outputId": "67fceb99-1d73-4261-a324-9394c11e2fc7",
        "colab": {
          "base_uri": "https://localhost:8080/",
          "height": 34
        }
      },
      "source": [
        "# Return random integer in range [a, b], including both end points.\n",
        "randint(0,100)"
      ],
      "execution_count": 68,
      "outputs": [
        {
          "output_type": "execute_result",
          "data": {
            "text/plain": [
              "83"
            ]
          },
          "metadata": {
            "tags": []
          },
          "execution_count": 68
        }
      ]
    },
    {
      "cell_type": "code",
      "metadata": {
        "id": "IKkVXLDzECs6",
        "colab_type": "code",
        "outputId": "7e0474df-94b0-497d-cb00-022027cbcdf6",
        "colab": {
          "base_uri": "https://localhost:8080/",
          "height": 34
        }
      },
      "source": [
        "# Return random integer in range [a, b], including both end points.\n",
        "randint(0,100)"
      ],
      "execution_count": 69,
      "outputs": [
        {
          "output_type": "execute_result",
          "data": {
            "text/plain": [
              "71"
            ]
          },
          "metadata": {
            "tags": []
          },
          "execution_count": 69
        }
      ]
    },
    {
      "cell_type": "markdown",
      "metadata": {
        "id": "Tce0jlUaECtA",
        "colab_type": "text"
      },
      "source": [
        "## input"
      ]
    },
    {
      "cell_type": "code",
      "metadata": {
        "id": "m6fECxziECtD",
        "colab_type": "code",
        "outputId": "3143f5f2-1017-4f12-d4b8-bfd34c2e6f82",
        "colab": {
          "base_uri": "https://localhost:8080/",
          "height": 52
        }
      },
      "source": [
        "input('Enter Something into this box: ')"
      ],
      "execution_count": 70,
      "outputs": [
        {
          "output_type": "stream",
          "text": [
            "Enter Something into this box: kristin\n"
          ],
          "name": "stdout"
        },
        {
          "output_type": "execute_result",
          "data": {
            "text/plain": [
              "'kristin'"
            ]
          },
          "metadata": {
            "tags": []
          },
          "execution_count": 70
        }
      ]
    },
    {
      "cell_type": "code",
      "metadata": {
        "id": "tYggrChaVed_",
        "colab_type": "code",
        "colab": {}
      },
      "source": [
        ""
      ],
      "execution_count": 0,
      "outputs": []
    }
  ]
}