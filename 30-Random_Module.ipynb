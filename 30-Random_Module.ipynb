{
  "nbformat": 4,
  "nbformat_minor": 0,
  "metadata": {
    "colab": {
      "name": "Random.ipynb",
      "provenance": [],
      "collapsed_sections": []
    },
    "kernelspec": {
      "name": "python3",
      "display_name": "Python 3"
    }
  },
  "cells": [
    {
      "cell_type": "code",
      "metadata": {
        "id": "hHLBDVn56CvT",
        "colab_type": "code",
        "colab": {}
      },
      "source": [
        "#help(\"modules\")"
      ],
      "execution_count": 0,
      "outputs": []
    },
    {
      "cell_type": "markdown",
      "metadata": {
        "id": "Rr8D3T_g4tdf",
        "colab_type": "text"
      },
      "source": [
        "#Random -  Generate pseudo-random numbers\n",
        "\n",
        "Python has a built-in module that you can use to make random numbers. \n"
      ]
    },
    {
      "cell_type": "markdown",
      "metadata": {
        "id": "a27WXPcW6gwk",
        "colab_type": "text"
      },
      "source": [
        "**Technical stuff:** Almost all module functions depend on the basic function random(), which generates a random float uniformly in the semi-open range [0.0, 1.0). Python uses the Mersenne Twister as the core generator. It produces 53-bit precision floats and has a period of 2**19937-1. The underlying implementation in C is both fast and threadsafe. The Mersenne Twister is one of the most extensively tested random number generators in existence. However, being completely deterministic, it is not suitable for all purposes, and is completely unsuitable for cryptographic purposes."
      ]
    },
    {
      "cell_type": "code",
      "metadata": {
        "id": "s0I8Fql77a-P",
        "colab_type": "code",
        "colab": {}
      },
      "source": [
        "import random"
      ],
      "execution_count": 0,
      "outputs": []
    },
    {
      "cell_type": "markdown",
      "metadata": {
        "id": "_ws5pwry6A-3",
        "colab_type": "text"
      },
      "source": [
        "\n",
        "#For Integers:\n",
        "\n",
        "For integers, there is uniform selection from a range. \n"
      ]
    },
    {
      "cell_type": "markdown",
      "metadata": {
        "id": "4k7O70fP7K2l",
        "colab_type": "text"
      },
      "source": [
        "#random()\n",
        "\n",
        "The random() method returns a random floating number between 0 and 1."
      ]
    },
    {
      "cell_type": "code",
      "metadata": {
        "id": "wvF-7xXR7YZr",
        "colab_type": "code",
        "outputId": "55dc34e6-5524-4a30-a584-742c341fbc8a",
        "colab": {
          "base_uri": "https://localhost:8080/",
          "height": 34
        }
      },
      "source": [
        "print(random.random()) "
      ],
      "execution_count": 77,
      "outputs": [
        {
          "output_type": "stream",
          "text": [
            "0.6021048687389493\n"
          ],
          "name": "stdout"
        }
      ]
    },
    {
      "cell_type": "markdown",
      "metadata": {
        "id": "rzkxb3k0_n0Z",
        "colab_type": "text"
      },
      "source": [
        "#uniform()\n",
        "\n",
        "The uniform() method returns a random floating number between the two specified numbers (both included).\n",
        "\n",
        "\n",
        "    random.uniform(a, b)\n",
        "\n",
        "    Parameter \tDescription\n",
        "    a \tRequired. A number specifying the lowest possible outcome\n",
        "    b \tRequired. A number specifying the highest possible outcome"
      ]
    },
    {
      "cell_type": "code",
      "metadata": {
        "id": "ZgCYevvLAy-5",
        "colab_type": "code",
        "outputId": "55453d41-4290-459f-ee2b-6680375ac81b",
        "colab": {
          "base_uri": "https://localhost:8080/",
          "height": 34
        }
      },
      "source": [
        "#Return a FLOAT number between 10 and 90 (both included)\n",
        "print(random.uniform(10, 90)) "
      ],
      "execution_count": 78,
      "outputs": [
        {
          "output_type": "stream",
          "text": [
            "15.021889904921677\n"
          ],
          "name": "stdout"
        }
      ]
    },
    {
      "cell_type": "markdown",
      "metadata": {
        "id": "bmIVUB7q8UJA",
        "colab_type": "text"
      },
      "source": [
        "#randrange() \n",
        "\n",
        "The randrange() method returns a randomly selected element from the specified range.\n",
        "\n",
        "    random.randrange(start, stop, step) \n",
        "\n",
        "    Parameter \tDescription\n",
        "    start \tOptional. An integer specifying at which position to start.\n",
        "    Default 0\n",
        "    stop \tRequired. An integer specifying at which position to end.\n",
        "    step \tOptional. An integer specifying the incrementation.\n",
        "    Default 1"
      ]
    },
    {
      "cell_type": "code",
      "metadata": {
        "id": "OiekKiUA8ayb",
        "colab_type": "code",
        "outputId": "98a8a651-26a7-4080-91fe-ce5ab650e69e",
        "colab": {
          "base_uri": "https://localhost:8080/",
          "height": 34
        }
      },
      "source": [
        "#Return a INTEGER number between 10 and 90 (only starting included )\n",
        "print(random.randrange(10,90,2)) "
      ],
      "execution_count": 79,
      "outputs": [
        {
          "output_type": "stream",
          "text": [
            "72\n"
          ],
          "name": "stdout"
        }
      ]
    },
    {
      "cell_type": "markdown",
      "metadata": {
        "id": "c9bIM_hA7xvl",
        "colab_type": "text"
      },
      "source": [
        "#randint()\n",
        "\n",
        "The randint() method returns an integer number selected element from the specified range.\n",
        "\n",
        "Note: This method is an alias for randrange(start, stop+1)."
      ]
    },
    {
      "cell_type": "code",
      "metadata": {
        "id": "ffYu3Y5_8HEN",
        "colab_type": "code",
        "outputId": "ceec8ef5-2d7b-457f-ee49-5707b9be90ca",
        "colab": {
          "base_uri": "https://localhost:8080/",
          "height": 34
        }
      },
      "source": [
        "#Return a INTEGER number between 10 and 90 (both included)\n",
        "print(random.randint(10, 90))"
      ],
      "execution_count": 81,
      "outputs": [
        {
          "output_type": "stream",
          "text": [
            "61\n"
          ],
          "name": "stdout"
        }
      ]
    },
    {
      "cell_type": "markdown",
      "metadata": {
        "id": "mZi-wrAsDSvJ",
        "colab_type": "text"
      },
      "source": [
        "#seed() \n",
        "\n",
        "The seed() method is used to initialize the random number generator.\n",
        "Use the seed() method to customize the start number of the random number generator.\n",
        "\n",
        "The random number generator needs a number to start with (a seed value), to be able to generate a random number.\n",
        "\n",
        "\n",
        "\n",
        "Note: By default the random number generator uses the current system time.\n",
        "\n",
        "\n",
        "\n",
        "    random.seed(a, version)\n",
        "\n",
        "    Parameter \tDescription\n",
        "\n",
        "    a \tOptional. The seed value needed to generate a random number.\n",
        "    If it is an integer it is used directly, if not it has to be converted into an integer.\n",
        "    Default value is None, and if None, the generator uses the current system time.\n",
        "\n",
        "\n",
        "    version \tAn integer specifying how to convert the a parameter into a integer.\n",
        "    Default value is 2\n"
      ]
    },
    {
      "cell_type": "code",
      "metadata": {
        "id": "IgXEqYarOv8A",
        "colab_type": "code",
        "colab": {
          "base_uri": "https://localhost:8080/",
          "height": 86
        },
        "outputId": "fda3c82f-20b7-40a6-a71f-1b2a90e2b201"
      },
      "source": [
        "\n",
        "random.seed(100)\n",
        "\n",
        "print(random.random()) \n",
        "print(random.random()) \n",
        "print(random.random()) \n",
        "print(random.random()) "
      ],
      "execution_count": 86,
      "outputs": [
        {
          "output_type": "stream",
          "text": [
            "0.1456692551041303\n",
            "0.45492700451402135\n",
            "0.7707838056590222\n",
            "0.705513226934028\n"
          ],
          "name": "stdout"
        }
      ]
    },
    {
      "cell_type": "code",
      "metadata": {
        "id": "PGT6ADs3EV1c",
        "colab_type": "code",
        "outputId": "fed392c1-24b2-489f-af06-4cdb52e144e9",
        "colab": {
          "base_uri": "https://localhost:8080/",
          "height": 52
        }
      },
      "source": [
        "random.seed(10)\n",
        "print(random.random())\n",
        "\n",
        "random.seed(10)\n",
        "print(random.random()) \n",
        "\n",
        "#the generator creates a random number based on the seed value, \n",
        "#so if the seed value is 10, you will always get 0.5714025946899135 as the first random number."
      ],
      "execution_count": 92,
      "outputs": [
        {
          "output_type": "stream",
          "text": [
            "0.5714025946899135\n",
            "0.5714025946899135\n"
          ],
          "name": "stdout"
        }
      ]
    },
    {
      "cell_type": "markdown",
      "metadata": {
        "id": "5FaN_zYPMchp",
        "colab_type": "text"
      },
      "source": [
        "#For Sequences\n",
        "\n",
        "For sequences, there is uniform selection of a random element, a function to generate a random permutation of a list in-place, and a function for random sampling without replacement."
      ]
    },
    {
      "cell_type": "markdown",
      "metadata": {
        "id": "PyaVHAze6-cs",
        "colab_type": "text"
      },
      "source": [
        "# choice()\n",
        "\n",
        "The choice() method returns a randomly selected element from the specified sequence.\n",
        "\n",
        "The sequence can be a string, a range, a list, a tuple or any other kind of sequence.\n",
        "\n",
        "\n",
        "    random.choice(sequence)\n",
        "\n",
        "    sequence \tRequired. A sequence like a list, a tuple, a range of numbers etc.\n"
      ]
    },
    {
      "cell_type": "code",
      "metadata": {
        "id": "obhe9OGjLa_1",
        "colab_type": "code",
        "outputId": "17a32529-7951-456d-b16c-d50ba042adc0",
        "colab": {
          "base_uri": "https://localhost:8080/",
          "height": 34
        }
      },
      "source": [
        "x = \"KRISTIN MULLANEY\"\n",
        "print(random.choice(x))"
      ],
      "execution_count": 95,
      "outputs": [
        {
          "output_type": "stream",
          "text": [
            "K\n"
          ],
          "name": "stdout"
        }
      ]
    },
    {
      "cell_type": "code",
      "metadata": {
        "id": "BJOc-b-UBEQA",
        "colab_type": "code",
        "outputId": "378e2bda-cbb9-4c41-ee7e-419382c63d50",
        "colab": {
          "base_uri": "https://localhost:8080/",
          "height": 34
        }
      },
      "source": [
        "mylist = [\"Aligator\", \"Bear\", \"Cat\" , \"Dog\" , \"Elephant\", \"Fish\"]\n",
        "print(random.choice(mylist)) "
      ],
      "execution_count": 98,
      "outputs": [
        {
          "output_type": "stream",
          "text": [
            "Dog\n"
          ],
          "name": "stdout"
        }
      ]
    },
    {
      "cell_type": "markdown",
      "metadata": {
        "id": "jnnwnhuWAPJ4",
        "colab_type": "text"
      },
      "source": [
        "#choices() \n",
        "\n",
        "The choices() method returns a list with the randomly selected element from the specified sequence.\n",
        "\n",
        "You can weigh the possibility of each result with the weights parameter or the cum_weights parameter.\n",
        "\n",
        "The sequence can be a string, a range, a list, a tuple or any other kind of sequence.\n",
        "\n",
        "\n",
        "    random.choices(sequence, weights=None, cum_weights=None, k=1)\n",
        "\n",
        "\n",
        "    Parameter \tDescription\n",
        "\n",
        "    sequence \tRequired. A sequence like a list, a tuple, a range of numbers etc.\n",
        "    \n",
        "    weights \tOptional. A list were you can weigh the possibility for each value.\n",
        "    Default None\n",
        "    \n",
        "    cum_weights \tOptional. A list were you can weigh the possibility for each value, only this time the possibility is accumulated.\n",
        "    \n",
        "    Example: normal weights list: [2, 1, 1] is the same as this cum_weights list; [2, 3, 4].\n",
        "    Default None\n",
        "\n",
        "    \n",
        "    k \tOptional. An integer defining the length of the returned list\n"
      ]
    },
    {
      "cell_type": "code",
      "metadata": {
        "id": "n-vGhH5zCe6M",
        "colab_type": "code",
        "outputId": "6b891af3-cdc5-4e5b-8d67-86a378fad2c2",
        "colab": {
          "base_uri": "https://localhost:8080/",
          "height": 54
        }
      },
      "source": [
        "#Return a list with 14 items.\n",
        "#The list should contain a randomly selection of the values from a specified list,\n",
        "# and there should be 10 times higher possibility to select \"apple\" than the other two\n",
        "\n",
        "mylist = [\"apple\", \"banana\", \"cherry\"]\n",
        "\n",
        "print(random.choices(mylist, weights = [10, 1, 1],  k = 14)) #cum_weights=[10,11,12]"
      ],
      "execution_count": 99,
      "outputs": [
        {
          "output_type": "stream",
          "text": [
            "['apple', 'apple', 'apple', 'apple', 'apple', 'apple', 'cherry', 'cherry', 'apple', 'banana', 'apple', 'apple', 'apple', 'apple']\n"
          ],
          "name": "stdout"
        }
      ]
    },
    {
      "cell_type": "markdown",
      "metadata": {
        "id": "V6kWMghT9pL1",
        "colab_type": "text"
      },
      "source": [
        "#shuffle()\n",
        "\n",
        "The shuffle() method takes a sequence (list, string, or tuple) and reorganize the order of the items.\n",
        "\n",
        "Note: This method changes the original list/tuple/string, it does not return a new list/tuple/string.\n",
        "\n",
        "\n",
        "    random.shuffle(sequence, function)\n",
        "\n",
        "\n",
        "    Parameter \tDescription\n",
        "    sequence \tRequired. A sequence. Can be a list, a tuple, or a string.\n",
        "    function \tOptional. The name of a function that returns a number between 0.0 and 1.0.\n",
        "    If not specified, the function random() will be used\n",
        "\n"
      ]
    },
    {
      "cell_type": "code",
      "metadata": {
        "id": "T4sbe9xA9nnm",
        "colab_type": "code",
        "outputId": "eba76db1-2ec5-46a6-9e13-4c383a73d40a",
        "colab": {
          "base_uri": "https://localhost:8080/",
          "height": 34
        }
      },
      "source": [
        "mylist = [\"Aligator\", \"Bear\", \"Cat\" , \"Dog\" , \"Elephant\", \"Fish\"]\n",
        "random.shuffle(mylist)\n",
        "\n",
        "print(mylist) "
      ],
      "execution_count": 100,
      "outputs": [
        {
          "output_type": "stream",
          "text": [
            "['Aligator', 'Elephant', 'Fish', 'Cat', 'Bear', 'Dog']\n"
          ],
          "name": "stdout"
        }
      ]
    },
    {
      "cell_type": "markdown",
      "metadata": {
        "id": "0wgplWf2-afP",
        "colab_type": "text"
      },
      "source": [
        "\n",
        "You can define your own function to weigh or specify the result.\n",
        "\n",
        "If the function returns the same number each time, the result will be in the same order each time:"
      ]
    },
    {
      "cell_type": "code",
      "metadata": {
        "id": "B-3TV1Qo-b1X",
        "colab_type": "code",
        "outputId": "e2723cff-96f4-483a-a3f8-1672e7d286bd",
        "colab": {
          "base_uri": "https://localhost:8080/",
          "height": 34
        }
      },
      "source": [
        "def myfunction():\n",
        "  return 0.1\n",
        "\n",
        "mylist = [\"Aligator\", \"Bear\", \"Cat\" , \"Dog\" , \"Elephant\", \"Fish\"]\n",
        "random.shuffle(mylist, myfunction)\n",
        "\n",
        "print(mylist)\n"
      ],
      "execution_count": 106,
      "outputs": [
        {
          "output_type": "stream",
          "text": [
            "['Bear', 'Cat', 'Dog', 'Elephant', 'Fish', 'Aligator']\n"
          ],
          "name": "stdout"
        }
      ]
    },
    {
      "cell_type": "markdown",
      "metadata": {
        "id": "FYoAIy0U-5mv",
        "colab_type": "text"
      },
      "source": [
        "#sample()\n",
        "\n",
        "The sample() method returns a list with a randomly selection of a specified number of items from a sequnce.\n",
        "\n",
        "Note: This method does not change the original sequence.\n",
        "\n",
        "\n",
        "\n",
        "    random.sample(sequence, k)\n",
        "\n",
        "    Parameter \tDescription\n",
        "    sequence \tRequired. A sequence. Can be any sequence: list, set, range etc.\n",
        "    k \tRequired. The size of the returned list"
      ]
    },
    {
      "cell_type": "code",
      "metadata": {
        "id": "HFyio51z-cdO",
        "colab_type": "code",
        "outputId": "c24c3482-3a8c-428a-f65d-a71175a7dee6",
        "colab": {
          "base_uri": "https://localhost:8080/",
          "height": 34
        }
      },
      "source": [
        "mylist = [\"Aligator\", \"Bear\", \"Cat\" , \"Dog\" , \"Elephant\", \"Fish\"]\n",
        "\n",
        "print(random.sample(mylist, k=2)) "
      ],
      "execution_count": 107,
      "outputs": [
        {
          "output_type": "stream",
          "text": [
            "['Cat', 'Bear']\n"
          ],
          "name": "stdout"
        }
      ]
    },
    {
      "cell_type": "markdown",
      "metadata": {
        "id": "9QMq-oWBFq_P",
        "colab_type": "text"
      },
      "source": [
        "# For more information Visit the Official Documentation Link:\n",
        "https://docs.python.org/3/library/random.html#module-random\n"
      ]
    },
    {
      "cell_type": "code",
      "metadata": {
        "id": "gsrurGU8tRJL",
        "colab_type": "code",
        "colab": {}
      },
      "source": [
        ""
      ],
      "execution_count": 0,
      "outputs": []
    }
  ]
}