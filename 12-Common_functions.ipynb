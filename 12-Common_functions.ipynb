{
  "nbformat": 4,
  "nbformat_minor": 0,
  "metadata": {
    "colab": {
      "name": "Common_functions.ipynb",
      "provenance": [],
      "collapsed_sections": []
    },
    "kernelspec": {
      "name": "python3",
      "display_name": "Python 3"
    }
  },
  "cells": [
    {
      "cell_type": "markdown",
      "metadata": {
        "id": "ErZi7oHvRBv6",
        "colab_type": "text"
      },
      "source": [
        "\n",
        "#Variable Assignment\n",
        "\n",
        "Rules for variable names\n",
        "\n",
        "    names can not start with a number\n",
        "    names can not contain spaces, use _ intead\n",
        "\n",
        "    names can not contain any of these symbols:\n",
        "\n",
        "    :'\",<>/?|\\!@#%^&*~-+\n",
        "\n",
        "    it's considered best practice (PEP8) that names are lowercase with underscores\n",
        "    avoid using Python built-in keywords like list and str\n",
        "    avoid using the single characters l (lowercase letter el), O (uppercase letter oh) and I (uppercase letter eye) as they can be \n",
        "\n",
        "\n"
      ]
    },
    {
      "cell_type": "markdown",
      "metadata": {
        "id": "1T7XeTzQSCut",
        "colab_type": "text"
      },
      "source": [
        "\n",
        "# Dynamic Typing\n",
        "\n",
        "Python uses dynamic typing, meaning you can reassign variables to different data types. This makes Python very flexible in assigning data types; it differs from other languages that are statically typed.\n"
      ]
    },
    {
      "cell_type": "code",
      "metadata": {
        "id": "fNmSZ8VYR4rJ",
        "colab_type": "code",
        "colab": {}
      },
      "source": [
        "my_fav_animals = 2"
      ],
      "execution_count": 0,
      "outputs": []
    },
    {
      "cell_type": "code",
      "metadata": {
        "id": "khg7HqTRSJOi",
        "colab_type": "code",
        "colab": {}
      },
      "source": [
        "my_fav_animals = ['Tiger' , 'Bear']"
      ],
      "execution_count": 0,
      "outputs": []
    },
    {
      "cell_type": "markdown",
      "metadata": {
        "id": "_af8Ptr0SVue",
        "colab_type": "text"
      },
      "source": [
        "\n",
        "#Pros and Cons of Dynamic Typing\n",
        "\n",
        "Pros of Dynamic Typing\n",
        "\n",
        "    very easy to work with\n",
        "    faster development time\n",
        "\n",
        "Cons of Dynamic Typing\n",
        "\n",
        "    may result in unexpected bugs!\n",
        "    you need to be aware of type()\n",
        "\n"
      ]
    },
    {
      "cell_type": "markdown",
      "metadata": {
        "id": "QM3gA1MVXil4",
        "colab_type": "text"
      },
      "source": [
        "# Results not reassigned and then trying to access will create an error\n",
        "\n",
        "\n",
        "Temporarty bcause the results are not reassigned to the my_list after product.\n",
        "\n",
        "\n",
        "It should also be noted that lists indexing will return an error if there is no element at that index. For example:\n"
      ]
    },
    {
      "cell_type": "code",
      "metadata": {
        "id": "bXeODlLtLq2e",
        "colab_type": "code",
        "outputId": "ebe48e34-df0c-4f35-9a2f-02d79fd7594b",
        "colab": {
          "base_uri": "https://localhost:8080/",
          "height": 34
        }
      },
      "source": [
        "my_list = [1,2,3,4,5]\n",
        "print(my_list * 2 )"
      ],
      "execution_count": 21,
      "outputs": [
        {
          "output_type": "stream",
          "text": [
            "[1, 2, 3, 4, 5, 1, 2, 3, 4, 5]\n"
          ],
          "name": "stdout"
        }
      ]
    },
    {
      "cell_type": "code",
      "metadata": {
        "id": "o969nR-qLwQ5",
        "colab_type": "code",
        "outputId": "d99a3149-735b-4927-b668-79fc85e5c1d2",
        "colab": {
          "base_uri": "https://localhost:8080/",
          "height": 167
        }
      },
      "source": [
        "my_list[7]"
      ],
      "execution_count": 22,
      "outputs": [
        {
          "output_type": "error",
          "ename": "IndexError",
          "evalue": "ignored",
          "traceback": [
            "\u001b[0;31m---------------------------------------------------------------------------\u001b[0m",
            "\u001b[0;31mIndexError\u001b[0m                                Traceback (most recent call last)",
            "\u001b[0;32m<ipython-input-22-352a83797fff>\u001b[0m in \u001b[0;36m<module>\u001b[0;34m()\u001b[0m\n\u001b[0;32m----> 1\u001b[0;31m \u001b[0mmy_list\u001b[0m\u001b[0;34m[\u001b[0m\u001b[0;36m7\u001b[0m\u001b[0;34m]\u001b[0m\u001b[0;34m\u001b[0m\u001b[0;34m\u001b[0m\u001b[0m\n\u001b[0m",
            "\u001b[0;31mIndexError\u001b[0m: list index out of range"
          ]
        }
      ]
    },
    {
      "cell_type": "code",
      "metadata": {
        "id": "qRF_WbTtf2AI",
        "colab_type": "code",
        "colab": {
          "base_uri": "https://localhost:8080/",
          "height": 34
        },
        "outputId": "83351470-43ac-4b69-fcc1-d24f5c475b35"
      },
      "source": [
        "my_list = my_list * 2 \n",
        "my_list[7]"
      ],
      "execution_count": 23,
      "outputs": [
        {
          "output_type": "execute_result",
          "data": {
            "text/plain": [
              "3"
            ]
          },
          "metadata": {
            "tags": []
          },
          "execution_count": 23
        }
      ]
    },
    {
      "cell_type": "markdown",
      "metadata": {
        "id": "em4jNxnmYY-8",
        "colab_type": "text"
      },
      "source": [
        "# Nesting Lists\n",
        "\n",
        "A great feature of of Python data structures is that they support nesting. This means we can have data structures within data structures. For example: A list inside a list."
      ]
    },
    {
      "cell_type": "code",
      "metadata": {
        "id": "gjNXseOIYZqF",
        "colab_type": "code",
        "outputId": "f028f8b7-7898-48d0-fa18-5261176fe741",
        "colab": {
          "base_uri": "https://localhost:8080/",
          "height": 34
        }
      },
      "source": [
        "# Let's make three lists\n",
        "lst_1=[1,2,3]\n",
        "lst_2=[4,5,6]\n",
        "lst_3=[7,8,9]\n",
        "\n",
        "# Make a list of lists to form a matrix\n",
        "matrix = [lst_1,lst_2,lst_3]\n",
        "\n",
        "# Show\n",
        "print(matrix)\n",
        "\n",
        "#We can again use indexing to grab elements, but now there are two levels for the index. The items in the matrix object, and then the items inside that list!\n"
      ],
      "execution_count": 24,
      "outputs": [
        {
          "output_type": "stream",
          "text": [
            "[[1, 2, 3], [4, 5, 6], [7, 8, 9]]\n"
          ],
          "name": "stdout"
        }
      ]
    },
    {
      "cell_type": "code",
      "metadata": {
        "id": "F8seiO_PgYx6",
        "colab_type": "code",
        "colab": {
          "base_uri": "https://localhost:8080/",
          "height": 34
        },
        "outputId": "d5b514de-7a03-4dbc-8d8b-eaa9fd438c84"
      },
      "source": [
        "matrix[2]"
      ],
      "execution_count": 27,
      "outputs": [
        {
          "output_type": "execute_result",
          "data": {
            "text/plain": [
              "[7, 8, 9]"
            ]
          },
          "metadata": {
            "tags": []
          },
          "execution_count": 27
        }
      ]
    },
    {
      "cell_type": "code",
      "metadata": {
        "id": "8Wk78O7CgbYy",
        "colab_type": "code",
        "colab": {
          "base_uri": "https://localhost:8080/",
          "height": 34
        },
        "outputId": "f707b596-7394-4788-c645-bb42127d6d88"
      },
      "source": [
        "matrix[2][1]"
      ],
      "execution_count": 28,
      "outputs": [
        {
          "output_type": "execute_result",
          "data": {
            "text/plain": [
              "8"
            ]
          },
          "metadata": {
            "tags": []
          },
          "execution_count": 28
        }
      ]
    },
    {
      "cell_type": "markdown",
      "metadata": {
        "id": "Dn0iD552ZCCt",
        "colab_type": "text"
      },
      "source": [
        "\n",
        "# List Comprehensions\n",
        "\n",
        "Python has an advanced feature called list comprehensions. They allow for quick construction of lists. To fully understand list comprehensions we need to understand for loops. So don't worry if you don't completely understand this section, and feel free to just skip it since we will return to this topic later.\n",
        "\n",
        "But in case you want to know now, here are a few examples!\n"
      ]
    },
    {
      "cell_type": "code",
      "metadata": {
        "id": "eNCJHu8JZCov",
        "colab_type": "code",
        "colab": {}
      },
      "source": [
        "# Build a list comprehension by deconstructing a for loop within a []\n",
        "first_col = [row[0] for row in matrix]"
      ],
      "execution_count": 0,
      "outputs": []
    },
    {
      "cell_type": "code",
      "metadata": {
        "id": "41LNg-s5ZJXZ",
        "colab_type": "code",
        "outputId": "57784ae4-8749-4d90-ae58-df0e612c5704",
        "colab": {
          "base_uri": "https://localhost:8080/",
          "height": 34
        }
      },
      "source": [
        "first_col"
      ],
      "execution_count": 0,
      "outputs": [
        {
          "output_type": "execute_result",
          "data": {
            "text/plain": [
              "[1, 4, 7]"
            ]
          },
          "metadata": {
            "tags": []
          },
          "execution_count": 11
        }
      ]
    },
    {
      "cell_type": "markdown",
      "metadata": {
        "id": "Lro4KzasZ13x",
        "colab_type": "text"
      },
      "source": [
        "\n",
        "# When to use Tuples\n",
        "\n",
        "You may be wondering, \"Why bother using tuples when they have fewer available methods?\" To be honest, tuples are not used as often as lists in programming, but are used when immutability is necessary. If in your program you are passing around an object and need to make sure it does not get changed, then a tuple becomes your solution. It provides a convenient source of data integrity.\n",
        "\n",
        "\n",
        "You should now be able to create and use tuples in your programming as well as have an understanding of their immutability."
      ]
    },
    {
      "cell_type": "markdown",
      "metadata": {
        "id": "dsO1OT8aakTO",
        "colab_type": "text"
      },
      "source": [
        "# None placeholder\n",
        "\n",
        "b = None"
      ]
    },
    {
      "cell_type": "markdown",
      "metadata": {
        "id": "aihUK82fMeo1",
        "colab_type": "text"
      },
      "source": [
        "# Find square and square root of a number"
      ]
    },
    {
      "cell_type": "code",
      "metadata": {
        "id": "7wMCLLOGdS5o",
        "colab_type": "code",
        "outputId": "54c9cf72-e085-41c7-b388-b5b705eb02f9",
        "colab": {
          "base_uri": "https://localhost:8080/",
          "height": 34
        }
      },
      "source": [
        "# Square:\n",
        "10 ** 2"
      ],
      "execution_count": 31,
      "outputs": [
        {
          "output_type": "execute_result",
          "data": {
            "text/plain": [
              "100"
            ]
          },
          "metadata": {
            "tags": []
          },
          "execution_count": 31
        }
      ]
    },
    {
      "cell_type": "code",
      "metadata": {
        "id": "b_OitssyZ3k8",
        "colab_type": "code",
        "outputId": "29766331-0151-4784-cc92-70bbb6be5828",
        "colab": {
          "base_uri": "https://localhost:8080/",
          "height": 34
        }
      },
      "source": [
        "# Square root:\n",
        "100 ** 0.5"
      ],
      "execution_count": 32,
      "outputs": [
        {
          "output_type": "execute_result",
          "data": {
            "text/plain": [
              "10.0"
            ]
          },
          "metadata": {
            "tags": []
          },
          "execution_count": 32
        }
      ]
    },
    {
      "cell_type": "markdown",
      "metadata": {
        "id": "krhT7bGeddYE",
        "colab_type": "text"
      },
      "source": [
        "\n",
        "# Lists\n",
        "\n",
        "Build this list [0,0,0] two separate ways.\n"
      ]
    },
    {
      "cell_type": "code",
      "metadata": {
        "id": "m5emdSzadd8j",
        "colab_type": "code",
        "outputId": "c5cc3e9e-e2d9-46b6-be6e-6a26191616e2",
        "colab": {
          "base_uri": "https://localhost:8080/",
          "height": 34
        }
      },
      "source": [
        "#1 \n",
        "[0]*3"
      ],
      "execution_count": 33,
      "outputs": [
        {
          "output_type": "execute_result",
          "data": {
            "text/plain": [
              "[0, 0, 0]"
            ]
          },
          "metadata": {
            "tags": []
          },
          "execution_count": 33
        }
      ]
    },
    {
      "cell_type": "code",
      "metadata": {
        "id": "Qx87345cdh5C",
        "colab_type": "code",
        "outputId": "b5cc4938-6ab6-4530-86a4-4ade9b94faee",
        "colab": {
          "base_uri": "https://localhost:8080/",
          "height": 34
        }
      },
      "source": [
        "listt = [0,0,0]\n",
        "listt"
      ],
      "execution_count": 34,
      "outputs": [
        {
          "output_type": "execute_result",
          "data": {
            "text/plain": [
              "[0, 0, 0]"
            ]
          },
          "metadata": {
            "tags": []
          },
          "execution_count": 34
        }
      ]
    },
    {
      "cell_type": "code",
      "metadata": {
        "id": "o1G4rvZmdmtI",
        "colab_type": "code",
        "outputId": "00b3936c-6890-453f-9e69-ff11fe6d7ecd",
        "colab": {
          "base_uri": "https://localhost:8080/",
          "height": 34
        }
      },
      "source": [
        "list3 = [1,2,[3,4,'hello']]\n",
        "list3[2][2]"
      ],
      "execution_count": 35,
      "outputs": [
        {
          "output_type": "execute_result",
          "data": {
            "text/plain": [
              "'hello'"
            ]
          },
          "metadata": {
            "tags": []
          },
          "execution_count": 35
        }
      ]
    },
    {
      "cell_type": "code",
      "metadata": {
        "id": "EWE0K_tUd1x0",
        "colab_type": "code",
        "colab": {
          "base_uri": "https://localhost:8080/",
          "height": 34
        },
        "outputId": "ce9dca5f-a896-4b27-b953-f57ca88694b8"
      },
      "source": [
        "list3[2][2] = 'Good Bye'\n",
        "list3[2][2]"
      ],
      "execution_count": 36,
      "outputs": [
        {
          "output_type": "execute_result",
          "data": {
            "text/plain": [
              "'Good Bye'"
            ]
          },
          "metadata": {
            "tags": []
          },
          "execution_count": 36
        }
      ]
    },
    {
      "cell_type": "code",
      "metadata": {
        "id": "sz_UHQ-Ohzqj",
        "colab_type": "code",
        "colab": {
          "base_uri": "https://localhost:8080/",
          "height": 34
        },
        "outputId": "a68e6d5c-6b08-4e28-a10b-63aa1d40ec00"
      },
      "source": [
        "list3"
      ],
      "execution_count": 37,
      "outputs": [
        {
          "output_type": "execute_result",
          "data": {
            "text/plain": [
              "[1, 2, [3, 4, 'Good Bye']]"
            ]
          },
          "metadata": {
            "tags": []
          },
          "execution_count": 37
        }
      ]
    },
    {
      "cell_type": "code",
      "metadata": {
        "id": "sjLCeNH2d62j",
        "colab_type": "code",
        "outputId": "60470b78-ac0f-42d9-c7a5-bb7da31e5742",
        "colab": {
          "base_uri": "https://localhost:8080/",
          "height": 34
        }
      },
      "source": [
        "list4 = [5,3,4,6,1]\n",
        "#1\n",
        "list4.sort()\n",
        "print(list4)"
      ],
      "execution_count": 38,
      "outputs": [
        {
          "output_type": "stream",
          "text": [
            "[1, 3, 4, 5, 6]\n"
          ],
          "name": "stdout"
        }
      ]
    },
    {
      "cell_type": "code",
      "metadata": {
        "id": "i_VWWY-NeA1D",
        "colab_type": "code",
        "outputId": "53cfb989-3be5-48ac-b0b5-cd2f85767a4c",
        "colab": {
          "base_uri": "https://localhost:8080/",
          "height": 34
        }
      },
      "source": [
        "#2\n",
        "list4 = [5,3,4,6,1]\n",
        "sorted(list4)"
      ],
      "execution_count": 39,
      "outputs": [
        {
          "output_type": "execute_result",
          "data": {
            "text/plain": [
              "[1, 3, 4, 5, 6]"
            ]
          },
          "metadata": {
            "tags": []
          },
          "execution_count": 39
        }
      ]
    },
    {
      "cell_type": "code",
      "metadata": {
        "id": "q7XMrTsVNekK",
        "colab_type": "code",
        "colab": {
          "base_uri": "https://localhost:8080/",
          "height": 34
        },
        "outputId": "c1a37667-2050-452b-a141-b6f9a507bca3"
      },
      "source": [
        "list4"
      ],
      "execution_count": 41,
      "outputs": [
        {
          "output_type": "execute_result",
          "data": {
            "text/plain": [
              "[5, 3, 4, 6, 1]"
            ]
          },
          "metadata": {
            "tags": []
          },
          "execution_count": 41
        }
      ]
    },
    {
      "cell_type": "code",
      "metadata": {
        "id": "e9e_MFpmiGdu",
        "colab_type": "code",
        "colab": {
          "base_uri": "https://localhost:8080/",
          "height": 34
        },
        "outputId": "b7a8756e-51d1-4d95-f84c-e41d49bb6a6b"
      },
      "source": [
        "sorted_list = sorted(list4)\n",
        "sorted_list"
      ],
      "execution_count": 42,
      "outputs": [
        {
          "output_type": "execute_result",
          "data": {
            "text/plain": [
              "[1, 3, 4, 5, 6]"
            ]
          },
          "metadata": {
            "tags": []
          },
          "execution_count": 42
        }
      ]
    },
    {
      "cell_type": "code",
      "metadata": {
        "id": "VpaLnQTUiOG5",
        "colab_type": "code",
        "colab": {}
      },
      "source": [
        ""
      ],
      "execution_count": 0,
      "outputs": []
    }
  ]
}