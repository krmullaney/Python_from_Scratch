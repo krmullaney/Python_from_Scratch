{
  "nbformat": 4,
  "nbformat_minor": 0,
  "metadata": {
    "kernelspec": {
      "display_name": "Python 3",
      "language": "python",
      "name": "python3"
    },
    "language_info": {
      "codemirror_mode": {
        "name": "ipython",
        "version": 3
      },
      "file_extension": ".py",
      "mimetype": "text/x-python",
      "name": "python",
      "nbconvert_exporter": "python",
      "pygments_lexer": "ipython3",
      "version": "3.6.2"
    },
    "colab": {
      "name": "06-Nested Statements and Scope.ipynb",
      "provenance": [],
      "collapsed_sections": []
    }
  },
  "cells": [
    {
      "cell_type": "markdown",
      "metadata": {
        "id": "PZPq47xJ6G8m",
        "colab_type": "text"
      },
      "source": [
        "# Nested Statements and Scope \n",
        "\n",
        "Now that we have gone over writing our own functions, it's important to understand how Python deals with the variable names you assign. When you create a variable name in Python the name is stored in a *name-space*. Variable names also have a *scope*, the scope determines the visibility of that variable name to other parts of your code.\n",
        "\n",
        "Let's start with a quick thought experiment; imagine the following code:"
      ]
    },
    {
      "cell_type": "code",
      "metadata": {
        "id": "jP8GiwHy6G8r",
        "colab_type": "code",
        "colab": {}
      },
      "source": [
        "x = 25\n",
        "\n",
        "def printer():\n",
        "    x = 50\n",
        "    return x\n",
        "\n",
        "#print(x)\n",
        "#print(printer())"
      ],
      "execution_count": 0,
      "outputs": []
    },
    {
      "cell_type": "markdown",
      "metadata": {
        "id": "I5CKVhP76G9O",
        "colab_type": "text"
      },
      "source": [
        "What do you imagine the output of printer() is? 25 or 50? What is the output of print x? 25 or 50?"
      ]
    },
    {
      "cell_type": "code",
      "metadata": {
        "id": "dDt6MHfm6G9W",
        "colab_type": "code",
        "colab": {
          "base_uri": "https://localhost:8080/",
          "height": 34
        },
        "outputId": "03008015-70bb-4270-9c25-4ff8c2f74b0b"
      },
      "source": [
        "print(x)"
      ],
      "execution_count": 2,
      "outputs": [
        {
          "output_type": "stream",
          "text": [
            "25\n"
          ],
          "name": "stdout"
        }
      ]
    },
    {
      "cell_type": "code",
      "metadata": {
        "id": "-6aHHZ4U6G9o",
        "colab_type": "code",
        "colab": {
          "base_uri": "https://localhost:8080/",
          "height": 34
        },
        "outputId": "0e054ea4-528f-4860-dcfe-6143fecb37ee"
      },
      "source": [
        "# print(printer())\n",
        "\n",
        "output = printer()\n",
        "print(output)"
      ],
      "execution_count": 4,
      "outputs": [
        {
          "output_type": "stream",
          "text": [
            "50\n"
          ],
          "name": "stdout"
        }
      ]
    },
    {
      "cell_type": "markdown",
      "metadata": {
        "id": "3J4mOyfu6G92",
        "colab_type": "text"
      },
      "source": [
        "Interesting! But how does Python know which **x** you're referring to in your code? This is where the idea of scope comes in. Python has a set of rules it follows to decide what variables (such as **x** in this case) you are referencing in your code. Lets break down the rules:"
      ]
    },
    {
      "cell_type": "markdown",
      "metadata": {
        "collapsed": true,
        "id": "-DMwzwDC6G94",
        "colab_type": "text"
      },
      "source": [
        "This idea of scope in your code is very important to understand in order to properly assign and call variable names. \n",
        "\n",
        "In simple terms, the idea of scope can be described by 3 general rules:\n",
        "\n",
        "1. Name assignments will create or change local names by default.\n",
        "2. Name references search (at most) four scopes, these are:\n",
        "    * local\n",
        "    * enclosing functions\n",
        "    * global\n",
        "    * built-in\n",
        "3. Names declared in global and nonlocal statements map assigned names to enclosing module and function scopes.\n",
        "\n",
        "\n",
        "The statement in #2 above can be defined by the LEGB rule.\n",
        "\n",
        "**LEGB Rule:**\n",
        "\n",
        "L: Local — Names assigned in any way within a function (def or lambda), and not declared global in that function.\n",
        "\n",
        "E: Enclosing function locals — Names in the local scope of any and all enclosing functions (def or lambda), from inner to outer.\n",
        "\n",
        "G: Global (module) — Names assigned at the top-level of a module file, or declared global in a def within the file.\n",
        "\n",
        "B: Built-in (Python) — Names preassigned in the built-in names module : open, range, SyntaxError,..."
      ]
    },
    {
      "cell_type": "markdown",
      "metadata": {
        "id": "G11lSEcR6G96",
        "colab_type": "text"
      },
      "source": [
        "## Quick examples of LEGB\n",
        "\n",
        "### Local"
      ]
    },
    {
      "cell_type": "code",
      "metadata": {
        "id": "p5GpvVIV6G98",
        "colab_type": "code",
        "colab": {}
      },
      "source": [
        "# x is local here:\n",
        "f = lambda x:x**2\n",
        "\n",
        "#def f():\n",
        "#  x = x**2\n"
      ],
      "execution_count": 0,
      "outputs": []
    },
    {
      "cell_type": "markdown",
      "metadata": {
        "id": "0QCObI3W6G-J",
        "colab_type": "text"
      },
      "source": [
        "### Enclosing function locals\n",
        "This occurs when we have a function inside a function (nested functions)\n"
      ]
    },
    {
      "cell_type": "code",
      "metadata": {
        "id": "6QfySxhA6G-N",
        "colab_type": "code",
        "colab": {}
      },
      "source": [
        "name = 'This is a global name'\n",
        "# VARIABLE DEFINED globally\n",
        "\n",
        "def greet():\n",
        "    # Enclosing function\n",
        "\n",
        "    #name = 'Kristin'\n",
        "    # VARIABLE DEFINED IN THE ENCLOSED FUNCTION\n",
        "    \n",
        "    def hello():\n",
        "        #name = 'Harpreet'\n",
        "        # LOCAL VARIABLE\n",
        "        print('Hello '+name)\n",
        "    \n",
        "    hello()\n",
        "\n"
      ],
      "execution_count": 0,
      "outputs": []
    },
    {
      "cell_type": "code",
      "metadata": {
        "id": "dRjlKXZZ-TiT",
        "colab_type": "code",
        "colab": {
          "base_uri": "https://localhost:8080/",
          "height": 34
        },
        "outputId": "3182b96f-ba02-44f4-881c-e62bbfd387e7"
      },
      "source": [
        "greet()"
      ],
      "execution_count": 13,
      "outputs": [
        {
          "output_type": "stream",
          "text": [
            "Hello This is a global name\n"
          ],
          "name": "stdout"
        }
      ]
    },
    {
      "cell_type": "markdown",
      "metadata": {
        "id": "d1qgiGeG6G-a",
        "colab_type": "text"
      },
      "source": [
        "*Note* how Kristin was used, because the hello() function was enclosed inside of the greet function!"
      ]
    },
    {
      "cell_type": "markdown",
      "metadata": {
        "id": "BeoTqiQm6G-d",
        "colab_type": "text"
      },
      "source": [
        "### Global\n",
        "Luckily in Jupyter a quick way to test for global variables is to see if another cell recognizes the variable!"
      ]
    },
    {
      "cell_type": "code",
      "metadata": {
        "id": "9z1Ccrc6QhVb",
        "colab_type": "code",
        "colab": {
          "base_uri": "https://localhost:8080/",
          "height": 167
        },
        "outputId": "9768db91-0a11-4efb-d8b7-bc49225d22b6"
      },
      "source": [
        "print(name)"
      ],
      "execution_count": 11,
      "outputs": [
        {
          "output_type": "error",
          "ename": "NameError",
          "evalue": "ignored",
          "traceback": [
            "\u001b[0;31m---------------------------------------------------------------------------\u001b[0m",
            "\u001b[0;31mNameError\u001b[0m                                 Traceback (most recent call last)",
            "\u001b[0;32m<ipython-input-11-9ba126b17b03>\u001b[0m in \u001b[0;36m<module>\u001b[0;34m()\u001b[0m\n\u001b[0;32m----> 1\u001b[0;31m \u001b[0mprint\u001b[0m\u001b[0;34m(\u001b[0m\u001b[0mname\u001b[0m\u001b[0;34m)\u001b[0m\u001b[0;34m\u001b[0m\u001b[0;34m\u001b[0m\u001b[0m\n\u001b[0m",
            "\u001b[0;31mNameError\u001b[0m: name 'name' is not defined"
          ]
        }
      ]
    },
    {
      "cell_type": "markdown",
      "metadata": {
        "id": "kesTeyZT6G-n",
        "colab_type": "text"
      },
      "source": [
        "### Built-in\n",
        "These are the built-in function names in Python (don't overwrite these!)"
      ]
    },
    {
      "cell_type": "code",
      "metadata": {
        "id": "JuL-rROC6G-o",
        "colab_type": "code",
        "colab": {}
      },
      "source": [
        "len"
      ],
      "execution_count": 0,
      "outputs": []
    },
    {
      "cell_type": "markdown",
      "metadata": {
        "id": "dRLtXkjA6G-z",
        "colab_type": "text"
      },
      "source": [
        "## Local Variables\n",
        "When you declare variables inside a function definition, they are not related in any way to other variables with the same names used outside the function - i.e. variable names are local to the function. This is called the scope of the variable. All variables have the scope of the block they are declared in starting from the point of definition of the name.\n",
        "\n",
        "Example:"
      ]
    },
    {
      "cell_type": "code",
      "metadata": {
        "id": "rzhCXOjV6G-1",
        "colab_type": "code",
        "colab": {
          "base_uri": "https://localhost:8080/",
          "height": 69
        },
        "outputId": "09ca43e1-c9e2-4fbf-86e7-eebb6114390f"
      },
      "source": [
        "x = 50\n",
        "\n",
        "def func(x):\n",
        "    print('x is', x)\n",
        "    x = 2\n",
        "    print('Changed local x to', x)\n",
        "    #return x\n",
        "\n",
        "func(x)\n",
        "#x = func(x)\n",
        "print('What???? x is still', x)"
      ],
      "execution_count": 8,
      "outputs": [
        {
          "output_type": "stream",
          "text": [
            "x is 50\n",
            "Changed local x to 2\n",
            "What???? x is still 50\n"
          ],
          "name": "stdout"
        }
      ]
    },
    {
      "cell_type": "markdown",
      "metadata": {
        "id": "QMgqiszp6G-_",
        "colab_type": "text"
      },
      "source": [
        "The first time that we print the value of the name **x** with the first line in the function’s body, Python uses the value of the parameter declared in the main block, above the function definition.\n",
        "\n",
        "Next, we assign the value 2 to **x**. The name **x** is local to our function. So, when we change the value of **x** in the function, the **x** defined in the main block remains unaffected.\n",
        "\n",
        "With the last print statement, we display the value of **x** as defined in the main block, thereby confirming that it is actually unaffected by the local assignment within the previously called function.\n",
        "\n",
        "## The <code>global</code> statement\n",
        "If you want to assign a value to a name defined at the top level of the program (i.e. not inside any kind of scope such as functions or classes), then you have to tell Python that the name is not local, but it is global. We do this using the <code>global</code> statement. It is impossible to assign a value to a variable defined outside a function without the global statement.\n",
        "\n",
        "You can use the values of such variables defined outside the function (assuming there is no variable with the same name within the function). However, this is not encouraged and should be avoided since it becomes unclear to the reader of the program as to where that variable’s definition is. Using the <code>global</code> statement makes it amply clear that the variable is defined in an outermost block.\n",
        "\n",
        "Example:"
      ]
    },
    {
      "cell_type": "code",
      "metadata": {
        "id": "J93nWmCs6G_C",
        "colab_type": "code",
        "colab": {}
      },
      "source": [
        "x = 50\n",
        "\n",
        "def func():\n",
        "    global x\n",
        "    print('This function is now using the global x!')\n",
        "    print('Because of global x is: ', x)\n",
        "    x = 2\n",
        "    print('Ran func(), changed global x to', x)\n",
        "\n",
        "print('Before calling func(), x is: ', x)\n",
        "func()\n",
        "print('Value of x (outside of func()) is: ', x)"
      ],
      "execution_count": 0,
      "outputs": []
    },
    {
      "cell_type": "markdown",
      "metadata": {
        "collapsed": true,
        "id": "f5O0rshA6G_O",
        "colab_type": "text"
      },
      "source": [
        "The <code>global</code> statement is used to declare that **x** is a global variable - hence, when we assign a value to **x** inside the function, that change is reflected when we use the value of **x** in the main block.\n",
        "\n",
        "You can specify more than one global variable using the same global statement e.g. <code>global x, y, z</code>."
      ]
    },
    {
      "cell_type": "markdown",
      "metadata": {
        "collapsed": true,
        "id": "0rDcR8hk6G_Q",
        "colab_type": "text"
      },
      "source": [
        "## Conclusion\n",
        "You should now have a good understanding of Scope (you may have already intuitively felt right about Scope which is great!) One last mention is that you can use the **globals()** and **locals()** functions to check what are your current local and global variables.\n",
        "\n",
        "Another thing to keep in mind is that everything in Python is an object! I can assign variables to functions just like I can with numbers! We will go over this again in the decorator section of the course!"
      ]
    },
    {
      "cell_type": "code",
      "metadata": {
        "id": "_ofPUj2P_clb",
        "colab_type": "code",
        "colab": {
          "base_uri": "https://localhost:8080/",
          "height": 781
        },
        "outputId": "a0705e73-7f9d-447c-b95b-c91e6377e7bc"
      },
      "source": [
        "globals()"
      ],
      "execution_count": 6,
      "outputs": [
        {
          "output_type": "execute_result",
          "data": {
            "text/plain": [
              "{'In': ['',\n",
              "  'x = 25\\n\\ndef printer():\\n    x = 50\\n    return x\\n\\n#print(x)\\n#print(printer())',\n",
              "  'print(x)',\n",
              "  'f = lambda x:x**2\\n\\n#def f():\\n#  x = x**2',\n",
              "  '\\noutput = printer()\\nprint(output)',\n",
              "  'print(name)',\n",
              "  'globals()'],\n",
              " 'Out': {},\n",
              " '_': '',\n",
              " '__': '',\n",
              " '___': '',\n",
              " '__builtin__': <module 'builtins' (built-in)>,\n",
              " '__builtins__': <module 'builtins' (built-in)>,\n",
              " '__doc__': 'Automatically created module for IPython interactive environment',\n",
              " '__loader__': None,\n",
              " '__name__': '__main__',\n",
              " '__package__': None,\n",
              " '__spec__': None,\n",
              " '_dh': ['/content'],\n",
              " '_i': 'print(name)',\n",
              " '_i1': 'x = 25\\n\\ndef printer():\\n    x = 50\\n    return x\\n\\n#print(x)\\n#print(printer())',\n",
              " '_i2': 'print(x)',\n",
              " '_i3': 'f = lambda x:x**2\\n\\n#def f():\\n#  x = x**2',\n",
              " '_i4': '\\noutput = printer()\\nprint(output)',\n",
              " '_i5': 'print(name)',\n",
              " '_i6': 'globals()',\n",
              " '_ih': ['',\n",
              "  'x = 25\\n\\ndef printer():\\n    x = 50\\n    return x\\n\\n#print(x)\\n#print(printer())',\n",
              "  'print(x)',\n",
              "  'f = lambda x:x**2\\n\\n#def f():\\n#  x = x**2',\n",
              "  '\\noutput = printer()\\nprint(output)',\n",
              "  'print(name)',\n",
              "  'globals()'],\n",
              " '_ii': '\\noutput = printer()\\nprint(output)',\n",
              " '_iii': 'f = lambda x:x**2\\n\\n#def f():\\n#  x = x**2',\n",
              " '_oh': {},\n",
              " '_sh': <module 'IPython.core.shadowns' from '/usr/local/lib/python3.6/dist-packages/IPython/core/shadowns.py'>,\n",
              " 'exit': <IPython.core.autocall.ZMQExitAutocall at 0x7f04bb08a5f8>,\n",
              " 'f': <function __main__.<lambda>>,\n",
              " 'get_ipython': <bound method InteractiveShell.get_ipython of <google.colab._shell.Shell object at 0x7f04bb06d438>>,\n",
              " 'output': 50,\n",
              " 'printer': <function __main__.printer>,\n",
              " 'quit': <IPython.core.autocall.ZMQExitAutocall at 0x7f04bb08a5f8>,\n",
              " 'x': 25}"
            ]
          },
          "metadata": {
            "tags": []
          },
          "execution_count": 6
        }
      ]
    },
    {
      "cell_type": "code",
      "metadata": {
        "id": "ZoNSZ1rp_eQ3",
        "colab_type": "code",
        "colab": {
          "base_uri": "https://localhost:8080/",
          "height": 851
        },
        "outputId": "1192bebd-8b45-41b9-f859-de8b1b756d54"
      },
      "source": [
        "locals()"
      ],
      "execution_count": 7,
      "outputs": [
        {
          "output_type": "execute_result",
          "data": {
            "text/plain": [
              "{'In': ['',\n",
              "  'x = 25\\n\\ndef printer():\\n    x = 50\\n    return x\\n\\n#print(x)\\n#print(printer())',\n",
              "  'print(x)',\n",
              "  'f = lambda x:x**2\\n\\n#def f():\\n#  x = x**2',\n",
              "  '\\noutput = printer()\\nprint(output)',\n",
              "  'print(name)',\n",
              "  'globals()',\n",
              "  'locals()'],\n",
              " 'Out': {6: {...}},\n",
              " '_': {...},\n",
              " '_6': {...},\n",
              " '__': '',\n",
              " '___': '',\n",
              " '__builtin__': <module 'builtins' (built-in)>,\n",
              " '__builtins__': <module 'builtins' (built-in)>,\n",
              " '__doc__': 'Automatically created module for IPython interactive environment',\n",
              " '__loader__': None,\n",
              " '__name__': '__main__',\n",
              " '__package__': None,\n",
              " '__spec__': None,\n",
              " '_dh': ['/content'],\n",
              " '_i': 'globals()',\n",
              " '_i1': 'x = 25\\n\\ndef printer():\\n    x = 50\\n    return x\\n\\n#print(x)\\n#print(printer())',\n",
              " '_i2': 'print(x)',\n",
              " '_i3': 'f = lambda x:x**2\\n\\n#def f():\\n#  x = x**2',\n",
              " '_i4': '\\noutput = printer()\\nprint(output)',\n",
              " '_i5': 'print(name)',\n",
              " '_i6': 'globals()',\n",
              " '_i7': 'locals()',\n",
              " '_ih': ['',\n",
              "  'x = 25\\n\\ndef printer():\\n    x = 50\\n    return x\\n\\n#print(x)\\n#print(printer())',\n",
              "  'print(x)',\n",
              "  'f = lambda x:x**2\\n\\n#def f():\\n#  x = x**2',\n",
              "  '\\noutput = printer()\\nprint(output)',\n",
              "  'print(name)',\n",
              "  'globals()',\n",
              "  'locals()'],\n",
              " '_ii': 'print(name)',\n",
              " '_iii': '\\noutput = printer()\\nprint(output)',\n",
              " '_oh': {6: {...}},\n",
              " '_sh': <module 'IPython.core.shadowns' from '/usr/local/lib/python3.6/dist-packages/IPython/core/shadowns.py'>,\n",
              " 'exit': <IPython.core.autocall.ZMQExitAutocall at 0x7f04bb08a5f8>,\n",
              " 'f': <function __main__.<lambda>>,\n",
              " 'get_ipython': <bound method InteractiveShell.get_ipython of <google.colab._shell.Shell object at 0x7f04bb06d438>>,\n",
              " 'output': 50,\n",
              " 'printer': <function __main__.printer>,\n",
              " 'quit': <IPython.core.autocall.ZMQExitAutocall at 0x7f04bb08a5f8>,\n",
              " 'x': 25}"
            ]
          },
          "metadata": {
            "tags": []
          },
          "execution_count": 7
        }
      ]
    },
    {
      "cell_type": "code",
      "metadata": {
        "id": "UEZ9I8AD_jlm",
        "colab_type": "code",
        "colab": {}
      },
      "source": [
        ""
      ],
      "execution_count": 0,
      "outputs": []
    },
    {
      "cell_type": "code",
      "metadata": {
        "id": "fK3apB_5_lvC",
        "colab_type": "code",
        "colab": {}
      },
      "source": [
        ""
      ],
      "execution_count": 0,
      "outputs": []
    }
  ]
}