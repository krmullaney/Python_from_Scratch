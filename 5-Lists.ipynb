{
  "nbformat": 4,
  "nbformat_minor": 0,
  "metadata": {
    "colab": {
      "name": "Lecture_2.3_Lists.ipynb",
      "provenance": [],
      "collapsed_sections": []
    },
    "kernelspec": {
      "name": "python3",
      "display_name": "Python 3"
    }
  },
  "cells": [
    {
      "cell_type": "markdown",
      "metadata": {
        "id": "EdweUuq7hJNT",
        "colab_type": "text"
      },
      "source": [
        "# Python Collections\n",
        "\n",
        "There are four collection data types in the Python programming language:\n",
        "\n",
        "    List is a collection which is ordered and changeable. Allows duplicate members.\n",
        "    Tuple is a collection which is ordered and unchangeable. Allows duplicate members.\n",
        "    Set is a collection which is unordered and unindexed. No duplicate members.\n",
        "    Dictionary is a collection which is unordered, changeable and indexed. No duplicate members.\n",
        "\n",
        "** choosing a collection type **\n",
        "When choosing a collection type, it is useful to understand the properties of that type. Choosing the right type for a particular data set could mean retention of meaning, and, it could mean an increase in efficiency or security."
      ]
    },
    {
      "cell_type": "markdown",
      "metadata": {
        "id": "gWW3z34Whixb",
        "colab_type": "text"
      },
      "source": [
        "# LIST\n",
        "\n",
        "    A list is a collection which is ordered and changeable. In Python lists are written with square brackets."
      ]
    },
    {
      "cell_type": "code",
      "metadata": {
        "id": "Cd_3lc7NhxSR",
        "colab_type": "code",
        "colab": {
          "base_uri": "https://localhost:8080/",
          "height": 34
        },
        "outputId": "0ca1001b-2c49-46a9-a9b2-107b20429759"
      },
      "source": [
        "fruitsList = [\"apple\", \"banana\", \"cherry\"]\n",
        "print(fruitsList)"
      ],
      "execution_count": 1,
      "outputs": [
        {
          "output_type": "stream",
          "text": [
            "['apple', 'banana', 'cherry']\n"
          ],
          "name": "stdout"
        }
      ]
    },
    {
      "cell_type": "markdown",
      "metadata": {
        "id": "VGcPM5J9h7eJ",
        "colab_type": "text"
      },
      "source": [
        "# Access Items using the index number"
      ]
    },
    {
      "cell_type": "code",
      "metadata": {
        "id": "z_Jtoc9Ch_E6",
        "colab_type": "code",
        "colab": {
          "base_uri": "https://localhost:8080/",
          "height": 34
        },
        "outputId": "5e9ebd34-58a9-4ddb-e716-c2a9ee88e6b4"
      },
      "source": [
        "#You access the list items by referring to the index number\n",
        "print(fruitsList[0])\n"
      ],
      "execution_count": 2,
      "outputs": [
        {
          "output_type": "stream",
          "text": [
            "apple\n"
          ],
          "name": "stdout"
        }
      ]
    },
    {
      "cell_type": "code",
      "metadata": {
        "id": "_TRutnnE8oG-",
        "colab_type": "code",
        "colab": {
          "base_uri": "https://localhost:8080/",
          "height": 69
        },
        "outputId": "f8c4c7e0-b340-4706-8dd4-5a7325eb6078"
      },
      "source": [
        "print(fruitsList[1])\n",
        "\n",
        "# Negative indexing means beginning from the end, -1 refers to the last item, -2 refers to the second last item etc.\n",
        "print(fruitsList[-1])\n",
        "print(fruitsList[-2])"
      ],
      "execution_count": 3,
      "outputs": [
        {
          "output_type": "stream",
          "text": [
            "banana\n",
            "cherry\n",
            "banana\n"
          ],
          "name": "stdout"
        }
      ]
    },
    {
      "cell_type": "markdown",
      "metadata": {
        "id": "GmEcoH_NiLx0",
        "colab_type": "text"
      },
      "source": [
        "# Range of Indexes\n",
        "\n",
        "You can specify a range of indexes by specifying where to start and where to end the range.\n",
        "\n",
        "When specifying a range, the return value will be a new list with the specified items.\n",
        "\n",
        "    nameOfList[Starting index : Stop Index(but item not including)] \n",
        "\n"
      ]
    },
    {
      "cell_type": "markdown",
      "metadata": {
        "id": "ftT355gMksZI",
        "colab_type": "text"
      },
      "source": [
        "** Remember that the first item in the LIST is position 0 **\n",
        "\n",
        "    Index myFavFruits\n",
        "    0     apple\n",
        "    1     banana\n",
        "    2     cherry\n",
        "    3     orange\n",
        "    4     kiwi\n",
        "    5     melon\n",
        "    6     mango\n"
      ]
    },
    {
      "cell_type": "code",
      "metadata": {
        "id": "8v0lXAGCjGsa",
        "colab_type": "code",
        "colab": {
          "base_uri": "https://localhost:8080/",
          "height": 34
        },
        "outputId": "dae46fc3-e9dc-4197-f0dd-63213c429534"
      },
      "source": [
        "myFavFruits = [\"apple\", \"banana\", \"cherry\", \"orange\", \"kiwi\", \"melon\", \"mango\"]\n",
        "print(myFavFruits[2:5])\n",
        "\n",
        "# This will return the items from position 2 to 5.\n",
        "# The search will start at index 2 (included) and end at index 5 (not included)."
      ],
      "execution_count": 4,
      "outputs": [
        {
          "output_type": "stream",
          "text": [
            "['cherry', 'orange', 'kiwi']\n"
          ],
          "name": "stdout"
        }
      ]
    },
    {
      "cell_type": "code",
      "metadata": {
        "id": "KNCXyRDMkcBK",
        "colab_type": "code",
        "colab": {
          "base_uri": "https://localhost:8080/",
          "height": 52
        },
        "outputId": "006e3992-e0c3-46d1-94d1-90f0784e9b3f"
      },
      "source": [
        "# By leaving out the start value, the range will start at the first item:\n",
        "print(myFavFruits[0:4])\n",
        "print(myFavFruits[:4]) # recommended"
      ],
      "execution_count": 5,
      "outputs": [
        {
          "output_type": "stream",
          "text": [
            "['apple', 'banana', 'cherry', 'orange']\n",
            "['apple', 'banana', 'cherry', 'orange']\n"
          ],
          "name": "stdout"
        }
      ]
    },
    {
      "cell_type": "code",
      "metadata": {
        "id": "TsnbBZyZkobz",
        "colab_type": "code",
        "colab": {
          "base_uri": "https://localhost:8080/",
          "height": 34
        },
        "outputId": "56acf566-dbf7-4057-80f9-a0d57cc512a7"
      },
      "source": [
        "print(myFavFruits[2:])"
      ],
      "execution_count": 6,
      "outputs": [
        {
          "output_type": "stream",
          "text": [
            "['cherry', 'orange', 'kiwi', 'melon', 'mango']\n"
          ],
          "name": "stdout"
        }
      ]
    },
    {
      "cell_type": "code",
      "metadata": {
        "id": "7WCagYfhlu4Q",
        "colab_type": "code",
        "colab": {
          "base_uri": "https://localhost:8080/",
          "height": 34
        },
        "outputId": "91578704-a95c-4bf0-b3e2-dea9a88e8003"
      },
      "source": [
        "myFavFruits = [\"apple\", \"banana\", \"cherry\", \"orange\", \"kiwi\", \"melon\", \"mango\"]\n",
        "\n",
        "print(myFavFruits[-4:-1])\n"
      ],
      "execution_count": 7,
      "outputs": [
        {
          "output_type": "stream",
          "text": [
            "['orange', 'kiwi', 'melon']\n"
          ],
          "name": "stdout"
        }
      ]
    },
    {
      "cell_type": "markdown",
      "metadata": {
        "id": "KOfAY-MUl6Yd",
        "colab_type": "text"
      },
      "source": [
        "# Remember:List is changeable\n",
        "\n",
        "You can Change the List Value using the index number\n",
        "\n",
        "\n"
      ]
    },
    {
      "cell_type": "code",
      "metadata": {
        "id": "zaMbpmqLlyLd",
        "colab_type": "code",
        "colab": {
          "base_uri": "https://localhost:8080/",
          "height": 34
        },
        "outputId": "7b779be4-b569-4b0c-a241-100359f1b31d"
      },
      "source": [
        "fruitsList = [\"apple\", \"banana\", \"cherry\"]\n",
        "fruitsList[0] = \"Strawberries\"\n",
        "print(fruitsList)"
      ],
      "execution_count": 8,
      "outputs": [
        {
          "output_type": "stream",
          "text": [
            "['Strawberries', 'banana', 'cherry']\n"
          ],
          "name": "stdout"
        }
      ]
    },
    {
      "cell_type": "markdown",
      "metadata": {
        "id": "AhsSjY-om9Uz",
        "colab_type": "text"
      },
      "source": [
        "# Check if Item Exists in the list\n"
      ]
    },
    {
      "cell_type": "code",
      "metadata": {
        "id": "1LAEetLYm1_2",
        "colab_type": "code",
        "colab": {
          "base_uri": "https://localhost:8080/",
          "height": 34
        },
        "outputId": "ceb4570e-5871-4250-ddda-1f628b562d7e"
      },
      "source": [
        "fruitsList = [\"strawberries\", \"banana\", \"cherry\"]\n",
        "if \"apple\" in fruitsList :\n",
        "  print(\"Yes, 'apple' is in the fruits list\") \n",
        "else:\n",
        "  print(\"apple is not present in the list\")"
      ],
      "execution_count": 9,
      "outputs": [
        {
          "output_type": "stream",
          "text": [
            "apple is not present in the list\n"
          ],
          "name": "stdout"
        }
      ]
    },
    {
      "cell_type": "markdown",
      "metadata": {
        "id": "d_JOCk6rnbtf",
        "colab_type": "text"
      },
      "source": [
        "# Find the list length / number of items in the list\n"
      ]
    },
    {
      "cell_type": "code",
      "metadata": {
        "id": "MCV8tFiMnPFP",
        "colab_type": "code",
        "colab": {
          "base_uri": "https://localhost:8080/",
          "height": 34
        },
        "outputId": "c096215a-ff6a-4661-cf37-2a18618a03af"
      },
      "source": [
        "fruitsList = [\"apple\", \"banana\", \"cherry\"]\n",
        "print(len(fruitsList))"
      ],
      "execution_count": 10,
      "outputs": [
        {
          "output_type": "stream",
          "text": [
            "3\n"
          ],
          "name": "stdout"
        }
      ]
    },
    {
      "cell_type": "markdown",
      "metadata": {
        "id": "NbYWO9ArxREO",
        "colab_type": "text"
      },
      "source": [
        "# Find the count of an item in the list\n"
      ]
    },
    {
      "cell_type": "code",
      "metadata": {
        "id": "8n6AvQX8nmuI",
        "colab_type": "code",
        "colab": {
          "base_uri": "https://localhost:8080/",
          "height": 34
        },
        "outputId": "4f052bc1-7058-4356-8cbd-303931e4abb6"
      },
      "source": [
        "fruitsList = [\"apple\", \"banana\", \"cherry\", \"apple\"]\n",
        "print(fruitsList.count(\"apple\"))"
      ],
      "execution_count": 11,
      "outputs": [
        {
          "output_type": "stream",
          "text": [
            "2\n"
          ],
          "name": "stdout"
        }
      ]
    },
    {
      "cell_type": "markdown",
      "metadata": {
        "id": "jkOW-UC2nrKw",
        "colab_type": "text"
      },
      "source": [
        "# Add items in the list"
      ]
    },
    {
      "cell_type": "code",
      "metadata": {
        "id": "JPiZ9I0Bntfj",
        "colab_type": "code",
        "colab": {
          "base_uri": "https://localhost:8080/",
          "height": 34
        },
        "outputId": "cb9e680a-b859-4428-9fa6-ae219dd71d57"
      },
      "source": [
        "# append() : To add an item to the end of the list\n",
        "\n",
        "fruitsList = [\"apple\", \"banana\", \"cherry\"]\n",
        "fruitsList.append(\"orange\")\n",
        "print(fruitsList)"
      ],
      "execution_count": 12,
      "outputs": [
        {
          "output_type": "stream",
          "text": [
            "['apple', 'banana', 'cherry', 'orange']\n"
          ],
          "name": "stdout"
        }
      ]
    },
    {
      "cell_type": "code",
      "metadata": {
        "id": "3_4n29cPwqFS",
        "colab_type": "code",
        "colab": {
          "base_uri": "https://localhost:8080/",
          "height": 52
        },
        "outputId": "8900d3d9-2d52-48bc-de96-12278c1111b2"
      },
      "source": [
        "# Append list within a list\n",
        "\n",
        "fruitsList1 = [\"apple\", \"banana\", \"cherry\"]\n",
        "fruitsList2 = [\"strawberries\", \"blueberries\"]\n",
        "\n",
        "fruitsList1.append(fruitsList2)\n",
        "\n",
        "print(fruitsList1)\n",
        "print(fruitsList2)\n"
      ],
      "execution_count": 13,
      "outputs": [
        {
          "output_type": "stream",
          "text": [
            "['apple', 'banana', 'cherry', ['strawberries', 'blueberries']]\n",
            "['strawberries', 'blueberries']\n"
          ],
          "name": "stdout"
        }
      ]
    },
    {
      "cell_type": "code",
      "metadata": {
        "id": "9iKCwL6Onyil",
        "colab_type": "code",
        "colab": {
          "base_uri": "https://localhost:8080/",
          "height": 34
        },
        "outputId": "eb8f2f17-ceb1-4d50-b31e-7d6b29988977"
      },
      "source": [
        "# insert() : To add an item at the specified index\n",
        "\n",
        "fruitsList = [\"apple\", \"banana\", \"cherry\"]\n",
        "fruitsList.insert(2 , \"orange\")\n",
        "print(fruitsList)\n"
      ],
      "execution_count": 14,
      "outputs": [
        {
          "output_type": "stream",
          "text": [
            "['apple', 'banana', 'orange', 'cherry']\n"
          ],
          "name": "stdout"
        }
      ]
    },
    {
      "cell_type": "markdown",
      "metadata": {
        "id": "6GBratmloRBa",
        "colab_type": "text"
      },
      "source": [
        "# Remove Item from the list"
      ]
    },
    {
      "cell_type": "code",
      "metadata": {
        "id": "Gu3EjxzToMFv",
        "colab_type": "code",
        "colab": {
          "base_uri": "https://localhost:8080/",
          "height": 34
        },
        "outputId": "880300f8-c2ae-4cfe-cd15-97d0e624a804"
      },
      "source": [
        "# remove() : Remove the specified value\n",
        "\n",
        "fruitsList = [\"apple\", \"banana\", \"cherry\", \"banana\"]\n",
        "fruitsList.remove(\"banana\")\n",
        "print(fruitsList)"
      ],
      "execution_count": 15,
      "outputs": [
        {
          "output_type": "stream",
          "text": [
            "['apple', 'cherry', 'banana']\n"
          ],
          "name": "stdout"
        }
      ]
    },
    {
      "cell_type": "code",
      "metadata": {
        "id": "2KnCktfSolCE",
        "colab_type": "code",
        "colab": {
          "base_uri": "https://localhost:8080/",
          "height": 34
        },
        "outputId": "092743d1-bee2-499c-87d0-92b864a0d229"
      },
      "source": [
        "# pop() : removes the last item by default , otherwise specified index\n",
        "\n",
        "# Index not specified (by default)\n",
        "fruitsList = [\"apple\", \"banana\", \"cherry\"]\n",
        "fruitsList.pop()\n",
        "print(fruitsList)\n",
        "\n"
      ],
      "execution_count": 16,
      "outputs": [
        {
          "output_type": "stream",
          "text": [
            "['apple', 'banana']\n"
          ],
          "name": "stdout"
        }
      ]
    },
    {
      "cell_type": "code",
      "metadata": {
        "id": "p1SvXc3Wo8A0",
        "colab_type": "code",
        "colab": {
          "base_uri": "https://localhost:8080/",
          "height": 34
        },
        "outputId": "de9d8077-9c87-4ff9-8611-a2c088fca4ff"
      },
      "source": [
        "#Index specified\n",
        "\n",
        "fruitsList = [\"apple\", \"banana\", \"cherry\"]\n",
        "fruitsList.pop(1)\n",
        "print(fruitsList)"
      ],
      "execution_count": 17,
      "outputs": [
        {
          "output_type": "stream",
          "text": [
            "['apple', 'cherry']\n"
          ],
          "name": "stdout"
        }
      ]
    },
    {
      "cell_type": "code",
      "metadata": {
        "id": "IYWfPpVPpM0x",
        "colab_type": "code",
        "colab": {
          "base_uri": "https://localhost:8080/",
          "height": 34
        },
        "outputId": "0cb4c1c7-4e1e-4470-82e1-c2cd5a8886f9"
      },
      "source": [
        "# del : keyword (not a function) removes the specified index\n",
        "\n",
        "fruitsList = [\"apple\", \"banana\", \"cherry\"]\n",
        "del fruitsList[0]\n",
        "print(fruitsList)"
      ],
      "execution_count": 18,
      "outputs": [
        {
          "output_type": "stream",
          "text": [
            "['banana', 'cherry']\n"
          ],
          "name": "stdout"
        }
      ]
    },
    {
      "cell_type": "code",
      "metadata": {
        "id": "yzoe6X_epuql",
        "colab_type": "code",
        "colab": {
          "base_uri": "https://localhost:8080/",
          "height": 202
        },
        "outputId": "2bbe28c2-be3f-4988-c223-8b2b968d11a0"
      },
      "source": [
        "# del : keyword can also delete the list completely\n",
        "\n",
        "fruitsList = [\"apple\", \"banana\", \"cherry\"]\n",
        "del fruitsList\n",
        "print(fruitsList) ##this will cause an error because you have succsesfully deleted \"fruitsList\""
      ],
      "execution_count": 19,
      "outputs": [
        {
          "output_type": "error",
          "ename": "NameError",
          "evalue": "ignored",
          "traceback": [
            "\u001b[0;31m---------------------------------------------------------------------------\u001b[0m",
            "\u001b[0;31mNameError\u001b[0m                                 Traceback (most recent call last)",
            "\u001b[0;32m<ipython-input-19-fbcfbdab4cd0>\u001b[0m in \u001b[0;36m<module>\u001b[0;34m()\u001b[0m\n\u001b[1;32m      2\u001b[0m \u001b[0mfruitsList\u001b[0m \u001b[0;34m=\u001b[0m \u001b[0;34m[\u001b[0m\u001b[0;34m\"apple\"\u001b[0m\u001b[0;34m,\u001b[0m \u001b[0;34m\"banana\"\u001b[0m\u001b[0;34m,\u001b[0m \u001b[0;34m\"cherry\"\u001b[0m\u001b[0;34m]\u001b[0m\u001b[0;34m\u001b[0m\u001b[0;34m\u001b[0m\u001b[0m\n\u001b[1;32m      3\u001b[0m \u001b[0;32mdel\u001b[0m \u001b[0mfruitsList\u001b[0m\u001b[0;34m\u001b[0m\u001b[0;34m\u001b[0m\u001b[0m\n\u001b[0;32m----> 4\u001b[0;31m \u001b[0mprint\u001b[0m\u001b[0;34m(\u001b[0m\u001b[0mfruitsList\u001b[0m\u001b[0;34m)\u001b[0m \u001b[0;31m##this will cause an error because you have succsesfully deleted \"fruitsList\"\u001b[0m\u001b[0;34m\u001b[0m\u001b[0;34m\u001b[0m\u001b[0m\n\u001b[0m",
            "\u001b[0;31mNameError\u001b[0m: name 'fruitsList' is not defined"
          ]
        }
      ]
    },
    {
      "cell_type": "code",
      "metadata": {
        "id": "W8oucsnnqCcw",
        "colab_type": "code",
        "colab": {}
      },
      "source": [
        "# clear() : clear the list\n",
        "\n",
        "fruitsList = [\"apple\", \"banana\", \"cherry\"]\n",
        "fruitsList.clear()\n",
        "print(fruitsList)\n",
        "print(bool(fruitsList))"
      ],
      "execution_count": 0,
      "outputs": []
    },
    {
      "cell_type": "markdown",
      "metadata": {
        "id": "AMIc1weCq0Ly",
        "colab_type": "text"
      },
      "source": [
        "# Copy a List\n"
      ]
    },
    {
      "cell_type": "code",
      "metadata": {
        "id": "1CJsSwUTq_em",
        "colab_type": "code",
        "colab": {}
      },
      "source": [
        "fruitsList1 = [\"apple\", \"banana\", \"cherry\"]\n",
        "fruitsList2 = fruitsList1\n",
        "print(fruitsList1)\n",
        "print(fruitsList2)"
      ],
      "execution_count": 0,
      "outputs": []
    },
    {
      "cell_type": "code",
      "metadata": {
        "id": "S14jyh7Mq_ml",
        "colab_type": "code",
        "colab": {}
      },
      "source": [
        "fruitsList1 = [\"apple\", \"banana\", \"cherry\"]\n",
        "fruitsList2 = fruitsList1\n",
        "\n",
        "fruitsList1.pop()\n",
        "\n",
        "print(fruitsList1)\n",
        "print(fruitsList2)\n",
        "\n",
        "# You cannot copy a list simply by typing list2 = list1, \n",
        "# because: list2 will only be a reference to list1, and changes made in list1 will automatically also be made in list2.\n"
      ],
      "execution_count": 0,
      "outputs": []
    },
    {
      "cell_type": "code",
      "metadata": {
        "id": "PST2egAgqker",
        "colab_type": "code",
        "colab": {}
      },
      "source": [
        ""
      ],
      "execution_count": 0,
      "outputs": []
    },
    {
      "cell_type": "markdown",
      "metadata": {
        "id": "fYqj5vXMr00z",
        "colab_type": "text"
      },
      "source": [
        "**There are ways to make a copy, one way is to use the built-in List method copy()**"
      ]
    },
    {
      "cell_type": "code",
      "metadata": {
        "id": "ofCvQ2a5r372",
        "colab_type": "code",
        "colab": {}
      },
      "source": [
        "# Method One\n",
        "# copy() : Make a copy of a list\n",
        "\n",
        "fruitsList1 = [\"apple\", \"banana\", \"cherry\"]\n",
        "fruitsList2 = fruitsList1.copy()\n",
        "\n",
        "print(fruitsList1)\n",
        "print(fruitsList2)"
      ],
      "execution_count": 0,
      "outputs": []
    },
    {
      "cell_type": "code",
      "metadata": {
        "id": "f51CqXissUNA",
        "colab_type": "code",
        "colab": {}
      },
      "source": [
        "#Operations perform on the list 1 will not affect the copy of the list.\n",
        "\n",
        "fruitsList1 = [\"apple\", \"banana\", \"cherry\"]\n",
        "fruitsList2 = fruitsList1.copy()\n",
        "\n",
        "fruitsList1.pop()\n",
        "\n",
        "print(fruitsList1)\n",
        "print(fruitsList2)"
      ],
      "execution_count": 0,
      "outputs": []
    },
    {
      "cell_type": "code",
      "metadata": {
        "id": "1KuvMvwAsfbO",
        "colab_type": "code",
        "colab": {}
      },
      "source": [
        "# Method 2\n",
        "# Another way to make a copy is to use the built-in method list().\n",
        "\n",
        "fruitsList1 = [\"apple\", \"banana\", \"cherry\"]\n",
        "fruitsList2 = list(fruitsList1) \n",
        "\n",
        "print(fruitsList1)\n",
        "print(fruitsList2)"
      ],
      "execution_count": 0,
      "outputs": []
    },
    {
      "cell_type": "code",
      "metadata": {
        "id": "eLHKdJeUsxt2",
        "colab_type": "code",
        "colab": {}
      },
      "source": [
        "# Operations perform on the list 1 will not affect the copy of the list.\n",
        "\n",
        "fruitsList1 = [\"apple\", \"banana\", \"cherry\"]\n",
        "fruitsList2 = list( fruitsList1 )\n",
        "\n",
        "fruitsList1.pop()\n",
        "\n",
        "print(fruitsList1)\n",
        "print(fruitsList2)"
      ],
      "execution_count": 0,
      "outputs": []
    },
    {
      "cell_type": "markdown",
      "metadata": {
        "id": "8q4RkR4It_iT",
        "colab_type": "text"
      },
      "source": [
        "# Loop Through a List\n",
        "\n",
        "You can loop through the list items by using a for loop:"
      ]
    },
    {
      "cell_type": "code",
      "metadata": {
        "id": "oD2GhfiPuE02",
        "colab_type": "code",
        "colab": {}
      },
      "source": [
        "# Print all items in the list, one by one\n",
        "\n",
        "fruitsList = [\"apple\", \"banana\", \"cherry\"]\n",
        "\n",
        "for fruit in fruitsList:\n",
        "  print( fruit)\n"
      ],
      "execution_count": 0,
      "outputs": []
    },
    {
      "cell_type": "markdown",
      "metadata": {
        "id": "Oz69l5gWtOX_",
        "colab_type": "text"
      },
      "source": [
        "# Join two lists\n",
        "\n",
        "There are several ways to join, or concatenate, two or more lists in Python."
      ]
    },
    {
      "cell_type": "code",
      "metadata": {
        "id": "KoLH7sdZs2DR",
        "colab_type": "code",
        "colab": {}
      },
      "source": [
        "# Method 1\n",
        "# One of the easiest ways are by using the + operator.\n",
        "\n",
        "list1 = [\"a\", \"b\" , \"c\"]\n",
        "list2 = [1, 2, 3]\n",
        "\n",
        "list3 = list1 + list2\n",
        "\n",
        "print(list1) \n",
        "print(list2) \n",
        "print(list3) "
      ],
      "execution_count": 0,
      "outputs": []
    },
    {
      "cell_type": "code",
      "metadata": {
        "id": "G-j_ukaBticy",
        "colab_type": "code",
        "colab": {}
      },
      "source": [
        "# Method 2\n",
        "# Another way to join two lists are by appending all the items from list2 into list1, one by one:\n",
        "\n",
        "list1 = [\"a\", \"b\" , \"c\"]\n",
        "list2 = [1, 2, 3]\n",
        "\n",
        "for x in list2:\n",
        "  list1.append(x)\n",
        "\n",
        "print(list1) \n",
        "print(list2) "
      ],
      "execution_count": 0,
      "outputs": []
    },
    {
      "cell_type": "code",
      "metadata": {
        "id": "JdGYVSq6tzRW",
        "colab_type": "code",
        "colab": {}
      },
      "source": [
        "# Method 3\n",
        "# extend() : Add elements from one list to another list AT THE END\n",
        "\n",
        "list1 = [\"a\", \"b\" , \"c\"]\n",
        "list2 = [1, 2, 3]\n",
        "\n",
        "list1.extend(list2)\n",
        "\n",
        "print(list1) \n",
        "print(list2) "
      ],
      "execution_count": 0,
      "outputs": []
    },
    {
      "cell_type": "markdown",
      "metadata": {
        "id": "bFjTgLkDvZa6",
        "colab_type": "text"
      },
      "source": [
        "# The list() Constructor\n",
        "\n",
        "It is also possible to use the list() constructor to make a new list."
      ]
    },
    {
      "cell_type": "code",
      "metadata": {
        "id": "XxLCUdlcu8Nj",
        "colab_type": "code",
        "colab": {}
      },
      "source": [
        "thislist = list(( \"apple\", \"banana\", \"cherry\")) # note the double round-brackets\n",
        "print(thislist)"
      ],
      "execution_count": 0,
      "outputs": []
    },
    {
      "cell_type": "markdown",
      "metadata": {
        "id": "I79gpYUYxwFP",
        "colab_type": "text"
      },
      "source": [
        "# Find the index of the item in the list"
      ]
    },
    {
      "cell_type": "code",
      "metadata": {
        "id": "w_1qe6jWvo89",
        "colab_type": "code",
        "colab": {}
      },
      "source": [
        "# The index() method only returns the first occurrence of the value\n",
        "fruitsList = [\"apple\", \"banana\", \"cherry\", \"banana\"]\n",
        "print(fruitsList.index(\"banana\"))"
      ],
      "execution_count": 0,
      "outputs": []
    },
    {
      "cell_type": "code",
      "metadata": {
        "id": "pm_jPGl_x1Kr",
        "colab_type": "code",
        "colab": {}
      },
      "source": [
        ""
      ],
      "execution_count": 0,
      "outputs": []
    },
    {
      "cell_type": "markdown",
      "metadata": {
        "id": "muGczNGvyEoL",
        "colab_type": "text"
      },
      "source": [
        "# Reverse the list items"
      ]
    },
    {
      "cell_type": "code",
      "metadata": {
        "id": "oP1H7PhJyHdj",
        "colab_type": "code",
        "colab": {}
      },
      "source": [
        "fruitsList = [\"apple\", \"banana\", \"cherry\"]\n",
        "fruitsList.reverse()\n",
        "print(fruitsList)"
      ],
      "execution_count": 0,
      "outputs": []
    },
    {
      "cell_type": "markdown",
      "metadata": {
        "id": "0rQHvI2vyi9G",
        "colab_type": "text"
      },
      "source": [
        "# Sort the list"
      ]
    },
    {
      "cell_type": "code",
      "metadata": {
        "id": "wHJekF-hyNC9",
        "colab_type": "code",
        "colab": {}
      },
      "source": [
        "# sorts the list ascending by default.\n",
        "fruitsList = [\"banana\", \"strawberries\", \"apple\" , \"mango\" , \"cherry\"]\n",
        "fruitsList.sort()\n",
        "print(fruitsList)"
      ],
      "execution_count": 0,
      "outputs": []
    },
    {
      "cell_type": "code",
      "metadata": {
        "id": "12X0OkOiyu_x",
        "colab_type": "code",
        "colab": {}
      },
      "source": [
        "# sorts the list by descending order\n",
        "fruitsList = [\"banana\", \"strawberries\", \"apple\" , \"mango\" , \"cherry\"]\n",
        "fruitsList.sort(reverse=True)\n",
        "print(fruitsList)\n"
      ],
      "execution_count": 0,
      "outputs": []
    }
  ]
}