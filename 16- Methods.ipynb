{
  "nbformat": 4,
  "nbformat_minor": 0,
  "metadata": {
    "kernelspec": {
      "display_name": "Python 3",
      "language": "python",
      "name": "python3"
    },
    "language_info": {
      "codemirror_mode": {
        "name": "ipython",
        "version": 3
      },
      "file_extension": ".py",
      "mimetype": "text/x-python",
      "name": "python",
      "nbconvert_exporter": "python",
      "pygments_lexer": "ipython3",
      "version": "3.6.2"
    },
    "colab": {
      "name": "01-Methods.ipynb",
      "provenance": [],
      "collapsed_sections": []
    }
  },
  "cells": [
    {
      "cell_type": "markdown",
      "metadata": {
        "id": "vRiSDHJmkwH-",
        "colab_type": "text"
      },
      "source": [
        "# Methods\n",
        "\n",
        "Methods are essentially functions built into objects. \n",
        "\n",
        "create our own objects and methods using Object Oriented Programming (OOP) and classes.\n",
        "\n",
        "Methods perform specific actions on an object and can also take arguments, just like a function. \n",
        "\n",
        "Methods are in the form:\n",
        "\n",
        "    object.method(arg1,arg2,etc...)\n",
        "    \n",
        "Let's take a quick look at what an example of the various methods a list has:"
      ]
    },
    {
      "cell_type": "code",
      "metadata": {
        "id": "ZJ41OTynkwIK",
        "colab_type": "code",
        "colab": {
          "base_uri": "https://localhost:8080/",
          "height": 34
        },
        "outputId": "a3015b3c-b6f4-478e-bc5d-f9fa23e76f3f"
      },
      "source": [
        "# Create a simple list\n",
        "lst = [1,2,3,4,5,2]\n",
        "print(type(lst))"
      ],
      "execution_count": 20,
      "outputs": [
        {
          "output_type": "stream",
          "text": [
            "<class 'list'>\n"
          ],
          "name": "stdout"
        }
      ]
    },
    {
      "cell_type": "markdown",
      "metadata": {
        "id": "FpsT_HNRkwJA",
        "colab_type": "text"
      },
      "source": [
        "With iPython and the Jupyter Notebook we can quickly see all the possible methods using the \"tab\" key. \n",
        "\n",
        "The methods for a list are:\n",
        "\n",
        "* append\n",
        "* count\n",
        "* extend\n",
        "* insert\n",
        "* pop\n",
        "* remove\n",
        "* reverse\n",
        "* sort\n"
      ]
    },
    {
      "cell_type": "markdown",
      "metadata": {
        "id": "553XfhJrkwJc",
        "colab_type": "text"
      },
      "source": [
        "append() allows us to add elements to the end of a list:"
      ]
    },
    {
      "cell_type": "code",
      "metadata": {
        "id": "AXiM1K5rkwJk",
        "colab_type": "code",
        "colab": {
          "base_uri": "https://localhost:8080/",
          "height": 34
        },
        "outputId": "676d89b1-f67d-41c8-e0d6-53ae8bc8ed63"
      },
      "source": [
        "lst.pop()"
      ],
      "execution_count": 18,
      "outputs": [
        {
          "output_type": "execute_result",
          "data": {
            "text/plain": [
              "2"
            ]
          },
          "metadata": {
            "tags": []
          },
          "execution_count": 18
        }
      ]
    },
    {
      "cell_type": "code",
      "metadata": {
        "id": "zWCBeZKvkwKE",
        "colab_type": "code",
        "outputId": "26c4c9df-4012-4709-ad3d-a3e5e45659e0",
        "colab": {
          "base_uri": "https://localhost:8080/",
          "height": 34
        }
      },
      "source": [
        "lst"
      ],
      "execution_count": 21,
      "outputs": [
        {
          "output_type": "execute_result",
          "data": {
            "text/plain": [
              "[1, 2, 3, 4, 5, 2]"
            ]
          },
          "metadata": {
            "tags": []
          },
          "execution_count": 21
        }
      ]
    },
    {
      "cell_type": "markdown",
      "metadata": {
        "id": "g6x7x_m5kwKv",
        "colab_type": "text"
      },
      "source": [
        "The count() method will count the number of occurrences of an element in a list."
      ]
    },
    {
      "cell_type": "code",
      "metadata": {
        "id": "SiRunqhckwKy",
        "colab_type": "code",
        "outputId": "e4a4b4f3-3842-474c-b477-bde192c7953d",
        "colab": {
          "base_uri": "https://localhost:8080/",
          "height": 34
        }
      },
      "source": [
        "# Check how many times 2 shows up in the list\n",
        "lst.count(2)"
      ],
      "execution_count": 22,
      "outputs": [
        {
          "output_type": "execute_result",
          "data": {
            "text/plain": [
              "2"
            ]
          },
          "metadata": {
            "tags": []
          },
          "execution_count": 22
        }
      ]
    },
    {
      "cell_type": "markdown",
      "metadata": {
        "id": "MGHozx2AkwLa",
        "colab_type": "text"
      },
      "source": [
        "You can always use Shift+Tab in the Jupyter Notebook to get more help about the method. In general Python you can use the help() function: "
      ]
    },
    {
      "cell_type": "code",
      "metadata": {
        "id": "Wg3WkKTEkwLe",
        "colab_type": "code",
        "outputId": "f1aeff17-4247-416f-a5ef-ee990f02520e",
        "colab": {
          "base_uri": "https://localhost:8080/",
          "height": 104
        }
      },
      "source": [
        "help(lst.append)"
      ],
      "execution_count": 24,
      "outputs": [
        {
          "output_type": "stream",
          "text": [
            "Help on built-in function append:\n",
            "\n",
            "append(...) method of builtins.list instance\n",
            "    L.append(object) -> None -- append object to end\n",
            "\n"
          ],
          "name": "stdout"
        }
      ]
    },
    {
      "cell_type": "markdown",
      "metadata": {
        "id": "pD-spzYykwMA",
        "colab_type": "text"
      },
      "source": [
        "Feel free to play around with the rest of the methods for a list. Later on in this section your quiz will involve using help and Google searching for methods of different types of objects!"
      ]
    }
  ]
}