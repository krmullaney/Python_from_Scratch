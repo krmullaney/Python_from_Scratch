{
  "nbformat": 4,
  "nbformat_minor": 0,
  "metadata": {
    "kernelspec": {
      "display_name": "Python 3",
      "language": "python",
      "name": "python3"
    },
    "language_info": {
      "codemirror_mode": {
        "name": "ipython",
        "version": 3
      },
      "file_extension": ".py",
      "mimetype": "text/x-python",
      "name": "python",
      "nbconvert_exporter": "python",
      "pygments_lexer": "ipython3",
      "version": "3.6.2"
    },
    "colab": {
      "name": "Regular Expressions - re.ipynb",
      "provenance": [],
      "collapsed_sections": []
    }
  },
  "cells": [
    {
      "cell_type": "markdown",
      "metadata": {
        "id": "ccRFbr_rVa6T",
        "colab_type": "text"
      },
      "source": [
        "# Regular Expressions\n",
        "\n",
        "Regular expressions are text-matching patterns described with a formal syntax. You'll often hear regular expressions referred to as 'regex' or 'regexp' in conversation. Regular expressions can include a variety of rules, from finding repetition, to text-matching, and much more. As you advance in Python you'll see that a lot of your parsing problems can be solved with regular expressions (they're also a common interview question!).\n",
        "\n",
        "\n",
        "We will be using the <code>re</code> module with Python for this lecture.\n"
      ]
    },
    {
      "cell_type": "markdown",
      "metadata": {
        "id": "RemfBp00Va6c",
        "colab_type": "text"
      },
      "source": [
        "## Searching for Patterns in Text\n",
        "\n",
        "One of the most common uses for the re module is for finding patterns in text. Let's do a quick example of using the search method in the re module to find some text:"
      ]
    },
    {
      "cell_type": "code",
      "metadata": {
        "id": "GguIefO6adQs",
        "colab_type": "code",
        "colab": {}
      },
      "source": [
        "import re"
      ],
      "execution_count": 0,
      "outputs": []
    },
    {
      "cell_type": "markdown",
      "metadata": {
        "id": "iaUqxX6abMDA",
        "colab_type": "text"
      },
      "source": [
        "#Search()\n",
        "\n",
        "The search() function searches the string for a match, and returns a Match object if there is a match.\n",
        "\n",
        "For example: Search the string to see if it starts with \"The\" and ends with \"Spain\":"
      ]
    },
    {
      "cell_type": "code",
      "metadata": {
        "id": "gbOZB1avafeW",
        "colab_type": "code",
        "outputId": "39876565-4c1a-4322-900a-87edab2dfd69",
        "colab": {
          "base_uri": "https://localhost:8080/",
          "height": 34
        }
      },
      "source": [
        "txt = \"A lot of people in the Spain are in the pain due to the Covid-19\" \n",
        "#match_obj = re.search(\"^A.*19$\", txt) \n",
        "match_obj = re.search(\"Spain\", txt) \n",
        "print(match_obj)"
      ],
      "execution_count": 2,
      "outputs": [
        {
          "output_type": "stream",
          "text": [
            "<_sre.SRE_Match object; span=(23, 28), match='Spain'>\n"
          ],
          "name": "stdout"
        }
      ]
    },
    {
      "cell_type": "markdown",
      "metadata": {
        "id": "o2TiDq41blwH",
        "colab_type": "text"
      },
      "source": [
        "### Note: search method returns a search object.\n",
        "\n",
        "If no matches are found, the value None is returned:"
      ]
    },
    {
      "cell_type": "code",
      "metadata": {
        "id": "pem1DX30by5L",
        "colab_type": "code",
        "outputId": "33c77260-6e65-4874-fe31-bccec659204d",
        "colab": {
          "base_uri": "https://localhost:8080/",
          "height": 34
        }
      },
      "source": [
        "txt = \"A lot of people in the Spain are in the pain due to the Covid-19\" \n",
        "#match_obj = re.search(\"^A.*Covid$\", txt) \n",
        "match_obj = re.search(\"USA\", txt) \n",
        "print(match_obj)"
      ],
      "execution_count": 3,
      "outputs": [
        {
          "output_type": "stream",
          "text": [
            "None\n"
          ],
          "name": "stdout"
        }
      ]
    },
    {
      "cell_type": "markdown",
      "metadata": {
        "id": "Rmw2AoPTckrC",
        "colab_type": "text"
      },
      "source": [
        "If there is more than one match, only the first occurrence of the match will be returned:"
      ]
    },
    {
      "cell_type": "code",
      "metadata": {
        "id": "a5waoZ2hcphJ",
        "colab_type": "code",
        "outputId": "629a67e1-de96-49e7-94e3-c1180885e8bb",
        "colab": {
          "base_uri": "https://localhost:8080/",
          "height": 34
        }
      },
      "source": [
        "txt = \"A lot of people in the Spain are in the pain due to the Covid-19\" \n",
        "match_obj = re.search(\"in\", txt) \n",
        "print(match_obj)"
      ],
      "execution_count": 4,
      "outputs": [
        {
          "output_type": "stream",
          "text": [
            "<_sre.SRE_Match object; span=(16, 18), match='in'>\n"
          ],
          "name": "stdout"
        }
      ]
    },
    {
      "cell_type": "code",
      "metadata": {
        "id": "R_YokG6rVa7c",
        "colab_type": "code",
        "outputId": "d2a2ff21-9f60-421f-ae11-bc6d873c3fa7",
        "colab": {
          "base_uri": "https://localhost:8080/",
          "height": 34
        }
      },
      "source": [
        "# Text to parse\n",
        "text = \"A lot of people in the Spain are in the pain due to the Covid-19\" \n",
        "\n",
        "# List of patterns to search for\n",
        "pattern = 'Spain'\n",
        "\n",
        "match_obj = re.search(pattern,text)\n",
        "\n",
        "type(match_obj)"
      ],
      "execution_count": 5,
      "outputs": [
        {
          "output_type": "execute_result",
          "data": {
            "text/plain": [
              "_sre.SRE_Match"
            ]
          },
          "metadata": {
            "tags": []
          },
          "execution_count": 5
        }
      ]
    },
    {
      "cell_type": "markdown",
      "metadata": {
        "id": "XrKZ05yLc6UE",
        "colab_type": "text"
      },
      "source": [
        "# Match Object\n",
        "\n",
        "\n",
        "Now we've seen that <code>re.search()</code> will take the pattern, scan the text, and then return a **Match** object. \n",
        "\n",
        "This **Match** object returned by the search() method is more than just a Boolean or None, it contains information about the match, including the original input string, the regular expression that was used, and the location of the match. Let's see the methods we can use on the match object:\n"
      ]
    },
    {
      "cell_type": "code",
      "metadata": {
        "id": "so5J84ZzdWr2",
        "colab_type": "code",
        "outputId": "c92de980-def6-4c08-ca11-c2153538b99a",
        "colab": {
          "base_uri": "https://localhost:8080/",
          "height": 52
        }
      },
      "source": [
        "print(match_obj)\n",
        "print(type(match_obj))"
      ],
      "execution_count": 6,
      "outputs": [
        {
          "output_type": "stream",
          "text": [
            "<_sre.SRE_Match object; span=(23, 28), match='Spain'>\n",
            "<class '_sre.SRE_Match'>\n"
          ],
          "name": "stdout"
        }
      ]
    },
    {
      "cell_type": "markdown",
      "metadata": {
        "id": "giGXjQfQh7rW",
        "colab_type": "text"
      },
      "source": [
        "\n",
        "The Match object has properties and methods used to retrieve information about the search, and the result:\n",
        "\n",
        "    .start() returns the start position of the first match\n",
        "    \n",
        "    .end() returns the end position of the first match\n",
        "    \n",
        "    .span() returns a tuple containing the start-, and end positions of the match.\n",
        "\n",
        "    .group() returns the part of the string where there was a match\n",
        "\n",
        "    .string returns the string passed into the function\n",
        "\n",
        "\n",
        "To give a clearer picture of this match object, check out the cell below:\n"
      ]
    },
    {
      "cell_type": "code",
      "metadata": {
        "id": "dTeJXIFjhvpT",
        "colab_type": "code",
        "outputId": "fe6a237c-54a6-42b1-dd02-be82ddd172bb",
        "colab": {
          "base_uri": "https://localhost:8080/",
          "height": 211
        }
      },
      "source": [
        "print(f'\\nShow start of match------------------------------------------------------------ { match_obj.start() }')\n",
        "\n",
        "print(f'\\nShow end of match-------------------------------------------------------------- { match_obj.end() }')\n",
        "\n",
        "print(f'\\nreturns a tuple containing the start-, and end positions of the match --------- { match_obj.span() }')\n",
        "\n",
        "print(f'\\nreturns the part of the string where there was a match ------------------------ { match_obj.group()}')\n",
        "\n",
        "print(f'\\nreturns the string passed into the function ----------------------------------- { match_obj.string}')"
      ],
      "execution_count": 7,
      "outputs": [
        {
          "output_type": "stream",
          "text": [
            "\n",
            "Show start of match------------------------------------------------------------ 23\n",
            "\n",
            "Show end of match-------------------------------------------------------------- 28\n",
            "\n",
            "returns a tuple containing the start-, and end positions of the match --------- (23, 28)\n",
            "\n",
            "returns the part of the string where there was a match ------------------------ Spain\n",
            "\n",
            "returns the string passed into the function ----------------------------------- A lot of people in the Spain are in the pain due to the Covid-19\n"
          ],
          "name": "stdout"
        }
      ]
    },
    {
      "cell_type": "markdown",
      "metadata": {
        "id": "dRukvtoqjNA0",
        "colab_type": "text"
      },
      "source": [
        "# Search multiple words/patterns in the text"
      ]
    },
    {
      "cell_type": "code",
      "metadata": {
        "id": "X_FJX-z2Va6l",
        "colab_type": "code",
        "outputId": "dfffd2ff-d838-42c1-d16b-8eaefd4fbc17",
        "colab": {
          "base_uri": "https://localhost:8080/",
          "height": 278
        }
      },
      "source": [
        "# Text to parse\n",
        "text = \"A lot of people in the Spain are in the pain due to the Covid-19\" \n",
        "\n",
        "# List of patterns to search for\n",
        "patterns = ['in', 'the', 'USA']\n",
        "\n",
        "for pattern in patterns:\n",
        "    print(f'Searching for {pattern} inside the text --------- {text}\\n')\n",
        "    \n",
        "    #Check for match\n",
        "    if re.search(pattern,text):\n",
        "        print('Yeah...... Match was found. \\n\\n')\n",
        "    else:\n",
        "        print('Oops...... No Match was found.\\n\\n')"
      ],
      "execution_count": 13,
      "outputs": [
        {
          "output_type": "stream",
          "text": [
            "Searching for in inside the text --------- A lot of people in the Spain are in the pain due to the Covid-19\n",
            "\n",
            "Yeah...... Match was found. \n",
            "\n",
            "\n",
            "Searching for the inside the text --------- A lot of people in the Spain are in the pain due to the Covid-19\n",
            "\n",
            "Yeah...... Match was found. \n",
            "\n",
            "\n",
            "Searching for USA inside the text --------- A lot of people in the Spain are in the pain due to the Covid-19\n",
            "\n",
            "Oops...... No Match was found.\n",
            "\n",
            "\n"
          ],
          "name": "stdout"
        }
      ]
    },
    {
      "cell_type": "markdown",
      "metadata": {
        "id": "rWoZTyRFjsn-",
        "colab_type": "text"
      },
      "source": [
        "# findall()\n",
        "\n",
        "The findall() function returns a list containing all matches.\n"
      ]
    },
    {
      "cell_type": "code",
      "metadata": {
        "id": "k43g3CJSj1IB",
        "colab_type": "code",
        "outputId": "72c85a61-69e1-4c24-f8b8-540d3c64a5ad",
        "colab": {
          "base_uri": "https://localhost:8080/",
          "height": 69
        }
      },
      "source": [
        "# Text to parse\n",
        "text = \"A lot of people in the Spain are in the pain due to the Covid-19\" \n",
        "\n",
        "# List of patterns to search for\n",
        "pattern = 'in'\n",
        "\n",
        "#match_obj = re.search(pattern,text)\n",
        "match_list = re.findall(pattern,text)\n",
        "\n",
        "print(match_list)\n",
        "print(len(match_list))\n",
        "print(type(match_list) ) "
      ],
      "execution_count": 11,
      "outputs": [
        {
          "output_type": "stream",
          "text": [
            "['in', 'in', 'in', 'in']\n",
            "4\n",
            "<class 'list'>\n"
          ],
          "name": "stdout"
        }
      ]
    },
    {
      "cell_type": "markdown",
      "metadata": {
        "id": "WBsdp-Ppk3fN",
        "colab_type": "text"
      },
      "source": [
        "The list contains the matches in the order they are found.\n",
        "\n",
        "\n",
        "**Note:** Return an empty list if no match was found:"
      ]
    },
    {
      "cell_type": "code",
      "metadata": {
        "id": "PJ_jtumMlDJV",
        "colab_type": "code",
        "outputId": "f6fafa94-2c1d-4e8a-aca6-67df1f72e9d3",
        "colab": {
          "base_uri": "https://localhost:8080/",
          "height": 52
        }
      },
      "source": [
        "# Text to parse\n",
        "text = \"A lot of people in the Spain are in the pain due to the Covid-19\" \n",
        "\n",
        "# List of patterns to search for\n",
        "pattern = 'USA'\n",
        "\n",
        "#match_obj = re.search(pattern,text)\n",
        "match_list = re.findall(pattern,text)\n",
        "\n",
        "print(match_list)\n",
        "print(type(match_list) )"
      ],
      "execution_count": 12,
      "outputs": [
        {
          "output_type": "stream",
          "text": [
            "[]\n",
            "<class 'list'>\n"
          ],
          "name": "stdout"
        }
      ]
    },
    {
      "cell_type": "markdown",
      "metadata": {
        "id": "zo6Ew17pVa8t",
        "colab_type": "text"
      },
      "source": [
        "## Split()\n",
        "\n",
        "\n",
        "Let's see how we can split with the re syntax. This should look similar to how you used the split() method with strings."
      ]
    },
    {
      "cell_type": "code",
      "metadata": {
        "id": "ZZIT3C7VVa8y",
        "colab_type": "code",
        "outputId": "3c5a254c-7a41-4d53-bdef-740ed8bb3e88",
        "colab": {
          "base_uri": "https://localhost:8080/",
          "height": 52
        }
      },
      "source": [
        "# Term to split on\n",
        "split_term = '@'\n",
        "\n",
        "phrase = 'What is the domain name of someone with the email: hello@example.com'\n",
        "\n",
        "# Split the phrase using python string method\n",
        "print( phrase.split(split_term) )\n",
        "\n",
        "# Split the phrase using re module\n",
        "print( re.split(split_term,phrase) )"
      ],
      "execution_count": 14,
      "outputs": [
        {
          "output_type": "stream",
          "text": [
            "['What is the domain name of someone with the email: hello', 'example.com']\n",
            "['What is the domain name of someone with the email: hello', 'example.com']\n"
          ],
          "name": "stdout"
        }
      ]
    },
    {
      "cell_type": "markdown",
      "metadata": {
        "id": "oiaZQsqTVa9g",
        "colab_type": "text"
      },
      "source": [
        "Note how <code>re.split()</code> returns a list with the term to split on removed and the terms in the list are a split up version of the string. Create a couple of more examples for yourself to make sure you understand!\n",
        "\n"
      ]
    },
    {
      "cell_type": "markdown",
      "metadata": {
        "id": "nWpmjjB6om0K",
        "colab_type": "text"
      },
      "source": [
        "# sub()\n",
        "\n",
        "The sub() function replaces the matches with the text of your choice. For example: Replace every white-space character with the \"*\":\n",
        "\n"
      ]
    },
    {
      "cell_type": "code",
      "metadata": {
        "id": "hgCb7bCEVa9l",
        "colab_type": "code",
        "outputId": "0f774782-0e11-4824-b8f5-6b346fdf39ba",
        "colab": {
          "base_uri": "https://localhost:8080/",
          "height": 34
        }
      },
      "source": [
        "# Text to parse\n",
        "text = \"A lot of people in the Spain are in the pain due to the Covid-19\" \n",
        "\n",
        "# List of patterns to search for\n",
        "pattern = 'in'\n",
        "\n",
        "#match_obj = re.search(pattern,text)\n",
        "#match_list = re.findall(pattern,text)\n",
        "replace_with_sub = re.sub(pattern, \"*\" , text)\n",
        "\n",
        "print(replace_with_sub)"
      ],
      "execution_count": 15,
      "outputs": [
        {
          "output_type": "stream",
          "text": [
            "A lot of people * the Spa* are * the pa* due to the Covid-19\n"
          ],
          "name": "stdout"
        }
      ]
    },
    {
      "cell_type": "markdown",
      "metadata": {
        "id": "S-R_XTssplPi",
        "colab_type": "text"
      },
      "source": [
        "You can control the number of replacements by specifying the count parameter"
      ]
    },
    {
      "cell_type": "code",
      "metadata": {
        "id": "mPCmgP_KpnNP",
        "colab_type": "code",
        "outputId": "554a1ab0-0aaa-4449-ea16-ad446a593a57",
        "colab": {
          "base_uri": "https://localhost:8080/",
          "height": 34
        }
      },
      "source": [
        "# Text to parse\n",
        "text = \"A lot of people in the Spain are in the pain due to the Covid-19\" \n",
        "\n",
        "# List of patterns to search for\n",
        "pattern = 'in'\n",
        "\n",
        "#match_obj = re.search(pattern,text)\n",
        "#match_list = re.findall(pattern,text)\n",
        "replace_with_sub = re.sub(pattern, \"*\" , text,2 )\n",
        "\n",
        "print(replace_with_sub)"
      ],
      "execution_count": 16,
      "outputs": [
        {
          "output_type": "stream",
          "text": [
            "A lot of people * the Spa* are in the pain due to the Covid-19\n"
          ],
          "name": "stdout"
        }
      ]
    },
    {
      "cell_type": "markdown",
      "metadata": {
        "id": "ChciFC7RVa96",
        "colab_type": "text"
      },
      "source": [
        "## Metacharacters\n",
        "\n",
        "Regular expressions support a huge variety of patterns beyond just simply finding where a single string occurred. This can be done by several ways.\n",
        "\n",
        "Metacharacters are characters with a special meaning.\n",
        "\n",
        "\n",
        "Since we will be testing multiple re syntax forms, let's create a function that will print out results given a list of various regular expressions and a phrase to parse:"
      ]
    },
    {
      "cell_type": "code",
      "metadata": {
        "id": "ZHDzkw3IVa99",
        "colab_type": "code",
        "colab": {}
      },
      "source": [
        "def multi_re_find(patterns,phrase):\n",
        "    '''\n",
        "    Takes in a list of regex patterns\n",
        "    Prints a list of all matches\n",
        "    '''\n",
        "    for pattern in patterns:\n",
        "        print(f'Searching the phrase using the re check: {pattern}')\n",
        "        print(re.findall(pattern,phrase))\n",
        "        print('\\n')"
      ],
      "execution_count": 0,
      "outputs": []
    },
    {
      "cell_type": "markdown",
      "metadata": {
        "id": "p2LksdMsVa-Q",
        "colab_type": "text"
      },
      "source": [
        "### Repetition Syntax\n",
        "\n",
        "There are five ways to express repetition in a pattern:\n",
        "\n",
        "\n",
        "   1. A pattern followed by the meta-character <code>*</code> is repeated zero or more times. \n",
        "   2. Replace the <code>*</code> with <code>+</code> and the pattern must appear at least once. \n",
        "   3. Using <code>?</code> means the pattern appears zero or one time. \n",
        "   4. For a specific number of occurrences, use <code>{m}</code> after the pattern, where **m** is replaced with the number of times the pattern should repeat. \n",
        "   5. Use <code>{m,n}</code> where **m** is the minimum number of repetitions and **n** is the maximum. Leaving out **n** <code>{m,}</code> means the value appears at least **m** times, with no maximum.\n",
        "    \n",
        "Now we will see an example of each of these using our multi_re_find function:"
      ]
    },
    {
      "cell_type": "code",
      "metadata": {
        "id": "ad-z0h0tVa-V",
        "colab_type": "code",
        "outputId": "74be4976-d3ae-46b5-8346-423befcabe46",
        "colab": {
          "base_uri": "https://localhost:8080/",
          "height": 364
        }
      },
      "source": [
        "test_phrase = 'sdsd..sssddd...sdddsddd...dsds...dsssss...sdddd'\n",
        "\n",
        "test_patterns = [ 'sd*',     # s followed by zero or more d's\n",
        "                'sd+',          # s followed by one or more d's\n",
        "                'sd?',          # s followed by zero or one d's\n",
        "                'sd{3}',        # s followed by three d's\n",
        "                'sd{2,3}',      # s followed by two to three d's\n",
        "                ]\n",
        "\n",
        "multi_re_find(test_patterns,test_phrase)"
      ],
      "execution_count": 19,
      "outputs": [
        {
          "output_type": "stream",
          "text": [
            "Searching the phrase using the re check: sd*\n",
            "['sd', 'sd', 's', 's', 'sddd', 'sddd', 'sddd', 'sd', 's', 's', 's', 's', 's', 's', 'sdddd']\n",
            "\n",
            "\n",
            "Searching the phrase using the re check: sd+\n",
            "['sd', 'sd', 'sddd', 'sddd', 'sddd', 'sd', 'sdddd']\n",
            "\n",
            "\n",
            "Searching the phrase using the re check: sd?\n",
            "['sd', 'sd', 's', 's', 'sd', 'sd', 'sd', 'sd', 's', 's', 's', 's', 's', 's', 'sd']\n",
            "\n",
            "\n",
            "Searching the phrase using the re check: sd{3}\n",
            "['sddd', 'sddd', 'sddd', 'sddd']\n",
            "\n",
            "\n",
            "Searching the phrase using the re check: sd{2,3}\n",
            "['sddd', 'sddd', 'sddd', 'sddd']\n",
            "\n",
            "\n"
          ],
          "name": "stdout"
        }
      ]
    },
    {
      "cell_type": "code",
      "metadata": {
        "id": "uWizzfzMscQ4",
        "colab_type": "code",
        "outputId": "fe64bc41-7366-4ddb-80ee-c759ad90e747",
        "colab": {
          "base_uri": "https://localhost:8080/",
          "height": 295
        }
      },
      "source": [
        "# Text to parse\n",
        "test_phrase = \"A lot of people in the Spain are in the pain due to the Covid-19. Oh God!!! Give the relaxaition now.\" \n",
        "\n",
        "# List of patterns to search for\n",
        "test_patterns = ['ai*',         # a followed by zero or more i's\n",
        "                'ai+',          # a followed by one or more i's\n",
        "                'ai?',          # a followed by zero or one i's\n",
        "                'ai{1,3}',      # a followed by one to three i's\n",
        "                ]\n",
        "\n",
        "multi_re_find(test_patterns,test_phrase)\n"
      ],
      "execution_count": 18,
      "outputs": [
        {
          "output_type": "stream",
          "text": [
            "Searching the phrase using the re check: ai*\n",
            "['ai', 'a', 'ai', 'a', 'ai']\n",
            "\n",
            "\n",
            "Searching the phrase using the re check: ai+\n",
            "['ai', 'ai', 'ai']\n",
            "\n",
            "\n",
            "Searching the phrase using the re check: ai?\n",
            "['ai', 'a', 'ai', 'a', 'ai']\n",
            "\n",
            "\n",
            "Searching the phrase using the re check: ai{1,3}\n",
            "['ai', 'ai', 'ai']\n",
            "\n",
            "\n"
          ],
          "name": "stdout"
        }
      ]
    },
    {
      "cell_type": "markdown",
      "metadata": {
        "id": "ckB_fqHnVa-o",
        "colab_type": "text"
      },
      "source": [
        "## Character Sets\n",
        "\n",
        "Character sets are used when you wish to match any one of a group of characters at a point in the input. Brackets are used to construct character set inputs. For example: the input <code>[ab]</code> searches for occurrences of either **a** or **b**.\n",
        "Let's see some examples:"
      ]
    },
    {
      "cell_type": "code",
      "metadata": {
        "id": "Ipj75Ii7Va-s",
        "colab_type": "code",
        "outputId": "64882234-d18e-4804-9b9f-3efb57d2b481",
        "colab": {
          "base_uri": "https://localhost:8080/",
          "height": 156
        }
      },
      "source": [
        "test_phrase = \"A lot of people in the Spain are in the pain due to the Covid-19. Oh God!!! Give the relaxaition now.\" \n",
        "\n",
        "test_patterns = ['[of]',    # either o or f\n",
        "                'o[tfp]+']   # o followed by one or more t or f\n",
        "\n",
        "multi_re_find(test_patterns,test_phrase)"
      ],
      "execution_count": 22,
      "outputs": [
        {
          "output_type": "stream",
          "text": [
            "Searching the phrase using the re check: [of]\n",
            "['o', 'o', 'f', 'o', 'o', 'o', 'o', 'o', 'o']\n",
            "\n",
            "\n",
            "Searching the phrase using the re check: o[tfp]+\n",
            "['ot', 'of', 'op']\n",
            "\n",
            "\n"
          ],
          "name": "stdout"
        }
      ]
    },
    {
      "cell_type": "markdown",
      "metadata": {
        "id": "WIveG5MwVa--",
        "colab_type": "text"
      },
      "source": [
        "It makes sense that the first input <code>[of]</code> returns every instance of o or f. Also, the second input <code>o[tf]+</code> returns any full strings that begin with an o and continue with t or f characters until another character is reached."
      ]
    },
    {
      "cell_type": "markdown",
      "metadata": {
        "id": "MemCh8oSVa_B",
        "colab_type": "text"
      },
      "source": [
        "## Exclusion\n",
        "\n",
        "We can use <code>^</code> to exclude terms by incorporating it into the bracket syntax notation. For example: <code>[^...]</code> will match any single character not in the brackets. Let's see some examples:"
      ]
    },
    {
      "cell_type": "code",
      "metadata": {
        "id": "8CrElNrRVa_E",
        "colab_type": "code",
        "colab": {}
      },
      "source": [
        "#test_phrase = 'This is a string! But it has punctuation. How can we remove it?'\n",
        "test_phrase = \"A lot of people in the Spain are in the pain due to the Covid-19. Oh God!!! Give the relaxaition now. Please! Please! Please!\" \n"
      ],
      "execution_count": 0,
      "outputs": []
    },
    {
      "cell_type": "markdown",
      "metadata": {
        "id": "EKGCcU87Va_a",
        "colab_type": "text"
      },
      "source": [
        "Use <code>[^!.? ]</code> to check for matches that are not a !,.,?, or space. Add a <code>+</code> to check that the match appears at least once. This basically translates into finding the words."
      ]
    },
    {
      "cell_type": "code",
      "metadata": {
        "id": "To8NYbpIVa_d",
        "colab_type": "code",
        "outputId": "df53a42b-a513-4b45-bdb8-8a8130ed0d58",
        "colab": {
          "base_uri": "https://localhost:8080/",
          "height": 382
        }
      },
      "source": [
        "re.findall('[^!.? ]+',test_phrase)"
      ],
      "execution_count": 25,
      "outputs": [
        {
          "output_type": "execute_result",
          "data": {
            "text/plain": [
              "['A',\n",
              " 'lot',\n",
              " 'of',\n",
              " 'people',\n",
              " 'in',\n",
              " 'the',\n",
              " 'Spain',\n",
              " 'are',\n",
              " 'in',\n",
              " 'the',\n",
              " 'pain',\n",
              " 'due',\n",
              " 'to',\n",
              " 'the',\n",
              " 'Covid-19',\n",
              " 'Oh',\n",
              " 'God',\n",
              " 'Give',\n",
              " 'the',\n",
              " 'relaxaition',\n",
              " 'now']"
            ]
          },
          "metadata": {
            "tags": []
          },
          "execution_count": 25
        }
      ]
    },
    {
      "cell_type": "markdown",
      "metadata": {
        "id": "nJFnPb9_Va_5",
        "colab_type": "text"
      },
      "source": [
        "## Character Ranges\n",
        "\n",
        "As character sets grow larger, typing every character that should (or should not) match could become very tedious. A more compact format using character ranges lets you define a character set to include all of the contiguous characters between a start and stop point. The format used is <code>[start-end]</code>.\n",
        "\n",
        "Common use cases are to search for a specific range of letters in the alphabet. For instance, <code>[a-f]</code> would return matches with any occurrence of letters between a and f. \n",
        "\n",
        "Let's walk through some examples:"
      ]
    },
    {
      "cell_type": "code",
      "metadata": {
        "id": "Mqo29BcJVbAB",
        "colab_type": "code",
        "outputId": "1f70f079-658f-4067-a8be-446f3c314dc9",
        "colab": {
          "base_uri": "https://localhost:8080/",
          "height": 315
        }
      },
      "source": [
        "\n",
        "#test_phrase = 'This is an example sentence. Lets see if we can find some letters.'\n",
        "test_phrase = \"A lot of people in the Spain are in the pain due to the Covid-19. Oh God!!! Give the relaxaition now.\" \n",
        "\n",
        "\n",
        "test_patterns=['[a-z]+',      # sequences of lower case letters\n",
        "               '[A-Z]+',      # sequences of upper case letters\n",
        "               '[a-zA-Z]+',   # sequences of lower or upper case letters\n",
        "               '[A-Z][a-z]+'] # one upper case letter followed by lower case letters\n",
        "                \n",
        "multi_re_find(test_patterns,test_phrase)"
      ],
      "execution_count": 27,
      "outputs": [
        {
          "output_type": "stream",
          "text": [
            "Searching the phrase using the re check: [a-z]+\n",
            "['lot', 'of', 'people', 'in', 'the', 'pain', 'are', 'in', 'the', 'pain', 'due', 'to', 'the', 'ovid', 'h', 'od', 'ive', 'the', 'relaxaition', 'now']\n",
            "\n",
            "\n",
            "Searching the phrase using the re check: [A-Z]+\n",
            "['A', 'S', 'C', 'O', 'G', 'G']\n",
            "\n",
            "\n",
            "Searching the phrase using the re check: [a-zA-Z]+\n",
            "['A', 'lot', 'of', 'people', 'in', 'the', 'Spain', 'are', 'in', 'the', 'pain', 'due', 'to', 'the', 'Covid', 'Oh', 'God', 'Give', 'the', 'relaxaition', 'now']\n",
            "\n",
            "\n",
            "Searching the phrase using the re check: [A-Z][a-z]+\n",
            "['Spain', 'Covid', 'Oh', 'God', 'Give']\n",
            "\n",
            "\n"
          ],
          "name": "stdout"
        }
      ]
    },
    {
      "cell_type": "markdown",
      "metadata": {
        "id": "01p1-o7bVbAX",
        "colab_type": "text"
      },
      "source": [
        "## Escape Codes\n",
        "\n",
        "You can use special escape codes to find specific types of patterns in your data, such as digits, non-digits, whitespace, and more. For example:\n",
        "\n",
        "<table border=\"1\" class=\"docutils\">\n",
        "<colgroup>\n",
        "<col width=\"14%\" />\n",
        "<col width=\"86%\" />\n",
        "</colgroup>\n",
        "<thead valign=\"bottom\">\n",
        "<tr class=\"row-odd\"><th class=\"head\">Code</th>\n",
        "<th class=\"head\">Meaning</th>\n",
        "</tr>\n",
        "</thead>\n",
        "<tbody valign=\"top\">\n",
        "<tr class=\"row-even\"><td><tt class=\"docutils literal\"><span class=\"pre\">\\d</span></tt></td>\n",
        "<td>a digit</td>\n",
        "</tr>\n",
        "<tr class=\"row-odd\"><td><tt class=\"docutils literal\"><span class=\"pre\">\\D</span></tt></td>\n",
        "<td>a non-digit</td>\n",
        "</tr>\n",
        "<tr class=\"row-even\"><td><tt class=\"docutils literal\"><span class=\"pre\">\\s</span></tt></td>\n",
        "<td>whitespace (tab, space, newline, etc.)</td>\n",
        "</tr>\n",
        "<tr class=\"row-odd\"><td><tt class=\"docutils literal\"><span class=\"pre\">\\S</span></tt></td>\n",
        "<td>non-whitespace</td>\n",
        "</tr>\n",
        "<tr class=\"row-even\"><td><tt class=\"docutils literal\"><span class=\"pre\">\\w</span></tt></td>\n",
        "<td>alphanumeric</td>\n",
        "</tr>\n",
        "<tr class=\"row-odd\"><td><tt class=\"docutils literal\"><span class=\"pre\">\\W</span></tt></td>\n",
        "<td>non-alphanumeric</td>\n",
        "</tr>\n",
        "</tbody>\n",
        "</table>\n",
        "\n",
        "Escapes are indicated by prefixing the character with a backslash <code> \"\\\\\"</code>. Unfortunately, a backslash must itself be escaped in normal Python strings, and that results in expressions that are difficult to read. Using raw strings, created by prefixing the literal value with <code>r</code>, eliminates this problem and maintains readability.\n",
        "\n",
        "Personally, I think this use of <code>r</code> to escape a backslash is probably one of the things that block someone who is not familiar with regex in Python from being able to read regex code at first. Hopefully after seeing these examples this syntax will become clear."
      ]
    },
    {
      "cell_type": "code",
      "metadata": {
        "id": "BpacsRBOVbAZ",
        "colab_type": "code",
        "outputId": "5452e760-8ae9-46f8-9740-accac41887ee",
        "colab": {
          "base_uri": "https://localhost:8080/",
          "height": 454
        }
      },
      "source": [
        "#test_phrase = 'This is a string with some numbers 1233 and a symbol #hashtag'\n",
        "test_phrase = \"A lot of people in the Spain are in the pain due to the Covid-19. Oh God!!! Give the relaxaition now.\" \n",
        "#\\n - new line character\n",
        "#\\t - new tab\n",
        "\n",
        "test_patterns=[ r'\\d+', # sequence of digits\n",
        "                r'\\D+', # sequence of non-digits\n",
        "                r'\\s+', # sequence of whitespace\n",
        "                r'\\S+', # sequence of non-whitespace\n",
        "                r'\\w+', # alphanumeric characters\n",
        "                r'\\W+', # non-alphanumeric!\n",
        "                ]\n",
        "\n",
        "multi_re_find(test_patterns,test_phrase)"
      ],
      "execution_count": 29,
      "outputs": [
        {
          "output_type": "stream",
          "text": [
            "Searching the phrase using the re check: \\d+\n",
            "['19']\n",
            "\n",
            "\n",
            "Searching the phrase using the re check: \\D+\n",
            "['A lot of people in the Spain are in the pain due to the Covid-', '. Oh God!!! Give the relaxaition now.']\n",
            "\n",
            "\n",
            "Searching the phrase using the re check: \\s+\n",
            "[' ', ' ', ' ', ' ', ' ', ' ', ' ', ' ', ' ', ' ', ' ', ' ', ' ', ' ', ' ', ' ', ' ', ' ', ' ', ' ']\n",
            "\n",
            "\n",
            "Searching the phrase using the re check: \\S+\n",
            "['A', 'lot', 'of', 'people', 'in', 'the', 'Spain', 'are', 'in', 'the', 'pain', 'due', 'to', 'the', 'Covid-19.', 'Oh', 'God!!!', 'Give', 'the', 'relaxaition', 'now.']\n",
            "\n",
            "\n",
            "Searching the phrase using the re check: \\w+\n",
            "['A', 'lot', 'of', 'people', 'in', 'the', 'Spain', 'are', 'in', 'the', 'pain', 'due', 'to', 'the', 'Covid', '19', 'Oh', 'God', 'Give', 'the', 'relaxaition', 'now']\n",
            "\n",
            "\n",
            "Searching the phrase using the re check: \\W+\n",
            "[' ', ' ', ' ', ' ', ' ', ' ', ' ', ' ', ' ', ' ', ' ', ' ', ' ', ' ', '-', '. ', ' ', '!!! ', ' ', ' ', ' ', '.']\n",
            "\n",
            "\n"
          ],
          "name": "stdout"
        }
      ]
    },
    {
      "cell_type": "markdown",
      "metadata": {
        "id": "M2MkUvVszN6-",
        "colab_type": "text"
      },
      "source": [
        "## Metacharacters\n",
        "\n",
        "Metacharacters are characters with a special meaning\n",
        "\n",
        "    [] \tA set of characters \t\"[a-m]\" \t\n",
        "    \\ \tSignals a special sequence (can also be used to escape special characters) \t\"\\d\" \t\n",
        "    . \tAny character (except newline character) \t\"he..o\" \t\n",
        "    ^ \tStarts with \t\"^hello\" \t\n",
        "    $ \tEnds with \t\"world$\" \t\n",
        "    * \tZero or more occurrences \t\"aix*\" \t\n",
        "    + \tOne or more occurrences \t\"aix+\" \t\n",
        "    {} \tExactly the specified number of occurrences \t\"al{2}\" \t\n",
        "    | \tEither or \t\"falls|stays\" \t\n",
        "    () \tCapture and group"
      ]
    },
    {
      "cell_type": "markdown",
      "metadata": {
        "id": "TtWeX_AGzajs",
        "colab_type": "text"
      },
      "source": [
        "#Special Sequences\n",
        "\n",
        "A special sequence is a \\ followed by one of the characters in the list below, and has a special meaning:\n",
        "\n",
        "\n",
        "    Character \tDescription \tExample \t\n",
        "    \\A \tReturns a match if the specified characters are at the beginning of the string \t\"\\AThe\" \t\n",
        "    \\b \tReturns a match where the specified characters are at the beginning or at the end of a word\n",
        "    (the \"r\" in the beginning is making sure that the string is being treated as a \"raw string\") \tr\"\\bain\"\n",
        "    r\"ain\\b\" \t\n",
        "\n",
        "    \\B \tReturns a match where the specified characters are present, but NOT at the beginning (or at the end) of a word\n",
        "    (the \"r\" in the beginning is making sure that the string is being treated as a \"raw string\") \tr\"\\Bain\"\n",
        "    r\"ain\\B\" \t\n",
        "\n",
        "    \\d \tReturns a match where the string contains digits (numbers from 0-9) \t\"\\d\" \t\n",
        "    \\D \tReturns a match where the string DOES NOT contain digits \t\"\\D\" \t\n",
        "    \\s \tReturns a match where the string contains a white space character \t\"\\s\" \t\n",
        "    \\S \tReturns a match where the string DOES NOT contain a white space character \t\"\\S\" \t\n",
        "    \\w \tReturns a match where the string contains any word characters (characters from a to Z, digits from 0-9, and the underscore _ character) \t\"\\w\" \t\n",
        "    \\W \tReturns a match where the string DOES NOT contain any word characters \t\"\\W\" \t\n",
        "    \\Z \tReturns a match if the specified characters are at the end of the string"
      ]
    },
    {
      "cell_type": "markdown",
      "metadata": {
        "id": "2Ks_NJnDztL0",
        "colab_type": "text"
      },
      "source": [
        "#Sets\n",
        "\n",
        "A set is a set of characters inside a pair of square brackets [] with a special meaning:\n",
        "\n",
        "\n",
        "    Set \tDescription \t\n",
        "    [arn] \tReturns a match where one of the specified characters (a, r, or n) are present \t\n",
        "    [a-n] \tReturns a match for any lower case character, alphabetically between a and n \t\n",
        "    [^arn] \tReturns a match for any character EXCEPT a, r, and n \t\n",
        "    [0123] \tReturns a match where any of the specified digits (0, 1, 2, or 3) are present \t\n",
        "    [0-9] \tReturns a match for any digit between 0 and 9 \t\n",
        "    [0-5][0-9] \tReturns a match for any two-digit numbers from 00 and 59 \t\n",
        "    [a-zA-Z] \tReturns a match for any character alphabetically between a and z, lower case OR upper case \t\n",
        "    [+] \tIn sets, +, *, ., |, (), $,{} has no special meaning, so [+] means: return a match for any + character in the string"
      ]
    },
    {
      "cell_type": "markdown",
      "metadata": {
        "id": "yf_kzwIlVbAv",
        "colab_type": "text"
      },
      "source": [
        "## Conclusion\n",
        "\n",
        "You should now have a solid understanding of how to use the regular expression module in Python. There are a ton of more special character instances, but it would be unreasonable to go through every single use case. Instead take a look at the full [documentation](https://docs.python.org/3/library/re.html#regular-expression-syntax) if you ever need to look up a particular pattern.\n",
        "\n",
        "You can also check out the nice summary tables at these [source1](http://www.tutorialspoint.com/python/python_reg_expressions.htm) ,  [source2](https://www.w3schools.com/python/python_regex.asp).\n",
        "\n"
      ]
    }
  ]
}