{
  "nbformat": 4,
  "nbformat_minor": 0,
  "metadata": {
    "colab": {
      "name": "for-loops.ipynb",
      "provenance": [],
      "collapsed_sections": []
    },
    "kernelspec": {
      "name": "python3",
      "display_name": "Python 3"
    }
  },
  "cells": [
    {
      "cell_type": "markdown",
      "metadata": {
        "id": "ErZi7oHvRBv6",
        "colab_type": "text"
      },
      "source": [
        "# for Loops\n",
        "\n",
        "A for loop acts as an iterator in Python.\n",
        "We can use the iterations through items that are in a sequence or any other iterable item\n",
        "\n",
        "Basic syntax:\n",
        "\n",
        "    for item_name in object:\n",
        "        statements to perform action using the item_name variable\n",
        "\n",
        "\n",
        "    Objects can be strings, lists, tuples, dictionaries keys/values/items.\n",
        "\n",
        "    variable name ( in our case item_name) can be either a single word or descriptive (representing the kind of the value it holds). Try to choose a name that makes sense and you will be able to understand when revisiting your code. This item name can then be referenced inside your loop, for example, if you wanted to use if statements to perform checks.\n"
      ]
    },
    {
      "cell_type": "code",
      "metadata": {
        "id": "XIPDD0eJVckF",
        "colab_type": "code",
        "colab": {
          "base_uri": "https://localhost:8080/",
          "height": 399
        },
        "outputId": "62849c7c-6ec8-4ded-9669-e37d29e35ae0"
      },
      "source": [
        "# descriptive\n",
        "for letter in 'Python in Data Science':\n",
        "    print(letter)"
      ],
      "execution_count": 3,
      "outputs": [
        {
          "output_type": "stream",
          "text": [
            "P\n",
            "y\n",
            "t\n",
            "h\n",
            "o\n",
            "n\n",
            " \n",
            "i\n",
            "n\n",
            " \n",
            "D\n",
            "a\n",
            "t\n",
            "a\n",
            " \n",
            "S\n",
            "c\n",
            "i\n",
            "e\n",
            "n\n",
            "c\n",
            "e\n"
          ],
          "name": "stdout"
        }
      ]
    },
    {
      "cell_type": "code",
      "metadata": {
        "id": "65MbeoEBpQLa",
        "colab_type": "code",
        "outputId": "72d9a935-dc60-4d02-a039-35a198ee3bc8",
        "colab": {
          "base_uri": "https://localhost:8080/",
          "height": 121
        }
      },
      "source": [
        "my_string = 'Python in Data Science'\n",
        "\n",
        "# short variable\n",
        "for x in my_string:\n",
        "    print(x)\n",
        "    if( x == 'n'):\n",
        "      break\n"
      ],
      "execution_count": 4,
      "outputs": [
        {
          "output_type": "stream",
          "text": [
            "P\n",
            "y\n",
            "t\n",
            "h\n",
            "o\n",
            "n\n"
          ],
          "name": "stdout"
        }
      ]
    },
    {
      "cell_type": "code",
      "metadata": {
        "id": "_lLxyOEB2RSA",
        "colab_type": "code",
        "outputId": "1b77354f-ab1e-4c75-fb7f-edc48d116171",
        "colab": {
          "base_uri": "https://localhost:8080/",
          "height": 191
        }
      },
      "source": [
        "# We'll learn how to automate this sort of list in the next lecture\n",
        "list1 = [1,2,3,4,5,6,7,8,9,10]\n",
        "\n",
        "for number in list1:\n",
        "    print(number)"
      ],
      "execution_count": 6,
      "outputs": [
        {
          "output_type": "stream",
          "text": [
            "1\n",
            "2\n",
            "3\n",
            "4\n",
            "5\n",
            "6\n",
            "7\n",
            "8\n",
            "9\n",
            "10\n"
          ],
          "name": "stdout"
        }
      ]
    },
    {
      "cell_type": "code",
      "metadata": {
        "id": "9DY0bTQ92eSI",
        "colab_type": "code",
        "outputId": "3d188394-f4ec-43b6-f7f5-639945510581",
        "colab": {
          "base_uri": "https://localhost:8080/",
          "height": 104
        }
      },
      "source": [
        "for num in list1:\n",
        "    if num % 2 == 0: # if number is even\n",
        "        print(num)"
      ],
      "execution_count": 7,
      "outputs": [
        {
          "output_type": "stream",
          "text": [
            "2\n",
            "4\n",
            "6\n",
            "8\n",
            "10\n"
          ],
          "name": "stdout"
        }
      ]
    },
    {
      "cell_type": "code",
      "metadata": {
        "id": "9bV7oV_I2prr",
        "colab_type": "code",
        "outputId": "e4199468-56ce-4cf9-a67a-38a07a7ca2be",
        "colab": {
          "base_uri": "https://localhost:8080/",
          "height": 191
        }
      },
      "source": [
        "for num in list1:\n",
        "    if num % 2 == 0:\n",
        "        print('Even number ' + str(num))\n",
        "    else:\n",
        "        print('Odd number ' + str(num) )"
      ],
      "execution_count": 10,
      "outputs": [
        {
          "output_type": "stream",
          "text": [
            "Odd number 1\n",
            "Even number 2\n",
            "Odd number 3\n",
            "Even number 4\n",
            "Odd number 5\n",
            "Even number 6\n",
            "Odd number 7\n",
            "Even number 8\n",
            "Odd number 9\n",
            "Even number 10\n"
          ],
          "name": "stdout"
        }
      ]
    },
    {
      "cell_type": "markdown",
      "metadata": {
        "id": "J61o3zRJ2-ft",
        "colab_type": "text"
      },
      "source": [
        "Another common idea during a for loop is keeping some sort of running tally during multiple loops. For example, let's create a for loop that sums up the list:"
      ]
    },
    {
      "cell_type": "code",
      "metadata": {
        "id": "gRo83qWw2xZI",
        "colab_type": "code",
        "outputId": "320ad5b1-78ca-4e86-d60a-3dd33cc7b956",
        "colab": {
          "base_uri": "https://localhost:8080/",
          "height": 52
        }
      },
      "source": [
        "# Start sum at zero\n",
        "sum = 0 \n",
        "\n",
        "for number in list1:\n",
        "    #print( ' number in the loop ' + str(number))\n",
        "    sum = sum + number\n",
        "    #sum += number\n",
        "    #print('sum = ' + str(sum))\n",
        "    if( sum == 45):\n",
        "      print('TARGET ACHIEVED') # Take care of the indentation\n",
        "\n",
        "print('Total sum after execting the for loop ' + str(sum))"
      ],
      "execution_count": 17,
      "outputs": [
        {
          "output_type": "stream",
          "text": [
            "TARGET ACHIEVED\n",
            "Total sum after execting the for loop 55\n"
          ],
          "name": "stdout"
        }
      ]
    },
    {
      "cell_type": "markdown",
      "metadata": {
        "id": "MRP05jhC3Mt-",
        "colab_type": "text"
      },
      "source": [
        "Great! Read over the above cell and make sure you understand fully what is going on. Also we could have implemented a += to perform the addition towards the sum. For example:\n"
      ]
    },
    {
      "cell_type": "code",
      "metadata": {
        "id": "b7Zwe_1Z3C_n",
        "colab_type": "code",
        "outputId": "5ced48eb-37dc-48cd-f2df-049586f12ad9",
        "colab": {
          "base_uri": "https://localhost:8080/",
          "height": 34
        }
      },
      "source": [
        "\n",
        "\n",
        "# Start sum at zero\n",
        "list_sum = 0 \n",
        "\n",
        "for num in list1:\n",
        "    list_sum += num\n",
        "\n",
        "print(list_sum)\n",
        "\n"
      ],
      "execution_count": 18,
      "outputs": [
        {
          "output_type": "stream",
          "text": [
            "55\n"
          ],
          "name": "stdout"
        }
      ]
    },
    {
      "cell_type": "code",
      "metadata": {
        "id": "CB6gzjGg3ULa",
        "colab_type": "code",
        "outputId": "d36824f2-c982-4117-b2e6-79bb59b88469",
        "colab": {
          "base_uri": "https://localhost:8080/",
          "height": 104
        }
      },
      "source": [
        "tup = (1,2,3,4,5)\n",
        "\n",
        "for t in tup:\n",
        "    print(t)"
      ],
      "execution_count": 0,
      "outputs": [
        {
          "output_type": "stream",
          "text": [
            "1\n",
            "2\n",
            "3\n",
            "4\n",
            "5\n"
          ],
          "name": "stdout"
        }
      ]
    },
    {
      "cell_type": "markdown",
      "metadata": {
        "id": "xGVL21GP3s7D",
        "colab_type": "text"
      },
      "source": [
        "Tuples have a special quality when it comes to for loops. If you are iterating through a sequence that contains tuples, the item can actually be the tuple itself, this is an example of tuple unpacking. During the for loop we will be unpacking the tuple inside of a sequence and we can access the individual items inside that tuple!"
      ]
    },
    {
      "cell_type": "code",
      "metadata": {
        "id": "9NGOoy__3tgz",
        "colab_type": "code",
        "colab": {}
      },
      "source": [
        "list2 = [(2,4),(6,8),(10,12)]"
      ],
      "execution_count": 0,
      "outputs": []
    },
    {
      "cell_type": "code",
      "metadata": {
        "id": "UWn7parz3wSm",
        "colab_type": "code",
        "outputId": "3c49b077-a0f9-4c91-8cb1-c436bf06f12e",
        "colab": {
          "base_uri": "https://localhost:8080/",
          "height": 173
        }
      },
      "source": [
        "for tup in list2:\n",
        "    print(tup)\n",
        "    x , y  = tup\n",
        "    print(x)\n",
        "    print(y)"
      ],
      "execution_count": 22,
      "outputs": [
        {
          "output_type": "stream",
          "text": [
            "(2, 4)\n",
            "2\n",
            "4\n",
            "(6, 8)\n",
            "6\n",
            "8\n",
            "(10, 12)\n",
            "10\n",
            "12\n"
          ],
          "name": "stdout"
        }
      ]
    },
    {
      "cell_type": "markdown",
      "metadata": {
        "id": "xXWaWb6W4DUH",
        "colab_type": "text"
      },
      "source": [
        "Cool! With tuples in a sequence we can access the items inside of them through unpacking! The reason this is important is because many objects will deliver their iterables through tuples. Let's start exploring iterating through Dictionaries to explore this further!"
      ]
    },
    {
      "cell_type": "code",
      "metadata": {
        "id": "i7EDf6Gc307y",
        "colab_type": "code",
        "colab": {}
      },
      "source": [
        "d = {'k1':1,'k2':2,'k3':3}"
      ],
      "execution_count": 0,
      "outputs": []
    },
    {
      "cell_type": "code",
      "metadata": {
        "id": "GtbsGkku4MWz",
        "colab_type": "code",
        "outputId": "2186319b-84d1-4185-c458-62060fbe41d0",
        "colab": {
          "base_uri": "https://localhost:8080/",
          "height": 69
        }
      },
      "source": [
        "for key_item in d:\n",
        "    print(key_item)"
      ],
      "execution_count": 26,
      "outputs": [
        {
          "output_type": "stream",
          "text": [
            "k1\n",
            "k2\n",
            "k3\n"
          ],
          "name": "stdout"
        }
      ]
    },
    {
      "cell_type": "code",
      "metadata": {
        "id": "D1It5wl0aRll",
        "colab_type": "code",
        "colab": {
          "base_uri": "https://localhost:8080/",
          "height": 69
        },
        "outputId": "4721dc4a-2b4f-43d3-ec40-a079b21e5030"
      },
      "source": [
        "for key_item in d.keys():\n",
        "    print(key_item)"
      ],
      "execution_count": 28,
      "outputs": [
        {
          "output_type": "stream",
          "text": [
            "k1\n",
            "k2\n",
            "k3\n"
          ],
          "name": "stdout"
        }
      ]
    },
    {
      "cell_type": "code",
      "metadata": {
        "id": "bYs1OHneaVmU",
        "colab_type": "code",
        "colab": {
          "base_uri": "https://localhost:8080/",
          "height": 69
        },
        "outputId": "f6cf0773-c21e-4541-8d2b-3b87b2c0c1d3"
      },
      "source": [
        "for value_item in d.values():\n",
        "    print(value_item)"
      ],
      "execution_count": 29,
      "outputs": [
        {
          "output_type": "stream",
          "text": [
            "1\n",
            "2\n",
            "3\n"
          ],
          "name": "stdout"
        }
      ]
    },
    {
      "cell_type": "markdown",
      "metadata": {
        "id": "hD0Z9PLm4cv5",
        "colab_type": "text"
      },
      "source": [
        "\n",
        "\n",
        "Notice how this produces only the keys. So how can we get the values? Or both the keys and the values?\n",
        "\n",
        "We're going to introduce three new Dictionary methods: .keys(), .values() and .items()\n",
        "\n",
        "In Python each of these methods return a dictionary view object. It supports operations like membership test and iteration, but its contents are not independent of the original dictionary – it is only a view. Let's see it in action:\n"
      ]
    },
    {
      "cell_type": "code",
      "metadata": {
        "id": "pwN2LgNu4gs1",
        "colab_type": "code",
        "outputId": "eb58eddc-a805-42b3-e441-fd8b79d16d4a",
        "colab": {
          "base_uri": "https://localhost:8080/",
          "height": 34
        }
      },
      "source": [
        "# Create a dictionary view object\n",
        "d.items()"
      ],
      "execution_count": 0,
      "outputs": [
        {
          "output_type": "execute_result",
          "data": {
            "text/plain": [
              "dict_items([('k1', 1), ('k2', 2), ('k3', 3)])"
            ]
          },
          "metadata": {
            "tags": []
          },
          "execution_count": 13
        }
      ]
    },
    {
      "cell_type": "markdown",
      "metadata": {
        "id": "1IYxMSUr4pdn",
        "colab_type": "text"
      },
      "source": [
        "Since the .items() method supports iteration, we can perform dictionary unpacking to separate keys and values just as we did in the previous examples"
      ]
    },
    {
      "cell_type": "code",
      "metadata": {
        "id": "yZVRNQnz4mHn",
        "colab_type": "code",
        "colab": {}
      },
      "source": [
        "Since the .items() method supports iteration, we can perform dictionary unpacking to separate keys and values just as we did in the previous examples"
      ],
      "execution_count": 0,
      "outputs": []
    },
    {
      "cell_type": "code",
      "metadata": {
        "id": "4OUE5_M04tAm",
        "colab_type": "code",
        "outputId": "e9f08399-4f53-40aa-df81-c79560bd99b3",
        "colab": {
          "base_uri": "https://localhost:8080/",
          "height": 121
        }
      },
      "source": [
        "# Dictionary unpacking\n",
        "for key_item,value_item in d.items():\n",
        "    print(key_item)\n",
        "    print(value_item)"
      ],
      "execution_count": 30,
      "outputs": [
        {
          "output_type": "stream",
          "text": [
            "k1\n",
            "1\n",
            "k2\n",
            "2\n",
            "k3\n",
            "3\n"
          ],
          "name": "stdout"
        }
      ]
    },
    {
      "cell_type": "markdown",
      "metadata": {
        "id": "HjlW_yvF42IS",
        "colab_type": "text"
      },
      "source": [
        "\n",
        "\n",
        "If you want to obtain a true list of keys, values, or key/value tuples, you can cast the view as a list:\n"
      ]
    },
    {
      "cell_type": "code",
      "metadata": {
        "id": "88RFxqY44t4H",
        "colab_type": "code",
        "outputId": "a159fff0-a112-4b7c-8e3d-39921d3e8706",
        "colab": {
          "base_uri": "https://localhost:8080/",
          "height": 34
        }
      },
      "source": [
        "list(d.keys())"
      ],
      "execution_count": 31,
      "outputs": [
        {
          "output_type": "execute_result",
          "data": {
            "text/plain": [
              "['k1', 'k2', 'k3']"
            ]
          },
          "metadata": {
            "tags": []
          },
          "execution_count": 31
        }
      ]
    },
    {
      "cell_type": "markdown",
      "metadata": {
        "id": "4iiQN7xO5K0R",
        "colab_type": "text"
      },
      "source": [
        "\n",
        "\n",
        "Remember that dictionaries are unordered, and that keys and values come back in arbitrary order. You can obtain a sorted list using sorted():\n"
      ]
    },
    {
      "cell_type": "code",
      "metadata": {
        "id": "q_P-oaui5HBF",
        "colab_type": "code",
        "outputId": "4c9a6fc6-8295-4551-c0d7-d3a51e46ad6b",
        "colab": {
          "base_uri": "https://localhost:8080/",
          "height": 34
        }
      },
      "source": [
        "sorted(d.values())"
      ],
      "execution_count": 32,
      "outputs": [
        {
          "output_type": "execute_result",
          "data": {
            "text/plain": [
              "[1, 2, 3]"
            ]
          },
          "metadata": {
            "tags": []
          },
          "execution_count": 32
        }
      ]
    },
    {
      "cell_type": "code",
      "metadata": {
        "id": "T8wq9FEcayeX",
        "colab_type": "code",
        "colab": {}
      },
      "source": [
        ""
      ],
      "execution_count": 0,
      "outputs": []
    }
  ]
}