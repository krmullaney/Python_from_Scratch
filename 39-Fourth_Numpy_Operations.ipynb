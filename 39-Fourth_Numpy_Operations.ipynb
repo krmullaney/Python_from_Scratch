{
  "nbformat": 4,
  "nbformat_minor": 0,
  "metadata": {
    "kernelspec": {
      "display_name": "Python 3",
      "language": "python",
      "name": "python3"
    },
    "language_info": {
      "codemirror_mode": {
        "name": "ipython",
        "version": 3
      },
      "file_extension": ".py",
      "mimetype": "text/x-python",
      "name": "python",
      "nbconvert_exporter": "python",
      "pygments_lexer": "ipython3",
      "version": "3.5.1"
    },
    "colab": {
      "name": "Fourth-Numpy Operations.ipynb",
      "provenance": [],
      "collapsed_sections": []
    }
  },
  "cells": [
    {
      "cell_type": "markdown",
      "metadata": {
        "collapsed": true,
        "id": "UnHnupXgGCht",
        "colab_type": "text"
      },
      "source": [
        "# NumPy Operations"
      ]
    },
    {
      "cell_type": "markdown",
      "metadata": {
        "id": "gz-0fqA-GChy",
        "colab_type": "text"
      },
      "source": [
        "## Arithmetic\n",
        "\n",
        "You can easily perform array with array arithmetic, or scalar with array arithmetic. Let's see some examples:"
      ]
    },
    {
      "cell_type": "code",
      "metadata": {
        "id": "XLPhNlT8GCh2",
        "colab_type": "code",
        "colab": {
          "base_uri": "https://localhost:8080/",
          "height": 34
        },
        "outputId": "edcca9c1-0f9b-42af-c628-17f61e164aef"
      },
      "source": [
        "import numpy as np\n",
        "arr = np.arange(0,10)\n",
        "arr"
      ],
      "execution_count": 3,
      "outputs": [
        {
          "output_type": "execute_result",
          "data": {
            "text/plain": [
              "array([0, 1, 2, 3, 4, 5, 6, 7, 8, 9])"
            ]
          },
          "metadata": {
            "tags": []
          },
          "execution_count": 3
        }
      ]
    },
    {
      "cell_type": "code",
      "metadata": {
        "id": "4LHW53PIGCiO",
        "colab_type": "code",
        "outputId": "b945b908-8c46-414d-b2d7-740c6d68b27a",
        "colab": {
          "base_uri": "https://localhost:8080/",
          "height": 34
        }
      },
      "source": [
        "arr + arr"
      ],
      "execution_count": 4,
      "outputs": [
        {
          "output_type": "execute_result",
          "data": {
            "text/plain": [
              "array([ 0,  2,  4,  6,  8, 10, 12, 14, 16, 18])"
            ]
          },
          "metadata": {
            "tags": []
          },
          "execution_count": 4
        }
      ]
    },
    {
      "cell_type": "code",
      "metadata": {
        "id": "rwUP8bRnGCib",
        "colab_type": "code",
        "outputId": "d356c9c9-f281-4320-f4a5-bae49be46146",
        "colab": {
          "base_uri": "https://localhost:8080/",
          "height": 34
        }
      },
      "source": [
        "arr * arr"
      ],
      "execution_count": 5,
      "outputs": [
        {
          "output_type": "execute_result",
          "data": {
            "text/plain": [
              "array([ 0,  1,  4,  9, 16, 25, 36, 49, 64, 81])"
            ]
          },
          "metadata": {
            "tags": []
          },
          "execution_count": 5
        }
      ]
    },
    {
      "cell_type": "code",
      "metadata": {
        "id": "uFXPQ49oGCip",
        "colab_type": "code",
        "outputId": "88f9d748-a616-42cb-c6b1-85d42bbdb185",
        "colab": {
          "base_uri": "https://localhost:8080/",
          "height": 34
        }
      },
      "source": [
        "arr - arr"
      ],
      "execution_count": 6,
      "outputs": [
        {
          "output_type": "execute_result",
          "data": {
            "text/plain": [
              "array([0, 0, 0, 0, 0, 0, 0, 0, 0, 0])"
            ]
          },
          "metadata": {
            "tags": []
          },
          "execution_count": 6
        }
      ]
    },
    {
      "cell_type": "code",
      "metadata": {
        "id": "ltGBvnJcGCjF",
        "colab_type": "code",
        "outputId": "cf64c8c6-150a-4792-e64e-515b7db211a6",
        "colab": {
          "base_uri": "https://localhost:8080/",
          "height": 106
        }
      },
      "source": [
        "# Also warning, but not an error instead infinity\n",
        "1/arr"
      ],
      "execution_count": 7,
      "outputs": [
        {
          "output_type": "stream",
          "text": [
            "/usr/local/lib/python3.6/dist-packages/ipykernel_launcher.py:2: RuntimeWarning: divide by zero encountered in true_divide\n",
            "  \n"
          ],
          "name": "stderr"
        },
        {
          "output_type": "execute_result",
          "data": {
            "text/plain": [
              "array([       inf, 1.        , 0.5       , 0.33333333, 0.25      ,\n",
              "       0.2       , 0.16666667, 0.14285714, 0.125     , 0.11111111])"
            ]
          },
          "metadata": {
            "tags": []
          },
          "execution_count": 7
        }
      ]
    },
    {
      "cell_type": "code",
      "metadata": {
        "id": "z5BFLt0_GCjT",
        "colab_type": "code",
        "outputId": "238453a2-30ce-4126-9d1b-8b8e2d9a29db",
        "colab": {
          "base_uri": "https://localhost:8080/",
          "height": 34
        }
      },
      "source": [
        "arr**3"
      ],
      "execution_count": 8,
      "outputs": [
        {
          "output_type": "execute_result",
          "data": {
            "text/plain": [
              "array([  0,   1,   8,  27,  64, 125, 216, 343, 512, 729])"
            ]
          },
          "metadata": {
            "tags": []
          },
          "execution_count": 8
        }
      ]
    },
    {
      "cell_type": "code",
      "metadata": {
        "id": "C-FtPBWUaaO8",
        "colab_type": "code",
        "outputId": "5eb9cf87-3f4d-4d6d-d395-381aeb8777e0",
        "colab": {
          "base_uri": "https://localhost:8080/",
          "height": 69
        }
      },
      "source": [
        "x = np.arange(9).reshape((3, 3))\n",
        "2 ** x"
      ],
      "execution_count": 9,
      "outputs": [
        {
          "output_type": "execute_result",
          "data": {
            "text/plain": [
              "array([[  1,   2,   4],\n",
              "       [  8,  16,  32],\n",
              "       [ 64, 128, 256]])"
            ]
          },
          "metadata": {
            "tags": []
          },
          "execution_count": 9
        }
      ]
    },
    {
      "cell_type": "markdown",
      "metadata": {
        "id": "tOhdIUVsaV7B",
        "colab_type": "text"
      },
      "source": [
        "operations are not limited to one-dimensional arrays—they can act on\n",
        "multidimensional arrays as well\n"
      ]
    },
    {
      "cell_type": "markdown",
      "metadata": {
        "id": "Cnq5gk7hGCjc",
        "colab_type": "text"
      },
      "source": [
        "## Universal Array Functions\n",
        "\n",
        "Numpy comes with many [universal array functions](http://docs.scipy.org/doc/numpy/reference/ufuncs.html), which are essentially just mathematical operations you can use to perform the operation across the array. Let's show some common ones:"
      ]
    },
    {
      "cell_type": "code",
      "metadata": {
        "id": "BGyK1eGCbQuj",
        "colab_type": "code",
        "outputId": "04258487-220c-475f-8be2-172ef5e4dee3",
        "colab": {
          "base_uri": "https://localhost:8080/",
          "height": 34
        }
      },
      "source": [
        "np.random.seed(0)\n",
        "values = np.random.randint(1, 10, size=5)\n",
        "print(values)"
      ],
      "execution_count": 21,
      "outputs": [
        {
          "output_type": "stream",
          "text": [
            "[6 1 4 4 8]\n"
          ],
          "name": "stdout"
        }
      ]
    },
    {
      "cell_type": "code",
      "metadata": {
        "id": "c0Qo3HHt2d6n",
        "colab_type": "code",
        "colab": {}
      },
      "source": [
        "def compute_reciprocals(values):\n",
        "  output = np.empty(len(values))\n",
        "  \n",
        "  for i in range(len(values)):\n",
        "    output[i] = 1.0 / values[i]\n",
        "  return output\n"
      ],
      "execution_count": 0,
      "outputs": []
    },
    {
      "cell_type": "code",
      "metadata": {
        "id": "wxp_fOYrcGdC",
        "colab_type": "code",
        "outputId": "e456b81a-dcfa-4f69-ab0f-56ff88021c88",
        "colab": {
          "base_uri": "https://localhost:8080/",
          "height": 34
        }
      },
      "source": [
        "print(compute_reciprocals(values))"
      ],
      "execution_count": 23,
      "outputs": [
        {
          "output_type": "stream",
          "text": [
            "[0.16666667 1.         0.25       0.25       0.125     ]\n"
          ],
          "name": "stdout"
        }
      ]
    },
    {
      "cell_type": "code",
      "metadata": {
        "id": "L-nBJjw-2kyp",
        "colab_type": "code",
        "colab": {
          "base_uri": "https://localhost:8080/",
          "height": 34
        },
        "outputId": "1c75f528-c855-4494-93d7-6270813b8b70"
      },
      "source": [
        "print(1.0 / values)"
      ],
      "execution_count": 25,
      "outputs": [
        {
          "output_type": "stream",
          "text": [
            "[0.16666667 1.         0.25       0.25       0.125     ]\n"
          ],
          "name": "stdout"
        }
      ]
    },
    {
      "cell_type": "code",
      "metadata": {
        "id": "Pp4aq56Mb9mF",
        "colab_type": "code",
        "outputId": "915069cc-bba9-447c-ce2a-201d3b51c8d3",
        "colab": {
          "base_uri": "https://localhost:8080/",
          "height": 34
        }
      },
      "source": [
        "big_array = np.random.randint(1, 100, size=1000000)\n",
        "%timeit compute_reciprocals(big_array)"
      ],
      "execution_count": 26,
      "outputs": [
        {
          "output_type": "stream",
          "text": [
            "1 loop, best of 3: 2.21 s per loop\n"
          ],
          "name": "stdout"
        }
      ]
    },
    {
      "cell_type": "code",
      "metadata": {
        "id": "2lPGDoIvcPQi",
        "colab_type": "code",
        "outputId": "229465ea-560b-42dc-d01b-c55981bb7558",
        "colab": {
          "base_uri": "https://localhost:8080/",
          "height": 34
        }
      },
      "source": [
        "%timeit (1.0 / big_array)"
      ],
      "execution_count": 27,
      "outputs": [
        {
          "output_type": "stream",
          "text": [
            "100 loops, best of 3: 2.76 ms per loop\n"
          ],
          "name": "stdout"
        }
      ]
    },
    {
      "cell_type": "markdown",
      "metadata": {
        "id": "rx4X-OBWbEaI",
        "colab_type": "text"
      },
      "source": [
        "Computations using vectorization through ufuncs are nearly always more efficient\n",
        "than their counterpart implemented through Python loops, especially as the arrays\n",
        "grow in size. Any time you see such a loop in a Python script, you should consider\n",
        "whether it can be replaced with a vectorized expression."
      ]
    },
    {
      "cell_type": "markdown",
      "metadata": {
        "id": "rc8kffJGcoMG",
        "colab_type": "text"
      },
      "source": [
        "#Exploring NumPy’s UFuncs\n",
        "\n",
        "Ufuncs exist in two flavors: unary ufuncs, which operate on a single input, and binary\n",
        "ufuncs, which operate on two inputs. We’ll see examples of both these types of func‐\n",
        "tions here."
      ]
    },
    {
      "cell_type": "markdown",
      "metadata": {
        "id": "mMdf85E_c1Wf",
        "colab_type": "text"
      },
      "source": [
        "#Array arithmetic\n",
        "\n",
        "NumPy’s ufuncs feel very natural to use because they make use of Python’s native\n",
        "arithmetic operators. The standard addition, subtraction, multiplication, and division\n",
        "can all be used:"
      ]
    },
    {
      "cell_type": "code",
      "metadata": {
        "id": "Z5850oB3dGnp",
        "colab_type": "code",
        "outputId": "64529a49-70a1-4486-bc65-e70d0ea565bb",
        "colab": {
          "base_uri": "https://localhost:8080/",
          "height": 191
        }
      },
      "source": [
        "x = np.arange(4)\n",
        "print(\"x=\",x)\n",
        "print(\"x + 5 =\", x+5)\n",
        "print(\"x - 5 =\", x-5)\n",
        "print(\"x * 2 =\", x*2)\n",
        "print(\"x / 2 =\", x / 2)\n",
        "print(\"x // 2 =\", x // 2) #floor division\n",
        "print(\"-x= \", -x)\n",
        "print(\"x ** 2 = \", x ** 2)\n",
        "print(\"x % 2 = \", x % 2)\n",
        "print(\"-(0.5*x + 1) ** 2 = \", -(0.5*x + 1) ** 2 )"
      ],
      "execution_count": 28,
      "outputs": [
        {
          "output_type": "stream",
          "text": [
            "x= [0 1 2 3]\n",
            "x + 5 = [5 6 7 8]\n",
            "x - 5 = [-5 -4 -3 -2]\n",
            "x * 2 = [0 2 4 6]\n",
            "x / 2 = [0.  0.5 1.  1.5]\n",
            "x // 2 = [0 0 1 1]\n",
            "-x=  [ 0 -1 -2 -3]\n",
            "x ** 2 =  [0 1 4 9]\n",
            "x % 2 =  [0 1 0 1]\n",
            "-(0.5*x + 1) ** 2 =  [-1.   -2.25 -4.   -6.25]\n"
          ],
          "name": "stdout"
        }
      ]
    },
    {
      "cell_type": "markdown",
      "metadata": {
        "id": "slj6DjeaexPI",
        "colab_type": "text"
      },
      "source": [
        "All of these arithmetic operations are simply convenient wrappers around specific\n",
        "functions built into NumPy; for example, the + operator is a wrapper for the add\n",
        "function:"
      ]
    },
    {
      "cell_type": "code",
      "metadata": {
        "id": "XVs6dazOeyfK",
        "colab_type": "code",
        "outputId": "7e002b07-4d24-4ac0-de21-e00d22467c97",
        "colab": {
          "base_uri": "https://localhost:8080/",
          "height": 34
        }
      },
      "source": [
        "np.add(x, 2)"
      ],
      "execution_count": 30,
      "outputs": [
        {
          "output_type": "execute_result",
          "data": {
            "text/plain": [
              "array([2, 3, 4, 5])"
            ]
          },
          "metadata": {
            "tags": []
          },
          "execution_count": 30
        }
      ]
    },
    {
      "cell_type": "markdown",
      "metadata": {
        "id": "a9b_MbFcfBic",
        "colab_type": "text"
      },
      "source": [
        "##Arithmetic operators implemented in NumPy\n",
        "\n",
        "    Operator Equivalent ufunc Description\n",
        "    + np.add Addition (e.g., 1 + 1 = 2 )\n",
        "    - np.subtract Subtraction (e.g., 3 - 2 = 1 )\n",
        "    - np.negative Unary negation (e.g., -2 )\n",
        "    * np.multiply Multiplication (e.g., 2 * 3 = 6 )\n",
        "    / np.divide Division (e.g., 3 / 2 = 1.5 )\n",
        "    // np.floor_divide Floor division (e.g., 3 // 2 = 1 )\n",
        "    ** np.power Exponentiation (e.g., 2 ** 3 = 8 )\n",
        "    % np.mod Modulus/remainder (e.g., 9 % 4 = 1 )"
      ]
    },
    {
      "cell_type": "markdown",
      "metadata": {
        "id": "Qb_DkkeUfM7G",
        "colab_type": "text"
      },
      "source": [
        "Absolute value\n",
        "Just as NumPy understands Python’s built-in arithmetic operators, it also understands\n",
        "Python’s built-in absolute value function:"
      ]
    },
    {
      "cell_type": "code",
      "metadata": {
        "id": "_L56KOoqfQel",
        "colab_type": "code",
        "outputId": "c37d742c-5752-40c1-fe8e-4a763b5aaffe",
        "colab": {
          "base_uri": "https://localhost:8080/",
          "height": 34
        }
      },
      "source": [
        "x = np.array([-2, -1, 0, 1, 2])\n",
        "abs(x)"
      ],
      "execution_count": 31,
      "outputs": [
        {
          "output_type": "execute_result",
          "data": {
            "text/plain": [
              "array([2, 1, 0, 1, 2])"
            ]
          },
          "metadata": {
            "tags": []
          },
          "execution_count": 31
        }
      ]
    },
    {
      "cell_type": "markdown",
      "metadata": {
        "id": "cTC2y7LufaII",
        "colab_type": "text"
      },
      "source": [
        "The corresponding NumPy ufunc is np.absolute , which is also available under the\n",
        "alias np.abs :"
      ]
    },
    {
      "cell_type": "code",
      "metadata": {
        "id": "z368g5befdBq",
        "colab_type": "code",
        "outputId": "a9c8f014-205b-4648-cbaa-7f89e2e3f7ca",
        "colab": {
          "base_uri": "https://localhost:8080/",
          "height": 34
        }
      },
      "source": [
        "np.absolute(x)"
      ],
      "execution_count": 32,
      "outputs": [
        {
          "output_type": "execute_result",
          "data": {
            "text/plain": [
              "array([2, 1, 0, 1, 2])"
            ]
          },
          "metadata": {
            "tags": []
          },
          "execution_count": 32
        }
      ]
    },
    {
      "cell_type": "code",
      "metadata": {
        "id": "LRIvYgImfkxn",
        "colab_type": "code",
        "outputId": "cb6b6068-240d-413b-8cb4-64153c4d2939",
        "colab": {
          "base_uri": "https://localhost:8080/",
          "height": 34
        }
      },
      "source": [
        "np.abs(x)"
      ],
      "execution_count": 33,
      "outputs": [
        {
          "output_type": "execute_result",
          "data": {
            "text/plain": [
              "array([2, 1, 0, 1, 2])"
            ]
          },
          "metadata": {
            "tags": []
          },
          "execution_count": 33
        }
      ]
    },
    {
      "cell_type": "code",
      "metadata": {
        "id": "eRYhVSJDGCjf",
        "colab_type": "code",
        "outputId": "64c799b6-6f05-49c5-a4f8-2367d6664f1d",
        "colab": {
          "base_uri": "https://localhost:8080/",
          "height": 52
        }
      },
      "source": [
        "#Taking Square Ro2, 1, 0, 1, 2ots\n",
        "np.sqrt(arr)"
      ],
      "execution_count": 34,
      "outputs": [
        {
          "output_type": "execute_result",
          "data": {
            "text/plain": [
              "array([0.        , 1.        , 1.41421356, 1.73205081, 2.        ,\n",
              "       2.23606798, 2.44948974, 2.64575131, 2.82842712, 3.        ])"
            ]
          },
          "metadata": {
            "tags": []
          },
          "execution_count": 34
        }
      ]
    },
    {
      "cell_type": "code",
      "metadata": {
        "id": "GzqfthyHGCjz",
        "colab_type": "code",
        "outputId": "16c40a36-0962-4438-8682-4a9cd8e04e9b",
        "colab": {
          "base_uri": "https://localhost:8080/",
          "height": 34
        }
      },
      "source": [
        "np.max(arr) #same as arr.max()"
      ],
      "execution_count": 35,
      "outputs": [
        {
          "output_type": "execute_result",
          "data": {
            "text/plain": [
              "9"
            ]
          },
          "metadata": {
            "tags": []
          },
          "execution_count": 35
        }
      ]
    },
    {
      "cell_type": "markdown",
      "metadata": {
        "id": "I2qAJ8CugG37",
        "colab_type": "text"
      },
      "source": [
        "###Trigonometric functions\n",
        "\n",
        "NumPy provides a large number of useful ufuncs, and some of the most useful for the\n",
        "data scientist are the trigonometric functions. We’ll start by defining an array of\n",
        "angles:"
      ]
    },
    {
      "cell_type": "code",
      "metadata": {
        "id": "2wosRyCgGCj-",
        "colab_type": "code",
        "outputId": "108cc79a-b43e-4931-e1e6-86e9def8e820",
        "colab": {
          "base_uri": "https://localhost:8080/",
          "height": 52
        }
      },
      "source": [
        "np.sin(arr)"
      ],
      "execution_count": 36,
      "outputs": [
        {
          "output_type": "execute_result",
          "data": {
            "text/plain": [
              "array([ 0.        ,  0.84147098,  0.90929743,  0.14112001, -0.7568025 ,\n",
              "       -0.95892427, -0.2794155 ,  0.6569866 ,  0.98935825,  0.41211849])"
            ]
          },
          "metadata": {
            "tags": []
          },
          "execution_count": 36
        }
      ]
    },
    {
      "cell_type": "markdown",
      "metadata": {
        "id": "r3eR0UWugwzH",
        "colab_type": "text"
      },
      "source": [
        "#Exponents and logarithms\n",
        "\n",
        "Another common type of operation available in a NumPy ufunc are the exponentials:"
      ]
    },
    {
      "cell_type": "code",
      "metadata": {
        "id": "8TY7R8Q8GCkK",
        "colab_type": "code",
        "outputId": "a4f96220-04e6-4dac-bf38-ade86a727206",
        "colab": {
          "base_uri": "https://localhost:8080/",
          "height": 86
        }
      },
      "source": [
        "np.log(arr)"
      ],
      "execution_count": 37,
      "outputs": [
        {
          "output_type": "stream",
          "text": [
            "/usr/local/lib/python3.6/dist-packages/ipykernel_launcher.py:1: RuntimeWarning: divide by zero encountered in log\n",
            "  \"\"\"Entry point for launching an IPython kernel.\n"
          ],
          "name": "stderr"
        },
        {
          "output_type": "execute_result",
          "data": {
            "text/plain": [
              "array([      -inf, 0.        , 0.69314718, 1.09861229, 1.38629436,\n",
              "       1.60943791, 1.79175947, 1.94591015, 2.07944154, 2.19722458])"
            ]
          },
          "metadata": {
            "tags": []
          },
          "execution_count": 37
        }
      ]
    },
    {
      "cell_type": "code",
      "metadata": {
        "id": "JVdaOMFyGCjp",
        "colab_type": "code",
        "outputId": "457d846e-7b68-43be-cae4-62f1bd960e97",
        "colab": {
          "base_uri": "https://localhost:8080/",
          "height": 69
        }
      },
      "source": [
        "#Calcualting exponential (e^)\n",
        "np.exp(arr)"
      ],
      "execution_count": 38,
      "outputs": [
        {
          "output_type": "execute_result",
          "data": {
            "text/plain": [
              "array([1.00000000e+00, 2.71828183e+00, 7.38905610e+00, 2.00855369e+01,\n",
              "       5.45981500e+01, 1.48413159e+02, 4.03428793e+02, 1.09663316e+03,\n",
              "       2.98095799e+03, 8.10308393e+03])"
            ]
          },
          "metadata": {
            "tags": []
          },
          "execution_count": 38
        }
      ]
    },
    {
      "cell_type": "code",
      "metadata": {
        "id": "NSUKwqxYhA7g",
        "colab_type": "code",
        "outputId": "5879a658-3339-497d-e3c5-79bcc820b83f",
        "colab": {
          "base_uri": "https://localhost:8080/",
          "height": 86
        }
      },
      "source": [
        "x = [1, 2, 3]\n",
        "print(\"x=\", x)\n",
        "print(\"e^x=\", np.exp(x))\n",
        "print(\"2^x=\", np.exp2(x))\n",
        "print(\"3^x=\", np.power(3, x))"
      ],
      "execution_count": 39,
      "outputs": [
        {
          "output_type": "stream",
          "text": [
            "x= [1, 2, 3]\n",
            "e^x= [ 2.71828183  7.3890561  20.08553692]\n",
            "2^x= [2. 4. 8.]\n",
            "3^x= [ 3  9 27]\n"
          ],
          "name": "stdout"
        }
      ]
    },
    {
      "cell_type": "markdown",
      "metadata": {
        "id": "1BVXRahYhKMI",
        "colab_type": "text"
      },
      "source": [
        "The inverse of the exponentials, the logarithms, are also available. The basic np.log\n",
        "gives the natural logarithm; if you prefer to compute the base-2 logarithm or the\n",
        "base-10 logarithm, these are available as well:"
      ]
    },
    {
      "cell_type": "code",
      "metadata": {
        "id": "2JJAY61HhL78",
        "colab_type": "code",
        "outputId": "e98f20ba-42f9-44c3-e107-a46d12b85409",
        "colab": {
          "base_uri": "https://localhost:8080/",
          "height": 86
        }
      },
      "source": [
        "x = [1, 2, 4, 10]\n",
        "print(\"x=\",x)\n",
        "\n",
        "print(\"ln(x)=\",np.log(x))\n",
        "print(\"log2(x) =\",np.log2(x))\n",
        "print(\"log10(x) =\",np.log10(x))"
      ],
      "execution_count": 40,
      "outputs": [
        {
          "output_type": "stream",
          "text": [
            "x= [1, 2, 4, 10]\n",
            "ln(x)= [0.         0.69314718 1.38629436 2.30258509]\n",
            "log2(x) = [0.         1.         2.         3.32192809]\n",
            "log10(x) = [0.         0.30103    0.60205999 1.        ]\n"
          ],
          "name": "stdout"
        }
      ]
    },
    {
      "cell_type": "markdown",
      "metadata": {
        "id": "ftjtzQIJhxM0",
        "colab_type": "text"
      },
      "source": [
        "There are also some specialized versions that are useful for maintaining precision\n",
        "with very small input:"
      ]
    },
    {
      "cell_type": "code",
      "metadata": {
        "id": "gmu_DEbSh2cR",
        "colab_type": "code",
        "outputId": "5952be80-b552-49dc-9c0f-ccbe1a8d7a15",
        "colab": {
          "base_uri": "https://localhost:8080/",
          "height": 52
        }
      },
      "source": [
        "x = [0, 0.001, 0.01, 0.1]\n",
        "print(\"exp(x) - 1 =\", np.expm1(x))\n",
        "print(\"log(1 + x) =\", np.log1p(x))"
      ],
      "execution_count": 41,
      "outputs": [
        {
          "output_type": "stream",
          "text": [
            "exp(x) - 1 = [0.         0.0010005  0.01005017 0.10517092]\n",
            "log(1 + x) = [0.         0.0009995  0.00995033 0.09531018]\n"
          ],
          "name": "stdout"
        }
      ]
    },
    {
      "cell_type": "markdown",
      "metadata": {
        "id": "jxGrVaajiCom",
        "colab_type": "text"
      },
      "source": [
        "When x is very small, these functions give more precise values than if the raw np.log\n",
        "or np.exp were used."
      ]
    },
    {
      "cell_type": "markdown",
      "metadata": {
        "id": "TnPKqD5AjUxI",
        "colab_type": "text"
      },
      "source": [
        "## Advanced Ufunc Features\n",
        "\n",
        "Many NumPy users make use of ufuncs without ever learning their full set of features.\n",
        "We’ll outline a few specialized features of ufuncs here.\n",
        "\n",
        "\n",
        "#Specifying output\n",
        "\n",
        "\n",
        "For large calculations, it is sometimes useful to be able to specify the array where the\n",
        "result of the calculation will be stored. Rather than creating a temporary array, you\n",
        "can use this to write computation results directly to the memory location where you’d like them to be. For all ufuncs, you can do this using the out argument of the\n",
        "function:"
      ]
    },
    {
      "cell_type": "code",
      "metadata": {
        "id": "CMJy6xvjjh_-",
        "colab_type": "code",
        "outputId": "bb225c81-3500-4886-f505-4820e91f7d31",
        "colab": {
          "base_uri": "https://localhost:8080/",
          "height": 52
        }
      },
      "source": [
        "x = np.arange(5)\n",
        "y = np.empty(5)\n",
        "np.multiply(x, 10, out=y)\n",
        "print(x)\n",
        "print(y)"
      ],
      "execution_count": 42,
      "outputs": [
        {
          "output_type": "stream",
          "text": [
            "[0 1 2 3 4]\n",
            "[ 0. 10. 20. 30. 40.]\n"
          ],
          "name": "stdout"
        }
      ]
    },
    {
      "cell_type": "markdown",
      "metadata": {
        "id": "v9t4mkpryIul",
        "colab_type": "text"
      },
      "source": [
        "#Summing the Values in an Array\n",
        "\n",
        "As a quick example, consider computing the sum of all values in an array. Python\n",
        "itself can do this using the built-in sum function:\n"
      ]
    },
    {
      "cell_type": "code",
      "metadata": {
        "id": "WbOjqx8Jyuu5",
        "colab_type": "code",
        "outputId": "ebacd5a2-e17b-4836-f8c8-e70990b2d2fb",
        "colab": {
          "base_uri": "https://localhost:8080/",
          "height": 34
        }
      },
      "source": [
        "L = np.random.random(100)\n",
        "sum(L)"
      ],
      "execution_count": 43,
      "outputs": [
        {
          "output_type": "execute_result",
          "data": {
            "text/plain": [
              "50.461758453195614"
            ]
          },
          "metadata": {
            "tags": []
          },
          "execution_count": 43
        }
      ]
    },
    {
      "cell_type": "markdown",
      "metadata": {
        "id": "7RAPEzzay44B",
        "colab_type": "text"
      },
      "source": [
        "The syntax is quite similar to that of NumPy’s sum function, and the result is the same\n",
        "in the simplest case:"
      ]
    },
    {
      "cell_type": "code",
      "metadata": {
        "id": "-cGHW1Xny0N6",
        "colab_type": "code",
        "outputId": "95cac9ab-b96b-4d81-f7ea-e8521969c7c5",
        "colab": {
          "base_uri": "https://localhost:8080/",
          "height": 34
        }
      },
      "source": [
        "np.sum(L)"
      ],
      "execution_count": 44,
      "outputs": [
        {
          "output_type": "execute_result",
          "data": {
            "text/plain": [
              "50.46175845319564"
            ]
          },
          "metadata": {
            "tags": []
          },
          "execution_count": 44
        }
      ]
    },
    {
      "cell_type": "markdown",
      "metadata": {
        "id": "pG5FSXHzzB9Y",
        "colab_type": "text"
      },
      "source": [
        "However, because it executes the operation in compiled code, NumPy’s version of the\n",
        "operation is computed much more quickly:"
      ]
    },
    {
      "cell_type": "code",
      "metadata": {
        "id": "fIlzCb45jpkB",
        "colab_type": "code",
        "outputId": "e2b1ccc7-a46a-4464-88bc-11eb39981642",
        "colab": {
          "base_uri": "https://localhost:8080/",
          "height": 52
        }
      },
      "source": [
        "big_array = np.random.rand(1000000)\n",
        "%timeit sum(big_array)\n",
        "%timeit np.sum(big_array)"
      ],
      "execution_count": 45,
      "outputs": [
        {
          "output_type": "stream",
          "text": [
            "10 loops, best of 3: 160 ms per loop\n",
            "1000 loops, best of 3: 383 µs per loop\n"
          ],
          "name": "stdout"
        }
      ]
    },
    {
      "cell_type": "code",
      "metadata": {
        "id": "GAcAAgzCyWED",
        "colab_type": "code",
        "colab": {}
      },
      "source": [
        "%timeit np.sum(big_array)"
      ],
      "execution_count": 0,
      "outputs": []
    },
    {
      "cell_type": "markdown",
      "metadata": {
        "id": "oQuk3DkiNogg",
        "colab_type": "text"
      },
      "source": [
        "Be careful, though: the sum function and the np.sum function are not identical, which\n",
        "can sometimes lead to confusion! In particular, their optional arguments have differ‐\n",
        "ent meanings, and np.sum is aware of multiple array dimensions"
      ]
    },
    {
      "cell_type": "markdown",
      "metadata": {
        "id": "MMD42aT7NypD",
        "colab_type": "text"
      },
      "source": [
        "### max,min,argmax,argmin\n",
        "\n",
        "These are useful methods for finding max or min values. Or to find their index locations using argmin or argmax"
      ]
    },
    {
      "cell_type": "code",
      "metadata": {
        "id": "sgbp_DXDOIWp",
        "colab_type": "code",
        "outputId": "0fe33fc3-caa6-475e-92da-30aeb6a42bc0",
        "colab": {
          "base_uri": "https://localhost:8080/",
          "height": 34
        }
      },
      "source": [
        "ranarr = np.random.randint(0,50,10)\n",
        "ranarr"
      ],
      "execution_count": 46,
      "outputs": [
        {
          "output_type": "execute_result",
          "data": {
            "text/plain": [
              "array([32, 33, 29, 41, 19, 11, 19,  7, 36, 10])"
            ]
          },
          "metadata": {
            "tags": []
          },
          "execution_count": 46
        }
      ]
    },
    {
      "cell_type": "code",
      "metadata": {
        "id": "SfVN-GRyycNP",
        "colab_type": "code",
        "outputId": "3bd4ad83-f8ac-4831-fc5b-dc38019ecb04",
        "colab": {
          "base_uri": "https://localhost:8080/",
          "height": 34
        }
      },
      "source": [
        "ranarr.max()"
      ],
      "execution_count": 47,
      "outputs": [
        {
          "output_type": "execute_result",
          "data": {
            "text/plain": [
              "41"
            ]
          },
          "metadata": {
            "tags": []
          },
          "execution_count": 47
        }
      ]
    },
    {
      "cell_type": "code",
      "metadata": {
        "id": "O4DrYJpsN_9Y",
        "colab_type": "code",
        "outputId": "4d2fb0af-42e4-4073-e2cd-81b44b732f94",
        "colab": {
          "base_uri": "https://localhost:8080/",
          "height": 34
        }
      },
      "source": [
        "ranarr.argmax()"
      ],
      "execution_count": 48,
      "outputs": [
        {
          "output_type": "execute_result",
          "data": {
            "text/plain": [
              "3"
            ]
          },
          "metadata": {
            "tags": []
          },
          "execution_count": 48
        }
      ]
    },
    {
      "cell_type": "code",
      "metadata": {
        "id": "TvSLwc1qODHB",
        "colab_type": "code",
        "outputId": "73ff1ea1-b49c-4afb-b83d-91da4905c06a",
        "colab": {
          "base_uri": "https://localhost:8080/",
          "height": 34
        }
      },
      "source": [
        "ranarr.min()"
      ],
      "execution_count": 49,
      "outputs": [
        {
          "output_type": "execute_result",
          "data": {
            "text/plain": [
              "7"
            ]
          },
          "metadata": {
            "tags": []
          },
          "execution_count": 49
        }
      ]
    },
    {
      "cell_type": "code",
      "metadata": {
        "id": "k_LbpaxjOEbp",
        "colab_type": "code",
        "outputId": "fc2b5a34-5262-470a-c8a4-91b4b96e1522",
        "colab": {
          "base_uri": "https://localhost:8080/",
          "height": 34
        }
      },
      "source": [
        "ranarr.argmin()"
      ],
      "execution_count": 50,
      "outputs": [
        {
          "output_type": "execute_result",
          "data": {
            "text/plain": [
              "7"
            ]
          },
          "metadata": {
            "tags": []
          },
          "execution_count": 50
        }
      ]
    },
    {
      "cell_type": "code",
      "metadata": {
        "id": "1WjxVoXIOFuT",
        "colab_type": "code",
        "outputId": "4a0846af-0b4d-4f91-9ff2-e1d40e04b7f2",
        "colab": {
          "base_uri": "https://localhost:8080/",
          "height": 52
        }
      },
      "source": [
        "%timeit min(big_array)\n",
        "%timeit np.min(big_array)"
      ],
      "execution_count": 51,
      "outputs": [
        {
          "output_type": "stream",
          "text": [
            "10 loops, best of 3: 118 ms per loop\n",
            "1000 loops, best of 3: 417 µs per loop\n"
          ],
          "name": "stdout"
        }
      ]
    },
    {
      "cell_type": "markdown",
      "metadata": {
        "id": "WH_seKxHQRCm",
        "colab_type": "text"
      },
      "source": [
        "#Other aggregation functions\n",
        "\n",
        "NumPy provides many other aggregation functions, but we won’t discuss them in\n",
        "detail here. Additionally, most aggregates have a NaN -safe counterpart that computes the result while ignoring missing values, which are marked by the special IEEE\n",
        "floating-point NaN value \n",
        "\n",
        "\n",
        "    Aggregation functions available in NumPy\n",
        "    Function Name NaN-safe Version np.sum np.nansum Description\n",
        "    Compute sum of elements\n",
        "    np.prod np.nanprod Compute product of elements\n",
        "    np.mean np.nanmean Compute median of elements\n",
        "    np.std np.nanstd Compute standard deviation\n",
        "    np.var np.nanvar Compute variance\n",
        "    np.min np.nanmin Find minimum value\n",
        "    np.max np.nanmax Find maximum value\n",
        "    np.argmin np.nanargmin Find index of minimum value\n",
        "    np.argmax np.nanargmax Find index of maximum value\n",
        "    np.median np.nanmedian Compute median of elements\n",
        "    np.percentile np.nanpercentile Compute rank-based statistics of elements\n",
        "    np.any N/A Evaluate whether any elements are true\n",
        "    np.all N/A Evaluate whether all elements are true\n"
      ]
    },
    {
      "cell_type": "code",
      "metadata": {
        "id": "l3eqAPjXOp_y",
        "colab_type": "code",
        "colab": {}
      },
      "source": [
        ""
      ],
      "execution_count": 0,
      "outputs": []
    }
  ]
}