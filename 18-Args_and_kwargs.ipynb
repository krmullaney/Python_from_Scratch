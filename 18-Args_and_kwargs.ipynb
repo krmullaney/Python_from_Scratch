{
  "nbformat": 4,
  "nbformat_minor": 0,
  "metadata": {
    "kernelspec": {
      "display_name": "Python 3",
      "language": "python",
      "name": "python3"
    },
    "language_info": {
      "codemirror_mode": {
        "name": "ipython",
        "version": 3
      },
      "file_extension": ".py",
      "mimetype": "text/x-python",
      "name": "python",
      "nbconvert_exporter": "python",
      "pygments_lexer": "ipython3",
      "version": "3.6.2"
    },
    "colab": {
      "name": "07-args and kwargs.ipynb",
      "provenance": [],
      "collapsed_sections": []
    }
  },
  "cells": [
    {
      "cell_type": "markdown",
      "metadata": {
        "id": "ZXw5aOFwlE_n",
        "colab_type": "text"
      },
      "source": [
        "# `*args` and `**kwargs`\n",
        "\n",
        "\n",
        "    args - arguments\n",
        "    kwargs - keyword arguments\n",
        "\n",
        "\n",
        "Work with Python long enough, and eventually you will encounter `*args` and `**kwargs`. These strange terms show up as parameters in function definitions. What do they do? Let's review a simple function:"
      ]
    },
    {
      "cell_type": "code",
      "metadata": {
        "id": "ml58NPJ9lE_v",
        "colab_type": "code",
        "outputId": "287f2e98-bfd1-4365-a6fd-97c5a69b4e2e",
        "colab": {
          "base_uri": "https://localhost:8080/",
          "height": 34
        }
      },
      "source": [
        "def myfunc(a,b):\n",
        "    return sum((a,b))*.05\n",
        "\n",
        "myfunc(40,60)"
      ],
      "execution_count": 30,
      "outputs": [
        {
          "output_type": "execute_result",
          "data": {
            "text/plain": [
              "5.0"
            ]
          },
          "metadata": {
            "tags": []
          },
          "execution_count": 30
        }
      ]
    },
    {
      "cell_type": "markdown",
      "metadata": {
        "id": "24Jk6HeClFAY",
        "colab_type": "text"
      },
      "source": [
        "This function returns 5% of the sum of **a** and **b**. In this example, **a** and **b** are *positional* arguments; that is, 40 is assigned to **a** because it is the first argument, and 60 to **b**. Notice also that to work with multiple positional arguments in the `sum()` function we had to pass them in as a tuple.\n",
        "\n",
        "What if we want to work with more than two numbers? One way would be to assign a *lot* of parameters, and give each one a default value."
      ]
    },
    {
      "cell_type": "code",
      "metadata": {
        "id": "f6qhj0ZUlFAn",
        "colab_type": "code",
        "outputId": "441587f3-00cf-4a62-d43b-e163c678d6e6",
        "colab": {
          "base_uri": "https://localhost:8080/",
          "height": 34
        }
      },
      "source": [
        "def myfunc(a=0,b=0,c=0,d=0,e=0):\n",
        "    return sum((a,b,c,d,e))*.05\n",
        "\n",
        "myfunc(40,60,20)\n",
        "#myfunc(40,60,20,10,20,30)"
      ],
      "execution_count": 32,
      "outputs": [
        {
          "output_type": "execute_result",
          "data": {
            "text/plain": [
              "6.0"
            ]
          },
          "metadata": {
            "tags": []
          },
          "execution_count": 32
        }
      ]
    },
    {
      "cell_type": "markdown",
      "metadata": {
        "id": "I6m7mxjmlFBF",
        "colab_type": "text"
      },
      "source": [
        "Obviously this is not a very efficient solution, and that's where `*args` comes in.\n",
        "\n",
        "## `*args`\n",
        "\n",
        "When a function parameter starts with an asterisk, it allows for an *arbitrary number* of arguments, and the function takes them in as a tuple of values. Rewriting the above function:"
      ]
    },
    {
      "cell_type": "code",
      "metadata": {
        "id": "yG8BlItKlFBM",
        "colab_type": "code",
        "outputId": "1c39f291-0d2a-4a0d-8ab0-b707fcc66e5b",
        "colab": {
          "base_uri": "https://localhost:8080/",
          "height": 34
        }
      },
      "source": [
        "def myfunc(*args):\n",
        "    return sum(args)*.05\n",
        "\n",
        "#myfunc(40,60,20)\n",
        "myfunc(40, 40,60,20,10,20,30,40,60,20,10,20,30,40,60,20,10,20,30,60,20,10,20,30)"
      ],
      "execution_count": 36,
      "outputs": [
        {
          "output_type": "execute_result",
          "data": {
            "text/plain": [
              "36.0"
            ]
          },
          "metadata": {
            "tags": []
          },
          "execution_count": 36
        }
      ]
    },
    {
      "cell_type": "markdown",
      "metadata": {
        "id": "i6LvTAOalFBi",
        "colab_type": "text"
      },
      "source": [
        "Notice how passing the keyword \"args\" into the `sum()` function did the same thing as a tuple of arguments.\n",
        "\n",
        "It is worth noting that the word \"args\" is itself arbitrary - any word will do so long as it's preceded by an asterisk. To demonstrate this:"
      ]
    },
    {
      "cell_type": "code",
      "metadata": {
        "id": "qKeXyOaalFBl",
        "colab_type": "code",
        "outputId": "52dbc4c0-b314-4858-cf81-88a90ff8a7b4",
        "colab": {
          "base_uri": "https://localhost:8080/",
          "height": 34
        }
      },
      "source": [
        "def myfunc(*multiple_args_to_find_sum):\n",
        "    return sum(multiple_args_to_find_sum)*.05\n",
        "\n",
        "myfunc(40,60,20)"
      ],
      "execution_count": 0,
      "outputs": [
        {
          "output_type": "execute_result",
          "data": {
            "text/plain": [
              "6.0"
            ]
          },
          "metadata": {
            "tags": []
          },
          "execution_count": 1
        }
      ]
    },
    {
      "cell_type": "code",
      "metadata": {
        "id": "SDX0BImcyJ7M",
        "colab_type": "code",
        "colab": {
          "base_uri": "https://localhost:8080/",
          "height": 86
        },
        "outputId": "11125c41-c07e-4568-9533-305e2e5834f5"
      },
      "source": [
        "def my_function(*children):\n",
        "\n",
        "  for i, child in enumerate(children) :\n",
        "    print(f\"The  {i+1} child is {child}\")\n",
        "\n",
        "my_function(\"Tom\", \"Jack\", \"Maria\" , \"Kristin\") "
      ],
      "execution_count": 37,
      "outputs": [
        {
          "output_type": "stream",
          "text": [
            "The  1 child is Tom\n",
            "The  2 child is Jack\n",
            "The  3 child is Maria\n",
            "The  4 child is Kristin\n"
          ],
          "name": "stdout"
        }
      ]
    },
    {
      "cell_type": "code",
      "metadata": {
        "id": "4RSLT-zZ3VmF",
        "colab_type": "code",
        "colab": {
          "base_uri": "https://localhost:8080/",
          "height": 69
        },
        "outputId": "d6cbc074-9f21-4770-8ba7-404fdfb527fd"
      },
      "source": [
        "def shopping_list(*args):\n",
        "  for i, item in enumerate(args) :\n",
        "    print(f\" {i+1} I need to buy {item} from the store\")\n",
        "\n",
        "shopping_list('pineapples', \"Cauliflower\", 'Roses')"
      ],
      "execution_count": 38,
      "outputs": [
        {
          "output_type": "stream",
          "text": [
            " 1 I need to buy pineapples from the store\n",
            " 2 I need to buy Cauliflower from the store\n",
            " 3 I need to buy Roses from the store\n"
          ],
          "name": "stdout"
        }
      ]
    },
    {
      "cell_type": "markdown",
      "metadata": {
        "id": "knceMmBJlFB6",
        "colab_type": "text"
      },
      "source": [
        "## `**kwargs`\n",
        "\n",
        "\n",
        "If you do not know how many keyword arguments that will be passed into your function, add two asterisk: ** before the parameter name in the function definition.\n",
        "\n",
        "Python offers a way to handle arbitrary numbers of *keyworded* arguments.\n",
        "\n",
        "Instead of creating a tuple of values, `**kwargs` builds a dictionary of key/value pairs.\n",
        "\n",
        "This way the function will receive a dictionary of arguments, and can access the items accordingly:\n",
        "\n",
        "For example:"
      ]
    },
    {
      "cell_type": "code",
      "metadata": {
        "id": "LKKVa6cG05ut",
        "colab_type": "code",
        "colab": {
          "base_uri": "https://localhost:8080/",
          "height": 104
        },
        "outputId": "ec713016-c0a2-45c0-ef18-d8d224fe76fe"
      },
      "source": [
        "def my_function(**keyword_arguments_example):\n",
        "\n",
        "  for key, value in keyword_arguments_example.items():\n",
        "    print(f\"Her {key} is {value}\")\n",
        "\n",
        "my_function(first_name = \"Kristin\", last_name = \"Mullaney\" , age = \"24\" , skin_color = \"White\" , hair_color=\"brown\")"
      ],
      "execution_count": 41,
      "outputs": [
        {
          "output_type": "stream",
          "text": [
            "Her first_name is Kristin\n",
            "Her last_name is Mullaney\n",
            "Her age is 24\n",
            "Her skin_color is White\n",
            "Her hair_color is brown\n"
          ],
          "name": "stdout"
        }
      ]
    },
    {
      "cell_type": "code",
      "metadata": {
        "id": "HTKzYSp-lFB-",
        "colab_type": "code",
        "outputId": "ae15aa70-0734-4f60-ea18-f752783fa193",
        "colab": {
          "base_uri": "https://localhost:8080/",
          "height": 86
        }
      },
      "source": [
        "def shopping_list(**kwargs):\n",
        "    if 'fruit' in kwargs:\n",
        "        #print(f\"My shopping list includes {kwargs['fruit']}\")  \n",
        "          for fruit_item in kwargs['fruit']:\n",
        "            print(f\"My shopping list includes FRUIT: {fruit_item}\")  \n",
        "    if 'vegetable' in kwargs:\n",
        "        print(f\"My shopping list includes  {kwargs['vegetable']}\")  \n",
        "    else:\n",
        "        print(\"I have everything at home. My shopping list is blank.\")\n",
        "        \n",
        "\n",
        "#shopping_list(fruit='pineapples', vegetable=\"Cauliflower\")\n",
        "shopping_list(fruit=['pineapples', 'mangoes', 'apples'], vegetable=\"Cauliflower\")"
      ],
      "execution_count": 44,
      "outputs": [
        {
          "output_type": "stream",
          "text": [
            "My shopping list includes FRUIT: pineapples\n",
            "My shopping list includes FRUIT: mangoes\n",
            "My shopping list includes FRUIT: apples\n",
            "My shopping list includes  Cauliflower\n"
          ],
          "name": "stdout"
        }
      ]
    },
    {
      "cell_type": "code",
      "metadata": {
        "id": "aF-Mg4fdlFCR",
        "colab_type": "code",
        "outputId": "d8376498-e2db-4dea-d0bc-332864357621",
        "colab": {}
      },
      "source": [
        "myfunc()"
      ],
      "execution_count": 0,
      "outputs": [
        {
          "output_type": "stream",
          "text": [
            "I don't like fruit\n"
          ],
          "name": "stdout"
        }
      ]
    },
    {
      "cell_type": "markdown",
      "metadata": {
        "id": "4eSTZfD6lFCk",
        "colab_type": "text"
      },
      "source": [
        "## `*args` and `**kwargs` combined\n",
        "\n",
        "You can pass `*args` and `**kwargs` into the same function, but `*args` have to appear before `**kwargs`"
      ]
    },
    {
      "cell_type": "code",
      "metadata": {
        "id": "Q6aYlXHulFCn",
        "colab_type": "code",
        "outputId": "8f5ab3e2-2d3c-4b10-d59d-bdb7879235e8",
        "colab": {
          "base_uri": "https://localhost:8080/",
          "height": 52
        }
      },
      "source": [
        "def myfunc(*args, **kwargs):\n",
        "    if 'fruit' and 'juice' in kwargs:\n",
        "        print(f\"I like {' and '.join(args)} and my favorite fruit is {kwargs['fruit']}\")\n",
        "        print(f\"May I have some {kwargs['juice']} juice?\")\n",
        "    else:\n",
        "        pass\n",
        "        \n",
        "myfunc('eggs','spam',fruit='cherries',juice='orange')"
      ],
      "execution_count": 45,
      "outputs": [
        {
          "output_type": "stream",
          "text": [
            "I like eggs and spam and my favorite fruit is cherries\n",
            "May I have some orange juice?\n"
          ],
          "name": "stdout"
        }
      ]
    },
    {
      "cell_type": "markdown",
      "metadata": {
        "id": "iAavFNUslFC7",
        "colab_type": "text"
      },
      "source": [
        "Placing keyworded arguments ahead of positional arguments raises an exception:"
      ]
    },
    {
      "cell_type": "code",
      "metadata": {
        "id": "axt9VdG_lFC-",
        "colab_type": "code",
        "outputId": "14296924-1fc0-44bd-f554-58763fad67d0",
        "colab": {
          "base_uri": "https://localhost:8080/",
          "height": 132
        }
      },
      "source": [
        "myfunc(fruit='cherries',juice='orange','eggs','spam')"
      ],
      "execution_count": 46,
      "outputs": [
        {
          "output_type": "error",
          "ename": "SyntaxError",
          "evalue": "ignored",
          "traceback": [
            "\u001b[0;36m  File \u001b[0;32m\"<ipython-input-46-fc6ff65addcc>\"\u001b[0;36m, line \u001b[0;32m1\u001b[0m\n\u001b[0;31m    myfunc(fruit='cherries',juice='orange','eggs','spam')\u001b[0m\n\u001b[0m                                          ^\u001b[0m\n\u001b[0;31mSyntaxError\u001b[0m\u001b[0;31m:\u001b[0m positional argument follows keyword argument\n"
          ]
        }
      ]
    },
    {
      "cell_type": "markdown",
      "metadata": {
        "id": "SYCiWc4JlFDT",
        "colab_type": "text"
      },
      "source": [
        "As with \"args\", you can use any name you'd like for keyworded arguments - \"kwargs\" is just a popular convention.\n",
        "\n",
        "That's it! Now you should understand how `*args` and `**kwargs` provide the flexibilty to work with arbitrary numbers of arguments!"
      ]
    },
    {
      "cell_type": "code",
      "metadata": {
        "id": "Qp5P2Nqi4WbM",
        "colab_type": "code",
        "colab": {}
      },
      "source": [
        ""
      ],
      "execution_count": 0,
      "outputs": []
    }
  ]
}