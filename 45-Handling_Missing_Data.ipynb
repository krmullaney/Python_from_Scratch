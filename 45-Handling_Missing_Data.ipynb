{
  "nbformat": 4,
  "nbformat_minor": 0,
  "metadata": {
    "kernelspec": {
      "display_name": "Python 3",
      "language": "python",
      "name": "python3"
    },
    "language_info": {
      "codemirror_mode": {
        "name": "ipython",
        "version": 3
      },
      "file_extension": ".py",
      "mimetype": "text/x-python",
      "name": "python",
      "nbconvert_exporter": "python",
      "pygments_lexer": "ipython3",
      "version": "3.5.1"
    },
    "colab": {
      "name": "04-Handling Missing Data.ipynb",
      "provenance": [],
      "collapsed_sections": []
    }
  },
  "cells": [
    {
      "cell_type": "markdown",
      "metadata": {
        "id": "MPmfIwYDiAdY",
        "colab_type": "text"
      },
      "source": [
        "# Handling Missing Data\n",
        "\n",
        "In the real world, ACTUAL data is rarely clean and homogeneous. To make matters even more complicated, different data sources may indicate missing data in different ways.\n",
        "\n",
        "\n",
        "In this section, we will discuss some general considerations for missing data, discuss how Pandas chooses to represent it, and demonstrate some built-in Pandas tools for handling missing data in Python.\n",
        "\n",
        "\n",
        "We’ll refer to missing data in general as null, NaN, or NA values."
      ]
    },
    {
      "cell_type": "code",
      "metadata": {
        "id": "gZFBi1NLiAdc",
        "colab_type": "code",
        "colab": {}
      },
      "source": [
        "import numpy as np\n",
        "import pandas as pd"
      ],
      "execution_count": 0,
      "outputs": []
    },
    {
      "cell_type": "markdown",
      "metadata": {
        "id": "FRudj8z76akz",
        "colab_type": "text"
      },
      "source": [
        "# is np.NaN and None are same?"
      ]
    },
    {
      "cell_type": "code",
      "metadata": {
        "id": "sMIaIuTB6e2s",
        "colab_type": "code",
        "outputId": "d4bb4fcb-daef-4768-a6b0-e4ce662e288a",
        "colab": {
          "base_uri": "https://localhost:8080/",
          "height": 34
        }
      },
      "source": [
        "np.nan == None"
      ],
      "execution_count": 10,
      "outputs": [
        {
          "output_type": "execute_result",
          "data": {
            "text/plain": [
              "False"
            ]
          },
          "metadata": {
            "tags": []
          },
          "execution_count": 10
        }
      ]
    },
    {
      "cell_type": "code",
      "metadata": {
        "id": "ZpKB3FWq6m7t",
        "colab_type": "code",
        "outputId": "a8bb9cd5-f81a-4438-a55a-59a132de21bc",
        "colab": {
          "base_uri": "https://localhost:8080/",
          "height": 34
        }
      },
      "source": [
        "np.NaN == None"
      ],
      "execution_count": 11,
      "outputs": [
        {
          "output_type": "execute_result",
          "data": {
            "text/plain": [
              "False"
            ]
          },
          "metadata": {
            "tags": []
          },
          "execution_count": 11
        }
      ]
    },
    {
      "cell_type": "markdown",
      "metadata": {
        "id": "eKsyaUQ56w--",
        "colab_type": "text"
      },
      "source": [
        "# Is np.Nan is equal to np.Nan?\n"
      ]
    },
    {
      "cell_type": "code",
      "metadata": {
        "id": "PVT1JqIT6qsd",
        "colab_type": "code",
        "outputId": "f282fd14-3346-4a0a-b4de-3b5ae0db1572",
        "colab": {
          "base_uri": "https://localhost:8080/",
          "height": 34
        }
      },
      "source": [
        "np.nan == np.nan"
      ],
      "execution_count": 12,
      "outputs": [
        {
          "output_type": "execute_result",
          "data": {
            "text/plain": [
              "False"
            ]
          },
          "metadata": {
            "tags": []
          },
          "execution_count": 12
        }
      ]
    },
    {
      "cell_type": "markdown",
      "metadata": {
        "id": "HeWsdHVK67F2",
        "colab_type": "text"
      },
      "source": [
        "# Then how to check for the NaN in Numpy?"
      ]
    },
    {
      "cell_type": "code",
      "metadata": {
        "id": "GkaC5Rpv6_1V",
        "colab_type": "code",
        "outputId": "a3d9d967-8bf4-481b-f5f2-3f6883f8ebe6",
        "colab": {
          "base_uri": "https://localhost:8080/",
          "height": 34
        }
      },
      "source": [
        "np.isnan(np.nan)"
      ],
      "execution_count": 13,
      "outputs": [
        {
          "output_type": "execute_result",
          "data": {
            "text/plain": [
              "True"
            ]
          },
          "metadata": {
            "tags": []
          },
          "execution_count": 13
        }
      ]
    },
    {
      "cell_type": "markdown",
      "metadata": {
        "id": "qKWwQsXjL5IV",
        "colab_type": "text"
      },
      "source": [
        "#NaN and None in Numpy"
      ]
    },
    {
      "cell_type": "code",
      "metadata": {
        "id": "NRKl8vJrLosP",
        "colab_type": "code",
        "colab": {
          "base_uri": "https://localhost:8080/",
          "height": 34
        },
        "outputId": "c67c7fda-3963-4c68-ee09-ca00b3cfe085"
      },
      "source": [
        "type(None)"
      ],
      "execution_count": 14,
      "outputs": [
        {
          "output_type": "execute_result",
          "data": {
            "text/plain": [
              "NoneType"
            ]
          },
          "metadata": {
            "tags": []
          },
          "execution_count": 14
        }
      ]
    },
    {
      "cell_type": "code",
      "metadata": {
        "id": "KOcntyTLLuM3",
        "colab_type": "code",
        "outputId": "e494b78b-8e73-4d1c-ded6-71d61dcb986b",
        "colab": {
          "base_uri": "https://localhost:8080/",
          "height": 34
        }
      },
      "source": [
        "vals1 = np.array([1, 3, 4])\n",
        "vals1.dtype"
      ],
      "execution_count": 15,
      "outputs": [
        {
          "output_type": "execute_result",
          "data": {
            "text/plain": [
              "dtype('int64')"
            ]
          },
          "metadata": {
            "tags": []
          },
          "execution_count": 15
        }
      ]
    },
    {
      "cell_type": "code",
      "metadata": {
        "id": "ppSyzXXyRFM_",
        "colab_type": "code",
        "outputId": "10a8fec6-d07a-4c93-b038-f7f8c5528ef4",
        "colab": {
          "base_uri": "https://localhost:8080/",
          "height": 72
        }
      },
      "source": [
        "%timeit vals1.sum()"
      ],
      "execution_count": 16,
      "outputs": [
        {
          "output_type": "stream",
          "text": [
            "The slowest run took 220.70 times longer than the fastest. This could mean that an intermediate result is being cached.\n",
            "100000 loops, best of 3: 2.17 µs per loop\n"
          ],
          "name": "stdout"
        }
      ]
    },
    {
      "cell_type": "code",
      "metadata": {
        "id": "odWv-j6fQW8H",
        "colab_type": "code",
        "outputId": "470c70cf-db7c-4a6b-a9e6-6c4f6f94928b",
        "colab": {
          "base_uri": "https://localhost:8080/",
          "height": 34
        }
      },
      "source": [
        "vals1_obj = np.array([1, 3, 4], dtype=object)\n",
        "vals1_obj"
      ],
      "execution_count": 21,
      "outputs": [
        {
          "output_type": "execute_result",
          "data": {
            "text/plain": [
              "array([1, 3, 4], dtype=object)"
            ]
          },
          "metadata": {
            "tags": []
          },
          "execution_count": 21
        }
      ]
    },
    {
      "cell_type": "code",
      "metadata": {
        "id": "XO2pPB3yRZP6",
        "colab_type": "code",
        "outputId": "d5a72764-ee00-4718-da03-a452522be420",
        "colab": {
          "base_uri": "https://localhost:8080/",
          "height": 72
        }
      },
      "source": [
        "%timeit vals1_obj.sum()"
      ],
      "execution_count": 22,
      "outputs": [
        {
          "output_type": "stream",
          "text": [
            "The slowest run took 28.29 times longer than the fastest. This could mean that an intermediate result is being cached.\n",
            "100000 loops, best of 3: 2.22 µs per loop\n"
          ],
          "name": "stdout"
        }
      ]
    },
    {
      "cell_type": "markdown",
      "metadata": {
        "id": "R-fjYBWaNEU8",
        "colab_type": "text"
      },
      "source": [
        "#None: Pythonic missing data"
      ]
    },
    {
      "cell_type": "code",
      "metadata": {
        "id": "hk6OR66XL6bd",
        "colab_type": "code",
        "outputId": "07815770-c59e-4039-cb8e-1208f7203204",
        "colab": {
          "base_uri": "https://localhost:8080/",
          "height": 34
        }
      },
      "source": [
        "vals1 = np.array([1, None, 3, 4])\n",
        "vals1"
      ],
      "execution_count": 25,
      "outputs": [
        {
          "output_type": "execute_result",
          "data": {
            "text/plain": [
              "array([1, None, 3, 4], dtype=object)"
            ]
          },
          "metadata": {
            "tags": []
          },
          "execution_count": 25
        }
      ]
    },
    {
      "cell_type": "markdown",
      "metadata": {
        "id": "ybbhJnO7O1ok",
        "colab_type": "text"
      },
      "source": [
        "This dtype=object means that the best common type representation NumPy could\n",
        "infer for the contents of the array is that they are Python objects.\n",
        "\n",
        "\n",
        "\n",
        "The use of Python objects in an array also means that if you perform aggregations like sum() or min() across an array with a None value, you will generally get an error:"
      ]
    },
    {
      "cell_type": "code",
      "metadata": {
        "id": "7-h5VrLcMNpU",
        "colab_type": "code",
        "outputId": "983c403d-5296-46d6-906c-6235a0984b0b",
        "colab": {
          "base_uri": "https://localhost:8080/",
          "height": 309
        }
      },
      "source": [
        "vals1.sum()"
      ],
      "execution_count": 26,
      "outputs": [
        {
          "output_type": "error",
          "ename": "TypeError",
          "evalue": "ignored",
          "traceback": [
            "\u001b[0;31m---------------------------------------------------------------------------\u001b[0m",
            "\u001b[0;31mTypeError\u001b[0m                                 Traceback (most recent call last)",
            "\u001b[0;32m<ipython-input-26-30a3fc8c6726>\u001b[0m in \u001b[0;36m<module>\u001b[0;34m()\u001b[0m\n\u001b[0;32m----> 1\u001b[0;31m \u001b[0mvals1\u001b[0m\u001b[0;34m.\u001b[0m\u001b[0msum\u001b[0m\u001b[0;34m(\u001b[0m\u001b[0;34m)\u001b[0m\u001b[0;34m\u001b[0m\u001b[0;34m\u001b[0m\u001b[0m\n\u001b[0m",
            "\u001b[0;32m/usr/local/lib/python3.6/dist-packages/numpy/core/_methods.py\u001b[0m in \u001b[0;36m_sum\u001b[0;34m(a, axis, dtype, out, keepdims, initial, where)\u001b[0m\n\u001b[1;32m     36\u001b[0m def _sum(a, axis=None, dtype=None, out=None, keepdims=False,\n\u001b[1;32m     37\u001b[0m          initial=_NoValue, where=True):\n\u001b[0;32m---> 38\u001b[0;31m     \u001b[0;32mreturn\u001b[0m \u001b[0mumr_sum\u001b[0m\u001b[0;34m(\u001b[0m\u001b[0ma\u001b[0m\u001b[0;34m,\u001b[0m \u001b[0maxis\u001b[0m\u001b[0;34m,\u001b[0m \u001b[0mdtype\u001b[0m\u001b[0;34m,\u001b[0m \u001b[0mout\u001b[0m\u001b[0;34m,\u001b[0m \u001b[0mkeepdims\u001b[0m\u001b[0;34m,\u001b[0m \u001b[0minitial\u001b[0m\u001b[0;34m,\u001b[0m \u001b[0mwhere\u001b[0m\u001b[0;34m)\u001b[0m\u001b[0;34m\u001b[0m\u001b[0;34m\u001b[0m\u001b[0m\n\u001b[0m\u001b[1;32m     39\u001b[0m \u001b[0;34m\u001b[0m\u001b[0m\n\u001b[1;32m     40\u001b[0m def _prod(a, axis=None, dtype=None, out=None, keepdims=False,\n",
            "\u001b[0;31mTypeError\u001b[0m: unsupported operand type(s) for +: 'int' and 'NoneType'"
          ]
        }
      ]
    },
    {
      "cell_type": "markdown",
      "metadata": {
        "id": "V0u5tR7RPVXU",
        "colab_type": "text"
      },
      "source": [
        "This reflects the fact that addition between an integer and None is undefined."
      ]
    },
    {
      "cell_type": "markdown",
      "metadata": {
        "id": "koyyiyDGNIv8",
        "colab_type": "text"
      },
      "source": [
        "#NaN: Missing numerical data\n",
        "\n",
        "\n",
        "The other missing data representation, NaN (acronym for Not a Number), is different;\n",
        "it is a special floating-point value recognized by all systems that use the standard\n",
        "IEEE floating-point representation:"
      ]
    },
    {
      "cell_type": "code",
      "metadata": {
        "id": "v_Re6TCHMbmy",
        "colab_type": "code",
        "outputId": "6f74cf85-345d-460c-a217-77bb25f1132d",
        "colab": {
          "base_uri": "https://localhost:8080/",
          "height": 34
        }
      },
      "source": [
        "vals2 = np.array([1, np.nan, 3, 4])\n",
        "vals2"
      ],
      "execution_count": 27,
      "outputs": [
        {
          "output_type": "execute_result",
          "data": {
            "text/plain": [
              "array([ 1., nan,  3.,  4.])"
            ]
          },
          "metadata": {
            "tags": []
          },
          "execution_count": 27
        }
      ]
    },
    {
      "cell_type": "code",
      "metadata": {
        "id": "TC9VyQ9lMf5A",
        "colab_type": "code",
        "outputId": "b7b0ec77-a090-4432-942f-5cebf860e0ca",
        "colab": {
          "base_uri": "https://localhost:8080/",
          "height": 34
        }
      },
      "source": [
        "vals2.dtype"
      ],
      "execution_count": 28,
      "outputs": [
        {
          "output_type": "execute_result",
          "data": {
            "text/plain": [
              "dtype('float64')"
            ]
          },
          "metadata": {
            "tags": []
          },
          "execution_count": 28
        }
      ]
    },
    {
      "cell_type": "markdown",
      "metadata": {
        "id": "pEhMoa0INcnf",
        "colab_type": "text"
      },
      "source": [
        "NaN is a bit like a data virus—it infects any other object it touches - See similarity between Coronavirus and Nan data virus ;-)"
      ]
    },
    {
      "cell_type": "code",
      "metadata": {
        "id": "fmQ_q1aFOLiY",
        "colab_type": "code",
        "outputId": "17814910-14d3-415a-c7a0-84859e861647",
        "colab": {
          "base_uri": "https://localhost:8080/",
          "height": 34
        }
      },
      "source": [
        "1 + np.nan , 0 * np.nan"
      ],
      "execution_count": 30,
      "outputs": [
        {
          "output_type": "execute_result",
          "data": {
            "text/plain": [
              "(nan, nan)"
            ]
          },
          "metadata": {
            "tags": []
          },
          "execution_count": 30
        }
      ]
    },
    {
      "cell_type": "code",
      "metadata": {
        "id": "kXd-Im-6Msa-",
        "colab_type": "code",
        "outputId": "6af8170d-0926-43aa-d1cc-718c28adc7b9",
        "colab": {
          "base_uri": "https://localhost:8080/",
          "height": 34
        }
      },
      "source": [
        "vals2.sum(), vals2.min(), vals2.max()"
      ],
      "execution_count": 0,
      "outputs": [
        {
          "output_type": "execute_result",
          "data": {
            "text/plain": [
              "(nan, nan, nan)"
            ]
          },
          "metadata": {
            "tags": []
          },
          "execution_count": 41
        }
      ]
    },
    {
      "cell_type": "markdown",
      "metadata": {
        "id": "oDiYEYP-ORyi",
        "colab_type": "text"
      },
      "source": [
        "aggregates over the values are well defined (i.e., they don’t\n",
        "result in an error) but not always useful:"
      ]
    },
    {
      "cell_type": "code",
      "metadata": {
        "id": "fs2QXc-VN7kH",
        "colab_type": "code",
        "outputId": "fed808c8-ba45-4d9f-b7b2-d9442fc7b628",
        "colab": {
          "base_uri": "https://localhost:8080/",
          "height": 34
        }
      },
      "source": [
        "#NumPy does provide some special aggregations that will ignore these missing values:\n",
        "np.nansum(vals2)"
      ],
      "execution_count": 32,
      "outputs": [
        {
          "output_type": "execute_result",
          "data": {
            "text/plain": [
              "8.0"
            ]
          },
          "metadata": {
            "tags": []
          },
          "execution_count": 32
        }
      ]
    },
    {
      "cell_type": "code",
      "metadata": {
        "id": "DQ4QV_YjP8rS",
        "colab_type": "code",
        "colab": {
          "base_uri": "https://localhost:8080/",
          "height": 34
        },
        "outputId": "cf37ac47-e8bb-4483-b1fd-0d0547bb6529"
      },
      "source": [
        "np.nanmin(vals2), np.nanmax(vals2)"
      ],
      "execution_count": 33,
      "outputs": [
        {
          "output_type": "execute_result",
          "data": {
            "text/plain": [
              "(1.0, 4.0)"
            ]
          },
          "metadata": {
            "tags": []
          },
          "execution_count": 33
        }
      ]
    },
    {
      "cell_type": "markdown",
      "metadata": {
        "id": "baFbB5UOOkJw",
        "colab_type": "text"
      },
      "source": [
        "Keep in mind that NaN is specifically a floating-point value; there is no equivalent\n",
        "NaN value for integers, strings, or other types."
      ]
    },
    {
      "cell_type": "markdown",
      "metadata": {
        "id": "Fu3Hkp_JSJ_j",
        "colab_type": "text"
      },
      "source": [
        "#NaN and None in Pandas\n",
        "\n",
        "\n",
        "NaN and None both have their place, and Pandas is built to handle the two of them\n",
        "nearly interchangeably, converting between them where appropriate:"
      ]
    },
    {
      "cell_type": "code",
      "metadata": {
        "id": "5KtWUFSdTJ48",
        "colab_type": "code",
        "outputId": "56852904-cb79-465d-ee0c-a7e2bf1222a5",
        "colab": {
          "base_uri": "https://localhost:8080/",
          "height": 121
        }
      },
      "source": [
        "x = pd.Series(range(5))\n",
        "x"
      ],
      "execution_count": 34,
      "outputs": [
        {
          "output_type": "execute_result",
          "data": {
            "text/plain": [
              "0    0\n",
              "1    1\n",
              "2    2\n",
              "3    3\n",
              "4    4\n",
              "dtype: int64"
            ]
          },
          "metadata": {
            "tags": []
          },
          "execution_count": 34
        }
      ]
    },
    {
      "cell_type": "code",
      "metadata": {
        "id": "eTapM9PpTOG1",
        "colab_type": "code",
        "outputId": "46ea6e62-a999-4712-db6d-6d28cadb9a27",
        "colab": {
          "base_uri": "https://localhost:8080/",
          "height": 121
        }
      },
      "source": [
        "x[1] = None\n",
        "x[3] = np.nan\n",
        "x"
      ],
      "execution_count": 35,
      "outputs": [
        {
          "output_type": "execute_result",
          "data": {
            "text/plain": [
              "0    0.0\n",
              "1    NaN\n",
              "2    2.0\n",
              "3    NaN\n",
              "4    4.0\n",
              "dtype: float64"
            ]
          },
          "metadata": {
            "tags": []
          },
          "execution_count": 35
        }
      ]
    },
    {
      "cell_type": "markdown",
      "metadata": {
        "id": "MTb7k5K5SkFf",
        "colab_type": "text"
      },
      "source": [
        "#IMPORTANANT NOTE\n",
        "  \n",
        "    1. np.nan and None both converted into the NaN. \n",
        "    2. Data type of the series automatically changed into the 'float64' by the introduction of NaN\n"
      ]
    },
    {
      "cell_type": "code",
      "metadata": {
        "id": "sg3ROdzbVfLC",
        "colab_type": "code",
        "colab": {
          "base_uri": "https://localhost:8080/",
          "height": 69
        },
        "outputId": "1a31e2d7-b415-4489-d24c-d18490fc657c"
      },
      "source": [
        "x = pd.Series([True, False])\n",
        "x"
      ],
      "execution_count": 51,
      "outputs": [
        {
          "output_type": "execute_result",
          "data": {
            "text/plain": [
              "0     True\n",
              "1    False\n",
              "dtype: bool"
            ]
          },
          "metadata": {
            "tags": []
          },
          "execution_count": 51
        }
      ]
    },
    {
      "cell_type": "code",
      "metadata": {
        "id": "zTgmxSE6Vu-L",
        "colab_type": "code",
        "outputId": "f79bfc63-d02e-43e3-e3e8-a6d7ae8ad78b",
        "colab": {
          "base_uri": "https://localhost:8080/",
          "height": 104
        }
      },
      "source": [
        "x[2] = None\n",
        "x[3] = np.nan\n",
        "\n",
        "x"
      ],
      "execution_count": 52,
      "outputs": [
        {
          "output_type": "execute_result",
          "data": {
            "text/plain": [
              "0     True\n",
              "1    False\n",
              "2     None\n",
              "3      NaN\n",
              "dtype: object"
            ]
          },
          "metadata": {
            "tags": []
          },
          "execution_count": 52
        }
      ]
    },
    {
      "cell_type": "code",
      "metadata": {
        "id": "C0kbf8p0WldZ",
        "colab_type": "code",
        "colab": {
          "base_uri": "https://localhost:8080/",
          "height": 34
        },
        "outputId": "44459c20-04ea-4789-997f-2f4d810790f4"
      },
      "source": [
        "type(np.nan)"
      ],
      "execution_count": 53,
      "outputs": [
        {
          "output_type": "execute_result",
          "data": {
            "text/plain": [
              "float"
            ]
          },
          "metadata": {
            "tags": []
          },
          "execution_count": 53
        }
      ]
    },
    {
      "cell_type": "code",
      "metadata": {
        "id": "ojXMyKxRRxns",
        "colab_type": "code",
        "colab": {
          "base_uri": "https://localhost:8080/",
          "height": 34
        },
        "outputId": "c92a3cbc-b2cb-4e21-86b7-50873edc9ff8"
      },
      "source": [
        "np.nan"
      ],
      "execution_count": 54,
      "outputs": [
        {
          "output_type": "execute_result",
          "data": {
            "text/plain": [
              "nan"
            ]
          },
          "metadata": {
            "tags": []
          },
          "execution_count": 54
        }
      ]
    },
    {
      "cell_type": "markdown",
      "metadata": {
        "id": "gQ0sq-GxWwjB",
        "colab_type": "text"
      },
      "source": [
        "#Operating on Null Values\n",
        "\n",
        "As we have seen, Pandas treats None and NaN as essentially interchangeable for indicating missing or null values. To facilitate this convention, there are several useful\n",
        "methods for detecting, removing, and replacing null values in Pandas data structures.\n",
        "They are:\n",
        "\n",
        "    isnull() : Generate a Boolean mask indicating missing values\n",
        "    notnull() : Opposite of isnull()\n",
        "    dropna() : Return a filtered version of the data\n",
        "    fillna() : Return a copy of the data with missing values filled or imputed\n"
      ]
    },
    {
      "cell_type": "markdown",
      "metadata": {
        "id": "icxQFA7jXOsk",
        "colab_type": "text"
      },
      "source": [
        "# Detecting null values\n",
        "\n",
        "\n",
        "Pandas data structures have two useful methods for detecting null data: isnull() and\n",
        "notnull() . Either one will return a Boolean mask over the data. For example:"
      ]
    },
    {
      "cell_type": "markdown",
      "metadata": {
        "id": "44TIiutXX38T",
        "colab_type": "text"
      },
      "source": [
        "##isnull()\n",
        "\n",
        "Returns \n",
        "boolean value True - where missing data is found (np.nan or None)\n",
        "boolean value False - where actually data exists\n"
      ]
    },
    {
      "cell_type": "markdown",
      "metadata": {
        "id": "N71KTTOlYf4l",
        "colab_type": "text"
      },
      "source": [
        "### isnull() example with series"
      ]
    },
    {
      "cell_type": "code",
      "metadata": {
        "id": "XNZKfN_OXieP",
        "colab_type": "code",
        "outputId": "53b57df1-4f5a-4db1-ba56-5e46a4b2712f",
        "colab": {
          "base_uri": "https://localhost:8080/",
          "height": 121
        }
      },
      "source": [
        "my_series = pd.Series([1, np.nan, 'Handling Pandas Null Value', None , 3.4 ])\n",
        "my_series"
      ],
      "execution_count": 56,
      "outputs": [
        {
          "output_type": "execute_result",
          "data": {
            "text/plain": [
              "0                             1\n",
              "1                           NaN\n",
              "2    Handling Pandas Null Value\n",
              "3                          None\n",
              "4                           3.4\n",
              "dtype: object"
            ]
          },
          "metadata": {
            "tags": []
          },
          "execution_count": 56
        }
      ]
    },
    {
      "cell_type": "code",
      "metadata": {
        "id": "wLyMLTEMX7kX",
        "colab_type": "code",
        "outputId": "d9b9d49f-fac2-4742-8926-62952cc05792",
        "colab": {
          "base_uri": "https://localhost:8080/",
          "height": 121
        }
      },
      "source": [
        "my_series.isnull()"
      ],
      "execution_count": 57,
      "outputs": [
        {
          "output_type": "execute_result",
          "data": {
            "text/plain": [
              "0    False\n",
              "1     True\n",
              "2    False\n",
              "3     True\n",
              "4    False\n",
              "dtype: bool"
            ]
          },
          "metadata": {
            "tags": []
          },
          "execution_count": 57
        }
      ]
    },
    {
      "cell_type": "markdown",
      "metadata": {
        "id": "zwXpwWpdYmFs",
        "colab_type": "text"
      },
      "source": [
        "### isnull() example with dataframe"
      ]
    },
    {
      "cell_type": "code",
      "metadata": {
        "id": "RXFT4UFSiAd2",
        "colab_type": "code",
        "colab": {}
      },
      "source": [
        "df = pd.DataFrame({'A':[0,1,2,np.nan, 4],\n",
        "                  'B':[5,np.nan,np.nan,8,None],\n",
        "                  'C':[10,11,12,13,14]})"
      ],
      "execution_count": 0,
      "outputs": []
    },
    {
      "cell_type": "code",
      "metadata": {
        "id": "zJB831Y9iAeD",
        "colab_type": "code",
        "outputId": "8fa829da-0bfa-42aa-90fd-1878725c00d3",
        "colab": {
          "base_uri": "https://localhost:8080/",
          "height": 206
        }
      },
      "source": [
        "df"
      ],
      "execution_count": 59,
      "outputs": [
        {
          "output_type": "execute_result",
          "data": {
            "text/html": [
              "<div>\n",
              "<style scoped>\n",
              "    .dataframe tbody tr th:only-of-type {\n",
              "        vertical-align: middle;\n",
              "    }\n",
              "\n",
              "    .dataframe tbody tr th {\n",
              "        vertical-align: top;\n",
              "    }\n",
              "\n",
              "    .dataframe thead th {\n",
              "        text-align: right;\n",
              "    }\n",
              "</style>\n",
              "<table border=\"1\" class=\"dataframe\">\n",
              "  <thead>\n",
              "    <tr style=\"text-align: right;\">\n",
              "      <th></th>\n",
              "      <th>A</th>\n",
              "      <th>B</th>\n",
              "      <th>C</th>\n",
              "    </tr>\n",
              "  </thead>\n",
              "  <tbody>\n",
              "    <tr>\n",
              "      <th>0</th>\n",
              "      <td>0.0</td>\n",
              "      <td>5.0</td>\n",
              "      <td>10</td>\n",
              "    </tr>\n",
              "    <tr>\n",
              "      <th>1</th>\n",
              "      <td>1.0</td>\n",
              "      <td>NaN</td>\n",
              "      <td>11</td>\n",
              "    </tr>\n",
              "    <tr>\n",
              "      <th>2</th>\n",
              "      <td>2.0</td>\n",
              "      <td>NaN</td>\n",
              "      <td>12</td>\n",
              "    </tr>\n",
              "    <tr>\n",
              "      <th>3</th>\n",
              "      <td>NaN</td>\n",
              "      <td>8.0</td>\n",
              "      <td>13</td>\n",
              "    </tr>\n",
              "    <tr>\n",
              "      <th>4</th>\n",
              "      <td>4.0</td>\n",
              "      <td>NaN</td>\n",
              "      <td>14</td>\n",
              "    </tr>\n",
              "  </tbody>\n",
              "</table>\n",
              "</div>"
            ],
            "text/plain": [
              "     A    B   C\n",
              "0  0.0  5.0  10\n",
              "1  1.0  NaN  11\n",
              "2  2.0  NaN  12\n",
              "3  NaN  8.0  13\n",
              "4  4.0  NaN  14"
            ]
          },
          "metadata": {
            "tags": []
          },
          "execution_count": 59
        }
      ]
    },
    {
      "cell_type": "code",
      "metadata": {
        "id": "4EK6YgtJZAXU",
        "colab_type": "code",
        "outputId": "a9ba4055-1cb9-4ae9-a288-20d3adc40061",
        "colab": {
          "base_uri": "https://localhost:8080/",
          "height": 206
        }
      },
      "source": [
        "df.isnull()"
      ],
      "execution_count": 60,
      "outputs": [
        {
          "output_type": "execute_result",
          "data": {
            "text/html": [
              "<div>\n",
              "<style scoped>\n",
              "    .dataframe tbody tr th:only-of-type {\n",
              "        vertical-align: middle;\n",
              "    }\n",
              "\n",
              "    .dataframe tbody tr th {\n",
              "        vertical-align: top;\n",
              "    }\n",
              "\n",
              "    .dataframe thead th {\n",
              "        text-align: right;\n",
              "    }\n",
              "</style>\n",
              "<table border=\"1\" class=\"dataframe\">\n",
              "  <thead>\n",
              "    <tr style=\"text-align: right;\">\n",
              "      <th></th>\n",
              "      <th>A</th>\n",
              "      <th>B</th>\n",
              "      <th>C</th>\n",
              "    </tr>\n",
              "  </thead>\n",
              "  <tbody>\n",
              "    <tr>\n",
              "      <th>0</th>\n",
              "      <td>False</td>\n",
              "      <td>False</td>\n",
              "      <td>False</td>\n",
              "    </tr>\n",
              "    <tr>\n",
              "      <th>1</th>\n",
              "      <td>False</td>\n",
              "      <td>True</td>\n",
              "      <td>False</td>\n",
              "    </tr>\n",
              "    <tr>\n",
              "      <th>2</th>\n",
              "      <td>False</td>\n",
              "      <td>True</td>\n",
              "      <td>False</td>\n",
              "    </tr>\n",
              "    <tr>\n",
              "      <th>3</th>\n",
              "      <td>True</td>\n",
              "      <td>False</td>\n",
              "      <td>False</td>\n",
              "    </tr>\n",
              "    <tr>\n",
              "      <th>4</th>\n",
              "      <td>False</td>\n",
              "      <td>True</td>\n",
              "      <td>False</td>\n",
              "    </tr>\n",
              "  </tbody>\n",
              "</table>\n",
              "</div>"
            ],
            "text/plain": [
              "       A      B      C\n",
              "0  False  False  False\n",
              "1  False   True  False\n",
              "2  False   True  False\n",
              "3   True  False  False\n",
              "4  False   True  False"
            ]
          },
          "metadata": {
            "tags": []
          },
          "execution_count": 60
        }
      ]
    },
    {
      "cell_type": "markdown",
      "metadata": {
        "id": "sLPlb8GsZDiS",
        "colab_type": "text"
      },
      "source": [
        "##notnull()\n",
        "\n",
        "Opposite of isnull()\n"
      ]
    },
    {
      "cell_type": "code",
      "metadata": {
        "id": "AJ4wHGYvZQds",
        "colab_type": "code",
        "outputId": "230b01e2-18ae-434f-d388-70811126b2fb",
        "colab": {
          "base_uri": "https://localhost:8080/",
          "height": 206
        }
      },
      "source": [
        "df.notnull()"
      ],
      "execution_count": 61,
      "outputs": [
        {
          "output_type": "execute_result",
          "data": {
            "text/html": [
              "<div>\n",
              "<style scoped>\n",
              "    .dataframe tbody tr th:only-of-type {\n",
              "        vertical-align: middle;\n",
              "    }\n",
              "\n",
              "    .dataframe tbody tr th {\n",
              "        vertical-align: top;\n",
              "    }\n",
              "\n",
              "    .dataframe thead th {\n",
              "        text-align: right;\n",
              "    }\n",
              "</style>\n",
              "<table border=\"1\" class=\"dataframe\">\n",
              "  <thead>\n",
              "    <tr style=\"text-align: right;\">\n",
              "      <th></th>\n",
              "      <th>A</th>\n",
              "      <th>B</th>\n",
              "      <th>C</th>\n",
              "    </tr>\n",
              "  </thead>\n",
              "  <tbody>\n",
              "    <tr>\n",
              "      <th>0</th>\n",
              "      <td>True</td>\n",
              "      <td>True</td>\n",
              "      <td>True</td>\n",
              "    </tr>\n",
              "    <tr>\n",
              "      <th>1</th>\n",
              "      <td>True</td>\n",
              "      <td>False</td>\n",
              "      <td>True</td>\n",
              "    </tr>\n",
              "    <tr>\n",
              "      <th>2</th>\n",
              "      <td>True</td>\n",
              "      <td>False</td>\n",
              "      <td>True</td>\n",
              "    </tr>\n",
              "    <tr>\n",
              "      <th>3</th>\n",
              "      <td>False</td>\n",
              "      <td>True</td>\n",
              "      <td>True</td>\n",
              "    </tr>\n",
              "    <tr>\n",
              "      <th>4</th>\n",
              "      <td>True</td>\n",
              "      <td>False</td>\n",
              "      <td>True</td>\n",
              "    </tr>\n",
              "  </tbody>\n",
              "</table>\n",
              "</div>"
            ],
            "text/plain": [
              "       A      B     C\n",
              "0   True   True  True\n",
              "1   True  False  True\n",
              "2   True  False  True\n",
              "3  False   True  True\n",
              "4   True  False  True"
            ]
          },
          "metadata": {
            "tags": []
          },
          "execution_count": 61
        }
      ]
    },
    {
      "cell_type": "code",
      "metadata": {
        "id": "ufOqVLPAZaGU",
        "colab_type": "code",
        "outputId": "1c1a0fe5-94b0-44b7-b67a-5a9c0a1304a5",
        "colab": {
          "base_uri": "https://localhost:8080/",
          "height": 121
        }
      },
      "source": [
        "my_series"
      ],
      "execution_count": 62,
      "outputs": [
        {
          "output_type": "execute_result",
          "data": {
            "text/plain": [
              "0                             1\n",
              "1                           NaN\n",
              "2    Handling Pandas Null Value\n",
              "3                          None\n",
              "4                           3.4\n",
              "dtype: object"
            ]
          },
          "metadata": {
            "tags": []
          },
          "execution_count": 62
        }
      ]
    },
    {
      "cell_type": "code",
      "metadata": {
        "id": "ryNN9TztZUuT",
        "colab_type": "code",
        "outputId": "8aa263a6-0565-4087-a558-65cb0cea1036",
        "colab": {
          "base_uri": "https://localhost:8080/",
          "height": 121
        }
      },
      "source": [
        "my_series.notnull()"
      ],
      "execution_count": 63,
      "outputs": [
        {
          "output_type": "execute_result",
          "data": {
            "text/plain": [
              "0     True\n",
              "1    False\n",
              "2     True\n",
              "3    False\n",
              "4     True\n",
              "dtype: bool"
            ]
          },
          "metadata": {
            "tags": []
          },
          "execution_count": 63
        }
      ]
    },
    {
      "cell_type": "markdown",
      "metadata": {
        "id": "b7mdI5MEZntb",
        "colab_type": "text"
      },
      "source": [
        "#Dropping null values"
      ]
    },
    {
      "cell_type": "markdown",
      "metadata": {
        "id": "shN_pWNkByIH",
        "colab_type": "text"
      },
      "source": [
        "#dropna()\n",
        "\n",
        "removes NA values\n",
        "\n",
        "\n",
        " https://pandas.pydata.org/pandas-docs/stable/reference/api/pandas.DataFrame.dropna.html       "
      ]
    },
    {
      "cell_type": "markdown",
      "metadata": {
        "id": "vN1mmumsaVGX",
        "colab_type": "text"
      },
      "source": [
        "##dropna on series"
      ]
    },
    {
      "cell_type": "code",
      "metadata": {
        "id": "HKW4uOlfaCPB",
        "colab_type": "code",
        "outputId": "8f3426b0-3876-4fd2-de79-ccad4731c2de",
        "colab": {
          "base_uri": "https://localhost:8080/",
          "height": 86
        }
      },
      "source": [
        "my_series.dropna()"
      ],
      "execution_count": 64,
      "outputs": [
        {
          "output_type": "execute_result",
          "data": {
            "text/plain": [
              "0                             1\n",
              "2    Handling Pandas Null Value\n",
              "4                           3.4\n",
              "dtype: object"
            ]
          },
          "metadata": {
            "tags": []
          },
          "execution_count": 64
        }
      ]
    },
    {
      "cell_type": "code",
      "metadata": {
        "id": "LxvlZFofaGDo",
        "colab_type": "code",
        "outputId": "caf5608a-4cff-4dde-de03-dda521194216",
        "colab": {
          "base_uri": "https://localhost:8080/",
          "height": 121
        }
      },
      "source": [
        "my_series"
      ],
      "execution_count": 65,
      "outputs": [
        {
          "output_type": "execute_result",
          "data": {
            "text/plain": [
              "0                             1\n",
              "1                           NaN\n",
              "2    Handling Pandas Null Value\n",
              "3                          None\n",
              "4                           3.4\n",
              "dtype: object"
            ]
          },
          "metadata": {
            "tags": []
          },
          "execution_count": 65
        }
      ]
    },
    {
      "cell_type": "code",
      "metadata": {
        "id": "_rM4vYj5aI_4",
        "colab_type": "code",
        "outputId": "d33c96d3-b76f-48f0-ac57-79c7783891d0",
        "colab": {
          "base_uri": "https://localhost:8080/",
          "height": 86
        }
      },
      "source": [
        "my_series.dropna(inplace=True)\n",
        "my_series"
      ],
      "execution_count": 67,
      "outputs": [
        {
          "output_type": "execute_result",
          "data": {
            "text/plain": [
              "0                             1\n",
              "2    Handling Pandas Null Value\n",
              "4                           3.4\n",
              "dtype: object"
            ]
          },
          "metadata": {
            "tags": []
          },
          "execution_count": 67
        }
      ]
    },
    {
      "cell_type": "markdown",
      "metadata": {
        "id": "v5YVpJdiaY1T",
        "colab_type": "text"
      },
      "source": [
        "##dropna() on dataframes"
      ]
    },
    {
      "cell_type": "markdown",
      "metadata": {
        "id": "QbqV0EEmbAE9",
        "colab_type": "text"
      },
      "source": [
        "#Drop NaN values row-wise\n",
        "\n",
        "bydafault axis = 0"
      ]
    },
    {
      "cell_type": "code",
      "metadata": {
        "id": "EL3rN6r5ae3f",
        "colab_type": "code",
        "outputId": "050c41c2-778e-4276-f0da-71b5fcffd0d5",
        "colab": {
          "base_uri": "https://localhost:8080/",
          "height": 191
        }
      },
      "source": [
        "df = pd.DataFrame({'A':[0,1,2,np.nan, 4],\n",
        "                  'B':[5,np.nan,np.nan,8,None],\n",
        "                  'C':[10,11,12,13,14]})\n",
        "print(df)\n",
        "\n",
        "df.dropna(axis=0, inplace=True)\n",
        "print(\"\\n\")\n",
        "print(df)"
      ],
      "execution_count": 69,
      "outputs": [
        {
          "output_type": "stream",
          "text": [
            "     A    B   C\n",
            "0  0.0  5.0  10\n",
            "1  1.0  NaN  11\n",
            "2  2.0  NaN  12\n",
            "3  NaN  8.0  13\n",
            "4  4.0  NaN  14\n",
            "\n",
            "\n",
            "     A    B   C\n",
            "0  0.0  5.0  10\n"
          ],
          "name": "stdout"
        }
      ]
    },
    {
      "cell_type": "markdown",
      "metadata": {
        "id": "76FahBvwa0QD",
        "colab_type": "text"
      },
      "source": [
        "#Drop NaN values column-wise\n",
        "\n",
        " axis = 1"
      ]
    },
    {
      "cell_type": "code",
      "metadata": {
        "id": "hJiVSPA5a0mW",
        "colab_type": "code",
        "outputId": "dd76d7a5-551c-4cf6-f1ba-12333b5fc75e",
        "colab": {
          "base_uri": "https://localhost:8080/",
          "height": 260
        }
      },
      "source": [
        "df = pd.DataFrame({'A':[0,1,2,np.nan, 4],\n",
        "                  'B':[5,np.nan,np.nan,8,None],\n",
        "                  'C':[10,11,12,13,14]})\n",
        "print(df)\n",
        "df.dropna(axis=1, inplace=True)\n",
        "print(\"\\n\")\n",
        "print(df)"
      ],
      "execution_count": 71,
      "outputs": [
        {
          "output_type": "stream",
          "text": [
            "     A    B   C\n",
            "0  0.0  5.0  10\n",
            "1  1.0  NaN  11\n",
            "2  2.0  NaN  12\n",
            "3  NaN  8.0  13\n",
            "4  4.0  NaN  14\n",
            "\n",
            "\n",
            "    C\n",
            "0  10\n",
            "1  11\n",
            "2  12\n",
            "3  13\n",
            "4  14\n"
          ],
          "name": "stdout"
        }
      ]
    },
    {
      "cell_type": "markdown",
      "metadata": {
        "id": "d9yt9Vi5bcHo",
        "colab_type": "text"
      },
      "source": [
        "## Drop only those rows having 2 nan values"
      ]
    },
    {
      "cell_type": "code",
      "metadata": {
        "id": "QRjCu7W2iAew",
        "colab_type": "code",
        "outputId": "480b50d7-ab2c-4543-fe73-b279610a818c",
        "colab": {
          "base_uri": "https://localhost:8080/",
          "height": 243
        }
      },
      "source": [
        "#It will look 2 nan values row-wise as by default axis = 0\n",
        "df = pd.DataFrame({'A':[0,1,2,np.nan, np.nan],\n",
        "                  'B':[5,np.nan,np.nan,8,None],\n",
        "                  'C':[10,11,12,13,None],\n",
        "                  'D':[10,11,12,13,14]})\n",
        "print(df)\n",
        "df.dropna( thresh=2 ,inplace=True)\n",
        "print(\"\\n\")\n",
        "print(df)\n"
      ],
      "execution_count": 87,
      "outputs": [
        {
          "output_type": "stream",
          "text": [
            "     A    B     C   D\n",
            "0  0.0  5.0  10.0  10\n",
            "1  1.0  NaN  11.0  11\n",
            "2  2.0  NaN  12.0  12\n",
            "3  NaN  8.0  13.0  13\n",
            "4  NaN  NaN   NaN  14\n",
            "\n",
            "\n",
            "     A    B     C   D\n",
            "0  0.0  5.0  10.0  10\n",
            "1  1.0  NaN  11.0  11\n",
            "2  2.0  NaN  12.0  12\n",
            "3  NaN  8.0  13.0  13\n"
          ],
          "name": "stdout"
        }
      ]
    },
    {
      "cell_type": "code",
      "metadata": {
        "id": "1X6a6fVFce9H",
        "colab_type": "code",
        "outputId": "6bf0941a-9f77-4c80-a349-2c1729f5b38b",
        "colab": {
          "base_uri": "https://localhost:8080/",
          "height": 260
        }
      },
      "source": [
        "#It will look 'any' nan values column-wise\n",
        "df = pd.DataFrame({'A':[0,1,2,np.nan, np.nan],\n",
        "                  'B':[5,np.nan,np.nan,8,9],\n",
        "                  'C':[10,11,12,13,14]})\n",
        "print(df)\n",
        "df.dropna(axis = 1, how='any' , inplace=True)\n",
        "print(\"\\n\")\n",
        "print(df)\n"
      ],
      "execution_count": 91,
      "outputs": [
        {
          "output_type": "stream",
          "text": [
            "     A    B   C\n",
            "0  0.0  5.0  10\n",
            "1  1.0  NaN  11\n",
            "2  2.0  NaN  12\n",
            "3  NaN  8.0  13\n",
            "4  NaN  9.0  14\n",
            "\n",
            "\n",
            "    C\n",
            "0  10\n",
            "1  11\n",
            "2  12\n",
            "3  13\n",
            "4  14\n"
          ],
          "name": "stdout"
        }
      ]
    },
    {
      "cell_type": "code",
      "metadata": {
        "id": "tLLib6ZFd1eE",
        "colab_type": "code",
        "outputId": "47fd0552-28e6-4682-8726-aa427abef1a5",
        "colab": {
          "base_uri": "https://localhost:8080/",
          "height": 260
        }
      },
      "source": [
        "#It will look 'all' nan values column-wise\n",
        "df = pd.DataFrame({'A':[0,1,2,np.nan, np.nan],\n",
        "                  'B':[5,np.nan,np.nan,8,9],\n",
        "                  'C':[10,11,12,13,14],\n",
        "                   'D': [np.nan,np.nan,np.nan,np.nan,np.nan]})\n",
        "print(df)\n",
        "df.dropna(axis = 1, how='all' , inplace=True)\n",
        "print(\"\\n\")\n",
        "print(df)\n"
      ],
      "execution_count": 92,
      "outputs": [
        {
          "output_type": "stream",
          "text": [
            "     A    B   C   D\n",
            "0  0.0  5.0  10 NaN\n",
            "1  1.0  NaN  11 NaN\n",
            "2  2.0  NaN  12 NaN\n",
            "3  NaN  8.0  13 NaN\n",
            "4  NaN  9.0  14 NaN\n",
            "\n",
            "\n",
            "     A    B   C\n",
            "0  0.0  5.0  10\n",
            "1  1.0  NaN  11\n",
            "2  2.0  NaN  12\n",
            "3  NaN  8.0  13\n",
            "4  NaN  9.0  14\n"
          ],
          "name": "stdout"
        }
      ]
    },
    {
      "cell_type": "code",
      "metadata": {
        "id": "p-Xz7GCgeLHy",
        "colab_type": "code",
        "colab": {}
      },
      "source": [
        ""
      ],
      "execution_count": 0,
      "outputs": []
    },
    {
      "cell_type": "markdown",
      "metadata": {
        "id": "u2qdaEfQEbg6",
        "colab_type": "text"
      },
      "source": [
        "#Filling null values\n",
        "\n",
        "Sometimes rather than dropping NA values, you’d rather replace them with a valid\n",
        "value. This value might be a single number like zero, or it might be some sort of\n",
        "imputation or interpolation from the good values. You could do this in-place using\n",
        "the isnull() method as a mask, but because it is such a common operation Pandas\n",
        "provides the fillna() method, which returns a copy of the array with the null values\n",
        "replaced."
      ]
    },
    {
      "cell_type": "code",
      "metadata": {
        "id": "qo-RHmPHe2NM",
        "colab_type": "code",
        "outputId": "8781399f-c326-4dcf-ed89-f841de3dff87",
        "colab": {
          "base_uri": "https://localhost:8080/",
          "height": 121
        }
      },
      "source": [
        "my_series = pd.Series([1, np.nan, 2, None, 3], index=list('abcde'))\n",
        "my_series"
      ],
      "execution_count": 93,
      "outputs": [
        {
          "output_type": "execute_result",
          "data": {
            "text/plain": [
              "a    1.0\n",
              "b    NaN\n",
              "c    2.0\n",
              "d    NaN\n",
              "e    3.0\n",
              "dtype: float64"
            ]
          },
          "metadata": {
            "tags": []
          },
          "execution_count": 93
        }
      ]
    },
    {
      "cell_type": "markdown",
      "metadata": {
        "id": "1DLeQSHBfAL_",
        "colab_type": "text"
      },
      "source": [
        "We can fill NA entries with a single value, such as zero:"
      ]
    },
    {
      "cell_type": "code",
      "metadata": {
        "id": "qwLUc0W1e6wI",
        "colab_type": "code",
        "outputId": "3b999912-7d38-40f4-e002-01161e1696e5",
        "colab": {
          "base_uri": "https://localhost:8080/",
          "height": 121
        }
      },
      "source": [
        "my_series.fillna(0)"
      ],
      "execution_count": 94,
      "outputs": [
        {
          "output_type": "execute_result",
          "data": {
            "text/plain": [
              "a    1.0\n",
              "b    0.0\n",
              "c    2.0\n",
              "d    0.0\n",
              "e    3.0\n",
              "dtype: float64"
            ]
          },
          "metadata": {
            "tags": []
          },
          "execution_count": 94
        }
      ]
    },
    {
      "cell_type": "markdown",
      "metadata": {
        "id": "l-A1OpqBfUBH",
        "colab_type": "text"
      },
      "source": [
        "We can specify a forward-fill to propagate the previous value forward:"
      ]
    },
    {
      "cell_type": "code",
      "metadata": {
        "id": "L7jeuqbjfTJ4",
        "colab_type": "code",
        "outputId": "236566c7-d440-48af-be97-cbfea17da8a6",
        "colab": {
          "base_uri": "https://localhost:8080/",
          "height": 121
        }
      },
      "source": [
        "my_series.ffill()"
      ],
      "execution_count": 0,
      "outputs": [
        {
          "output_type": "execute_result",
          "data": {
            "text/plain": [
              "a    1.0\n",
              "b    1.0\n",
              "c    2.0\n",
              "d    2.0\n",
              "e    3.0\n",
              "dtype: float64"
            ]
          },
          "metadata": {
            "tags": []
          },
          "execution_count": 66
        }
      ]
    },
    {
      "cell_type": "markdown",
      "metadata": {
        "id": "tLwDVYJFfvgo",
        "colab_type": "text"
      },
      "source": [
        "Or we can specify a back-fill to propagate the next values backward:"
      ]
    },
    {
      "cell_type": "code",
      "metadata": {
        "id": "PXh7va0jflp7",
        "colab_type": "code",
        "outputId": "03f2d473-7030-4f31-bdf2-ea1e3e1d5461",
        "colab": {
          "base_uri": "https://localhost:8080/",
          "height": 121
        }
      },
      "source": [
        "my_series.bfill()"
      ],
      "execution_count": 0,
      "outputs": [
        {
          "output_type": "execute_result",
          "data": {
            "text/plain": [
              "a    1.0\n",
              "b    2.0\n",
              "c    2.0\n",
              "d    3.0\n",
              "e    3.0\n",
              "dtype: float64"
            ]
          },
          "metadata": {
            "tags": []
          },
          "execution_count": 67
        }
      ]
    },
    {
      "cell_type": "code",
      "metadata": {
        "id": "JmFzUtb4gH8o",
        "colab_type": "code",
        "outputId": "d2d77455-0fae-46d7-da86-8976f792611e",
        "colab": {
          "base_uri": "https://localhost:8080/",
          "height": 206
        }
      },
      "source": [
        "df = pd.DataFrame({'A':[0,1,2,np.nan, np.nan],\n",
        "                  'B':[5,np.nan,np.nan,8,9],\n",
        "                  'C':[10,11,12,13,14],\n",
        "                   'D': [np.nan,np.nan,np.nan,np.nan,np.nan]})\n",
        "\n",
        "df.fillna('Fill Value')"
      ],
      "execution_count": 95,
      "outputs": [
        {
          "output_type": "execute_result",
          "data": {
            "text/html": [
              "<div>\n",
              "<style scoped>\n",
              "    .dataframe tbody tr th:only-of-type {\n",
              "        vertical-align: middle;\n",
              "    }\n",
              "\n",
              "    .dataframe tbody tr th {\n",
              "        vertical-align: top;\n",
              "    }\n",
              "\n",
              "    .dataframe thead th {\n",
              "        text-align: right;\n",
              "    }\n",
              "</style>\n",
              "<table border=\"1\" class=\"dataframe\">\n",
              "  <thead>\n",
              "    <tr style=\"text-align: right;\">\n",
              "      <th></th>\n",
              "      <th>A</th>\n",
              "      <th>B</th>\n",
              "      <th>C</th>\n",
              "      <th>D</th>\n",
              "    </tr>\n",
              "  </thead>\n",
              "  <tbody>\n",
              "    <tr>\n",
              "      <th>0</th>\n",
              "      <td>0</td>\n",
              "      <td>5</td>\n",
              "      <td>10</td>\n",
              "      <td>Fill Value</td>\n",
              "    </tr>\n",
              "    <tr>\n",
              "      <th>1</th>\n",
              "      <td>1</td>\n",
              "      <td>Fill Value</td>\n",
              "      <td>11</td>\n",
              "      <td>Fill Value</td>\n",
              "    </tr>\n",
              "    <tr>\n",
              "      <th>2</th>\n",
              "      <td>2</td>\n",
              "      <td>Fill Value</td>\n",
              "      <td>12</td>\n",
              "      <td>Fill Value</td>\n",
              "    </tr>\n",
              "    <tr>\n",
              "      <th>3</th>\n",
              "      <td>Fill Value</td>\n",
              "      <td>8</td>\n",
              "      <td>13</td>\n",
              "      <td>Fill Value</td>\n",
              "    </tr>\n",
              "    <tr>\n",
              "      <th>4</th>\n",
              "      <td>Fill Value</td>\n",
              "      <td>9</td>\n",
              "      <td>14</td>\n",
              "      <td>Fill Value</td>\n",
              "    </tr>\n",
              "  </tbody>\n",
              "</table>\n",
              "</div>"
            ],
            "text/plain": [
              "            A           B   C           D\n",
              "0           0           5  10  Fill Value\n",
              "1           1  Fill Value  11  Fill Value\n",
              "2           2  Fill Value  12  Fill Value\n",
              "3  Fill Value           8  13  Fill Value\n",
              "4  Fill Value           9  14  Fill Value"
            ]
          },
          "metadata": {
            "tags": []
          },
          "execution_count": 95
        }
      ]
    },
    {
      "cell_type": "code",
      "metadata": {
        "id": "3oFy2h9zgQJA",
        "colab_type": "code",
        "outputId": "1ba94dc6-720f-4107-c3bc-b8e838ece888",
        "colab": {
          "base_uri": "https://localhost:8080/",
          "height": 206
        }
      },
      "source": [
        "df = pd.DataFrame({'A':[0,1,2,np.nan, np.nan],\n",
        "                  'B':[5,np.nan,np.nan,8,9],\n",
        "                  'C':[10,11,12,13,14],\n",
        "                   'D': [np.nan,np.nan,np.nan,np.nan,np.nan]})\n",
        "\n",
        "df.fillna(0)"
      ],
      "execution_count": 97,
      "outputs": [
        {
          "output_type": "execute_result",
          "data": {
            "text/html": [
              "<div>\n",
              "<style scoped>\n",
              "    .dataframe tbody tr th:only-of-type {\n",
              "        vertical-align: middle;\n",
              "    }\n",
              "\n",
              "    .dataframe tbody tr th {\n",
              "        vertical-align: top;\n",
              "    }\n",
              "\n",
              "    .dataframe thead th {\n",
              "        text-align: right;\n",
              "    }\n",
              "</style>\n",
              "<table border=\"1\" class=\"dataframe\">\n",
              "  <thead>\n",
              "    <tr style=\"text-align: right;\">\n",
              "      <th></th>\n",
              "      <th>A</th>\n",
              "      <th>B</th>\n",
              "      <th>C</th>\n",
              "      <th>D</th>\n",
              "    </tr>\n",
              "  </thead>\n",
              "  <tbody>\n",
              "    <tr>\n",
              "      <th>0</th>\n",
              "      <td>0.0</td>\n",
              "      <td>5.0</td>\n",
              "      <td>10</td>\n",
              "      <td>0.0</td>\n",
              "    </tr>\n",
              "    <tr>\n",
              "      <th>1</th>\n",
              "      <td>1.0</td>\n",
              "      <td>0.0</td>\n",
              "      <td>11</td>\n",
              "      <td>0.0</td>\n",
              "    </tr>\n",
              "    <tr>\n",
              "      <th>2</th>\n",
              "      <td>2.0</td>\n",
              "      <td>0.0</td>\n",
              "      <td>12</td>\n",
              "      <td>0.0</td>\n",
              "    </tr>\n",
              "    <tr>\n",
              "      <th>3</th>\n",
              "      <td>0.0</td>\n",
              "      <td>8.0</td>\n",
              "      <td>13</td>\n",
              "      <td>0.0</td>\n",
              "    </tr>\n",
              "    <tr>\n",
              "      <th>4</th>\n",
              "      <td>0.0</td>\n",
              "      <td>9.0</td>\n",
              "      <td>14</td>\n",
              "      <td>0.0</td>\n",
              "    </tr>\n",
              "  </tbody>\n",
              "</table>\n",
              "</div>"
            ],
            "text/plain": [
              "     A    B   C    D\n",
              "0  0.0  5.0  10  0.0\n",
              "1  1.0  0.0  11  0.0\n",
              "2  2.0  0.0  12  0.0\n",
              "3  0.0  8.0  13  0.0\n",
              "4  0.0  9.0  14  0.0"
            ]
          },
          "metadata": {
            "tags": []
          },
          "execution_count": 97
        }
      ]
    },
    {
      "cell_type": "code",
      "metadata": {
        "id": "rCin_SAkgTa7",
        "colab_type": "code",
        "outputId": "67558028-d1ff-4ad1-d48b-606588eefda9",
        "colab": {
          "base_uri": "https://localhost:8080/",
          "height": 206
        }
      },
      "source": [
        "df = pd.DataFrame({'A':[0,1,2,np.nan, np.nan],\n",
        "                  'B':[5,np.nan,np.nan,8,9],\n",
        "                  'C':[10,11,12,13,14],\n",
        "                   'D': [np.nan,np.nan,np.nan,np.nan,np.nan]})\n",
        "\n",
        "\n",
        "df.ffill()\n"
      ],
      "execution_count": 100,
      "outputs": [
        {
          "output_type": "execute_result",
          "data": {
            "text/html": [
              "<div>\n",
              "<style scoped>\n",
              "    .dataframe tbody tr th:only-of-type {\n",
              "        vertical-align: middle;\n",
              "    }\n",
              "\n",
              "    .dataframe tbody tr th {\n",
              "        vertical-align: top;\n",
              "    }\n",
              "\n",
              "    .dataframe thead th {\n",
              "        text-align: right;\n",
              "    }\n",
              "</style>\n",
              "<table border=\"1\" class=\"dataframe\">\n",
              "  <thead>\n",
              "    <tr style=\"text-align: right;\">\n",
              "      <th></th>\n",
              "      <th>A</th>\n",
              "      <th>B</th>\n",
              "      <th>C</th>\n",
              "      <th>D</th>\n",
              "    </tr>\n",
              "  </thead>\n",
              "  <tbody>\n",
              "    <tr>\n",
              "      <th>0</th>\n",
              "      <td>0.0</td>\n",
              "      <td>5.0</td>\n",
              "      <td>10</td>\n",
              "      <td>NaN</td>\n",
              "    </tr>\n",
              "    <tr>\n",
              "      <th>1</th>\n",
              "      <td>1.0</td>\n",
              "      <td>5.0</td>\n",
              "      <td>11</td>\n",
              "      <td>NaN</td>\n",
              "    </tr>\n",
              "    <tr>\n",
              "      <th>2</th>\n",
              "      <td>2.0</td>\n",
              "      <td>5.0</td>\n",
              "      <td>12</td>\n",
              "      <td>NaN</td>\n",
              "    </tr>\n",
              "    <tr>\n",
              "      <th>3</th>\n",
              "      <td>2.0</td>\n",
              "      <td>8.0</td>\n",
              "      <td>13</td>\n",
              "      <td>NaN</td>\n",
              "    </tr>\n",
              "    <tr>\n",
              "      <th>4</th>\n",
              "      <td>2.0</td>\n",
              "      <td>9.0</td>\n",
              "      <td>14</td>\n",
              "      <td>NaN</td>\n",
              "    </tr>\n",
              "  </tbody>\n",
              "</table>\n",
              "</div>"
            ],
            "text/plain": [
              "     A    B   C   D\n",
              "0  0.0  5.0  10 NaN\n",
              "1  1.0  5.0  11 NaN\n",
              "2  2.0  5.0  12 NaN\n",
              "3  2.0  8.0  13 NaN\n",
              "4  2.0  9.0  14 NaN"
            ]
          },
          "metadata": {
            "tags": []
          },
          "execution_count": 100
        }
      ]
    },
    {
      "cell_type": "markdown",
      "metadata": {
        "id": "CNzM9IIEgcg3",
        "colab_type": "text"
      },
      "source": [
        "Notice that if a previous value is not available during a forward fill, the NA value remains."
      ]
    },
    {
      "cell_type": "code",
      "metadata": {
        "id": "CgEN6G5tgic7",
        "colab_type": "code",
        "outputId": "9ceaffdd-365b-4b04-960f-d2b7370e2c49",
        "colab": {
          "base_uri": "https://localhost:8080/",
          "height": 206
        }
      },
      "source": [
        "df = pd.DataFrame({'A':[0,1,2,np.nan, np.nan],\n",
        "                  'B':[5,np.nan,np.nan,8,9],\n",
        "                  'C':[10,11,12,13,14],\n",
        "                   'D': [np.nan,np.nan,np.nan,np.nan,np.nan]})\n",
        "df.bfill()\n"
      ],
      "execution_count": 101,
      "outputs": [
        {
          "output_type": "execute_result",
          "data": {
            "text/html": [
              "<div>\n",
              "<style scoped>\n",
              "    .dataframe tbody tr th:only-of-type {\n",
              "        vertical-align: middle;\n",
              "    }\n",
              "\n",
              "    .dataframe tbody tr th {\n",
              "        vertical-align: top;\n",
              "    }\n",
              "\n",
              "    .dataframe thead th {\n",
              "        text-align: right;\n",
              "    }\n",
              "</style>\n",
              "<table border=\"1\" class=\"dataframe\">\n",
              "  <thead>\n",
              "    <tr style=\"text-align: right;\">\n",
              "      <th></th>\n",
              "      <th>A</th>\n",
              "      <th>B</th>\n",
              "      <th>C</th>\n",
              "      <th>D</th>\n",
              "    </tr>\n",
              "  </thead>\n",
              "  <tbody>\n",
              "    <tr>\n",
              "      <th>0</th>\n",
              "      <td>0.0</td>\n",
              "      <td>5.0</td>\n",
              "      <td>10</td>\n",
              "      <td>NaN</td>\n",
              "    </tr>\n",
              "    <tr>\n",
              "      <th>1</th>\n",
              "      <td>1.0</td>\n",
              "      <td>8.0</td>\n",
              "      <td>11</td>\n",
              "      <td>NaN</td>\n",
              "    </tr>\n",
              "    <tr>\n",
              "      <th>2</th>\n",
              "      <td>2.0</td>\n",
              "      <td>8.0</td>\n",
              "      <td>12</td>\n",
              "      <td>NaN</td>\n",
              "    </tr>\n",
              "    <tr>\n",
              "      <th>3</th>\n",
              "      <td>NaN</td>\n",
              "      <td>8.0</td>\n",
              "      <td>13</td>\n",
              "      <td>NaN</td>\n",
              "    </tr>\n",
              "    <tr>\n",
              "      <th>4</th>\n",
              "      <td>NaN</td>\n",
              "      <td>9.0</td>\n",
              "      <td>14</td>\n",
              "      <td>NaN</td>\n",
              "    </tr>\n",
              "  </tbody>\n",
              "</table>\n",
              "</div>"
            ],
            "text/plain": [
              "     A    B   C   D\n",
              "0  0.0  5.0  10 NaN\n",
              "1  1.0  8.0  11 NaN\n",
              "2  2.0  8.0  12 NaN\n",
              "3  NaN  8.0  13 NaN\n",
              "4  NaN  9.0  14 NaN"
            ]
          },
          "metadata": {
            "tags": []
          },
          "execution_count": 101
        }
      ]
    },
    {
      "cell_type": "code",
      "metadata": {
        "id": "7Vlr4Kxegm8h",
        "colab_type": "code",
        "outputId": "3e542d9b-5d39-42a2-bfa4-faa9d37d2142",
        "colab": {
          "base_uri": "https://localhost:8080/",
          "height": 237
        }
      },
      "source": [
        "df = pd.DataFrame({'A':[0,1,2,np.nan, np.nan,99],\n",
        "                  'B':[5,np.nan,np.nan,8,9,99],\n",
        "                  'C':[10,np.nan,12,13,14,99],\n",
        "                   'D': [np.nan,np.nan,np.nan,np.nan,np.nan,99]})\n",
        "\n",
        "df.bfill()"
      ],
      "execution_count": 102,
      "outputs": [
        {
          "output_type": "execute_result",
          "data": {
            "text/html": [
              "<div>\n",
              "<style scoped>\n",
              "    .dataframe tbody tr th:only-of-type {\n",
              "        vertical-align: middle;\n",
              "    }\n",
              "\n",
              "    .dataframe tbody tr th {\n",
              "        vertical-align: top;\n",
              "    }\n",
              "\n",
              "    .dataframe thead th {\n",
              "        text-align: right;\n",
              "    }\n",
              "</style>\n",
              "<table border=\"1\" class=\"dataframe\">\n",
              "  <thead>\n",
              "    <tr style=\"text-align: right;\">\n",
              "      <th></th>\n",
              "      <th>A</th>\n",
              "      <th>B</th>\n",
              "      <th>C</th>\n",
              "      <th>D</th>\n",
              "    </tr>\n",
              "  </thead>\n",
              "  <tbody>\n",
              "    <tr>\n",
              "      <th>0</th>\n",
              "      <td>0.0</td>\n",
              "      <td>5.0</td>\n",
              "      <td>10.0</td>\n",
              "      <td>99.0</td>\n",
              "    </tr>\n",
              "    <tr>\n",
              "      <th>1</th>\n",
              "      <td>1.0</td>\n",
              "      <td>8.0</td>\n",
              "      <td>12.0</td>\n",
              "      <td>99.0</td>\n",
              "    </tr>\n",
              "    <tr>\n",
              "      <th>2</th>\n",
              "      <td>2.0</td>\n",
              "      <td>8.0</td>\n",
              "      <td>12.0</td>\n",
              "      <td>99.0</td>\n",
              "    </tr>\n",
              "    <tr>\n",
              "      <th>3</th>\n",
              "      <td>99.0</td>\n",
              "      <td>8.0</td>\n",
              "      <td>13.0</td>\n",
              "      <td>99.0</td>\n",
              "    </tr>\n",
              "    <tr>\n",
              "      <th>4</th>\n",
              "      <td>99.0</td>\n",
              "      <td>9.0</td>\n",
              "      <td>14.0</td>\n",
              "      <td>99.0</td>\n",
              "    </tr>\n",
              "    <tr>\n",
              "      <th>5</th>\n",
              "      <td>99.0</td>\n",
              "      <td>99.0</td>\n",
              "      <td>99.0</td>\n",
              "      <td>99.0</td>\n",
              "    </tr>\n",
              "  </tbody>\n",
              "</table>\n",
              "</div>"
            ],
            "text/plain": [
              "      A     B     C     D\n",
              "0   0.0   5.0  10.0  99.0\n",
              "1   1.0   8.0  12.0  99.0\n",
              "2   2.0   8.0  12.0  99.0\n",
              "3  99.0   8.0  13.0  99.0\n",
              "4  99.0   9.0  14.0  99.0\n",
              "5  99.0  99.0  99.0  99.0"
            ]
          },
          "metadata": {
            "tags": []
          },
          "execution_count": 102
        }
      ]
    },
    {
      "cell_type": "code",
      "metadata": {
        "id": "WJ3v8fRBhsDz",
        "colab_type": "code",
        "outputId": "8c3e5974-c0a7-4974-c028-a8698e77a002",
        "colab": {
          "base_uri": "https://localhost:8080/",
          "height": 237
        }
      },
      "source": [
        "df"
      ],
      "execution_count": 103,
      "outputs": [
        {
          "output_type": "execute_result",
          "data": {
            "text/html": [
              "<div>\n",
              "<style scoped>\n",
              "    .dataframe tbody tr th:only-of-type {\n",
              "        vertical-align: middle;\n",
              "    }\n",
              "\n",
              "    .dataframe tbody tr th {\n",
              "        vertical-align: top;\n",
              "    }\n",
              "\n",
              "    .dataframe thead th {\n",
              "        text-align: right;\n",
              "    }\n",
              "</style>\n",
              "<table border=\"1\" class=\"dataframe\">\n",
              "  <thead>\n",
              "    <tr style=\"text-align: right;\">\n",
              "      <th></th>\n",
              "      <th>A</th>\n",
              "      <th>B</th>\n",
              "      <th>C</th>\n",
              "      <th>D</th>\n",
              "    </tr>\n",
              "  </thead>\n",
              "  <tbody>\n",
              "    <tr>\n",
              "      <th>0</th>\n",
              "      <td>0.0</td>\n",
              "      <td>5.0</td>\n",
              "      <td>10.0</td>\n",
              "      <td>NaN</td>\n",
              "    </tr>\n",
              "    <tr>\n",
              "      <th>1</th>\n",
              "      <td>1.0</td>\n",
              "      <td>NaN</td>\n",
              "      <td>NaN</td>\n",
              "      <td>NaN</td>\n",
              "    </tr>\n",
              "    <tr>\n",
              "      <th>2</th>\n",
              "      <td>2.0</td>\n",
              "      <td>NaN</td>\n",
              "      <td>12.0</td>\n",
              "      <td>NaN</td>\n",
              "    </tr>\n",
              "    <tr>\n",
              "      <th>3</th>\n",
              "      <td>NaN</td>\n",
              "      <td>8.0</td>\n",
              "      <td>13.0</td>\n",
              "      <td>NaN</td>\n",
              "    </tr>\n",
              "    <tr>\n",
              "      <th>4</th>\n",
              "      <td>NaN</td>\n",
              "      <td>9.0</td>\n",
              "      <td>14.0</td>\n",
              "      <td>NaN</td>\n",
              "    </tr>\n",
              "    <tr>\n",
              "      <th>5</th>\n",
              "      <td>99.0</td>\n",
              "      <td>99.0</td>\n",
              "      <td>99.0</td>\n",
              "      <td>99.0</td>\n",
              "    </tr>\n",
              "  </tbody>\n",
              "</table>\n",
              "</div>"
            ],
            "text/plain": [
              "      A     B     C     D\n",
              "0   0.0   5.0  10.0   NaN\n",
              "1   1.0   NaN   NaN   NaN\n",
              "2   2.0   NaN  12.0   NaN\n",
              "3   NaN   8.0  13.0   NaN\n",
              "4   NaN   9.0  14.0   NaN\n",
              "5  99.0  99.0  99.0  99.0"
            ]
          },
          "metadata": {
            "tags": []
          },
          "execution_count": 103
        }
      ]
    },
    {
      "cell_type": "code",
      "metadata": {
        "id": "J_KaC7hzhxIk",
        "colab_type": "code",
        "outputId": "746531a0-c07a-463f-c64c-d16c488c64fc",
        "colab": {
          "base_uri": "https://localhost:8080/",
          "height": 34
        }
      },
      "source": [
        "df['A'].mean()"
      ],
      "execution_count": 104,
      "outputs": [
        {
          "output_type": "execute_result",
          "data": {
            "text/plain": [
              "25.5"
            ]
          },
          "metadata": {
            "tags": []
          },
          "execution_count": 104
        }
      ]
    },
    {
      "cell_type": "markdown",
      "metadata": {
        "id": "aPKY1aMPh5P3",
        "colab_type": "text"
      },
      "source": [
        "#Replacing the nan values with the mean of the respective column\n"
      ]
    },
    {
      "cell_type": "code",
      "metadata": {
        "id": "0EENrG9-iAfF",
        "colab_type": "code",
        "outputId": "cfcf5769-8c4c-4567-b434-be1297c646e4",
        "colab": {
          "base_uri": "https://localhost:8080/",
          "height": 139
        }
      },
      "source": [
        "df['A'].fillna(value=df['A'].mean())"
      ],
      "execution_count": 105,
      "outputs": [
        {
          "output_type": "execute_result",
          "data": {
            "text/plain": [
              "0     0.0\n",
              "1     1.0\n",
              "2     2.0\n",
              "3    25.5\n",
              "4    25.5\n",
              "5    99.0\n",
              "Name: A, dtype: float64"
            ]
          },
          "metadata": {
            "tags": []
          },
          "execution_count": 105
        }
      ]
    },
    {
      "cell_type": "markdown",
      "metadata": {
        "id": "Lx1ctDrTiDUu",
        "colab_type": "text"
      },
      "source": [
        "#Replacing the nan values with the median of the respective column\n"
      ]
    },
    {
      "cell_type": "code",
      "metadata": {
        "id": "90cIX8ewhz7T",
        "colab_type": "code",
        "outputId": "9c14809f-a136-4f4d-c896-145265870667",
        "colab": {
          "base_uri": "https://localhost:8080/",
          "height": 34
        }
      },
      "source": [
        "df['A'].median()"
      ],
      "execution_count": 106,
      "outputs": [
        {
          "output_type": "execute_result",
          "data": {
            "text/plain": [
              "1.5"
            ]
          },
          "metadata": {
            "tags": []
          },
          "execution_count": 106
        }
      ]
    },
    {
      "cell_type": "code",
      "metadata": {
        "id": "JAT4RgyKiR9a",
        "colab_type": "code",
        "outputId": "d335e905-3a9d-4349-80fe-5b154b2fc73d",
        "colab": {
          "base_uri": "https://localhost:8080/",
          "height": 139
        }
      },
      "source": [
        "df['A'].fillna(value = df['A'].median() )"
      ],
      "execution_count": 107,
      "outputs": [
        {
          "output_type": "execute_result",
          "data": {
            "text/plain": [
              "0     0.0\n",
              "1     1.0\n",
              "2     2.0\n",
              "3     1.5\n",
              "4     1.5\n",
              "5    99.0\n",
              "Name: A, dtype: float64"
            ]
          },
          "metadata": {
            "tags": []
          },
          "execution_count": 107
        }
      ]
    },
    {
      "cell_type": "markdown",
      "metadata": {
        "id": "oGBwTD4TjF1F",
        "colab_type": "text"
      },
      "source": [
        "#Replacing the nan values with the MODE of the respective column\n"
      ]
    },
    {
      "cell_type": "code",
      "metadata": {
        "id": "7vGidnrAiX_y",
        "colab_type": "code",
        "colab": {}
      },
      "source": [
        "df = pd.DataFrame({'A':[0,1,2,2,np.nan, np.nan,99],\n",
        "                  'B':[5,np.nan,5,np.nan,6,6,99],\n",
        "                  'C':[10,np.nan,10,10,14,99,14],\n",
        "                  'D':[1,np.nan,1,2,3,3,2] })"
      ],
      "execution_count": 0,
      "outputs": []
    },
    {
      "cell_type": "code",
      "metadata": {
        "id": "k0IKjZTejOw4",
        "colab_type": "code",
        "outputId": "e6e42b74-4bac-474e-d165-724753e163a8",
        "colab": {
          "base_uri": "https://localhost:8080/",
          "height": 86
        }
      },
      "source": [
        "df['D'].mode()"
      ],
      "execution_count": 109,
      "outputs": [
        {
          "output_type": "execute_result",
          "data": {
            "text/plain": [
              "0    1.0\n",
              "1    2.0\n",
              "2    3.0\n",
              "dtype: float64"
            ]
          },
          "metadata": {
            "tags": []
          },
          "execution_count": 109
        }
      ]
    },
    {
      "cell_type": "code",
      "metadata": {
        "id": "8nbHhqWVieAZ",
        "colab_type": "code",
        "outputId": "5764580b-a63b-47ed-eff7-a1c0f7bf9c2b",
        "colab": {
          "base_uri": "https://localhost:8080/",
          "height": 156
        }
      },
      "source": [
        "df['D'].fillna( value = df['D'].mode())"
      ],
      "execution_count": 110,
      "outputs": [
        {
          "output_type": "execute_result",
          "data": {
            "text/plain": [
              "0    1.0\n",
              "1    2.0\n",
              "2    1.0\n",
              "3    2.0\n",
              "4    3.0\n",
              "5    3.0\n",
              "6    2.0\n",
              "Name: D, dtype: float64"
            ]
          },
          "metadata": {
            "tags": []
          },
          "execution_count": 110
        }
      ]
    },
    {
      "cell_type": "code",
      "metadata": {
        "id": "ZHwhri0Bj67R",
        "colab_type": "code",
        "outputId": "637ced8f-5a83-4f11-9baa-070c44c3cc2d",
        "colab": {
          "base_uri": "https://localhost:8080/",
          "height": 52
        }
      },
      "source": [
        "df['C'].mode()"
      ],
      "execution_count": 111,
      "outputs": [
        {
          "output_type": "execute_result",
          "data": {
            "text/plain": [
              "0    10.0\n",
              "dtype: float64"
            ]
          },
          "metadata": {
            "tags": []
          },
          "execution_count": 111
        }
      ]
    },
    {
      "cell_type": "markdown",
      "metadata": {
        "id": "qdhh2cDnj_ks",
        "colab_type": "text"
      },
      "source": [
        "Question for you? why the mode is not replaced with the nan values?"
      ]
    },
    {
      "cell_type": "code",
      "metadata": {
        "id": "o5FYoW1xjL0J",
        "colab_type": "code",
        "outputId": "d071f13d-8035-4496-aa7e-764e9a4ff8f7",
        "colab": {
          "base_uri": "https://localhost:8080/",
          "height": 156
        }
      },
      "source": [
        "df['A'].fillna( value = df['A'].mode())"
      ],
      "execution_count": 113,
      "outputs": [
        {
          "output_type": "execute_result",
          "data": {
            "text/plain": [
              "0     0.0\n",
              "1     1.0\n",
              "2     2.0\n",
              "3     2.0\n",
              "4     NaN\n",
              "5     NaN\n",
              "6    99.0\n",
              "Name: A, dtype: float64"
            ]
          },
          "metadata": {
            "tags": []
          },
          "execution_count": 113
        }
      ]
    },
    {
      "cell_type": "code",
      "metadata": {
        "id": "fgPeWbCBkLg0",
        "colab_type": "code",
        "outputId": "7915099e-d189-4867-b010-39e65dacde80",
        "colab": {
          "base_uri": "https://localhost:8080/",
          "height": 156
        }
      },
      "source": [
        "df['B'].fillna( value = df['B'].mode())"
      ],
      "execution_count": 114,
      "outputs": [
        {
          "output_type": "execute_result",
          "data": {
            "text/plain": [
              "0     5.0\n",
              "1     6.0\n",
              "2     5.0\n",
              "3     NaN\n",
              "4     6.0\n",
              "5     6.0\n",
              "6    99.0\n",
              "Name: B, dtype: float64"
            ]
          },
          "metadata": {
            "tags": []
          },
          "execution_count": 114
        }
      ]
    },
    {
      "cell_type": "code",
      "metadata": {
        "id": "L43fdgGikIWH",
        "colab_type": "code",
        "outputId": "cd874170-f860-4838-a82f-bb154d56bac7",
        "colab": {
          "base_uri": "https://localhost:8080/",
          "height": 156
        }
      },
      "source": [
        "df['C'].fillna( value = df['C'].mode())"
      ],
      "execution_count": 0,
      "outputs": [
        {
          "output_type": "execute_result",
          "data": {
            "text/plain": [
              "0    10.0\n",
              "1     NaN\n",
              "2    10.0\n",
              "3    10.0\n",
              "4    14.0\n",
              "5    99.0\n",
              "6    14.0\n",
              "Name: C, dtype: float64"
            ]
          },
          "metadata": {
            "tags": []
          },
          "execution_count": 87
        }
      ]
    }
  ]
}