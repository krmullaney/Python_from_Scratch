{
  "nbformat": 4,
  "nbformat_minor": 0,
  "metadata": {
    "kernelspec": {
      "display_name": "Python 3",
      "language": "python",
      "name": "python3"
    },
    "language_info": {
      "codemirror_mode": {
        "name": "ipython",
        "version": 3
      },
      "file_extension": ".py",
      "mimetype": "text/x-python",
      "name": "python",
      "nbconvert_exporter": "python",
      "pygments_lexer": "ipython3",
      "version": "3.6.2"
    },
    "colab": {
      "name": "Section:3 Print Formatting with Strings.ipynb",
      "provenance": [],
      "collapsed_sections": []
    }
  },
  "cells": [
    {
      "cell_type": "markdown",
      "metadata": {
        "id": "eKsqrATcXZ8C",
        "colab_type": "text"
      },
      "source": [
        "# String Concatenation"
      ]
    },
    {
      "cell_type": "code",
      "metadata": {
        "id": "FDX_nc1VXlWi",
        "colab_type": "code",
        "colab": {
          "base_uri": "https://localhost:8080/",
          "height": 34
        },
        "outputId": "071241a8-2d25-48af-b611-b876a9b9137a"
      },
      "source": [
        "player = 'Thomas' \n",
        "points = 33\n",
        "\n",
        "#print('Last night, '+ player +' scored '+ points +' points.' )\n",
        "print('Last night, '+ player +' scored '+ str(points) +' points.' )"
      ],
      "execution_count": 41,
      "outputs": [
        {
          "output_type": "stream",
          "text": [
            "Last night, Thomas scored 33 points.\n"
          ],
          "name": "stdout"
        }
      ]
    },
    {
      "cell_type": "markdown",
      "metadata": {
        "id": "NCg2L_gGXrB4",
        "colab_type": "text"
      },
      "source": [
        "#String Formatting\n",
        "\n",
        "String formatting lets you inject items into a string rather than trying to chain items together using commas or string concatenation.\n",
        "\n",
        "**As a quick comparison between string concatenation and string fromatting**\n",
        "\n",
        "Consider:"
      ]
    },
    {
      "cell_type": "code",
      "metadata": {
        "id": "8_LHrk2eX0l6",
        "colab_type": "code",
        "colab": {
          "base_uri": "https://localhost:8080/",
          "height": 34
        },
        "outputId": "e27b6211-8697-4e6c-9b1c-72dfcd41376c"
      },
      "source": [
        "# 'Last night, '+ player +' scored '+ str(points) +' points.' # concatenation\n",
        "f'Last night, {player} scored {points} points.' # string formatting"
      ],
      "execution_count": 42,
      "outputs": [
        {
          "output_type": "execute_result",
          "data": {
            "text/plain": [
              "'Last night, Thomas scored 33 points.'"
            ]
          },
          "metadata": {
            "tags": []
          },
          "execution_count": 42
        }
      ]
    },
    {
      "cell_type": "markdown",
      "metadata": {
        "id": "2Bmu2DmBQnvo",
        "colab_type": "text"
      },
      "source": [
        "# 3 ways to perform string formatting\n",
        "\n",
        "Further , There are three ways to perform string formatting.\n",
        "\n",
        "    1.The oldest method involves placeholders using the modulo `%` character.\n",
        "    2.An improved technique uses the `.format()` string method.\n",
        "    3.The newest method, introduced with Python 3.6, uses formatted string literals, called *f-strings*.\n",
        "\n",
        "Since you will likely encounter all three versions in someone else's code, we describe each of them here."
      ]
    },
    {
      "cell_type": "markdown",
      "metadata": {
        "id": "fJ6qXeNiQnvs",
        "colab_type": "text"
      },
      "source": [
        "# Method:1 Formatting with placeholders\n",
        "You can use <code>%s</code> to inject strings into your print statements. \n",
        "\n",
        "The modulo `%` is referred to as a \"string formatting operator\"."
      ]
    },
    {
      "cell_type": "code",
      "metadata": {
        "id": "Dq5GTgsOQnvx",
        "colab_type": "code",
        "outputId": "bf548dcf-ac53-42e7-af26-fbe3f041430e",
        "colab": {
          "base_uri": "https://localhost:8080/",
          "height": 34
        }
      },
      "source": [
        "print(\"Welcome %s %s.\" %('Kristin','Mullaney'))"
      ],
      "execution_count": 43,
      "outputs": [
        {
          "output_type": "stream",
          "text": [
            "Welcome Kristin Mullaney.\n"
          ],
          "name": "stdout"
        }
      ]
    },
    {
      "cell_type": "markdown",
      "metadata": {
        "id": "UzykyzanQnwK",
        "colab_type": "text"
      },
      "source": [
        "You can pass multiple items by placing them inside a tuple after the `%` operator."
      ]
    },
    {
      "cell_type": "code",
      "metadata": {
        "id": "g7wbNhHRQnwO",
        "colab_type": "code",
        "outputId": "57e55936-7c8d-46d0-b1be-e3e4962424c6",
        "colab": {
          "base_uri": "https://localhost:8080/",
          "height": 34
        }
      },
      "source": [
        "x, y = 'Kristin','Mullaney'\n",
        "print(\"Welcome %s %s. I hope you are enjoying the course.\" %(x,y))"
      ],
      "execution_count": 44,
      "outputs": [
        {
          "output_type": "stream",
          "text": [
            "Welcome Kristin Mullaney. I hope you are enjoying the course.\n"
          ],
          "name": "stdout"
        }
      ]
    },
    {
      "cell_type": "markdown",
      "metadata": {
        "id": "-cRt_qP5Qnwb",
        "colab_type": "text"
      },
      "source": [
        "You can also pass variable names:"
      ]
    },
    {
      "cell_type": "code",
      "metadata": {
        "id": "iP9LDRTkQnwe",
        "colab_type": "code",
        "outputId": "b8ab3652-0167-41ab-e6db-6dbcd1a5e05c",
        "colab": {
          "base_uri": "https://localhost:8080/",
          "height": 34
        }
      },
      "source": [
        "x, y, z = 'some', 'more', 'This is string formatting with placeholders'\n",
        "print(\"I'm going to inject %s text here, and %s text here. %s\"%(x,y,z))"
      ],
      "execution_count": 5,
      "outputs": [
        {
          "output_type": "stream",
          "text": [
            "I'm going to inject some text here, and more text here. This is string formatting with placeholders\n"
          ],
          "name": "stdout"
        }
      ]
    },
    {
      "cell_type": "code",
      "metadata": {
        "id": "hr_dJOeHyTXk",
        "colab_type": "code",
        "colab": {
          "base_uri": "https://localhost:8080/",
          "height": 69
        },
        "outputId": "4bff9316-d7c7-4044-893a-20a449211806"
      },
      "source": [
        " num = 10\n",
        " stringg1 = 'kristin'\n",
        " stringg2 = 'Hello!!!'\n",
        "\n",
        " print(\"number = \" + str(num))\n",
        " print(\"string without quotes = \" + str(stringg1))\n",
        " print(\"string with the ! sign = \" + repr(stringg2))"
      ],
      "execution_count": 50,
      "outputs": [
        {
          "output_type": "stream",
          "text": [
            "number = 10\n",
            "string without quotes = kristin\n",
            "string with the ! sign = 'Hello!!!'\n"
          ],
          "name": "stdout"
        }
      ]
    },
    {
      "cell_type": "markdown",
      "metadata": {
        "id": "OVLd2GljQnwo",
        "colab_type": "text"
      },
      "source": [
        "## Format conversion methods.\n",
        "It should be noted that two methods <code>%s</code> and <code>%r</code> convert any python object to a string using two separate methods: `str()` and `repr()`.\n",
        "\n",
        "   \n",
        "    %s uses the str() method ==> only sring\n",
        "\n",
        "    %r uses the repr() method ==> strings , including quotation marks and any escape characters.\n",
        "\n",
        "\n",
        " Note that `%r` and `repr()` deliver the *string representation* of the object, including quotation marks and any escape characters.\n"
      ]
    },
    {
      "cell_type": "code",
      "metadata": {
        "id": "4HNNoStIQnwr",
        "colab_type": "code",
        "outputId": "b259ec55-eebb-47f1-9ee7-0761c7ce6913",
        "colab": {}
      },
      "source": [
        "print('He said his name was %s.' %'Fred')\n",
        "print('He said his name was %r.' %'Fred')"
      ],
      "execution_count": 0,
      "outputs": [
        {
          "output_type": "stream",
          "text": [
            "He said his name was Fred.\n",
            "He said his name was 'Fred'.\n"
          ],
          "name": "stdout"
        }
      ]
    },
    {
      "cell_type": "markdown",
      "metadata": {
        "id": "OCc5Me_xQnw1",
        "colab_type": "text"
      },
      "source": [
        "As another example, `\\t` inserts a tab into a string."
      ]
    },
    {
      "cell_type": "code",
      "metadata": {
        "id": "XA6eeQyKQnw4",
        "colab_type": "code",
        "outputId": "e335f2e8-22e7-49e6-961e-2334ac45cec2",
        "colab": {
          "base_uri": "https://localhost:8080/",
          "height": 52
        }
      },
      "source": [
        "print('I once caught a fish %s.' %'this \\tbig')\n",
        "print('I once caught a fish %r.' %'this \\tbig')"
      ],
      "execution_count": 6,
      "outputs": [
        {
          "output_type": "stream",
          "text": [
            "I once caught a fish this \tbig.\n",
            "I once caught a fish 'this \\tbig'.\n"
          ],
          "name": "stdout"
        }
      ]
    },
    {
      "cell_type": "markdown",
      "metadata": {
        "id": "jRI9FNt0QnxF",
        "colab_type": "text"
      },
      "source": [
        "The `%s` operator converts whatever it sees into a string, including integers and floats. The `%d` operator converts numbers to integers first, without rounding. Note the difference below:"
      ]
    },
    {
      "cell_type": "code",
      "metadata": {
        "id": "uOi0Xh-cQnxH",
        "colab_type": "code",
        "outputId": "68bb68b4-23c3-4042-fe16-f65228f05dcc",
        "colab": {
          "base_uri": "https://localhost:8080/",
          "height": 52
        }
      },
      "source": [
        "print('I wrote %s programs today.' %3.75)\n",
        "print('I wrote %d programs today.' %3.75)   "
      ],
      "execution_count": 51,
      "outputs": [
        {
          "output_type": "stream",
          "text": [
            "I wrote 3.75 programs today.\n",
            "I wrote 3 programs today.\n"
          ],
          "name": "stdout"
        }
      ]
    },
    {
      "cell_type": "markdown",
      "metadata": {
        "id": "d1IJ7RwXQnxQ",
        "colab_type": "text"
      },
      "source": [
        "### Padding and Precision of Floating Point Numbers\n",
        "Floating point numbers use the format <code>%10.2f</code>. Here, <code>10</code> would be the minimum number of characters the string should contain; these may be padded with whitespace if the entire number does not have this many digits. Next to this, <code>.2f</code> stands for how many numbers to show past the decimal point. Let's see some examples:"
      ]
    },
    {
      "cell_type": "code",
      "metadata": {
        "id": "BRkieIGvQnxt",
        "colab_type": "code",
        "outputId": "c6d0f320-92c8-4fd9-a4db-bbd3d0050266",
        "colab": {
          "base_uri": "https://localhost:8080/",
          "height": 34
        }
      },
      "source": [
        "print('Floating point numbers:%10.2f' %(13.144))"
      ],
      "execution_count": 52,
      "outputs": [
        {
          "output_type": "stream",
          "text": [
            "Floating point numbers:     13.14\n"
          ],
          "name": "stdout"
        }
      ]
    },
    {
      "cell_type": "code",
      "metadata": {
        "id": "8sNVnQcHQnx1",
        "colab_type": "code",
        "outputId": "0848f402-2b68-4ba5-e109-49e07460e952",
        "colab": {
          "base_uri": "https://localhost:8080/",
          "height": 34
        }
      },
      "source": [
        "print('Floating point numbers:%25.1f'%(13.144))"
      ],
      "execution_count": 53,
      "outputs": [
        {
          "output_type": "stream",
          "text": [
            "Floating point numbers:                     13.1\n"
          ],
          "name": "stdout"
        }
      ]
    },
    {
      "cell_type": "markdown",
      "metadata": {
        "id": "4ex173fIQnyB",
        "colab_type": "text"
      },
      "source": [
        "For more information on string formatting with placeholders visit https://docs.python.org/3/library/stdtypes.html#old-string-formatting"
      ]
    },
    {
      "cell_type": "markdown",
      "metadata": {
        "id": "9iC50ngwQnyD",
        "colab_type": "text"
      },
      "source": [
        "### Multiple Formatting\n",
        "Nothing prohibits using more than one conversion tool in the same print statement:"
      ]
    },
    {
      "cell_type": "code",
      "metadata": {
        "id": "w8_KHMFmQnyF",
        "colab_type": "code",
        "outputId": "dc23e066-bdee-4432-86cf-6156ee108da6",
        "colab": {
          "base_uri": "https://localhost:8080/",
          "height": 34
        }
      },
      "source": [
        "print('First: %s, Second: %5.2f, Third: %r' %('hi!',3.1415,'bye!'))"
      ],
      "execution_count": 54,
      "outputs": [
        {
          "output_type": "stream",
          "text": [
            "First: hi!, Second:  3.14, Third: 'bye!'\n"
          ],
          "name": "stdout"
        }
      ]
    },
    {
      "cell_type": "markdown",
      "metadata": {
        "id": "a3sv6oceQnyM",
        "colab_type": "text"
      },
      "source": [
        "#Method:2 Formatting with the `.format()` method\n",
        "A better way to format objects into your strings for print statements is with the string `.format()` method. The syntax is:\n",
        "\n",
        "    'String here {} then also {}'.format('something1','something2')\n",
        "    \n",
        "For example:"
      ]
    },
    {
      "cell_type": "code",
      "metadata": {
        "id": "5sPE31AHQnyN",
        "colab_type": "code",
        "outputId": "44211055-4fe1-44a5-d2fb-feba4f98169e",
        "colab": {
          "base_uri": "https://localhost:8080/",
          "height": 34
        }
      },
      "source": [
        "print('Welcome {} {} '.format('Kristin' , 'Mullaney'))"
      ],
      "execution_count": 55,
      "outputs": [
        {
          "output_type": "stream",
          "text": [
            "Welcome Kristin Mullaney \n"
          ],
          "name": "stdout"
        }
      ]
    },
    {
      "cell_type": "markdown",
      "metadata": {
        "id": "thftAD8fQnyX",
        "colab_type": "text"
      },
      "source": [
        "### The .format() method has several advantages over the %s placeholder method:"
      ]
    },
    {
      "cell_type": "markdown",
      "metadata": {
        "id": "Ng5nqLNEQnyY",
        "colab_type": "text"
      },
      "source": [
        "#### 1. Inserted objects can be called by index position:"
      ]
    },
    {
      "cell_type": "code",
      "metadata": {
        "id": "GZCRGJMRQnya",
        "colab_type": "code",
        "outputId": "fb770fad-d98e-4cfd-943f-14ba22ede820",
        "colab": {
          "base_uri": "https://localhost:8080/",
          "height": 34
        }
      },
      "source": [
        "print(' {2} {1} {0}'.format('Mullaney','Kristin','Welcome'))"
      ],
      "execution_count": 56,
      "outputs": [
        {
          "output_type": "stream",
          "text": [
            " Welcome Kristin Mullaney\n"
          ],
          "name": "stdout"
        }
      ]
    },
    {
      "cell_type": "markdown",
      "metadata": {
        "id": "1iTf9-0PQnyh",
        "colab_type": "text"
      },
      "source": [
        "#### 2. Inserted objects can be assigned keywords:"
      ]
    },
    {
      "cell_type": "code",
      "metadata": {
        "id": "89iT1iMLQnyj",
        "colab_type": "code",
        "outputId": "51f0ce40-21a6-455e-9581-0c6df451abc2",
        "colab": {
          "base_uri": "https://localhost:8080/",
          "height": 34
        }
      },
      "source": [
        "print(' {welcome_string} {first_name} {last_name} Float {c}, Integer {d}'.format(d = 8,first_name= 'kristin', last_name='Mullaney',c=12.3 , welcome_string = 'Welcome'))"
      ],
      "execution_count": 59,
      "outputs": [
        {
          "output_type": "stream",
          "text": [
            " Welcome kristin Mullaney Float12.3, Integer 8\n"
          ],
          "name": "stdout"
        }
      ]
    },
    {
      "cell_type": "markdown",
      "metadata": {
        "id": "58GPXusgQnyq",
        "colab_type": "text"
      },
      "source": [
        "#### 3. Inserted objects can be reused, avoiding duplication:"
      ]
    },
    {
      "cell_type": "code",
      "metadata": {
        "id": "h-wQpXLjQnyr",
        "colab_type": "code",
        "outputId": "03d86d98-60ef-4088-9ad5-eb8e5511eafd",
        "colab": {
          "base_uri": "https://localhost:8080/",
          "height": 52
        }
      },
      "source": [
        "print('A %s saved is a %s earned.' %('penny','penny'))\n",
        "# vs.\n",
        "print('A {p} saved is a {p} earned.'.format(p='penny'))"
      ],
      "execution_count": 60,
      "outputs": [
        {
          "output_type": "stream",
          "text": [
            "A penny saved is a penny earned.\n",
            "A penny saved is a penny earned.\n"
          ],
          "name": "stdout"
        }
      ]
    },
    {
      "cell_type": "markdown",
      "metadata": {
        "id": "uV4z3GeGQnyz",
        "colab_type": "text"
      },
      "source": [
        "### Alignment, padding and precision with `.format()`\n",
        "Within the curly braces you can assign field lengths, left/right alignments, rounding parameters and more"
      ]
    },
    {
      "cell_type": "code",
      "metadata": {
        "id": "aFgQ5F-cQny1",
        "colab_type": "code",
        "outputId": "5edee3da-b18e-4734-e989-5f09351897b9",
        "colab": {
          "base_uri": "https://localhost:8080/",
          "height": 69
        }
      },
      "source": [
        "print('{0:8} | {1:9}'.format('Fruits', 'Quantity'))\n",
        "print('{0:8} | {1:9}'.format('Apples', 3.))\n",
        "print('{0:8} | {1:9}'.format('Oranges', 10))"
      ],
      "execution_count": 63,
      "outputs": [
        {
          "output_type": "stream",
          "text": [
            "Fruits   | Quantity \n",
            "Apples   |       3.0\n",
            "Oranges  |        10\n"
          ],
          "name": "stdout"
        }
      ]
    },
    {
      "cell_type": "markdown",
      "metadata": {
        "id": "eccR5BDWQny7",
        "colab_type": "text"
      },
      "source": [
        "By default, `.format()` aligns text to the left, numbers to the right. You can pass an optional `<`,`^`, or `>` to set a left, center or right alignment:"
      ]
    },
    {
      "cell_type": "code",
      "metadata": {
        "id": "yS6in_gWQny_",
        "colab_type": "code",
        "outputId": "c38dbe15-d4e9-416c-d946-7327fb768d69",
        "colab": {
          "base_uri": "https://localhost:8080/",
          "height": 52
        }
      },
      "source": [
        "print('{0:<8} | {1:^8} | {2:>8}'.format('Left','Center','Right'))\n",
        "print('{0:<8} | {1:^8} | {2:>8}'.format(11,22,33))"
      ],
      "execution_count": 26,
      "outputs": [
        {
          "output_type": "stream",
          "text": [
            "Left     |  Center  |    Right\n",
            "11       |    22    |       33\n"
          ],
          "name": "stdout"
        }
      ]
    },
    {
      "cell_type": "markdown",
      "metadata": {
        "id": "OLv6DqzzQnzG",
        "colab_type": "text"
      },
      "source": [
        "You can precede the aligment operator with a padding character"
      ]
    },
    {
      "cell_type": "code",
      "metadata": {
        "id": "kASC_VI1QnzH",
        "colab_type": "code",
        "outputId": "3f5fa14a-ab20-435e-c100-37c96c57df42",
        "colab": {
          "base_uri": "https://localhost:8080/",
          "height": 52
        }
      },
      "source": [
        "print('{0:=<8} | {1:-^8} | {2:.>8}'.format('Left','Center','Right'))\n",
        "print('{0:=<8} | {1:-^8} | {2:.>8}'.format(11,22,33))"
      ],
      "execution_count": 28,
      "outputs": [
        {
          "output_type": "stream",
          "text": [
            "Left==== | -Center- | ...Right\n",
            "11====== | ---22--- | ......33\n"
          ],
          "name": "stdout"
        }
      ]
    },
    {
      "cell_type": "markdown",
      "metadata": {
        "id": "hx_1VEIVQnzO",
        "colab_type": "text"
      },
      "source": [
        "Field widths and float precision are handled in a way similar to placeholders. The following two print statements are equivalent:"
      ]
    },
    {
      "cell_type": "code",
      "metadata": {
        "id": "JK01P2ClQnzR",
        "colab_type": "code",
        "outputId": "f2b52b6d-c1be-47d9-bb21-d4c26c385826",
        "colab": {
          "base_uri": "https://localhost:8080/",
          "height": 52
        }
      },
      "source": [
        "print('This is my ten-character, two-decimal number:%10.2f' %13.579)\n",
        "print('This is my ten-character, two-decimal number:{0:10.2f}'.format(13.579))"
      ],
      "execution_count": 29,
      "outputs": [
        {
          "output_type": "stream",
          "text": [
            "This is my ten-character, two-decimal number:     13.58\n",
            "This is my ten-character, two-decimal number:     13.58\n"
          ],
          "name": "stdout"
        }
      ]
    },
    {
      "cell_type": "markdown",
      "metadata": {
        "id": "hklpwRnEQnzf",
        "colab_type": "text"
      },
      "source": [
        "Note that there are 5 spaces following the colon, and 5 characters taken up by 13.58, for a total of ten characters.\n",
        "\n",
        "For more information on the string `.format()` method visit https://docs.python.org/3/library/string.html#formatstrings"
      ]
    },
    {
      "cell_type": "markdown",
      "metadata": {
        "id": "MR-RlIHGQnzh",
        "colab_type": "text"
      },
      "source": [
        "#Method: 3 Formatted String Literals (f-strings)"
      ]
    },
    {
      "cell_type": "markdown",
      "metadata": {
        "id": "ssM4JY4jQnzi",
        "colab_type": "text"
      },
      "source": [
        "Introduced in Python 3.6, f-strings offer several benefits over the older `.format()` string method described above. For one, you can bring outside variables immediately into to the string rather than pass them as arguments through `.format(var)`."
      ]
    },
    {
      "cell_type": "code",
      "metadata": {
        "id": "_VqX5tavQnzk",
        "colab_type": "code",
        "outputId": "b173c255-1ce8-4986-f9cd-6511a8a7fdff",
        "colab": {
          "base_uri": "https://localhost:8080/",
          "height": 34
        }
      },
      "source": [
        "name = 'Fred'\n",
        "\n",
        "print(f\"He said his name is {name}.\")"
      ],
      "execution_count": 30,
      "outputs": [
        {
          "output_type": "stream",
          "text": [
            "He said his name is Fred.\n"
          ],
          "name": "stdout"
        }
      ]
    },
    {
      "cell_type": "markdown",
      "metadata": {
        "id": "E5QjlvWJQnzr",
        "colab_type": "text"
      },
      "source": [
        "Pass `!r` to get the string representation:"
      ]
    },
    {
      "cell_type": "code",
      "metadata": {
        "id": "BZqkHMpUQnzt",
        "colab_type": "code",
        "outputId": "3fd671bc-45b5-40ae-da90-f1a65ae1bc83",
        "colab": {
          "base_uri": "https://localhost:8080/",
          "height": 34
        }
      },
      "source": [
        "print(f\"He said his name is {name!r}\")"
      ],
      "execution_count": 32,
      "outputs": [
        {
          "output_type": "stream",
          "text": [
            "He said his name is 'Fred'\n"
          ],
          "name": "stdout"
        }
      ]
    },
    {
      "cell_type": "markdown",
      "metadata": {
        "id": "vBBGky5IQnz0",
        "colab_type": "text"
      },
      "source": [
        "#### Float formatting follows `\"result: {value:{width}.{precision}}\"`"
      ]
    },
    {
      "cell_type": "markdown",
      "metadata": {
        "id": "A2C7ssjHQnz2",
        "colab_type": "text"
      },
      "source": [
        "Where with the `.format()` method you might see `{value:10.4f}`, with f-strings this can become `{value:{10}.{6}}`\n"
      ]
    },
    {
      "cell_type": "code",
      "metadata": {
        "id": "vbXwTUlpQnz3",
        "colab_type": "code",
        "outputId": "ffacb15f-4d8a-4c88-9824-0389dd4e6283",
        "colab": {
          "base_uri": "https://localhost:8080/",
          "height": 52
        }
      },
      "source": [
        "num = 23.45678\n",
        "print(\"My 10 character, four decimal number is:{0:10.4f}\".format(num))\n",
        "print(f\"My 10 character, four decimal number is:{num:{10}.{6}}\")"
      ],
      "execution_count": 37,
      "outputs": [
        {
          "output_type": "stream",
          "text": [
            "My 10 character, four decimal number is:   23.4568\n",
            "My 10 character, four decimal number is:   23.4568\n"
          ],
          "name": "stdout"
        }
      ]
    },
    {
      "cell_type": "markdown",
      "metadata": {
        "id": "z25nmDzlQnz-",
        "colab_type": "text"
      },
      "source": [
        "Note that with f-strings, *precision* refers to the total number of digits, not just those following the decimal. This fits more closely with scientific notation and statistical analysis. Unfortunately, f-strings do not pad to the right of the decimal, even if precision allows it:"
      ]
    },
    {
      "cell_type": "code",
      "metadata": {
        "id": "xMkw36aFQnz_",
        "colab_type": "code",
        "outputId": "f57309bd-9268-43e6-a490-3fb208680ea7",
        "colab": {
          "base_uri": "https://localhost:8080/",
          "height": 52
        }
      },
      "source": [
        "num = 23.45\n",
        "print(\"My 10 character, four decimal number is:{0:10.4f}\".format(num))\n",
        "print(f\"My 10 character, four decimal number is:{num:{10}.{6}}\")"
      ],
      "execution_count": 38,
      "outputs": [
        {
          "output_type": "stream",
          "text": [
            "My 10 character, four decimal number is:   23.4500\n",
            "My 10 character, four decimal number is:     23.45\n"
          ],
          "name": "stdout"
        }
      ]
    },
    {
      "cell_type": "markdown",
      "metadata": {
        "id": "sumnzFz4Qn0G",
        "colab_type": "text"
      },
      "source": [
        "If this becomes important, you can always use `.format()` method syntax inside an f-string:"
      ]
    },
    {
      "cell_type": "code",
      "metadata": {
        "id": "cuzbPJnOQn0H",
        "colab_type": "code",
        "outputId": "bedc9c41-a34a-4b24-ac2a-5628a2400e38",
        "colab": {}
      },
      "source": [
        "num = 23.45\n",
        "print(\"My 10 character, four decimal number is:{0:10.4f}\".format(num))\n",
        "print(f\"My 10 character, four decimal number is:{num:10.4f}\")"
      ],
      "execution_count": 0,
      "outputs": [
        {
          "output_type": "stream",
          "text": [
            "My 10 character, four decimal number is:   23.4500\n",
            "My 10 character, four decimal number is:   23.4500\n"
          ],
          "name": "stdout"
        }
      ]
    },
    {
      "cell_type": "markdown",
      "metadata": {
        "id": "5C6KqkBzQn0N",
        "colab_type": "text"
      },
      "source": [
        "For more info on formatted string literals visit https://docs.python.org/3/reference/lexical_analysis.html#f-strings"
      ]
    },
    {
      "cell_type": "markdown",
      "metadata": {
        "id": "oi_gwXbiQn0O",
        "colab_type": "text"
      },
      "source": [
        "That is the basics of string formatting!"
      ]
    }
  ]
}