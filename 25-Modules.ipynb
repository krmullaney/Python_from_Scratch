{
  "nbformat": 4,
  "nbformat_minor": 0,
  "metadata": {
    "kernelspec": {
      "display_name": "Python 3",
      "language": "python",
      "name": "python3"
    },
    "language_info": {
      "codemirror_mode": {
        "name": "ipython",
        "version": 3
      },
      "file_extension": ".py",
      "mimetype": "text/x-python",
      "name": "python",
      "nbconvert_exporter": "python",
      "pygments_lexer": "ipython3",
      "version": "3.6.2"
    },
    "colab": {
      "name": "Modules-new.ipynb",
      "provenance": [],
      "collapsed_sections": []
    }
  },
  "cells": [
    {
      "cell_type": "markdown",
      "metadata": {
        "id": "MU0bjNhvA_PT",
        "colab_type": "text"
      },
      "source": [
        "# Python Modules\n",
        "\n",
        "## What is a Module?\n",
        "\n",
        "Consider a module to be the same as a code library.\n",
        "\n",
        "A file containing a set of functions you want to include in your application."
      ]
    },
    {
      "cell_type": "markdown",
      "metadata": {
        "id": "SrJ-Ps76sa0r",
        "colab_type": "text"
      },
      "source": [
        "# Built-in Modules\n",
        "\n",
        "There are several built-in modules in Python, which you can import whenever you like.  Check out the full list of built-in modules in the Python standard library [here](https://docs.python.org/3/py-modindex.html).\n",
        "\n",
        "If we want to import the math module, we simply import the name of the module:"
      ]
    },
    {
      "cell_type": "code",
      "metadata": {
        "id": "0BxZ-sV6YgU0",
        "colab_type": "code",
        "outputId": "ce76c3ba-500b-4e81-9e1a-d5f652413bd3",
        "colab": {
          "base_uri": "https://localhost:8080/",
          "height": 34
        }
      },
      "source": [
        "import platform\n",
        "\n",
        "x = platform.system()\n",
        "print(x) "
      ],
      "execution_count": 10,
      "outputs": [
        {
          "output_type": "stream",
          "text": [
            "Linux\n"
          ],
          "name": "stdout"
        }
      ]
    },
    {
      "cell_type": "code",
      "metadata": {
        "id": "EXX2jpNjYekk",
        "colab_type": "code",
        "outputId": "dee42ae8-004f-4e11-9fdd-965c28c0dc81",
        "colab": {
          "base_uri": "https://localhost:8080/",
          "height": 34
        }
      },
      "source": [
        "# import the library\n",
        "import math\n",
        "\n",
        "# use it (ceiling rounding)\n",
        "math.ceil(2.4)"
      ],
      "execution_count": 11,
      "outputs": [
        {
          "output_type": "execute_result",
          "data": {
            "text/plain": [
              "3"
            ]
          },
          "metadata": {
            "tags": []
          },
          "execution_count": 11
        }
      ]
    },
    {
      "cell_type": "markdown",
      "metadata": {
        "id": "nDwxrGscY6zX",
        "colab_type": "text"
      },
      "source": [
        "## Exploring built-in modules\n",
        "Two very important functions come in handy when exploring modules in Python - the <code>dir</code> and <code>help</code> functions.\n",
        "\n",
        "\n",
        "## Using the dir() Function\n",
        "\n",
        "There is a built-in function to list all the function names (or variable names) in a module. \n",
        "\n",
        "\n",
        "We can look for which functions are implemented in each module by using the <code>dir</code> function:\n"
      ]
    },
    {
      "cell_type": "code",
      "metadata": {
        "id": "eZOIhLp1Y9DH",
        "colab_type": "code",
        "outputId": "f94c5d33-1f21-4cf0-c71b-92d3d8c3b993",
        "colab": {
          "base_uri": "https://localhost:8080/",
          "height": 54
        }
      },
      "source": [
        "import math\n",
        "print(dir(math))"
      ],
      "execution_count": 12,
      "outputs": [
        {
          "output_type": "stream",
          "text": [
            "['__doc__', '__loader__', '__name__', '__package__', '__spec__', 'acos', 'acosh', 'asin', 'asinh', 'atan', 'atan2', 'atanh', 'ceil', 'copysign', 'cos', 'cosh', 'degrees', 'e', 'erf', 'erfc', 'exp', 'expm1', 'fabs', 'factorial', 'floor', 'fmod', 'frexp', 'fsum', 'gamma', 'gcd', 'hypot', 'inf', 'isclose', 'isfinite', 'isinf', 'isnan', 'ldexp', 'lgamma', 'log', 'log10', 'log1p', 'log2', 'modf', 'nan', 'pi', 'pow', 'radians', 'sin', 'sinh', 'sqrt', 'tan', 'tanh', 'tau', 'trunc']\n"
          ],
          "name": "stdout"
        }
      ]
    },
    {
      "cell_type": "code",
      "metadata": {
        "id": "4IDQ3nfWZCnY",
        "colab_type": "code",
        "outputId": "c521f03a-ce3f-4ac6-a8ea-6c464812e1d1",
        "colab": {
          "base_uri": "https://localhost:8080/",
          "height": 54
        }
      },
      "source": [
        "print(dir(platform))"
      ],
      "execution_count": 13,
      "outputs": [
        {
          "output_type": "stream",
          "text": [
            "['DEV_NULL', '_UNIXCONFDIR', '_WIN32_CLIENT_RELEASES', '_WIN32_SERVER_RELEASES', '__builtins__', '__cached__', '__copyright__', '__doc__', '__file__', '__loader__', '__name__', '__package__', '__spec__', '__version__', '_codename_file_re', '_comparable_version', '_component_re', '_default_architecture', '_dist_try_harder', '_distributor_id_file_re', '_follow_symlinks', '_ironpython26_sys_version_parser', '_ironpython_sys_version_parser', '_java_getprop', '_libc_search', '_linux_distribution', '_lsb_release_version', '_mac_ver_xml', '_node', '_norm_version', '_parse_release_file', '_platform', '_platform_cache', '_pypy_sys_version_parser', '_release_file_re', '_release_filename', '_release_version', '_supported_dists', '_sys_version', '_sys_version_cache', '_sys_version_parser', '_syscmd_file', '_syscmd_uname', '_syscmd_ver', '_uname_cache', '_ver_output', '_ver_stages', 'architecture', 'collections', 'dist', 'java_ver', 'libc_ver', 'linux_distribution', 'mac_ver', 'machine', 'node', 'os', 'platform', 'popen', 'processor', 'python_branch', 'python_build', 'python_compiler', 'python_implementation', 'python_revision', 'python_version', 'python_version_tuple', 're', 'release', 'subprocess', 'sys', 'system', 'system_alias', 'uname', 'uname_result', 'version', 'warnings', 'win32_ver']\n"
          ],
          "name": "stdout"
        }
      ]
    },
    {
      "cell_type": "markdown",
      "metadata": {
        "id": "MCkbyEX-ZICx",
        "colab_type": "text"
      },
      "source": [
        "\n",
        "When we find the function in the module we want to use, we can read about it more using the <code>help</code> function, inside the Python interpreter:\n"
      ]
    },
    {
      "cell_type": "code",
      "metadata": {
        "id": "VFKdr3HrZORu",
        "colab_type": "code",
        "outputId": "568b7f57-46fe-4921-f53f-e17fb0607e99",
        "colab": {
          "base_uri": "https://localhost:8080/",
          "height": 139
        }
      },
      "source": [
        "help(math.sqrt)"
      ],
      "execution_count": 14,
      "outputs": [
        {
          "output_type": "stream",
          "text": [
            "Help on built-in function sqrt in module math:\n",
            "\n",
            "sqrt(...)\n",
            "    sqrt(x)\n",
            "    \n",
            "    Return the square root of x.\n",
            "\n"
          ],
          "name": "stdout"
        }
      ]
    },
    {
      "cell_type": "markdown",
      "metadata": {
        "id": "A-X7Lhv3-yVF",
        "colab_type": "text"
      },
      "source": [
        "# Some important built-in modules of python used in the data science\n",
        "\n",
        "    datetime\n",
        "    math\n",
        "    json\n",
        "    csv\n",
        "    random\n"
      ]
    },
    {
      "cell_type": "markdown",
      "metadata": {
        "id": "f1869fDaBbTW",
        "colab_type": "text"
      },
      "source": [
        "##Create a Module / Writing modules\n",
        "\n",
        "\n",
        "Writing Python modules is very simple. To create a module of your own, simply create a new .py file with the module name, and then import it using the Python file name (without the .py extension) using the import command code.\n",
        "\n",
        "You can name the module file whatever you like, but it must have the file extension .py\n",
        "\n",
        "\n",
        "The module can contain functions as well as variables of all data types (arrays, dictionaries, objects etc):\n",
        "\n",
        "\n",
        "\n",
        "\n",
        "###To create a file in the Jupyter notebook:\n",
        "\n",
        "Use the writefile method to write the content of the python .py file\n"
      ]
    },
    {
      "cell_type": "code",
      "metadata": {
        "id": "Bxc7BnW7BwkF",
        "colab_type": "code",
        "outputId": "fe44daf9-1187-4c9f-fd3a-5341777e964a",
        "colab": {
          "base_uri": "https://localhost:8080/",
          "height": 34
        }
      },
      "source": [
        "%%writefile my_greetings_module1.py\n",
        "\n",
        "def hello(name):\n",
        "  print(\"Hello, \" + name)\n",
        "\n",
        "my_list = [1,2,3]\n",
        "my_str = \"Hi.....\"\n",
        "\n",
        "present_time = {\n",
        "  \"am\": \"Good Morning\",\n",
        "  \"noon\": \"Good Noon\",\n",
        "  \"pm\": \"Good Afternoon\",\n",
        "  \"night\" : \"Good night\"\n",
        "} \n"
      ],
      "execution_count": 15,
      "outputs": [
        {
          "output_type": "stream",
          "text": [
            "Overwriting my_greetings_module1.py\n"
          ],
          "name": "stdout"
        }
      ]
    },
    {
      "cell_type": "markdown",
      "metadata": {
        "id": "Rqz3ymi7C7hg",
        "colab_type": "text"
      },
      "source": [
        "## Understanding modules\n",
        "\n",
        "Modules in Python are simply Python files with the .py extension, which implement a set of functions. Modules are imported from other modules using the <code>import</code> command.\n",
        "\n",
        "To import a module, we use the <code>import</code> command.\n",
        "\n",
        "The first time a module is loaded into a running Python script, it is initialized by executing the code in the module once. If another module in your code imports the same module again, it will not be loaded twice but once only - so local variables inside the module act as a \"singleton\" - they are initialized only once.\n",
        "\n",
        "\n",
        "## Use a Module\n",
        "\n",
        "Now we can use the module we just created, by using the import statement.\n",
        "\n",
        "    When using a function from a module, \n",
        "\n",
        "    SYNTAX: module_name.function_name.\n",
        "\n"
      ]
    },
    {
      "cell_type": "markdown",
      "metadata": {
        "id": "B3GBRpHYiv9x",
        "colab_type": "text"
      },
      "source": [
        "# Method 1: If using jupyter notebook - write the import module code directly in the code cell"
      ]
    },
    {
      "cell_type": "code",
      "metadata": {
        "id": "pMqCl9_9C_xp",
        "colab_type": "code",
        "outputId": "67054025-e371-4c20-8e8c-87c9dc86407a",
        "colab": {
          "base_uri": "https://localhost:8080/",
          "height": 86
        }
      },
      "source": [
        "#Import the module named 'my_greetings_module1' (name of the file without .py extension )\n",
        "\n",
        "import my_greetings_module1\n",
        "\n",
        "# Call the hello function\n",
        "my_greetings_module1.hello(\"Kristin\")\n",
        "\n",
        "# Call the variable values in the module\n",
        "print(my_greetings_module1.present_time['night'])\n",
        "print(my_greetings_module1.my_list)\n",
        "print( my_greetings_module1.my_str)"
      ],
      "execution_count": 16,
      "outputs": [
        {
          "output_type": "stream",
          "text": [
            "Hello, Kristin\n",
            "Good night\n",
            "[1, 2, 3]\n",
            "Hi.....\n"
          ],
          "name": "stdout"
        }
      ]
    },
    {
      "cell_type": "markdown",
      "metadata": {
        "id": "a-HoPuy9Hee7",
        "colab_type": "text"
      },
      "source": [
        "## Re-naming a Module\n",
        "\n",
        "You can create an alias when you import a module, by using the as keyword"
      ]
    },
    {
      "cell_type": "code",
      "metadata": {
        "id": "sh9qf9aPIMVM",
        "colab_type": "code",
        "outputId": "287efd05-291f-41e7-a1a0-550e59b73c1e",
        "colab": {
          "base_uri": "https://localhost:8080/",
          "height": 52
        }
      },
      "source": [
        "import my_greetings_module1 as g\n",
        "\n",
        "g.hello(\"Kristin\")\n",
        "g.present_time['pm']"
      ],
      "execution_count": 17,
      "outputs": [
        {
          "output_type": "stream",
          "text": [
            "Hello, Kristin\n"
          ],
          "name": "stdout"
        },
        {
          "output_type": "execute_result",
          "data": {
            "text/plain": [
              "'Good Afternoon'"
            ]
          },
          "metadata": {
            "tags": []
          },
          "execution_count": 17
        }
      ]
    },
    {
      "cell_type": "markdown",
      "metadata": {
        "id": "EUp4jJP_IpxS",
        "colab_type": "text"
      },
      "source": [
        "## Import only a single function or a single variable from module\n",
        "\n",
        "when importing only a single function or variable, we don't uses the name/ alias of the module while calling.\n"
      ]
    },
    {
      "cell_type": "code",
      "metadata": {
        "id": "zilWBGRvIzWn",
        "colab_type": "code",
        "outputId": "bd8c98d1-51e3-4680-da21-ce92aa410fda",
        "colab": {
          "base_uri": "https://localhost:8080/",
          "height": 34
        }
      },
      "source": [
        "#Example of importing only a single function\n",
        "\n",
        "#from my_greetings_module1 as greet import hello  #wrong syntax \n",
        "from my_greetings_module1 import hello\n",
        "\n",
        "\n",
        "#my_greetings_module.hello(\"Kristin\") #wrong syntax\n",
        "hello(\"Kristin\")\n",
        "\n",
        "#present_time[\"am\"] #it will not work, as we have not imported present_time variable"
      ],
      "execution_count": 18,
      "outputs": [
        {
          "output_type": "stream",
          "text": [
            "Hello, Kristin\n"
          ],
          "name": "stdout"
        }
      ]
    },
    {
      "cell_type": "code",
      "metadata": {
        "id": "-pjZiuXsLyr0",
        "colab_type": "code",
        "outputId": "bda6e19b-659e-4c34-c518-d441bedf75f0",
        "colab": {
          "base_uri": "https://localhost:8080/",
          "height": 34
        }
      },
      "source": [
        "#Example of importing only a single variable\n",
        "\n",
        "from my_greetings_module1 import present_time\n",
        "print(present_time[\"am\"] )\n",
        "#print( hello(\"Harpreet\"))"
      ],
      "execution_count": 19,
      "outputs": [
        {
          "output_type": "stream",
          "text": [
            "Good Morning\n"
          ],
          "name": "stdout"
        }
      ]
    },
    {
      "cell_type": "markdown",
      "metadata": {
        "id": "o_ocu3A3jUqI",
        "colab_type": "text"
      },
      "source": [
        "# Method 2: If you are not using the jupyter notebook. You are using the pycharm as your IDE and want to run the code in pycharm or through terminal\n",
        "\n",
        "If you want to run the code through the terminal or through the pycharm, then you need to create a program file with .py extension first. You can create this fiel by using pycharm or ant IDE directly. \n",
        "\n",
        "OR\n",
        "\n",
        "\n",
        "You can write your program file with the jupyter notebook too. In this case, look at the below example:\n",
        "\n",
        "\n"
      ]
    },
    {
      "cell_type": "code",
      "metadata": {
        "id": "B5zrL2x7iXyo",
        "colab_type": "code",
        "colab": {
          "base_uri": "https://localhost:8080/",
          "height": 34
        },
        "outputId": "714ab0ae-c7cf-4d71-ad9e-9003d204c466"
      },
      "source": [
        "%%writefile program_file_using_greetings_module.py\n",
        "\n",
        "#Import the module named 'my_greetings_module1', and call the hello function\n",
        "\n",
        "import my_greetings_module1\n",
        "\n",
        "# Call the hello function\n",
        "my_greetings_module1.hello(\"Kristin\")\n",
        "\n",
        "# Call the variable values in the module\n",
        "my_greetings_module1.present_time['am']\n"
      ],
      "execution_count": 22,
      "outputs": [
        {
          "output_type": "stream",
          "text": [
            "Overwriting program_file_using_greetings_module.py\n"
          ],
          "name": "stdout"
        }
      ]
    },
    {
      "cell_type": "markdown",
      "metadata": {
        "id": "7ibVgAxDteGA",
        "colab_type": "text"
      },
      "source": [
        "# How to run the code through terminal/ Running scripts through the terminal\n",
        "\n",
        "\n",
        "<pre>\n",
        "$ cd Desktop/modules/\n",
        "$ ls\n",
        "my_greetings_module.py  program_file_using_greetings_module.py \n",
        "\n",
        "$ python3 program_file_using_greetings_module.py \n",
        "Hello, Kristin \n",
        "</pre>\n"
      ]
    },
    {
      "cell_type": "markdown",
      "metadata": {
        "id": "YwjD7DqHwlaV",
        "colab_type": "text"
      },
      "source": [
        "## Running scripts through jupyter notebook\n",
        "\n",
        "Here we run our script from the command line. The exclamation point is a Jupyter trick that lets you run command line statements from inside a jupyter cell."
      ]
    },
    {
      "cell_type": "code",
      "metadata": {
        "id": "4hpj7a8rwM-N",
        "colab_type": "code",
        "colab": {
          "base_uri": "https://localhost:8080/",
          "height": 34
        },
        "outputId": "a5ca550a-4584-4952-da3b-a7bc23b5dbc7"
      },
      "source": [
        "! python program_file_using_greetings_module.py "
      ],
      "execution_count": 23,
      "outputs": [
        {
          "output_type": "stream",
          "text": [
            "Hello, Kristin\n"
          ],
          "name": "stdout"
        }
      ]
    },
    {
      "cell_type": "markdown",
      "metadata": {
        "id": "DvOp2RSGMQaT",
        "colab_type": "text"
      },
      "source": [
        "# Another example of Module\n",
        "\n",
        "### Create a module firstly \"even_module\""
      ]
    },
    {
      "cell_type": "code",
      "metadata": {
        "id": "lhDAziVKsazF",
        "colab_type": "code",
        "outputId": "14ebe364-2d74-4141-9717-17fcb804fb7e",
        "colab": {
          "base_uri": "https://localhost:8080/",
          "height": 34
        }
      },
      "source": [
        "%%writefile even_module.py\n",
        "\n",
        "def even_function(x):\n",
        "    return [num for num in range(x) if num%2==0]\n",
        "\n",
        "list1 = even_function(11) # [0,2,4,6,8,10]"
      ],
      "execution_count": 27,
      "outputs": [
        {
          "output_type": "stream",
          "text": [
            "Writing even_module.py\n"
          ],
          "name": "stdout"
        }
      ]
    },
    {
      "cell_type": "markdown",
      "metadata": {
        "id": "AjCT1wxjsazZ",
        "colab_type": "text"
      },
      "source": [
        "**even_module.py** is going to be used as a module.\n",
        "\n",
        "Note that it doesn't print or return anything,\n",
        "it just defines a function called *even_function* and a variable called *list1*.\n",
        "\n",
        "## Writing scripts - with .py extension"
      ]
    },
    {
      "cell_type": "code",
      "metadata": {
        "id": "e87DXeXJsazh",
        "colab_type": "code",
        "outputId": "1abcebde-4878-45cf-9385-d5cef12511b1",
        "colab": {
          "base_uri": "https://localhost:8080/",
          "height": 52
        }
      },
      "source": [
        "#%%writefile program_file_using_even_module.py\n",
        "\n",
        "import even_module\n",
        "\n",
        "print(f'Initailly my list1 is : {even_module.list1}')\n",
        "even_module.list1.append(12)\n",
        "print(f'After appending element 12 my list1 is : {even_module.list1}')\n"
      ],
      "execution_count": 31,
      "outputs": [
        {
          "output_type": "stream",
          "text": [
            "Initailly my list1 is : [0, 2, 4, 6, 8, 10, 12]\n",
            "After appending element 12 my list1 is : [0, 2, 4, 6, 8, 10, 12, 12]\n"
          ],
          "name": "stdout"
        }
      ]
    },
    {
      "cell_type": "markdown",
      "metadata": {
        "id": "t7o-3L1Nsazu",
        "colab_type": "text"
      },
      "source": [
        "\n",
        "\n",
        "## Running scripts through jupyter notebook\n",
        "\n",
        "Here we run our script from the command line. The exclamation point is a Jupyter trick that lets you run command line statements from inside a jupyter cell.\n"
      ]
    },
    {
      "cell_type": "code",
      "metadata": {
        "id": "IvHgb8QBsazy",
        "colab_type": "code",
        "colab": {}
      },
      "source": [
        "! python program_file_using_even_module.py"
      ],
      "execution_count": 0,
      "outputs": []
    },
    {
      "cell_type": "code",
      "metadata": {
        "id": "efklgBeasaz_",
        "colab_type": "code",
        "outputId": "4e28a739-2665-4eb7-f2c3-d590ae5b796f",
        "colab": {
          "base_uri": "https://localhost:8080/",
          "height": 34
        }
      },
      "source": [
        "import even_module\n",
        "print(even_module.list1)"
      ],
      "execution_count": 32,
      "outputs": [
        {
          "output_type": "stream",
          "text": [
            "[0, 2, 4, 6, 8, 10, 12, 12]\n"
          ],
          "name": "stdout"
        }
      ]
    },
    {
      "cell_type": "markdown",
      "metadata": {
        "id": "THXbUMdMxJ0I",
        "colab_type": "text"
      },
      "source": [
        "**program_file_using_even_module.py** is a Python script/ python file where you are actually working.\n",
        "\n",
        "First, we import our **even_module** module (note the lack of a .py extension)<br>\n",
        "Next, we access the *list1* variable inside **program_file_using_even_module**, and perform a list method on it.<br>\n",
        "`.append(12)` proves we're working with a Python list object, and not just a string.<br>\n",
        "Finally, we tell our script to print the modified list.\n"
      ]
    },
    {
      "cell_type": "markdown",
      "metadata": {
        "id": "OBW7aLwMsa0K",
        "colab_type": "text"
      },
      "source": [
        "The above cell proves that we never altered **even_module.py**, we just appended a number to the list *after* it was brought into **my_actual_file**."
      ]
    },
    {
      "cell_type": "markdown",
      "metadata": {
        "id": "fCDuTINrRaVk",
        "colab_type": "text"
      },
      "source": [
        "# Calling the module's function and passing your own input values\n",
        "\n",
        "### Method 1 - Passing arguments in the actual file/script\n"
      ]
    },
    {
      "cell_type": "code",
      "metadata": {
        "id": "J5Ma52xUQy-X",
        "colab_type": "code",
        "outputId": "d1f30c7d-00dd-4dc7-cff0-f98d2f3ed132",
        "colab": {
          "base_uri": "https://localhost:8080/",
          "height": 52
        }
      },
      "source": [
        "import even_module\n",
        "\n",
        "num = 25\n",
        "result = even_module.even_function(num)\n",
        "print(result)\n",
        "#get the result of the function in a variable \n",
        "\n",
        "print(even_module.list1)\n",
        "#Original list is not updating"
      ],
      "execution_count": 33,
      "outputs": [
        {
          "output_type": "stream",
          "text": [
            "[0, 2, 4, 6, 8, 10, 12, 14, 16, 18, 20, 22, 24]\n",
            "[0, 2, 4, 6, 8, 10, 12, 12]\n"
          ],
          "name": "stdout"
        }
      ]
    },
    {
      "cell_type": "markdown",
      "metadata": {
        "id": "kaI6Ckvtsa0M",
        "colab_type": "text"
      },
      "source": [
        "### Method 2 - Passing command line arguments\n",
        "Python's `sys` module gives you access to command line arguments when calling scripts."
      ]
    },
    {
      "cell_type": "code",
      "metadata": {
        "id": "kjy2l2fzsa0P",
        "colab_type": "code",
        "outputId": "2cd11220-ea75-402f-c0e9-371b45680d62",
        "colab": {
          "base_uri": "https://localhost:8080/",
          "height": 34
        }
      },
      "source": [
        "%%writefile program_file_using_even_module_passing_command_line_arguments.py\n",
        "import sys\n",
        "import even_module\n",
        "\n",
        "print(sys.argv) # ['name_of_my_python_file.py' , input given by me]\n",
        "num = int(sys.argv[1])\n",
        "\n",
        "result = even_module.even_function(num)\n",
        "print(result)\n"
      ],
      "execution_count": 34,
      "outputs": [
        {
          "output_type": "stream",
          "text": [
            "Writing program_file_using_even_module_passing_command_line_arguments.py\n"
          ],
          "name": "stdout"
        }
      ]
    },
    {
      "cell_type": "markdown",
      "metadata": {
        "id": "gxpio_OKsa0e",
        "colab_type": "text"
      },
      "source": [
        "Note that we selected the second item in the list of arguments with `sys.argv[1]`.<br>\n",
        "This is because the list created with `sys.argv` always starts with the name of the file being used.<br>"
      ]
    },
    {
      "cell_type": "code",
      "metadata": {
        "id": "tzejVamYsa0f",
        "colab_type": "code",
        "outputId": "2051c05d-b174-442e-b3f2-ec989b57f256",
        "colab": {
          "base_uri": "https://localhost:8080/",
          "height": 52
        }
      },
      "source": [
        "! python program_file_using_even_module_passing_command_line_arguments.py 25"
      ],
      "execution_count": 35,
      "outputs": [
        {
          "output_type": "stream",
          "text": [
            "['program_file_using_even_module_passing_command_line_arguments.py', '25']\n",
            "[0, 2, 4, 6, 8, 10, 12, 14, 16, 18, 20, 22, 24]\n"
          ],
          "name": "stdout"
        }
      ]
    },
    {
      "cell_type": "markdown",
      "metadata": {
        "id": "5_StZ9i8sa0p",
        "colab_type": "text"
      },
      "source": [
        "Here we're passing 25 to be the upper range value used by the *even_function* function in **even_module.py**"
      ]
    },
    {
      "cell_type": "code",
      "metadata": {
        "id": "2UB4yGmEUxCE",
        "colab_type": "code",
        "colab": {}
      },
      "source": [
        ""
      ],
      "execution_count": 0,
      "outputs": []
    }
  ]
}