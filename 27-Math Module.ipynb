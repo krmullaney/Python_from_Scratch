{
  "nbformat": 4,
  "nbformat_minor": 0,
  "metadata": {
    "colab": {
      "name": "Math.ipynb",
      "provenance": [],
      "collapsed_sections": []
    },
    "kernelspec": {
      "name": "python3",
      "display_name": "Python 3"
    }
  },
  "cells": [
    {
      "cell_type": "markdown",
      "metadata": {
        "id": "zmbYv9MNJcBA",
        "colab_type": "text"
      },
      "source": [
        "# Math\n",
        "\n",
        "Python has a set of built-in math functions, including an extensive math module, that allows you to perform mathematical tasks on numbers.\n",
        "\n",
        "\n",
        "#Built-in Math Functions\n",
        "\n",
        "The min() and max() functions can be used to find the lowest or highest value in an iterabl\n"
      ]
    },
    {
      "cell_type": "code",
      "metadata": {
        "id": "WbelOkFYJfTr",
        "colab_type": "code",
        "colab": {
          "base_uri": "https://localhost:8080/",
          "height": 52
        },
        "outputId": "8ea72d61-7d03-477f-97b1-80c9c07eabc0"
      },
      "source": [
        "x = min(5, 10, 25)\n",
        "y = max(5, 10, 25)\n",
        "\n",
        "print(x)\n",
        "print(y) "
      ],
      "execution_count": 11,
      "outputs": [
        {
          "output_type": "stream",
          "text": [
            "5\n",
            "25\n"
          ],
          "name": "stdout"
        }
      ]
    },
    {
      "cell_type": "markdown",
      "metadata": {
        "id": "piLJ71YEJuXT",
        "colab_type": "text"
      },
      "source": [
        "The abs() function returns the absolute (positive) value of the specified number:"
      ]
    },
    {
      "cell_type": "code",
      "metadata": {
        "id": "XyhXn9rCJrNj",
        "colab_type": "code",
        "colab": {
          "base_uri": "https://localhost:8080/",
          "height": 34
        },
        "outputId": "bb2316ff-7abe-4c8d-b77a-02cf3cc78801"
      },
      "source": [
        " x = abs(-7.25)\n",
        "\n",
        "print(x) "
      ],
      "execution_count": 12,
      "outputs": [
        {
          "output_type": "stream",
          "text": [
            "7.25\n"
          ],
          "name": "stdout"
        }
      ]
    },
    {
      "cell_type": "markdown",
      "metadata": {
        "id": "MLqDjI9gJ1jl",
        "colab_type": "text"
      },
      "source": [
        "The pow(x, y) function returns the value of x to the power of y (xy)."
      ]
    },
    {
      "cell_type": "code",
      "metadata": {
        "id": "yQ7sfzdBJyZH",
        "colab_type": "code",
        "colab": {
          "base_uri": "https://localhost:8080/",
          "height": 34
        },
        "outputId": "3065b8c0-410b-4327-ecc6-d02cb2788b1c"
      },
      "source": [
        "x = pow(4, 3)\n",
        "\n",
        "print(x) "
      ],
      "execution_count": 14,
      "outputs": [
        {
          "output_type": "stream",
          "text": [
            "64\n"
          ],
          "name": "stdout"
        }
      ]
    },
    {
      "cell_type": "markdown",
      "metadata": {
        "id": "zrvPeynFKGWS",
        "colab_type": "text"
      },
      "source": [
        "# The Math Module\n",
        "\n",
        "Python has also a built-in module called math, which extends the list of mathematical functions.\n",
        "\n",
        "To use it, you must import the math module.\n",
        "\n",
        "When you have imported the math module, you can start using methods and constants of the module.\n"
      ]
    },
    {
      "cell_type": "code",
      "metadata": {
        "id": "NMTi9Q6qKXQt",
        "colab_type": "code",
        "colab": {}
      },
      "source": [
        "import math"
      ],
      "execution_count": 0,
      "outputs": []
    },
    {
      "cell_type": "markdown",
      "metadata": {
        "id": "bXVsUWyBKXgT",
        "colab_type": "text"
      },
      "source": [
        "\n",
        "The math.sqrt() method for example, returns the square root of a number.\n"
      ]
    },
    {
      "cell_type": "code",
      "metadata": {
        "id": "LALIFPeYJ2Fj",
        "colab_type": "code",
        "colab": {
          "base_uri": "https://localhost:8080/",
          "height": 34
        },
        "outputId": "54c2f421-3e50-4318-a5b7-1cab8ca0f66a"
      },
      "source": [
        "x = math.sqrt(64)\n",
        "\n",
        "print(x) "
      ],
      "execution_count": 17,
      "outputs": [
        {
          "output_type": "stream",
          "text": [
            "8.0\n"
          ],
          "name": "stdout"
        }
      ]
    },
    {
      "cell_type": "markdown",
      "metadata": {
        "id": "ESU4mTqWKfEH",
        "colab_type": "text"
      },
      "source": [
        "The math.ceil() method rounds a number upwards to its nearest integer, and the math.floor() method rounds a number downwards to its nearest integer, and returns the result:"
      ]
    },
    {
      "cell_type": "code",
      "metadata": {
        "id": "7OGSizGmKfSc",
        "colab_type": "code",
        "colab": {
          "base_uri": "https://localhost:8080/",
          "height": 52
        },
        "outputId": "5674fa9d-dbea-4c42-b8cc-046c5ad1cee6"
      },
      "source": [
        "x = math.ceil(1.4)\n",
        "y = math.floor(1.4)\n",
        "\n",
        "print(x) # returns 2\n",
        "print(y) # returns 1 "
      ],
      "execution_count": 19,
      "outputs": [
        {
          "output_type": "stream",
          "text": [
            "2\n",
            "1\n"
          ],
          "name": "stdout"
        }
      ]
    },
    {
      "cell_type": "markdown",
      "metadata": {
        "id": "WTmVwExXKpbW",
        "colab_type": "text"
      },
      "source": [
        "The math.pi constant, returns the value of PI (3.14...)"
      ]
    },
    {
      "cell_type": "code",
      "metadata": {
        "id": "GqpzXKiuKhLB",
        "colab_type": "code",
        "colab": {
          "base_uri": "https://localhost:8080/",
          "height": 34
        },
        "outputId": "40395b6a-861c-4f1b-b194-4fb6a90baeab"
      },
      "source": [
        "x = math.pi\n",
        "\n",
        "print(x) "
      ],
      "execution_count": 20,
      "outputs": [
        {
          "output_type": "stream",
          "text": [
            "3.141592653589793\n"
          ],
          "name": "stdout"
        }
      ]
    },
    {
      "cell_type": "markdown",
      "metadata": {
        "id": "mRk1iqEnK5rq",
        "colab_type": "text"
      },
      "source": [
        "# Explore other methods"
      ]
    },
    {
      "cell_type": "code",
      "metadata": {
        "id": "pGOzlhErKs2t",
        "colab_type": "code",
        "colab": {
          "base_uri": "https://localhost:8080/",
          "height": 54
        },
        "outputId": "e35665e2-0bc5-41a1-b1a2-c547984bc431"
      },
      "source": [
        "print(dir(math))"
      ],
      "execution_count": 21,
      "outputs": [
        {
          "output_type": "stream",
          "text": [
            "['__doc__', '__loader__', '__name__', '__package__', '__spec__', 'acos', 'acosh', 'asin', 'asinh', 'atan', 'atan2', 'atanh', 'ceil', 'copysign', 'cos', 'cosh', 'degrees', 'e', 'erf', 'erfc', 'exp', 'expm1', 'fabs', 'factorial', 'floor', 'fmod', 'frexp', 'fsum', 'gamma', 'gcd', 'hypot', 'inf', 'isclose', 'isfinite', 'isinf', 'isnan', 'ldexp', 'lgamma', 'log', 'log10', 'log1p', 'log2', 'modf', 'nan', 'pi', 'pow', 'radians', 'sin', 'sinh', 'sqrt', 'tan', 'tanh', 'tau', 'trunc']\n"
          ],
          "name": "stdout"
        }
      ]
    },
    {
      "cell_type": "code",
      "metadata": {
        "id": "iFoRJ-4_K_jU",
        "colab_type": "code",
        "colab": {
          "base_uri": "https://localhost:8080/",
          "height": 139
        },
        "outputId": "d75793a7-2ad9-4919-815b-70b47fc5bb11"
      },
      "source": [
        "help(math.acos)"
      ],
      "execution_count": 22,
      "outputs": [
        {
          "output_type": "stream",
          "text": [
            "Help on built-in function acos in module math:\n",
            "\n",
            "acos(...)\n",
            "    acos(x)\n",
            "    \n",
            "    Return the arc cosine (measured in radians) of x.\n",
            "\n"
          ],
          "name": "stdout"
        }
      ]
    },
    {
      "cell_type": "markdown",
      "metadata": {
        "id": "QxJWqvH3LAtv",
        "colab_type": "text"
      },
      "source": [
        "\n",
        "##Math Methods\n",
        "\n",
        "\n",
        "    Method \tDescription\n",
        "    math.acos(x) \tReturns the arc cosine value of x\n",
        "    math.acosh(x) \tReturns the hyperbolic arc cosine of x\n",
        "    math.asin(x) \tReturns the arc sine of x\n",
        "    math.asinh(x) \tReturns the hyperbolic arc sine of x\n",
        "    math.atan(x) \tReturns the arc tangent value of x\n",
        "    math.atan2(y, x) \tReturns the arc tangent of y/x in radians\n",
        "    math.atanh(x) \tReturns the hyperbolic arctangent value of x\n",
        "    math.ceil(x) \tRounds a number upwards to the nearest integer, and returns the result\n",
        "    math.comb(n, k) \tReturns the number of ways to choose k items from n items without repetition and order\n",
        "    math.copysign(x, y) \tReturns a float consisting of the value of the first parameter and the sign of the second parameter\n",
        "    math.cos(x) \tReturns the cosine of x\n",
        "    math.cosh(x) \tReturns the hyperbolic cosine of x\n",
        "    math.degrees(x) \tConverts an angle from radians to degrees\n",
        "    math.dist(p, q) \tCalculates the euclidean distance between two specified points (p and q), where p and q are the coordinates of that point\n",
        "    math.erf(x) \tReturns the error function of x\n",
        "    math.erfc(x) \tReturns the complementary error function of x\n",
        "    math.exp(x) \tReturns the value of Ex, where E is Euler's number (approximately 2.718281...), and x is the number passed to it\n",
        "    math.expm1(x) \tReturns the value of Ex - 1, where E is Euler's number (approximately 2.718281...), and x is the number passed to it\n",
        "    math.fabs(x) \tReturns the absolute value of a number\n",
        "    math.factorial() \tReturns the factorial of a number\n",
        "    math.floor(x) \tRounds a number downwards to the nearest integer, and returns the result\n",
        "    math.fmod(x, y) \tReturns the remainder of specified numbers when a number is divided by another number\n",
        "    math.frexp() \tReturns the mantissa and the exponent, of a specified value\n",
        "    math.fsum(iterable) \tReturns the sum of all items in an iterable (tuples, arrays, lists, etc.)\n",
        "    math.gamma(x) \tReturns the gamma value of x\n",
        "    math.gcd() \tReturns the highest value that can divide two integers\n",
        "    math.hypot() \tFind the Euclidean distance from the origin for n inputs\n",
        "    math.isclose() \tChecks whether two values are close, or not\n",
        "    math.isfinite(x) \tChecks whether x is a finite number\n",
        "    math.isinf(x) \tCheck whether x is a positive or negative infinty\n",
        "    math.isnan(x) \tChecks whether x is NaN (not a number)\n",
        "    math.isqrt(n) \tReturns the nearest integer square root of n\n",
        "    math.ldexp(x, i) \tReturns the expression x * 2i where x is mantissa and i is an exponent\n",
        "    math.lgamma(x) \tReturns the log gamma value of x\n",
        "    math.log(x, base) \tReturns the natural logarithm of a number, or the logarithm of number to base\n",
        "    math.log10(x) \tReturns the base-10 logarithm of x\n",
        "    math.log1p(x) \tReturns the natural logarithm of 1+x\n",
        "    math.log2(x) \tReturns the base-2 logarithm of x\n",
        "    math.perm(n, k) \tReturns the number of ways to choose k items from n items with order and without repetition\n",
        "    math.pow(x, y) \tReturns the value of x to the power of y\n",
        "    math.prod(iterable, *, start=1) \tReturns the product of an iterable (lists, array, tuples, etc.)\n",
        "    math.radians(x) \tConverts a degree value (x) to radians\n",
        "    math.remainder(x, y) \tReturns the closest value that can make numerator completely divisible by the denominator\n",
        "    math.sin(x) \tReturns the sine of x\n",
        "    math.sinh(x) \tReturns the hyperbolic sine of x\n",
        "    math.sqrt(x) \tReturns the square root of x\n",
        "    math.tan(x) \tReturns the tangent of x\n",
        "    math.tanh(x) \tReturns the hyperbolic tangent of x\n",
        "    math.trunc(x) \tReturns the truncated integer parts of x"
      ]
    },
    {
      "cell_type": "markdown",
      "metadata": {
        "id": "toRoELpCLP1r",
        "colab_type": "text"
      },
      "source": [
        "# Math Constants\n",
        "\n",
        "    Constant \tDescription\n",
        "    math.e \tReturns Euler's number (2.7182...)\n",
        "    math.inf \tReturns a floating-point positive infinity\n",
        "    math.nan \tReturns a floating-point NaN (Not a Number) value\n",
        "    math.pi \tReturns PI (3.1415...)\n",
        "    math.tau \tReturns tau (6.2831...)"
      ]
    },
    {
      "cell_type": "code",
      "metadata": {
        "id": "obhe9OGjLa_1",
        "colab_type": "code",
        "colab": {}
      },
      "source": [
        ""
      ],
      "execution_count": 0,
      "outputs": []
    }
  ]
}