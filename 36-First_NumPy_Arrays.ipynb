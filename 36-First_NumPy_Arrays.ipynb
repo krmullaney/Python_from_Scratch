{
  "nbformat": 4,
  "nbformat_minor": 0,
  "metadata": {
    "kernelspec": {
      "display_name": "Python 3",
      "language": "python",
      "name": "python3"
    },
    "language_info": {
      "codemirror_mode": {
        "name": "ipython",
        "version": 3
      },
      "file_extension": ".py",
      "mimetype": "text/x-python",
      "name": "python",
      "nbconvert_exporter": "python",
      "pygments_lexer": "ipython3",
      "version": "3.6.2"
    },
    "colab": {
      "name": "First-NumPy Arrays.ipynb",
      "provenance": [],
      "collapsed_sections": []
    }
  },
  "cells": [
    {
      "cell_type": "markdown",
      "metadata": {
        "id": "lqc5pIzXMcz7",
        "colab_type": "text"
      },
      "source": [
        "# NumPy \n",
        "\n",
        "NumPy stands for Numerical Python. NumPy (or Numpy) is a Linear Algebra Library for Python, the reason it is so important for Data Science with Python is that almost all of the libraries in the PyData Ecosystem rely on NumPy as one of their main building blocks.\n",
        "\n",
        "NumPy is a python library used for working with arrays.\n",
        "NumPy was created in 2005 by Travis Oliphant. It is an open source project and you can use it freely.\n",
        "\n",
        "# Why Use NumPy ?\n",
        "\n",
        "In Python we have lists that serve the purpose of arrays, but they are slow to process.\n",
        "\n",
        "NumPy aims to provide an array object that is up to 50x faster that traditional Python lists.\n",
        "\n",
        "Arrays are very frequently used in data science, where speed and resources are very important.\n",
        "\n",
        "\n",
        "Numpy is also incredibly fast, as it has bindings to C libraries. For more info on why you would want to use Arrays instead of lists, check out this great [StackOverflow post](http://stackoverflow.com/questions/993984/why-numpy-instead-of-python-lists).\n",
        "\n",
        "#Why is NumPy Faster Than Lists?\n",
        "\n",
        "NumPy arrays are stored at one continuous place in memory unlike lists, so processes can access and manipulate them very efficiently.\n",
        "\n",
        "This behavior is called locality of reference in computer science.\n",
        "\n",
        "This is the main reason why NumPy is faster than lists. Also it is optimized to work with latest CPU architectures\n",
        "\n",
        "\n",
        "#Where is the NumPy Codebase?\n",
        "\n",
        "The source code for NumPy is located at this github repository https://github.com/numpy/numpy\n",
        "\n",
        "github: enables many people to work on the same codebase.\n"
      ]
    },
    {
      "cell_type": "markdown",
      "metadata": {
        "id": "vQ3LjCCgMc0C",
        "colab_type": "text"
      },
      "source": [
        "We will only learn the basics of NumPy, to get started we need to install it!\n",
        "\n",
        "## Installation Instructions\n",
        "\n",
        "**It is highly recommended you install Python using the Anaconda distribution to make sure all underlying dependencies (such as Linear Algebra libraries) all sync up with the use of a conda install. If you have Anaconda, install NumPy by going to your terminal or command prompt and typing:**\n",
        "    \n",
        "    conda install numpy\n",
        "    \n",
        "**If you do not have Anaconda and can not install it, please refer to [Numpy's official documentation on various installation instructions.](http://docs.scipy.org/doc/numpy-1.10.1/user/install.html)**"
      ]
    },
    {
      "cell_type": "markdown",
      "metadata": {
        "id": "zk7LFBoeMc0I",
        "colab_type": "text"
      },
      "source": [
        "## Using NumPy\n",
        "\n",
        "Once you've installed NumPy you can import it as a library:"
      ]
    },
    {
      "cell_type": "code",
      "metadata": {
        "id": "4jf4g2JCMc0L",
        "colab_type": "code",
        "outputId": "728da006-116c-484c-d7bf-55045217beb9",
        "colab": {
          "base_uri": "https://localhost:8080/",
          "height": 34
        }
      },
      "source": [
        "import numpy as np\n",
        "\n",
        "#Check the version of the install numpy\n",
        "print(np.__version__)"
      ],
      "execution_count": 1,
      "outputs": [
        {
          "output_type": "stream",
          "text": [
            "1.18.4\n"
          ],
          "name": "stdout"
        }
      ]
    },
    {
      "cell_type": "code",
      "metadata": {
        "id": "ZrGVeI0siIiV",
        "colab_type": "code",
        "colab": {}
      },
      "source": [
        "#Get help about the numpy\n",
        "np?"
      ],
      "execution_count": 0,
      "outputs": []
    },
    {
      "cell_type": "code",
      "metadata": {
        "id": "Z6zYVY5PiVQm",
        "colab_type": "code",
        "colab": {}
      },
      "source": [
        "#Opens the list of available functions and attributes\n",
        "\n",
        "#np.\n",
        "#np.<tab>"
      ],
      "execution_count": 0,
      "outputs": []
    },
    {
      "cell_type": "markdown",
      "metadata": {
        "id": "vzK2HZ2jMc0j",
        "colab_type": "text"
      },
      "source": [
        "Numpy has many built-in functions and capabilities. We won't cover them all but instead we will focus on some of the most important aspects of Numpy: vectors,arrays,matrices, and number generation. Let's start by discussing arrays.\n",
        "\n",
        "# Numpy Arrays\n",
        "\n",
        "\n",
        "\n",
        "NumPy is used to work with arrays. The array object in NumPy is called ndarray, it provides a lot of supporting functions that make working with ndarray very easy.\n",
        "\n",
        "We can create a NumPy ndarray object by using the array() function.\n",
        "\n",
        "Numpy arrays essentially come in two flavors: vectors and matrices. Vectors are strictly 1-d arrays and matrices are 2-d (but you should note a matrix can still have only one row or one column).\n",
        "\n",
        "Let's begin our introduction by exploring how to create NumPy arrays.\n",
        "\n",
        "## Creating NumPy Arrays\n",
        "\n",
        "### From a Python List\n",
        "\n",
        "We can create an array by directly converting a list or list of lists:"
      ]
    },
    {
      "cell_type": "code",
      "metadata": {
        "id": "is0Ya13pMc0o",
        "colab_type": "code",
        "outputId": "0222744c-0f92-4af0-cd29-349ca7802bf1",
        "colab": {
          "base_uri": "https://localhost:8080/",
          "height": 34
        }
      },
      "source": [
        "my_list = [1,2,3] \n",
        "my_list"
      ],
      "execution_count": 3,
      "outputs": [
        {
          "output_type": "execute_result",
          "data": {
            "text/plain": [
              "[1, 2, 3]"
            ]
          },
          "metadata": {
            "tags": []
          },
          "execution_count": 3
        }
      ]
    },
    {
      "cell_type": "code",
      "metadata": {
        "id": "3u_mMkYqMc08",
        "colab_type": "code",
        "outputId": "c38b7815-0293-4648-ea76-2d84d2dc8cae",
        "colab": {
          "base_uri": "https://localhost:8080/",
          "height": 34
        }
      },
      "source": [
        "np.array(my_list)"
      ],
      "execution_count": 4,
      "outputs": [
        {
          "output_type": "execute_result",
          "data": {
            "text/plain": [
              "array([1, 2, 3])"
            ]
          },
          "metadata": {
            "tags": []
          },
          "execution_count": 4
        }
      ]
    },
    {
      "cell_type": "markdown",
      "metadata": {
        "id": "Qw-3p7Y62sOd",
        "colab_type": "text"
      },
      "source": [
        "type(): This built-in Python function tells us the type of the object passed to it. Like in below code it shows that arr is numpy.ndarray type.\n"
      ]
    },
    {
      "cell_type": "code",
      "metadata": {
        "id": "ret-giXMGOBm",
        "colab_type": "code",
        "outputId": "56f4f798-21c9-4198-d97f-9e44c574c985",
        "colab": {
          "base_uri": "https://localhost:8080/",
          "height": 34
        }
      },
      "source": [
        "type(np.array(my_list))"
      ],
      "execution_count": 5,
      "outputs": [
        {
          "output_type": "execute_result",
          "data": {
            "text/plain": [
              "numpy.ndarray"
            ]
          },
          "metadata": {
            "tags": []
          },
          "execution_count": 5
        }
      ]
    },
    {
      "cell_type": "markdown",
      "metadata": {
        "id": "k1RlWJ4f7Sk9",
        "colab_type": "text"
      },
      "source": [
        "You can also grab the data type of the object in the array: \n",
        "arr.dtype"
      ]
    },
    {
      "cell_type": "code",
      "metadata": {
        "id": "O0Is2q0R1BFB",
        "colab_type": "code",
        "outputId": "92b9385b-5189-491c-a1e5-19af718f4114",
        "colab": {
          "base_uri": "https://localhost:8080/",
          "height": 34
        }
      },
      "source": [
        "# integer array:\n",
        "np.array(my_list).dtype"
      ],
      "execution_count": 7,
      "outputs": [
        {
          "output_type": "execute_result",
          "data": {
            "text/plain": [
              "dtype('int64')"
            ]
          },
          "metadata": {
            "tags": []
          },
          "execution_count": 7
        }
      ]
    },
    {
      "cell_type": "markdown",
      "metadata": {
        "id": "mV99CRDwvq21",
        "colab_type": "text"
      },
      "source": [
        "Remember that unlike Python lists, NumPy is constrained to arrays that all contain\n",
        "the same type. If types do not match, NumPy will upcast if possible (here, integers are\n",
        "upcast to floating point):"
      ]
    },
    {
      "cell_type": "code",
      "metadata": {
        "id": "YBeMOvLxvhnv",
        "colab_type": "code",
        "outputId": "e5d0fcb7-0fb0-4cff-b31b-75b2c923dc21",
        "colab": {
          "base_uri": "https://localhost:8080/",
          "height": 34
        }
      },
      "source": [
        "np.array([3.14, 4, 2, 3])"
      ],
      "execution_count": 9,
      "outputs": [
        {
          "output_type": "execute_result",
          "data": {
            "text/plain": [
              "array([3.14, 4.  , 2.  , 3.  ])"
            ]
          },
          "metadata": {
            "tags": []
          },
          "execution_count": 9
        }
      ]
    },
    {
      "cell_type": "markdown",
      "metadata": {
        "id": "6C9V_jcBv4N2",
        "colab_type": "text"
      },
      "source": [
        "If we want to explicitly set the data type of the resulting array, we can use the dtype\n",
        "keyword:"
      ]
    },
    {
      "cell_type": "code",
      "metadata": {
        "id": "spgSt2GEv8Le",
        "colab_type": "code",
        "outputId": "a2107cbb-1cdc-4208-95f0-0060869ded39",
        "colab": {
          "base_uri": "https://localhost:8080/",
          "height": 34
        }
      },
      "source": [
        "np.array([1, 2, 3, 4], dtype='float32')"
      ],
      "execution_count": 10,
      "outputs": [
        {
          "output_type": "execute_result",
          "data": {
            "text/plain": [
              "array([1., 2., 3., 4.], dtype=float32)"
            ]
          },
          "metadata": {
            "tags": []
          },
          "execution_count": 10
        }
      ]
    },
    {
      "cell_type": "markdown",
      "metadata": {
        "id": "Yo7b0KCh0cXz",
        "colab_type": "text"
      },
      "source": [
        "\n",
        "### From a Python Tuple\n",
        "\n",
        "We can create an array by directly converting a tuple:"
      ]
    },
    {
      "cell_type": "code",
      "metadata": {
        "id": "LE1AjO57kDZB",
        "colab_type": "code",
        "outputId": "6986127a-df66-4d04-90e3-749cbc41b374",
        "colab": {
          "base_uri": "https://localhost:8080/",
          "height": 34
        }
      },
      "source": [
        "my_tuple = (1, 2, 3, 4, 5)\n",
        "np.array(my_tuple)"
      ],
      "execution_count": 12,
      "outputs": [
        {
          "output_type": "execute_result",
          "data": {
            "text/plain": [
              "array([1, 2, 3, 4, 5])"
            ]
          },
          "metadata": {
            "tags": []
          },
          "execution_count": 12
        }
      ]
    },
    {
      "cell_type": "markdown",
      "metadata": {
        "id": "igl9jnBvlbLQ",
        "colab_type": "text"
      },
      "source": [
        "#Dimensions in Arrays\n",
        "\n",
        "A dimension in arrays is one level of array depth (nested arrays).\n",
        "\n",
        "nested array: are arrays that have arrays as their elements.\n"
      ]
    },
    {
      "cell_type": "markdown",
      "metadata": {
        "id": "m8272_1HliUa",
        "colab_type": "text"
      },
      "source": [
        "###0-D Arrays\n",
        "\n",
        "0-D arrays, or Scalars, are the elements in an array. Each value in an array is a 0-D array.\n",
        "\n"
      ]
    },
    {
      "cell_type": "code",
      "metadata": {
        "id": "8WrPLzSkle6-",
        "colab_type": "code",
        "outputId": "3610c8f6-6230-4b14-f81d-9092652adeaf",
        "colab": {
          "base_uri": "https://localhost:8080/",
          "height": 86
        }
      },
      "source": [
        "print(type(42))\n",
        "arr = np.array(42)\n",
        "print(arr) \n",
        "print(type(arr))\n",
        "print(arr.shape)"
      ],
      "execution_count": 16,
      "outputs": [
        {
          "output_type": "stream",
          "text": [
            "<class 'int'>\n",
            "42\n",
            "<class 'numpy.ndarray'>\n",
            "()\n"
          ],
          "name": "stdout"
        }
      ]
    },
    {
      "cell_type": "markdown",
      "metadata": {
        "id": "0NJsv3eSlmnw",
        "colab_type": "text"
      },
      "source": [
        "\n",
        "###1-D Arrays\n",
        "\n",
        "An array that has 0-D arrays as its elements is called uni-dimensional or 1-D array.\n",
        "\n",
        "These are the most common and basic arrays.\n",
        "\n"
      ]
    },
    {
      "cell_type": "code",
      "metadata": {
        "id": "yMzAN87Ql5wG",
        "colab_type": "code",
        "colab": {
          "base_uri": "https://localhost:8080/",
          "height": 52
        },
        "outputId": "2906258e-49c0-4536-8f46-f3f53d585c30"
      },
      "source": [
        "arr = np.array([1, 2, 3, 4, 5])\n",
        "print(arr) \n",
        "print(arr.shape) "
      ],
      "execution_count": 17,
      "outputs": [
        {
          "output_type": "stream",
          "text": [
            "[1 2 3 4 5]\n",
            "(5,)\n"
          ],
          "name": "stdout"
        }
      ]
    },
    {
      "cell_type": "markdown",
      "metadata": {
        "id": "LWliTUGKmG2c",
        "colab_type": "text"
      },
      "source": [
        "###2-D Arrays\n",
        "\n",
        "An array that has 1-D arrays as its elements is called a 2-D array.\n",
        "\n",
        "These are often used to represent matrix or 2nd order tensors.\n",
        "\n",
        "####NumPy has a whole sub module dedicated towards matrix operations called numpy.mat\n"
      ]
    },
    {
      "cell_type": "code",
      "metadata": {
        "id": "hjGG9MAImZ1g",
        "colab_type": "code",
        "outputId": "0458fb98-b112-48e3-8a8a-c1a4164a90d0",
        "colab": {
          "base_uri": "https://localhost:8080/",
          "height": 69
        }
      },
      "source": [
        "arr = np.array( [ [1, 2, 3], [4, 5, 6] ] )\n",
        "print(arr) \n",
        "print(arr.shape)"
      ],
      "execution_count": 19,
      "outputs": [
        {
          "output_type": "stream",
          "text": [
            "[[1 2 3]\n",
            " [4 5 6]]\n",
            "(2, 3)\n"
          ],
          "name": "stdout"
        }
      ]
    },
    {
      "cell_type": "code",
      "metadata": {
        "id": "A8qDPkjcMc1J",
        "colab_type": "code",
        "outputId": "d0cdeec1-28ae-4f22-fa36-d4cd3a5fe691",
        "colab": {
          "base_uri": "https://localhost:8080/",
          "height": 34
        }
      },
      "source": [
        "my_matrix = [ [1,2,3],[4,5,6],[7,8,9] ]\n",
        "my_matrix"
      ],
      "execution_count": 20,
      "outputs": [
        {
          "output_type": "execute_result",
          "data": {
            "text/plain": [
              "[[1, 2, 3], [4, 5, 6], [7, 8, 9]]"
            ]
          },
          "metadata": {
            "tags": []
          },
          "execution_count": 20
        }
      ]
    },
    {
      "cell_type": "code",
      "metadata": {
        "id": "5__n3qMcMc1f",
        "colab_type": "code",
        "outputId": "bc3a53fe-7f14-44b0-ba38-0c2abddaa884",
        "colab": {
          "base_uri": "https://localhost:8080/",
          "height": 69
        }
      },
      "source": [
        "np.array(my_matrix)"
      ],
      "execution_count": 21,
      "outputs": [
        {
          "output_type": "execute_result",
          "data": {
            "text/plain": [
              "array([[1, 2, 3],\n",
              "       [4, 5, 6],\n",
              "       [7, 8, 9]])"
            ]
          },
          "metadata": {
            "tags": []
          },
          "execution_count": 21
        }
      ]
    },
    {
      "cell_type": "markdown",
      "metadata": {
        "id": "hjG8KOm5mwm4",
        "colab_type": "text"
      },
      "source": [
        "###3-D arrays\n",
        "\n",
        "An array that has 2-D arrays (matrices) as its elements is called 3-D array.\n",
        "\n",
        "These are often used to represent a 3rd order tensor."
      ]
    },
    {
      "cell_type": "code",
      "metadata": {
        "id": "rw37opYymzT4",
        "colab_type": "code",
        "outputId": "5d44a0a0-94db-49e7-cc93-f3a23e208aa1",
        "colab": {
          "base_uri": "https://localhost:8080/",
          "height": 121
        }
      },
      "source": [
        "#Create a 3-D array with two 2-D arrays, both containing two arrays with the (total= 3)values 1,2,3 and 4,5,6:\n",
        "arr = np.array( [ [[1, 2, 3], [4, 5, 6]], [[1, 2, 3], [4, 5, 6]] ] )\n",
        "\n",
        "print(arr)\n",
        "print(arr.shape)"
      ],
      "execution_count": 23,
      "outputs": [
        {
          "output_type": "stream",
          "text": [
            "[[[1 2 3]\n",
            "  [4 5 6]]\n",
            "\n",
            " [[1 2 3]\n",
            "  [4 5 6]]]\n",
            "(2, 2, 3)\n"
          ],
          "name": "stdout"
        }
      ]
    },
    {
      "cell_type": "markdown",
      "metadata": {
        "id": "17W2YU98nagV",
        "colab_type": "text"
      },
      "source": [
        "###Check Number of Dimensions?\n",
        "\n",
        "NumPy Arrays provides the ndim attribute that returns an integer that tells us how many dimensions the array have."
      ]
    },
    {
      "cell_type": "code",
      "metadata": {
        "id": "IKyTAHcpnh3I",
        "colab_type": "code",
        "outputId": "faf44ed4-11f7-44f0-feeb-dc03a37df678",
        "colab": {
          "base_uri": "https://localhost:8080/",
          "height": 86
        }
      },
      "source": [
        "a = np.array(42)\n",
        "b = np.array([1, 2, 3, 4, 5])\n",
        "c = np.array([[1, 2, 3], [4, 5, 6]])\n",
        "d = np.array([ [[1, 2, 3], [4, 5, 6]], [[1, 2, 3], [4, 5, 6]] ])\n",
        "\n",
        "print(a.ndim)\n",
        "print(b.ndim)\n",
        "print(c.ndim)\n",
        "print(d.ndim) "
      ],
      "execution_count": 24,
      "outputs": [
        {
          "output_type": "stream",
          "text": [
            "0\n",
            "1\n",
            "2\n",
            "3\n"
          ],
          "name": "stdout"
        }
      ]
    },
    {
      "cell_type": "markdown",
      "metadata": {
        "id": "dWd1iCy_nde0",
        "colab_type": "text"
      },
      "source": [
        "### Higher Dimensional Arrays\n",
        "\n",
        "An array can have any number of dimensions.\n",
        "\n",
        "When the array is created, you can define the number of dimensions by using the ndmin argument.\n"
      ]
    },
    {
      "cell_type": "code",
      "metadata": {
        "id": "qkVpfiY_n256",
        "colab_type": "code",
        "outputId": "d4e10b50-4831-4eb7-f2f3-6b3a86211774",
        "colab": {
          "base_uri": "https://localhost:8080/",
          "height": 52
        }
      },
      "source": [
        "#Create an array with 5 dimensions and verify that it has 5 dimensions:\n",
        "arr = np.array([1, 2, 3, 4], ndmin=5)\n",
        "\n",
        "print(arr)\n",
        "print('number of dimensions :', arr.ndim) "
      ],
      "execution_count": 25,
      "outputs": [
        {
          "output_type": "stream",
          "text": [
            "[[[[[1 2 3 4]]]]]\n",
            "number of dimensions : 5\n"
          ],
          "name": "stdout"
        }
      ]
    },
    {
      "cell_type": "markdown",
      "metadata": {
        "id": "YAmYCHftoDaD",
        "colab_type": "text"
      },
      "source": [
        "In this array the innermost dimension (5th dim) has 4 elements, the 4th dim has 1 element that is the vector, the 3rd dim has 1 element that is the matrix with the vector, the 2nd dim has 1 element that is 3D array and 1st dim has 1 element that is a 4D array."
      ]
    },
    {
      "cell_type": "markdown",
      "metadata": {
        "id": "jKIMxNePMc1v",
        "colab_type": "text"
      },
      "source": [
        "#Creating arrays from scratch\n",
        "## Built-in Methods\n",
        "\n",
        "There are lots of built-in ways to generate Arrays"
      ]
    },
    {
      "cell_type": "code",
      "metadata": {
        "id": "cWqVIXayMc11",
        "colab_type": "code",
        "outputId": "e191ac81-4341-4d11-affe-4990cc52ab47",
        "colab": {
          "base_uri": "https://localhost:8080/",
          "height": 52
        }
      },
      "source": [
        "# arange : Return evenly spaced values within a given interval.\n",
        "np.arange(0,20)"
      ],
      "execution_count": 26,
      "outputs": [
        {
          "output_type": "execute_result",
          "data": {
            "text/plain": [
              "array([ 0,  1,  2,  3,  4,  5,  6,  7,  8,  9, 10, 11, 12, 13, 14, 15, 16,\n",
              "       17, 18, 19])"
            ]
          },
          "metadata": {
            "tags": []
          },
          "execution_count": 26
        }
      ]
    },
    {
      "cell_type": "code",
      "metadata": {
        "id": "eMQHMY1SMc2B",
        "colab_type": "code",
        "outputId": "8748f5ee-425b-42b7-caf3-15346335ea8b",
        "colab": {
          "base_uri": "https://localhost:8080/",
          "height": 34
        }
      },
      "source": [
        "# Create an array filled with a linear sequence\n",
        "# Starting at 0, ending at 20, stepping by 2\n",
        "# (this is similar to the built-in range() function)\n",
        "np.arange(0, 20, 2)"
      ],
      "execution_count": 27,
      "outputs": [
        {
          "output_type": "execute_result",
          "data": {
            "text/plain": [
              "array([ 0,  2,  4,  6,  8, 10, 12, 14, 16, 18])"
            ]
          },
          "metadata": {
            "tags": []
          },
          "execution_count": 27
        }
      ]
    },
    {
      "cell_type": "code",
      "metadata": {
        "id": "sAF03x-iMc2O",
        "colab_type": "code",
        "outputId": "f6d2c435-cb99-4a2e-d48b-df16721401d0",
        "colab": {
          "base_uri": "https://localhost:8080/",
          "height": 34
        }
      },
      "source": [
        "# Create a length-3 float(by default) array filled with zeros\n",
        "np.zeros(3)"
      ],
      "execution_count": 29,
      "outputs": [
        {
          "output_type": "execute_result",
          "data": {
            "text/plain": [
              "array([0., 0., 0.])"
            ]
          },
          "metadata": {
            "tags": []
          },
          "execution_count": 29
        }
      ]
    },
    {
      "cell_type": "code",
      "metadata": {
        "id": "4t5w6vcpWAQg",
        "colab_type": "code",
        "outputId": "ca4f27cc-6046-4355-dbd0-3a1ea50b51ad",
        "colab": {
          "base_uri": "https://localhost:8080/",
          "height": 34
        }
      },
      "source": [
        "# Create a length-3 integer array filled with zeros\n",
        "np.zeros(3 , dtype='int')"
      ],
      "execution_count": 30,
      "outputs": [
        {
          "output_type": "execute_result",
          "data": {
            "text/plain": [
              "array([0, 0, 0])"
            ]
          },
          "metadata": {
            "tags": []
          },
          "execution_count": 30
        }
      ]
    },
    {
      "cell_type": "code",
      "metadata": {
        "id": "dV-QCizCMc2b",
        "colab_type": "code",
        "outputId": "d4a52718-9c0c-4a99-d689-4e60fc955019",
        "colab": {
          "base_uri": "https://localhost:8080/",
          "height": 69
        }
      },
      "source": [
        "# Create a 3x5 floating-point array filled with zeros\n",
        "np.zeros((3,5) ,  dtype='int')"
      ],
      "execution_count": 32,
      "outputs": [
        {
          "output_type": "execute_result",
          "data": {
            "text/plain": [
              "array([[0, 0, 0, 0, 0],\n",
              "       [0, 0, 0, 0, 0],\n",
              "       [0, 0, 0, 0, 0]])"
            ]
          },
          "metadata": {
            "tags": []
          },
          "execution_count": 32
        }
      ]
    },
    {
      "cell_type": "code",
      "metadata": {
        "id": "hEV1P82CHero",
        "colab_type": "code",
        "colab": {
          "base_uri": "https://localhost:8080/",
          "height": 34
        },
        "outputId": "2f7b7416-31d8-4e8b-e8f0-f1756cb13a1d"
      },
      "source": [
        "# Create a length-3 floating-point array filled with 1s\n",
        "np.ones(3)"
      ],
      "execution_count": 33,
      "outputs": [
        {
          "output_type": "execute_result",
          "data": {
            "text/plain": [
              "array([1., 1., 1.])"
            ]
          },
          "metadata": {
            "tags": []
          },
          "execution_count": 33
        }
      ]
    },
    {
      "cell_type": "code",
      "metadata": {
        "id": "YoTWMUmHMc2k",
        "colab_type": "code",
        "outputId": "0cad384e-bef9-45f2-e99a-946ceaf0838f",
        "colab": {
          "base_uri": "https://localhost:8080/",
          "height": 69
        }
      },
      "source": [
        "# Create a 3x5 floating-point array filled with ones\n",
        "np.ones((3, 5))"
      ],
      "execution_count": 34,
      "outputs": [
        {
          "output_type": "execute_result",
          "data": {
            "text/plain": [
              "array([[1., 1., 1., 1., 1.],\n",
              "       [1., 1., 1., 1., 1.],\n",
              "       [1., 1., 1., 1., 1.]])"
            ]
          },
          "metadata": {
            "tags": []
          },
          "execution_count": 34
        }
      ]
    },
    {
      "cell_type": "code",
      "metadata": {
        "id": "ZaQrzbUAHmQd",
        "colab_type": "code",
        "outputId": "f2135d98-e621-46eb-a329-5b8c18f09a33",
        "colab": {
          "base_uri": "https://localhost:8080/",
          "height": 69
        }
      },
      "source": [
        "# Create a 3x5 integer array filled with 1's\n",
        "np.ones((3, 5), dtype=int)"
      ],
      "execution_count": 35,
      "outputs": [
        {
          "output_type": "execute_result",
          "data": {
            "text/plain": [
              "array([[1, 1, 1, 1, 1],\n",
              "       [1, 1, 1, 1, 1],\n",
              "       [1, 1, 1, 1, 1]])"
            ]
          },
          "metadata": {
            "tags": []
          },
          "execution_count": 35
        }
      ]
    },
    {
      "cell_type": "code",
      "metadata": {
        "id": "A9hwN8qXwz8M",
        "colab_type": "code",
        "outputId": "654f6764-b239-477f-99cd-c669e5c1df43",
        "colab": {
          "base_uri": "https://localhost:8080/",
          "height": 69
        }
      },
      "source": [
        "# Create a 3x5 array filled with 3.14\n",
        "np.full((3, 5), 3.14)"
      ],
      "execution_count": 37,
      "outputs": [
        {
          "output_type": "execute_result",
          "data": {
            "text/plain": [
              "array([[3.14, 3.14, 3.14, 3.14, 3.14],\n",
              "       [3.14, 3.14, 3.14, 3.14, 3.14],\n",
              "       [3.14, 3.14, 3.14, 3.14, 3.14]])"
            ]
          },
          "metadata": {
            "tags": []
          },
          "execution_count": 37
        }
      ]
    },
    {
      "cell_type": "code",
      "metadata": {
        "id": "ZaD25h72Mc3C",
        "colab_type": "code",
        "outputId": "1a004a05-8554-4718-a7c9-ff101e78dfa1",
        "colab": {
          "base_uri": "https://localhost:8080/",
          "height": 34
        }
      },
      "source": [
        "# Create an array of three values evenly spaced between 0 and 1\n",
        "np.linspace(0,10,3)"
      ],
      "execution_count": 38,
      "outputs": [
        {
          "output_type": "execute_result",
          "data": {
            "text/plain": [
              "array([ 0.,  5., 10.])"
            ]
          },
          "metadata": {
            "tags": []
          },
          "execution_count": 38
        }
      ]
    },
    {
      "cell_type": "code",
      "metadata": {
        "id": "TIBm0uNiMc3N",
        "colab_type": "code",
        "outputId": "b785aad0-125e-41a6-b577-ca6c7b7ee4fe",
        "colab": {
          "base_uri": "https://localhost:8080/",
          "height": 191
        }
      },
      "source": [
        "# Create an array of 50 values evenly spaced between 0 and 10\n",
        "np.linspace(0,10,50)"
      ],
      "execution_count": 39,
      "outputs": [
        {
          "output_type": "execute_result",
          "data": {
            "text/plain": [
              "array([ 0.        ,  0.20408163,  0.40816327,  0.6122449 ,  0.81632653,\n",
              "        1.02040816,  1.2244898 ,  1.42857143,  1.63265306,  1.83673469,\n",
              "        2.04081633,  2.24489796,  2.44897959,  2.65306122,  2.85714286,\n",
              "        3.06122449,  3.26530612,  3.46938776,  3.67346939,  3.87755102,\n",
              "        4.08163265,  4.28571429,  4.48979592,  4.69387755,  4.89795918,\n",
              "        5.10204082,  5.30612245,  5.51020408,  5.71428571,  5.91836735,\n",
              "        6.12244898,  6.32653061,  6.53061224,  6.73469388,  6.93877551,\n",
              "        7.14285714,  7.34693878,  7.55102041,  7.75510204,  7.95918367,\n",
              "        8.16326531,  8.36734694,  8.57142857,  8.7755102 ,  8.97959184,\n",
              "        9.18367347,  9.3877551 ,  9.59183673,  9.79591837, 10.        ])"
            ]
          },
          "metadata": {
            "tags": []
          },
          "execution_count": 39
        }
      ]
    },
    {
      "cell_type": "code",
      "metadata": {
        "id": "SqD6yoYRMc3a",
        "colab_type": "code",
        "outputId": "0192225d-927b-4909-a510-27dc086d7c1b",
        "colab": {
          "base_uri": "https://localhost:8080/",
          "height": 69
        }
      },
      "source": [
        "#Create a 3x3 identity matrix\n",
        "np.eye(3)"
      ],
      "execution_count": 41,
      "outputs": [
        {
          "output_type": "execute_result",
          "data": {
            "text/plain": [
              "array([[1., 0., 0.],\n",
              "       [0., 1., 0.],\n",
              "       [0., 0., 1.]])"
            ]
          },
          "metadata": {
            "tags": []
          },
          "execution_count": 41
        }
      ]
    },
    {
      "cell_type": "markdown",
      "metadata": {
        "id": "GpsMrdnZMc3m",
        "colab_type": "text"
      },
      "source": [
        "## Random \n",
        "\n",
        "Numpy also has lots of ways to create random number arrays:"
      ]
    },
    {
      "cell_type": "code",
      "metadata": {
        "id": "SjrtoxTeyKiY",
        "colab_type": "code",
        "outputId": "3d42b89e-d517-40cd-da0f-53439a78abab",
        "colab": {
          "base_uri": "https://localhost:8080/",
          "height": 191
        }
      },
      "source": [
        "# Create a 5x5 array of uniformly distributed\n",
        "# random values between 0 and 1\n",
        "np.random.random((5, 5))"
      ],
      "execution_count": 42,
      "outputs": [
        {
          "output_type": "execute_result",
          "data": {
            "text/plain": [
              "array([[7.71480934e-01, 1.49638273e-01, 6.27947581e-01, 2.89656832e-01,\n",
              "        2.74386167e-01],\n",
              "       [7.86071078e-01, 3.83621697e-01, 7.16868642e-01, 9.42972172e-01,\n",
              "        7.87232044e-01],\n",
              "       [5.76011454e-01, 8.21946362e-01, 1.64521339e-01, 9.42286845e-01,\n",
              "        4.02954314e-02],\n",
              "       [8.25776755e-01, 6.71054944e-01, 3.18744728e-04, 6.39528801e-01,\n",
              "        3.46001393e-01],\n",
              "       [8.36077480e-01, 6.30965815e-01, 4.18586688e-01, 7.50482228e-01,\n",
              "        8.65674238e-01]])"
            ]
          },
          "metadata": {
            "tags": []
          },
          "execution_count": 42
        }
      ]
    },
    {
      "cell_type": "code",
      "metadata": {
        "id": "DhonL0rxyUAE",
        "colab_type": "code",
        "outputId": "a670f5f1-5e3b-4675-8b0b-e41e9425fea2",
        "colab": {
          "base_uri": "https://localhost:8080/",
          "height": 69
        }
      },
      "source": [
        "# Create a 3x3 array of normally distributed random values\n",
        "# with mean 0 and standard deviation 1\n",
        "np.random.normal(0, 1, (3,3))"
      ],
      "execution_count": 43,
      "outputs": [
        {
          "output_type": "execute_result",
          "data": {
            "text/plain": [
              "array([[-1.46520079,  1.52996697,  0.01403803],\n",
              "       [ 0.09018552, -1.314373  ,  1.17689019],\n",
              "       [ 1.25349991, -0.09178462, -1.04244122]])"
            ]
          },
          "metadata": {
            "tags": []
          },
          "execution_count": 43
        }
      ]
    },
    {
      "cell_type": "code",
      "metadata": {
        "id": "Swxc45TsMc4U",
        "colab_type": "code",
        "outputId": "21c721fc-863f-47e4-ebb7-8f1036805f60",
        "colab": {
          "base_uri": "https://localhost:8080/",
          "height": 34
        }
      },
      "source": [
        "# Create an 1-Dimensional array of random integers in the interval [0, 100)\n",
        "# Return random integers from `low` (inclusive) to `high` (exclusive).\n",
        "np.random.randint(1,100)"
      ],
      "execution_count": 44,
      "outputs": [
        {
          "output_type": "execute_result",
          "data": {
            "text/plain": [
              "25"
            ]
          },
          "metadata": {
            "tags": []
          },
          "execution_count": 44
        }
      ]
    },
    {
      "cell_type": "code",
      "metadata": {
        "id": "f_ZtwnuzMc4c",
        "colab_type": "code",
        "outputId": "b932a3e4-10c9-44e3-d58f-7992b4ac261d",
        "colab": {
          "base_uri": "https://localhost:8080/",
          "height": 34
        }
      },
      "source": [
        "np.random.randint(1,100,10)"
      ],
      "execution_count": 46,
      "outputs": [
        {
          "output_type": "execute_result",
          "data": {
            "text/plain": [
              "array([69, 63, 68, 19, 40, 59, 71, 99, 45, 92])"
            ]
          },
          "metadata": {
            "tags": []
          },
          "execution_count": 46
        }
      ]
    },
    {
      "cell_type": "code",
      "metadata": {
        "id": "2PDlNwTkyhtv",
        "colab_type": "code",
        "outputId": "e0c9c943-f740-4be4-a9d5-b846d0cfd6e6",
        "colab": {
          "base_uri": "https://localhost:8080/",
          "height": 69
        }
      },
      "source": [
        "# Create a 3x3 array of random integers in the interval [0, 100)\n",
        "np.random.randint(0, 100, (3, 3))"
      ],
      "execution_count": 49,
      "outputs": [
        {
          "output_type": "execute_result",
          "data": {
            "text/plain": [
              "array([[38, 96, 19],\n",
              "       [54, 72,  2],\n",
              "       [57, 67, 12]])"
            ]
          },
          "metadata": {
            "tags": []
          },
          "execution_count": 49
        }
      ]
    },
    {
      "cell_type": "code",
      "metadata": {
        "id": "zVM9Eaqs66AX",
        "colab_type": "code",
        "outputId": "a7dabc30-5e65-4b20-d8fc-21a9fb1b05ad",
        "colab": {
          "base_uri": "https://localhost:8080/",
          "height": 34
        }
      },
      "source": [
        "# Create an uninitialized array of three integers\n",
        "# The values will be whatever happens to already exist at that\n",
        "# memory location\n",
        "\n",
        "# uninitialized, output may vary\n",
        "# the function empty creates an array whose initial content is random and depends on the state of the memory.\n",
        "# By default, the dtype of the created array is float64.\n",
        "np.empty(3)"
      ],
      "execution_count": 51,
      "outputs": [
        {
          "output_type": "execute_result",
          "data": {
            "text/plain": [
              "array([1., 1., 1.])"
            ]
          },
          "metadata": {
            "tags": []
          },
          "execution_count": 51
        }
      ]
    },
    {
      "cell_type": "code",
      "metadata": {
        "id": "X-w_ymhZV8wM",
        "colab_type": "code",
        "colab": {}
      },
      "source": [
        ""
      ],
      "execution_count": 0,
      "outputs": []
    }
  ]
}