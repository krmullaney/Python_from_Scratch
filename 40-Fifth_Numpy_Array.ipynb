{
  "nbformat": 4,
  "nbformat_minor": 0,
  "metadata": {
    "kernelspec": {
      "display_name": "Python 3",
      "language": "python",
      "name": "python3"
    },
    "language_info": {
      "codemirror_mode": {
        "name": "ipython",
        "version": 3
      },
      "file_extension": ".py",
      "mimetype": "text/x-python",
      "name": "python",
      "nbconvert_exporter": "python",
      "pygments_lexer": "ipython3",
      "version": "3.5.1"
    },
    "colab": {
      "name": "Fifth-Numpy Array.ipynb",
      "provenance": [],
      "collapsed_sections": []
    }
  },
  "cells": [
    {
      "cell_type": "markdown",
      "metadata": {
        "id": "mh8y_E0cda0y",
        "colab_type": "text"
      },
      "source": [
        "#Computation on Arrays: Broadcasting\n",
        "\n",
        "\n",
        "We saw in the previous section how NumPy’s universal functions can be used to vec‐\n",
        "torize operations and thereby remove slow Python loops. Another means of vectoriz‐\n",
        "ing operations is to use NumPy’s broadcasting functionality. Broadcasting is simply a\n",
        "set of rules for applying binary ufuncs (addition, subtraction, multiplication, etc.) on\n",
        "arrays of different sizes."
      ]
    },
    {
      "cell_type": "markdown",
      "metadata": {
        "id": "AONPXdlZd_pv",
        "colab_type": "text"
      },
      "source": [
        "# Introducing Broadcasting\n",
        "\n",
        "Recall that for arrays of the same size, binary operations are performed on an\n",
        "element-by-element basis"
      ]
    },
    {
      "cell_type": "code",
      "metadata": {
        "id": "uHYyN5_Hd3CQ",
        "colab_type": "code",
        "colab": {}
      },
      "source": [
        "import numpy as np"
      ],
      "execution_count": 0,
      "outputs": []
    },
    {
      "cell_type": "code",
      "metadata": {
        "id": "ZoJupt35eHYP",
        "colab_type": "code",
        "outputId": "acb2ea45-6f7c-4baa-b92e-2f27021033a4",
        "colab": {
          "base_uri": "https://localhost:8080/",
          "height": 34
        }
      },
      "source": [
        "a = np.array([0, 1, 2])\n",
        "b = np.array([5, 5, 5])\n",
        "a + b"
      ],
      "execution_count": 2,
      "outputs": [
        {
          "output_type": "execute_result",
          "data": {
            "text/plain": [
              "array([5, 6, 7])"
            ]
          },
          "metadata": {
            "tags": []
          },
          "execution_count": 2
        }
      ]
    },
    {
      "cell_type": "markdown",
      "metadata": {
        "id": "WYdvGqwTeWbk",
        "colab_type": "text"
      },
      "source": [
        "Broadcasting allows these types of binary operations to be performed on arrays of dif‐\n",
        "ferent sizes—for example, we can just as easily add a scalar (think of it as a zero-\n",
        "dimensional array) to an array:"
      ]
    },
    {
      "cell_type": "code",
      "metadata": {
        "id": "bMit11dleVK7",
        "colab_type": "code",
        "outputId": "a59dc3f9-991b-438e-f081-69e2dc45a58c",
        "colab": {
          "base_uri": "https://localhost:8080/",
          "height": 34
        }
      },
      "source": [
        "a + 5"
      ],
      "execution_count": 3,
      "outputs": [
        {
          "output_type": "execute_result",
          "data": {
            "text/plain": [
              "array([5, 6, 7])"
            ]
          },
          "metadata": {
            "tags": []
          },
          "execution_count": 3
        }
      ]
    },
    {
      "cell_type": "markdown",
      "metadata": {
        "id": "G2q2OQ1thalx",
        "colab_type": "text"
      },
      "source": [
        "We can think of this as an operation that stretches or duplicates the value 5 into the\n",
        "array [5, 5, 5] , and adds the results. The advantage of NumPy’s broadcasting is that\n",
        "this duplication of values does not actually take place, but it is a useful mental model\n",
        "as we think about broadcasting."
      ]
    },
    {
      "cell_type": "code",
      "metadata": {
        "id": "VvLsjsU99OVd",
        "colab_type": "code",
        "colab": {
          "base_uri": "https://localhost:8080/",
          "height": 34
        },
        "outputId": "0beb48e8-c5f4-41f4-93f2-8f372d4cbcdb"
      },
      "source": [
        "a"
      ],
      "execution_count": 6,
      "outputs": [
        {
          "output_type": "execute_result",
          "data": {
            "text/plain": [
              "array([0, 1, 2])"
            ]
          },
          "metadata": {
            "tags": []
          },
          "execution_count": 6
        }
      ]
    },
    {
      "cell_type": "code",
      "metadata": {
        "id": "_fdi1gsShNE6",
        "colab_type": "code",
        "outputId": "d527e54a-cb4f-4caa-acf7-adf78af465b5",
        "colab": {
          "base_uri": "https://localhost:8080/",
          "height": 69
        }
      },
      "source": [
        "M = np.ones((3, 3))\n",
        "M"
      ],
      "execution_count": 4,
      "outputs": [
        {
          "output_type": "execute_result",
          "data": {
            "text/plain": [
              "array([[1., 1., 1.],\n",
              "       [1., 1., 1.],\n",
              "       [1., 1., 1.]])"
            ]
          },
          "metadata": {
            "tags": []
          },
          "execution_count": 4
        }
      ]
    },
    {
      "cell_type": "code",
      "metadata": {
        "id": "ig0LS5PThd_S",
        "colab_type": "code",
        "outputId": "5f336c9e-4682-4737-f6bf-9eda16d1c808",
        "colab": {
          "base_uri": "https://localhost:8080/",
          "height": 69
        }
      },
      "source": [
        "M + a"
      ],
      "execution_count": 5,
      "outputs": [
        {
          "output_type": "execute_result",
          "data": {
            "text/plain": [
              "array([[1., 2., 3.],\n",
              "       [1., 2., 3.],\n",
              "       [1., 2., 3.]])"
            ]
          },
          "metadata": {
            "tags": []
          },
          "execution_count": 5
        }
      ]
    },
    {
      "cell_type": "markdown",
      "metadata": {
        "id": "tzENjU-RhnIA",
        "colab_type": "text"
      },
      "source": [
        "Here the one-dimensional array a is stretched, or broadcast, across the second\n",
        "dimension in order to match the shape of M .\n",
        "\n",
        "While these examples are relatively easy to understand, more complicated cases can\n",
        "involve broadcasting of both arrays. Consider the following example:"
      ]
    },
    {
      "cell_type": "code",
      "metadata": {
        "id": "I8ZiPRrzhfBc",
        "colab_type": "code",
        "outputId": "496ddb92-f812-4f15-b574-5bb65aa65cca",
        "colab": {
          "base_uri": "https://localhost:8080/",
          "height": 86
        }
      },
      "source": [
        "a = np.arange(3)\n",
        "b = np.arange(3)[:, np.newaxis]\n",
        "print(a)\n",
        "print(b)"
      ],
      "execution_count": 7,
      "outputs": [
        {
          "output_type": "stream",
          "text": [
            "[0 1 2]\n",
            "[[0]\n",
            " [1]\n",
            " [2]]\n"
          ],
          "name": "stdout"
        }
      ]
    },
    {
      "cell_type": "code",
      "metadata": {
        "id": "_g3gKTXwm2-h",
        "colab_type": "code",
        "outputId": "8cd8d1d0-67e3-4d29-c59e-e272200f4186",
        "colab": {
          "base_uri": "https://localhost:8080/",
          "height": 69
        }
      },
      "source": [
        "a+b"
      ],
      "execution_count": 8,
      "outputs": [
        {
          "output_type": "execute_result",
          "data": {
            "text/plain": [
              "array([[0, 1, 2],\n",
              "       [1, 2, 3],\n",
              "       [2, 3, 4]])"
            ]
          },
          "metadata": {
            "tags": []
          },
          "execution_count": 8
        }
      ]
    },
    {
      "cell_type": "code",
      "metadata": {
        "id": "4FZ4aSHrm5eJ",
        "colab_type": "code",
        "colab": {}
      },
      "source": [
        ""
      ],
      "execution_count": 0,
      "outputs": []
    }
  ]
}