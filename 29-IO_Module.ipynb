{
  "nbformat": 4,
  "nbformat_minor": 0,
  "metadata": {
    "kernelspec": {
      "display_name": "Python 3",
      "language": "python",
      "name": "python3"
    },
    "language_info": {
      "codemirror_mode": {
        "name": "ipython",
        "version": 3
      },
      "file_extension": ".py",
      "mimetype": "text/x-python",
      "name": "python",
      "nbconvert_exporter": "python",
      "pygments_lexer": "ipython3",
      "version": "3.6.2"
    },
    "colab": {
      "name": "IO.ipynb",
      "provenance": [],
      "collapsed_sections": []
    }
  },
  "cells": [
    {
      "cell_type": "markdown",
      "metadata": {
        "id": "rX60h9tPSNom",
        "colab_type": "text"
      },
      "source": [
        "# StringIO Objects and the io Module\n",
        "\n",
        "Back in leactures we opened files that exist outside of python, and streamed their contents into an in-memory file object. \n",
        "\n",
        "You can also create in-memory file-like objects within your program that Python treats the same way. Text data is stored in a StringIO object, while binary data would be stored in a BytesIO object. This object can then be used as input or output to most functions that would expect a standard file object.\n",
        "\n",
        "Let's investigate StringIO objects. The best way to show this is by example:"
      ]
    },
    {
      "cell_type": "code",
      "metadata": {
        "id": "42A8a9pcSNoq",
        "colab_type": "code",
        "colab": {}
      },
      "source": [
        "import io"
      ],
      "execution_count": 0,
      "outputs": []
    },
    {
      "cell_type": "code",
      "metadata": {
        "id": "jgI8o1g7SNo8",
        "colab_type": "code",
        "colab": {}
      },
      "source": [
        "# Arbitrary String\n",
        "message = 'This is just a normal string. It can be anything.'"
      ],
      "execution_count": 0,
      "outputs": []
    },
    {
      "cell_type": "code",
      "metadata": {
        "id": "HFFiKdLtSNpO",
        "colab_type": "code",
        "colab": {}
      },
      "source": [
        "# Use StringIO method to set as file object\n",
        "f = io.StringIO(message)"
      ],
      "execution_count": 0,
      "outputs": []
    },
    {
      "cell_type": "markdown",
      "metadata": {
        "id": "M8XcgakbSNpc",
        "colab_type": "text"
      },
      "source": [
        "Now we have an object *f* that we will be able to treat just like a file. For example:"
      ]
    },
    {
      "cell_type": "code",
      "metadata": {
        "id": "-35YSQ76SNpf",
        "colab_type": "code",
        "outputId": "94a09c62-5dca-41aa-b9d4-03896df7be40",
        "colab": {
          "base_uri": "https://localhost:8080/",
          "height": 34
        }
      },
      "source": [
        "f.read()"
      ],
      "execution_count": 14,
      "outputs": [
        {
          "output_type": "execute_result",
          "data": {
            "text/plain": [
              "'This is just a normal string. It can be anything.'"
            ]
          },
          "metadata": {
            "tags": []
          },
          "execution_count": 14
        }
      ]
    },
    {
      "cell_type": "markdown",
      "metadata": {
        "id": "aSiJM7fYSNps",
        "colab_type": "text"
      },
      "source": [
        "We can also write to it:"
      ]
    },
    {
      "cell_type": "code",
      "metadata": {
        "id": "wexr7z4mSNpu",
        "colab_type": "code",
        "outputId": "d61990d2-5eaf-45d3-fcf3-1a79ed1a55fa",
        "colab": {
          "base_uri": "https://localhost:8080/",
          "height": 34
        }
      },
      "source": [
        "f.write(' Another line written to the file like object')"
      ],
      "execution_count": 15,
      "outputs": [
        {
          "output_type": "execute_result",
          "data": {
            "text/plain": [
              "45"
            ]
          },
          "metadata": {
            "tags": []
          },
          "execution_count": 15
        }
      ]
    },
    {
      "cell_type": "code",
      "metadata": {
        "id": "yd0qTIY1SNp9",
        "colab_type": "code",
        "outputId": "25c8a2ee-3835-40d9-ef26-5c1a7e403933",
        "colab": {
          "base_uri": "https://localhost:8080/",
          "height": 34
        }
      },
      "source": [
        "# Reset cursor just like you would a file\n",
        "f.seek(0)"
      ],
      "execution_count": 17,
      "outputs": [
        {
          "output_type": "execute_result",
          "data": {
            "text/plain": [
              "0"
            ]
          },
          "metadata": {
            "tags": []
          },
          "execution_count": 17
        }
      ]
    },
    {
      "cell_type": "code",
      "metadata": {
        "id": "U63bv3OISNqJ",
        "colab_type": "code",
        "outputId": "05de6bed-c2db-40a0-9a79-51f1ac038d8c",
        "colab": {
          "base_uri": "https://localhost:8080/",
          "height": 34
        }
      },
      "source": [
        "# Read again\n",
        "f.read()"
      ],
      "execution_count": 18,
      "outputs": [
        {
          "output_type": "execute_result",
          "data": {
            "text/plain": [
              "'This is just a normal string. It can be anything. Another line written to the file like object'"
            ]
          },
          "metadata": {
            "tags": []
          },
          "execution_count": 18
        }
      ]
    },
    {
      "cell_type": "code",
      "metadata": {
        "id": "yL2O5EzJSNqR",
        "colab_type": "code",
        "colab": {}
      },
      "source": [
        "# Close the object when contents are no longer needed\n",
        "f.close()"
      ],
      "execution_count": 0,
      "outputs": []
    },
    {
      "cell_type": "markdown",
      "metadata": {
        "id": "uPoWzpdfSNqb",
        "colab_type": "text"
      },
      "source": [
        "Great! Now you've seen how we can use StringIO to turn normal strings into in-memory file objects in our code. This kind of action has various use cases, especially in web scraping cases where you want to read some string you scraped as a file.\n",
        "\n",
        "For more info on StringIO check out the documentation: https://docs.python.org/3/library/io.html"
      ]
    },
    {
      "cell_type": "code",
      "metadata": {
        "id": "k2x-UNTvSadl",
        "colab_type": "code",
        "colab": {}
      },
      "source": [
        ""
      ],
      "execution_count": 0,
      "outputs": []
    }
  ]
}