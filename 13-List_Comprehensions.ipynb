{
  "nbformat": 4,
  "nbformat_minor": 0,
  "metadata": {
    "kernelspec": {
      "display_name": "Python 3",
      "language": "python",
      "name": "python3"
    },
    "language_info": {
      "codemirror_mode": {
        "name": "ipython",
        "version": 3
      },
      "file_extension": ".py",
      "mimetype": "text/x-python",
      "name": "python",
      "nbconvert_exporter": "python",
      "pygments_lexer": "ipython3",
      "version": "3.6.2"
    },
    "colab": {
      "name": "List Comprehensions.ipynb",
      "provenance": [],
      "collapsed_sections": []
    }
  },
  "cells": [
    {
      "cell_type": "markdown",
      "metadata": {
        "collapsed": true,
        "id": "9cD-rN4OEIAu",
        "colab_type": "text"
      },
      "source": [
        "# List Comprehensions\n",
        "\n",
        "In addition to sequence operations and list methods, Python includes a more advanced operation called a list comprehension.\n",
        "\n",
        "List comprehensions allow us to build out lists using a different notation. You can think of it as essentially a one line <code>for</code> loop built inside of brackets. For a simple example:\n",
        "## Example 1"
      ]
    },
    {
      "cell_type": "code",
      "metadata": {
        "id": "BwrQkT_HN2MT",
        "colab_type": "code",
        "outputId": "aa9ad69b-4aed-484f-8231-67102ebd8f72",
        "colab": {
          "base_uri": "https://localhost:8080/",
          "height": 34
        }
      },
      "source": [
        "lst = []\n",
        "\n",
        "for x in 'word':\n",
        "  lst.append(x)\n",
        "\n",
        "lst"
      ],
      "execution_count": 1,
      "outputs": [
        {
          "output_type": "execute_result",
          "data": {
            "text/plain": [
              "['w', 'o', 'r', 'd']"
            ]
          },
          "metadata": {
            "tags": []
          },
          "execution_count": 1
        }
      ]
    },
    {
      "cell_type": "code",
      "metadata": {
        "id": "dOj-ZUlCEIA2",
        "colab_type": "code",
        "colab": {}
      },
      "source": [
        "# Grab every letter in string\n",
        "lst = [ x for x in 'word' ]\n",
        "\n",
        "lst_1 = [ x for x in 'my word']"
      ],
      "execution_count": 0,
      "outputs": []
    },
    {
      "cell_type": "code",
      "metadata": {
        "id": "yn1-jsEKEIBU",
        "colab_type": "code",
        "outputId": "61f3d527-8634-465f-a5ce-a07c99bcf46a",
        "colab": {
          "base_uri": "https://localhost:8080/",
          "height": 52
        }
      },
      "source": [
        "# Check\n",
        "print(lst)\n",
        "print(lst_1)"
      ],
      "execution_count": 3,
      "outputs": [
        {
          "output_type": "stream",
          "text": [
            "['w', 'o', 'r', 'd']\n",
            "['m', 'y', ' ', 'w', 'o', 'r', 'd']\n"
          ],
          "name": "stdout"
        }
      ]
    },
    {
      "cell_type": "markdown",
      "metadata": {
        "id": "Pw0hu9RKEIBz",
        "colab_type": "text"
      },
      "source": [
        "This is the basic idea of a list comprehension. If you're familiar with mathematical notation this format should feel familiar for example: x^2 : x in { 0,1,2...10 } \n",
        "\n",
        "Let's see a few more examples of list comprehensions in Python:\n",
        "## Example 2"
      ]
    },
    {
      "cell_type": "code",
      "metadata": {
        "id": "L75MYA4jqgUs",
        "colab_type": "code",
        "colab": {
          "base_uri": "https://localhost:8080/",
          "height": 34
        },
        "outputId": "d1ff16c2-cb31-4f24-8231-8195a69e625e"
      },
      "source": [
        "list( range(0,11))"
      ],
      "execution_count": 5,
      "outputs": [
        {
          "output_type": "execute_result",
          "data": {
            "text/plain": [
              "[0, 1, 2, 3, 4, 5, 6, 7, 8, 9, 10]"
            ]
          },
          "metadata": {
            "tags": []
          },
          "execution_count": 5
        }
      ]
    },
    {
      "cell_type": "code",
      "metadata": {
        "id": "gt_uwj75OUA-",
        "colab_type": "code",
        "outputId": "b83e596a-9827-4757-d248-4179d7028052",
        "colab": {
          "base_uri": "https://localhost:8080/",
          "height": 34
        }
      },
      "source": [
        "lst = []\n",
        "for x in range(0,11):\n",
        "  lst.append( x)\n",
        "\n",
        "lst"
      ],
      "execution_count": 4,
      "outputs": [
        {
          "output_type": "execute_result",
          "data": {
            "text/plain": [
              "[0, 1, 2, 3, 4, 5, 6, 7, 8, 9, 10]"
            ]
          },
          "metadata": {
            "tags": []
          },
          "execution_count": 4
        }
      ]
    },
    {
      "cell_type": "code",
      "metadata": {
        "id": "TEqv5dSaqngm",
        "colab_type": "code",
        "colab": {
          "base_uri": "https://localhost:8080/",
          "height": 34
        },
        "outputId": "f0bc6b8f-21ff-4e25-aa58-facfd1ecee3b"
      },
      "source": [
        "lst = []\n",
        "for x in range(0,11):\n",
        "  lst.append( x **2 ) # x raised power 2\n",
        "\n",
        "lst"
      ],
      "execution_count": 7,
      "outputs": [
        {
          "output_type": "execute_result",
          "data": {
            "text/plain": [
              "[0, 1, 4, 9, 16, 25, 36, 49, 64, 81, 100]"
            ]
          },
          "metadata": {
            "tags": []
          },
          "execution_count": 7
        }
      ]
    },
    {
      "cell_type": "code",
      "metadata": {
        "id": "ML1SnZGAEIB2",
        "colab_type": "code",
        "colab": {
          "base_uri": "https://localhost:8080/",
          "height": 34
        },
        "outputId": "f6292a66-fd91-4432-ed6a-1f3ba60931e5"
      },
      "source": [
        "# Square numbers in range and turn into list\n",
        "\n",
        "# lst = [x**2 for x in range(0,11)]\n",
        "\n",
        "\n",
        "lst = [ x for x in range(0,11) ]\n",
        "lst"
      ],
      "execution_count": 12,
      "outputs": [
        {
          "output_type": "execute_result",
          "data": {
            "text/plain": [
              "[0, 1, 2, 3, 4, 5, 6, 7, 8, 9, 10]"
            ]
          },
          "metadata": {
            "tags": []
          },
          "execution_count": 12
        }
      ]
    },
    {
      "cell_type": "code",
      "metadata": {
        "id": "fr2jVRt6rBvV",
        "colab_type": "code",
        "colab": {}
      },
      "source": [
        "lst = [ x**2 for x in range(0,11) ]\n",
        "lst_with_5_addition = [ x + 5 for x in range(0,11) ]\n"
      ],
      "execution_count": 0,
      "outputs": []
    },
    {
      "cell_type": "code",
      "metadata": {
        "id": "iSbUZGHbEICF",
        "colab_type": "code",
        "outputId": "d7242a3a-c7cd-4b1d-834a-e5fe052d561f",
        "colab": {
          "base_uri": "https://localhost:8080/",
          "height": 34
        }
      },
      "source": [
        "lst"
      ],
      "execution_count": 15,
      "outputs": [
        {
          "output_type": "execute_result",
          "data": {
            "text/plain": [
              "[5, 6, 7, 8, 9, 10, 11, 12, 13, 14, 15]"
            ]
          },
          "metadata": {
            "tags": []
          },
          "execution_count": 15
        }
      ]
    },
    {
      "cell_type": "markdown",
      "metadata": {
        "id": "F7AZqjJVEICT",
        "colab_type": "text"
      },
      "source": [
        "## Example 3\n",
        "Let's see how to add in <code>if</code> statements:"
      ]
    },
    {
      "cell_type": "code",
      "metadata": {
        "id": "sTwHAKfhOuIc",
        "colab_type": "code",
        "outputId": "f6be4634-14e1-4082-c6bb-6dc54c5b2b29",
        "colab": {
          "base_uri": "https://localhost:8080/",
          "height": 34
        }
      },
      "source": [
        "lst = []\n",
        "for x in range(0,11):\n",
        "  if(x % 2 == 0) :\n",
        "    lst.append( x )\n",
        "\n",
        "lst"
      ],
      "execution_count": 18,
      "outputs": [
        {
          "output_type": "execute_result",
          "data": {
            "text/plain": [
              "[0, 2, 4, 6, 8, 10]"
            ]
          },
          "metadata": {
            "tags": []
          },
          "execution_count": 18
        }
      ]
    },
    {
      "cell_type": "markdown",
      "metadata": {
        "id": "WaRYOVqAs4-o",
        "colab_type": "text"
      },
      "source": [
        "#BASIC FORMAT\n",
        "    \n",
        "    lst = [ \"elements you want to display in the list\"          \" for loop code \"           \" condition\"]\n"
      ]
    },
    {
      "cell_type": "code",
      "metadata": {
        "id": "9TH4rItnEICV",
        "colab_type": "code",
        "colab": {}
      },
      "source": [
        "# Check for even numbers in a range\n",
        "#lst = [x for x in range(11) if x % 2 == 0]\n",
        "\n",
        "# lst = [ x+5 for x in range(0,11) if x % 2 == 0]\n",
        "lst = [ x for x in \"kristin\" if x == \"i\"]"
      ],
      "execution_count": 0,
      "outputs": []
    },
    {
      "cell_type": "code",
      "metadata": {
        "id": "fZgWs4FKEICj",
        "colab_type": "code",
        "outputId": "e2051acc-ebab-45c4-f498-cb49ddd1a669",
        "colab": {
          "base_uri": "https://localhost:8080/",
          "height": 34
        }
      },
      "source": [
        "lst"
      ],
      "execution_count": 26,
      "outputs": [
        {
          "output_type": "execute_result",
          "data": {
            "text/plain": [
              "['i', 'i']"
            ]
          },
          "metadata": {
            "tags": []
          },
          "execution_count": 26
        }
      ]
    },
    {
      "cell_type": "markdown",
      "metadata": {
        "id": "yTlg0giTEICw",
        "colab_type": "text"
      },
      "source": [
        "## Example 4\n",
        "Can also do more complicated arithmetic:"
      ]
    },
    {
      "cell_type": "code",
      "metadata": {
        "id": "ozJsv2leEICy",
        "colab_type": "code",
        "outputId": "2f651cb5-f67f-4f9f-c86b-864b3eadfe69",
        "colab": {
          "base_uri": "https://localhost:8080/",
          "height": 34
        }
      },
      "source": [
        "# Convert Celsius to Fahrenheit\n",
        "celsius = [0,10,20.1,34.5]\n",
        "\n",
        "fahrenheit = [((9/5)*c_temp + 32) for c_temp in celsius ]\n",
        "\n",
        "fahrenheit"
      ],
      "execution_count": 29,
      "outputs": [
        {
          "output_type": "execute_result",
          "data": {
            "text/plain": [
              "[32.0, 50.0, 68.18, 94.1]"
            ]
          },
          "metadata": {
            "tags": []
          },
          "execution_count": 29
        }
      ]
    },
    {
      "cell_type": "markdown",
      "metadata": {
        "id": "e3pnEDqb1drY",
        "colab_type": "text"
      },
      "source": [
        "## Example 5\n",
        "We can also perform nested list comprehensions, for example:"
      ]
    },
    {
      "cell_type": "code",
      "metadata": {
        "id": "NBilrap41jwC",
        "colab_type": "code",
        "outputId": "a69c659f-3272-4eff-e07d-f2818a548d5c",
        "colab": {
          "base_uri": "https://localhost:8080/",
          "height": 52
        }
      },
      "source": [
        "lst = []\n",
        "\n",
        "\n",
        "for x in range(11):\n",
        "    lst.append(x**2)\n",
        "\n",
        "print(lst)\n",
        "\n",
        "\n",
        "new_lst = []\n",
        "\n",
        "for x in lst:\n",
        "    new_lst.append(x**2)\n",
        "\n",
        "print(new_lst)"
      ],
      "execution_count": 34,
      "outputs": [
        {
          "output_type": "stream",
          "text": [
            "[0, 1, 4, 9, 16, 25, 36, 49, 64, 81, 100]\n",
            "[0, 1, 16, 81, 256, 625, 1296, 2401, 4096, 6561, 10000]\n"
          ],
          "name": "stdout"
        }
      ]
    },
    {
      "cell_type": "code",
      "metadata": {
        "id": "JYbARv-F1eRy",
        "colab_type": "code",
        "outputId": "b436a028-2451-47f3-dfe5-5cb0229e42dd",
        "colab": {
          "base_uri": "https://localhost:8080/",
          "height": 34
        }
      },
      "source": [
        "#lst = [ x**2 for x in [x**2 for x in range(11)]]\n",
        "\n",
        "\n",
        "lst = [ y**2 for y in [ x**2 for x in range(11) ] ]\n",
        "lst"
      ],
      "execution_count": 40,
      "outputs": [
        {
          "output_type": "execute_result",
          "data": {
            "text/plain": [
              "[0, 1, 16, 81, 256, 625, 1296, 2401, 4096, 6561, 10000]"
            ]
          },
          "metadata": {
            "tags": []
          },
          "execution_count": 40
        }
      ]
    },
    {
      "cell_type": "code",
      "metadata": {
        "id": "-bGt6Yta1hGU",
        "colab_type": "code",
        "colab": {}
      },
      "source": [
        ""
      ],
      "execution_count": 0,
      "outputs": []
    }
  ]
}