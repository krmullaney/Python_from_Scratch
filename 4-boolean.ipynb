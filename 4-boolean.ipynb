{
  "nbformat": 4,
  "nbformat_minor": 0,
  "metadata": {
    "colab": {
      "name": "Lecture_2.2_boolean.ipynb",
      "provenance": [],
      "collapsed_sections": []
    },
    "kernelspec": {
      "name": "python3",
      "display_name": "Python 3"
    }
  },
  "cells": [
    {
      "cell_type": "markdown",
      "metadata": {
        "id": "ZOHnMAIHOyZf",
        "colab_type": "text"
      },
      "source": [
        "# Boolean Values\n",
        "\n",
        "To know if an expression is True or False.\n",
        "\n",
        "1. To evaluate any expression in Python, and get one of two answers, True or False.\n",
        "\n",
        "2. While comparing two values, the expression is evaluated and Python returns the Boolean answer.\n",
        "\n"
      ]
    },
    {
      "cell_type": "code",
      "metadata": {
        "id": "G4bP19HKEtK_",
        "colab_type": "code",
        "outputId": "1b192ba5-33b3-4cd2-d9ba-3c113ba6c10c",
        "colab": {
          "base_uri": "https://localhost:8080/",
          "height": 69
        }
      },
      "source": [
        "# 1. Evaluation of the expression / Comparison operators returning boolean values\n",
        " \n",
        "print(10 > 9)\n",
        "print(10 == 9)\n",
        "print(10 < 9) "
      ],
      "execution_count": 1,
      "outputs": [
        {
          "output_type": "stream",
          "text": [
            "True\n",
            "False\n",
            "False\n"
          ],
          "name": "stdout"
        }
      ]
    },
    {
      "cell_type": "code",
      "metadata": {
        "id": "Pmath8mogF1y",
        "colab_type": "code",
        "colab": {
          "base_uri": "https://localhost:8080/",
          "height": 86
        },
        "outputId": "ffe2b750-811a-416a-9cdb-a69027ea06b9"
      },
      "source": [
        "x = 2\n",
        "print(1 < x < 3)\n",
        "print(3 > x <= 2)\n",
        "print(2 == x < 4)\n",
        "print(10 < x < 20)"
      ],
      "execution_count": 1,
      "outputs": [
        {
          "output_type": "stream",
          "text": [
            "True\n",
            "True\n",
            "True\n",
            "False\n"
          ],
          "name": "stdout"
        }
      ]
    },
    {
      "cell_type": "code",
      "metadata": {
        "id": "a5yv1-7rQJBU",
        "colab_type": "code",
        "outputId": "d84d4336-83a5-469e-f2d5-0f59aa4441db",
        "colab": {
          "base_uri": "https://localhost:8080/",
          "height": 34
        }
      },
      "source": [
        "# Print a message based on whether the condition is True or False:\n",
        "a = 1000\n",
        "b = 400\n",
        "\n",
        "if b > a:\n",
        "  print(\"b is greater than a\")\n",
        "else:\n",
        "  print(\"b is not greater than a\") "
      ],
      "execution_count": 1,
      "outputs": [
        {
          "output_type": "stream",
          "text": [
            "b is not greater than a\n"
          ],
          "name": "stdout"
        }
      ]
    },
    {
      "cell_type": "markdown",
      "metadata": {
        "id": "9qZhBd9sasKY",
        "colab_type": "text"
      },
      "source": [
        "# Evaluate Values and Variables"
      ]
    },
    {
      "cell_type": "code",
      "metadata": {
        "id": "hsUMLkb4at_u",
        "colab_type": "code",
        "colab": {
          "base_uri": "https://localhost:8080/",
          "height": 52
        },
        "outputId": "3894c509-9f1d-4df2-f61b-680fcff6f55a"
      },
      "source": [
        "#Evaluate a string and a number\n",
        "\n",
        "print(bool(\"Hello\"))\n",
        "print(bool(15))"
      ],
      "execution_count": 4,
      "outputs": [
        {
          "output_type": "stream",
          "text": [
            "True\n",
            "True\n"
          ],
          "name": "stdout"
        }
      ]
    },
    {
      "cell_type": "code",
      "metadata": {
        "id": "pdsadDY1ay7e",
        "colab_type": "code",
        "colab": {
          "base_uri": "https://localhost:8080/",
          "height": 52
        },
        "outputId": "254c831f-b0dc-46b7-ed58-8d821141b834"
      },
      "source": [
        "# Evaluate two variables\n",
        "x = \"Hello\"\n",
        "y = 15\n",
        "\n",
        "print(bool(x))\n",
        "print(bool(y))"
      ],
      "execution_count": 4,
      "outputs": [
        {
          "output_type": "stream",
          "text": [
            "True\n",
            "True\n"
          ],
          "name": "stdout"
        }
      ]
    },
    {
      "cell_type": "markdown",
      "metadata": {
        "id": "hnowuLT5bRYu",
        "colab_type": "text"
      },
      "source": [
        "# True Values\n",
        "\n",
        "Almost any value is evaluated to True if it has some sort of content.\n",
        "\n",
        "    Any string is True, except empty strings.\n",
        "    Any number is True, except 0.\n",
        "    Any list, tuple, set, and dictionary are True, except empty ones."
      ]
    },
    {
      "cell_type": "code",
      "metadata": {
        "id": "kGdxIWNGbaRx",
        "colab_type": "code",
        "colab": {
          "base_uri": "https://localhost:8080/",
          "height": 86
        },
        "outputId": "f7b87da6-523a-43c9-99d6-474ddeed65c8"
      },
      "source": [
        "# Examples of true values\n",
        "\n",
        "print(  bool(\"abc\"))\n",
        "print(  bool(123))\n",
        "print(bool([\"apple\", \"cherry\", \"banana\"]))"
      ],
      "execution_count": 6,
      "outputs": [
        {
          "output_type": "stream",
          "text": [
            "True\n",
            "True\n",
            "False\n",
            "True\n"
          ],
          "name": "stdout"
        }
      ]
    },
    {
      "cell_type": "markdown",
      "metadata": {
        "id": "hrDozCNGbo7n",
        "colab_type": "text"
      },
      "source": [
        "# False Values\n",
        "\n",
        "In fact, there are not many values that evaluates to False, except empty values, such as (), [], {}, \"\", the number 0, and the value None. And of course the value False evaluates to False."
      ]
    },
    {
      "cell_type": "code",
      "metadata": {
        "id": "nhYHqSrPbwcb",
        "colab_type": "code",
        "colab": {
          "base_uri": "https://localhost:8080/",
          "height": 52
        },
        "outputId": "38f2f497-fbbb-49ba-8bbf-b82caa125efa"
      },
      "source": [
        "# Falsy Values\n",
        "\n",
        "bool(False)\n",
        "print(bool(None))\n",
        "bool(0)\n",
        "bool(\"\")\n",
        "bool(())\n",
        "bool([])\n",
        "bool({}) "
      ],
      "execution_count": 7,
      "outputs": [
        {
          "output_type": "stream",
          "text": [
            "False\n"
          ],
          "name": "stdout"
        },
        {
          "output_type": "execute_result",
          "data": {
            "text/plain": [
              "False"
            ]
          },
          "metadata": {
            "tags": []
          },
          "execution_count": 7
        }
      ]
    },
    {
      "cell_type": "markdown",
      "metadata": {
        "id": "imsdgHqmcG14",
        "colab_type": "text"
      },
      "source": [
        "# Functions can Return a Boolean\n",
        "\n",
        "You can create functions that returns a Boolean Value"
      ]
    },
    {
      "cell_type": "code",
      "metadata": {
        "id": "W0XMxocAcJmp",
        "colab_type": "code",
        "colab": {
          "base_uri": "https://localhost:8080/",
          "height": 34
        },
        "outputId": "7228cd8b-c79a-46d2-ba04-435477a0319b"
      },
      "source": [
        "# Example\n",
        "def examResults() :\n",
        "  # Add the logic to calculate the percentage of the student. If he/she is having more than 75%, return True\n",
        "  return True\n",
        "\n",
        "print(examResults()) "
      ],
      "execution_count": 8,
      "outputs": [
        {
          "output_type": "stream",
          "text": [
            "True\n"
          ],
          "name": "stdout"
        }
      ]
    },
    {
      "cell_type": "code",
      "metadata": {
        "id": "VNepNKW-cPIQ",
        "colab_type": "code",
        "colab": {}
      },
      "source": [
        "def examResults() :\n",
        "  # Add the logic to calculate the percentage of the student. If he/she is having more than 75%, return True\n",
        "  return True\n",
        "\n",
        "if examResults():\n",
        "  #print(\"Failed\")\n",
        "  print(\"CONGRATULATIONS! You are ready to move into the next grade\")\n",
        "else:\n",
        "  print(\"SORRY! You failed. Good luck for the re-attempt\") \n"
      ],
      "execution_count": 0,
      "outputs": []
    },
    {
      "cell_type": "markdown",
      "metadata": {
        "id": "IgEmC30udqbV",
        "colab_type": "text"
      },
      "source": [
        "# Python's built-in functions that returns a boolean value\n",
        "\n",
        "    Python also has many built-in functions that returns a boolean value, like the isinstance() function, which can be used to determine if an object is of a certain data type"
      ]
    },
    {
      "cell_type": "code",
      "metadata": {
        "id": "AEGzT8nddvXJ",
        "colab_type": "code",
        "colab": {
          "base_uri": "https://localhost:8080/",
          "height": 34
        },
        "outputId": "88073f43-7cb5-401e-c39d-fead03b0159a"
      },
      "source": [
        "x = 200\n",
        "print(isinstance(x, int))"
      ],
      "execution_count": 10,
      "outputs": [
        {
          "output_type": "stream",
          "text": [
            "True\n"
          ],
          "name": "stdout"
        }
      ]
    },
    {
      "cell_type": "markdown",
      "metadata": {
        "id": "wGYHtsfmfYj9",
        "colab_type": "text"
      },
      "source": [
        "# Inverse of the boolean using Not\n",
        "\n",
        "The not keyword can also be used to inverse a boolean type."
      ]
    },
    {
      "cell_type": "code",
      "metadata": {
        "id": "37u54lpad8s4",
        "colab_type": "code",
        "colab": {
          "base_uri": "https://localhost:8080/",
          "height": 34
        },
        "outputId": "406f75ad-aa29-40f3-8510-8091169b2a9c"
      },
      "source": [
        "not True"
      ],
      "execution_count": 15,
      "outputs": [
        {
          "output_type": "execute_result",
          "data": {
            "text/plain": [
              "False"
            ]
          },
          "metadata": {
            "tags": []
          },
          "execution_count": 15
        }
      ]
    },
    {
      "cell_type": "code",
      "metadata": {
        "id": "LvOOW3-R6Fo-",
        "colab_type": "code",
        "colab": {
          "base_uri": "https://localhost:8080/",
          "height": 34
        },
        "outputId": "8404871f-6277-4258-c00b-cc0bfe85bfe5"
      },
      "source": [
        "not False"
      ],
      "execution_count": 16,
      "outputs": [
        {
          "output_type": "execute_result",
          "data": {
            "text/plain": [
              "True"
            ]
          },
          "metadata": {
            "tags": []
          },
          "execution_count": 16
        }
      ]
    },
    {
      "cell_type": "code",
      "metadata": {
        "id": "OV8tQJu66Ha4",
        "colab_type": "code",
        "colab": {}
      },
      "source": [
        "x = 3\n",
        "\n",
        "if not (isinstance(x, int)):\n",
        "  print(\"Hi\")"
      ],
      "execution_count": 0,
      "outputs": []
    },
    {
      "cell_type": "code",
      "metadata": {
        "id": "cdJ7rsAT6SLL",
        "colab_type": "code",
        "colab": {}
      },
      "source": [
        ""
      ],
      "execution_count": 0,
      "outputs": []
    }
  ]
}