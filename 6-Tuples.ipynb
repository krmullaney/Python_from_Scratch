{
  "nbformat": 4,
  "nbformat_minor": 0,
  "metadata": {
    "colab": {
      "name": "Lecture_2_4_tuples.ipynb",
      "provenance": [],
      "collapsed_sections": []
    },
    "kernelspec": {
      "name": "python3",
      "display_name": "Python 3"
    }
  },
  "cells": [
    {
      "cell_type": "markdown",
      "metadata": {
        "id": "qoYzV8gjErOh",
        "colab_type": "text"
      },
      "source": [
        "# Python Collections\n",
        "\n",
        "There are four collection data types in the Python programming language:\n",
        "\n",
        "    List is a collection which is ordered and changeable. Allows duplicate members.\n",
        "    Tuple is a collection which is ordered and unchangeable. Allows duplicate members.\n",
        "    Set is a collection which is unordered and unindexed. No duplicate members.\n",
        "    Dictionary is a collection which is unordered, changeable and indexed. No duplicate members.\n",
        "\n",
        "**Choosing a collection type**\n",
        "\n",
        "When choosing a collection type, it is useful to understand the properties of that type. Choosing the right type for a particular data set could mean retention of meaning, and, it could mean an increase in efficiency or security."
      ]
    },
    {
      "cell_type": "markdown",
      "metadata": {
        "id": "ZOHnMAIHOyZf",
        "colab_type": "text"
      },
      "source": [
        "# Tuple\n",
        "\n",
        "A tuple is a collection which is ordered and unchangeable. In Python tuples are written with round brackets."
      ]
    },
    {
      "cell_type": "code",
      "metadata": {
        "id": "DoAymkWqaMlY",
        "colab_type": "code",
        "outputId": "81d617c9-4bc3-4ed8-f574-d855b45bcf79",
        "colab": {
          "base_uri": "https://localhost:8080/",
          "height": 52
        }
      },
      "source": [
        "empty_tuple = ()\n",
        "print(empty_tuple) \n",
        "print(type(empty_tuple))"
      ],
      "execution_count": 1,
      "outputs": [
        {
          "output_type": "stream",
          "text": [
            "()\n",
            "<class 'tuple'>\n"
          ],
          "name": "stdout"
        }
      ]
    },
    {
      "cell_type": "code",
      "metadata": {
        "id": "xwgmc564apbI",
        "colab_type": "code",
        "outputId": "028e982f-290c-4554-9c20-8e49392d5a0f",
        "colab": {
          "base_uri": "https://localhost:8080/",
          "height": 52
        }
      },
      "source": [
        "one_element_in_tuple_treated_as_string = (\"Mercury\")\n",
        "print(one_element_in_tuple_treated_as_string) \n",
        "print(type(one_element_in_tuple_treated_as_string))"
      ],
      "execution_count": 2,
      "outputs": [
        {
          "output_type": "stream",
          "text": [
            "Mercury\n",
            "<class 'str'>\n"
          ],
          "name": "stdout"
        }
      ]
    },
    {
      "cell_type": "code",
      "metadata": {
        "id": "UIcBZWOiarZD",
        "colab_type": "code",
        "outputId": "6b65b038-7af8-42b9-af21-481d6f0daf15",
        "colab": {
          "base_uri": "https://localhost:8080/",
          "height": 52
        }
      },
      "source": [
        "only_one_element_in_tuple = (\"Mercury\", )\n",
        "print(only_one_element_in_tuple) \n",
        "print(type(only_one_element_in_tuple))"
      ],
      "execution_count": 0,
      "outputs": [
        {
          "output_type": "stream",
          "text": [
            "('Mercury',)\n",
            "<class 'tuple'>\n"
          ],
          "name": "stdout"
        }
      ]
    },
    {
      "cell_type": "code",
      "metadata": {
        "id": "cdJ7rsAT6SLL",
        "colab_type": "code",
        "outputId": "3a37e638-5b29-43a3-d409-e4ef3c9a05f3",
        "colab": {
          "base_uri": "https://localhost:8080/",
          "height": 52
        }
      },
      "source": [
        "planets = (\"Mercury\", \"Venus\", \"Earth\", \"Mars\", \"Jupiter\", \"Saturn\", \"Uranus\", \"Neptune\" )\n",
        "print(planets)\n",
        "print(type(planets))"
      ],
      "execution_count": 3,
      "outputs": [
        {
          "output_type": "stream",
          "text": [
            "('Mercury', 'Venus', 'Earth', 'Mars', 'Jupiter', 'Saturn', 'Uranus', 'Neptune')\n",
            "<class 'tuple'>\n"
          ],
          "name": "stdout"
        }
      ]
    },
    {
      "cell_type": "markdown",
      "metadata": {
        "id": "52ohf1ucBVwK",
        "colab_type": "text"
      },
      "source": [
        "# Access Items using the index number\n"
      ]
    },
    {
      "cell_type": "code",
      "metadata": {
        "id": "b3aMRvyTBM0h",
        "colab_type": "code",
        "outputId": "128bb201-40fe-41b7-a8f2-c9e49671d8ae",
        "colab": {
          "base_uri": "https://localhost:8080/",
          "height": 69
        }
      },
      "source": [
        "#You access the TUPLE items by referring to the index number\n",
        "print(planets[0])\n",
        "print(planets[2])\n",
        "print(planets[4])"
      ],
      "execution_count": 4,
      "outputs": [
        {
          "output_type": "stream",
          "text": [
            "Mercury\n",
            "Earth\n",
            "Jupiter\n"
          ],
          "name": "stdout"
        }
      ]
    },
    {
      "cell_type": "code",
      "metadata": {
        "id": "FYT0XfPuBxXd",
        "colab_type": "code",
        "outputId": "4063cd25-b678-442d-e886-a8f676d39781",
        "colab": {
          "base_uri": "https://localhost:8080/",
          "height": 52
        }
      },
      "source": [
        "# Negative indexing means beginning from the end, -1 refers to the last item, -2 refers to the second last item etc.\n",
        "print(planets[-1])\n",
        "print(planets[-2])"
      ],
      "execution_count": 5,
      "outputs": [
        {
          "output_type": "stream",
          "text": [
            "Neptune\n",
            "Uranus\n"
          ],
          "name": "stdout"
        }
      ]
    },
    {
      "cell_type": "markdown",
      "metadata": {
        "id": "wYX0NtUeCHjZ",
        "colab_type": "text"
      },
      "source": [
        "# Range of Indexes\n",
        "\n",
        "You can specify a range of indexes by specifying where to start and where to end the range.\n",
        "\n",
        "When specifying a range, the return value will be a new **tuple** with the specified items.\n",
        "\n",
        "    nameOfTuple[Starting index : Stop Index(but item not including)] \n",
        "\n"
      ]
    },
    {
      "cell_type": "markdown",
      "metadata": {
        "id": "P-wybbdtCyv5",
        "colab_type": "text"
      },
      "source": [
        "** Remember that the first item in the TUPLE is at position 0 **\n",
        "\n",
        "    Index planets\n",
        "    0     Mercury\n",
        "    1     Venus\n",
        "    2     Earth\n",
        "    3     Mars\n",
        "    4     Jupiter\n",
        "    5     Saturn\n",
        "    6     Uranus\n",
        "    7     Neptune\n"
      ]
    },
    {
      "cell_type": "code",
      "metadata": {
        "id": "E9dPKnl1B_06",
        "colab_type": "code",
        "outputId": "f0d5a72c-51ed-4db1-de40-5528eb04603e",
        "colab": {
          "base_uri": "https://localhost:8080/",
          "height": 34
        }
      },
      "source": [
        "planets = (\"Mercury\", \"Venus\", \"Earth\", \"Mars\", \"Jupiter\", \"Saturn\", \"Uranus\", \"Neptune\" )\n",
        "print(planets[2:5])\n",
        "\n",
        "# This will return the items from position 2 to 5.\n",
        "# The search will start at index 2 (included) and end at index 5 (not included)."
      ],
      "execution_count": 6,
      "outputs": [
        {
          "output_type": "stream",
          "text": [
            "('Earth', 'Mars', 'Jupiter')\n"
          ],
          "name": "stdout"
        }
      ]
    },
    {
      "cell_type": "code",
      "metadata": {
        "id": "A4cfze0tDwib",
        "colab_type": "code",
        "outputId": "10507e6b-edc2-451d-a514-22e9f287be0d",
        "colab": {
          "base_uri": "https://localhost:8080/",
          "height": 52
        }
      },
      "source": [
        "# By leaving out the start value, the range will start at the first item:\n",
        "print(planets[0:4])\n",
        "print(planets[:4]) # recommended"
      ],
      "execution_count": 0,
      "outputs": [
        {
          "output_type": "stream",
          "text": [
            "('Mercury', 'Venus', 'Earth', 'Mars')\n",
            "('Mercury', 'Venus', 'Earth', 'Mars')\n"
          ],
          "name": "stdout"
        }
      ]
    },
    {
      "cell_type": "code",
      "metadata": {
        "id": "3PcJbRqHD2Zs",
        "colab_type": "code",
        "outputId": "fa1629b5-5d45-4549-baee-ab305d7b26e5",
        "colab": {
          "base_uri": "https://localhost:8080/",
          "height": 34
        }
      },
      "source": [
        "print(planets[2:])"
      ],
      "execution_count": 7,
      "outputs": [
        {
          "output_type": "stream",
          "text": [
            "('Earth', 'Mars', 'Jupiter', 'Saturn', 'Uranus', 'Neptune')\n"
          ],
          "name": "stdout"
        }
      ]
    },
    {
      "cell_type": "code",
      "metadata": {
        "id": "UW0QuFKdD-xv",
        "colab_type": "code",
        "outputId": "27bcb559-64e9-4a79-8c10-7b0cecb1e11e",
        "colab": {
          "base_uri": "https://localhost:8080/",
          "height": 34
        }
      },
      "source": [
        "print(planets[-4:-1])"
      ],
      "execution_count": 8,
      "outputs": [
        {
          "output_type": "stream",
          "text": [
            "('Jupiter', 'Saturn', 'Uranus')\n"
          ],
          "name": "stdout"
        }
      ]
    },
    {
      "cell_type": "markdown",
      "metadata": {
        "id": "mU9lnM6XEQES",
        "colab_type": "text"
      },
      "source": [
        "# Remember:Tuples are un-changeable / immutable\n",
        "\n",
        "You cannot Change the Tuple Value using the index number\n"
      ]
    },
    {
      "cell_type": "code",
      "metadata": {
        "id": "EI-OW-oNEKYr",
        "colab_type": "code",
        "outputId": "6aa30d6b-7083-4fa5-ada7-3bca9d3efcf5",
        "colab": {
          "base_uri": "https://localhost:8080/",
          "height": 219
        }
      },
      "source": [
        "planets = (\"Mercury\", \"Venus\", \"Earth\", \"Mars\", \"Jupiter\", \"Saturn\", \"Uranus\", \"Neptune\" )\n",
        "\n",
        "planets[0] = \"MERCURY\"\n",
        "print(planets)"
      ],
      "execution_count": 9,
      "outputs": [
        {
          "output_type": "error",
          "ename": "TypeError",
          "evalue": "ignored",
          "traceback": [
            "\u001b[0;31m---------------------------------------------------------------------------\u001b[0m",
            "\u001b[0;31mTypeError\u001b[0m                                 Traceback (most recent call last)",
            "\u001b[0;32m<ipython-input-9-82bd95c3b8ac>\u001b[0m in \u001b[0;36m<module>\u001b[0;34m()\u001b[0m\n\u001b[1;32m      1\u001b[0m \u001b[0mplanets\u001b[0m \u001b[0;34m=\u001b[0m \u001b[0;34m(\u001b[0m\u001b[0;34m\"Mercury\"\u001b[0m\u001b[0;34m,\u001b[0m \u001b[0;34m\"Venus\"\u001b[0m\u001b[0;34m,\u001b[0m \u001b[0;34m\"Earth\"\u001b[0m\u001b[0;34m,\u001b[0m \u001b[0;34m\"Mars\"\u001b[0m\u001b[0;34m,\u001b[0m \u001b[0;34m\"Jupiter\"\u001b[0m\u001b[0;34m,\u001b[0m \u001b[0;34m\"Saturn\"\u001b[0m\u001b[0;34m,\u001b[0m \u001b[0;34m\"Uranus\"\u001b[0m\u001b[0;34m,\u001b[0m \u001b[0;34m\"Neptune\"\u001b[0m \u001b[0;34m)\u001b[0m\u001b[0;34m\u001b[0m\u001b[0;34m\u001b[0m\u001b[0m\n\u001b[1;32m      2\u001b[0m \u001b[0;34m\u001b[0m\u001b[0m\n\u001b[0;32m----> 3\u001b[0;31m \u001b[0mplanets\u001b[0m\u001b[0;34m[\u001b[0m\u001b[0;36m0\u001b[0m\u001b[0;34m]\u001b[0m \u001b[0;34m=\u001b[0m \u001b[0;34m\"MERCURY\"\u001b[0m\u001b[0;34m\u001b[0m\u001b[0;34m\u001b[0m\u001b[0m\n\u001b[0m\u001b[1;32m      4\u001b[0m \u001b[0mprint\u001b[0m\u001b[0;34m(\u001b[0m\u001b[0mplanets\u001b[0m\u001b[0;34m)\u001b[0m\u001b[0;34m\u001b[0m\u001b[0;34m\u001b[0m\u001b[0m\n",
            "\u001b[0;31mTypeError\u001b[0m: 'tuple' object does not support item assignment"
          ]
        }
      ]
    },
    {
      "cell_type": "markdown",
      "metadata": {
        "id": "-SjwnWkxGCyt",
        "colab_type": "text"
      },
      "source": [
        "# Check if Item Exists in the Tuple"
      ]
    },
    {
      "cell_type": "code",
      "metadata": {
        "id": "eiIVBs7lFs9i",
        "colab_type": "code",
        "outputId": "c7453a9c-6f3f-4795-d6bd-9b84f36b0b90",
        "colab": {
          "base_uri": "https://localhost:8080/",
          "height": 34
        }
      },
      "source": [
        "planets = (\"Mercury\", \"Venus\", \"Earth\", \"Mars\", \"Jupiter\", \"Saturn\", \"Uranus\", \"Neptune\" )\n",
        "\n",
        "if \"Earth\" in planets :\n",
        "  print(\"Yes, 'Earth' is in the planets\") \n",
        "else:\n",
        "  print(\"Earth is not present in the planets\")"
      ],
      "execution_count": 10,
      "outputs": [
        {
          "output_type": "stream",
          "text": [
            "Yes, 'Earth' is in the planets\n"
          ],
          "name": "stdout"
        }
      ]
    },
    {
      "cell_type": "code",
      "metadata": {
        "id": "k61jcVo4GVg5",
        "colab_type": "code",
        "outputId": "d3188898-f76a-4fcd-9b68-55d77e14375a",
        "colab": {
          "base_uri": "https://localhost:8080/",
          "height": 34
        }
      },
      "source": [
        "if \"earth\" in planets :\n",
        "  print(\"Yes, 'Earth' is in the planets\") \n",
        "else:\n",
        "  print(\"Earth is not present in the planets\")"
      ],
      "execution_count": 11,
      "outputs": [
        {
          "output_type": "stream",
          "text": [
            "Earth is not present in the planets\n"
          ],
          "name": "stdout"
        }
      ]
    },
    {
      "cell_type": "code",
      "metadata": {
        "id": "cve50sajGYfD",
        "colab_type": "code",
        "outputId": "1b2491b6-7cb9-4789-83c4-e33a0f875e5f",
        "colab": {
          "base_uri": "https://localhost:8080/",
          "height": 34
        }
      },
      "source": [
        "if \"earth\".capitalize() in planets :\n",
        "  print(\"Yes, 'Earth' is in the planets\") \n",
        "else:\n",
        "  print(\"Earth is not present in the planets\")"
      ],
      "execution_count": 12,
      "outputs": [
        {
          "output_type": "stream",
          "text": [
            "Yes, 'Earth' is in the planets\n"
          ],
          "name": "stdout"
        }
      ]
    },
    {
      "cell_type": "markdown",
      "metadata": {
        "id": "UF8nUV-WGp_5",
        "colab_type": "text"
      },
      "source": [
        "# Find the tuple length / number of items in the tuple"
      ]
    },
    {
      "cell_type": "code",
      "metadata": {
        "id": "_LdamMMAGgBV",
        "colab_type": "code",
        "outputId": "c0611a64-d1f6-4ad8-8ff0-5dd1ef130113",
        "colab": {
          "base_uri": "https://localhost:8080/",
          "height": 34
        }
      },
      "source": [
        "print( len(planets))"
      ],
      "execution_count": 13,
      "outputs": [
        {
          "output_type": "stream",
          "text": [
            "8\n"
          ],
          "name": "stdout"
        }
      ]
    },
    {
      "cell_type": "markdown",
      "metadata": {
        "id": "-LFt8ZwEHAqb",
        "colab_type": "text"
      },
      "source": [
        "# Find the count of an item in the tuple"
      ]
    },
    {
      "cell_type": "code",
      "metadata": {
        "id": "cEGYWTp4G3nq",
        "colab_type": "code",
        "outputId": "061173c4-028b-402d-99e4-13b087b8640e",
        "colab": {
          "base_uri": "https://localhost:8080/",
          "height": 34
        }
      },
      "source": [
        "print(planets.count(\"Earth\"))"
      ],
      "execution_count": 14,
      "outputs": [
        {
          "output_type": "stream",
          "text": [
            "1\n"
          ],
          "name": "stdout"
        }
      ]
    },
    {
      "cell_type": "markdown",
      "metadata": {
        "id": "l_eH70TYHmK_",
        "colab_type": "text"
      },
      "source": [
        "# Add items in the tuple"
      ]
    },
    {
      "cell_type": "code",
      "metadata": {
        "id": "PhGQoxdbHSVS",
        "colab_type": "code",
        "outputId": "1fbd11dd-eaf0-43ed-e1e3-4d91d1ff1d94",
        "colab": {
          "base_uri": "https://localhost:8080/",
          "height": 202
        }
      },
      "source": [
        "# append() : To add an item to the end of the tuple\n",
        "\n",
        "planets[8] = \"newPlanet\"\n",
        "print(planets)"
      ],
      "execution_count": 15,
      "outputs": [
        {
          "output_type": "error",
          "ename": "TypeError",
          "evalue": "ignored",
          "traceback": [
            "\u001b[0;31m---------------------------------------------------------------------------\u001b[0m",
            "\u001b[0;31mTypeError\u001b[0m                                 Traceback (most recent call last)",
            "\u001b[0;32m<ipython-input-15-2824002d2ebe>\u001b[0m in \u001b[0;36m<module>\u001b[0;34m()\u001b[0m\n\u001b[1;32m      1\u001b[0m \u001b[0;34m\u001b[0m\u001b[0m\n\u001b[0;32m----> 2\u001b[0;31m \u001b[0mplanets\u001b[0m\u001b[0;34m[\u001b[0m\u001b[0;36m8\u001b[0m\u001b[0;34m]\u001b[0m \u001b[0;34m=\u001b[0m \u001b[0;34m\"newPlanet\"\u001b[0m\u001b[0;34m\u001b[0m\u001b[0;34m\u001b[0m\u001b[0m\n\u001b[0m\u001b[1;32m      3\u001b[0m \u001b[0mprint\u001b[0m\u001b[0;34m(\u001b[0m\u001b[0mplanets\u001b[0m\u001b[0;34m)\u001b[0m\u001b[0;34m\u001b[0m\u001b[0;34m\u001b[0m\u001b[0m\n",
            "\u001b[0;31mTypeError\u001b[0m: 'tuple' object does not support item assignment"
          ]
        }
      ]
    },
    {
      "cell_type": "markdown",
      "metadata": {
        "id": "wepMkV-pJaMM",
        "colab_type": "text"
      },
      "source": [
        "# Remove Item from the tuple\n",
        "\n",
        "Tuples are unchangeable, so you cannot remove items from it, but you can delete the tuple completely"
      ]
    },
    {
      "cell_type": "code",
      "metadata": {
        "id": "vJXQpH9mI6eh",
        "colab_type": "code",
        "outputId": "f49707e3-062c-49f1-f50f-1cdb5e12121f",
        "colab": {
          "base_uri": "https://localhost:8080/",
          "height": 185
        }
      },
      "source": [
        "del planets\n",
        "print(planets)"
      ],
      "execution_count": 17,
      "outputs": [
        {
          "output_type": "error",
          "ename": "NameError",
          "evalue": "ignored",
          "traceback": [
            "\u001b[0;31m---------------------------------------------------------------------------\u001b[0m",
            "\u001b[0;31mNameError\u001b[0m                                 Traceback (most recent call last)",
            "\u001b[0;32m<ipython-input-17-5363541378e9>\u001b[0m in \u001b[0;36m<module>\u001b[0;34m()\u001b[0m\n\u001b[0;32m----> 1\u001b[0;31m \u001b[0;32mdel\u001b[0m \u001b[0mplanets\u001b[0m\u001b[0;34m\u001b[0m\u001b[0;34m\u001b[0m\u001b[0m\n\u001b[0m\u001b[1;32m      2\u001b[0m \u001b[0mprint\u001b[0m\u001b[0;34m(\u001b[0m\u001b[0mplanets\u001b[0m\u001b[0;34m)\u001b[0m\u001b[0;34m\u001b[0m\u001b[0;34m\u001b[0m\u001b[0m\n",
            "\u001b[0;31mNameError\u001b[0m: name 'planets' is not defined"
          ]
        }
      ]
    },
    {
      "cell_type": "markdown",
      "metadata": {
        "id": "HP56L1T9JxnO",
        "colab_type": "text"
      },
      "source": [
        "# Copy a tuple"
      ]
    },
    {
      "cell_type": "code",
      "metadata": {
        "id": "7_rXTuH-JnqF",
        "colab_type": "code",
        "outputId": "ffc194dd-8d4b-44ba-c7ca-cb6008b2f235",
        "colab": {
          "base_uri": "https://localhost:8080/",
          "height": 52
        }
      },
      "source": [
        "planets = (\"Mercury\", \"Venus\", \"Earth\", \"Mars\", \"Jupiter\", \"Saturn\", \"Uranus\", \"Neptune\" )\n",
        "planets2 = planets\n",
        "print(planets)\n",
        "print(planets2)"
      ],
      "execution_count": 24,
      "outputs": [
        {
          "output_type": "stream",
          "text": [
            "('Mercury', 'Venus', 'Earth', 'Mars', 'Jupiter', 'Saturn', 'Uranus', 'Neptune')\n",
            "('Mercury', 'Venus', 'Earth', 'Mars', 'Jupiter', 'Saturn', 'Uranus', 'Neptune')\n"
          ],
          "name": "stdout"
        }
      ]
    },
    {
      "cell_type": "code",
      "metadata": {
        "id": "65e1ihI1KNM-",
        "colab_type": "code",
        "outputId": "a0e8a4ea-c52c-44cb-ee39-bee9a26f4353",
        "colab": {
          "base_uri": "https://localhost:8080/",
          "height": 202
        }
      },
      "source": [
        "planets3 = planets.copy()\n",
        "print(planets)\n",
        "print(planets3)"
      ],
      "execution_count": 25,
      "outputs": [
        {
          "output_type": "error",
          "ename": "AttributeError",
          "evalue": "ignored",
          "traceback": [
            "\u001b[0;31m---------------------------------------------------------------------------\u001b[0m",
            "\u001b[0;31mAttributeError\u001b[0m                            Traceback (most recent call last)",
            "\u001b[0;32m<ipython-input-25-6676e5cc407a>\u001b[0m in \u001b[0;36m<module>\u001b[0;34m()\u001b[0m\n\u001b[0;32m----> 1\u001b[0;31m \u001b[0mplanets3\u001b[0m \u001b[0;34m=\u001b[0m \u001b[0mplanets\u001b[0m\u001b[0;34m.\u001b[0m\u001b[0mcopy\u001b[0m\u001b[0;34m(\u001b[0m\u001b[0;34m)\u001b[0m\u001b[0;34m\u001b[0m\u001b[0;34m\u001b[0m\u001b[0m\n\u001b[0m\u001b[1;32m      2\u001b[0m \u001b[0mprint\u001b[0m\u001b[0;34m(\u001b[0m\u001b[0mplanets\u001b[0m\u001b[0;34m)\u001b[0m\u001b[0;34m\u001b[0m\u001b[0;34m\u001b[0m\u001b[0m\n\u001b[1;32m      3\u001b[0m \u001b[0mprint\u001b[0m\u001b[0;34m(\u001b[0m\u001b[0mplanets3\u001b[0m\u001b[0;34m)\u001b[0m\u001b[0;34m\u001b[0m\u001b[0;34m\u001b[0m\u001b[0m\n",
            "\u001b[0;31mAttributeError\u001b[0m: 'tuple' object has no attribute 'copy'"
          ]
        }
      ]
    },
    {
      "cell_type": "markdown",
      "metadata": {
        "id": "KsWD3FPhNTFa",
        "colab_type": "text"
      },
      "source": [
        "# Loop Through a Tuple\n",
        "\n",
        "You can loop through the tuple items by using a for loop:"
      ]
    },
    {
      "cell_type": "code",
      "metadata": {
        "id": "slJqJ5m6MzWf",
        "colab_type": "code",
        "outputId": "1734107b-b19c-4f7e-af1c-a8559dbceedd",
        "colab": {
          "base_uri": "https://localhost:8080/",
          "height": 156
        }
      },
      "source": [
        "for planet in planets:\n",
        "  print( planet)"
      ],
      "execution_count": 26,
      "outputs": [
        {
          "output_type": "stream",
          "text": [
            "Mercury\n",
            "Venus\n",
            "Earth\n",
            "Mars\n",
            "Jupiter\n",
            "Saturn\n",
            "Uranus\n",
            "Neptune\n"
          ],
          "name": "stdout"
        }
      ]
    },
    {
      "cell_type": "markdown",
      "metadata": {
        "id": "KFOKCCJrOlIK",
        "colab_type": "text"
      },
      "source": [
        "# Join Two Tuples"
      ]
    },
    {
      "cell_type": "code",
      "metadata": {
        "id": "Zc-nqDylOHq8",
        "colab_type": "code",
        "outputId": "be46f2ab-5fa7-4213-d6a6-9c2ef378b1de",
        "colab": {
          "base_uri": "https://localhost:8080/",
          "height": 69
        }
      },
      "source": [
        "newplanets = (1, 2, 3)\n",
        "\n",
        "joined_tuple = planets + newplanets\n",
        "\n",
        "print(planets) \n",
        "print(newplanets) \n",
        "print(joined_tuple) "
      ],
      "execution_count": 27,
      "outputs": [
        {
          "output_type": "stream",
          "text": [
            "('Mercury', 'Venus', 'Earth', 'Mars', 'Jupiter', 'Saturn', 'Uranus', 'Neptune')\n",
            "(1, 2, 3)\n",
            "('Mercury', 'Venus', 'Earth', 'Mars', 'Jupiter', 'Saturn', 'Uranus', 'Neptune', 1, 2, 3)\n"
          ],
          "name": "stdout"
        }
      ]
    },
    {
      "cell_type": "markdown",
      "metadata": {
        "id": "VOqo1fVZQcli",
        "colab_type": "text"
      },
      "source": [
        "# Find the index of the item in the tuple"
      ]
    },
    {
      "cell_type": "code",
      "metadata": {
        "id": "lHKMtQ2HOsEM",
        "colab_type": "code",
        "outputId": "962bfd49-cf4d-4a20-cb58-2dc1d53f6054",
        "colab": {
          "base_uri": "https://localhost:8080/",
          "height": 34
        }
      },
      "source": [
        "print(planets.index(\"Earth\"))"
      ],
      "execution_count": 28,
      "outputs": [
        {
          "output_type": "stream",
          "text": [
            "2\n"
          ],
          "name": "stdout"
        }
      ]
    },
    {
      "cell_type": "markdown",
      "metadata": {
        "id": "tawLTy0uQ51E",
        "colab_type": "text"
      },
      "source": [
        "# Lists containing tuples"
      ]
    },
    {
      "cell_type": "code",
      "metadata": {
        "id": "jLF_FXEPQvyn",
        "colab_type": "code",
        "outputId": "17bad45d-51e4-4278-d8db-43e58a5b1f58",
        "colab": {
          "base_uri": "https://localhost:8080/",
          "height": 34
        }
      },
      "source": [
        "a = ( 1, 2, 3)\n",
        "b = 4, 5 ,6\n",
        "\n",
        "tuples_inside_list = [ a, b]\n",
        "print( tuples_inside_list )"
      ],
      "execution_count": 29,
      "outputs": [
        {
          "output_type": "stream",
          "text": [
            "[(1, 2, 3), (4, 5, 6)]\n"
          ],
          "name": "stdout"
        }
      ]
    },
    {
      "cell_type": "code",
      "metadata": {
        "id": "xzUp-yCoBdj6",
        "colab_type": "code",
        "colab": {
          "base_uri": "https://localhost:8080/",
          "height": 52
        },
        "outputId": "e0f3bd08-2982-4f4f-d263-f708e0ff9c2f"
      },
      "source": [
        "#create a new list\n",
        "\n",
        "my_list = []\n",
        "print(my_list)\n",
        "my_list.append(\"Kristin\")\n",
        "my_list.append(a)\n",
        "my_list.append(b)\n",
        "\n",
        "print(my_list)"
      ],
      "execution_count": 37,
      "outputs": [
        {
          "output_type": "stream",
          "text": [
            "[]\n",
            "['Kristin', (1, 2, 3), (4, 5, 6)]\n"
          ],
          "name": "stdout"
        }
      ]
    },
    {
      "cell_type": "code",
      "metadata": {
        "id": "wlxLPvGUTmSI",
        "colab_type": "code",
        "colab": {
          "base_uri": "https://localhost:8080/",
          "height": 52
        },
        "outputId": "64ca2d41-4918-4c0f-e501-3c48b7854f9b"
      },
      "source": [
        "# Unpack the tuples\n",
        "\n",
        "x , y, z  = (1,2, 3)\n",
        "print(x)\n",
        "print(y)"
      ],
      "execution_count": 40,
      "outputs": [
        {
          "output_type": "stream",
          "text": [
            "1\n",
            "2\n"
          ],
          "name": "stdout"
        }
      ]
    },
    {
      "cell_type": "code",
      "metadata": {
        "id": "Mv1pDtoXSOOf",
        "colab_type": "code",
        "outputId": "f233e7f7-42d9-4b7e-f9a1-301c8b17a68f",
        "colab": {
          "base_uri": "https://localhost:8080/",
          "height": 52
        }
      },
      "source": [
        "(age, years_of_school) = \"30,17\".split(',') # 30, 17\n",
        "print (age)\n",
        "print (years_of_school)"
      ],
      "execution_count": 41,
      "outputs": [
        {
          "output_type": "stream",
          "text": [
            "30\n",
            "17\n"
          ],
          "name": "stdout"
        }
      ]
    },
    {
      "cell_type": "code",
      "metadata": {
        "id": "D8FY0AEKSnLh",
        "colab_type": "code",
        "outputId": "3b84d71e-be12-4b98-cfc7-21632ac1fdc3",
        "colab": {
          "base_uri": "https://localhost:8080/",
          "height": 52
        }
      },
      "source": [
        "(first_name, last_name) = \"harpreet,kaur\".split(',')\n",
        "print (first_name)\n",
        "print (last_name)"
      ],
      "execution_count": 42,
      "outputs": [
        {
          "output_type": "stream",
          "text": [
            "harpreet\n",
            "kaur\n"
          ],
          "name": "stdout"
        }
      ]
    },
    {
      "cell_type": "markdown",
      "metadata": {
        "id": "XaC0cwZ1TZMe",
        "colab_type": "text"
      },
      "source": [
        "# Function returning results in the form of tuple"
      ]
    },
    {
      "cell_type": "code",
      "metadata": {
        "id": "KAHTfnB9Sx0m",
        "colab_type": "code",
        "outputId": "c40032bb-0df5-417f-c68f-8d5f48192258",
        "colab": {
          "base_uri": "https://localhost:8080/",
          "height": 86
        }
      },
      "source": [
        "def sum_product(x, y):\n",
        "  sum = x + y\n",
        "  product = x * y\n",
        "  substraction = x - y\n",
        "  return sum, product, substraction\n",
        "\n",
        "s, p , d = sum_product(3 , 4 )\n",
        "print(s)\n",
        "print(p)\n",
        "print(d)\n",
        "print(d)\n"
      ],
      "execution_count": 46,
      "outputs": [
        {
          "output_type": "stream",
          "text": [
            "7\n",
            "12\n",
            "-1\n",
            "-1\n"
          ],
          "name": "stdout"
        }
      ]
    },
    {
      "cell_type": "code",
      "metadata": {
        "id": "BM0uvuo8TUEY",
        "colab_type": "code",
        "colab": {}
      },
      "source": [
        ""
      ],
      "execution_count": 0,
      "outputs": []
    }
  ]
}