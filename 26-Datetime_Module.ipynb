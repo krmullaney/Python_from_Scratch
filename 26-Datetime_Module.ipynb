{
  "nbformat": 4,
  "nbformat_minor": 0,
  "metadata": {
    "kernelspec": {
      "display_name": "Python 3",
      "language": "python",
      "name": "python3"
    },
    "language_info": {
      "codemirror_mode": {
        "name": "ipython",
        "version": 3
      },
      "file_extension": ".py",
      "mimetype": "text/x-python",
      "name": "python",
      "nbconvert_exporter": "python",
      "pygments_lexer": "ipython3",
      "version": "3.6.2"
    },
    "colab": {
      "name": "02-Datetime.ipynb",
      "provenance": [],
      "collapsed_sections": []
    }
  },
  "cells": [
    {
      "cell_type": "markdown",
      "metadata": {
        "id": "GJhD6K7_AY9M",
        "colab_type": "text"
      },
      "source": [
        "# datetime Module\n",
        "\n",
        "A date in Python is not a data type of its own, but we can import a module named datetime to work with dates as date objects. Python has the datetime module to help deal with timestamps in your code.\n",
        "\n",
        "#datetime class\n",
        "The date contains year, month, day, hour, minute, second, and microsecond. The datetime module has many methods to return information about the date object."
      ]
    },
    {
      "cell_type": "code",
      "metadata": {
        "id": "n6E6wQ8OEqwr",
        "colab_type": "code",
        "colab": {
          "base_uri": "https://localhost:8080/",
          "height": 52
        },
        "outputId": "9d1622f7-0fae-4961-f824-361dcdd90929"
      },
      "source": [
        "import datetime\n",
        "\n",
        "x = datetime.datetime.now() \n",
        "\n",
        "print(x) \n",
        "print(type(x)) "
      ],
      "execution_count": 42,
      "outputs": [
        {
          "output_type": "stream",
          "text": [
            "2020-05-20 13:20:24.954820\n",
            "<class 'datetime.datetime'>\n"
          ],
          "name": "stdout"
        }
      ]
    },
    {
      "cell_type": "code",
      "metadata": {
        "id": "7zh0a23KGAaZ",
        "colab_type": "code",
        "colab": {
          "base_uri": "https://localhost:8080/",
          "height": 34
        },
        "outputId": "14730f05-2812-4036-d59d-3637d7d6a7c2"
      },
      "source": [
        "print(x.year)"
      ],
      "execution_count": 48,
      "outputs": [
        {
          "output_type": "stream",
          "text": [
            "2018\n"
          ],
          "name": "stdout"
        }
      ]
    },
    {
      "cell_type": "markdown",
      "metadata": {
        "id": "MsAx9yFRHmTX",
        "colab_type": "text"
      },
      "source": [
        "# Creating Date Objects\n",
        "\n",
        "\n",
        "The datetime() class also takes parameters for time and timezone (hour, minute, second, microsecond, tzone), but they are optional, and has a default value of 0, (None for timezone)."
      ]
    },
    {
      "cell_type": "code",
      "metadata": {
        "id": "Pe7TdDqFHtdX",
        "colab_type": "code",
        "colab": {
          "base_uri": "https://localhost:8080/",
          "height": 34
        },
        "outputId": "a792d6b6-a131-4d88-9cd3-e80ab3350cfb"
      },
      "source": [
        "x = datetime.datetime(2020, 5, 24 , 10 , 24)\n",
        "\n",
        "print(x) "
      ],
      "execution_count": 46,
      "outputs": [
        {
          "output_type": "stream",
          "text": [
            "2020-05-24 10:24:00\n"
          ],
          "name": "stdout"
        }
      ]
    },
    {
      "cell_type": "markdown",
      "metadata": {
        "id": "eduNXHOfH1tU",
        "colab_type": "text"
      },
      "source": [
        "# The strftime() Method\n",
        "\n",
        "The datetime object has a method for formatting date objects into readable strings.\n",
        "\n",
        "The method is called strftime(), and takes one parameter, format, to specify the format of the returned string."
      ]
    },
    {
      "cell_type": "code",
      "metadata": {
        "id": "1qel5c6PIHyZ",
        "colab_type": "code",
        "colab": {
          "base_uri": "https://localhost:8080/",
          "height": 52
        },
        "outputId": "05c408be-895f-4edb-95bf-0cd28c2d94f0"
      },
      "source": [
        "#x = datetime.datetime(2018, 6, 1)\n",
        "x = datetime.datetime.now()\n",
        "\n",
        "print(x.strftime(\"%B\")) \n",
        "print(x.strftime(\"%A\"))"
      ],
      "execution_count": 50,
      "outputs": [
        {
          "output_type": "stream",
          "text": [
            "May\n",
            "Wednesday\n"
          ],
          "name": "stdout"
        }
      ]
    },
    {
      "cell_type": "markdown",
      "metadata": {
        "id": "iJZLkdv0ILXV",
        "colab_type": "text"
      },
      "source": [
        "## A reference of all the legal format codes:\n",
        "\n",
        "    Directive \tDescription \tExample \n",
        "    %a \tWeekday, short version \tWed \t\n",
        "    %A \tWeekday, full version \tWednesday \t\n",
        "    %w \tWeekday as a number 0-6, 0 is Sunday \t3 \t\n",
        "    %d \tDay of month 01-31 \t31 \t\n",
        "    %b \tMonth name, short version \tDec \t\n",
        "    %B \tMonth name, full version \tDecember \t\n",
        "    %m \tMonth as a number 01-12 \t12 \t\n",
        "    %y \tYear, short version, without century \t18 \t\n",
        "    %Y \tYear, full version \t2018 \t\n",
        "    %H \tHour 00-23 \t17 \t\n",
        "    %I \tHour 00-12 \t05 \t\n",
        "    %p \tAM/PM \tPM \t\n",
        "    %M \tMinute 00-59 \t41 \t\n",
        "    %S \tSecond 00-59 \t08 \t\n",
        "    %f \tMicrosecond 000000-999999 \t548513 \t\n",
        "    %z \tUTC offset \t+0100 \t\n",
        "    %Z \tTimezone \tCST \t\n",
        "    %j \tDay number of year 001-366 \t365 \t\n",
        "    %U \tWeek number of year, Sunday as the first day of week, 00-53 \t52 \t\n",
        "    %W \tWeek number of year, Monday as the first day of week, 00-53 \t52 \t\n",
        "    %c \tLocal version of date and time \tMon Dec 31 17:41:00 2018 \t\n",
        "    %x \tLocal version of date \t12/31/18 \t\n",
        "    %X \tLocal version of time \t17:41:00 \t\n",
        "    %% \tA % character %"
      ]
    },
    {
      "cell_type": "markdown",
      "metadata": {
        "id": "L95Yw9shE4Lr",
        "colab_type": "text"
      },
      "source": [
        "## time\n",
        "\n",
        "\n",
        "Time values are represented with the time class. Times have attributes for hour, minute, second, and microsecond. They can also include time zone information. The arguments to initialize a time instance are optional, but the default of 0 is unlikely to be what you want.\n",
        "\n",
        "\n",
        "Let's take a look at how we can extract time information from the datetime module. We can create a timestamp by specifying datetime.time(hour,minute,second,microsecond)"
      ]
    },
    {
      "cell_type": "code",
      "metadata": {
        "id": "rbaDmclTAY9V",
        "colab_type": "code",
        "colab": {
          "base_uri": "https://localhost:8080/",
          "height": 34
        },
        "outputId": "87bc77a5-bbc1-4783-ca58-fe630b2e9b09"
      },
      "source": [
        "t = datetime.time(4, 20, 1)\n",
        "\n",
        "print(type(t))"
      ],
      "execution_count": 51,
      "outputs": [
        {
          "output_type": "stream",
          "text": [
            "<class 'datetime.time'>\n"
          ],
          "name": "stdout"
        }
      ]
    },
    {
      "cell_type": "code",
      "metadata": {
        "id": "icRHH6kuBpiL",
        "colab_type": "code",
        "colab": {
          "base_uri": "https://localhost:8080/",
          "height": 121
        },
        "outputId": "387d7a6e-4648-43f2-b1c3-718a14b8635a"
      },
      "source": [
        "# Let's show the different components\n",
        "print(t)\n",
        "print('hour  :', t.hour)\n",
        "print('minute:', t.minute)\n",
        "print('second:', t.second)\n",
        "print('microsecond:', t.microsecond)\n",
        "print('tzinfo:', t.tzinfo)"
      ],
      "execution_count": 53,
      "outputs": [
        {
          "output_type": "stream",
          "text": [
            "04:20:01\n",
            "hour  : 4\n",
            "minute: 20\n",
            "second: 1\n",
            "microsecond: 0\n",
            "tzinfo: None\n"
          ],
          "name": "stdout"
        }
      ]
    },
    {
      "cell_type": "markdown",
      "metadata": {
        "id": "JKtef3dwAY9u",
        "colab_type": "text"
      },
      "source": [
        "Note: A time instance only holds values of time, and not a date associated with the time. \n",
        "\n",
        "We can also check the min and max values a time of day can have in the module:"
      ]
    },
    {
      "cell_type": "code",
      "metadata": {
        "id": "qyuoGxIoAY93",
        "colab_type": "code",
        "colab": {
          "base_uri": "https://localhost:8080/",
          "height": 69
        },
        "outputId": "d702beb7-1355-4db2-82b0-34003ea9dd7c"
      },
      "source": [
        "print('Earliest  :', datetime.time.min)\n",
        "print('Latest    :', datetime.time.max)\n",
        "print('Resolution:', datetime.time.resolution)"
      ],
      "execution_count": 37,
      "outputs": [
        {
          "output_type": "stream",
          "text": [
            "Earliest  : 00:00:00\n",
            "Latest    : 23:59:59.999999\n",
            "Resolution: 0:00:00.000001\n"
          ],
          "name": "stdout"
        }
      ]
    },
    {
      "cell_type": "markdown",
      "metadata": {
        "id": "2-HaGiMhAY-J",
        "colab_type": "text"
      },
      "source": [
        "The min and max class attributes reflect the valid range of times in a single day."
      ]
    },
    {
      "cell_type": "markdown",
      "metadata": {
        "id": "YyuMt8dLAY-N",
        "colab_type": "text"
      },
      "source": [
        "## Dates\n",
        "datetime (as you might suspect) also allows us to work with date timestamps. Calendar date values are represented with the date class. Instances have attributes for year, month, and day. It is easy to create a date representing today’s date using the today() class method.\n",
        "\n",
        "Let's see some examples:"
      ]
    },
    {
      "cell_type": "code",
      "metadata": {
        "id": "BczrSDlaAY-Q",
        "colab_type": "code",
        "colab": {
          "base_uri": "https://localhost:8080/",
          "height": 139
        },
        "outputId": "f6844629-34a4-4c97-e6b8-ab0736441aad"
      },
      "source": [
        "today = datetime.date.today()\n",
        "print(today)\n",
        "print('ctime:', today.ctime())\n",
        "print('tuple:', today.timetuple())\n",
        "print('ordinal:', today.toordinal())\n",
        "print('Year :', today.year)\n",
        "print('Month:', today.month)\n",
        "print('Day  :', today.day)"
      ],
      "execution_count": 54,
      "outputs": [
        {
          "output_type": "stream",
          "text": [
            "2020-05-20\n",
            "ctime: Wed May 20 00:00:00 2020\n",
            "tuple: time.struct_time(tm_year=2020, tm_mon=5, tm_mday=20, tm_hour=0, tm_min=0, tm_sec=0, tm_wday=2, tm_yday=141, tm_isdst=-1)\n",
            "ordinal: 737565\n",
            "Year : 2020\n",
            "Month: 5\n",
            "Day  : 20\n"
          ],
          "name": "stdout"
        }
      ]
    },
    {
      "cell_type": "markdown",
      "metadata": {
        "id": "gCRsgUjqAY-c",
        "colab_type": "text"
      },
      "source": [
        "As with time, the range of date values supported can be determined using the min and max attributes."
      ]
    },
    {
      "cell_type": "code",
      "metadata": {
        "id": "hx4oMwShAY-f",
        "colab_type": "code",
        "colab": {
          "base_uri": "https://localhost:8080/",
          "height": 69
        },
        "outputId": "9b317886-fd09-4fb8-dae6-25278bcebe66"
      },
      "source": [
        "print('Earliest  :', datetime.date.min)\n",
        "print('Latest    :', datetime.date.max)\n",
        "print('Resolution:', datetime.date.resolution)"
      ],
      "execution_count": 56,
      "outputs": [
        {
          "output_type": "stream",
          "text": [
            "Earliest  : 0001-01-01\n",
            "Latest    : 9999-12-31\n",
            "Resolution: 1 day, 0:00:00\n"
          ],
          "name": "stdout"
        }
      ]
    },
    {
      "cell_type": "markdown",
      "metadata": {
        "id": "l4ZvkJ1TAY-x",
        "colab_type": "text"
      },
      "source": [
        "Another way to create new date instances uses the replace() method of an existing date. For example, you can change the year, leaving the day and month alone."
      ]
    },
    {
      "cell_type": "code",
      "metadata": {
        "id": "bTBaE3xCAY-1",
        "colab_type": "code",
        "colab": {
          "base_uri": "https://localhost:8080/",
          "height": 69
        },
        "outputId": "9a8974d6-b745-430b-ea48-477a3fcd732c"
      },
      "source": [
        "d1 = datetime.date(2015, 3, 11)\n",
        "print('d1:', d1)\n",
        "\n",
        "d2 = d1.replace(year=1990)\n",
        "print('d2:', d2)\n",
        "\n",
        "print('d1:', d1)"
      ],
      "execution_count": 57,
      "outputs": [
        {
          "output_type": "stream",
          "text": [
            "d1: 2015-03-11\n",
            "d2: 1990-03-11\n",
            "d1: 2015-03-11\n"
          ],
          "name": "stdout"
        }
      ]
    },
    {
      "cell_type": "markdown",
      "metadata": {
        "id": "tmDjIPaiAY_E",
        "colab_type": "text"
      },
      "source": [
        "# Arithmetic\n",
        "We can perform arithmetic on date objects to check for time differences. For example:"
      ]
    },
    {
      "cell_type": "code",
      "metadata": {
        "id": "VcKwXFwoAY_G",
        "colab_type": "code",
        "colab": {
          "base_uri": "https://localhost:8080/",
          "height": 34
        },
        "outputId": "0e2c14ab-1d64-43c1-a9ea-1b45f4117bdb"
      },
      "source": [
        "d1"
      ],
      "execution_count": 58,
      "outputs": [
        {
          "output_type": "execute_result",
          "data": {
            "text/plain": [
              "datetime.date(2015, 3, 11)"
            ]
          },
          "metadata": {
            "tags": []
          },
          "execution_count": 58
        }
      ]
    },
    {
      "cell_type": "code",
      "metadata": {
        "id": "ZuWYWij8AY_Q",
        "colab_type": "code",
        "colab": {
          "base_uri": "https://localhost:8080/",
          "height": 34
        },
        "outputId": "410661ac-f464-4af0-8fb8-a8c4196039c3"
      },
      "source": [
        "d2"
      ],
      "execution_count": 15,
      "outputs": [
        {
          "output_type": "execute_result",
          "data": {
            "text/plain": [
              "datetime.date(1990, 3, 11)"
            ]
          },
          "metadata": {
            "tags": []
          },
          "execution_count": 15
        }
      ]
    },
    {
      "cell_type": "code",
      "metadata": {
        "id": "POAAZcKMAY_a",
        "colab_type": "code",
        "colab": {
          "base_uri": "https://localhost:8080/",
          "height": 34
        },
        "outputId": "e4925acd-ca43-4c37-f0c9-839685f11578"
      },
      "source": [
        "d1-d2"
      ],
      "execution_count": 17,
      "outputs": [
        {
          "output_type": "execute_result",
          "data": {
            "text/plain": [
              "datetime.timedelta(9131)"
            ]
          },
          "metadata": {
            "tags": []
          },
          "execution_count": 17
        }
      ]
    },
    {
      "cell_type": "markdown",
      "metadata": {
        "id": "ctHfcZZPAY_l",
        "colab_type": "text"
      },
      "source": [
        "This gives us the difference in days between the two dates. You can use the timedelta method to specify various units of times (days, minutes, hours, etc.)\n"
      ]
    },
    {
      "cell_type": "code",
      "metadata": {
        "id": "0Hh0BOozLu2u",
        "colab_type": "code",
        "colab": {
          "base_uri": "https://localhost:8080/",
          "height": 54
        },
        "outputId": "51af079f-c6cd-4fa4-bdfc-4c1e3374e36c"
      },
      "source": [
        "print(dir(datetime))"
      ],
      "execution_count": 39,
      "outputs": [
        {
          "output_type": "stream",
          "text": [
            "['MAXYEAR', 'MINYEAR', '__builtins__', '__cached__', '__doc__', '__file__', '__loader__', '__name__', '__package__', '__spec__', 'date', 'datetime', 'datetime_CAPI', 'sys', 'time', 'timedelta', 'timezone', 'tzinfo']\n"
          ],
          "name": "stdout"
        }
      ]
    },
    {
      "cell_type": "code",
      "metadata": {
        "id": "SHjrIN_XL4ku",
        "colab_type": "code",
        "colab": {
          "base_uri": "https://localhost:8080/",
          "height": 1000
        },
        "outputId": "03cdbeb9-0a13-41d5-8f93-2ac6484989d9"
      },
      "source": [
        "help(datetime.datetime)"
      ],
      "execution_count": 59,
      "outputs": [
        {
          "output_type": "stream",
          "text": [
            "Help on class datetime in module datetime:\n",
            "\n",
            "class datetime(date)\n",
            " |  datetime(year, month, day[, hour[, minute[, second[, microsecond[,tzinfo]]]]])\n",
            " |  \n",
            " |  The year, month and day arguments are required. tzinfo may be None, or an\n",
            " |  instance of a tzinfo subclass. The remaining arguments may be ints.\n",
            " |  \n",
            " |  Method resolution order:\n",
            " |      datetime\n",
            " |      date\n",
            " |      builtins.object\n",
            " |  \n",
            " |  Methods defined here:\n",
            " |  \n",
            " |  __add__(self, value, /)\n",
            " |      Return self+value.\n",
            " |  \n",
            " |  __eq__(self, value, /)\n",
            " |      Return self==value.\n",
            " |  \n",
            " |  __ge__(self, value, /)\n",
            " |      Return self>=value.\n",
            " |  \n",
            " |  __getattribute__(self, name, /)\n",
            " |      Return getattr(self, name).\n",
            " |  \n",
            " |  __gt__(self, value, /)\n",
            " |      Return self>value.\n",
            " |  \n",
            " |  __hash__(self, /)\n",
            " |      Return hash(self).\n",
            " |  \n",
            " |  __le__(self, value, /)\n",
            " |      Return self<=value.\n",
            " |  \n",
            " |  __lt__(self, value, /)\n",
            " |      Return self<value.\n",
            " |  \n",
            " |  __ne__(self, value, /)\n",
            " |      Return self!=value.\n",
            " |  \n",
            " |  __new__(*args, **kwargs) from builtins.type\n",
            " |      Create and return a new object.  See help(type) for accurate signature.\n",
            " |  \n",
            " |  __radd__(self, value, /)\n",
            " |      Return value+self.\n",
            " |  \n",
            " |  __reduce__(...)\n",
            " |      __reduce__() -> (cls, state)\n",
            " |  \n",
            " |  __reduce_ex__(...)\n",
            " |      __reduce_ex__(proto) -> (cls, state)\n",
            " |  \n",
            " |  __repr__(self, /)\n",
            " |      Return repr(self).\n",
            " |  \n",
            " |  __rsub__(self, value, /)\n",
            " |      Return value-self.\n",
            " |  \n",
            " |  __str__(self, /)\n",
            " |      Return str(self).\n",
            " |  \n",
            " |  __sub__(self, value, /)\n",
            " |      Return self-value.\n",
            " |  \n",
            " |  astimezone(...)\n",
            " |      tz -> convert to local time in new timezone tz\n",
            " |  \n",
            " |  combine(...) from builtins.type\n",
            " |      date, time -> datetime with same date and time fields\n",
            " |  \n",
            " |  ctime(...)\n",
            " |      Return ctime() style string.\n",
            " |  \n",
            " |  date(...)\n",
            " |      Return date object with same year, month and day.\n",
            " |  \n",
            " |  dst(...)\n",
            " |      Return self.tzinfo.dst(self).\n",
            " |  \n",
            " |  fromtimestamp(...) from builtins.type\n",
            " |      timestamp[, tz] -> tz's local time from POSIX timestamp.\n",
            " |  \n",
            " |  isoformat(...)\n",
            " |      [sep] -> string in ISO 8601 format, YYYY-MM-DDT[HH[:MM[:SS[.mmm[uuu]]]]][+HH:MM].\n",
            " |      sep is used to separate the year from the time, and defaults to 'T'.\n",
            " |      timespec specifies what components of the time to include (allowed values are 'auto', 'hours', 'minutes', 'seconds', 'milliseconds', and 'microseconds').\n",
            " |  \n",
            " |  now(tz=None) from builtins.type\n",
            " |      Returns new datetime object representing current time local to tz.\n",
            " |      \n",
            " |        tz\n",
            " |          Timezone object.\n",
            " |      \n",
            " |      If no tz is specified, uses local timezone.\n",
            " |  \n",
            " |  replace(...)\n",
            " |      Return datetime with new specified fields.\n",
            " |  \n",
            " |  strptime(...) from builtins.type\n",
            " |      string, format -> new datetime parsed from a string (like time.strptime()).\n",
            " |  \n",
            " |  time(...)\n",
            " |      Return time object with same time but with tzinfo=None.\n",
            " |  \n",
            " |  timestamp(...)\n",
            " |      Return POSIX timestamp as float.\n",
            " |  \n",
            " |  timetuple(...)\n",
            " |      Return time tuple, compatible with time.localtime().\n",
            " |  \n",
            " |  timetz(...)\n",
            " |      Return time object with same time and tzinfo.\n",
            " |  \n",
            " |  tzname(...)\n",
            " |      Return self.tzinfo.tzname(self).\n",
            " |  \n",
            " |  utcfromtimestamp(...) from builtins.type\n",
            " |      Construct a naive UTC datetime from a POSIX timestamp.\n",
            " |  \n",
            " |  utcnow(...) from builtins.type\n",
            " |      Return a new datetime representing UTC day and time.\n",
            " |  \n",
            " |  utcoffset(...)\n",
            " |      Return self.tzinfo.utcoffset(self).\n",
            " |  \n",
            " |  utctimetuple(...)\n",
            " |      Return UTC time tuple, compatible with time.localtime().\n",
            " |  \n",
            " |  ----------------------------------------------------------------------\n",
            " |  Data descriptors defined here:\n",
            " |  \n",
            " |  fold\n",
            " |  \n",
            " |  hour\n",
            " |  \n",
            " |  microsecond\n",
            " |  \n",
            " |  minute\n",
            " |  \n",
            " |  second\n",
            " |  \n",
            " |  tzinfo\n",
            " |  \n",
            " |  ----------------------------------------------------------------------\n",
            " |  Data and other attributes defined here:\n",
            " |  \n",
            " |  max = datetime.datetime(9999, 12, 31, 23, 59, 59, 999999)\n",
            " |  \n",
            " |  min = datetime.datetime(1, 1, 1, 0, 0)\n",
            " |  \n",
            " |  resolution = datetime.timedelta(0, 0, 1)\n",
            " |  \n",
            " |  ----------------------------------------------------------------------\n",
            " |  Methods inherited from date:\n",
            " |  \n",
            " |  __format__(...)\n",
            " |      Formats self with strftime.\n",
            " |  \n",
            " |  fromordinal(...) from builtins.type\n",
            " |      int -> date corresponding to a proleptic Gregorian ordinal.\n",
            " |  \n",
            " |  isocalendar(...)\n",
            " |      Return a 3-tuple containing ISO year, week number, and weekday.\n",
            " |  \n",
            " |  isoweekday(...)\n",
            " |      Return the day of the week represented by the date.\n",
            " |      Monday == 1 ... Sunday == 7\n",
            " |  \n",
            " |  strftime(...)\n",
            " |      format -> strftime() style string.\n",
            " |  \n",
            " |  today(...) from builtins.type\n",
            " |      Current date or datetime:  same as self.__class__.fromtimestamp(time.time()).\n",
            " |  \n",
            " |  toordinal(...)\n",
            " |      Return proleptic Gregorian ordinal.  January 1 of year 1 is day 1.\n",
            " |  \n",
            " |  weekday(...)\n",
            " |      Return the day of the week represented by the date.\n",
            " |      Monday == 0 ... Sunday == 6\n",
            " |  \n",
            " |  ----------------------------------------------------------------------\n",
            " |  Data descriptors inherited from date:\n",
            " |  \n",
            " |  day\n",
            " |  \n",
            " |  month\n",
            " |  \n",
            " |  year\n",
            "\n"
          ],
          "name": "stdout"
        }
      ]
    },
    {
      "cell_type": "code",
      "metadata": {
        "id": "QKkw-WWZL8YG",
        "colab_type": "code",
        "colab": {}
      },
      "source": [
        ""
      ],
      "execution_count": 0,
      "outputs": []
    }
  ]
}