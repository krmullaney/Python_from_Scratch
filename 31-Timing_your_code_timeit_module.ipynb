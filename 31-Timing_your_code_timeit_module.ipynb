{
  "nbformat": 4,
  "nbformat_minor": 0,
  "metadata": {
    "kernelspec": {
      "display_name": "Python 3",
      "language": "python",
      "name": "python3"
    },
    "language_info": {
      "codemirror_mode": {
        "name": "ipython",
        "version": 3
      },
      "file_extension": ".py",
      "mimetype": "text/x-python",
      "name": "python",
      "nbconvert_exporter": "python",
      "pygments_lexer": "ipython3",
      "version": "3.6.2"
    },
    "colab": {
      "name": "Timing your code - timeit.ipynb",
      "provenance": []
    }
  },
  "cells": [
    {
      "cell_type": "markdown",
      "metadata": {
        "id": "GfOb_GvNLMOX",
        "colab_type": "text"
      },
      "source": [
        "# Timing your code\n",
        "Sometimes it's important to know how long your code is taking to run, or at least know if a particular line of code is slowing down your entire project. Python has a built-in timing module to do this. \n",
        "\n",
        "This module provides a simple way to time small bits of Python code. It has both a Command-Line Interface as well as a callable one. It avoids a number of common traps for measuring execution times. \n",
        "\n",
        "Let's learn about timeit!"
      ]
    },
    {
      "cell_type": "code",
      "metadata": {
        "id": "FlMu_OlULMOc",
        "colab_type": "code",
        "colab": {}
      },
      "source": [
        "import timeit"
      ],
      "execution_count": 0,
      "outputs": []
    },
    {
      "cell_type": "markdown",
      "metadata": {
        "id": "BQwMT5bLLMOv",
        "colab_type": "text"
      },
      "source": [
        "Let's use timeit to time various methods of creating the string '0-1-2-3-.....-99'\n",
        "\n",
        "We'll pass two arguments: the actual line we want to test encapsulated as a string and the number of times we wish to run it. Here we'll choose 10,000 runs to get some high enough numbers to compare various methods."
      ]
    },
    {
      "cell_type": "code",
      "metadata": {
        "id": "BdgQpGw2LMO3",
        "colab_type": "code",
        "colab": {
          "base_uri": "https://localhost:8080/",
          "height": 34
        },
        "outputId": "d9eb4f01-4aa2-4b5f-d122-7081561b981d"
      },
      "source": [
        "# For loop\n",
        "timeit.timeit('\"-\".join(str(n) for n in range(100))', number=10000)"
      ],
      "execution_count": 22,
      "outputs": [
        {
          "output_type": "execute_result",
          "data": {
            "text/plain": [
              "0.22127073100000416"
            ]
          },
          "metadata": {
            "tags": []
          },
          "execution_count": 22
        }
      ]
    },
    {
      "cell_type": "code",
      "metadata": {
        "id": "vUloTTrTLMPK",
        "colab_type": "code",
        "colab": {
          "base_uri": "https://localhost:8080/",
          "height": 34
        },
        "outputId": "f7b08c03-0569-48a7-b25a-0c53330dd383"
      },
      "source": [
        "# List comprehension\n",
        "timeit.timeit('\"-\".join([str(n) for n in range(100)])', number=10000)"
      ],
      "execution_count": 23,
      "outputs": [
        {
          "output_type": "execute_result",
          "data": {
            "text/plain": [
              "0.19175070800019967"
            ]
          },
          "metadata": {
            "tags": []
          },
          "execution_count": 23
        }
      ]
    },
    {
      "cell_type": "code",
      "metadata": {
        "id": "XwBO9eFsLMPY",
        "colab_type": "code",
        "colab": {
          "base_uri": "https://localhost:8080/",
          "height": 34
        },
        "outputId": "22bdc16f-06f2-412d-c8ae-3d6f4436d4fe"
      },
      "source": [
        "# Map()\n",
        "timeit.timeit('\"-\".join(map(str, range(100)))', number=10000)"
      ],
      "execution_count": 24,
      "outputs": [
        {
          "output_type": "execute_result",
          "data": {
            "text/plain": [
              "0.15488645099958376"
            ]
          },
          "metadata": {
            "tags": []
          },
          "execution_count": 24
        }
      ]
    },
    {
      "cell_type": "markdown",
      "metadata": {
        "id": "6WtpB_vTLMPl",
        "colab_type": "text"
      },
      "source": [
        "Great! We see a significant time difference by using map()! This is good to know and we should keep this in mind.\n",
        "\n",
        "Now let's introduce iPython's magic function **%timeit**<br>\n",
        "*NOTE: This method is specific to jupyter notebooks!*\n",
        "\n",
        "iPython's %timeit will perform the same lines of code a certain number of times (loops) and will give you the fastest performance time (best of 3).\n",
        "\n",
        "Let's repeat the above examinations using iPython magic!"
      ]
    },
    {
      "cell_type": "code",
      "metadata": {
        "id": "dqi6inuDLMPo",
        "colab_type": "code",
        "colab": {
          "base_uri": "https://localhost:8080/",
          "height": 34
        },
        "outputId": "e63726fb-39b3-477b-f3c8-62f9cd460514"
      },
      "source": [
        "%timeit \"-\".join(str(n) for n in range(100))"
      ],
      "execution_count": 25,
      "outputs": [
        {
          "output_type": "stream",
          "text": [
            "10000 loops, best of 3: 20.4 µs per loop\n"
          ],
          "name": "stdout"
        }
      ]
    },
    {
      "cell_type": "code",
      "metadata": {
        "id": "8waQhT7yLMP2",
        "colab_type": "code",
        "colab": {
          "base_uri": "https://localhost:8080/",
          "height": 34
        },
        "outputId": "2a65a4b0-b4fd-4d8a-842f-0dfd2d31ed8e"
      },
      "source": [
        "%timeit \"-\".join([str(n) for n in range(100)])"
      ],
      "execution_count": 26,
      "outputs": [
        {
          "output_type": "stream",
          "text": [
            "100000 loops, best of 3: 18 µs per loop\n"
          ],
          "name": "stdout"
        }
      ]
    },
    {
      "cell_type": "code",
      "metadata": {
        "id": "0-SYdyIQLMQG",
        "colab_type": "code",
        "colab": {
          "base_uri": "https://localhost:8080/",
          "height": 34
        },
        "outputId": "66c1744c-5e2e-4a51-dfa4-615c62dfacfc"
      },
      "source": [
        "%timeit \"-\".join(map(str, range(100)))"
      ],
      "execution_count": 27,
      "outputs": [
        {
          "output_type": "stream",
          "text": [
            "100000 loops, best of 3: 14.5 µs per loop\n"
          ],
          "name": "stdout"
        }
      ]
    },
    {
      "cell_type": "markdown",
      "metadata": {
        "id": "p8ZemzK1LMQR",
        "colab_type": "text"
      },
      "source": [
        "Great! We arrive at the same conclusion. It's also important to note that iPython will limit the amount of *real time* it will spend on its timeit procedure. For instance if running 100000 loops took 10 minutes, iPython would automatically reduce the number of loops to something more reasonable like 100 or 1000.\n",
        "\n",
        "Great! You should now feel comfortable timing lines of your code, both in and out of iPython. Check out the documentation for more information:\n",
        "https://docs.python.org/3/library/timeit.html"
      ]
    }
  ]
}