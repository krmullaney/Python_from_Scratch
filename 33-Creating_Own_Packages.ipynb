{
  "nbformat": 4,
  "nbformat_minor": 0,
  "metadata": {
    "kernelspec": {
      "display_name": "Python 3",
      "language": "python",
      "name": "python3"
    },
    "language_info": {
      "codemirror_mode": {
        "name": "ipython",
        "version": 3
      },
      "file_extension": ".py",
      "mimetype": "text/x-python",
      "name": "python",
      "nbconvert_exporter": "python",
      "pygments_lexer": "ipython3",
      "version": "3.6.2"
    },
    "colab": {
      "name": "Creating Own Packages.ipynb",
      "provenance": [],
      "collapsed_sections": [],
      "toc_visible": true
    }
  },
  "cells": [
    {
      "cell_type": "markdown",
      "metadata": {
        "id": "ceCi1ppeHxqh",
        "colab_type": "text"
      },
      "source": [
        "## Creating Own Packages / Writing your own Packages"
      ]
    },
    {
      "cell_type": "markdown",
      "metadata": {
        "id": "R5xFONmJIcVU",
        "colab_type": "text"
      },
      "source": [
        "## Question\n",
        "\n",
        "• What is the need of the package? Which one is \"better?\"\n",
        "\n",
        "    • One .py file with 20 classes and 10000 lines?\n",
        "    • 20 .py files, each containing a single class?\n",
        "\n",
        "• Most programmers prefer the latter approach\n",
        "\n",
        "• Smaller source files are easier to maintain"
      ]
    },
    {
      "cell_type": "markdown",
      "metadata": {
        "id": "hF0pASPQIpVX",
        "colab_type": "text"
      },
      "source": [
        "## Question\n",
        "\n",
        "\n",
        "• Which is better?\n",
        "\n",
        "    • 20 files all defined at the top-level\n",
        "        foo.py\n",
        "        bar.py\n",
        "        grok.py\n",
        "    • 20 files grouped in a directory\n",
        "        spam/\n",
        "        foo.py\n",
        "        bar.py\n",
        "        grok.py\n",
        "        \n",
        "• Clearly, latter option is easier to manage\n",
        "\n",
        ". Smaller codes are earier to maintain as well.\n"
      ]
    },
    {
      "cell_type": "markdown",
      "metadata": {
        "id": "Nijl18QRAEQA",
        "colab_type": "text"
      },
      "source": [
        "# Hierarchy Of Packages\n",
        "\n",
        "• For larger collections of code, it is usually\n",
        "desirable to organize modules into a hierarchy\n",
        "\n",
        "      MyMainPackage/\n",
        "        main_package_script.py\n",
        "        MySubPackage/\n",
        "          sub_package_script.py\n",
        "          ...\n",
        "      myprogram1.py\n",
        "\n",
        "\n",
        "\n",
        "• To do it, you just add __init__.py files\n",
        "\n",
        "      MyMainPackage/\n",
        "        __init__.py\n",
        "        main_package_script.py\n",
        "        MySubPackage/\n",
        "          __init__.py\n",
        "          sub_package_script.py\n",
        "          ...\n",
        "      myprogram1.py\n"
      ]
    },
    {
      "cell_type": "markdown",
      "metadata": {
        "id": "bmNCK_c0HmlM",
        "colab_type": "text"
      },
      "source": [
        "##Using a Package\n",
        "\n",
        "\n",
        "• Import works the same way, multiple levels\n",
        "\n",
        "    import MyMainPackage.main_package_script as mmp\n",
        "    import MyMainPackage.MySubPackage.sub_package_script as msp\n",
        "\n",
        "    mmp.main_report()\n",
        "    msp.sub_report()\n",
        "\n",
        "• The __init__.py files import at each level\n",
        "• Apparently you can do things in those files"
      ]
    },
    {
      "cell_type": "markdown",
      "metadata": {
        "id": "7B8IPF1e1B29",
        "colab_type": "text"
      },
      "source": [
        "### Creating your Own Packages\n",
        "\n",
        "## Writing modules\n",
        "Writing Python modules is very simple. To create a module of your own, simply create a new .py file with the module name, and then import it using the Python file name (without the .py extension) using the import command.\n",
        "\n",
        "## Writing packages\n",
        "\n",
        "Packages are name-spaces which contain multiple packages and modules themselves. They are simply directories, but with a twist.\n",
        "\n",
        "Each package in Python is a directory which MUST contain a special file called **\\__init\\__.py**. This file can be empty, and it indicates that the directory it contains is a Python package, so it can be imported the same way a module can be imported.\n",
        "\n",
        "For Instance, \n",
        "If we create a directory called foo, which marks the package name, we can then create a module inside that package called bar. We also must not forget to add the **\\__init\\__.py** file inside the foo directory.\n",
        "\n",
        "To use the module bar, we can import it in two ways:"
      ]
    },
    {
      "cell_type": "code",
      "metadata": {
        "id": "8X4jqf76f_1C",
        "colab_type": "code",
        "colab": {}
      },
      "source": [
        "# Just an example, this won't work\n",
        "import foo.bar\n",
        "# OR could do it this way\n",
        "from foo import bar"
      ],
      "execution_count": 0,
      "outputs": []
    },
    {
      "cell_type": "markdown",
      "metadata": {
        "id": "q6Qn2zWIgORq",
        "colab_type": "text"
      },
      "source": [
        "In the first method, we must use the foo prefix whenever we access the module bar. In the second method, we don't, because we import the module to our module's name-space.\n",
        "\n",
        "The **\\__init\\__.py** file can also decide which modules the package exports as the API, while keeping other modules internal, by overriding the **\\__all\\__** variable, like so:"
      ]
    },
    {
      "cell_type": "code",
      "metadata": {
        "id": "xHJ_18trgenc",
        "colab_type": "code",
        "colab": {}
      },
      "source": [
        "__init__.py:\n",
        "\n",
        "__all__ = [\"bar\"]"
      ],
      "execution_count": 0,
      "outputs": []
    },
    {
      "cell_type": "markdown",
      "metadata": {
        "id": "nEcmKRc5Jurz",
        "colab_type": "text"
      },
      "source": [
        "# Create / Make a directory using mkdir\n",
        "\n",
        "syntax:\n",
        "    mkdir name_of_directory"
      ]
    },
    {
      "cell_type": "code",
      "metadata": {
        "id": "aZ5UVhJ06OLB",
        "colab_type": "code",
        "colab": {
          "base_uri": "https://localhost:8080/",
          "height": 34
        },
        "outputId": "f83e6770-748c-42a8-de6e-ec0c9901fb0b"
      },
      "source": [
        "mkdir MyMainPackage"
      ],
      "execution_count": 18,
      "outputs": [
        {
          "output_type": "stream",
          "text": [
            "mkdir: cannot create directory ‘MyMainPackage’: File exists\n"
          ],
          "name": "stdout"
        }
      ]
    },
    {
      "cell_type": "markdown",
      "metadata": {
        "id": "TbuRXOiwJ9Bx",
        "colab_type": "text"
      },
      "source": [
        "#Enter into the directory using the cd\n",
        "\n",
        "Syntax: \n",
        "    cd name_to_dit_in_which_you_want_to_enter"
      ]
    },
    {
      "cell_type": "code",
      "metadata": {
        "id": "PRnWkJLI6SPl",
        "colab_type": "code",
        "outputId": "5a4b8cf6-2f0c-4a0d-c16a-14051a308dfe",
        "colab": {
          "base_uri": "https://localhost:8080/",
          "height": 34
        }
      },
      "source": [
        "cd MyMainPackage/"
      ],
      "execution_count": 19,
      "outputs": [
        {
          "output_type": "stream",
          "text": [
            "/content/MyMainPackage\n"
          ],
          "name": "stdout"
        }
      ]
    },
    {
      "cell_type": "markdown",
      "metadata": {
        "id": "-HQUyIFwKZfv",
        "colab_type": "text"
      },
      "source": [
        "#Write a file using the python jupyter magic function \n",
        "\n",
        "Syntax:\n",
        "\n",
        "    %%writefile name_of_the_file.extension\n",
        "\n",
        "    Content of the file"
      ]
    },
    {
      "cell_type": "code",
      "metadata": {
        "id": "m5sJ3XDv6WaS",
        "colab_type": "code",
        "outputId": "f9c719f6-1679-4522-c4e6-d44db9bbca8c",
        "colab": {
          "base_uri": "https://localhost:8080/",
          "height": 34
        }
      },
      "source": [
        "%%writefile main_package_script.py\n",
        "\n",
        "def main_report():\n",
        "\tprint(\"Hey I am a function inside the main_package_script at location MyMainPackage directory/folder.\")"
      ],
      "execution_count": 3,
      "outputs": [
        {
          "output_type": "stream",
          "text": [
            "Writing main_package_script.py\n"
          ],
          "name": "stdout"
        }
      ]
    },
    {
      "cell_type": "markdown",
      "metadata": {
        "id": "OODNaEJtLCnC",
        "colab_type": "text"
      },
      "source": [
        "# Create the special file __init__.py file. Content of this file can be empty\n"
      ]
    },
    {
      "cell_type": "code",
      "metadata": {
        "id": "Qs1Wb8ho6wrt",
        "colab_type": "code",
        "outputId": "cb9357b1-c73e-4372-ef1f-62a26d24259d",
        "colab": {
          "base_uri": "https://localhost:8080/",
          "height": 34
        }
      },
      "source": [
        "%%writefile __init__.py\n",
        "\n",
        "\n"
      ],
      "execution_count": 20,
      "outputs": [
        {
          "output_type": "stream",
          "text": [
            "Overwriting __init__.py\n"
          ],
          "name": "stdout"
        }
      ]
    },
    {
      "cell_type": "code",
      "metadata": {
        "id": "Uk9akOn564Fb",
        "colab_type": "code",
        "colab": {}
      },
      "source": [
        "mkdir MySubPackage"
      ],
      "execution_count": 0,
      "outputs": []
    },
    {
      "cell_type": "markdown",
      "metadata": {
        "id": "OXZFNOTHLWsZ",
        "colab_type": "text"
      },
      "source": [
        "#Create sub directory using mkdir and open the sun directory"
      ]
    },
    {
      "cell_type": "code",
      "metadata": {
        "id": "mIaq5HYw7HLa",
        "colab_type": "code",
        "outputId": "50e03d07-6693-4903-afeb-4fc3c2330ad1",
        "colab": {
          "base_uri": "https://localhost:8080/",
          "height": 34
        }
      },
      "source": [
        "cd MySubPackage"
      ],
      "execution_count": 21,
      "outputs": [
        {
          "output_type": "stream",
          "text": [
            "/content/MyMainPackage/MySubPackage\n"
          ],
          "name": "stdout"
        }
      ]
    },
    {
      "cell_type": "code",
      "metadata": {
        "id": "l_nB77Cy7ITf",
        "colab_type": "code",
        "outputId": "0d68a36b-1003-4952-a685-2a2ea7cbc976",
        "colab": {
          "base_uri": "https://localhost:8080/",
          "height": 34
        }
      },
      "source": [
        "%%writefile sub_package_script.py\n",
        "\n",
        "def sub_report():\n",
        "\tprint(\"Hey I am a function inside the sub_package_script at location MySubPackage directory/folder.\")"
      ],
      "execution_count": 22,
      "outputs": [
        {
          "output_type": "stream",
          "text": [
            "Overwriting sub_package_script.py\n"
          ],
          "name": "stdout"
        }
      ]
    },
    {
      "cell_type": "code",
      "metadata": {
        "id": "pyINs5cs7cIZ",
        "colab_type": "code",
        "outputId": "ce978c1e-897b-4102-f7a3-24f49d52e621",
        "colab": {
          "base_uri": "https://localhost:8080/",
          "height": 34
        }
      },
      "source": [
        "%%writefile __init__.py\n",
        "\n",
        "\n",
        "\n"
      ],
      "execution_count": 23,
      "outputs": [
        {
          "output_type": "stream",
          "text": [
            "Overwriting __init__.py\n"
          ],
          "name": "stdout"
        }
      ]
    },
    {
      "cell_type": "markdown",
      "metadata": {
        "id": "fqEfHrq6LmrX",
        "colab_type": "text"
      },
      "source": [
        "# To come back a one step back from the current location /\n",
        "To move one step backward within the directory\n",
        "\n",
        "Syntax:\n",
        "\n",
        "    cd .. (cd space then 2dots) #To move one step backward within the directory\n",
        "\n",
        "\n",
        "    cd (alone cd without spaces and 2dots) #To move one at the outermost directory\n"
      ]
    },
    {
      "cell_type": "code",
      "metadata": {
        "id": "j7nEDkJT7guL",
        "colab_type": "code",
        "outputId": "8d030ff3-d051-4d51-ff7b-8a42a78d17b7",
        "colab": {
          "base_uri": "https://localhost:8080/",
          "height": 34
        }
      },
      "source": [
        "cd .."
      ],
      "execution_count": 25,
      "outputs": [
        {
          "output_type": "stream",
          "text": [
            "/content\n"
          ],
          "name": "stdout"
        }
      ]
    },
    {
      "cell_type": "code",
      "metadata": {
        "id": "XyyMBMJ37ns7",
        "colab_type": "code",
        "outputId": "7b0640d9-71c1-418c-c369-1eee0707770c",
        "colab": {
          "base_uri": "https://localhost:8080/",
          "height": 34
        }
      },
      "source": [
        "cd .."
      ],
      "execution_count": 26,
      "outputs": [
        {
          "output_type": "stream",
          "text": [
            "/\n"
          ],
          "name": "stdout"
        }
      ]
    },
    {
      "cell_type": "code",
      "metadata": {
        "id": "9A6hTHz57u0N",
        "colab_type": "code",
        "outputId": "6d14e07c-e1a0-418c-84b8-8e576f101510",
        "colab": {
          "base_uri": "https://localhost:8080/",
          "height": 34
        }
      },
      "source": [
        "%%writefile myprogram1.py\n",
        "\n",
        "\n",
        "import MyMainPackage.main_package_script\n",
        "import MyMainPackage.MySubPackage.sub_package_script\n",
        "\n",
        "MyMainPackage.main_package_script.main_report()\n",
        "MyMainPackage.MySubPackage.sub_package_script.sub_report()"
      ],
      "execution_count": 11,
      "outputs": [
        {
          "output_type": "stream",
          "text": [
            "Writing myprogram1.py\n"
          ],
          "name": "stdout"
        }
      ]
    },
    {
      "cell_type": "code",
      "metadata": {
        "id": "KUxTJJQO-mft",
        "colab_type": "code",
        "outputId": "364e74ab-0ee5-4ebe-c249-c59b6e56b3fc",
        "colab": {
          "base_uri": "https://localhost:8080/",
          "height": 34
        }
      },
      "source": [
        "%%writefile myprogram2.py\n",
        "\n",
        "\n",
        "import MyMainPackage.main_package_script as mmp\n",
        "import MyMainPackage.MySubPackage.sub_package_script as msp\n",
        "\n",
        "mmp.main_report()\n",
        "msp.sub_report()"
      ],
      "execution_count": 12,
      "outputs": [
        {
          "output_type": "stream",
          "text": [
            "Writing myprogram2.py\n"
          ],
          "name": "stdout"
        }
      ]
    },
    {
      "cell_type": "code",
      "metadata": {
        "id": "Zu8Fh30v-zDn",
        "colab_type": "code",
        "outputId": "d14ca026-896c-4db8-f885-df7efac40379",
        "colab": {
          "base_uri": "https://localhost:8080/",
          "height": 34
        }
      },
      "source": [
        "%%writefile myprogram3.py\n",
        "\n",
        "from MyMainPackage.main_package_script import main_report\n",
        "from MyMainPackage.MySubPackage.sub_package_script import sub_report\n",
        "\n",
        "main_report()\n",
        "sub_report()\n"
      ],
      "execution_count": 13,
      "outputs": [
        {
          "output_type": "stream",
          "text": [
            "Writing myprogram3.py\n"
          ],
          "name": "stdout"
        }
      ]
    },
    {
      "cell_type": "code",
      "metadata": {
        "id": "izU4KOJm-7og",
        "colab_type": "code",
        "outputId": "68eedc18-b872-439b-9f76-5a5c152714a5",
        "colab": {
          "base_uri": "https://localhost:8080/",
          "height": 72
        }
      },
      "source": [
        "! python myprogram1.py"
      ],
      "execution_count": 14,
      "outputs": [
        {
          "output_type": "stream",
          "text": [
            "Hey I am a function inside the main_package_script at location MyMainPackage directory/folder.\n",
            "Hey I am a function inside the sub_package_script at location MySubPackage directory/folder.\n"
          ],
          "name": "stdout"
        }
      ]
    },
    {
      "cell_type": "code",
      "metadata": {
        "id": "NbgVqa7G-_xI",
        "colab_type": "code",
        "outputId": "9fba6f24-1130-4442-9960-ba6a3215aab3",
        "colab": {
          "base_uri": "https://localhost:8080/",
          "height": 72
        }
      },
      "source": [
        "! python myprogram2.py"
      ],
      "execution_count": 15,
      "outputs": [
        {
          "output_type": "stream",
          "text": [
            "Hey I am a function inside the main_package_script at location MyMainPackage directory/folder.\n",
            "Hey I am a function inside the sub_package_script at location MySubPackage directory/folder.\n"
          ],
          "name": "stdout"
        }
      ]
    },
    {
      "cell_type": "code",
      "metadata": {
        "id": "CMYW6lmf_Ovy",
        "colab_type": "code",
        "outputId": "860c5ae1-1d30-4e3f-b9f1-55a2cded0297",
        "colab": {
          "base_uri": "https://localhost:8080/",
          "height": 72
        }
      },
      "source": [
        "! python myprogram3.py"
      ],
      "execution_count": 16,
      "outputs": [
        {
          "output_type": "stream",
          "text": [
            "Hey I am a function inside the main_package_script at location MyMainPackage directory/folder.\n",
            "Hey I am a function inside the sub_package_script at location MySubPackage directory/folder.\n"
          ],
          "name": "stdout"
        }
      ]
    },
    {
      "cell_type": "markdown",
      "metadata": {
        "id": "CH1S1sB2Bzgc",
        "colab_type": "text"
      },
      "source": [
        "# Lets Understand the __name__ and __main__ concept by Overwriting the main package\n"
      ]
    },
    {
      "cell_type": "code",
      "metadata": {
        "id": "PRDWlCBuCKxf",
        "colab_type": "code",
        "colab": {}
      },
      "source": [
        "cd MyMainPackage/"
      ],
      "execution_count": 0,
      "outputs": []
    },
    {
      "cell_type": "code",
      "metadata": {
        "id": "jjbWHn_3CQOe",
        "colab_type": "code",
        "colab": {}
      },
      "source": [
        "! python main_package_script.py"
      ],
      "execution_count": 0,
      "outputs": []
    },
    {
      "cell_type": "code",
      "metadata": {
        "id": "k6hFydhH_Q8q",
        "colab_type": "code",
        "colab": {}
      },
      "source": [
        "%%writefile main_package_script.py\n",
        "\n",
        "\n",
        "def main_report():\n",
        "\tprint(\"Hey I am a function inside the main_package_script at location MyMainPackage directory/folder.\")\n",
        "\n",
        "if __name__ == \"__main__\" :\n",
        "\tprint(\"Now I am going to call main_report function. At present I am not imported inside any python script. \")\n",
        "\tprint(\"You are running the functions written below directly.\")\n",
        "\tmain_report()"
      ],
      "execution_count": 0,
      "outputs": []
    },
    {
      "cell_type": "code",
      "metadata": {
        "id": "S4sg8DHdCMxu",
        "colab_type": "code",
        "colab": {}
      },
      "source": [
        "! python main_package_script.py"
      ],
      "execution_count": 0,
      "outputs": []
    },
    {
      "cell_type": "code",
      "metadata": {
        "id": "8AMHGK2nCbqq",
        "colab_type": "code",
        "colab": {}
      },
      "source": [
        "%%writefile main_package_script.py\n",
        "\n",
        "\n",
        "def main_report():\n",
        "\tprint(\"Hey I am a function inside the main_package_script at location MyMainPackage directory/folder.\")\n",
        "\n",
        "if __name__ == \"__main__\" :\n",
        "\tprint(\"Now I am going to call main_report function. At present I am not imported inside any python script. \")\n",
        "\tprint(\"You are running the functions written below directly.\")\n",
        "\tmain_report()\n",
        "else:\n",
        "  print(\"I am used as a package.\")"
      ],
      "execution_count": 0,
      "outputs": []
    },
    {
      "cell_type": "code",
      "metadata": {
        "id": "Y2Oan1QhDHce",
        "colab_type": "code",
        "colab": {}
      },
      "source": [
        "cd .."
      ],
      "execution_count": 0,
      "outputs": []
    },
    {
      "cell_type": "code",
      "metadata": {
        "id": "GVLV9FbqDOLU",
        "colab_type": "code",
        "colab": {}
      },
      "source": [
        "! python myprogram1.py"
      ],
      "execution_count": 0,
      "outputs": []
    },
    {
      "cell_type": "code",
      "metadata": {
        "id": "YNQAzyPUDPB5",
        "colab_type": "code",
        "colab": {}
      },
      "source": [
        ""
      ],
      "execution_count": 0,
      "outputs": []
    },
    {
      "cell_type": "markdown",
      "metadata": {
        "id": "PpnTBX-3Dz8b",
        "colab_type": "text"
      },
      "source": [
        "# Concept of __name__ and __main__ \n",
        "\n",
        "Sometimes when you are importing from a module, you would like to know whether\n",
        "a modules function is being used as an import, or if you are using the original\n",
        ".py file of that module. In this case we can use the:\n",
        "\n",
        "      if __name__ == \"__main__\":\n",
        "\n",
        "line to determine this. For example:\n",
        "\n",
        "When your script is run by passing it as a command to the Python interpreter:\n",
        "\n",
        "    python myscript.py\n",
        "\n",
        "all of the code that is at indentation level 0 gets executed. Functions and\n",
        "classes that are defined are, well, defined, but none of their code gets ran.\n",
        "Unlike other languages, there's no main() function that gets run automatically\n",
        "- the main() function is implicitly all the code at the top level.\n",
        "\n",
        "In this case, the top-level code is an if block.  __name__ is a built-in variable\n",
        " which evaluate to the name of the current module. However, if a module is being\n",
        " run directly (as in myscript.py above), then __name__ instead is set to the\n",
        " string \"__main__\". Thus, you can test whether your script is being run directly\n",
        "  or being imported by something else by testing\n",
        "\n",
        "    if __name__ == \"__main__\":\n",
        "        ...\n",
        "\n",
        "If that code is being imported into another module, the various function and\n",
        "class definitions will be imported, but the main() code won't get run. As a\n",
        "basic example, consider the following two scripts:\n",
        "\n",
        "    # file one.py\n",
        "    def func():\n",
        "        print(\"func() in one.py\")\n",
        "\n",
        "    print(\"top-level in one.py\")\n",
        "\n",
        "    if __name__ == \"__main__\":\n",
        "        print(\"one.py is being run directly\")\n",
        "    else:\n",
        "        print(\"one.py is being imported into another module\")\n",
        "\n",
        "and then:\n",
        "\n",
        "    # file two.py\n",
        "    import one\n",
        "\n",
        "    print(\"top-level in two.py\")\n",
        "    one.func()\n",
        "\n",
        "    if __name__ == \"__main__\":\n",
        "        print(\"two.py is being run directly\")\n",
        "    else:\n",
        "        print(\"two.py is being imported into another module\")\n",
        "\n",
        "Now, if you invoke the interpreter as\n",
        "\n",
        "    python one.py\n",
        "\n",
        "The output will be\n",
        "\n",
        "    top-level in one.py\n",
        "\n",
        "one.py is being run directly\n",
        "If you run two.py instead:\n",
        "\n",
        "    python two.py\n",
        "\n",
        "You get\n",
        "\n",
        "  top-level in one.py\n",
        "  one.py is being imported into another module\n",
        "  top-level in two.py\n",
        "  func() in one.py\n",
        "  two.py is being run directly\n",
        "  \n",
        "Thus, when module one gets loaded, its __name__ equals \"one\" instead of __main__.\n",
        "\n"
      ]
    },
    {
      "cell_type": "code",
      "metadata": {
        "id": "WBIdUdi-EhW1",
        "colab_type": "code",
        "colab": {}
      },
      "source": [
        "%%writefile one.py\n",
        "\n",
        "def func():\n",
        "    print(\"func() ran in one.py\")\n",
        "\n",
        "print(\"top-level print inside of one.py\")\n",
        "\n",
        "if __name__ == \"__main__\":\n",
        "    print(\"one.py is being run directly\")\n",
        "else:\n",
        "    print(\"one.py is being imported into another module\")\n"
      ],
      "execution_count": 0,
      "outputs": []
    },
    {
      "cell_type": "code",
      "metadata": {
        "id": "yeM-aed1Ehli",
        "colab_type": "code",
        "colab": {}
      },
      "source": [
        "%%writefile two.py\n",
        "\n",
        "import one\n",
        "\n",
        "print(\"top-level in two.py\")\n",
        "\n",
        "one.func()\n",
        "\n",
        "if __name__ == \"__main__\":\n",
        "    print(\"two.py is being run directly\")\n",
        "else:\n",
        "    print(\"two.py is being imported into another module\")\n"
      ],
      "execution_count": 0,
      "outputs": []
    },
    {
      "cell_type": "code",
      "metadata": {
        "id": "fW0w9XcTE6sq",
        "colab_type": "code",
        "colab": {}
      },
      "source": [
        "! python one.py"
      ],
      "execution_count": 0,
      "outputs": []
    },
    {
      "cell_type": "code",
      "metadata": {
        "id": "CKDf1KpjE9MX",
        "colab_type": "code",
        "colab": {}
      },
      "source": [
        "! python two.py"
      ],
      "execution_count": 0,
      "outputs": []
    }
  ]
}