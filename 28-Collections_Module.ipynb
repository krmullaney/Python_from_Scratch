{
  "nbformat": 4,
  "nbformat_minor": 0,
  "metadata": {
    "kernelspec": {
      "display_name": "Python 3",
      "language": "python",
      "name": "python3"
    },
    "language_info": {
      "codemirror_mode": {
        "name": "ipython",
        "version": 3
      },
      "file_extension": ".py",
      "mimetype": "text/x-python",
      "name": "python",
      "nbconvert_exporter": "python",
      "pygments_lexer": "ipython3",
      "version": "3.6.2"
    },
    "colab": {
      "name": "Collections Module.ipynb",
      "provenance": [],
      "collapsed_sections": []
    }
  },
  "cells": [
    {
      "cell_type": "markdown",
      "metadata": {
        "id": "JRH8FikYKCIS",
        "colab_type": "text"
      },
      "source": [
        "# Collections Module\n",
        "\n",
        "The collections module is a built-in module that implements specialized container data types providing alternatives to Python’s general purpose built-in containers. We've already gone over the basics: dict, list, set, and tuple.\n",
        "\n",
        "Now we'll learn about the alternatives that the collections module provides.\n",
        "\n",
        "## Counter\n",
        "\n",
        "*Counter* is a *dict* subclass which helps count hashable objects. Inside of it elements are stored as dictionary keys and the counts of the objects are stored as the value.\n",
        "\n",
        "Let's see how it can be used:"
      ]
    },
    {
      "cell_type": "code",
      "metadata": {
        "id": "wRpKNo7qKCIV",
        "colab_type": "code",
        "colab": {}
      },
      "source": [
        "from collections import Counter"
      ],
      "execution_count": 0,
      "outputs": []
    },
    {
      "cell_type": "markdown",
      "metadata": {
        "id": "vvUd_y2ZKCIn",
        "colab_type": "text"
      },
      "source": [
        "**Counter() with lists**"
      ]
    },
    {
      "cell_type": "code",
      "metadata": {
        "id": "J3J72_3UKCIu",
        "colab_type": "code",
        "outputId": "48c6f9c6-9341-4e22-aecd-cca54fdd7108",
        "colab": {
          "base_uri": "https://localhost:8080/",
          "height": 34
        }
      },
      "source": [
        "lst = [1,2,2,2,2,3,3,3,1,2,1,12,3,2,32,1,21,1,223,1]\n",
        "\n",
        "Counter(lst)"
      ],
      "execution_count": 42,
      "outputs": [
        {
          "output_type": "execute_result",
          "data": {
            "text/plain": [
              "Counter({1: 6, 2: 6, 3: 4, 12: 1, 21: 1, 32: 1, 223: 1})"
            ]
          },
          "metadata": {
            "tags": []
          },
          "execution_count": 42
        }
      ]
    },
    {
      "cell_type": "markdown",
      "metadata": {
        "id": "WK777b1kKCI8",
        "colab_type": "text"
      },
      "source": [
        "**Counter with strings**"
      ]
    },
    {
      "cell_type": "code",
      "metadata": {
        "id": "qITCdCRJKCI_",
        "colab_type": "code",
        "outputId": "87007ef6-0022-4c93-dbff-ee6cce376a40",
        "colab": {
          "base_uri": "https://localhost:8080/",
          "height": 34
        }
      },
      "source": [
        "Counter('aabsbsbsbhshhbbsbs')"
      ],
      "execution_count": 43,
      "outputs": [
        {
          "output_type": "execute_result",
          "data": {
            "text/plain": [
              "Counter({'a': 2, 'b': 7, 'h': 3, 's': 6})"
            ]
          },
          "metadata": {
            "tags": []
          },
          "execution_count": 43
        }
      ]
    },
    {
      "cell_type": "markdown",
      "metadata": {
        "id": "2FngL29kKCJM",
        "colab_type": "text"
      },
      "source": [
        "**Counter with words in a sentence**"
      ]
    },
    {
      "cell_type": "code",
      "metadata": {
        "id": "_jzW_ZyvKCJO",
        "colab_type": "code",
        "outputId": "bb94c3b3-0b21-4f27-bb3c-e2309b97b6cb",
        "colab": {
          "base_uri": "https://localhost:8080/",
          "height": 208
        }
      },
      "source": [
        "s = 'How many times does each word show up in this sentence word times each each word'\n",
        "\n",
        "words = s.split()\n",
        "\n",
        "Counter(words)"
      ],
      "execution_count": 44,
      "outputs": [
        {
          "output_type": "execute_result",
          "data": {
            "text/plain": [
              "Counter({'How': 1,\n",
              "         'does': 1,\n",
              "         'each': 3,\n",
              "         'in': 1,\n",
              "         'many': 1,\n",
              "         'sentence': 1,\n",
              "         'show': 1,\n",
              "         'this': 1,\n",
              "         'times': 2,\n",
              "         'up': 1,\n",
              "         'word': 3})"
            ]
          },
          "metadata": {
            "tags": []
          },
          "execution_count": 44
        }
      ]
    },
    {
      "cell_type": "code",
      "metadata": {
        "id": "TsTTs6gqKCJa",
        "colab_type": "code",
        "outputId": "dd186795-f84d-4081-809a-e5145c11ca99",
        "colab": {
          "base_uri": "https://localhost:8080/",
          "height": 34
        }
      },
      "source": [
        "# Methods with Counter()\n",
        "c = Counter(words)\n",
        "\n",
        "c.most_common(3)\n"
      ],
      "execution_count": 47,
      "outputs": [
        {
          "output_type": "stream",
          "text": [
            "16\n"
          ],
          "name": "stdout"
        }
      ]
    },
    {
      "cell_type": "code",
      "metadata": {
        "id": "g9qWOSbUjxgK",
        "colab_type": "code",
        "colab": {
          "base_uri": "https://localhost:8080/",
          "height": 34
        },
        "outputId": "e46841e3-a35a-46fe-c4f3-d0555f4d5f12"
      },
      "source": [
        "print(sum(c.values()))"
      ],
      "execution_count": 48,
      "outputs": [
        {
          "output_type": "stream",
          "text": [
            "16\n"
          ],
          "name": "stdout"
        }
      ]
    },
    {
      "cell_type": "markdown",
      "metadata": {
        "id": "bepFIMX5KCJn",
        "colab_type": "text"
      },
      "source": [
        "## Common patterns when using the Counter() object\n",
        "\n",
        "    sum(c.values())                 # total of all counts\n",
        "    c.clear()                       # reset all counts\n",
        "    list(c)                         # list unique elements\n",
        "    set(c)                          # convert to a set\n",
        "    dict(c)                         # convert to a regular dictionary\n",
        "    c.items()                       # convert to a list of (elem, cnt) pairs\n",
        "    Counter(dict(list_of_pairs))    # convert from a list of (elem, cnt) pairs\n",
        "    c.most_common()[:-n-1:-1]       # n least common elements\n",
        "    c += Counter()                  # remove zero and negative counts"
      ]
    },
    {
      "cell_type": "code",
      "metadata": {
        "id": "TpoksOljUpl1",
        "colab_type": "code",
        "colab": {
          "base_uri": "https://localhost:8080/",
          "height": 34
        },
        "outputId": "7283dd77-52cf-40ea-c25b-00f8969999da"
      },
      "source": [
        "counterlist = list(c)\n",
        "print(counterlist)"
      ],
      "execution_count": 49,
      "outputs": [
        {
          "output_type": "stream",
          "text": [
            "['How', 'many', 'times', 'does', 'each', 'word', 'show', 'up', 'in', 'this', 'sentence']\n"
          ],
          "name": "stdout"
        }
      ]
    },
    {
      "cell_type": "code",
      "metadata": {
        "id": "NKBrwv98U2c4",
        "colab_type": "code",
        "colab": {
          "base_uri": "https://localhost:8080/",
          "height": 34
        },
        "outputId": "daec6913-e553-452f-ba6c-684b3d819b0d"
      },
      "source": [
        "counterset = set(c)\n",
        "print(counterset)"
      ],
      "execution_count": 50,
      "outputs": [
        {
          "output_type": "stream",
          "text": [
            "{'in', 'up', 'times', 'sentence', 'word', 'this', 'show', 'each', 'How', 'does', 'many'}\n"
          ],
          "name": "stdout"
        }
      ]
    },
    {
      "cell_type": "code",
      "metadata": {
        "id": "UsVhP0SlU_pb",
        "colab_type": "code",
        "colab": {
          "base_uri": "https://localhost:8080/",
          "height": 34
        },
        "outputId": "e2ace878-c0b2-4c67-aae3-18559c4d2fe5"
      },
      "source": [
        "counterdict = dict(c)\n",
        "print(counterdict)"
      ],
      "execution_count": 51,
      "outputs": [
        {
          "output_type": "stream",
          "text": [
            "{'How': 1, 'many': 1, 'times': 2, 'does': 1, 'each': 3, 'word': 3, 'show': 1, 'up': 1, 'in': 1, 'this': 1, 'sentence': 1}\n"
          ],
          "name": "stdout"
        }
      ]
    },
    {
      "cell_type": "code",
      "metadata": {
        "id": "VGFdjN9jVJ4o",
        "colab_type": "code",
        "colab": {
          "base_uri": "https://localhost:8080/",
          "height": 54
        },
        "outputId": "413cb69a-c7fe-45d7-97a1-a455bbabc3a8"
      },
      "source": [
        "counteritems = c.items()\n",
        "print(counteritems)\n"
      ],
      "execution_count": 52,
      "outputs": [
        {
          "output_type": "stream",
          "text": [
            "dict_items([('How', 1), ('many', 1), ('times', 2), ('does', 1), ('each', 3), ('word', 3), ('show', 1), ('up', 1), ('in', 1), ('this', 1), ('sentence', 1)])\n"
          ],
          "name": "stdout"
        }
      ]
    },
    {
      "cell_type": "markdown",
      "metadata": {
        "id": "baan6GeXKCJs",
        "colab_type": "text"
      },
      "source": [
        "## defaultdict\n",
        "\n",
        "defaultdict is a dictionary-like object which provides all methods provided by a dictionary but takes a first argument (default_factory) as a default data type for the dictionary. Using defaultdict is faster than doing the same using dict.set_default method.\n",
        "\n",
        "**A defaultdict will never raise a KeyError. Any key that does not exist gets the value returned by the default factory.**"
      ]
    },
    {
      "cell_type": "code",
      "metadata": {
        "id": "NZEBhsmzKCJ2",
        "colab_type": "code",
        "colab": {}
      },
      "source": [
        "d = {}"
      ],
      "execution_count": 0,
      "outputs": []
    },
    {
      "cell_type": "code",
      "metadata": {
        "id": "iVp_BbrUKCJ9",
        "colab_type": "code",
        "outputId": "d68bedbc-c1b8-4fd0-c594-099dc0736549",
        "colab": {
          "base_uri": "https://localhost:8080/",
          "height": 167
        }
      },
      "source": [
        "d['one'] "
      ],
      "execution_count": 54,
      "outputs": [
        {
          "output_type": "error",
          "ename": "KeyError",
          "evalue": "ignored",
          "traceback": [
            "\u001b[0;31m---------------------------------------------------------------------------\u001b[0m",
            "\u001b[0;31mKeyError\u001b[0m                                  Traceback (most recent call last)",
            "\u001b[0;32m<ipython-input-54-924453a5f45e>\u001b[0m in \u001b[0;36m<module>\u001b[0;34m()\u001b[0m\n\u001b[0;32m----> 1\u001b[0;31m \u001b[0md\u001b[0m\u001b[0;34m[\u001b[0m\u001b[0;34m'one'\u001b[0m\u001b[0;34m]\u001b[0m\u001b[0;34m\u001b[0m\u001b[0;34m\u001b[0m\u001b[0m\n\u001b[0m",
            "\u001b[0;31mKeyError\u001b[0m: 'one'"
          ]
        }
      ]
    },
    {
      "cell_type": "code",
      "metadata": {
        "id": "6J31rw1kKCJu",
        "colab_type": "code",
        "colab": {}
      },
      "source": [
        "from collections import defaultdict"
      ],
      "execution_count": 0,
      "outputs": []
    },
    {
      "cell_type": "code",
      "metadata": {
        "id": "TL7mKJ7SKCKI",
        "colab_type": "code",
        "colab": {}
      },
      "source": [
        "d  = defaultdict(object)"
      ],
      "execution_count": 0,
      "outputs": []
    },
    {
      "cell_type": "code",
      "metadata": {
        "id": "zF0A2geXKCKS",
        "colab_type": "code",
        "outputId": "9f17434f-531a-4e38-caf3-0c77957ac81a",
        "colab": {
          "base_uri": "https://localhost:8080/",
          "height": 34
        }
      },
      "source": [
        "d['one'] "
      ],
      "execution_count": 57,
      "outputs": [
        {
          "output_type": "execute_result",
          "data": {
            "text/plain": [
              "<object at 0x7fe5f430b4c0>"
            ]
          },
          "metadata": {
            "tags": []
          },
          "execution_count": 57
        }
      ]
    },
    {
      "cell_type": "code",
      "metadata": {
        "id": "BiIXO9PMKCKe",
        "colab_type": "code",
        "outputId": "65ad06ae-3cbd-4cb9-a376-7d3bab0f6cd6",
        "colab": {
          "base_uri": "https://localhost:8080/",
          "height": 34
        }
      },
      "source": [
        "for item in d:\n",
        "    print(item)"
      ],
      "execution_count": 58,
      "outputs": [
        {
          "output_type": "stream",
          "text": [
            "one\n"
          ],
          "name": "stdout"
        }
      ]
    },
    {
      "cell_type": "markdown",
      "metadata": {
        "id": "NKpTt4GtKCKr",
        "colab_type": "text"
      },
      "source": [
        "Can also initialize with default values:"
      ]
    },
    {
      "cell_type": "code",
      "metadata": {
        "id": "YsOa50fiKCKt",
        "colab_type": "code",
        "colab": {}
      },
      "source": [
        "d = defaultdict(lambda: 0)"
      ],
      "execution_count": 0,
      "outputs": []
    },
    {
      "cell_type": "code",
      "metadata": {
        "id": "ONoV-6ifKCK1",
        "colab_type": "code",
        "outputId": "1ff79060-a8a8-458c-d7d8-404302ad6d56",
        "colab": {
          "base_uri": "https://localhost:8080/",
          "height": 34
        }
      },
      "source": [
        "d['one']"
      ],
      "execution_count": 60,
      "outputs": [
        {
          "output_type": "execute_result",
          "data": {
            "text/plain": [
              "0"
            ]
          },
          "metadata": {
            "tags": []
          },
          "execution_count": 60
        }
      ]
    },
    {
      "cell_type": "code",
      "metadata": {
        "id": "DeL4a7G7kzMO",
        "colab_type": "code",
        "colab": {
          "base_uri": "https://localhost:8080/",
          "height": 52
        },
        "outputId": "9f619c6d-9437-4c21-ed9a-a12b065339bc"
      },
      "source": [
        "for k,v in d.items():\n",
        "    print(k)\n",
        "    print(v)"
      ],
      "execution_count": 62,
      "outputs": [
        {
          "output_type": "stream",
          "text": [
            "one\n",
            "0\n"
          ],
          "name": "stdout"
        }
      ]
    },
    {
      "cell_type": "markdown",
      "metadata": {
        "id": "1-IJvSoGKCK-",
        "colab_type": "text"
      },
      "source": [
        "## OrderedDict\n",
        "An OrderedDict is a dictionary subclass that remembers the order in which its contents are added.\n",
        "\n",
        "For example a normal dictionary:"
      ]
    },
    {
      "cell_type": "code",
      "metadata": {
        "id": "I41Hz-ikKCLB",
        "colab_type": "code",
        "outputId": "c94a16c5-bc2f-40ef-9a9e-cd021eda56c2",
        "colab": {
          "base_uri": "https://localhost:8080/",
          "height": 121
        }
      },
      "source": [
        "print('Normal dictionary:')\n",
        "\n",
        "d = {}\n",
        "\n",
        "d['a'] = 'A'\n",
        "d['b'] = 'B'\n",
        "d['c'] = 'C'\n",
        "d['d'] = 'D'\n",
        "d['e'] = 'E'\n",
        "object\n",
        "for k, v in d.items():\n",
        "    print(k, v)"
      ],
      "execution_count": 63,
      "outputs": [
        {
          "output_type": "stream",
          "text": [
            "Normal dictionary:\n",
            "a A\n",
            "b B\n",
            "c C\n",
            "d D\n",
            "e E\n"
          ],
          "name": "stdout"
        }
      ]
    },
    {
      "cell_type": "markdown",
      "metadata": {
        "id": "Ud7xbgA3KCLL",
        "colab_type": "text"
      },
      "source": [
        "An Ordered Dictionary:"
      ]
    },
    {
      "cell_type": "code",
      "metadata": {
        "id": "H1wgZJHiKCLN",
        "colab_type": "code",
        "outputId": "77c17db3-77bd-4f98-9178-2f86eff50e65",
        "colab": {
          "base_uri": "https://localhost:8080/",
          "height": 121
        }
      },
      "source": [
        "from collections import OrderedDict\n",
        "\n",
        "print('OrderedDict:')\n",
        "\n",
        "d = OrderedDict()\n",
        "\n",
        "d['a'] = 'A'\n",
        "d['b'] = 'B'\n",
        "d['c'] = 'C'\n",
        "d['d'] = 'D'\n",
        "d['e'] = 'E'\n",
        "\n",
        "for k, v in d.items():\n",
        "    print(k, v)"
      ],
      "execution_count": 64,
      "outputs": [
        {
          "output_type": "stream",
          "text": [
            "OrderedDict:\n",
            "a A\n",
            "b B\n",
            "c C\n",
            "d D\n",
            "e E\n"
          ],
          "name": "stdout"
        }
      ]
    },
    {
      "cell_type": "markdown",
      "metadata": {
        "id": "YfPCTXtDKCLV",
        "colab_type": "text"
      },
      "source": [
        "## Equality with an Ordered Dictionary\n",
        "A regular dict looks at its contents when testing for equality. An OrderedDict also considers the order the items were added.\n",
        "\n",
        "A normal Dictionary:"
      ]
    },
    {
      "cell_type": "code",
      "metadata": {
        "id": "E8kI_hKqKCLW",
        "colab_type": "code",
        "outputId": "606fffe8-07b8-4972-9006-bf372a67b0dc",
        "colab": {
          "base_uri": "https://localhost:8080/",
          "height": 52
        }
      },
      "source": [
        "print('Dictionaries are equal?')\n",
        "\n",
        "d1 = {}\n",
        "d1['a'] = 'A'\n",
        "d1['b'] = 'B'\n",
        "\n",
        "d2 = {}\n",
        "d2['b'] = 'B'\n",
        "d2['a'] = 'A'\n",
        "\n",
        "print(d1==d2)"
      ],
      "execution_count": 65,
      "outputs": [
        {
          "output_type": "stream",
          "text": [
            "Dictionaries are equal?\n",
            "True\n"
          ],
          "name": "stdout"
        }
      ]
    },
    {
      "cell_type": "markdown",
      "metadata": {
        "id": "D60MgM4PKCLe",
        "colab_type": "text"
      },
      "source": [
        "An Ordered Dictionary:"
      ]
    },
    {
      "cell_type": "code",
      "metadata": {
        "id": "-g-88nSjKCLg",
        "colab_type": "code",
        "outputId": "9ec68685-7450-496c-b779-ec43c146249d",
        "colab": {
          "base_uri": "https://localhost:8080/",
          "height": 52
        }
      },
      "source": [
        "print('Dictionaries are equal?')\n",
        "\n",
        "d1 = OrderedDict()\n",
        "d1['a'] = 'A'\n",
        "d1['b'] = 'B'\n",
        "\n",
        "\n",
        "d2 = OrderedDict()\n",
        "\n",
        "d2['b'] = 'B'\n",
        "d2['a'] = 'A'\n",
        "\n",
        "print(d1==d2)"
      ],
      "execution_count": 66,
      "outputs": [
        {
          "output_type": "stream",
          "text": [
            "Dictionaries are equal?\n",
            "False\n"
          ],
          "name": "stdout"
        }
      ]
    },
    {
      "cell_type": "markdown",
      "metadata": {
        "id": "XSTeTzjEKCLp",
        "colab_type": "text"
      },
      "source": [
        "# namedtuple\n",
        "The standard tuple uses numerical indexes to access its members, for example:"
      ]
    },
    {
      "cell_type": "code",
      "metadata": {
        "id": "zeVH57aVKCLq",
        "colab_type": "code",
        "colab": {}
      },
      "source": [
        "t = (12,13,14)"
      ],
      "execution_count": 0,
      "outputs": []
    },
    {
      "cell_type": "code",
      "metadata": {
        "id": "OA7BYV_SKCLy",
        "colab_type": "code",
        "outputId": "8b9f1bb4-9f3a-4bd3-be77-00d2cfc20af0",
        "colab": {
          "base_uri": "https://localhost:8080/",
          "height": 34
        }
      },
      "source": [
        "t[0]"
      ],
      "execution_count": 68,
      "outputs": [
        {
          "output_type": "execute_result",
          "data": {
            "text/plain": [
              "12"
            ]
          },
          "metadata": {
            "tags": []
          },
          "execution_count": 68
        }
      ]
    },
    {
      "cell_type": "markdown",
      "metadata": {
        "id": "fH22GK9yKCL8",
        "colab_type": "text"
      },
      "source": [
        "For simple use cases, this is usually enough. On the other hand, remembering which index should be used for each value can lead to errors, especially if the tuple has a lot of fields and is constructed far from where it is used. A namedtuple assigns names, as well as the numerical index, to each member. \n",
        "\n",
        "Each kind of namedtuple is represented by its own class, created by using the namedtuple() factory function. The arguments are the name of the new class and a string containing the names of the elements.\n",
        "\n",
        "You can basically think of namedtuples as a very quick way of creating a new object/class type with some attribute fields.\n",
        "For example:"
      ]
    },
    {
      "cell_type": "code",
      "metadata": {
        "id": "6Iqox3H4KCL-",
        "colab_type": "code",
        "colab": {}
      },
      "source": [
        "from collections import namedtuple"
      ],
      "execution_count": 0,
      "outputs": []
    },
    {
      "cell_type": "code",
      "metadata": {
        "id": "5d5k2kTYKCMF",
        "colab_type": "code",
        "colab": {}
      },
      "source": [
        "Dog = namedtuple('Dog','age breed name')\n",
        "\n",
        "sam = Dog(age=2,breed='Lab',name='Sammy')\n",
        "\n",
        "frank = Dog(age=2,breed='Shepard',name=\"Frankie\")"
      ],
      "execution_count": 0,
      "outputs": []
    },
    {
      "cell_type": "markdown",
      "metadata": {
        "id": "qANkCf9LKCMN",
        "colab_type": "text"
      },
      "source": [
        "We construct the namedtuple by first passing the object type name (Dog) and then passing a string with the variety of fields as a string with spaces between the field names. We can then call on the various attributes:"
      ]
    },
    {
      "cell_type": "code",
      "metadata": {
        "id": "3lxK9itvKCMQ",
        "colab_type": "code",
        "outputId": "c6083924-febe-42c9-c935-20ffd4717cd9",
        "colab": {
          "base_uri": "https://localhost:8080/",
          "height": 34
        }
      },
      "source": [
        "sam"
      ],
      "execution_count": 70,
      "outputs": [
        {
          "output_type": "execute_result",
          "data": {
            "text/plain": [
              "Dog(age=2, breed='Lab', name='Sammy')"
            ]
          },
          "metadata": {
            "tags": []
          },
          "execution_count": 70
        }
      ]
    },
    {
      "cell_type": "code",
      "metadata": {
        "id": "54KEl8wWKCMX",
        "colab_type": "code",
        "outputId": "a6872659-741b-462b-c8b8-c2aaec6f0510",
        "colab": {
          "base_uri": "https://localhost:8080/",
          "height": 34
        }
      },
      "source": [
        "sam.age"
      ],
      "execution_count": 71,
      "outputs": [
        {
          "output_type": "execute_result",
          "data": {
            "text/plain": [
              "2"
            ]
          },
          "metadata": {
            "tags": []
          },
          "execution_count": 71
        }
      ]
    },
    {
      "cell_type": "code",
      "metadata": {
        "id": "DfCjWiStKCMl",
        "colab_type": "code",
        "outputId": "5d49dfe6-d019-4b10-cb45-134aee61148e",
        "colab": {
          "base_uri": "https://localhost:8080/",
          "height": 34
        }
      },
      "source": [
        "sam[0]"
      ],
      "execution_count": 72,
      "outputs": [
        {
          "output_type": "execute_result",
          "data": {
            "text/plain": [
              "2"
            ]
          },
          "metadata": {
            "tags": []
          },
          "execution_count": 72
        }
      ]
    },
    {
      "cell_type": "code",
      "metadata": {
        "id": "MnsMyxW9KCMf",
        "colab_type": "code",
        "outputId": "2b8aa0fd-4c5f-45a1-f52b-cec325ab2bae",
        "colab": {
          "base_uri": "https://localhost:8080/",
          "height": 34
        }
      },
      "source": [
        "sam.breed"
      ],
      "execution_count": 73,
      "outputs": [
        {
          "output_type": "execute_result",
          "data": {
            "text/plain": [
              "'Lab'"
            ]
          },
          "metadata": {
            "tags": []
          },
          "execution_count": 73
        }
      ]
    },
    {
      "cell_type": "markdown",
      "metadata": {
        "id": "tmrBtZkCKCMs",
        "colab_type": "text"
      },
      "source": [
        "## Conclusion\n",
        "\n",
        "Hopefully you now see how incredibly useful the collections module is in Python and it should be your go-to module for a variety of common tasks!"
      ]
    },
    {
      "cell_type": "code",
      "metadata": {
        "id": "gDU_ypjERFfJ",
        "colab_type": "code",
        "colab": {}
      },
      "source": [
        ""
      ],
      "execution_count": 0,
      "outputs": []
    }
  ]
}