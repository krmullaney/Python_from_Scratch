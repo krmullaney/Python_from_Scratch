{
  "nbformat": 4,
  "nbformat_minor": 0,
  "metadata": {
    "colab": {
      "name": "if-elif-else.ipynb",
      "provenance": [],
      "collapsed_sections": []
    },
    "kernelspec": {
      "name": "python3",
      "display_name": "Python 3"
    }
  },
  "cells": [
    {
      "cell_type": "markdown",
      "metadata": {
        "id": "ErZi7oHvRBv6",
        "colab_type": "text"
      },
      "source": [
        "\n",
        "# Python Statements\n",
        "\n",
        "Execute certain code when a particular condition has been met\n",
        "\n",
        "    Other Languages\n",
        "\n",
        "    if (x){\n",
        "        if(y){\n",
        "            code-statement;\n",
        "        }\n",
        "        }\n",
        "    else\n",
        "        {another-code-statement;}\n",
        "\n",
        "    Python\n",
        "\n",
        "    if x:\n",
        "        if y:\n",
        "            code-statement\n",
        "    else:\n",
        "        another-code-statement\n",
        "\n",
        "\n",
        "1. Use colon and whitespaces to get rid of the () and {}.\n",
        "2. No semi-colons are used to denote the statement ending. The end of a line is the same as the end of a statement."
      ]
    },
    {
      "cell_type": "markdown",
      "metadata": {
        "id": "ztXckKVhkJgs",
        "colab_type": "text"
      },
      "source": [
        "# if, elif, else Statements\n",
        "\n",
        "**if** : Instructing the computer:\n",
        "\n",
        "    \"if this case happens, perform some action\"\n",
        "\n",
        "**elif and else** : Further instructing the computer:\n",
        "\n",
        "    \"Hey if this case happens, perform some action. \n",
        "    Else, if another case happens, perform some other action.\n",
        "    Else, if none of the above cases happened, perform this action.\"\n",
        "\n",
        "\n",
        "# BASIC SYNTAX\n",
        "\n",
        "    if case1:\n",
        "        perform action1\n",
        "    elif case2:\n",
        "        perform action2\n",
        "    else: \n",
        "        perform action3"
      ]
    },
    {
      "cell_type": "markdown",
      "metadata": {
        "id": "UO9NCbtmlHvp",
        "colab_type": "text"
      },
      "source": [
        "# IF"
      ]
    },
    {
      "cell_type": "code",
      "metadata": {
        "id": "n8O2g5YejkBB",
        "colab_type": "code",
        "outputId": "70cce8b0-d96a-4dd7-ae9b-057d313a71db",
        "colab": {
          "base_uri": "https://localhost:8080/",
          "height": 34
        }
      },
      "source": [
        "if True:\n",
        "    print(' The condition is True')"
      ],
      "execution_count": 8,
      "outputs": [
        {
          "output_type": "stream",
          "text": [
            " The condition is True\n"
          ],
          "name": "stdout"
        }
      ]
    },
    {
      "cell_type": "code",
      "metadata": {
        "id": "4L-Cbq4slbYA",
        "colab_type": "code",
        "outputId": "36e553fc-6d25-44dc-ad43-e8b32a8b4a5f",
        "colab": {
          "base_uri": "https://localhost:8080/",
          "height": 34
        }
      },
      "source": [
        "x = True\n",
        "\n",
        "if x:\n",
        "    print(' The condition is True')"
      ],
      "execution_count": 9,
      "outputs": [
        {
          "output_type": "stream",
          "text": [
            " The condition is True\n"
          ],
          "name": "stdout"
        }
      ]
    },
    {
      "cell_type": "code",
      "metadata": {
        "id": "4DfGMH76mvs9",
        "colab_type": "code",
        "colab": {}
      },
      "source": [
        "if False:\n",
        "    print(\"There is not any True Value. Means there must be Falsy value\")"
      ],
      "execution_count": 0,
      "outputs": []
    },
    {
      "cell_type": "code",
      "metadata": {
        "id": "LdfTov1zl66t",
        "colab_type": "code",
        "colab": {}
      },
      "source": [
        "if not x:\n",
        "  print(\"There is not any True Value. Means there must be Falsy value\")"
      ],
      "execution_count": 0,
      "outputs": []
    },
    {
      "cell_type": "code",
      "metadata": {
        "id": "IhpBmg9Ilj9X",
        "colab_type": "code",
        "outputId": "0b5581eb-8cd9-43e6-81a2-21347ce8bc12",
        "colab": {
          "base_uri": "https://localhost:8080/",
          "height": 34
        }
      },
      "source": [
        "x = 2\n",
        "\n",
        "if x:\n",
        "  print(\"There is some True value exist in the variable x. It can be either a string, number, list or any True value\")"
      ],
      "execution_count": 13,
      "outputs": [
        {
          "output_type": "stream",
          "text": [
            "There is some True value exist in the variable x. It can be either a string, number, list or any True value\n"
          ],
          "name": "stdout"
        }
      ]
    },
    {
      "cell_type": "markdown",
      "metadata": {
        "id": "8u1oAZ5BmMli",
        "colab_type": "text"
      },
      "source": [
        "# If else"
      ]
    },
    {
      "cell_type": "code",
      "metadata": {
        "id": "uYRRUEeXlRKO",
        "colab_type": "code",
        "outputId": "3ac0b92a-2f5d-463d-dc0f-722f2ee3c1ac",
        "colab": {
          "base_uri": "https://localhost:8080/",
          "height": 34
        }
      },
      "source": [
        "x = False\n",
        "\n",
        "if x:\n",
        "    print('x is True!')\n",
        "else:\n",
        "    print('I will be printed in any case where x is not true')"
      ],
      "execution_count": 14,
      "outputs": [
        {
          "output_type": "stream",
          "text": [
            "I will be printed in any case where x is not true\n"
          ],
          "name": "stdout"
        }
      ]
    },
    {
      "cell_type": "markdown",
      "metadata": {
        "id": "Jt16vK9BnMRF",
        "colab_type": "text"
      },
      "source": [
        "# If elif else "
      ]
    },
    {
      "cell_type": "code",
      "metadata": {
        "id": "7GE8I0d0EcEL",
        "colab_type": "code",
        "colab": {
          "base_uri": "https://localhost:8080/",
          "height": 34
        },
        "outputId": "cec41d16-5525-467b-a943-70635607f7dc"
      },
      "source": [
        "person = 'Sammy'\n",
        "#person = 'George'\n",
        "#person = 'Kristin'\n",
        "\n",
        "if person == 'Sammy':\n",
        "    print('Sammy likes Pizza. I will go to Dominos with Sammy.')\n",
        "elif person =='George':\n",
        "    print(\"George likes Burgers. I will go to the Mc'D with George\")\n",
        "else:\n",
        "    print(\"I will enjoy my dinner at home.\")"
      ],
      "execution_count": 18,
      "outputs": [
        {
          "output_type": "stream",
          "text": [
            "Sammy likes Pizza. I will go to Dominos with Sammy.\n"
          ],
          "name": "stdout"
        }
      ]
    },
    {
      "cell_type": "code",
      "metadata": {
        "id": "HAFSwj_pFQ3s",
        "colab_type": "code",
        "colab": {
          "base_uri": "https://localhost:8080/",
          "height": 34
        },
        "outputId": "3e88918f-aafe-49f5-c9dc-0df6935eaf2b"
      },
      "source": [
        "person = 'Sammy'\n",
        "#person = 'George'\n",
        "#person = 'Kristin'\n",
        "\n",
        "if person == 'Sammy':\n",
        "    print(person + ' likes Pizza. I will go to Dominos with ' + person)\n",
        "elif person =='George':\n",
        "    print( person + \" likes Burgers. I will go to the Mc'D with \" + person)\n",
        "else:\n",
        "    print(\"I will enjoy my dinner at home, with \" + person )\n"
      ],
      "execution_count": 25,
      "outputs": [
        {
          "output_type": "stream",
          "text": [
            "Sammy likes Pizza. I will go to Dominos with Sammy\n"
          ],
          "name": "stdout"
        }
      ]
    },
    {
      "cell_type": "code",
      "metadata": {
        "id": "YRrBLOaFTLiH",
        "colab_type": "code",
        "colab": {}
      },
      "source": [
        ""
      ],
      "execution_count": 0,
      "outputs": []
    }
  ]
}