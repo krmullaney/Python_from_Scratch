{
  "nbformat": 4,
  "nbformat_minor": 0,
  "metadata": {
    "kernelspec": {
      "display_name": "Python 3",
      "language": "python",
      "name": "python3"
    },
    "language_info": {
      "codemirror_mode": {
        "name": "ipython",
        "version": 3
      },
      "file_extension": ".py",
      "mimetype": "text/x-python",
      "name": "python",
      "nbconvert_exporter": "python",
      "pygments_lexer": "ipython3",
      "version": "3.6.2"
    },
    "colab": {
      "name": "Different programming paradigms of Python .ipynb",
      "provenance": [],
      "collapsed_sections": []
    }
  },
  "cells": [
    {
      "cell_type": "markdown",
      "metadata": {
        "id": "pnqtCriXEbTb",
        "colab_type": "text"
      },
      "source": [
        "\n",
        "# Perceiving Python programming paradigms\n",
        "\n",
        "Python is a multi-paradigm programming language. Meaning, it supports different programming approach.\n",
        "\n",
        "Python supports imperative, functional, procedural, and object-oriented programming; here are tips on choosing the right one for a specific use case.\n"
      ]
    },
    {
      "cell_type": "markdown",
      "metadata": {
        "id": "vI2OobUqGZeO",
        "colab_type": "text"
      },
      "source": [
        "# Imperative programming paradigm\n",
        "\n",
        "* It executes commands in a step-by-step manner, just like a series of verbal commands.\n",
        "\n",
        "* It uses the imperative mood of natural language to express directions\n",
        "\n",
        "* It follows the \"how-to-solve\" approach\n",
        "\n",
        "* It makes direct changes to the state of the program; hence it is also called the stateful programming model.\n",
        "\n",
        "### Advantages\n",
        "\n",
        "    Quickly write; very simple yet elegant code\n",
        "    Super-handy for tasks that involve data manipulation.\n",
        "\n",
        "### Disadvantages\n",
        "\n",
        "    Comparatively slower and sequential execution strategy, \n",
        "    Cannot be used for complex or parallel computations.\n",
        "\n",
        "Consider this example task, where the goal is to take a list of characters and concatenate it to form a string. A way to do it in an imperative programming style would be something like:\n"
      ]
    },
    {
      "cell_type": "code",
      "metadata": {
        "id": "_oGO19rUqc9Y",
        "colab_type": "code",
        "outputId": "1c6fafef-a3b8-4a62-d4fb-5b791664099f",
        "colab": {
          "base_uri": "https://localhost:8080/",
          "height": 34
        }
      },
      "source": [
        "# Example 1\n",
        "\n",
        "sample_characters = ['p','y','t','h','o','n']\n",
        "result = ''\n",
        "\n",
        "result = result + sample_characters[0]\n",
        "result = result + sample_characters[1]\n",
        "result = result + sample_characters[2]\n",
        "result = result + sample_characters[3]\n",
        "result = result + sample_characters[4]\n",
        "result = result + sample_characters[5]\n",
        "\n",
        "print(\"Imperitive method: Hard Code :\" + result)\n"
      ],
      "execution_count": 1,
      "outputs": [
        {
          "output_type": "stream",
          "text": [
            "Imperitive method: Hard Code :python\n"
          ],
          "name": "stdout"
        }
      ]
    },
    {
      "cell_type": "code",
      "metadata": {
        "id": "V_cMes55Ge-m",
        "colab_type": "code",
        "outputId": "628a8977-c1e3-4d9b-e418-5edf4f3e44e9",
        "colab": {
          "base_uri": "https://localhost:8080/",
          "height": 34
        }
      },
      "source": [
        "# Example 2\n",
        "\n",
        "sample_characters = ['p','y','t','h','o','n']\n",
        "result = ''\n",
        "\n",
        "for c in sample_characters:\n",
        "    result = result + c\n",
        "\n",
        "print(\"Imperitive method: Dynamic Code :\" + result)\n"
      ],
      "execution_count": 2,
      "outputs": [
        {
          "output_type": "stream",
          "text": [
            "Imperitive method: Dynamic Code :python\n"
          ],
          "name": "stdout"
        }
      ]
    },
    {
      "cell_type": "markdown",
      "metadata": {
        "id": "gRRT8ynnBSzK",
        "colab_type": "text"
      },
      "source": [
        "\n",
        "# Procedural programming paradigms\n",
        "\n",
        "\n",
        "* It is a subtype of imperative programming in which statements are structured into procedures (also known as subroutines or functions).\n",
        "\n",
        "* It helps in the modularity of code and modularization is usually done by implementing the functions. \n",
        "\n",
        "*  The program composition is more of a procedure call where the programs might reside somewhere in the universe and the execution is sequential\n",
        "\n",
        "* Like the imperative programming paradigm, procedural programming follows the stateful model.\n",
        "\n",
        "* It helps in an easy organization related items without difficulty and so each file acts as a container. However, The different modules in a program can have no relationship with each other and can be located in different locations, but having a multitude of modules creates hardships for many developers, as it not only leads to duplication of logic but also a lot of overhead in terms of finding and making the right calls.\n",
        "\n",
        "### Advantages\n",
        "\n",
        "    General-purpose programming\n",
        "    Practice of good programming design pattern\n",
        "    Code reusability\n",
        "    Portable source code\n",
        "\n",
        "### Disadvantages\n",
        "\n",
        "    Data protection\n",
        "    Not suitable for real-world objects\n",
        "    Harder to write \n",
        "\n",
        "\n",
        "Note that in the following implementation, the method stringify could be defined anywhere in the universe and, to do its trick, only require the proper call with the desired arguments.\n",
        "\n",
        " "
      ]
    },
    {
      "cell_type": "code",
      "metadata": {
        "id": "nnDEx3Y_HBjQ",
        "colab_type": "code",
        "outputId": "894e98b0-5569-4051-999b-fe3abfc575cd",
        "colab": {
          "base_uri": "https://localhost:8080/",
          "height": 34
        }
      },
      "source": [
        "#EXAMPLE 1\n",
        "\n",
        "def stringify(characters):\n",
        "  result = ''\n",
        "  for c in characters:\n",
        "     result = result + c\n",
        "  return result\n",
        "\n",
        "sample_characters = ['p','y','t','h','o','n']\n",
        "\n",
        "result = stringify(sample_characters)\n",
        "print(\"Procedural method:\" + result)"
      ],
      "execution_count": 0,
      "outputs": [
        {
          "output_type": "stream",
          "text": [
            "Procedural method:python\n"
          ],
          "name": "stdout"
        }
      ]
    },
    {
      "cell_type": "code",
      "metadata": {
        "id": "ulR0EiovCfya",
        "colab_type": "code",
        "outputId": "7327dd38-5353-4b1f-c6c2-ae493b8ab672",
        "colab": {
          "base_uri": "https://localhost:8080/",
          "height": 34
        }
      },
      "source": [
        "#EXAMPLE 2\n",
        "\n",
        "# Procedural way of finding sum of a list  \n",
        "  \n",
        "mylist = [10, 20, 30, 40] \n",
        "  \n",
        "# modularization is done by  functional approach\n",
        "\n",
        "def sum_the_list(mylist): \n",
        "    res = 0\n",
        "    for val in mylist: \n",
        "        res += val \n",
        "    return res \n",
        "\n",
        "result = sum_the_list(mylist)\n",
        "print(\"Procedural method:\" + str(result))"
      ],
      "execution_count": 0,
      "outputs": [
        {
          "output_type": "stream",
          "text": [
            "Procedural method:100\n"
          ],
          "name": "stdout"
        }
      ]
    },
    {
      "cell_type": "markdown",
      "metadata": {
        "id": "kP3uvhvhCqWs",
        "colab_type": "text"
      },
      "source": [
        "# Functional programming paradigms\n",
        "\n",
        "* It treats program computation as the evaluation of mathematical functions based on lambda calculus. Lambda calculus is a formal system in mathematical logic for expressing computation based on function abstraction and application using variable binding and substitution. \n",
        "\n",
        "* It follows the \"what-to-solve\" approach—that is, it expresses logic without describing its control flow—hence it is also classified as the declarative programming model.\n",
        "\n",
        "* The ability to treat functions as values and pass them as an argument make the code more readable and understandable.\n",
        "\n",
        "* The functional programming paradigm promotes stateless functions, but it's important to note that Python's implementation of functional programming deviates from standard implementation.\n",
        "\n",
        "* Python is said to be an impure functional language because it is possible to maintain state and create side effects if you are not careful. That said, functional programming is handy for parallel processing and is super-efficient for tasks requiring recursion and concurrent execution.\n",
        "\n",
        "\n",
        "\n",
        "### Advantages\n",
        "\n",
        "    Simple to understand\n",
        "    Making debugging and testing easier\n",
        "    reduces the lines of code\n",
        "\n",
        "    Enhances the comprehension and readability of the code \n",
        "\n",
        "### Disadvantages\n",
        "\n",
        "    Low performance\n",
        "    Writing programs is a daunting task\n",
        "    Low readability of the code \n",
        "\n",
        "\n",
        "Using the same example, the functional way of concatenating a list of characters to form a string would be the same as above. Since the computation happens in a single line, there is no explicit way to obtain the state of the program with sample_string and track the progress. \n",
        "\n",
        "The functional programming implementation of this example is fascinating, as it reduces the lines of code and simply does its job in a single line, with the exception of using the functools module and the reduce method.\n",
        "\n",
        "### The three keywords—functools, reduce, and lambda—are defined as follows:\n",
        "\n",
        "\n",
        "#### functools\n",
        "\n",
        "functools is a module for higher-order functions and provides for functions that act on or return other functions. It encourages writing reusable code, as it is easier to replicate existing functions with some arguments already passed and create a new version of a function in a well-documented manner.\n",
        "\n",
        "#### reduce \n",
        "\n",
        "reduce is a method that applies a function of two arguments cumulatively to the items in sequence, from left to right, to reduce the sequence to a single value.\n",
        "\n",
        "#### lambda\n",
        "\n",
        "lambda functions are small, anonymized (i.e., nameless) functions that can take any number of arguments but spit out only one value. They are useful when they are used as an argument for another function or reside inside another function; hence they are meant to be used only for one instance at a time.\n",
        "\n",
        "\n"
      ]
    },
    {
      "cell_type": "code",
      "metadata": {
        "id": "l1b1t8zuuNer",
        "colab_type": "code",
        "colab": {}
      },
      "source": [
        "import functools"
      ],
      "execution_count": 0,
      "outputs": []
    },
    {
      "cell_type": "code",
      "metadata": {
        "id": "8GhzqOsVI0Jc",
        "colab_type": "code",
        "outputId": "61986940-7085-4b84-c47f-fcac77a7d057",
        "colab": {
          "base_uri": "https://localhost:8080/",
          "height": 34
        }
      },
      "source": [
        "# EXAMPLE 1\n",
        "sample_characters = ['p','y','t','h','o','n']\n",
        "result = functools.reduce(lambda s,c: s + c, sample_characters)\n",
        "print(\"Functional method: \" + result)"
      ],
      "execution_count": 5,
      "outputs": [
        {
          "output_type": "stream",
          "text": [
            "Functional method: python\n"
          ],
          "name": "stdout"
        }
      ]
    },
    {
      "cell_type": "code",
      "metadata": {
        "id": "18NGNnuAH_WG",
        "colab_type": "code",
        "outputId": "6f81a886-9d89-45b1-f148-4140ddd6486e",
        "colab": {
          "base_uri": "https://localhost:8080/",
          "height": 34
        }
      },
      "source": [
        "sample_list = [1,2,3,4,5]\n",
        "import functools\n",
        "result = functools.reduce(lambda x,y: x + y, sample_list)\n",
        "print(\"Functional method: \" + str(result))"
      ],
      "execution_count": 7,
      "outputs": [
        {
          "output_type": "stream",
          "text": [
            "Functional method: 15\n"
          ],
          "name": "stdout"
        }
      ]
    },
    {
      "cell_type": "code",
      "metadata": {
        "id": "OuGinnxzCzkg",
        "colab_type": "code",
        "outputId": "a11084db-fa16-4302-fe69-919c2682d49b",
        "colab": {
          "base_uri": "https://localhost:8080/",
          "height": 52
        }
      },
      "source": [
        "# EXAMPLE 2\n",
        "# Functional way of finding sum of a list  \n",
        "import functools \n",
        "  \n",
        "mylist = [10, 20, 30, 40] \n",
        "\n",
        "\n",
        "# lambda function is used \n",
        "result = functools.reduce(lambda x, y: x + y, mylist)\n",
        "print(\"Functional method: \" + str(result))\n",
        "\n",
        "\n",
        "# Recursive Functional approach \n",
        "def sum_the_list(mylist): \n",
        "    if len(mylist) == 1: \n",
        "        return mylist[0] \n",
        "    else: \n",
        "        return mylist[0] + sum_the_list(mylist[1:]) \n",
        "  \n",
        "\n",
        "print(f'Recursive Functional approach {sum_the_list(mylist) } ')"
      ],
      "execution_count": 11,
      "outputs": [
        {
          "output_type": "stream",
          "text": [
            "Functional method: 100\n",
            "Recursive Functional approach 100 \n"
          ],
          "name": "stdout"
        }
      ]
    },
    {
      "cell_type": "markdown",
      "metadata": {
        "id": "PhpsFP68CvYK",
        "colab_type": "text"
      },
      "source": [
        "# Object Oriented programming paradigms\n",
        "\n",
        "* In the object-oriented programming paradigm, objects are the key element of paradigms. \n",
        "\n",
        "Objects can simply be defined as the instance of a class that contains both data members and the method functions. \n",
        "\n",
        "\n",
        "* This style relates data members and methods functions that support encapsulation and with the help of the concept of an inheritance\n",
        "\n",
        "### Advantages\n",
        "\n",
        "    Relation with Real world entities\n",
        "    Code reusability\n",
        "    Abstraction or data hiding \n",
        "\n",
        "### Disadvantages\n",
        "\n",
        "    Data protection\n",
        "    Not suitable for all types of problems\n",
        "    Slow Speed \n",
        "\n"
      ]
    },
    {
      "cell_type": "code",
      "metadata": {
        "id": "BYb4lnYMqOHo",
        "colab_type": "code",
        "outputId": "a737bdf8-c088-4ae3-d84e-eb8baeffe4ab",
        "colab": {
          "base_uri": "https://localhost:8080/",
          "height": 34
        }
      },
      "source": [
        "class StringOps:\n",
        "\n",
        " def __init__(self, characters):\n",
        "     self.characters = characters\n",
        "\n",
        " def stringify(self):\n",
        "     self.string = ''.join(self.characters)\n",
        "\n",
        "sample_characters = ['p','y','t','h','o','n']\n",
        "\n",
        "result = StringOps(sample_characters) #creating instance of class / Creating object of the class\n",
        "\n",
        "result.stringify()\n",
        "print(result.string)\n",
        "#print(\"OOP method: \" + result.string)\n",
        "\n"
      ],
      "execution_count": 13,
      "outputs": [
        {
          "output_type": "stream",
          "text": [
            "python\n"
          ],
          "name": "stdout"
        }
      ]
    },
    {
      "cell_type": "code",
      "metadata": {
        "id": "UUrOnWilDeij",
        "colab_type": "code",
        "outputId": "5360262e-784e-477c-f1a3-c20701c97a23",
        "colab": {
          "base_uri": "https://localhost:8080/",
          "height": 69
        }
      },
      "source": [
        "# class Emp has been defined here \n",
        "\n",
        "class Emp: \n",
        "\tdef __init__(self, name, age): \n",
        "\t\tself.name = name \n",
        "\t\tself.age = age \n",
        "\t\n",
        "\tdef info(self): \n",
        "\t\tprint(f\"Hello, {self.name}. You are {self.age} years old.\") \n",
        "\n",
        "# Objects of class Emp has been \n",
        "# made here\t\t \n",
        "Emps = [Emp(\"John\", 43), \n",
        "\tEmp(\"Hilbert\", 16), \n",
        "\tEmp(\"Alice\", 30)] \n",
        "\n",
        "# Objects of class Emp has been \n",
        "# used here \n",
        "for emp in Emps: \n",
        "\temp.info() \n"
      ],
      "execution_count": 0,
      "outputs": [
        {
          "output_type": "stream",
          "text": [
            "Hello, John. You are 43 years old.\n",
            "Hello, Hilbert. You are 16 years old.\n",
            "Hello, Alice. You are 30 years old.\n"
          ],
          "name": "stdout"
        }
      ]
    },
    {
      "cell_type": "markdown",
      "metadata": {
        "id": "SUP9xz8t0Hf1",
        "colab_type": "text"
      },
      "source": [
        "# What programming paradigm should I choose?\n",
        "\n",
        "\n",
        "\n",
        "It's important to note that there is no comparison between the different types of programming paradigms. Since software is nothing but knowledge representation, the answer to the question: \"What is the best way to represent my problem?\" is choosing a specific programming paradigm.\n",
        "\n",
        "\n",
        "\n",
        "In layman's terms, if your problem involves a series of simple sequential manipulations, following the old-school imperative programming paradigm would be the least expensive in terms of time and effort and give you the best results. \n",
        "\n",
        "In the case of problems requiring mathematical transformations of values, filtering information, mapping, and reductions, functional programming with program computation as mathematical functions might come in handy. \n",
        "\n",
        "If the problem is structured as a bunch of interrelated objects with certain attributes that can change with the passage of time, depending on certain conditions, object-oriented programming will be super-useful.\n",
        "\n",
        "Of course, a rule-based approach would not work here, as programming paradigm choice is also heavily dependent on the type of data to be processed, the dynamic needs of the system, and various other things like scalability.\n",
        "\n",
        "\n",
        "\n",
        "### Recent trends\n",
        "\n",
        "Analyzing the latest tech buzzwords can help identify why certain programming paradigms work better than others.\n",
        "\n",
        "**Machine learning** uses a healthy mix of imperative programming and functional programming with a dash of immutability. Feature extraction and preprocessing are best approached functionally, as they require mathematical processing of data because mappings, reductions, and filtrations can pretty much be done in parallel without much dependence on each others' data points. Training of machine learning models is best approached via old-school imperative programming, as optimizing functions' value (a.k.a. the state of the program) needs to be updated at each iteration and therefore requires sequential execution at many points in the algorithm. It is quicker than functional programming in that case. It also avoids creating copies of everything after each step; instead it just updates the previous-value placeholders.\n",
        "\n",
        "\n",
        "\n",
        "**Deep learning** can be performed well in a functional manner, as deep learning models are compositional. The entire process optimizes a set of composite functions, weights are immutable and stateless, and updates can be applied in any order as long as corresponding inputs are computed. Using functional programming provides concurrency and parallelism at no cost and also makes it easier to work with large, distributed models. There are also certain custom paradigms where functional programming is intertwined with informational theory to avoid overfitting in the statistical models.\n",
        "\n",
        "\n",
        "\n",
        "**Data manipulation** can be approached with either functional or object-oriented programming. In the functional programming way, everything is immutable, algorithms are expressed succinctly, and there is native pattern matching, but formulation of the mathematical expression-like command is an art. Approaching it in an object-oriented programming way provides for recursive and iterative loops and a class-based structure that makes it easier to scale for bigger data and new functions. The downside is that the algorithms and the code logic are not expressed in a readable way. Although both paradigms tend to have an automatic garbage-collection system and can access and manipulate databases smoothly, the choice of which one to choose is heavily dependent on the programmer's knowledge.\n",
        "\n",
        "###Takeaway\n",
        "\n",
        "There is a high probability that any two developers would disagree on the best coding style for any situation and have valid arguments to support their opinion. The amazing thing about Python is that it lets you choose the programming paradigm that works the best for you in a given situation.\n",
        "\n",
        "As the above examples demonstrate, a task can always be broken into sub-tasks where each smaller part is coded in a completely different paradigm. The mix-and-match style works perfectly as long as the packages used are minimal, the inputs and outputs are clearly defined, and the complexity is moderated. There are no rules that say you can’t combine styles as needed. Python doesn’t stop in the middle of interpreting your application and display a style error when you mix styles.\n",
        "\n",
        "Because there is no perfect guidebook for choosing a correct coding style for a given use case, the best suggestion is to try several paradigms weighing in their pros and cons until you find the one that leads to a simple yet efficient solution. There will be times during this experimentation when you will see that instead of using a single style throughout, a combination of programming paradigms works better for different parts to a solution. \n",
        "\n",
        "\n",
        "\n",
        "\n"
      ]
    }
  ]
}