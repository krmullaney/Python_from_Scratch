{
 "cells": [
  {
   "cell_type": "markdown",
   "metadata": {
    "id": "AVvihQHebxtF"
   },
   "source": [
    "\n",
    "# Plotly and Cufflinks"
   ]
  },
  {
   "cell_type": "markdown",
   "metadata": {
    "id": "wPIj_Qu2bxtI"
   },
   "source": [
    "Plotly is a library that allows you to create interactive plots that you can use in dashboards or websites (you can save them as html files or static images).\n",
    "\n",
    "## Installation\n",
    "\n",
    "In order for this all to work, you'll need to install plotly and cufflinks to call plots directly off of a pandas dataframe. These libraries are not currently available through **conda** but are available through **pip**. Install the libraries at your command line/terminal using:\n",
    "\n",
    "    pip install plotly\n",
    "    pip install cufflinks\n",
    "\n",
    "** NOTE: Make sure you only have one installation of Python on your computer when you do this, otherwise the installation may not work. **\n",
    "\n",
    "## Imports and Set-up"
   ]
  },
  {
   "cell_type": "code",
   "execution_count": 1,
   "metadata": {
    "id": "ipF1xbIcbxtM"
   },
   "outputs": [],
   "source": [
    "import pandas as pd\n",
    "import numpy as np\n",
    "%matplotlib inline"
   ]
  },
  {
   "cell_type": "code",
   "execution_count": 3,
   "metadata": {},
   "outputs": [],
   "source": [
    "#pip install plotly"
   ]
  },
  {
   "cell_type": "code",
   "execution_count": 4,
   "metadata": {},
   "outputs": [],
   "source": [
    "#pip install chart-studio"
   ]
  },
  {
   "cell_type": "code",
   "execution_count": 5,
   "metadata": {},
   "outputs": [],
   "source": [
    "#pip install cufflinks"
   ]
  },
  {
   "cell_type": "code",
   "execution_count": 6,
   "metadata": {},
   "outputs": [],
   "source": [
    "import chart_studio.plotly as py"
   ]
  },
  {
   "cell_type": "code",
   "execution_count": 7,
   "metadata": {
    "colab": {
     "base_uri": "https://localhost:8080/",
     "height": 34
    },
    "id": "aCFAVQXgbxtj",
    "outputId": "7537919d-2337-4c2e-8bfa-7bf6ff04ae66"
   },
   "outputs": [
    {
     "name": "stdout",
     "output_type": "stream",
     "text": [
      "4.10.0\n"
     ]
    }
   ],
   "source": [
    "from plotly import __version__\n",
    "from plotly.offline import download_plotlyjs, init_notebook_mode, plot, iplot\n",
    "\n",
    "print(__version__) # requires version >= 1.9.0"
   ]
  },
  {
   "cell_type": "code",
   "execution_count": 8,
   "metadata": {
    "id": "elvYamtebxtv"
   },
   "outputs": [],
   "source": [
    "import cufflinks as cf"
   ]
  },
  {
   "cell_type": "code",
   "execution_count": 9,
   "metadata": {
    "colab": {
     "base_uri": "https://localhost:8080/",
     "height": 17
    },
    "id": "G9oIX4Fdbxt8",
    "outputId": "76267fb5-d322-4411-a2bb-b38146ed2164"
   },
   "outputs": [
    {
     "data": {
      "text/html": [
       "        <script type=\"text/javascript\">\n",
       "        window.PlotlyConfig = {MathJaxConfig: 'local'};\n",
       "        if (window.MathJax) {MathJax.Hub.Config({SVG: {font: \"STIX-Web\"}});}\n",
       "        if (typeof require !== 'undefined') {\n",
       "        require.undef(\"plotly\");\n",
       "        requirejs.config({\n",
       "            paths: {\n",
       "                'plotly': ['https://cdn.plot.ly/plotly-latest.min']\n",
       "            }\n",
       "        });\n",
       "        require(['plotly'], function(Plotly) {\n",
       "            window._Plotly = Plotly;\n",
       "        });\n",
       "        }\n",
       "        </script>\n",
       "        "
      ]
     },
     "metadata": {},
     "output_type": "display_data"
    }
   ],
   "source": [
    "# For Notebooks\n",
    "init_notebook_mode(connected=True)"
   ]
  },
  {
   "cell_type": "code",
   "execution_count": 10,
   "metadata": {
    "colab": {
     "base_uri": "https://localhost:8080/",
     "height": 17
    },
    "id": "bIX7rt2tbxuH",
    "outputId": "b8a5685f-e7ab-4119-fe39-4faa58ced03e"
   },
   "outputs": [
    {
     "data": {
      "text/html": [
       "        <script type=\"text/javascript\">\n",
       "        window.PlotlyConfig = {MathJaxConfig: 'local'};\n",
       "        if (window.MathJax) {MathJax.Hub.Config({SVG: {font: \"STIX-Web\"}});}\n",
       "        if (typeof require !== 'undefined') {\n",
       "        require.undef(\"plotly\");\n",
       "        requirejs.config({\n",
       "            paths: {\n",
       "                'plotly': ['https://cdn.plot.ly/plotly-latest.min']\n",
       "            }\n",
       "        });\n",
       "        require(['plotly'], function(Plotly) {\n",
       "            window._Plotly = Plotly;\n",
       "        });\n",
       "        }\n",
       "        </script>\n",
       "        "
      ]
     },
     "metadata": {},
     "output_type": "display_data"
    }
   ],
   "source": [
    "# For offline use\n",
    "cf.go_offline()"
   ]
  },
  {
   "cell_type": "markdown",
   "metadata": {
    "id": "WqTjA_4CbxuW"
   },
   "source": [
    "### Fake Data"
   ]
  },
  {
   "cell_type": "code",
   "execution_count": 11,
   "metadata": {
    "id": "aU1MHauebxuY"
   },
   "outputs": [],
   "source": [
    "df = pd.DataFrame(np.random.randn(100,4),columns='A B C D'.split())"
   ]
  },
  {
   "cell_type": "code",
   "execution_count": 12,
   "metadata": {
    "colab": {
     "base_uri": "https://localhost:8080/",
     "height": 206
    },
    "id": "ASZ-pMbqbxug",
    "outputId": "44e38543-137e-4cea-bc5c-8c54033f08af"
   },
   "outputs": [
    {
     "data": {
      "text/html": [
       "<div>\n",
       "<style scoped>\n",
       "    .dataframe tbody tr th:only-of-type {\n",
       "        vertical-align: middle;\n",
       "    }\n",
       "\n",
       "    .dataframe tbody tr th {\n",
       "        vertical-align: top;\n",
       "    }\n",
       "\n",
       "    .dataframe thead th {\n",
       "        text-align: right;\n",
       "    }\n",
       "</style>\n",
       "<table border=\"1\" class=\"dataframe\">\n",
       "  <thead>\n",
       "    <tr style=\"text-align: right;\">\n",
       "      <th></th>\n",
       "      <th>A</th>\n",
       "      <th>B</th>\n",
       "      <th>C</th>\n",
       "      <th>D</th>\n",
       "    </tr>\n",
       "  </thead>\n",
       "  <tbody>\n",
       "    <tr>\n",
       "      <th>0</th>\n",
       "      <td>2.305079</td>\n",
       "      <td>1.456481</td>\n",
       "      <td>-1.041473</td>\n",
       "      <td>-2.650813</td>\n",
       "    </tr>\n",
       "    <tr>\n",
       "      <th>1</th>\n",
       "      <td>-0.345448</td>\n",
       "      <td>-0.561442</td>\n",
       "      <td>-2.498701</td>\n",
       "      <td>-0.311803</td>\n",
       "    </tr>\n",
       "    <tr>\n",
       "      <th>2</th>\n",
       "      <td>-1.674912</td>\n",
       "      <td>0.769049</td>\n",
       "      <td>-1.740563</td>\n",
       "      <td>0.523405</td>\n",
       "    </tr>\n",
       "    <tr>\n",
       "      <th>3</th>\n",
       "      <td>1.207319</td>\n",
       "      <td>1.074567</td>\n",
       "      <td>0.780747</td>\n",
       "      <td>-1.137005</td>\n",
       "    </tr>\n",
       "    <tr>\n",
       "      <th>4</th>\n",
       "      <td>1.406344</td>\n",
       "      <td>-0.271650</td>\n",
       "      <td>0.286967</td>\n",
       "      <td>1.785947</td>\n",
       "    </tr>\n",
       "  </tbody>\n",
       "</table>\n",
       "</div>"
      ],
      "text/plain": [
       "          A         B         C         D\n",
       "0  2.305079  1.456481 -1.041473 -2.650813\n",
       "1 -0.345448 -0.561442 -2.498701 -0.311803\n",
       "2 -1.674912  0.769049 -1.740563  0.523405\n",
       "3  1.207319  1.074567  0.780747 -1.137005\n",
       "4  1.406344 -0.271650  0.286967  1.785947"
      ]
     },
     "execution_count": 12,
     "metadata": {},
     "output_type": "execute_result"
    }
   ],
   "source": [
    "df.head()"
   ]
  },
  {
   "cell_type": "code",
   "execution_count": 13,
   "metadata": {
    "id": "sLaY21wHbxup"
   },
   "outputs": [],
   "source": [
    "df2 = pd.DataFrame({'Category':['A','B','C'],'Values':[32,43,50]})"
   ]
  },
  {
   "cell_type": "code",
   "execution_count": 14,
   "metadata": {
    "colab": {
     "base_uri": "https://localhost:8080/",
     "height": 144
    },
    "id": "fb3NJmINbxu3",
    "outputId": "a1e3320e-5cba-4f7f-8086-cae4e90a1672"
   },
   "outputs": [
    {
     "data": {
      "text/html": [
       "<div>\n",
       "<style scoped>\n",
       "    .dataframe tbody tr th:only-of-type {\n",
       "        vertical-align: middle;\n",
       "    }\n",
       "\n",
       "    .dataframe tbody tr th {\n",
       "        vertical-align: top;\n",
       "    }\n",
       "\n",
       "    .dataframe thead th {\n",
       "        text-align: right;\n",
       "    }\n",
       "</style>\n",
       "<table border=\"1\" class=\"dataframe\">\n",
       "  <thead>\n",
       "    <tr style=\"text-align: right;\">\n",
       "      <th></th>\n",
       "      <th>Category</th>\n",
       "      <th>Values</th>\n",
       "    </tr>\n",
       "  </thead>\n",
       "  <tbody>\n",
       "    <tr>\n",
       "      <th>0</th>\n",
       "      <td>A</td>\n",
       "      <td>32</td>\n",
       "    </tr>\n",
       "    <tr>\n",
       "      <th>1</th>\n",
       "      <td>B</td>\n",
       "      <td>43</td>\n",
       "    </tr>\n",
       "    <tr>\n",
       "      <th>2</th>\n",
       "      <td>C</td>\n",
       "      <td>50</td>\n",
       "    </tr>\n",
       "  </tbody>\n",
       "</table>\n",
       "</div>"
      ],
      "text/plain": [
       "  Category  Values\n",
       "0        A      32\n",
       "1        B      43\n",
       "2        C      50"
      ]
     },
     "execution_count": 14,
     "metadata": {},
     "output_type": "execute_result"
    }
   ],
   "source": [
    "df2.head()"
   ]
  },
  {
   "cell_type": "markdown",
   "metadata": {
    "id": "34YbpiDdbxvG"
   },
   "source": [
    "## Using Cufflinks and iplot()\n",
    "\n",
    "* scatter\n",
    "* bar\n",
    "* box\n",
    "* spread\n",
    "* ratio\n",
    "* heatmap\n",
    "* surface\n",
    "* histogram\n",
    "* bubble"
   ]
  },
  {
   "cell_type": "markdown",
   "metadata": {
    "id": "s07e88YebxvI"
   },
   "source": [
    "## Scatter"
   ]
  },
  {
   "cell_type": "code",
   "execution_count": 16,
   "metadata": {},
   "outputs": [
    {
     "data": {
      "text/plain": [
       "<matplotlib.axes._subplots.AxesSubplot at 0x7f14cf68eb90>"
      ]
     },
     "execution_count": 16,
     "metadata": {},
     "output_type": "execute_result"
    },
    {
     "data": {
      "image/png": "[encoded data removed]",
      "text/plain": [
       "<Figure size 432x288 with 1 Axes>"
      ]
     },
     "metadata": {
      "needs_background": "light"
     },
     "output_type": "display_data"
    }
   ],
   "source": [
    "df.plot(kind='scatter',x='A',y='B')"
   ]
  },
  {
   "cell_type": "code",
   "execution_count": 18,
   "metadata": {},
   "outputs": [
    {
     "data": {
      "application/vnd.plotly.v1+json": {
       "config": {
        "linkText": "Export to plot.ly",
        "plotlyServerURL": "https://plot.ly",
        "showLink": true
       },
       "data": [
        {
         "line": {
          "color": "rgba(255, 153, 51, 1.0)",
          "dash": "solid",
          "shape": "linear",
          "width": 1.3
         },
         "mode": "lines",
         "name": "B",
         "text": "",
         "type": "scatter",
         "x": [
          2.3050789463764794,
          -0.34544828836374125,
          -1.67491216027255,
          1.207318891717801,
          1.406343778561469,
          -1.112345759784398,
          0.9446789832334939,
          -0.38728675731145373,
          1.3079689084749777,
          -1.8069718036199587,
          0.18825627165035458,
          0.7147828258451806,
          0.44192463870483806,
          -0.49552350971023745,
          -0.322800551035353,
          -0.47433961294441596,
          0.1690883770206803,
          1.2017852529943827,
          -0.1647321336067996,
          -2.3955741265632238,
          -1.4758945487582762,
          0.962445834012295,
          0.6653252839778693,
          -0.41880202344092315,
          0.04627068636022785,
          -1.5185646666381192,
          -1.9938509523173815,
          -0.02240060509745099,
          1.1809831611785004,
          1.8801658934707632,
          1.0292593510337478,
          0.5949117331367149,
          -1.4514506277441748,
          -0.42502646313780856,
          -0.5797899821504993,
          -0.3581390966891277,
          -0.11892770450618409,
          1.0926209083884437,
          0.7050466192122445,
          1.2375172874906153,
          1.4072020975357857,
          0.1575926374578665,
          0.09396028076688108,
          0.14998003245337374,
          1.0006464685965815,
          0.33651897865653907,
          -0.10778939786155453,
          1.7762185531905517,
          0.2433230426333405,
          0.6573414720203437,
          1.4987623651774449,
          0.49100570061636384,
          1.2227945124611799,
          2.0356825538745524,
          0.8960277472124333,
          1.36131627749611,
          -0.01900927284926094,
          -1.123782384244974,
          1.2024407293884816,
          1.7533041101596796,
          2.620102735759663,
          -0.9243960301190819,
          -0.9071010052827692,
          0.7084815208490741,
          -1.0164586395797204,
          -0.9726287488168607,
          -2.0757409191988963,
          -0.4056514932145701,
          -0.4481169032862055,
          0.2999481669822941,
          0.19005409313068863,
          0.20944993347497673,
          1.8535331783127982,
          0.10833367793192912,
          0.9909118192752894,
          -0.18072276264957435,
          -0.27175596496885357,
          -0.3472891841078953,
          -1.3499379537122178,
          -0.24361265423740075,
          0.1823942082455205,
          -0.11683434885062603,
          -1.9611819118675928,
          -0.10124747971168387,
          -0.749519554450631,
          -0.17063962763320573,
          -1.2924000897834025,
          -1.6363561634291774,
          0.31683188489615605,
          0.6767344738274852,
          -1.0561931295586227,
          -2.0631652991243787,
          -1.0225199848753768,
          -1.2074155289643396,
          -0.8839567228513001,
          -0.8159284734528616,
          0.6274816714657359,
          0.9671930475443826,
          -0.27905397820525646,
          -0.9770832801408772
         ],
         "y": [
          1.4564807911980027,
          -0.5614415874815344,
          0.7690489749287509,
          1.0745673115894976,
          -0.271650350545234,
          -0.20417947351171928,
          -1.5365217665036148,
          0.5271922043293188,
          -1.486583190597354,
          -1.5334484919941673,
          0.18382394706883978,
          0.1344370782872019,
          1.89905090532156,
          0.6202785332919339,
          -0.45664038843023563,
          1.963126990847653,
          1.9369875383030903,
          1.0315771467695134,
          -0.3453335682768677,
          0.419546447142365,
          -1.225897365627275,
          -1.0887921399676082,
          -0.21263698997725416,
          0.7718171320935325,
          0.44145428919101193,
          -0.8468114640841646,
          0.8526936191566775,
          -0.969355231696488,
          1.5408969327530821,
          -0.04465803887874416,
          -1.0342638822781325,
          0.6075784794307824,
          0.020845455399087748,
          -0.07959203078638698,
          -1.2885327382950438,
          -0.5858261320243598,
          0.2784538175232755,
          0.4716251609013261,
          0.007586918494829923,
          -1.2311721843538845,
          2.263014081539277,
          -0.9445712149750263,
          -0.7801126734963407,
          -0.006307163966420759,
          0.19209429370631423,
          1.4849821222922432,
          -0.402824407169826,
          -0.1535552795197902,
          -0.45306006334156884,
          0.2723494038368278,
          -0.6969797568377994,
          1.3148469312491482,
          -0.4400678278705646,
          -0.5226856061207958,
          -1.2685087511392623,
          -0.7121002063687039,
          0.4922848868566591,
          1.4080506928339986,
          -0.6740640131990668,
          0.47859781454993217,
          0.10407954693386935,
          -0.09125617817861699,
          -1.3627903947738937,
          -1.280305454707673,
          1.0676149669634278,
          0.10098596940395344,
          0.3087197869344185,
          0.3416669711946196,
          -0.2456850602506728,
          -0.8054522753423443,
          -0.3581753964308596,
          1.2538718650534761,
          1.5812764633116267,
          -1.2869964689617,
          0.5134159053161619,
          1.0984181861336495,
          -0.939853681439602,
          -0.7874505356156805,
          -0.5251233813470253,
          1.426548881182392,
          0.07011129375683395,
          0.3043731808315209,
          1.3453342775245516,
          0.8797891435530668,
          0.08819796782327056,
          0.7785641262132776,
          -0.32251783943947593,
          -1.103603729843237,
          1.561003488139711,
          -0.8993481124743095,
          2.527656223510702,
          -0.035756115285384076,
          2.32755828482868,
          0.8455828949792558,
          1.4395208708887242,
          -0.13261587328217128,
          0.9653423868237719,
          -1.5985346969508438,
          -0.9772914721691849,
          0.6427378710046866
         ]
        }
       ],
       "layout": {
        "legend": {
         "bgcolor": "#F5F6F9",
         "font": {
          "color": "#4D5663"
         }
        },
        "paper_bgcolor": "#F5F6F9",
        "plot_bgcolor": "#F5F6F9",
        "template": {
         "data": {
          "bar": [
           {
            "error_x": {
             "color": "#2a3f5f"
            },
            "error_y": {
             "color": "#2a3f5f"
            },
            "marker": {
             "line": {
              "color": "#E5ECF6",
              "width": 0.5
             }
            },
            "type": "bar"
           }
          ],
          "barpolar": [
           {
            "marker": {
             "line": {
              "color": "#E5ECF6",
              "width": 0.5
             }
            },
            "type": "barpolar"
           }
          ],
          "carpet": [
           {
            "aaxis": {
             "endlinecolor": "#2a3f5f",
             "gridcolor": "white",
             "linecolor": "white",
             "minorgridcolor": "white",
             "startlinecolor": "#2a3f5f"
            },
            "baxis": {
             "endlinecolor": "#2a3f5f",
             "gridcolor": "white",
             "linecolor": "white",
             "minorgridcolor": "white",
             "startlinecolor": "#2a3f5f"
            },
            "type": "carpet"
           }
          ],
          "choropleth": [
           {
            "colorbar": {
             "outlinewidth": 0,
             "ticks": ""
            },
            "type": "choropleth"
           }
          ],
          "contour": [
           {
            "colorbar": {
             "outlinewidth": 0,
             "ticks": ""
            },
            "colorscale": [
             [
              0,
              "#0d0887"
             ],
             [
              0.1111111111111111,
              "#46039f"
             ],
             [
              0.2222222222222222,
              "#7201a8"
             ],
             [
              0.3333333333333333,
              "#9c179e"
             ],
             [
              0.4444444444444444,
              "#bd3786"
             ],
             [
              0.5555555555555556,
              "#d8576b"
             ],
             [
              0.6666666666666666,
              "#ed7953"
             ],
             [
              0.7777777777777778,
              "#fb9f3a"
             ],
             [
              0.8888888888888888,
              "#fdca26"
             ],
             [
              1,
              "#f0f921"
             ]
            ],
            "type": "contour"
           }
          ],
          "contourcarpet": [
           {
            "colorbar": {
             "outlinewidth": 0,
             "ticks": ""
            },
            "type": "contourcarpet"
           }
          ],
          "heatmap": [
           {
            "colorbar": {
             "outlinewidth": 0,
             "ticks": ""
            },
            "colorscale": [
             [
              0,
              "#0d0887"
             ],
             [
              0.1111111111111111,
              "#46039f"
             ],
             [
              0.2222222222222222,
              "#7201a8"
             ],
             [
              0.3333333333333333,
              "#9c179e"
             ],
             [
              0.4444444444444444,
              "#bd3786"
             ],
             [
              0.5555555555555556,
              "#d8576b"
             ],
             [
              0.6666666666666666,
              "#ed7953"
             ],
             [
              0.7777777777777778,
              "#fb9f3a"
             ],
             [
              0.8888888888888888,
              "#fdca26"
             ],
             [
              1,
              "#f0f921"
             ]
            ],
            "type": "heatmap"
           }
          ],
          "heatmapgl": [
           {
            "colorbar": {
             "outlinewidth": 0,
             "ticks": ""
            },
            "colorscale": [
             [
              0,
              "#0d0887"
             ],
             [
              0.1111111111111111,
              "#46039f"
             ],
             [
              0.2222222222222222,
              "#7201a8"
             ],
             [
              0.3333333333333333,
              "#9c179e"
             ],
             [
              0.4444444444444444,
              "#bd3786"
             ],
             [
              0.5555555555555556,
              "#d8576b"
             ],
             [
              0.6666666666666666,
              "#ed7953"
             ],
             [
              0.7777777777777778,
              "#fb9f3a"
             ],
             [
              0.8888888888888888,
              "#fdca26"
             ],
             [
              1,
              "#f0f921"
             ]
            ],
            "type": "heatmapgl"
           }
          ],
          "histogram": [
           {
            "marker": {
             "colorbar": {
              "outlinewidth": 0,
              "ticks": ""
             }
            },
            "type": "histogram"
           }
          ],
          "histogram2d": [
           {
            "colorbar": {
             "outlinewidth": 0,
             "ticks": ""
            },
            "colorscale": [
             [
              0,
              "#0d0887"
             ],
             [
              0.1111111111111111,
              "#46039f"
             ],
             [
              0.2222222222222222,
              "#7201a8"
             ],
             [
              0.3333333333333333,
              "#9c179e"
             ],
             [
              0.4444444444444444,
              "#bd3786"
             ],
             [
              0.5555555555555556,
              "#d8576b"
             ],
             [
              0.6666666666666666,
              "#ed7953"
             ],
             [
              0.7777777777777778,
              "#fb9f3a"
             ],
             [
              0.8888888888888888,
              "#fdca26"
             ],
             [
              1,
              "#f0f921"
             ]
            ],
            "type": "histogram2d"
           }
          ],
          "histogram2dcontour": [
           {
            "colorbar": {
             "outlinewidth": 0,
             "ticks": ""
            },
            "colorscale": [
             [
              0,
              "#0d0887"
             ],
             [
              0.1111111111111111,
              "#46039f"
             ],
             [
              0.2222222222222222,
              "#7201a8"
             ],
             [
              0.3333333333333333,
              "#9c179e"
             ],
             [
              0.4444444444444444,
              "#bd3786"
             ],
             [
              0.5555555555555556,
              "#d8576b"
             ],
             [
              0.6666666666666666,
              "#ed7953"
             ],
             [
              0.7777777777777778,
              "#fb9f3a"
             ],
             [
              0.8888888888888888,
              "#fdca26"
             ],
             [
              1,
              "#f0f921"
             ]
            ],
            "type": "histogram2dcontour"
           }
          ],
          "mesh3d": [
           {
            "colorbar": {
             "outlinewidth": 0,
             "ticks": ""
            },
            "type": "mesh3d"
           }
          ],
          "parcoords": [
           {
            "line": {
             "colorbar": {
              "outlinewidth": 0,
              "ticks": ""
             }
            },
            "type": "parcoords"
           }
          ],
          "pie": [
           {
            "automargin": true,
            "type": "pie"
           }
          ],
          "scatter": [
           {
            "marker": {
             "colorbar": {
              "outlinewidth": 0,
              "ticks": ""
             }
            },
            "type": "scatter"
           }
          ],
          "scatter3d": [
           {
            "line": {
             "colorbar": {
              "outlinewidth": 0,
              "ticks": ""
             }
            },
            "marker": {
             "colorbar": {
              "outlinewidth": 0,
              "ticks": ""
             }
            },
            "type": "scatter3d"
           }
          ],
          "scattercarpet": [
           {
            "marker": {
             "colorbar": {
              "outlinewidth": 0,
              "ticks": ""
             }
            },
            "type": "scattercarpet"
           }
          ],
          "scattergeo": [
           {
            "marker": {
             "colorbar": {
              "outlinewidth": 0,
              "ticks": ""
             }
            },
            "type": "scattergeo"
           }
          ],
          "scattergl": [
           {
            "marker": {
             "colorbar": {
              "outlinewidth": 0,
              "ticks": ""
             }
            },
            "type": "scattergl"
           }
          ],
          "scattermapbox": [
           {
            "marker": {
             "colorbar": {
              "outlinewidth": 0,
              "ticks": ""
             }
            },
            "type": "scattermapbox"
           }
          ],
          "scatterpolar": [
           {
            "marker": {
             "colorbar": {
              "outlinewidth": 0,
              "ticks": ""
             }
            },
            "type": "scatterpolar"
           }
          ],
          "scatterpolargl": [
           {
            "marker": {
             "colorbar": {
              "outlinewidth": 0,
              "ticks": ""
             }
            },
            "type": "scatterpolargl"
           }
          ],
          "scatterternary": [
           {
            "marker": {
             "colorbar": {
              "outlinewidth": 0,
              "ticks": ""
             }
            },
            "type": "scatterternary"
           }
          ],
          "surface": [
           {
            "colorbar": {
             "outlinewidth": 0,
             "ticks": ""
            },
            "colorscale": [
             [
              0,
              "#0d0887"
             ],
             [
              0.1111111111111111,
              "#46039f"
             ],
             [
              0.2222222222222222,
              "#7201a8"
             ],
             [
              0.3333333333333333,
              "#9c179e"
             ],
             [
              0.4444444444444444,
              "#bd3786"
             ],
             [
              0.5555555555555556,
              "#d8576b"
             ],
             [
              0.6666666666666666,
              "#ed7953"
             ],
             [
              0.7777777777777778,
              "#fb9f3a"
             ],
             [
              0.8888888888888888,
              "#fdca26"
             ],
             [
              1,
              "#f0f921"
             ]
            ],
            "type": "surface"
           }
          ],
          "table": [
           {
            "cells": {
             "fill": {
              "color": "#EBF0F8"
             },
             "line": {
              "color": "white"
             }
            },
            "header": {
             "fill": {
              "color": "#C8D4E3"
             },
             "line": {
              "color": "white"
             }
            },
            "type": "table"
           }
          ]
         },
         "layout": {
          "annotationdefaults": {
           "arrowcolor": "#2a3f5f",
           "arrowhead": 0,
           "arrowwidth": 1
          },
          "coloraxis": {
           "colorbar": {
            "outlinewidth": 0,
            "ticks": ""
           }
          },
          "colorscale": {
           "diverging": [
            [
             0,
             "#8e0152"
            ],
            [
             0.1,
             "#c51b7d"
            ],
            [
             0.2,
             "#de77ae"
            ],
            [
             0.3,
             "#f1b6da"
            ],
            [
             0.4,
             "#fde0ef"
            ],
            [
             0.5,
             "#f7f7f7"
            ],
            [
             0.6,
             "#e6f5d0"
            ],
            [
             0.7,
             "#b8e186"
            ],
            [
             0.8,
             "#7fbc41"
            ],
            [
             0.9,
             "#4d9221"
            ],
            [
             1,
             "#276419"
            ]
           ],
           "sequential": [
            [
             0,
             "#0d0887"
            ],
            [
             0.1111111111111111,
             "#46039f"
            ],
            [
             0.2222222222222222,
             "#7201a8"
            ],
            [
             0.3333333333333333,
             "#9c179e"
            ],
            [
             0.4444444444444444,
             "#bd3786"
            ],
            [
             0.5555555555555556,
             "#d8576b"
            ],
            [
             0.6666666666666666,
             "#ed7953"
            ],
            [
             0.7777777777777778,
             "#fb9f3a"
            ],
            [
             0.8888888888888888,
             "#fdca26"
            ],
            [
             1,
             "#f0f921"
            ]
           ],
           "sequentialminus": [
            [
             0,
             "#0d0887"
            ],
            [
             0.1111111111111111,
             "#46039f"
            ],
            [
             0.2222222222222222,
             "#7201a8"
            ],
            [
             0.3333333333333333,
             "#9c179e"
            ],
            [
             0.4444444444444444,
             "#bd3786"
            ],
            [
             0.5555555555555556,
             "#d8576b"
            ],
            [
             0.6666666666666666,
             "#ed7953"
            ],
            [
             0.7777777777777778,
             "#fb9f3a"
            ],
            [
             0.8888888888888888,
             "#fdca26"
            ],
            [
             1,
             "#f0f921"
            ]
           ]
          },
          "colorway": [
           "#636efa",
           "#EF553B",
           "#00cc96",
           "#ab63fa",
           "#FFA15A",
           "#19d3f3",
           "#FF6692",
           "#B6E880",
           "#FF97FF",
           "#FECB52"
          ],
          "font": {
           "color": "#2a3f5f"
          },
          "geo": {
           "bgcolor": "white",
           "lakecolor": "white",
           "landcolor": "#E5ECF6",
           "showlakes": true,
           "showland": true,
           "subunitcolor": "white"
          },
          "hoverlabel": {
           "align": "left"
          },
          "hovermode": "closest",
          "mapbox": {
           "style": "light"
          },
          "paper_bgcolor": "white",
          "plot_bgcolor": "#E5ECF6",
          "polar": {
           "angularaxis": {
            "gridcolor": "white",
            "linecolor": "white",
            "ticks": ""
           },
           "bgcolor": "#E5ECF6",
           "radialaxis": {
            "gridcolor": "white",
            "linecolor": "white",
            "ticks": ""
           }
          },
          "scene": {
           "xaxis": {
            "backgroundcolor": "#E5ECF6",
            "gridcolor": "white",
            "gridwidth": 2,
            "linecolor": "white",
            "showbackground": true,
            "ticks": "",
            "zerolinecolor": "white"
           },
           "yaxis": {
            "backgroundcolor": "#E5ECF6",
            "gridcolor": "white",
            "gridwidth": 2,
            "linecolor": "white",
            "showbackground": true,
            "ticks": "",
            "zerolinecolor": "white"
           },
           "zaxis": {
            "backgroundcolor": "#E5ECF6",
            "gridcolor": "white",
            "gridwidth": 2,
            "linecolor": "white",
            "showbackground": true,
            "ticks": "",
            "zerolinecolor": "white"
           }
          },
          "shapedefaults": {
           "line": {
            "color": "#2a3f5f"
           }
          },
          "ternary": {
           "aaxis": {
            "gridcolor": "white",
            "linecolor": "white",
            "ticks": ""
           },
           "baxis": {
            "gridcolor": "white",
            "linecolor": "white",
            "ticks": ""
           },
           "bgcolor": "#E5ECF6",
           "caxis": {
            "gridcolor": "white",
            "linecolor": "white",
            "ticks": ""
           }
          },
          "title": {
           "x": 0.05
          },
          "xaxis": {
           "automargin": true,
           "gridcolor": "white",
           "linecolor": "white",
           "ticks": "",
           "title": {
            "standoff": 15
           },
           "zerolinecolor": "white",
           "zerolinewidth": 2
          },
          "yaxis": {
           "automargin": true,
           "gridcolor": "white",
           "linecolor": "white",
           "ticks": "",
           "title": {
            "standoff": 15
           },
           "zerolinecolor": "white",
           "zerolinewidth": 2
          }
         }
        },
        "title": {
         "font": {
          "color": "#4D5663"
         }
        },
        "xaxis": {
         "gridcolor": "#E1E5ED",
         "showgrid": true,
         "tickfont": {
          "color": "#4D5663"
         },
         "title": {
          "font": {
           "color": "#4D5663"
          },
          "text": ""
         },
         "zerolinecolor": "#E1E5ED"
        },
        "yaxis": {
         "gridcolor": "#E1E5ED",
         "showgrid": true,
         "tickfont": {
          "color": "#4D5663"
         },
         "title": {
          "font": {
           "color": "#4D5663"
          },
          "text": ""
         },
         "zerolinecolor": "#E1E5ED"
        }
       }
      },
      "text/html": [
       "<div>                            <div id=\"5dda751e-f05b-4273-b302-35b3012fb434\" class=\"plotly-graph-div\" style=\"height:525px; width:100%;\"></div>            <script type=\"text/javascript\">                require([\"plotly\"], function(Plotly) {                    window.PLOTLYENV=window.PLOTLYENV || {};\n",
       "                    window.PLOTLYENV.BASE_URL='https://plot.ly';                                    if (document.getElementById(\"5dda751e-f05b-4273-b302-35b3012fb434\")) {                    Plotly.newPlot(                        \"5dda751e-f05b-4273-b302-35b3012fb434\",                        [{\"line\": {\"color\": \"rgba(255, 153, 51, 1.0)\", \"dash\": \"solid\", \"shape\": \"linear\", \"width\": 1.3}, \"mode\": \"lines\", \"name\": \"B\", \"text\": \"\", \"type\": \"scatter\", \"x\": [2.3050789463764794, -0.34544828836374125, -1.67491216027255, 1.207318891717801, 1.406343778561469, -1.112345759784398, 0.9446789832334939, -0.38728675731145373, 1.3079689084749777, -1.8069718036199587, 0.18825627165035458, 0.7147828258451806, 0.44192463870483806, -0.49552350971023745, -0.322800551035353, -0.47433961294441596, 0.1690883770206803, 1.2017852529943827, -0.1647321336067996, -2.3955741265632238, -1.4758945487582762, 0.962445834012295, 0.6653252839778693, -0.41880202344092315, 0.04627068636022785, -1.5185646666381192, -1.9938509523173815, -0.02240060509745099, 1.1809831611785004, 1.8801658934707632, 1.0292593510337478, 0.5949117331367149, -1.4514506277441748, -0.42502646313780856, -0.5797899821504993, -0.3581390966891277, -0.11892770450618409, 1.0926209083884437, 0.7050466192122445, 1.2375172874906153, 1.4072020975357857, 0.1575926374578665, 0.09396028076688108, 0.14998003245337374, 1.0006464685965815, 0.33651897865653907, -0.10778939786155453, 1.7762185531905517, 0.2433230426333405, 0.6573414720203437, 1.4987623651774449, 0.49100570061636384, 1.2227945124611799, 2.0356825538745524, 0.8960277472124333, 1.36131627749611, -0.01900927284926094, -1.123782384244974, 1.2024407293884816, 1.7533041101596796, 2.620102735759663, -0.9243960301190819, -0.9071010052827692, 0.7084815208490741, -1.0164586395797204, -0.9726287488168607, -2.0757409191988963, -0.4056514932145701, -0.4481169032862055, 0.2999481669822941, 0.19005409313068863, 0.20944993347497673, 1.8535331783127982, 0.10833367793192912, 0.9909118192752894, -0.18072276264957435, -0.27175596496885357, -0.3472891841078953, -1.3499379537122178, -0.24361265423740075, 0.1823942082455205, -0.11683434885062603, -1.9611819118675928, -0.10124747971168387, -0.749519554450631, -0.17063962763320573, -1.2924000897834025, -1.6363561634291774, 0.31683188489615605, 0.6767344738274852, -1.0561931295586227, -2.0631652991243787, -1.0225199848753768, -1.2074155289643396, -0.8839567228513001, -0.8159284734528616, 0.6274816714657359, 0.9671930475443826, -0.27905397820525646, -0.9770832801408772], \"y\": [1.4564807911980027, -0.5614415874815344, 0.7690489749287509, 1.0745673115894976, -0.271650350545234, -0.20417947351171928, -1.5365217665036148, 0.5271922043293188, -1.486583190597354, -1.5334484919941673, 0.18382394706883978, 0.1344370782872019, 1.89905090532156, 0.6202785332919339, -0.45664038843023563, 1.963126990847653, 1.9369875383030903, 1.0315771467695134, -0.3453335682768677, 0.419546447142365, -1.225897365627275, -1.0887921399676082, -0.21263698997725416, 0.7718171320935325, 0.44145428919101193, -0.8468114640841646, 0.8526936191566775, -0.969355231696488, 1.5408969327530821, -0.04465803887874416, -1.0342638822781325, 0.6075784794307824, 0.020845455399087748, -0.07959203078638698, -1.2885327382950438, -0.5858261320243598, 0.2784538175232755, 0.4716251609013261, 0.007586918494829923, -1.2311721843538845, 2.263014081539277, -0.9445712149750263, -0.7801126734963407, -0.006307163966420759, 0.19209429370631423, 1.4849821222922432, -0.402824407169826, -0.1535552795197902, -0.45306006334156884, 0.2723494038368278, -0.6969797568377994, 1.3148469312491482, -0.4400678278705646, -0.5226856061207958, -1.2685087511392623, -0.7121002063687039, 0.4922848868566591, 1.4080506928339986, -0.6740640131990668, 0.47859781454993217, 0.10407954693386935, -0.09125617817861699, -1.3627903947738937, -1.280305454707673, 1.0676149669634278, 0.10098596940395344, 0.3087197869344185, 0.3416669711946196, -0.2456850602506728, -0.8054522753423443, -0.3581753964308596, 1.2538718650534761, 1.5812764633116267, -1.2869964689617, 0.5134159053161619, 1.0984181861336495, -0.939853681439602, -0.7874505356156805, -0.5251233813470253, 1.426548881182392, 0.07011129375683395, 0.3043731808315209, 1.3453342775245516, 0.8797891435530668, 0.08819796782327056, 0.7785641262132776, -0.32251783943947593, -1.103603729843237, 1.561003488139711, -0.8993481124743095, 2.527656223510702, -0.035756115285384076, 2.32755828482868, 0.8455828949792558, 1.4395208708887242, -0.13261587328217128, 0.9653423868237719, -1.5985346969508438, -0.9772914721691849, 0.6427378710046866]}],                        {\"legend\": {\"bgcolor\": \"#F5F6F9\", \"font\": {\"color\": \"#4D5663\"}}, \"paper_bgcolor\": \"#F5F6F9\", \"plot_bgcolor\": \"#F5F6F9\", \"template\": {\"data\": {\"bar\": [{\"error_x\": {\"color\": \"#2a3f5f\"}, \"error_y\": {\"color\": \"#2a3f5f\"}, \"marker\": {\"line\": {\"color\": \"#E5ECF6\", \"width\": 0.5}}, \"type\": \"bar\"}], \"barpolar\": [{\"marker\": {\"line\": {\"color\": \"#E5ECF6\", \"width\": 0.5}}, \"type\": \"barpolar\"}], \"carpet\": [{\"aaxis\": {\"endlinecolor\": \"#2a3f5f\", \"gridcolor\": \"white\", \"linecolor\": \"white\", \"minorgridcolor\": \"white\", \"startlinecolor\": \"#2a3f5f\"}, \"baxis\": {\"endlinecolor\": \"#2a3f5f\", \"gridcolor\": \"white\", \"linecolor\": \"white\", \"minorgridcolor\": \"white\", \"startlinecolor\": \"#2a3f5f\"}, \"type\": \"carpet\"}], \"choropleth\": [{\"colorbar\": {\"outlinewidth\": 0, \"ticks\": \"\"}, \"type\": \"choropleth\"}], \"contour\": [{\"colorbar\": {\"outlinewidth\": 0, \"ticks\": \"\"}, \"colorscale\": [[0.0, \"#0d0887\"], [0.1111111111111111, \"#46039f\"], [0.2222222222222222, \"#7201a8\"], [0.3333333333333333, \"#9c179e\"], [0.4444444444444444, \"#bd3786\"], [0.5555555555555556, \"#d8576b\"], [0.6666666666666666, \"#ed7953\"], [0.7777777777777778, \"#fb9f3a\"], [0.8888888888888888, \"#fdca26\"], [1.0, \"#f0f921\"]], \"type\": \"contour\"}], \"contourcarpet\": [{\"colorbar\": {\"outlinewidth\": 0, \"ticks\": \"\"}, \"type\": \"contourcarpet\"}], \"heatmap\": [{\"colorbar\": {\"outlinewidth\": 0, \"ticks\": \"\"}, \"colorscale\": [[0.0, \"#0d0887\"], [0.1111111111111111, \"#46039f\"], [0.2222222222222222, \"#7201a8\"], [0.3333333333333333, \"#9c179e\"], [0.4444444444444444, \"#bd3786\"], [0.5555555555555556, \"#d8576b\"], [0.6666666666666666, \"#ed7953\"], [0.7777777777777778, \"#fb9f3a\"], [0.8888888888888888, \"#fdca26\"], [1.0, \"#f0f921\"]], \"type\": \"heatmap\"}], \"heatmapgl\": [{\"colorbar\": {\"outlinewidth\": 0, \"ticks\": \"\"}, \"colorscale\": [[0.0, \"#0d0887\"], [0.1111111111111111, \"#46039f\"], [0.2222222222222222, \"#7201a8\"], [0.3333333333333333, \"#9c179e\"], [0.4444444444444444, \"#bd3786\"], [0.5555555555555556, \"#d8576b\"], [0.6666666666666666, \"#ed7953\"], [0.7777777777777778, \"#fb9f3a\"], [0.8888888888888888, \"#fdca26\"], [1.0, \"#f0f921\"]], \"type\": \"heatmapgl\"}], \"histogram\": [{\"marker\": {\"colorbar\": {\"outlinewidth\": 0, \"ticks\": \"\"}}, \"type\": \"histogram\"}], \"histogram2d\": [{\"colorbar\": {\"outlinewidth\": 0, \"ticks\": \"\"}, \"colorscale\": [[0.0, \"#0d0887\"], [0.1111111111111111, \"#46039f\"], [0.2222222222222222, \"#7201a8\"], [0.3333333333333333, \"#9c179e\"], [0.4444444444444444, \"#bd3786\"], [0.5555555555555556, \"#d8576b\"], [0.6666666666666666, \"#ed7953\"], [0.7777777777777778, \"#fb9f3a\"], [0.8888888888888888, \"#fdca26\"], [1.0, \"#f0f921\"]], \"type\": \"histogram2d\"}], \"histogram2dcontour\": [{\"colorbar\": {\"outlinewidth\": 0, \"ticks\": \"\"}, \"colorscale\": [[0.0, \"#0d0887\"], [0.1111111111111111, \"#46039f\"], [0.2222222222222222, \"#7201a8\"], [0.3333333333333333, \"#9c179e\"], [0.4444444444444444, \"#bd3786\"], [0.5555555555555556, \"#d8576b\"], [0.6666666666666666, \"#ed7953\"], [0.7777777777777778, \"#fb9f3a\"], [0.8888888888888888, \"#fdca26\"], [1.0, \"#f0f921\"]], \"type\": \"histogram2dcontour\"}], \"mesh3d\": [{\"colorbar\": {\"outlinewidth\": 0, \"ticks\": \"\"}, \"type\": \"mesh3d\"}], \"parcoords\": [{\"line\": {\"colorbar\": {\"outlinewidth\": 0, \"ticks\": \"\"}}, \"type\": \"parcoords\"}], \"pie\": [{\"automargin\": true, \"type\": \"pie\"}], \"scatter\": [{\"marker\": {\"colorbar\": {\"outlinewidth\": 0, \"ticks\": \"\"}}, \"type\": \"scatter\"}], \"scatter3d\": [{\"line\": {\"colorbar\": {\"outlinewidth\": 0, \"ticks\": \"\"}}, \"marker\": {\"colorbar\": {\"outlinewidth\": 0, \"ticks\": \"\"}}, \"type\": \"scatter3d\"}], \"scattercarpet\": [{\"marker\": {\"colorbar\": {\"outlinewidth\": 0, \"ticks\": \"\"}}, \"type\": \"scattercarpet\"}], \"scattergeo\": [{\"marker\": {\"colorbar\": {\"outlinewidth\": 0, \"ticks\": \"\"}}, \"type\": \"scattergeo\"}], \"scattergl\": [{\"marker\": {\"colorbar\": {\"outlinewidth\": 0, \"ticks\": \"\"}}, \"type\": \"scattergl\"}], \"scattermapbox\": [{\"marker\": {\"colorbar\": {\"outlinewidth\": 0, \"ticks\": \"\"}}, \"type\": \"scattermapbox\"}], \"scatterpolar\": [{\"marker\": {\"colorbar\": {\"outlinewidth\": 0, \"ticks\": \"\"}}, \"type\": \"scatterpolar\"}], \"scatterpolargl\": [{\"marker\": {\"colorbar\": {\"outlinewidth\": 0, \"ticks\": \"\"}}, \"type\": \"scatterpolargl\"}], \"scatterternary\": [{\"marker\": {\"colorbar\": {\"outlinewidth\": 0, \"ticks\": \"\"}}, \"type\": \"scatterternary\"}], \"surface\": [{\"colorbar\": {\"outlinewidth\": 0, \"ticks\": \"\"}, \"colorscale\": [[0.0, \"#0d0887\"], [0.1111111111111111, \"#46039f\"], [0.2222222222222222, \"#7201a8\"], [0.3333333333333333, \"#9c179e\"], [0.4444444444444444, \"#bd3786\"], [0.5555555555555556, \"#d8576b\"], [0.6666666666666666, \"#ed7953\"], [0.7777777777777778, \"#fb9f3a\"], [0.8888888888888888, \"#fdca26\"], [1.0, \"#f0f921\"]], \"type\": \"surface\"}], \"table\": [{\"cells\": {\"fill\": {\"color\": \"#EBF0F8\"}, \"line\": {\"color\": \"white\"}}, \"header\": {\"fill\": {\"color\": \"#C8D4E3\"}, \"line\": {\"color\": \"white\"}}, \"type\": \"table\"}]}, \"layout\": {\"annotationdefaults\": {\"arrowcolor\": \"#2a3f5f\", \"arrowhead\": 0, \"arrowwidth\": 1}, \"coloraxis\": {\"colorbar\": {\"outlinewidth\": 0, \"ticks\": \"\"}}, \"colorscale\": {\"diverging\": [[0, \"#8e0152\"], [0.1, \"#c51b7d\"], [0.2, \"#de77ae\"], [0.3, \"#f1b6da\"], [0.4, \"#fde0ef\"], [0.5, \"#f7f7f7\"], [0.6, \"#e6f5d0\"], [0.7, \"#b8e186\"], [0.8, \"#7fbc41\"], [0.9, \"#4d9221\"], [1, \"#276419\"]], \"sequential\": [[0.0, \"#0d0887\"], [0.1111111111111111, \"#46039f\"], [0.2222222222222222, \"#7201a8\"], [0.3333333333333333, \"#9c179e\"], [0.4444444444444444, \"#bd3786\"], [0.5555555555555556, \"#d8576b\"], [0.6666666666666666, \"#ed7953\"], [0.7777777777777778, \"#fb9f3a\"], [0.8888888888888888, \"#fdca26\"], [1.0, \"#f0f921\"]], \"sequentialminus\": [[0.0, \"#0d0887\"], [0.1111111111111111, \"#46039f\"], [0.2222222222222222, \"#7201a8\"], [0.3333333333333333, \"#9c179e\"], [0.4444444444444444, \"#bd3786\"], [0.5555555555555556, \"#d8576b\"], [0.6666666666666666, \"#ed7953\"], [0.7777777777777778, \"#fb9f3a\"], [0.8888888888888888, \"#fdca26\"], [1.0, \"#f0f921\"]]}, \"colorway\": [\"#636efa\", \"#EF553B\", \"#00cc96\", \"#ab63fa\", \"#FFA15A\", \"#19d3f3\", \"#FF6692\", \"#B6E880\", \"#FF97FF\", \"#FECB52\"], \"font\": {\"color\": \"#2a3f5f\"}, \"geo\": {\"bgcolor\": \"white\", \"lakecolor\": \"white\", \"landcolor\": \"#E5ECF6\", \"showlakes\": true, \"showland\": true, \"subunitcolor\": \"white\"}, \"hoverlabel\": {\"align\": \"left\"}, \"hovermode\": \"closest\", \"mapbox\": {\"style\": \"light\"}, \"paper_bgcolor\": \"white\", \"plot_bgcolor\": \"#E5ECF6\", \"polar\": {\"angularaxis\": {\"gridcolor\": \"white\", \"linecolor\": \"white\", \"ticks\": \"\"}, \"bgcolor\": \"#E5ECF6\", \"radialaxis\": {\"gridcolor\": \"white\", \"linecolor\": \"white\", \"ticks\": \"\"}}, \"scene\": {\"xaxis\": {\"backgroundcolor\": \"#E5ECF6\", \"gridcolor\": \"white\", \"gridwidth\": 2, \"linecolor\": \"white\", \"showbackground\": true, \"ticks\": \"\", \"zerolinecolor\": \"white\"}, \"yaxis\": {\"backgroundcolor\": \"#E5ECF6\", \"gridcolor\": \"white\", \"gridwidth\": 2, \"linecolor\": \"white\", \"showbackground\": true, \"ticks\": \"\", \"zerolinecolor\": \"white\"}, \"zaxis\": {\"backgroundcolor\": \"#E5ECF6\", \"gridcolor\": \"white\", \"gridwidth\": 2, \"linecolor\": \"white\", \"showbackground\": true, \"ticks\": \"\", \"zerolinecolor\": \"white\"}}, \"shapedefaults\": {\"line\": {\"color\": \"#2a3f5f\"}}, \"ternary\": {\"aaxis\": {\"gridcolor\": \"white\", \"linecolor\": \"white\", \"ticks\": \"\"}, \"baxis\": {\"gridcolor\": \"white\", \"linecolor\": \"white\", \"ticks\": \"\"}, \"bgcolor\": \"#E5ECF6\", \"caxis\": {\"gridcolor\": \"white\", \"linecolor\": \"white\", \"ticks\": \"\"}}, \"title\": {\"x\": 0.05}, \"xaxis\": {\"automargin\": true, \"gridcolor\": \"white\", \"linecolor\": \"white\", \"ticks\": \"\", \"title\": {\"standoff\": 15}, \"zerolinecolor\": \"white\", \"zerolinewidth\": 2}, \"yaxis\": {\"automargin\": true, \"gridcolor\": \"white\", \"linecolor\": \"white\", \"ticks\": \"\", \"title\": {\"standoff\": 15}, \"zerolinecolor\": \"white\", \"zerolinewidth\": 2}}}, \"title\": {\"font\": {\"color\": \"#4D5663\"}}, \"xaxis\": {\"gridcolor\": \"#E1E5ED\", \"showgrid\": true, \"tickfont\": {\"color\": \"#4D5663\"}, \"title\": {\"font\": {\"color\": \"#4D5663\"}, \"text\": \"\"}, \"zerolinecolor\": \"#E1E5ED\"}, \"yaxis\": {\"gridcolor\": \"#E1E5ED\", \"showgrid\": true, \"tickfont\": {\"color\": \"#4D5663\"}, \"title\": {\"font\": {\"color\": \"#4D5663\"}, \"text\": \"\"}, \"zerolinecolor\": \"#E1E5ED\"}},                        {\"showLink\": true, \"linkText\": \"Export to plot.ly\", \"plotlyServerURL\": \"https://plot.ly\", \"responsive\": true}                    ).then(function(){\n",
       "                            \n",
       "var gd = document.getElementById('5dda751e-f05b-4273-b302-35b3012fb434');\n",
       "var x = new MutationObserver(function (mutations, observer) {{\n",
       "        var display = window.getComputedStyle(gd).display;\n",
       "        if (!display || display === 'none') {{\n",
       "            console.log([gd, 'removed!']);\n",
       "            Plotly.purge(gd);\n",
       "            observer.disconnect();\n",
       "        }}\n",
       "}});\n",
       "\n",
       "// Listen for the removal of the full notebook cells\n",
       "var notebookContainer = gd.closest('#notebook-container');\n",
       "if (notebookContainer) {{\n",
       "    x.observe(notebookContainer, {childList: true});\n",
       "}}\n",
       "\n",
       "// Listen for the clearing of the current output cell\n",
       "var outputEl = gd.closest('.output');\n",
       "if (outputEl) {{\n",
       "    x.observe(outputEl, {childList: true});\n",
       "}}\n",
       "\n",
       "                        })                };                });            </script>        </div>"
      ]
     },
     "metadata": {},
     "output_type": "display_data"
    }
   ],
   "source": [
    "df.iplot(kind='scatter',x='A',y='B')"
   ]
  },
  {
   "cell_type": "code",
   "execution_count": 19,
   "metadata": {
    "colab": {
     "base_uri": "https://localhost:8080/",
     "height": 542
    },
    "id": "o9XB10SJbxvL",
    "outputId": "c89b319d-c8cb-45ee-fd78-ad22ce5f254d"
   },
   "outputs": [
    {
     "data": {
      "application/vnd.plotly.v1+json": {
       "config": {
        "linkText": "Export to plot.ly",
        "plotlyServerURL": "https://plot.ly",
        "showLink": true
       },
       "data": [
        {
         "line": {
          "color": "rgba(255, 153, 51, 1.0)",
          "dash": "solid",
          "shape": "linear",
          "width": 1.3
         },
         "marker": {
          "size": 10,
          "symbol": "circle"
         },
         "mode": "markers",
         "name": "B",
         "text": "",
         "type": "scatter",
         "x": [
          2.3050789463764794,
          -0.34544828836374125,
          -1.67491216027255,
          1.207318891717801,
          1.406343778561469,
          -1.112345759784398,
          0.9446789832334939,
          -0.38728675731145373,
          1.3079689084749777,
          -1.8069718036199587,
          0.18825627165035458,
          0.7147828258451806,
          0.44192463870483806,
          -0.49552350971023745,
          -0.322800551035353,
          -0.47433961294441596,
          0.1690883770206803,
          1.2017852529943827,
          -0.1647321336067996,
          -2.3955741265632238,
          -1.4758945487582762,
          0.962445834012295,
          0.6653252839778693,
          -0.41880202344092315,
          0.04627068636022785,
          -1.5185646666381192,
          -1.9938509523173815,
          -0.02240060509745099,
          1.1809831611785004,
          1.8801658934707632,
          1.0292593510337478,
          0.5949117331367149,
          -1.4514506277441748,
          -0.42502646313780856,
          -0.5797899821504993,
          -0.3581390966891277,
          -0.11892770450618409,
          1.0926209083884437,
          0.7050466192122445,
          1.2375172874906153,
          1.4072020975357857,
          0.1575926374578665,
          0.09396028076688108,
          0.14998003245337374,
          1.0006464685965815,
          0.33651897865653907,
          -0.10778939786155453,
          1.7762185531905517,
          0.2433230426333405,
          0.6573414720203437,
          1.4987623651774449,
          0.49100570061636384,
          1.2227945124611799,
          2.0356825538745524,
          0.8960277472124333,
          1.36131627749611,
          -0.01900927284926094,
          -1.123782384244974,
          1.2024407293884816,
          1.7533041101596796,
          2.620102735759663,
          -0.9243960301190819,
          -0.9071010052827692,
          0.7084815208490741,
          -1.0164586395797204,
          -0.9726287488168607,
          -2.0757409191988963,
          -0.4056514932145701,
          -0.4481169032862055,
          0.2999481669822941,
          0.19005409313068863,
          0.20944993347497673,
          1.8535331783127982,
          0.10833367793192912,
          0.9909118192752894,
          -0.18072276264957435,
          -0.27175596496885357,
          -0.3472891841078953,
          -1.3499379537122178,
          -0.24361265423740075,
          0.1823942082455205,
          -0.11683434885062603,
          -1.9611819118675928,
          -0.10124747971168387,
          -0.749519554450631,
          -0.17063962763320573,
          -1.2924000897834025,
          -1.6363561634291774,
          0.31683188489615605,
          0.6767344738274852,
          -1.0561931295586227,
          -2.0631652991243787,
          -1.0225199848753768,
          -1.2074155289643396,
          -0.8839567228513001,
          -0.8159284734528616,
          0.6274816714657359,
          0.9671930475443826,
          -0.27905397820525646,
          -0.9770832801408772
         ],
         "y": [
          1.4564807911980027,
          -0.5614415874815344,
          0.7690489749287509,
          1.0745673115894976,
          -0.271650350545234,
          -0.20417947351171928,
          -1.5365217665036148,
          0.5271922043293188,
          -1.486583190597354,
          -1.5334484919941673,
          0.18382394706883978,
          0.1344370782872019,
          1.89905090532156,
          0.6202785332919339,
          -0.45664038843023563,
          1.963126990847653,
          1.9369875383030903,
          1.0315771467695134,
          -0.3453335682768677,
          0.419546447142365,
          -1.225897365627275,
          -1.0887921399676082,
          -0.21263698997725416,
          0.7718171320935325,
          0.44145428919101193,
          -0.8468114640841646,
          0.8526936191566775,
          -0.969355231696488,
          1.5408969327530821,
          -0.04465803887874416,
          -1.0342638822781325,
          0.6075784794307824,
          0.020845455399087748,
          -0.07959203078638698,
          -1.2885327382950438,
          -0.5858261320243598,
          0.2784538175232755,
          0.4716251609013261,
          0.007586918494829923,
          -1.2311721843538845,
          2.263014081539277,
          -0.9445712149750263,
          -0.7801126734963407,
          -0.006307163966420759,
          0.19209429370631423,
          1.4849821222922432,
          -0.402824407169826,
          -0.1535552795197902,
          -0.45306006334156884,
          0.2723494038368278,
          -0.6969797568377994,
          1.3148469312491482,
          -0.4400678278705646,
          -0.5226856061207958,
          -1.2685087511392623,
          -0.7121002063687039,
          0.4922848868566591,
          1.4080506928339986,
          -0.6740640131990668,
          0.47859781454993217,
          0.10407954693386935,
          -0.09125617817861699,
          -1.3627903947738937,
          -1.280305454707673,
          1.0676149669634278,
          0.10098596940395344,
          0.3087197869344185,
          0.3416669711946196,
          -0.2456850602506728,
          -0.8054522753423443,
          -0.3581753964308596,
          1.2538718650534761,
          1.5812764633116267,
          -1.2869964689617,
          0.5134159053161619,
          1.0984181861336495,
          -0.939853681439602,
          -0.7874505356156805,
          -0.5251233813470253,
          1.426548881182392,
          0.07011129375683395,
          0.3043731808315209,
          1.3453342775245516,
          0.8797891435530668,
          0.08819796782327056,
          0.7785641262132776,
          -0.32251783943947593,
          -1.103603729843237,
          1.561003488139711,
          -0.8993481124743095,
          2.527656223510702,
          -0.035756115285384076,
          2.32755828482868,
          0.8455828949792558,
          1.4395208708887242,
          -0.13261587328217128,
          0.9653423868237719,
          -1.5985346969508438,
          -0.9772914721691849,
          0.6427378710046866
         ]
        }
       ],
       "layout": {
        "legend": {
         "bgcolor": "#F5F6F9",
         "font": {
          "color": "#4D5663"
         }
        },
        "paper_bgcolor": "#F5F6F9",
        "plot_bgcolor": "#F5F6F9",
        "template": {
         "data": {
          "bar": [
           {
            "error_x": {
             "color": "#2a3f5f"
            },
            "error_y": {
             "color": "#2a3f5f"
            },
            "marker": {
             "line": {
              "color": "#E5ECF6",
              "width": 0.5
             }
            },
            "type": "bar"
           }
          ],
          "barpolar": [
           {
            "marker": {
             "line": {
              "color": "#E5ECF6",
              "width": 0.5
             }
            },
            "type": "barpolar"
           }
          ],
          "carpet": [
           {
            "aaxis": {
             "endlinecolor": "#2a3f5f",
             "gridcolor": "white",
             "linecolor": "white",
             "minorgridcolor": "white",
             "startlinecolor": "#2a3f5f"
            },
            "baxis": {
             "endlinecolor": "#2a3f5f",
             "gridcolor": "white",
             "linecolor": "white",
             "minorgridcolor": "white",
             "startlinecolor": "#2a3f5f"
            },
            "type": "carpet"
           }
          ],
          "choropleth": [
           {
            "colorbar": {
             "outlinewidth": 0,
             "ticks": ""
            },
            "type": "choropleth"
           }
          ],
          "contour": [
           {
            "colorbar": {
             "outlinewidth": 0,
             "ticks": ""
            },
            "colorscale": [
             [
              0,
              "#0d0887"
             ],
             [
              0.1111111111111111,
              "#46039f"
             ],
             [
              0.2222222222222222,
              "#7201a8"
             ],
             [
              0.3333333333333333,
              "#9c179e"
             ],
             [
              0.4444444444444444,
              "#bd3786"
             ],
             [
              0.5555555555555556,
              "#d8576b"
             ],
             [
              0.6666666666666666,
              "#ed7953"
             ],
             [
              0.7777777777777778,
              "#fb9f3a"
             ],
             [
              0.8888888888888888,
              "#fdca26"
             ],
             [
              1,
              "#f0f921"
             ]
            ],
            "type": "contour"
           }
          ],
          "contourcarpet": [
           {
            "colorbar": {
             "outlinewidth": 0,
             "ticks": ""
            },
            "type": "contourcarpet"
           }
          ],
          "heatmap": [
           {
            "colorbar": {
             "outlinewidth": 0,
             "ticks": ""
            },
            "colorscale": [
             [
              0,
              "#0d0887"
             ],
             [
              0.1111111111111111,
              "#46039f"
             ],
             [
              0.2222222222222222,
              "#7201a8"
             ],
             [
              0.3333333333333333,
              "#9c179e"
             ],
             [
              0.4444444444444444,
              "#bd3786"
             ],
             [
              0.5555555555555556,
              "#d8576b"
             ],
             [
              0.6666666666666666,
              "#ed7953"
             ],
             [
              0.7777777777777778,
              "#fb9f3a"
             ],
             [
              0.8888888888888888,
              "#fdca26"
             ],
             [
              1,
              "#f0f921"
             ]
            ],
            "type": "heatmap"
           }
          ],
          "heatmapgl": [
           {
            "colorbar": {
             "outlinewidth": 0,
             "ticks": ""
            },
            "colorscale": [
             [
              0,
              "#0d0887"
             ],
             [
              0.1111111111111111,
              "#46039f"
             ],
             [
              0.2222222222222222,
              "#7201a8"
             ],
             [
              0.3333333333333333,
              "#9c179e"
             ],
             [
              0.4444444444444444,
              "#bd3786"
             ],
             [
              0.5555555555555556,
              "#d8576b"
             ],
             [
              0.6666666666666666,
              "#ed7953"
             ],
             [
              0.7777777777777778,
              "#fb9f3a"
             ],
             [
              0.8888888888888888,
              "#fdca26"
             ],
             [
              1,
              "#f0f921"
             ]
            ],
            "type": "heatmapgl"
           }
          ],
          "histogram": [
           {
            "marker": {
             "colorbar": {
              "outlinewidth": 0,
              "ticks": ""
             }
            },
            "type": "histogram"
           }
          ],
          "histogram2d": [
           {
            "colorbar": {
             "outlinewidth": 0,
             "ticks": ""
            },
            "colorscale": [
             [
              0,
              "#0d0887"
             ],
             [
              0.1111111111111111,
              "#46039f"
             ],
             [
              0.2222222222222222,
              "#7201a8"
             ],
             [
              0.3333333333333333,
              "#9c179e"
             ],
             [
              0.4444444444444444,
              "#bd3786"
             ],
             [
              0.5555555555555556,
              "#d8576b"
             ],
             [
              0.6666666666666666,
              "#ed7953"
             ],
             [
              0.7777777777777778,
              "#fb9f3a"
             ],
             [
              0.8888888888888888,
              "#fdca26"
             ],
             [
              1,
              "#f0f921"
             ]
            ],
            "type": "histogram2d"
           }
          ],
          "histogram2dcontour": [
           {
            "colorbar": {
             "outlinewidth": 0,
             "ticks": ""
            },
            "colorscale": [
             [
              0,
              "#0d0887"
             ],
             [
              0.1111111111111111,
              "#46039f"
             ],
             [
              0.2222222222222222,
              "#7201a8"
             ],
             [
              0.3333333333333333,
              "#9c179e"
             ],
             [
              0.4444444444444444,
              "#bd3786"
             ],
             [
              0.5555555555555556,
              "#d8576b"
             ],
             [
              0.6666666666666666,
              "#ed7953"
             ],
             [
              0.7777777777777778,
              "#fb9f3a"
             ],
             [
              0.8888888888888888,
              "#fdca26"
             ],
             [
              1,
              "#f0f921"
             ]
            ],
            "type": "histogram2dcontour"
           }
          ],
          "mesh3d": [
           {
            "colorbar": {
             "outlinewidth": 0,
             "ticks": ""
            },
            "type": "mesh3d"
           }
          ],
          "parcoords": [
           {
            "line": {
             "colorbar": {
              "outlinewidth": 0,
              "ticks": ""
             }
            },
            "type": "parcoords"
           }
          ],
          "pie": [
           {
            "automargin": true,
            "type": "pie"
           }
          ],
          "scatter": [
           {
            "marker": {
             "colorbar": {
              "outlinewidth": 0,
              "ticks": ""
             }
            },
            "type": "scatter"
           }
          ],
          "scatter3d": [
           {
            "line": {
             "colorbar": {
              "outlinewidth": 0,
              "ticks": ""
             }
            },
            "marker": {
             "colorbar": {
              "outlinewidth": 0,
              "ticks": ""
             }
            },
            "type": "scatter3d"
           }
          ],
          "scattercarpet": [
           {
            "marker": {
             "colorbar": {
              "outlinewidth": 0,
              "ticks": ""
             }
            },
            "type": "scattercarpet"
           }
          ],
          "scattergeo": [
           {
            "marker": {
             "colorbar": {
              "outlinewidth": 0,
              "ticks": ""
             }
            },
            "type": "scattergeo"
           }
          ],
          "scattergl": [
           {
            "marker": {
             "colorbar": {
              "outlinewidth": 0,
              "ticks": ""
             }
            },
            "type": "scattergl"
           }
          ],
          "scattermapbox": [
           {
            "marker": {
             "colorbar": {
              "outlinewidth": 0,
              "ticks": ""
             }
            },
            "type": "scattermapbox"
           }
          ],
          "scatterpolar": [
           {
            "marker": {
             "colorbar": {
              "outlinewidth": 0,
              "ticks": ""
             }
            },
            "type": "scatterpolar"
           }
          ],
          "scatterpolargl": [
           {
            "marker": {
             "colorbar": {
              "outlinewidth": 0,
              "ticks": ""
             }
            },
            "type": "scatterpolargl"
           }
          ],
          "scatterternary": [
           {
            "marker": {
             "colorbar": {
              "outlinewidth": 0,
              "ticks": ""
             }
            },
            "type": "scatterternary"
           }
          ],
          "surface": [
           {
            "colorbar": {
             "outlinewidth": 0,
             "ticks": ""
            },
            "colorscale": [
             [
              0,
              "#0d0887"
             ],
             [
              0.1111111111111111,
              "#46039f"
             ],
             [
              0.2222222222222222,
              "#7201a8"
             ],
             [
              0.3333333333333333,
              "#9c179e"
             ],
             [
              0.4444444444444444,
              "#bd3786"
             ],
             [
              0.5555555555555556,
              "#d8576b"
             ],
             [
              0.6666666666666666,
              "#ed7953"
             ],
             [
              0.7777777777777778,
              "#fb9f3a"
             ],
             [
              0.8888888888888888,
              "#fdca26"
             ],
             [
              1,
              "#f0f921"
             ]
            ],
            "type": "surface"
           }
          ],
          "table": [
           {
            "cells": {
             "fill": {
              "color": "#EBF0F8"
             },
             "line": {
              "color": "white"
             }
            },
            "header": {
             "fill": {
              "color": "#C8D4E3"
             },
             "line": {
              "color": "white"
             }
            },
            "type": "table"
           }
          ]
         },
         "layout": {
          "annotationdefaults": {
           "arrowcolor": "#2a3f5f",
           "arrowhead": 0,
           "arrowwidth": 1
          },
          "coloraxis": {
           "colorbar": {
            "outlinewidth": 0,
            "ticks": ""
           }
          },
          "colorscale": {
           "diverging": [
            [
             0,
             "#8e0152"
            ],
            [
             0.1,
             "#c51b7d"
            ],
            [
             0.2,
             "#de77ae"
            ],
            [
             0.3,
             "#f1b6da"
            ],
            [
             0.4,
             "#fde0ef"
            ],
            [
             0.5,
             "#f7f7f7"
            ],
            [
             0.6,
             "#e6f5d0"
            ],
            [
             0.7,
             "#b8e186"
            ],
            [
             0.8,
             "#7fbc41"
            ],
            [
             0.9,
             "#4d9221"
            ],
            [
             1,
             "#276419"
            ]
           ],
           "sequential": [
            [
             0,
             "#0d0887"
            ],
            [
             0.1111111111111111,
             "#46039f"
            ],
            [
             0.2222222222222222,
             "#7201a8"
            ],
            [
             0.3333333333333333,
             "#9c179e"
            ],
            [
             0.4444444444444444,
             "#bd3786"
            ],
            [
             0.5555555555555556,
             "#d8576b"
            ],
            [
             0.6666666666666666,
             "#ed7953"
            ],
            [
             0.7777777777777778,
             "#fb9f3a"
            ],
            [
             0.8888888888888888,
             "#fdca26"
            ],
            [
             1,
             "#f0f921"
            ]
           ],
           "sequentialminus": [
            [
             0,
             "#0d0887"
            ],
            [
             0.1111111111111111,
             "#46039f"
            ],
            [
             0.2222222222222222,
             "#7201a8"
            ],
            [
             0.3333333333333333,
             "#9c179e"
            ],
            [
             0.4444444444444444,
             "#bd3786"
            ],
            [
             0.5555555555555556,
             "#d8576b"
            ],
            [
             0.6666666666666666,
             "#ed7953"
            ],
            [
             0.7777777777777778,
             "#fb9f3a"
            ],
            [
             0.8888888888888888,
             "#fdca26"
            ],
            [
             1,
             "#f0f921"
            ]
           ]
          },
          "colorway": [
           "#636efa",
           "#EF553B",
           "#00cc96",
           "#ab63fa",
           "#FFA15A",
           "#19d3f3",
           "#FF6692",
           "#B6E880",
           "#FF97FF",
           "#FECB52"
          ],
          "font": {
           "color": "#2a3f5f"
          },
          "geo": {
           "bgcolor": "white",
           "lakecolor": "white",
           "landcolor": "#E5ECF6",
           "showlakes": true,
           "showland": true,
           "subunitcolor": "white"
          },
          "hoverlabel": {
           "align": "left"
          },
          "hovermode": "closest",
          "mapbox": {
           "style": "light"
          },
          "paper_bgcolor": "white",
          "plot_bgcolor": "#E5ECF6",
          "polar": {
           "angularaxis": {
            "gridcolor": "white",
            "linecolor": "white",
            "ticks": ""
           },
           "bgcolor": "#E5ECF6",
           "radialaxis": {
            "gridcolor": "white",
            "linecolor": "white",
            "ticks": ""
           }
          },
          "scene": {
           "xaxis": {
            "backgroundcolor": "#E5ECF6",
            "gridcolor": "white",
            "gridwidth": 2,
            "linecolor": "white",
            "showbackground": true,
            "ticks": "",
            "zerolinecolor": "white"
           },
           "yaxis": {
            "backgroundcolor": "#E5ECF6",
            "gridcolor": "white",
            "gridwidth": 2,
            "linecolor": "white",
            "showbackground": true,
            "ticks": "",
            "zerolinecolor": "white"
           },
           "zaxis": {
            "backgroundcolor": "#E5ECF6",
            "gridcolor": "white",
            "gridwidth": 2,
            "linecolor": "white",
            "showbackground": true,
            "ticks": "",
            "zerolinecolor": "white"
           }
          },
          "shapedefaults": {
           "line": {
            "color": "#2a3f5f"
           }
          },
          "ternary": {
           "aaxis": {
            "gridcolor": "white",
            "linecolor": "white",
            "ticks": ""
           },
           "baxis": {
            "gridcolor": "white",
            "linecolor": "white",
            "ticks": ""
           },
           "bgcolor": "#E5ECF6",
           "caxis": {
            "gridcolor": "white",
            "linecolor": "white",
            "ticks": ""
           }
          },
          "title": {
           "x": 0.05
          },
          "xaxis": {
           "automargin": true,
           "gridcolor": "white",
           "linecolor": "white",
           "ticks": "",
           "title": {
            "standoff": 15
           },
           "zerolinecolor": "white",
           "zerolinewidth": 2
          },
          "yaxis": {
           "automargin": true,
           "gridcolor": "white",
           "linecolor": "white",
           "ticks": "",
           "title": {
            "standoff": 15
           },
           "zerolinecolor": "white",
           "zerolinewidth": 2
          }
         }
        },
        "title": {
         "font": {
          "color": "#4D5663"
         }
        },
        "xaxis": {
         "gridcolor": "#E1E5ED",
         "showgrid": true,
         "tickfont": {
          "color": "#4D5663"
         },
         "title": {
          "font": {
           "color": "#4D5663"
          },
          "text": ""
         },
         "zerolinecolor": "#E1E5ED"
        },
        "yaxis": {
         "gridcolor": "#E1E5ED",
         "showgrid": true,
         "tickfont": {
          "color": "#4D5663"
         },
         "title": {
          "font": {
           "color": "#4D5663"
          },
          "text": ""
         },
         "zerolinecolor": "#E1E5ED"
        }
       }
      },
      "text/html": [
       "<div>                            <div id=\"f2ed16a3-07ab-4a0a-b308-ad4bc60aa92f\" class=\"plotly-graph-div\" style=\"height:525px; width:100%;\"></div>            <script type=\"text/javascript\">                require([\"plotly\"], function(Plotly) {                    window.PLOTLYENV=window.PLOTLYENV || {};\n",
       "                    window.PLOTLYENV.BASE_URL='https://plot.ly';                                    if (document.getElementById(\"f2ed16a3-07ab-4a0a-b308-ad4bc60aa92f\")) {                    Plotly.newPlot(                        \"f2ed16a3-07ab-4a0a-b308-ad4bc60aa92f\",                        [{\"line\": {\"color\": \"rgba(255, 153, 51, 1.0)\", \"dash\": \"solid\", \"shape\": \"linear\", \"width\": 1.3}, \"marker\": {\"size\": 10, \"symbol\": \"circle\"}, \"mode\": \"markers\", \"name\": \"B\", \"text\": \"\", \"type\": \"scatter\", \"x\": [2.3050789463764794, -0.34544828836374125, -1.67491216027255, 1.207318891717801, 1.406343778561469, -1.112345759784398, 0.9446789832334939, -0.38728675731145373, 1.3079689084749777, -1.8069718036199587, 0.18825627165035458, 0.7147828258451806, 0.44192463870483806, -0.49552350971023745, -0.322800551035353, -0.47433961294441596, 0.1690883770206803, 1.2017852529943827, -0.1647321336067996, -2.3955741265632238, -1.4758945487582762, 0.962445834012295, 0.6653252839778693, -0.41880202344092315, 0.04627068636022785, -1.5185646666381192, -1.9938509523173815, -0.02240060509745099, 1.1809831611785004, 1.8801658934707632, 1.0292593510337478, 0.5949117331367149, -1.4514506277441748, -0.42502646313780856, -0.5797899821504993, -0.3581390966891277, -0.11892770450618409, 1.0926209083884437, 0.7050466192122445, 1.2375172874906153, 1.4072020975357857, 0.1575926374578665, 0.09396028076688108, 0.14998003245337374, 1.0006464685965815, 0.33651897865653907, -0.10778939786155453, 1.7762185531905517, 0.2433230426333405, 0.6573414720203437, 1.4987623651774449, 0.49100570061636384, 1.2227945124611799, 2.0356825538745524, 0.8960277472124333, 1.36131627749611, -0.01900927284926094, -1.123782384244974, 1.2024407293884816, 1.7533041101596796, 2.620102735759663, -0.9243960301190819, -0.9071010052827692, 0.7084815208490741, -1.0164586395797204, -0.9726287488168607, -2.0757409191988963, -0.4056514932145701, -0.4481169032862055, 0.2999481669822941, 0.19005409313068863, 0.20944993347497673, 1.8535331783127982, 0.10833367793192912, 0.9909118192752894, -0.18072276264957435, -0.27175596496885357, -0.3472891841078953, -1.3499379537122178, -0.24361265423740075, 0.1823942082455205, -0.11683434885062603, -1.9611819118675928, -0.10124747971168387, -0.749519554450631, -0.17063962763320573, -1.2924000897834025, -1.6363561634291774, 0.31683188489615605, 0.6767344738274852, -1.0561931295586227, -2.0631652991243787, -1.0225199848753768, -1.2074155289643396, -0.8839567228513001, -0.8159284734528616, 0.6274816714657359, 0.9671930475443826, -0.27905397820525646, -0.9770832801408772], \"y\": [1.4564807911980027, -0.5614415874815344, 0.7690489749287509, 1.0745673115894976, -0.271650350545234, -0.20417947351171928, -1.5365217665036148, 0.5271922043293188, -1.486583190597354, -1.5334484919941673, 0.18382394706883978, 0.1344370782872019, 1.89905090532156, 0.6202785332919339, -0.45664038843023563, 1.963126990847653, 1.9369875383030903, 1.0315771467695134, -0.3453335682768677, 0.419546447142365, -1.225897365627275, -1.0887921399676082, -0.21263698997725416, 0.7718171320935325, 0.44145428919101193, -0.8468114640841646, 0.8526936191566775, -0.969355231696488, 1.5408969327530821, -0.04465803887874416, -1.0342638822781325, 0.6075784794307824, 0.020845455399087748, -0.07959203078638698, -1.2885327382950438, -0.5858261320243598, 0.2784538175232755, 0.4716251609013261, 0.007586918494829923, -1.2311721843538845, 2.263014081539277, -0.9445712149750263, -0.7801126734963407, -0.006307163966420759, 0.19209429370631423, 1.4849821222922432, -0.402824407169826, -0.1535552795197902, -0.45306006334156884, 0.2723494038368278, -0.6969797568377994, 1.3148469312491482, -0.4400678278705646, -0.5226856061207958, -1.2685087511392623, -0.7121002063687039, 0.4922848868566591, 1.4080506928339986, -0.6740640131990668, 0.47859781454993217, 0.10407954693386935, -0.09125617817861699, -1.3627903947738937, -1.280305454707673, 1.0676149669634278, 0.10098596940395344, 0.3087197869344185, 0.3416669711946196, -0.2456850602506728, -0.8054522753423443, -0.3581753964308596, 1.2538718650534761, 1.5812764633116267, -1.2869964689617, 0.5134159053161619, 1.0984181861336495, -0.939853681439602, -0.7874505356156805, -0.5251233813470253, 1.426548881182392, 0.07011129375683395, 0.3043731808315209, 1.3453342775245516, 0.8797891435530668, 0.08819796782327056, 0.7785641262132776, -0.32251783943947593, -1.103603729843237, 1.561003488139711, -0.8993481124743095, 2.527656223510702, -0.035756115285384076, 2.32755828482868, 0.8455828949792558, 1.4395208708887242, -0.13261587328217128, 0.9653423868237719, -1.5985346969508438, -0.9772914721691849, 0.6427378710046866]}],                        {\"legend\": {\"bgcolor\": \"#F5F6F9\", \"font\": {\"color\": \"#4D5663\"}}, \"paper_bgcolor\": \"#F5F6F9\", \"plot_bgcolor\": \"#F5F6F9\", \"template\": {\"data\": {\"bar\": [{\"error_x\": {\"color\": \"#2a3f5f\"}, \"error_y\": {\"color\": \"#2a3f5f\"}, \"marker\": {\"line\": {\"color\": \"#E5ECF6\", \"width\": 0.5}}, \"type\": \"bar\"}], \"barpolar\": [{\"marker\": {\"line\": {\"color\": \"#E5ECF6\", \"width\": 0.5}}, \"type\": \"barpolar\"}], \"carpet\": [{\"aaxis\": {\"endlinecolor\": \"#2a3f5f\", \"gridcolor\": \"white\", \"linecolor\": \"white\", \"minorgridcolor\": \"white\", \"startlinecolor\": \"#2a3f5f\"}, \"baxis\": {\"endlinecolor\": \"#2a3f5f\", \"gridcolor\": \"white\", \"linecolor\": \"white\", \"minorgridcolor\": \"white\", \"startlinecolor\": \"#2a3f5f\"}, \"type\": \"carpet\"}], \"choropleth\": [{\"colorbar\": {\"outlinewidth\": 0, \"ticks\": \"\"}, \"type\": \"choropleth\"}], \"contour\": [{\"colorbar\": {\"outlinewidth\": 0, \"ticks\": \"\"}, \"colorscale\": [[0.0, \"#0d0887\"], [0.1111111111111111, \"#46039f\"], [0.2222222222222222, \"#7201a8\"], [0.3333333333333333, \"#9c179e\"], [0.4444444444444444, \"#bd3786\"], [0.5555555555555556, \"#d8576b\"], [0.6666666666666666, \"#ed7953\"], [0.7777777777777778, \"#fb9f3a\"], [0.8888888888888888, \"#fdca26\"], [1.0, \"#f0f921\"]], \"type\": \"contour\"}], \"contourcarpet\": [{\"colorbar\": {\"outlinewidth\": 0, \"ticks\": \"\"}, \"type\": \"contourcarpet\"}], \"heatmap\": [{\"colorbar\": {\"outlinewidth\": 0, \"ticks\": \"\"}, \"colorscale\": [[0.0, \"#0d0887\"], [0.1111111111111111, \"#46039f\"], [0.2222222222222222, \"#7201a8\"], [0.3333333333333333, \"#9c179e\"], [0.4444444444444444, \"#bd3786\"], [0.5555555555555556, \"#d8576b\"], [0.6666666666666666, \"#ed7953\"], [0.7777777777777778, \"#fb9f3a\"], [0.8888888888888888, \"#fdca26\"], [1.0, \"#f0f921\"]], \"type\": \"heatmap\"}], \"heatmapgl\": [{\"colorbar\": {\"outlinewidth\": 0, \"ticks\": \"\"}, \"colorscale\": [[0.0, \"#0d0887\"], [0.1111111111111111, \"#46039f\"], [0.2222222222222222, \"#7201a8\"], [0.3333333333333333, \"#9c179e\"], [0.4444444444444444, \"#bd3786\"], [0.5555555555555556, \"#d8576b\"], [0.6666666666666666, \"#ed7953\"], [0.7777777777777778, \"#fb9f3a\"], [0.8888888888888888, \"#fdca26\"], [1.0, \"#f0f921\"]], \"type\": \"heatmapgl\"}], \"histogram\": [{\"marker\": {\"colorbar\": {\"outlinewidth\": 0, \"ticks\": \"\"}}, \"type\": \"histogram\"}], \"histogram2d\": [{\"colorbar\": {\"outlinewidth\": 0, \"ticks\": \"\"}, \"colorscale\": [[0.0, \"#0d0887\"], [0.1111111111111111, \"#46039f\"], [0.2222222222222222, \"#7201a8\"], [0.3333333333333333, \"#9c179e\"], [0.4444444444444444, \"#bd3786\"], [0.5555555555555556, \"#d8576b\"], [0.6666666666666666, \"#ed7953\"], [0.7777777777777778, \"#fb9f3a\"], [0.8888888888888888, \"#fdca26\"], [1.0, \"#f0f921\"]], \"type\": \"histogram2d\"}], \"histogram2dcontour\": [{\"colorbar\": {\"outlinewidth\": 0, \"ticks\": \"\"}, \"colorscale\": [[0.0, \"#0d0887\"], [0.1111111111111111, \"#46039f\"], [0.2222222222222222, \"#7201a8\"], [0.3333333333333333, \"#9c179e\"], [0.4444444444444444, \"#bd3786\"], [0.5555555555555556, \"#d8576b\"], [0.6666666666666666, \"#ed7953\"], [0.7777777777777778, \"#fb9f3a\"], [0.8888888888888888, \"#fdca26\"], [1.0, \"#f0f921\"]], \"type\": \"histogram2dcontour\"}], \"mesh3d\": [{\"colorbar\": {\"outlinewidth\": 0, \"ticks\": \"\"}, \"type\": \"mesh3d\"}], \"parcoords\": [{\"line\": {\"colorbar\": {\"outlinewidth\": 0, \"ticks\": \"\"}}, \"type\": \"parcoords\"}], \"pie\": [{\"automargin\": true, \"type\": \"pie\"}], \"scatter\": [{\"marker\": {\"colorbar\": {\"outlinewidth\": 0, \"ticks\": \"\"}}, \"type\": \"scatter\"}], \"scatter3d\": [{\"line\": {\"colorbar\": {\"outlinewidth\": 0, \"ticks\": \"\"}}, \"marker\": {\"colorbar\": {\"outlinewidth\": 0, \"ticks\": \"\"}}, \"type\": \"scatter3d\"}], \"scattercarpet\": [{\"marker\": {\"colorbar\": {\"outlinewidth\": 0, \"ticks\": \"\"}}, \"type\": \"scattercarpet\"}], \"scattergeo\": [{\"marker\": {\"colorbar\": {\"outlinewidth\": 0, \"ticks\": \"\"}}, \"type\": \"scattergeo\"}], \"scattergl\": [{\"marker\": {\"colorbar\": {\"outlinewidth\": 0, \"ticks\": \"\"}}, \"type\": \"scattergl\"}], \"scattermapbox\": [{\"marker\": {\"colorbar\": {\"outlinewidth\": 0, \"ticks\": \"\"}}, \"type\": \"scattermapbox\"}], \"scatterpolar\": [{\"marker\": {\"colorbar\": {\"outlinewidth\": 0, \"ticks\": \"\"}}, \"type\": \"scatterpolar\"}], \"scatterpolargl\": [{\"marker\": {\"colorbar\": {\"outlinewidth\": 0, \"ticks\": \"\"}}, \"type\": \"scatterpolargl\"}], \"scatterternary\": [{\"marker\": {\"colorbar\": {\"outlinewidth\": 0, \"ticks\": \"\"}}, \"type\": \"scatterternary\"}], \"surface\": [{\"colorbar\": {\"outlinewidth\": 0, \"ticks\": \"\"}, \"colorscale\": [[0.0, \"#0d0887\"], [0.1111111111111111, \"#46039f\"], [0.2222222222222222, \"#7201a8\"], [0.3333333333333333, \"#9c179e\"], [0.4444444444444444, \"#bd3786\"], [0.5555555555555556, \"#d8576b\"], [0.6666666666666666, \"#ed7953\"], [0.7777777777777778, \"#fb9f3a\"], [0.8888888888888888, \"#fdca26\"], [1.0, \"#f0f921\"]], \"type\": \"surface\"}], \"table\": [{\"cells\": {\"fill\": {\"color\": \"#EBF0F8\"}, \"line\": {\"color\": \"white\"}}, \"header\": {\"fill\": {\"color\": \"#C8D4E3\"}, \"line\": {\"color\": \"white\"}}, \"type\": \"table\"}]}, \"layout\": {\"annotationdefaults\": {\"arrowcolor\": \"#2a3f5f\", \"arrowhead\": 0, \"arrowwidth\": 1}, \"coloraxis\": {\"colorbar\": {\"outlinewidth\": 0, \"ticks\": \"\"}}, \"colorscale\": {\"diverging\": [[0, \"#8e0152\"], [0.1, \"#c51b7d\"], [0.2, \"#de77ae\"], [0.3, \"#f1b6da\"], [0.4, \"#fde0ef\"], [0.5, \"#f7f7f7\"], [0.6, \"#e6f5d0\"], [0.7, \"#b8e186\"], [0.8, \"#7fbc41\"], [0.9, \"#4d9221\"], [1, \"#276419\"]], \"sequential\": [[0.0, \"#0d0887\"], [0.1111111111111111, \"#46039f\"], [0.2222222222222222, \"#7201a8\"], [0.3333333333333333, \"#9c179e\"], [0.4444444444444444, \"#bd3786\"], [0.5555555555555556, \"#d8576b\"], [0.6666666666666666, \"#ed7953\"], [0.7777777777777778, \"#fb9f3a\"], [0.8888888888888888, \"#fdca26\"], [1.0, \"#f0f921\"]], \"sequentialminus\": [[0.0, \"#0d0887\"], [0.1111111111111111, \"#46039f\"], [0.2222222222222222, \"#7201a8\"], [0.3333333333333333, \"#9c179e\"], [0.4444444444444444, \"#bd3786\"], [0.5555555555555556, \"#d8576b\"], [0.6666666666666666, \"#ed7953\"], [0.7777777777777778, \"#fb9f3a\"], [0.8888888888888888, \"#fdca26\"], [1.0, \"#f0f921\"]]}, \"colorway\": [\"#636efa\", \"#EF553B\", \"#00cc96\", \"#ab63fa\", \"#FFA15A\", \"#19d3f3\", \"#FF6692\", \"#B6E880\", \"#FF97FF\", \"#FECB52\"], \"font\": {\"color\": \"#2a3f5f\"}, \"geo\": {\"bgcolor\": \"white\", \"lakecolor\": \"white\", \"landcolor\": \"#E5ECF6\", \"showlakes\": true, \"showland\": true, \"subunitcolor\": \"white\"}, \"hoverlabel\": {\"align\": \"left\"}, \"hovermode\": \"closest\", \"mapbox\": {\"style\": \"light\"}, \"paper_bgcolor\": \"white\", \"plot_bgcolor\": \"#E5ECF6\", \"polar\": {\"angularaxis\": {\"gridcolor\": \"white\", \"linecolor\": \"white\", \"ticks\": \"\"}, \"bgcolor\": \"#E5ECF6\", \"radialaxis\": {\"gridcolor\": \"white\", \"linecolor\": \"white\", \"ticks\": \"\"}}, \"scene\": {\"xaxis\": {\"backgroundcolor\": \"#E5ECF6\", \"gridcolor\": \"white\", \"gridwidth\": 2, \"linecolor\": \"white\", \"showbackground\": true, \"ticks\": \"\", \"zerolinecolor\": \"white\"}, \"yaxis\": {\"backgroundcolor\": \"#E5ECF6\", \"gridcolor\": \"white\", \"gridwidth\": 2, \"linecolor\": \"white\", \"showbackground\": true, \"ticks\": \"\", \"zerolinecolor\": \"white\"}, \"zaxis\": {\"backgroundcolor\": \"#E5ECF6\", \"gridcolor\": \"white\", \"gridwidth\": 2, \"linecolor\": \"white\", \"showbackground\": true, \"ticks\": \"\", \"zerolinecolor\": \"white\"}}, \"shapedefaults\": {\"line\": {\"color\": \"#2a3f5f\"}}, \"ternary\": {\"aaxis\": {\"gridcolor\": \"white\", \"linecolor\": \"white\", \"ticks\": \"\"}, \"baxis\": {\"gridcolor\": \"white\", \"linecolor\": \"white\", \"ticks\": \"\"}, \"bgcolor\": \"#E5ECF6\", \"caxis\": {\"gridcolor\": \"white\", \"linecolor\": \"white\", \"ticks\": \"\"}}, \"title\": {\"x\": 0.05}, \"xaxis\": {\"automargin\": true, \"gridcolor\": \"white\", \"linecolor\": \"white\", \"ticks\": \"\", \"title\": {\"standoff\": 15}, \"zerolinecolor\": \"white\", \"zerolinewidth\": 2}, \"yaxis\": {\"automargin\": true, \"gridcolor\": \"white\", \"linecolor\": \"white\", \"ticks\": \"\", \"title\": {\"standoff\": 15}, \"zerolinecolor\": \"white\", \"zerolinewidth\": 2}}}, \"title\": {\"font\": {\"color\": \"#4D5663\"}}, \"xaxis\": {\"gridcolor\": \"#E1E5ED\", \"showgrid\": true, \"tickfont\": {\"color\": \"#4D5663\"}, \"title\": {\"font\": {\"color\": \"#4D5663\"}, \"text\": \"\"}, \"zerolinecolor\": \"#E1E5ED\"}, \"yaxis\": {\"gridcolor\": \"#E1E5ED\", \"showgrid\": true, \"tickfont\": {\"color\": \"#4D5663\"}, \"title\": {\"font\": {\"color\": \"#4D5663\"}, \"text\": \"\"}, \"zerolinecolor\": \"#E1E5ED\"}},                        {\"showLink\": true, \"linkText\": \"Export to plot.ly\", \"plotlyServerURL\": \"https://plot.ly\", \"responsive\": true}                    ).then(function(){\n",
       "                            \n",
       "var gd = document.getElementById('f2ed16a3-07ab-4a0a-b308-ad4bc60aa92f');\n",
       "var x = new MutationObserver(function (mutations, observer) {{\n",
       "        var display = window.getComputedStyle(gd).display;\n",
       "        if (!display || display === 'none') {{\n",
       "            console.log([gd, 'removed!']);\n",
       "            Plotly.purge(gd);\n",
       "            observer.disconnect();\n",
       "        }}\n",
       "}});\n",
       "\n",
       "// Listen for the removal of the full notebook cells\n",
       "var notebookContainer = gd.closest('#notebook-container');\n",
       "if (notebookContainer) {{\n",
       "    x.observe(notebookContainer, {childList: true});\n",
       "}}\n",
       "\n",
       "// Listen for the clearing of the current output cell\n",
       "var outputEl = gd.closest('.output');\n",
       "if (outputEl) {{\n",
       "    x.observe(outputEl, {childList: true});\n",
       "}}\n",
       "\n",
       "                        })                };                });            </script>        </div>"
      ]
     },
     "metadata": {},
     "output_type": "display_data"
    }
   ],
   "source": [
    "df.iplot(kind='scatter',x='A',y='B',mode='markers',size=10)"
   ]
  },
  {
   "cell_type": "markdown",
   "metadata": {
    "id": "32a4eb7WbxvW"
   },
   "source": [
    "## Bar Plots"
   ]
  },
  {
   "cell_type": "code",
   "execution_count": 21,
   "metadata": {
    "colab": {
     "base_uri": "https://localhost:8080/",
     "height": 542
    },
    "id": "x_fvRe3dbxvl",
    "outputId": "1b7ecd75-4291-4232-a27e-98b9475084e0"
   },
   "outputs": [
    {
     "data": {
      "application/vnd.plotly.v1+json": {
       "config": {
        "linkText": "Export to plot.ly",
        "plotlyServerURL": "https://plot.ly",
        "showLink": true
       },
       "data": [
        {
         "marker": {
          "color": "rgba(255, 153, 51, 0.6)",
          "line": {
           "color": "rgba(255, 153, 51, 1.0)",
           "width": 1
          }
         },
         "name": "None",
         "orientation": "v",
         "text": "",
         "type": "bar",
         "x": [
          "A",
          "B",
          "C",
          "D"
         ],
         "y": [
          100,
          100,
          100,
          100
         ]
        }
       ],
       "layout": {
        "legend": {
         "bgcolor": "#F5F6F9",
         "font": {
          "color": "#4D5663"
         }
        },
        "paper_bgcolor": "#F5F6F9",
        "plot_bgcolor": "#F5F6F9",
        "template": {
         "data": {
          "bar": [
           {
            "error_x": {
             "color": "#2a3f5f"
            },
            "error_y": {
             "color": "#2a3f5f"
            },
            "marker": {
             "line": {
              "color": "#E5ECF6",
              "width": 0.5
             }
            },
            "type": "bar"
           }
          ],
          "barpolar": [
           {
            "marker": {
             "line": {
              "color": "#E5ECF6",
              "width": 0.5
             }
            },
            "type": "barpolar"
           }
          ],
          "carpet": [
           {
            "aaxis": {
             "endlinecolor": "#2a3f5f",
             "gridcolor": "white",
             "linecolor": "white",
             "minorgridcolor": "white",
             "startlinecolor": "#2a3f5f"
            },
            "baxis": {
             "endlinecolor": "#2a3f5f",
             "gridcolor": "white",
             "linecolor": "white",
             "minorgridcolor": "white",
             "startlinecolor": "#2a3f5f"
            },
            "type": "carpet"
           }
          ],
          "choropleth": [
           {
            "colorbar": {
             "outlinewidth": 0,
             "ticks": ""
            },
            "type": "choropleth"
           }
          ],
          "contour": [
           {
            "colorbar": {
             "outlinewidth": 0,
             "ticks": ""
            },
            "colorscale": [
             [
              0,
              "#0d0887"
             ],
             [
              0.1111111111111111,
              "#46039f"
             ],
             [
              0.2222222222222222,
              "#7201a8"
             ],
             [
              0.3333333333333333,
              "#9c179e"
             ],
             [
              0.4444444444444444,
              "#bd3786"
             ],
             [
              0.5555555555555556,
              "#d8576b"
             ],
             [
              0.6666666666666666,
              "#ed7953"
             ],
             [
              0.7777777777777778,
              "#fb9f3a"
             ],
             [
              0.8888888888888888,
              "#fdca26"
             ],
             [
              1,
              "#f0f921"
             ]
            ],
            "type": "contour"
           }
          ],
          "contourcarpet": [
           {
            "colorbar": {
             "outlinewidth": 0,
             "ticks": ""
            },
            "type": "contourcarpet"
           }
          ],
          "heatmap": [
           {
            "colorbar": {
             "outlinewidth": 0,
             "ticks": ""
            },
            "colorscale": [
             [
              0,
              "#0d0887"
             ],
             [
              0.1111111111111111,
              "#46039f"
             ],
             [
              0.2222222222222222,
              "#7201a8"
             ],
             [
              0.3333333333333333,
              "#9c179e"
             ],
             [
              0.4444444444444444,
              "#bd3786"
             ],
             [
              0.5555555555555556,
              "#d8576b"
             ],
             [
              0.6666666666666666,
              "#ed7953"
             ],
             [
              0.7777777777777778,
              "#fb9f3a"
             ],
             [
              0.8888888888888888,
              "#fdca26"
             ],
             [
              1,
              "#f0f921"
             ]
            ],
            "type": "heatmap"
           }
          ],
          "heatmapgl": [
           {
            "colorbar": {
             "outlinewidth": 0,
             "ticks": ""
            },
            "colorscale": [
             [
              0,
              "#0d0887"
             ],
             [
              0.1111111111111111,
              "#46039f"
             ],
             [
              0.2222222222222222,
              "#7201a8"
             ],
             [
              0.3333333333333333,
              "#9c179e"
             ],
             [
              0.4444444444444444,
              "#bd3786"
             ],
             [
              0.5555555555555556,
              "#d8576b"
             ],
             [
              0.6666666666666666,
              "#ed7953"
             ],
             [
              0.7777777777777778,
              "#fb9f3a"
             ],
             [
              0.8888888888888888,
              "#fdca26"
             ],
             [
              1,
              "#f0f921"
             ]
            ],
            "type": "heatmapgl"
           }
          ],
          "histogram": [
           {
            "marker": {
             "colorbar": {
              "outlinewidth": 0,
              "ticks": ""
             }
            },
            "type": "histogram"
           }
          ],
          "histogram2d": [
           {
            "colorbar": {
             "outlinewidth": 0,
             "ticks": ""
            },
            "colorscale": [
             [
              0,
              "#0d0887"
             ],
             [
              0.1111111111111111,
              "#46039f"
             ],
             [
              0.2222222222222222,
              "#7201a8"
             ],
             [
              0.3333333333333333,
              "#9c179e"
             ],
             [
              0.4444444444444444,
              "#bd3786"
             ],
             [
              0.5555555555555556,
              "#d8576b"
             ],
             [
              0.6666666666666666,
              "#ed7953"
             ],
             [
              0.7777777777777778,
              "#fb9f3a"
             ],
             [
              0.8888888888888888,
              "#fdca26"
             ],
             [
              1,
              "#f0f921"
             ]
            ],
            "type": "histogram2d"
           }
          ],
          "histogram2dcontour": [
           {
            "colorbar": {
             "outlinewidth": 0,
             "ticks": ""
            },
            "colorscale": [
             [
              0,
              "#0d0887"
             ],
             [
              0.1111111111111111,
              "#46039f"
             ],
             [
              0.2222222222222222,
              "#7201a8"
             ],
             [
              0.3333333333333333,
              "#9c179e"
             ],
             [
              0.4444444444444444,
              "#bd3786"
             ],
             [
              0.5555555555555556,
              "#d8576b"
             ],
             [
              0.6666666666666666,
              "#ed7953"
             ],
             [
              0.7777777777777778,
              "#fb9f3a"
             ],
             [
              0.8888888888888888,
              "#fdca26"
             ],
             [
              1,
              "#f0f921"
             ]
            ],
            "type": "histogram2dcontour"
           }
          ],
          "mesh3d": [
           {
            "colorbar": {
             "outlinewidth": 0,
             "ticks": ""
            },
            "type": "mesh3d"
           }
          ],
          "parcoords": [
           {
            "line": {
             "colorbar": {
              "outlinewidth": 0,
              "ticks": ""
             }
            },
            "type": "parcoords"
           }
          ],
          "pie": [
           {
            "automargin": true,
            "type": "pie"
           }
          ],
          "scatter": [
           {
            "marker": {
             "colorbar": {
              "outlinewidth": 0,
              "ticks": ""
             }
            },
            "type": "scatter"
           }
          ],
          "scatter3d": [
           {
            "line": {
             "colorbar": {
              "outlinewidth": 0,
              "ticks": ""
             }
            },
            "marker": {
             "colorbar": {
              "outlinewidth": 0,
              "ticks": ""
             }
            },
            "type": "scatter3d"
           }
          ],
          "scattercarpet": [
           {
            "marker": {
             "colorbar": {
              "outlinewidth": 0,
              "ticks": ""
             }
            },
            "type": "scattercarpet"
           }
          ],
          "scattergeo": [
           {
            "marker": {
             "colorbar": {
              "outlinewidth": 0,
              "ticks": ""
             }
            },
            "type": "scattergeo"
           }
          ],
          "scattergl": [
           {
            "marker": {
             "colorbar": {
              "outlinewidth": 0,
              "ticks": ""
             }
            },
            "type": "scattergl"
           }
          ],
          "scattermapbox": [
           {
            "marker": {
             "colorbar": {
              "outlinewidth": 0,
              "ticks": ""
             }
            },
            "type": "scattermapbox"
           }
          ],
          "scatterpolar": [
           {
            "marker": {
             "colorbar": {
              "outlinewidth": 0,
              "ticks": ""
             }
            },
            "type": "scatterpolar"
           }
          ],
          "scatterpolargl": [
           {
            "marker": {
             "colorbar": {
              "outlinewidth": 0,
              "ticks": ""
             }
            },
            "type": "scatterpolargl"
           }
          ],
          "scatterternary": [
           {
            "marker": {
             "colorbar": {
              "outlinewidth": 0,
              "ticks": ""
             }
            },
            "type": "scatterternary"
           }
          ],
          "surface": [
           {
            "colorbar": {
             "outlinewidth": 0,
             "ticks": ""
            },
            "colorscale": [
             [
              0,
              "#0d0887"
             ],
             [
              0.1111111111111111,
              "#46039f"
             ],
             [
              0.2222222222222222,
              "#7201a8"
             ],
             [
              0.3333333333333333,
              "#9c179e"
             ],
             [
              0.4444444444444444,
              "#bd3786"
             ],
             [
              0.5555555555555556,
              "#d8576b"
             ],
             [
              0.6666666666666666,
              "#ed7953"
             ],
             [
              0.7777777777777778,
              "#fb9f3a"
             ],
             [
              0.8888888888888888,
              "#fdca26"
             ],
             [
              1,
              "#f0f921"
             ]
            ],
            "type": "surface"
           }
          ],
          "table": [
           {
            "cells": {
             "fill": {
              "color": "#EBF0F8"
             },
             "line": {
              "color": "white"
             }
            },
            "header": {
             "fill": {
              "color": "#C8D4E3"
             },
             "line": {
              "color": "white"
             }
            },
            "type": "table"
           }
          ]
         },
         "layout": {
          "annotationdefaults": {
           "arrowcolor": "#2a3f5f",
           "arrowhead": 0,
           "arrowwidth": 1
          },
          "coloraxis": {
           "colorbar": {
            "outlinewidth": 0,
            "ticks": ""
           }
          },
          "colorscale": {
           "diverging": [
            [
             0,
             "#8e0152"
            ],
            [
             0.1,
             "#c51b7d"
            ],
            [
             0.2,
             "#de77ae"
            ],
            [
             0.3,
             "#f1b6da"
            ],
            [
             0.4,
             "#fde0ef"
            ],
            [
             0.5,
             "#f7f7f7"
            ],
            [
             0.6,
             "#e6f5d0"
            ],
            [
             0.7,
             "#b8e186"
            ],
            [
             0.8,
             "#7fbc41"
            ],
            [
             0.9,
             "#4d9221"
            ],
            [
             1,
             "#276419"
            ]
           ],
           "sequential": [
            [
             0,
             "#0d0887"
            ],
            [
             0.1111111111111111,
             "#46039f"
            ],
            [
             0.2222222222222222,
             "#7201a8"
            ],
            [
             0.3333333333333333,
             "#9c179e"
            ],
            [
             0.4444444444444444,
             "#bd3786"
            ],
            [
             0.5555555555555556,
             "#d8576b"
            ],
            [
             0.6666666666666666,
             "#ed7953"
            ],
            [
             0.7777777777777778,
             "#fb9f3a"
            ],
            [
             0.8888888888888888,
             "#fdca26"
            ],
            [
             1,
             "#f0f921"
            ]
           ],
           "sequentialminus": [
            [
             0,
             "#0d0887"
            ],
            [
             0.1111111111111111,
             "#46039f"
            ],
            [
             0.2222222222222222,
             "#7201a8"
            ],
            [
             0.3333333333333333,
             "#9c179e"
            ],
            [
             0.4444444444444444,
             "#bd3786"
            ],
            [
             0.5555555555555556,
             "#d8576b"
            ],
            [
             0.6666666666666666,
             "#ed7953"
            ],
            [
             0.7777777777777778,
             "#fb9f3a"
            ],
            [
             0.8888888888888888,
             "#fdca26"
            ],
            [
             1,
             "#f0f921"
            ]
           ]
          },
          "colorway": [
           "#636efa",
           "#EF553B",
           "#00cc96",
           "#ab63fa",
           "#FFA15A",
           "#19d3f3",
           "#FF6692",
           "#B6E880",
           "#FF97FF",
           "#FECB52"
          ],
          "font": {
           "color": "#2a3f5f"
          },
          "geo": {
           "bgcolor": "white",
           "lakecolor": "white",
           "landcolor": "#E5ECF6",
           "showlakes": true,
           "showland": true,
           "subunitcolor": "white"
          },
          "hoverlabel": {
           "align": "left"
          },
          "hovermode": "closest",
          "mapbox": {
           "style": "light"
          },
          "paper_bgcolor": "white",
          "plot_bgcolor": "#E5ECF6",
          "polar": {
           "angularaxis": {
            "gridcolor": "white",
            "linecolor": "white",
            "ticks": ""
           },
           "bgcolor": "#E5ECF6",
           "radialaxis": {
            "gridcolor": "white",
            "linecolor": "white",
            "ticks": ""
           }
          },
          "scene": {
           "xaxis": {
            "backgroundcolor": "#E5ECF6",
            "gridcolor": "white",
            "gridwidth": 2,
            "linecolor": "white",
            "showbackground": true,
            "ticks": "",
            "zerolinecolor": "white"
           },
           "yaxis": {
            "backgroundcolor": "#E5ECF6",
            "gridcolor": "white",
            "gridwidth": 2,
            "linecolor": "white",
            "showbackground": true,
            "ticks": "",
            "zerolinecolor": "white"
           },
           "zaxis": {
            "backgroundcolor": "#E5ECF6",
            "gridcolor": "white",
            "gridwidth": 2,
            "linecolor": "white",
            "showbackground": true,
            "ticks": "",
            "zerolinecolor": "white"
           }
          },
          "shapedefaults": {
           "line": {
            "color": "#2a3f5f"
           }
          },
          "ternary": {
           "aaxis": {
            "gridcolor": "white",
            "linecolor": "white",
            "ticks": ""
           },
           "baxis": {
            "gridcolor": "white",
            "linecolor": "white",
            "ticks": ""
           },
           "bgcolor": "#E5ECF6",
           "caxis": {
            "gridcolor": "white",
            "linecolor": "white",
            "ticks": ""
           }
          },
          "title": {
           "x": 0.05
          },
          "xaxis": {
           "automargin": true,
           "gridcolor": "white",
           "linecolor": "white",
           "ticks": "",
           "title": {
            "standoff": 15
           },
           "zerolinecolor": "white",
           "zerolinewidth": 2
          },
          "yaxis": {
           "automargin": true,
           "gridcolor": "white",
           "linecolor": "white",
           "ticks": "",
           "title": {
            "standoff": 15
           },
           "zerolinecolor": "white",
           "zerolinewidth": 2
          }
         }
        },
        "title": {
         "font": {
          "color": "#4D5663"
         }
        },
        "xaxis": {
         "gridcolor": "#E1E5ED",
         "showgrid": true,
         "tickfont": {
          "color": "#4D5663"
         },
         "title": {
          "font": {
           "color": "#4D5663"
          },
          "text": ""
         },
         "zerolinecolor": "#E1E5ED"
        },
        "yaxis": {
         "gridcolor": "#E1E5ED",
         "showgrid": true,
         "tickfont": {
          "color": "#4D5663"
         },
         "title": {
          "font": {
           "color": "#4D5663"
          },
          "text": ""
         },
         "zerolinecolor": "#E1E5ED"
        }
       }
      },
      "text/html": [
       "<div>                            <div id=\"1aed16e9-24c6-47da-a750-921e1cd46643\" class=\"plotly-graph-div\" style=\"height:525px; width:100%;\"></div>            <script type=\"text/javascript\">                require([\"plotly\"], function(Plotly) {                    window.PLOTLYENV=window.PLOTLYENV || {};\n",
       "                    window.PLOTLYENV.BASE_URL='https://plot.ly';                                    if (document.getElementById(\"1aed16e9-24c6-47da-a750-921e1cd46643\")) {                    Plotly.newPlot(                        \"1aed16e9-24c6-47da-a750-921e1cd46643\",                        [{\"marker\": {\"color\": \"rgba(255, 153, 51, 0.6)\", \"line\": {\"color\": \"rgba(255, 153, 51, 1.0)\", \"width\": 1}}, \"name\": \"None\", \"orientation\": \"v\", \"text\": \"\", \"type\": \"bar\", \"x\": [\"A\", \"B\", \"C\", \"D\"], \"y\": [100, 100, 100, 100]}],                        {\"legend\": {\"bgcolor\": \"#F5F6F9\", \"font\": {\"color\": \"#4D5663\"}}, \"paper_bgcolor\": \"#F5F6F9\", \"plot_bgcolor\": \"#F5F6F9\", \"template\": {\"data\": {\"bar\": [{\"error_x\": {\"color\": \"#2a3f5f\"}, \"error_y\": {\"color\": \"#2a3f5f\"}, \"marker\": {\"line\": {\"color\": \"#E5ECF6\", \"width\": 0.5}}, \"type\": \"bar\"}], \"barpolar\": [{\"marker\": {\"line\": {\"color\": \"#E5ECF6\", \"width\": 0.5}}, \"type\": \"barpolar\"}], \"carpet\": [{\"aaxis\": {\"endlinecolor\": \"#2a3f5f\", \"gridcolor\": \"white\", \"linecolor\": \"white\", \"minorgridcolor\": \"white\", \"startlinecolor\": \"#2a3f5f\"}, \"baxis\": {\"endlinecolor\": \"#2a3f5f\", \"gridcolor\": \"white\", \"linecolor\": \"white\", \"minorgridcolor\": \"white\", \"startlinecolor\": \"#2a3f5f\"}, \"type\": \"carpet\"}], \"choropleth\": [{\"colorbar\": {\"outlinewidth\": 0, \"ticks\": \"\"}, \"type\": \"choropleth\"}], \"contour\": [{\"colorbar\": {\"outlinewidth\": 0, \"ticks\": \"\"}, \"colorscale\": [[0.0, \"#0d0887\"], [0.1111111111111111, \"#46039f\"], [0.2222222222222222, \"#7201a8\"], [0.3333333333333333, \"#9c179e\"], [0.4444444444444444, \"#bd3786\"], [0.5555555555555556, \"#d8576b\"], [0.6666666666666666, \"#ed7953\"], [0.7777777777777778, \"#fb9f3a\"], [0.8888888888888888, \"#fdca26\"], [1.0, \"#f0f921\"]], \"type\": \"contour\"}], \"contourcarpet\": [{\"colorbar\": {\"outlinewidth\": 0, \"ticks\": \"\"}, \"type\": \"contourcarpet\"}], \"heatmap\": [{\"colorbar\": {\"outlinewidth\": 0, \"ticks\": \"\"}, \"colorscale\": [[0.0, \"#0d0887\"], [0.1111111111111111, \"#46039f\"], [0.2222222222222222, \"#7201a8\"], [0.3333333333333333, \"#9c179e\"], [0.4444444444444444, \"#bd3786\"], [0.5555555555555556, \"#d8576b\"], [0.6666666666666666, \"#ed7953\"], [0.7777777777777778, \"#fb9f3a\"], [0.8888888888888888, \"#fdca26\"], [1.0, \"#f0f921\"]], \"type\": \"heatmap\"}], \"heatmapgl\": [{\"colorbar\": {\"outlinewidth\": 0, \"ticks\": \"\"}, \"colorscale\": [[0.0, \"#0d0887\"], [0.1111111111111111, \"#46039f\"], [0.2222222222222222, \"#7201a8\"], [0.3333333333333333, \"#9c179e\"], [0.4444444444444444, \"#bd3786\"], [0.5555555555555556, \"#d8576b\"], [0.6666666666666666, \"#ed7953\"], [0.7777777777777778, \"#fb9f3a\"], [0.8888888888888888, \"#fdca26\"], [1.0, \"#f0f921\"]], \"type\": \"heatmapgl\"}], \"histogram\": [{\"marker\": {\"colorbar\": {\"outlinewidth\": 0, \"ticks\": \"\"}}, \"type\": \"histogram\"}], \"histogram2d\": [{\"colorbar\": {\"outlinewidth\": 0, \"ticks\": \"\"}, \"colorscale\": [[0.0, \"#0d0887\"], [0.1111111111111111, \"#46039f\"], [0.2222222222222222, \"#7201a8\"], [0.3333333333333333, \"#9c179e\"], [0.4444444444444444, \"#bd3786\"], [0.5555555555555556, \"#d8576b\"], [0.6666666666666666, \"#ed7953\"], [0.7777777777777778, \"#fb9f3a\"], [0.8888888888888888, \"#fdca26\"], [1.0, \"#f0f921\"]], \"type\": \"histogram2d\"}], \"histogram2dcontour\": [{\"colorbar\": {\"outlinewidth\": 0, \"ticks\": \"\"}, \"colorscale\": [[0.0, \"#0d0887\"], [0.1111111111111111, \"#46039f\"], [0.2222222222222222, \"#7201a8\"], [0.3333333333333333, \"#9c179e\"], [0.4444444444444444, \"#bd3786\"], [0.5555555555555556, \"#d8576b\"], [0.6666666666666666, \"#ed7953\"], [0.7777777777777778, \"#fb9f3a\"], [0.8888888888888888, \"#fdca26\"], [1.0, \"#f0f921\"]], \"type\": \"histogram2dcontour\"}], \"mesh3d\": [{\"colorbar\": {\"outlinewidth\": 0, \"ticks\": \"\"}, \"type\": \"mesh3d\"}], \"parcoords\": [{\"line\": {\"colorbar\": {\"outlinewidth\": 0, \"ticks\": \"\"}}, \"type\": \"parcoords\"}], \"pie\": [{\"automargin\": true, \"type\": \"pie\"}], \"scatter\": [{\"marker\": {\"colorbar\": {\"outlinewidth\": 0, \"ticks\": \"\"}}, \"type\": \"scatter\"}], \"scatter3d\": [{\"line\": {\"colorbar\": {\"outlinewidth\": 0, \"ticks\": \"\"}}, \"marker\": {\"colorbar\": {\"outlinewidth\": 0, \"ticks\": \"\"}}, \"type\": \"scatter3d\"}], \"scattercarpet\": [{\"marker\": {\"colorbar\": {\"outlinewidth\": 0, \"ticks\": \"\"}}, \"type\": \"scattercarpet\"}], \"scattergeo\": [{\"marker\": {\"colorbar\": {\"outlinewidth\": 0, \"ticks\": \"\"}}, \"type\": \"scattergeo\"}], \"scattergl\": [{\"marker\": {\"colorbar\": {\"outlinewidth\": 0, \"ticks\": \"\"}}, \"type\": \"scattergl\"}], \"scattermapbox\": [{\"marker\": {\"colorbar\": {\"outlinewidth\": 0, \"ticks\": \"\"}}, \"type\": \"scattermapbox\"}], \"scatterpolar\": [{\"marker\": {\"colorbar\": {\"outlinewidth\": 0, \"ticks\": \"\"}}, \"type\": \"scatterpolar\"}], \"scatterpolargl\": [{\"marker\": {\"colorbar\": {\"outlinewidth\": 0, \"ticks\": \"\"}}, \"type\": \"scatterpolargl\"}], \"scatterternary\": [{\"marker\": {\"colorbar\": {\"outlinewidth\": 0, \"ticks\": \"\"}}, \"type\": \"scatterternary\"}], \"surface\": [{\"colorbar\": {\"outlinewidth\": 0, \"ticks\": \"\"}, \"colorscale\": [[0.0, \"#0d0887\"], [0.1111111111111111, \"#46039f\"], [0.2222222222222222, \"#7201a8\"], [0.3333333333333333, \"#9c179e\"], [0.4444444444444444, \"#bd3786\"], [0.5555555555555556, \"#d8576b\"], [0.6666666666666666, \"#ed7953\"], [0.7777777777777778, \"#fb9f3a\"], [0.8888888888888888, \"#fdca26\"], [1.0, \"#f0f921\"]], \"type\": \"surface\"}], \"table\": [{\"cells\": {\"fill\": {\"color\": \"#EBF0F8\"}, \"line\": {\"color\": \"white\"}}, \"header\": {\"fill\": {\"color\": \"#C8D4E3\"}, \"line\": {\"color\": \"white\"}}, \"type\": \"table\"}]}, \"layout\": {\"annotationdefaults\": {\"arrowcolor\": \"#2a3f5f\", \"arrowhead\": 0, \"arrowwidth\": 1}, \"coloraxis\": {\"colorbar\": {\"outlinewidth\": 0, \"ticks\": \"\"}}, \"colorscale\": {\"diverging\": [[0, \"#8e0152\"], [0.1, \"#c51b7d\"], [0.2, \"#de77ae\"], [0.3, \"#f1b6da\"], [0.4, \"#fde0ef\"], [0.5, \"#f7f7f7\"], [0.6, \"#e6f5d0\"], [0.7, \"#b8e186\"], [0.8, \"#7fbc41\"], [0.9, \"#4d9221\"], [1, \"#276419\"]], \"sequential\": [[0.0, \"#0d0887\"], [0.1111111111111111, \"#46039f\"], [0.2222222222222222, \"#7201a8\"], [0.3333333333333333, \"#9c179e\"], [0.4444444444444444, \"#bd3786\"], [0.5555555555555556, \"#d8576b\"], [0.6666666666666666, \"#ed7953\"], [0.7777777777777778, \"#fb9f3a\"], [0.8888888888888888, \"#fdca26\"], [1.0, \"#f0f921\"]], \"sequentialminus\": [[0.0, \"#0d0887\"], [0.1111111111111111, \"#46039f\"], [0.2222222222222222, \"#7201a8\"], [0.3333333333333333, \"#9c179e\"], [0.4444444444444444, \"#bd3786\"], [0.5555555555555556, \"#d8576b\"], [0.6666666666666666, \"#ed7953\"], [0.7777777777777778, \"#fb9f3a\"], [0.8888888888888888, \"#fdca26\"], [1.0, \"#f0f921\"]]}, \"colorway\": [\"#636efa\", \"#EF553B\", \"#00cc96\", \"#ab63fa\", \"#FFA15A\", \"#19d3f3\", \"#FF6692\", \"#B6E880\", \"#FF97FF\", \"#FECB52\"], \"font\": {\"color\": \"#2a3f5f\"}, \"geo\": {\"bgcolor\": \"white\", \"lakecolor\": \"white\", \"landcolor\": \"#E5ECF6\", \"showlakes\": true, \"showland\": true, \"subunitcolor\": \"white\"}, \"hoverlabel\": {\"align\": \"left\"}, \"hovermode\": \"closest\", \"mapbox\": {\"style\": \"light\"}, \"paper_bgcolor\": \"white\", \"plot_bgcolor\": \"#E5ECF6\", \"polar\": {\"angularaxis\": {\"gridcolor\": \"white\", \"linecolor\": \"white\", \"ticks\": \"\"}, \"bgcolor\": \"#E5ECF6\", \"radialaxis\": {\"gridcolor\": \"white\", \"linecolor\": \"white\", \"ticks\": \"\"}}, \"scene\": {\"xaxis\": {\"backgroundcolor\": \"#E5ECF6\", \"gridcolor\": \"white\", \"gridwidth\": 2, \"linecolor\": \"white\", \"showbackground\": true, \"ticks\": \"\", \"zerolinecolor\": \"white\"}, \"yaxis\": {\"backgroundcolor\": \"#E5ECF6\", \"gridcolor\": \"white\", \"gridwidth\": 2, \"linecolor\": \"white\", \"showbackground\": true, \"ticks\": \"\", \"zerolinecolor\": \"white\"}, \"zaxis\": {\"backgroundcolor\": \"#E5ECF6\", \"gridcolor\": \"white\", \"gridwidth\": 2, \"linecolor\": \"white\", \"showbackground\": true, \"ticks\": \"\", \"zerolinecolor\": \"white\"}}, \"shapedefaults\": {\"line\": {\"color\": \"#2a3f5f\"}}, \"ternary\": {\"aaxis\": {\"gridcolor\": \"white\", \"linecolor\": \"white\", \"ticks\": \"\"}, \"baxis\": {\"gridcolor\": \"white\", \"linecolor\": \"white\", \"ticks\": \"\"}, \"bgcolor\": \"#E5ECF6\", \"caxis\": {\"gridcolor\": \"white\", \"linecolor\": \"white\", \"ticks\": \"\"}}, \"title\": {\"x\": 0.05}, \"xaxis\": {\"automargin\": true, \"gridcolor\": \"white\", \"linecolor\": \"white\", \"ticks\": \"\", \"title\": {\"standoff\": 15}, \"zerolinecolor\": \"white\", \"zerolinewidth\": 2}, \"yaxis\": {\"automargin\": true, \"gridcolor\": \"white\", \"linecolor\": \"white\", \"ticks\": \"\", \"title\": {\"standoff\": 15}, \"zerolinecolor\": \"white\", \"zerolinewidth\": 2}}}, \"title\": {\"font\": {\"color\": \"#4D5663\"}}, \"xaxis\": {\"gridcolor\": \"#E1E5ED\", \"showgrid\": true, \"tickfont\": {\"color\": \"#4D5663\"}, \"title\": {\"font\": {\"color\": \"#4D5663\"}, \"text\": \"\"}, \"zerolinecolor\": \"#E1E5ED\"}, \"yaxis\": {\"gridcolor\": \"#E1E5ED\", \"showgrid\": true, \"tickfont\": {\"color\": \"#4D5663\"}, \"title\": {\"font\": {\"color\": \"#4D5663\"}, \"text\": \"\"}, \"zerolinecolor\": \"#E1E5ED\"}},                        {\"showLink\": true, \"linkText\": \"Export to plot.ly\", \"plotlyServerURL\": \"https://plot.ly\", \"responsive\": true}                    ).then(function(){\n",
       "                            \n",
       "var gd = document.getElementById('1aed16e9-24c6-47da-a750-921e1cd46643');\n",
       "var x = new MutationObserver(function (mutations, observer) {{\n",
       "        var display = window.getComputedStyle(gd).display;\n",
       "        if (!display || display === 'none') {{\n",
       "            console.log([gd, 'removed!']);\n",
       "            Plotly.purge(gd);\n",
       "            observer.disconnect();\n",
       "        }}\n",
       "}});\n",
       "\n",
       "// Listen for the removal of the full notebook cells\n",
       "var notebookContainer = gd.closest('#notebook-container');\n",
       "if (notebookContainer) {{\n",
       "    x.observe(notebookContainer, {childList: true});\n",
       "}}\n",
       "\n",
       "// Listen for the clearing of the current output cell\n",
       "var outputEl = gd.closest('.output');\n",
       "if (outputEl) {{\n",
       "    x.observe(outputEl, {childList: true});\n",
       "}}\n",
       "\n",
       "                        })                };                });            </script>        </div>"
      ]
     },
     "metadata": {},
     "output_type": "display_data"
    }
   ],
   "source": [
    "df.count().iplot(kind='bar')"
   ]
  },
  {
   "cell_type": "code",
   "execution_count": 24,
   "metadata": {},
   "outputs": [
    {
     "data": {
      "application/vnd.plotly.v1+json": {
       "config": {
        "linkText": "Export to plot.ly",
        "plotlyServerURL": "https://plot.ly",
        "showLink": true
       },
       "data": [
        {
         "marker": {
          "color": "rgba(255, 153, 51, 0.6)",
          "line": {
           "color": "rgba(255, 153, 51, 1.0)",
           "width": 1
          }
         },
         "name": "None",
         "orientation": "v",
         "text": "",
         "type": "bar",
         "x": [
          "A",
          "B",
          "C",
          "D"
         ],
         "y": [
          3.0470713435133394,
          11.676729807383474,
          -0.6791463047927142,
          3.961530829075236
         ]
        }
       ],
       "layout": {
        "legend": {
         "bgcolor": "#F5F6F9",
         "font": {
          "color": "#4D5663"
         }
        },
        "paper_bgcolor": "#F5F6F9",
        "plot_bgcolor": "#F5F6F9",
        "template": {
         "data": {
          "bar": [
           {
            "error_x": {
             "color": "#2a3f5f"
            },
            "error_y": {
             "color": "#2a3f5f"
            },
            "marker": {
             "line": {
              "color": "#E5ECF6",
              "width": 0.5
             }
            },
            "type": "bar"
           }
          ],
          "barpolar": [
           {
            "marker": {
             "line": {
              "color": "#E5ECF6",
              "width": 0.5
             }
            },
            "type": "barpolar"
           }
          ],
          "carpet": [
           {
            "aaxis": {
             "endlinecolor": "#2a3f5f",
             "gridcolor": "white",
             "linecolor": "white",
             "minorgridcolor": "white",
             "startlinecolor": "#2a3f5f"
            },
            "baxis": {
             "endlinecolor": "#2a3f5f",
             "gridcolor": "white",
             "linecolor": "white",
             "minorgridcolor": "white",
             "startlinecolor": "#2a3f5f"
            },
            "type": "carpet"
           }
          ],
          "choropleth": [
           {
            "colorbar": {
             "outlinewidth": 0,
             "ticks": ""
            },
            "type": "choropleth"
           }
          ],
          "contour": [
           {
            "colorbar": {
             "outlinewidth": 0,
             "ticks": ""
            },
            "colorscale": [
             [
              0,
              "#0d0887"
             ],
             [
              0.1111111111111111,
              "#46039f"
             ],
             [
              0.2222222222222222,
              "#7201a8"
             ],
             [
              0.3333333333333333,
              "#9c179e"
             ],
             [
              0.4444444444444444,
              "#bd3786"
             ],
             [
              0.5555555555555556,
              "#d8576b"
             ],
             [
              0.6666666666666666,
              "#ed7953"
             ],
             [
              0.7777777777777778,
              "#fb9f3a"
             ],
             [
              0.8888888888888888,
              "#fdca26"
             ],
             [
              1,
              "#f0f921"
             ]
            ],
            "type": "contour"
           }
          ],
          "contourcarpet": [
           {
            "colorbar": {
             "outlinewidth": 0,
             "ticks": ""
            },
            "type": "contourcarpet"
           }
          ],
          "heatmap": [
           {
            "colorbar": {
             "outlinewidth": 0,
             "ticks": ""
            },
            "colorscale": [
             [
              0,
              "#0d0887"
             ],
             [
              0.1111111111111111,
              "#46039f"
             ],
             [
              0.2222222222222222,
              "#7201a8"
             ],
             [
              0.3333333333333333,
              "#9c179e"
             ],
             [
              0.4444444444444444,
              "#bd3786"
             ],
             [
              0.5555555555555556,
              "#d8576b"
             ],
             [
              0.6666666666666666,
              "#ed7953"
             ],
             [
              0.7777777777777778,
              "#fb9f3a"
             ],
             [
              0.8888888888888888,
              "#fdca26"
             ],
             [
              1,
              "#f0f921"
             ]
            ],
            "type": "heatmap"
           }
          ],
          "heatmapgl": [
           {
            "colorbar": {
             "outlinewidth": 0,
             "ticks": ""
            },
            "colorscale": [
             [
              0,
              "#0d0887"
             ],
             [
              0.1111111111111111,
              "#46039f"
             ],
             [
              0.2222222222222222,
              "#7201a8"
             ],
             [
              0.3333333333333333,
              "#9c179e"
             ],
             [
              0.4444444444444444,
              "#bd3786"
             ],
             [
              0.5555555555555556,
              "#d8576b"
             ],
             [
              0.6666666666666666,
              "#ed7953"
             ],
             [
              0.7777777777777778,
              "#fb9f3a"
             ],
             [
              0.8888888888888888,
              "#fdca26"
             ],
             [
              1,
              "#f0f921"
             ]
            ],
            "type": "heatmapgl"
           }
          ],
          "histogram": [
           {
            "marker": {
             "colorbar": {
              "outlinewidth": 0,
              "ticks": ""
             }
            },
            "type": "histogram"
           }
          ],
          "histogram2d": [
           {
            "colorbar": {
             "outlinewidth": 0,
             "ticks": ""
            },
            "colorscale": [
             [
              0,
              "#0d0887"
             ],
             [
              0.1111111111111111,
              "#46039f"
             ],
             [
              0.2222222222222222,
              "#7201a8"
             ],
             [
              0.3333333333333333,
              "#9c179e"
             ],
             [
              0.4444444444444444,
              "#bd3786"
             ],
             [
              0.5555555555555556,
              "#d8576b"
             ],
             [
              0.6666666666666666,
              "#ed7953"
             ],
             [
              0.7777777777777778,
              "#fb9f3a"
             ],
             [
              0.8888888888888888,
              "#fdca26"
             ],
             [
              1,
              "#f0f921"
             ]
            ],
            "type": "histogram2d"
           }
          ],
          "histogram2dcontour": [
           {
            "colorbar": {
             "outlinewidth": 0,
             "ticks": ""
            },
            "colorscale": [
             [
              0,
              "#0d0887"
             ],
             [
              0.1111111111111111,
              "#46039f"
             ],
             [
              0.2222222222222222,
              "#7201a8"
             ],
             [
              0.3333333333333333,
              "#9c179e"
             ],
             [
              0.4444444444444444,
              "#bd3786"
             ],
             [
              0.5555555555555556,
              "#d8576b"
             ],
             [
              0.6666666666666666,
              "#ed7953"
             ],
             [
              0.7777777777777778,
              "#fb9f3a"
             ],
             [
              0.8888888888888888,
              "#fdca26"
             ],
             [
              1,
              "#f0f921"
             ]
            ],
            "type": "histogram2dcontour"
           }
          ],
          "mesh3d": [
           {
            "colorbar": {
             "outlinewidth": 0,
             "ticks": ""
            },
            "type": "mesh3d"
           }
          ],
          "parcoords": [
           {
            "line": {
             "colorbar": {
              "outlinewidth": 0,
              "ticks": ""
             }
            },
            "type": "parcoords"
           }
          ],
          "pie": [
           {
            "automargin": true,
            "type": "pie"
           }
          ],
          "scatter": [
           {
            "marker": {
             "colorbar": {
              "outlinewidth": 0,
              "ticks": ""
             }
            },
            "type": "scatter"
           }
          ],
          "scatter3d": [
           {
            "line": {
             "colorbar": {
              "outlinewidth": 0,
              "ticks": ""
             }
            },
            "marker": {
             "colorbar": {
              "outlinewidth": 0,
              "ticks": ""
             }
            },
            "type": "scatter3d"
           }
          ],
          "scattercarpet": [
           {
            "marker": {
             "colorbar": {
              "outlinewidth": 0,
              "ticks": ""
             }
            },
            "type": "scattercarpet"
           }
          ],
          "scattergeo": [
           {
            "marker": {
             "colorbar": {
              "outlinewidth": 0,
              "ticks": ""
             }
            },
            "type": "scattergeo"
           }
          ],
          "scattergl": [
           {
            "marker": {
             "colorbar": {
              "outlinewidth": 0,
              "ticks": ""
             }
            },
            "type": "scattergl"
           }
          ],
          "scattermapbox": [
           {
            "marker": {
             "colorbar": {
              "outlinewidth": 0,
              "ticks": ""
             }
            },
            "type": "scattermapbox"
           }
          ],
          "scatterpolar": [
           {
            "marker": {
             "colorbar": {
              "outlinewidth": 0,
              "ticks": ""
             }
            },
            "type": "scatterpolar"
           }
          ],
          "scatterpolargl": [
           {
            "marker": {
             "colorbar": {
              "outlinewidth": 0,
              "ticks": ""
             }
            },
            "type": "scatterpolargl"
           }
          ],
          "scatterternary": [
           {
            "marker": {
             "colorbar": {
              "outlinewidth": 0,
              "ticks": ""
             }
            },
            "type": "scatterternary"
           }
          ],
          "surface": [
           {
            "colorbar": {
             "outlinewidth": 0,
             "ticks": ""
            },
            "colorscale": [
             [
              0,
              "#0d0887"
             ],
             [
              0.1111111111111111,
              "#46039f"
             ],
             [
              0.2222222222222222,
              "#7201a8"
             ],
             [
              0.3333333333333333,
              "#9c179e"
             ],
             [
              0.4444444444444444,
              "#bd3786"
             ],
             [
              0.5555555555555556,
              "#d8576b"
             ],
             [
              0.6666666666666666,
              "#ed7953"
             ],
             [
              0.7777777777777778,
              "#fb9f3a"
             ],
             [
              0.8888888888888888,
              "#fdca26"
             ],
             [
              1,
              "#f0f921"
             ]
            ],
            "type": "surface"
           }
          ],
          "table": [
           {
            "cells": {
             "fill": {
              "color": "#EBF0F8"
             },
             "line": {
              "color": "white"
             }
            },
            "header": {
             "fill": {
              "color": "#C8D4E3"
             },
             "line": {
              "color": "white"
             }
            },
            "type": "table"
           }
          ]
         },
         "layout": {
          "annotationdefaults": {
           "arrowcolor": "#2a3f5f",
           "arrowhead": 0,
           "arrowwidth": 1
          },
          "coloraxis": {
           "colorbar": {
            "outlinewidth": 0,
            "ticks": ""
           }
          },
          "colorscale": {
           "diverging": [
            [
             0,
             "#8e0152"
            ],
            [
             0.1,
             "#c51b7d"
            ],
            [
             0.2,
             "#de77ae"
            ],
            [
             0.3,
             "#f1b6da"
            ],
            [
             0.4,
             "#fde0ef"
            ],
            [
             0.5,
             "#f7f7f7"
            ],
            [
             0.6,
             "#e6f5d0"
            ],
            [
             0.7,
             "#b8e186"
            ],
            [
             0.8,
             "#7fbc41"
            ],
            [
             0.9,
             "#4d9221"
            ],
            [
             1,
             "#276419"
            ]
           ],
           "sequential": [
            [
             0,
             "#0d0887"
            ],
            [
             0.1111111111111111,
             "#46039f"
            ],
            [
             0.2222222222222222,
             "#7201a8"
            ],
            [
             0.3333333333333333,
             "#9c179e"
            ],
            [
             0.4444444444444444,
             "#bd3786"
            ],
            [
             0.5555555555555556,
             "#d8576b"
            ],
            [
             0.6666666666666666,
             "#ed7953"
            ],
            [
             0.7777777777777778,
             "#fb9f3a"
            ],
            [
             0.8888888888888888,
             "#fdca26"
            ],
            [
             1,
             "#f0f921"
            ]
           ],
           "sequentialminus": [
            [
             0,
             "#0d0887"
            ],
            [
             0.1111111111111111,
             "#46039f"
            ],
            [
             0.2222222222222222,
             "#7201a8"
            ],
            [
             0.3333333333333333,
             "#9c179e"
            ],
            [
             0.4444444444444444,
             "#bd3786"
            ],
            [
             0.5555555555555556,
             "#d8576b"
            ],
            [
             0.6666666666666666,
             "#ed7953"
            ],
            [
             0.7777777777777778,
             "#fb9f3a"
            ],
            [
             0.8888888888888888,
             "#fdca26"
            ],
            [
             1,
             "#f0f921"
            ]
           ]
          },
          "colorway": [
           "#636efa",
           "#EF553B",
           "#00cc96",
           "#ab63fa",
           "#FFA15A",
           "#19d3f3",
           "#FF6692",
           "#B6E880",
           "#FF97FF",
           "#FECB52"
          ],
          "font": {
           "color": "#2a3f5f"
          },
          "geo": {
           "bgcolor": "white",
           "lakecolor": "white",
           "landcolor": "#E5ECF6",
           "showlakes": true,
           "showland": true,
           "subunitcolor": "white"
          },
          "hoverlabel": {
           "align": "left"
          },
          "hovermode": "closest",
          "mapbox": {
           "style": "light"
          },
          "paper_bgcolor": "white",
          "plot_bgcolor": "#E5ECF6",
          "polar": {
           "angularaxis": {
            "gridcolor": "white",
            "linecolor": "white",
            "ticks": ""
           },
           "bgcolor": "#E5ECF6",
           "radialaxis": {
            "gridcolor": "white",
            "linecolor": "white",
            "ticks": ""
           }
          },
          "scene": {
           "xaxis": {
            "backgroundcolor": "#E5ECF6",
            "gridcolor": "white",
            "gridwidth": 2,
            "linecolor": "white",
            "showbackground": true,
            "ticks": "",
            "zerolinecolor": "white"
           },
           "yaxis": {
            "backgroundcolor": "#E5ECF6",
            "gridcolor": "white",
            "gridwidth": 2,
            "linecolor": "white",
            "showbackground": true,
            "ticks": "",
            "zerolinecolor": "white"
           },
           "zaxis": {
            "backgroundcolor": "#E5ECF6",
            "gridcolor": "white",
            "gridwidth": 2,
            "linecolor": "white",
            "showbackground": true,
            "ticks": "",
            "zerolinecolor": "white"
           }
          },
          "shapedefaults": {
           "line": {
            "color": "#2a3f5f"
           }
          },
          "ternary": {
           "aaxis": {
            "gridcolor": "white",
            "linecolor": "white",
            "ticks": ""
           },
           "baxis": {
            "gridcolor": "white",
            "linecolor": "white",
            "ticks": ""
           },
           "bgcolor": "#E5ECF6",
           "caxis": {
            "gridcolor": "white",
            "linecolor": "white",
            "ticks": ""
           }
          },
          "title": {
           "x": 0.05
          },
          "xaxis": {
           "automargin": true,
           "gridcolor": "white",
           "linecolor": "white",
           "ticks": "",
           "title": {
            "standoff": 15
           },
           "zerolinecolor": "white",
           "zerolinewidth": 2
          },
          "yaxis": {
           "automargin": true,
           "gridcolor": "white",
           "linecolor": "white",
           "ticks": "",
           "title": {
            "standoff": 15
           },
           "zerolinecolor": "white",
           "zerolinewidth": 2
          }
         }
        },
        "title": {
         "font": {
          "color": "#4D5663"
         }
        },
        "xaxis": {
         "gridcolor": "#E1E5ED",
         "showgrid": true,
         "tickfont": {
          "color": "#4D5663"
         },
         "title": {
          "font": {
           "color": "#4D5663"
          },
          "text": ""
         },
         "zerolinecolor": "#E1E5ED"
        },
        "yaxis": {
         "gridcolor": "#E1E5ED",
         "showgrid": true,
         "tickfont": {
          "color": "#4D5663"
         },
         "title": {
          "font": {
           "color": "#4D5663"
          },
          "text": ""
         },
         "zerolinecolor": "#E1E5ED"
        }
       }
      },
      "text/html": [
       "<div>                            <div id=\"589ae9f2-61d2-401a-88b0-77a7d3cfe7d5\" class=\"plotly-graph-div\" style=\"height:525px; width:100%;\"></div>            <script type=\"text/javascript\">                require([\"plotly\"], function(Plotly) {                    window.PLOTLYENV=window.PLOTLYENV || {};\n",
       "                    window.PLOTLYENV.BASE_URL='https://plot.ly';                                    if (document.getElementById(\"589ae9f2-61d2-401a-88b0-77a7d3cfe7d5\")) {                    Plotly.newPlot(                        \"589ae9f2-61d2-401a-88b0-77a7d3cfe7d5\",                        [{\"marker\": {\"color\": \"rgba(255, 153, 51, 0.6)\", \"line\": {\"color\": \"rgba(255, 153, 51, 1.0)\", \"width\": 1}}, \"name\": \"None\", \"orientation\": \"v\", \"text\": \"\", \"type\": \"bar\", \"x\": [\"A\", \"B\", \"C\", \"D\"], \"y\": [3.0470713435133394, 11.676729807383474, -0.6791463047927142, 3.961530829075236]}],                        {\"legend\": {\"bgcolor\": \"#F5F6F9\", \"font\": {\"color\": \"#4D5663\"}}, \"paper_bgcolor\": \"#F5F6F9\", \"plot_bgcolor\": \"#F5F6F9\", \"template\": {\"data\": {\"bar\": [{\"error_x\": {\"color\": \"#2a3f5f\"}, \"error_y\": {\"color\": \"#2a3f5f\"}, \"marker\": {\"line\": {\"color\": \"#E5ECF6\", \"width\": 0.5}}, \"type\": \"bar\"}], \"barpolar\": [{\"marker\": {\"line\": {\"color\": \"#E5ECF6\", \"width\": 0.5}}, \"type\": \"barpolar\"}], \"carpet\": [{\"aaxis\": {\"endlinecolor\": \"#2a3f5f\", \"gridcolor\": \"white\", \"linecolor\": \"white\", \"minorgridcolor\": \"white\", \"startlinecolor\": \"#2a3f5f\"}, \"baxis\": {\"endlinecolor\": \"#2a3f5f\", \"gridcolor\": \"white\", \"linecolor\": \"white\", \"minorgridcolor\": \"white\", \"startlinecolor\": \"#2a3f5f\"}, \"type\": \"carpet\"}], \"choropleth\": [{\"colorbar\": {\"outlinewidth\": 0, \"ticks\": \"\"}, \"type\": \"choropleth\"}], \"contour\": [{\"colorbar\": {\"outlinewidth\": 0, \"ticks\": \"\"}, \"colorscale\": [[0.0, \"#0d0887\"], [0.1111111111111111, \"#46039f\"], [0.2222222222222222, \"#7201a8\"], [0.3333333333333333, \"#9c179e\"], [0.4444444444444444, \"#bd3786\"], [0.5555555555555556, \"#d8576b\"], [0.6666666666666666, \"#ed7953\"], [0.7777777777777778, \"#fb9f3a\"], [0.8888888888888888, \"#fdca26\"], [1.0, \"#f0f921\"]], \"type\": \"contour\"}], \"contourcarpet\": [{\"colorbar\": {\"outlinewidth\": 0, \"ticks\": \"\"}, \"type\": \"contourcarpet\"}], \"heatmap\": [{\"colorbar\": {\"outlinewidth\": 0, \"ticks\": \"\"}, \"colorscale\": [[0.0, \"#0d0887\"], [0.1111111111111111, \"#46039f\"], [0.2222222222222222, \"#7201a8\"], [0.3333333333333333, \"#9c179e\"], [0.4444444444444444, \"#bd3786\"], [0.5555555555555556, \"#d8576b\"], [0.6666666666666666, \"#ed7953\"], [0.7777777777777778, \"#fb9f3a\"], [0.8888888888888888, \"#fdca26\"], [1.0, \"#f0f921\"]], \"type\": \"heatmap\"}], \"heatmapgl\": [{\"colorbar\": {\"outlinewidth\": 0, \"ticks\": \"\"}, \"colorscale\": [[0.0, \"#0d0887\"], [0.1111111111111111, \"#46039f\"], [0.2222222222222222, \"#7201a8\"], [0.3333333333333333, \"#9c179e\"], [0.4444444444444444, \"#bd3786\"], [0.5555555555555556, \"#d8576b\"], [0.6666666666666666, \"#ed7953\"], [0.7777777777777778, \"#fb9f3a\"], [0.8888888888888888, \"#fdca26\"], [1.0, \"#f0f921\"]], \"type\": \"heatmapgl\"}], \"histogram\": [{\"marker\": {\"colorbar\": {\"outlinewidth\": 0, \"ticks\": \"\"}}, \"type\": \"histogram\"}], \"histogram2d\": [{\"colorbar\": {\"outlinewidth\": 0, \"ticks\": \"\"}, \"colorscale\": [[0.0, \"#0d0887\"], [0.1111111111111111, \"#46039f\"], [0.2222222222222222, \"#7201a8\"], [0.3333333333333333, \"#9c179e\"], [0.4444444444444444, \"#bd3786\"], [0.5555555555555556, \"#d8576b\"], [0.6666666666666666, \"#ed7953\"], [0.7777777777777778, \"#fb9f3a\"], [0.8888888888888888, \"#fdca26\"], [1.0, \"#f0f921\"]], \"type\": \"histogram2d\"}], \"histogram2dcontour\": [{\"colorbar\": {\"outlinewidth\": 0, \"ticks\": \"\"}, \"colorscale\": [[0.0, \"#0d0887\"], [0.1111111111111111, \"#46039f\"], [0.2222222222222222, \"#7201a8\"], [0.3333333333333333, \"#9c179e\"], [0.4444444444444444, \"#bd3786\"], [0.5555555555555556, \"#d8576b\"], [0.6666666666666666, \"#ed7953\"], [0.7777777777777778, \"#fb9f3a\"], [0.8888888888888888, \"#fdca26\"], [1.0, \"#f0f921\"]], \"type\": \"histogram2dcontour\"}], \"mesh3d\": [{\"colorbar\": {\"outlinewidth\": 0, \"ticks\": \"\"}, \"type\": \"mesh3d\"}], \"parcoords\": [{\"line\": {\"colorbar\": {\"outlinewidth\": 0, \"ticks\": \"\"}}, \"type\": \"parcoords\"}], \"pie\": [{\"automargin\": true, \"type\": \"pie\"}], \"scatter\": [{\"marker\": {\"colorbar\": {\"outlinewidth\": 0, \"ticks\": \"\"}}, \"type\": \"scatter\"}], \"scatter3d\": [{\"line\": {\"colorbar\": {\"outlinewidth\": 0, \"ticks\": \"\"}}, \"marker\": {\"colorbar\": {\"outlinewidth\": 0, \"ticks\": \"\"}}, \"type\": \"scatter3d\"}], \"scattercarpet\": [{\"marker\": {\"colorbar\": {\"outlinewidth\": 0, \"ticks\": \"\"}}, \"type\": \"scattercarpet\"}], \"scattergeo\": [{\"marker\": {\"colorbar\": {\"outlinewidth\": 0, \"ticks\": \"\"}}, \"type\": \"scattergeo\"}], \"scattergl\": [{\"marker\": {\"colorbar\": {\"outlinewidth\": 0, \"ticks\": \"\"}}, \"type\": \"scattergl\"}], \"scattermapbox\": [{\"marker\": {\"colorbar\": {\"outlinewidth\": 0, \"ticks\": \"\"}}, \"type\": \"scattermapbox\"}], \"scatterpolar\": [{\"marker\": {\"colorbar\": {\"outlinewidth\": 0, \"ticks\": \"\"}}, \"type\": \"scatterpolar\"}], \"scatterpolargl\": [{\"marker\": {\"colorbar\": {\"outlinewidth\": 0, \"ticks\": \"\"}}, \"type\": \"scatterpolargl\"}], \"scatterternary\": [{\"marker\": {\"colorbar\": {\"outlinewidth\": 0, \"ticks\": \"\"}}, \"type\": \"scatterternary\"}], \"surface\": [{\"colorbar\": {\"outlinewidth\": 0, \"ticks\": \"\"}, \"colorscale\": [[0.0, \"#0d0887\"], [0.1111111111111111, \"#46039f\"], [0.2222222222222222, \"#7201a8\"], [0.3333333333333333, \"#9c179e\"], [0.4444444444444444, \"#bd3786\"], [0.5555555555555556, \"#d8576b\"], [0.6666666666666666, \"#ed7953\"], [0.7777777777777778, \"#fb9f3a\"], [0.8888888888888888, \"#fdca26\"], [1.0, \"#f0f921\"]], \"type\": \"surface\"}], \"table\": [{\"cells\": {\"fill\": {\"color\": \"#EBF0F8\"}, \"line\": {\"color\": \"white\"}}, \"header\": {\"fill\": {\"color\": \"#C8D4E3\"}, \"line\": {\"color\": \"white\"}}, \"type\": \"table\"}]}, \"layout\": {\"annotationdefaults\": {\"arrowcolor\": \"#2a3f5f\", \"arrowhead\": 0, \"arrowwidth\": 1}, \"coloraxis\": {\"colorbar\": {\"outlinewidth\": 0, \"ticks\": \"\"}}, \"colorscale\": {\"diverging\": [[0, \"#8e0152\"], [0.1, \"#c51b7d\"], [0.2, \"#de77ae\"], [0.3, \"#f1b6da\"], [0.4, \"#fde0ef\"], [0.5, \"#f7f7f7\"], [0.6, \"#e6f5d0\"], [0.7, \"#b8e186\"], [0.8, \"#7fbc41\"], [0.9, \"#4d9221\"], [1, \"#276419\"]], \"sequential\": [[0.0, \"#0d0887\"], [0.1111111111111111, \"#46039f\"], [0.2222222222222222, \"#7201a8\"], [0.3333333333333333, \"#9c179e\"], [0.4444444444444444, \"#bd3786\"], [0.5555555555555556, \"#d8576b\"], [0.6666666666666666, \"#ed7953\"], [0.7777777777777778, \"#fb9f3a\"], [0.8888888888888888, \"#fdca26\"], [1.0, \"#f0f921\"]], \"sequentialminus\": [[0.0, \"#0d0887\"], [0.1111111111111111, \"#46039f\"], [0.2222222222222222, \"#7201a8\"], [0.3333333333333333, \"#9c179e\"], [0.4444444444444444, \"#bd3786\"], [0.5555555555555556, \"#d8576b\"], [0.6666666666666666, \"#ed7953\"], [0.7777777777777778, \"#fb9f3a\"], [0.8888888888888888, \"#fdca26\"], [1.0, \"#f0f921\"]]}, \"colorway\": [\"#636efa\", \"#EF553B\", \"#00cc96\", \"#ab63fa\", \"#FFA15A\", \"#19d3f3\", \"#FF6692\", \"#B6E880\", \"#FF97FF\", \"#FECB52\"], \"font\": {\"color\": \"#2a3f5f\"}, \"geo\": {\"bgcolor\": \"white\", \"lakecolor\": \"white\", \"landcolor\": \"#E5ECF6\", \"showlakes\": true, \"showland\": true, \"subunitcolor\": \"white\"}, \"hoverlabel\": {\"align\": \"left\"}, \"hovermode\": \"closest\", \"mapbox\": {\"style\": \"light\"}, \"paper_bgcolor\": \"white\", \"plot_bgcolor\": \"#E5ECF6\", \"polar\": {\"angularaxis\": {\"gridcolor\": \"white\", \"linecolor\": \"white\", \"ticks\": \"\"}, \"bgcolor\": \"#E5ECF6\", \"radialaxis\": {\"gridcolor\": \"white\", \"linecolor\": \"white\", \"ticks\": \"\"}}, \"scene\": {\"xaxis\": {\"backgroundcolor\": \"#E5ECF6\", \"gridcolor\": \"white\", \"gridwidth\": 2, \"linecolor\": \"white\", \"showbackground\": true, \"ticks\": \"\", \"zerolinecolor\": \"white\"}, \"yaxis\": {\"backgroundcolor\": \"#E5ECF6\", \"gridcolor\": \"white\", \"gridwidth\": 2, \"linecolor\": \"white\", \"showbackground\": true, \"ticks\": \"\", \"zerolinecolor\": \"white\"}, \"zaxis\": {\"backgroundcolor\": \"#E5ECF6\", \"gridcolor\": \"white\", \"gridwidth\": 2, \"linecolor\": \"white\", \"showbackground\": true, \"ticks\": \"\", \"zerolinecolor\": \"white\"}}, \"shapedefaults\": {\"line\": {\"color\": \"#2a3f5f\"}}, \"ternary\": {\"aaxis\": {\"gridcolor\": \"white\", \"linecolor\": \"white\", \"ticks\": \"\"}, \"baxis\": {\"gridcolor\": \"white\", \"linecolor\": \"white\", \"ticks\": \"\"}, \"bgcolor\": \"#E5ECF6\", \"caxis\": {\"gridcolor\": \"white\", \"linecolor\": \"white\", \"ticks\": \"\"}}, \"title\": {\"x\": 0.05}, \"xaxis\": {\"automargin\": true, \"gridcolor\": \"white\", \"linecolor\": \"white\", \"ticks\": \"\", \"title\": {\"standoff\": 15}, \"zerolinecolor\": \"white\", \"zerolinewidth\": 2}, \"yaxis\": {\"automargin\": true, \"gridcolor\": \"white\", \"linecolor\": \"white\", \"ticks\": \"\", \"title\": {\"standoff\": 15}, \"zerolinecolor\": \"white\", \"zerolinewidth\": 2}}}, \"title\": {\"font\": {\"color\": \"#4D5663\"}}, \"xaxis\": {\"gridcolor\": \"#E1E5ED\", \"showgrid\": true, \"tickfont\": {\"color\": \"#4D5663\"}, \"title\": {\"font\": {\"color\": \"#4D5663\"}, \"text\": \"\"}, \"zerolinecolor\": \"#E1E5ED\"}, \"yaxis\": {\"gridcolor\": \"#E1E5ED\", \"showgrid\": true, \"tickfont\": {\"color\": \"#4D5663\"}, \"title\": {\"font\": {\"color\": \"#4D5663\"}, \"text\": \"\"}, \"zerolinecolor\": \"#E1E5ED\"}},                        {\"showLink\": true, \"linkText\": \"Export to plot.ly\", \"plotlyServerURL\": \"https://plot.ly\", \"responsive\": true}                    ).then(function(){\n",
       "                            \n",
       "var gd = document.getElementById('589ae9f2-61d2-401a-88b0-77a7d3cfe7d5');\n",
       "var x = new MutationObserver(function (mutations, observer) {{\n",
       "        var display = window.getComputedStyle(gd).display;\n",
       "        if (!display || display === 'none') {{\n",
       "            console.log([gd, 'removed!']);\n",
       "            Plotly.purge(gd);\n",
       "            observer.disconnect();\n",
       "        }}\n",
       "}});\n",
       "\n",
       "// Listen for the removal of the full notebook cells\n",
       "var notebookContainer = gd.closest('#notebook-container');\n",
       "if (notebookContainer) {{\n",
       "    x.observe(notebookContainer, {childList: true});\n",
       "}}\n",
       "\n",
       "// Listen for the clearing of the current output cell\n",
       "var outputEl = gd.closest('.output');\n",
       "if (outputEl) {{\n",
       "    x.observe(outputEl, {childList: true});\n",
       "}}\n",
       "\n",
       "                        })                };                });            </script>        </div>"
      ]
     },
     "metadata": {},
     "output_type": "display_data"
    }
   ],
   "source": [
    "df.sum().iplot(kind='bar')"
   ]
  },
  {
   "cell_type": "code",
   "execution_count": 25,
   "metadata": {},
   "outputs": [
    {
     "data": {
      "application/vnd.plotly.v1+json": {
       "config": {
        "linkText": "Export to plot.ly",
        "plotlyServerURL": "https://plot.ly",
        "showLink": true
       },
       "data": [
        {
         "marker": {
          "color": "rgba(255, 153, 51, 0.6)",
          "line": {
           "color": "rgba(255, 153, 51, 1.0)",
           "width": 1
          }
         },
         "name": "None",
         "orientation": "v",
         "text": "",
         "type": "bar",
         "x": [
          "A",
          "B",
          "C",
          "D"
         ],
         "y": [
          0.030470713435133395,
          0.11676729807383474,
          -0.0067914630479271425,
          0.039615308290752355
         ]
        }
       ],
       "layout": {
        "legend": {
         "bgcolor": "#F5F6F9",
         "font": {
          "color": "#4D5663"
         }
        },
        "paper_bgcolor": "#F5F6F9",
        "plot_bgcolor": "#F5F6F9",
        "template": {
         "data": {
          "bar": [
           {
            "error_x": {
             "color": "#2a3f5f"
            },
            "error_y": {
             "color": "#2a3f5f"
            },
            "marker": {
             "line": {
              "color": "#E5ECF6",
              "width": 0.5
             }
            },
            "type": "bar"
           }
          ],
          "barpolar": [
           {
            "marker": {
             "line": {
              "color": "#E5ECF6",
              "width": 0.5
             }
            },
            "type": "barpolar"
           }
          ],
          "carpet": [
           {
            "aaxis": {
             "endlinecolor": "#2a3f5f",
             "gridcolor": "white",
             "linecolor": "white",
             "minorgridcolor": "white",
             "startlinecolor": "#2a3f5f"
            },
            "baxis": {
             "endlinecolor": "#2a3f5f",
             "gridcolor": "white",
             "linecolor": "white",
             "minorgridcolor": "white",
             "startlinecolor": "#2a3f5f"
            },
            "type": "carpet"
           }
          ],
          "choropleth": [
           {
            "colorbar": {
             "outlinewidth": 0,
             "ticks": ""
            },
            "type": "choropleth"
           }
          ],
          "contour": [
           {
            "colorbar": {
             "outlinewidth": 0,
             "ticks": ""
            },
            "colorscale": [
             [
              0,
              "#0d0887"
             ],
             [
              0.1111111111111111,
              "#46039f"
             ],
             [
              0.2222222222222222,
              "#7201a8"
             ],
             [
              0.3333333333333333,
              "#9c179e"
             ],
             [
              0.4444444444444444,
              "#bd3786"
             ],
             [
              0.5555555555555556,
              "#d8576b"
             ],
             [
              0.6666666666666666,
              "#ed7953"
             ],
             [
              0.7777777777777778,
              "#fb9f3a"
             ],
             [
              0.8888888888888888,
              "#fdca26"
             ],
             [
              1,
              "#f0f921"
             ]
            ],
            "type": "contour"
           }
          ],
          "contourcarpet": [
           {
            "colorbar": {
             "outlinewidth": 0,
             "ticks": ""
            },
            "type": "contourcarpet"
           }
          ],
          "heatmap": [
           {
            "colorbar": {
             "outlinewidth": 0,
             "ticks": ""
            },
            "colorscale": [
             [
              0,
              "#0d0887"
             ],
             [
              0.1111111111111111,
              "#46039f"
             ],
             [
              0.2222222222222222,
              "#7201a8"
             ],
             [
              0.3333333333333333,
              "#9c179e"
             ],
             [
              0.4444444444444444,
              "#bd3786"
             ],
             [
              0.5555555555555556,
              "#d8576b"
             ],
             [
              0.6666666666666666,
              "#ed7953"
             ],
             [
              0.7777777777777778,
              "#fb9f3a"
             ],
             [
              0.8888888888888888,
              "#fdca26"
             ],
             [
              1,
              "#f0f921"
             ]
            ],
            "type": "heatmap"
           }
          ],
          "heatmapgl": [
           {
            "colorbar": {
             "outlinewidth": 0,
             "ticks": ""
            },
            "colorscale": [
             [
              0,
              "#0d0887"
             ],
             [
              0.1111111111111111,
              "#46039f"
             ],
             [
              0.2222222222222222,
              "#7201a8"
             ],
             [
              0.3333333333333333,
              "#9c179e"
             ],
             [
              0.4444444444444444,
              "#bd3786"
             ],
             [
              0.5555555555555556,
              "#d8576b"
             ],
             [
              0.6666666666666666,
              "#ed7953"
             ],
             [
              0.7777777777777778,
              "#fb9f3a"
             ],
             [
              0.8888888888888888,
              "#fdca26"
             ],
             [
              1,
              "#f0f921"
             ]
            ],
            "type": "heatmapgl"
           }
          ],
          "histogram": [
           {
            "marker": {
             "colorbar": {
              "outlinewidth": 0,
              "ticks": ""
             }
            },
            "type": "histogram"
           }
          ],
          "histogram2d": [
           {
            "colorbar": {
             "outlinewidth": 0,
             "ticks": ""
            },
            "colorscale": [
             [
              0,
              "#0d0887"
             ],
             [
              0.1111111111111111,
              "#46039f"
             ],
             [
              0.2222222222222222,
              "#7201a8"
             ],
             [
              0.3333333333333333,
              "#9c179e"
             ],
             [
              0.4444444444444444,
              "#bd3786"
             ],
             [
              0.5555555555555556,
              "#d8576b"
             ],
             [
              0.6666666666666666,
              "#ed7953"
             ],
             [
              0.7777777777777778,
              "#fb9f3a"
             ],
             [
              0.8888888888888888,
              "#fdca26"
             ],
             [
              1,
              "#f0f921"
             ]
            ],
            "type": "histogram2d"
           }
          ],
          "histogram2dcontour": [
           {
            "colorbar": {
             "outlinewidth": 0,
             "ticks": ""
            },
            "colorscale": [
             [
              0,
              "#0d0887"
             ],
             [
              0.1111111111111111,
              "#46039f"
             ],
             [
              0.2222222222222222,
              "#7201a8"
             ],
             [
              0.3333333333333333,
              "#9c179e"
             ],
             [
              0.4444444444444444,
              "#bd3786"
             ],
             [
              0.5555555555555556,
              "#d8576b"
             ],
             [
              0.6666666666666666,
              "#ed7953"
             ],
             [
              0.7777777777777778,
              "#fb9f3a"
             ],
             [
              0.8888888888888888,
              "#fdca26"
             ],
             [
              1,
              "#f0f921"
             ]
            ],
            "type": "histogram2dcontour"
           }
          ],
          "mesh3d": [
           {
            "colorbar": {
             "outlinewidth": 0,
             "ticks": ""
            },
            "type": "mesh3d"
           }
          ],
          "parcoords": [
           {
            "line": {
             "colorbar": {
              "outlinewidth": 0,
              "ticks": ""
             }
            },
            "type": "parcoords"
           }
          ],
          "pie": [
           {
            "automargin": true,
            "type": "pie"
           }
          ],
          "scatter": [
           {
            "marker": {
             "colorbar": {
              "outlinewidth": 0,
              "ticks": ""
             }
            },
            "type": "scatter"
           }
          ],
          "scatter3d": [
           {
            "line": {
             "colorbar": {
              "outlinewidth": 0,
              "ticks": ""
             }
            },
            "marker": {
             "colorbar": {
              "outlinewidth": 0,
              "ticks": ""
             }
            },
            "type": "scatter3d"
           }
          ],
          "scattercarpet": [
           {
            "marker": {
             "colorbar": {
              "outlinewidth": 0,
              "ticks": ""
             }
            },
            "type": "scattercarpet"
           }
          ],
          "scattergeo": [
           {
            "marker": {
             "colorbar": {
              "outlinewidth": 0,
              "ticks": ""
             }
            },
            "type": "scattergeo"
           }
          ],
          "scattergl": [
           {
            "marker": {
             "colorbar": {
              "outlinewidth": 0,
              "ticks": ""
             }
            },
            "type": "scattergl"
           }
          ],
          "scattermapbox": [
           {
            "marker": {
             "colorbar": {
              "outlinewidth": 0,
              "ticks": ""
             }
            },
            "type": "scattermapbox"
           }
          ],
          "scatterpolar": [
           {
            "marker": {
             "colorbar": {
              "outlinewidth": 0,
              "ticks": ""
             }
            },
            "type": "scatterpolar"
           }
          ],
          "scatterpolargl": [
           {
            "marker": {
             "colorbar": {
              "outlinewidth": 0,
              "ticks": ""
             }
            },
            "type": "scatterpolargl"
           }
          ],
          "scatterternary": [
           {
            "marker": {
             "colorbar": {
              "outlinewidth": 0,
              "ticks": ""
             }
            },
            "type": "scatterternary"
           }
          ],
          "surface": [
           {
            "colorbar": {
             "outlinewidth": 0,
             "ticks": ""
            },
            "colorscale": [
             [
              0,
              "#0d0887"
             ],
             [
              0.1111111111111111,
              "#46039f"
             ],
             [
              0.2222222222222222,
              "#7201a8"
             ],
             [
              0.3333333333333333,
              "#9c179e"
             ],
             [
              0.4444444444444444,
              "#bd3786"
             ],
             [
              0.5555555555555556,
              "#d8576b"
             ],
             [
              0.6666666666666666,
              "#ed7953"
             ],
             [
              0.7777777777777778,
              "#fb9f3a"
             ],
             [
              0.8888888888888888,
              "#fdca26"
             ],
             [
              1,
              "#f0f921"
             ]
            ],
            "type": "surface"
           }
          ],
          "table": [
           {
            "cells": {
             "fill": {
              "color": "#EBF0F8"
             },
             "line": {
              "color": "white"
             }
            },
            "header": {
             "fill": {
              "color": "#C8D4E3"
             },
             "line": {
              "color": "white"
             }
            },
            "type": "table"
           }
          ]
         },
         "layout": {
          "annotationdefaults": {
           "arrowcolor": "#2a3f5f",
           "arrowhead": 0,
           "arrowwidth": 1
          },
          "coloraxis": {
           "colorbar": {
            "outlinewidth": 0,
            "ticks": ""
           }
          },
          "colorscale": {
           "diverging": [
            [
             0,
             "#8e0152"
            ],
            [
             0.1,
             "#c51b7d"
            ],
            [
             0.2,
             "#de77ae"
            ],
            [
             0.3,
             "#f1b6da"
            ],
            [
             0.4,
             "#fde0ef"
            ],
            [
             0.5,
             "#f7f7f7"
            ],
            [
             0.6,
             "#e6f5d0"
            ],
            [
             0.7,
             "#b8e186"
            ],
            [
             0.8,
             "#7fbc41"
            ],
            [
             0.9,
             "#4d9221"
            ],
            [
             1,
             "#276419"
            ]
           ],
           "sequential": [
            [
             0,
             "#0d0887"
            ],
            [
             0.1111111111111111,
             "#46039f"
            ],
            [
             0.2222222222222222,
             "#7201a8"
            ],
            [
             0.3333333333333333,
             "#9c179e"
            ],
            [
             0.4444444444444444,
             "#bd3786"
            ],
            [
             0.5555555555555556,
             "#d8576b"
            ],
            [
             0.6666666666666666,
             "#ed7953"
            ],
            [
             0.7777777777777778,
             "#fb9f3a"
            ],
            [
             0.8888888888888888,
             "#fdca26"
            ],
            [
             1,
             "#f0f921"
            ]
           ],
           "sequentialminus": [
            [
             0,
             "#0d0887"
            ],
            [
             0.1111111111111111,
             "#46039f"
            ],
            [
             0.2222222222222222,
             "#7201a8"
            ],
            [
             0.3333333333333333,
             "#9c179e"
            ],
            [
             0.4444444444444444,
             "#bd3786"
            ],
            [
             0.5555555555555556,
             "#d8576b"
            ],
            [
             0.6666666666666666,
             "#ed7953"
            ],
            [
             0.7777777777777778,
             "#fb9f3a"
            ],
            [
             0.8888888888888888,
             "#fdca26"
            ],
            [
             1,
             "#f0f921"
            ]
           ]
          },
          "colorway": [
           "#636efa",
           "#EF553B",
           "#00cc96",
           "#ab63fa",
           "#FFA15A",
           "#19d3f3",
           "#FF6692",
           "#B6E880",
           "#FF97FF",
           "#FECB52"
          ],
          "font": {
           "color": "#2a3f5f"
          },
          "geo": {
           "bgcolor": "white",
           "lakecolor": "white",
           "landcolor": "#E5ECF6",
           "showlakes": true,
           "showland": true,
           "subunitcolor": "white"
          },
          "hoverlabel": {
           "align": "left"
          },
          "hovermode": "closest",
          "mapbox": {
           "style": "light"
          },
          "paper_bgcolor": "white",
          "plot_bgcolor": "#E5ECF6",
          "polar": {
           "angularaxis": {
            "gridcolor": "white",
            "linecolor": "white",
            "ticks": ""
           },
           "bgcolor": "#E5ECF6",
           "radialaxis": {
            "gridcolor": "white",
            "linecolor": "white",
            "ticks": ""
           }
          },
          "scene": {
           "xaxis": {
            "backgroundcolor": "#E5ECF6",
            "gridcolor": "white",
            "gridwidth": 2,
            "linecolor": "white",
            "showbackground": true,
            "ticks": "",
            "zerolinecolor": "white"
           },
           "yaxis": {
            "backgroundcolor": "#E5ECF6",
            "gridcolor": "white",
            "gridwidth": 2,
            "linecolor": "white",
            "showbackground": true,
            "ticks": "",
            "zerolinecolor": "white"
           },
           "zaxis": {
            "backgroundcolor": "#E5ECF6",
            "gridcolor": "white",
            "gridwidth": 2,
            "linecolor": "white",
            "showbackground": true,
            "ticks": "",
            "zerolinecolor": "white"
           }
          },
          "shapedefaults": {
           "line": {
            "color": "#2a3f5f"
           }
          },
          "ternary": {
           "aaxis": {
            "gridcolor": "white",
            "linecolor": "white",
            "ticks": ""
           },
           "baxis": {
            "gridcolor": "white",
            "linecolor": "white",
            "ticks": ""
           },
           "bgcolor": "#E5ECF6",
           "caxis": {
            "gridcolor": "white",
            "linecolor": "white",
            "ticks": ""
           }
          },
          "title": {
           "x": 0.05
          },
          "xaxis": {
           "automargin": true,
           "gridcolor": "white",
           "linecolor": "white",
           "ticks": "",
           "title": {
            "standoff": 15
           },
           "zerolinecolor": "white",
           "zerolinewidth": 2
          },
          "yaxis": {
           "automargin": true,
           "gridcolor": "white",
           "linecolor": "white",
           "ticks": "",
           "title": {
            "standoff": 15
           },
           "zerolinecolor": "white",
           "zerolinewidth": 2
          }
         }
        },
        "title": {
         "font": {
          "color": "#4D5663"
         }
        },
        "xaxis": {
         "gridcolor": "#E1E5ED",
         "showgrid": true,
         "tickfont": {
          "color": "#4D5663"
         },
         "title": {
          "font": {
           "color": "#4D5663"
          },
          "text": ""
         },
         "zerolinecolor": "#E1E5ED"
        },
        "yaxis": {
         "gridcolor": "#E1E5ED",
         "showgrid": true,
         "tickfont": {
          "color": "#4D5663"
         },
         "title": {
          "font": {
           "color": "#4D5663"
          },
          "text": ""
         },
         "zerolinecolor": "#E1E5ED"
        }
       }
      },
      "text/html": [
       "<div>                            <div id=\"9cd836b0-ff6b-408d-bce1-7ab35b3bddad\" class=\"plotly-graph-div\" style=\"height:525px; width:100%;\"></div>            <script type=\"text/javascript\">                require([\"plotly\"], function(Plotly) {                    window.PLOTLYENV=window.PLOTLYENV || {};\n",
       "                    window.PLOTLYENV.BASE_URL='https://plot.ly';                                    if (document.getElementById(\"9cd836b0-ff6b-408d-bce1-7ab35b3bddad\")) {                    Plotly.newPlot(                        \"9cd836b0-ff6b-408d-bce1-7ab35b3bddad\",                        [{\"marker\": {\"color\": \"rgba(255, 153, 51, 0.6)\", \"line\": {\"color\": \"rgba(255, 153, 51, 1.0)\", \"width\": 1}}, \"name\": \"None\", \"orientation\": \"v\", \"text\": \"\", \"type\": \"bar\", \"x\": [\"A\", \"B\", \"C\", \"D\"], \"y\": [0.030470713435133395, 0.11676729807383474, -0.0067914630479271425, 0.039615308290752355]}],                        {\"legend\": {\"bgcolor\": \"#F5F6F9\", \"font\": {\"color\": \"#4D5663\"}}, \"paper_bgcolor\": \"#F5F6F9\", \"plot_bgcolor\": \"#F5F6F9\", \"template\": {\"data\": {\"bar\": [{\"error_x\": {\"color\": \"#2a3f5f\"}, \"error_y\": {\"color\": \"#2a3f5f\"}, \"marker\": {\"line\": {\"color\": \"#E5ECF6\", \"width\": 0.5}}, \"type\": \"bar\"}], \"barpolar\": [{\"marker\": {\"line\": {\"color\": \"#E5ECF6\", \"width\": 0.5}}, \"type\": \"barpolar\"}], \"carpet\": [{\"aaxis\": {\"endlinecolor\": \"#2a3f5f\", \"gridcolor\": \"white\", \"linecolor\": \"white\", \"minorgridcolor\": \"white\", \"startlinecolor\": \"#2a3f5f\"}, \"baxis\": {\"endlinecolor\": \"#2a3f5f\", \"gridcolor\": \"white\", \"linecolor\": \"white\", \"minorgridcolor\": \"white\", \"startlinecolor\": \"#2a3f5f\"}, \"type\": \"carpet\"}], \"choropleth\": [{\"colorbar\": {\"outlinewidth\": 0, \"ticks\": \"\"}, \"type\": \"choropleth\"}], \"contour\": [{\"colorbar\": {\"outlinewidth\": 0, \"ticks\": \"\"}, \"colorscale\": [[0.0, \"#0d0887\"], [0.1111111111111111, \"#46039f\"], [0.2222222222222222, \"#7201a8\"], [0.3333333333333333, \"#9c179e\"], [0.4444444444444444, \"#bd3786\"], [0.5555555555555556, \"#d8576b\"], [0.6666666666666666, \"#ed7953\"], [0.7777777777777778, \"#fb9f3a\"], [0.8888888888888888, \"#fdca26\"], [1.0, \"#f0f921\"]], \"type\": \"contour\"}], \"contourcarpet\": [{\"colorbar\": {\"outlinewidth\": 0, \"ticks\": \"\"}, \"type\": \"contourcarpet\"}], \"heatmap\": [{\"colorbar\": {\"outlinewidth\": 0, \"ticks\": \"\"}, \"colorscale\": [[0.0, \"#0d0887\"], [0.1111111111111111, \"#46039f\"], [0.2222222222222222, \"#7201a8\"], [0.3333333333333333, \"#9c179e\"], [0.4444444444444444, \"#bd3786\"], [0.5555555555555556, \"#d8576b\"], [0.6666666666666666, \"#ed7953\"], [0.7777777777777778, \"#fb9f3a\"], [0.8888888888888888, \"#fdca26\"], [1.0, \"#f0f921\"]], \"type\": \"heatmap\"}], \"heatmapgl\": [{\"colorbar\": {\"outlinewidth\": 0, \"ticks\": \"\"}, \"colorscale\": [[0.0, \"#0d0887\"], [0.1111111111111111, \"#46039f\"], [0.2222222222222222, \"#7201a8\"], [0.3333333333333333, \"#9c179e\"], [0.4444444444444444, \"#bd3786\"], [0.5555555555555556, \"#d8576b\"], [0.6666666666666666, \"#ed7953\"], [0.7777777777777778, \"#fb9f3a\"], [0.8888888888888888, \"#fdca26\"], [1.0, \"#f0f921\"]], \"type\": \"heatmapgl\"}], \"histogram\": [{\"marker\": {\"colorbar\": {\"outlinewidth\": 0, \"ticks\": \"\"}}, \"type\": \"histogram\"}], \"histogram2d\": [{\"colorbar\": {\"outlinewidth\": 0, \"ticks\": \"\"}, \"colorscale\": [[0.0, \"#0d0887\"], [0.1111111111111111, \"#46039f\"], [0.2222222222222222, \"#7201a8\"], [0.3333333333333333, \"#9c179e\"], [0.4444444444444444, \"#bd3786\"], [0.5555555555555556, \"#d8576b\"], [0.6666666666666666, \"#ed7953\"], [0.7777777777777778, \"#fb9f3a\"], [0.8888888888888888, \"#fdca26\"], [1.0, \"#f0f921\"]], \"type\": \"histogram2d\"}], \"histogram2dcontour\": [{\"colorbar\": {\"outlinewidth\": 0, \"ticks\": \"\"}, \"colorscale\": [[0.0, \"#0d0887\"], [0.1111111111111111, \"#46039f\"], [0.2222222222222222, \"#7201a8\"], [0.3333333333333333, \"#9c179e\"], [0.4444444444444444, \"#bd3786\"], [0.5555555555555556, \"#d8576b\"], [0.6666666666666666, \"#ed7953\"], [0.7777777777777778, \"#fb9f3a\"], [0.8888888888888888, \"#fdca26\"], [1.0, \"#f0f921\"]], \"type\": \"histogram2dcontour\"}], \"mesh3d\": [{\"colorbar\": {\"outlinewidth\": 0, \"ticks\": \"\"}, \"type\": \"mesh3d\"}], \"parcoords\": [{\"line\": {\"colorbar\": {\"outlinewidth\": 0, \"ticks\": \"\"}}, \"type\": \"parcoords\"}], \"pie\": [{\"automargin\": true, \"type\": \"pie\"}], \"scatter\": [{\"marker\": {\"colorbar\": {\"outlinewidth\": 0, \"ticks\": \"\"}}, \"type\": \"scatter\"}], \"scatter3d\": [{\"line\": {\"colorbar\": {\"outlinewidth\": 0, \"ticks\": \"\"}}, \"marker\": {\"colorbar\": {\"outlinewidth\": 0, \"ticks\": \"\"}}, \"type\": \"scatter3d\"}], \"scattercarpet\": [{\"marker\": {\"colorbar\": {\"outlinewidth\": 0, \"ticks\": \"\"}}, \"type\": \"scattercarpet\"}], \"scattergeo\": [{\"marker\": {\"colorbar\": {\"outlinewidth\": 0, \"ticks\": \"\"}}, \"type\": \"scattergeo\"}], \"scattergl\": [{\"marker\": {\"colorbar\": {\"outlinewidth\": 0, \"ticks\": \"\"}}, \"type\": \"scattergl\"}], \"scattermapbox\": [{\"marker\": {\"colorbar\": {\"outlinewidth\": 0, \"ticks\": \"\"}}, \"type\": \"scattermapbox\"}], \"scatterpolar\": [{\"marker\": {\"colorbar\": {\"outlinewidth\": 0, \"ticks\": \"\"}}, \"type\": \"scatterpolar\"}], \"scatterpolargl\": [{\"marker\": {\"colorbar\": {\"outlinewidth\": 0, \"ticks\": \"\"}}, \"type\": \"scatterpolargl\"}], \"scatterternary\": [{\"marker\": {\"colorbar\": {\"outlinewidth\": 0, \"ticks\": \"\"}}, \"type\": \"scatterternary\"}], \"surface\": [{\"colorbar\": {\"outlinewidth\": 0, \"ticks\": \"\"}, \"colorscale\": [[0.0, \"#0d0887\"], [0.1111111111111111, \"#46039f\"], [0.2222222222222222, \"#7201a8\"], [0.3333333333333333, \"#9c179e\"], [0.4444444444444444, \"#bd3786\"], [0.5555555555555556, \"#d8576b\"], [0.6666666666666666, \"#ed7953\"], [0.7777777777777778, \"#fb9f3a\"], [0.8888888888888888, \"#fdca26\"], [1.0, \"#f0f921\"]], \"type\": \"surface\"}], \"table\": [{\"cells\": {\"fill\": {\"color\": \"#EBF0F8\"}, \"line\": {\"color\": \"white\"}}, \"header\": {\"fill\": {\"color\": \"#C8D4E3\"}, \"line\": {\"color\": \"white\"}}, \"type\": \"table\"}]}, \"layout\": {\"annotationdefaults\": {\"arrowcolor\": \"#2a3f5f\", \"arrowhead\": 0, \"arrowwidth\": 1}, \"coloraxis\": {\"colorbar\": {\"outlinewidth\": 0, \"ticks\": \"\"}}, \"colorscale\": {\"diverging\": [[0, \"#8e0152\"], [0.1, \"#c51b7d\"], [0.2, \"#de77ae\"], [0.3, \"#f1b6da\"], [0.4, \"#fde0ef\"], [0.5, \"#f7f7f7\"], [0.6, \"#e6f5d0\"], [0.7, \"#b8e186\"], [0.8, \"#7fbc41\"], [0.9, \"#4d9221\"], [1, \"#276419\"]], \"sequential\": [[0.0, \"#0d0887\"], [0.1111111111111111, \"#46039f\"], [0.2222222222222222, \"#7201a8\"], [0.3333333333333333, \"#9c179e\"], [0.4444444444444444, \"#bd3786\"], [0.5555555555555556, \"#d8576b\"], [0.6666666666666666, \"#ed7953\"], [0.7777777777777778, \"#fb9f3a\"], [0.8888888888888888, \"#fdca26\"], [1.0, \"#f0f921\"]], \"sequentialminus\": [[0.0, \"#0d0887\"], [0.1111111111111111, \"#46039f\"], [0.2222222222222222, \"#7201a8\"], [0.3333333333333333, \"#9c179e\"], [0.4444444444444444, \"#bd3786\"], [0.5555555555555556, \"#d8576b\"], [0.6666666666666666, \"#ed7953\"], [0.7777777777777778, \"#fb9f3a\"], [0.8888888888888888, \"#fdca26\"], [1.0, \"#f0f921\"]]}, \"colorway\": [\"#636efa\", \"#EF553B\", \"#00cc96\", \"#ab63fa\", \"#FFA15A\", \"#19d3f3\", \"#FF6692\", \"#B6E880\", \"#FF97FF\", \"#FECB52\"], \"font\": {\"color\": \"#2a3f5f\"}, \"geo\": {\"bgcolor\": \"white\", \"lakecolor\": \"white\", \"landcolor\": \"#E5ECF6\", \"showlakes\": true, \"showland\": true, \"subunitcolor\": \"white\"}, \"hoverlabel\": {\"align\": \"left\"}, \"hovermode\": \"closest\", \"mapbox\": {\"style\": \"light\"}, \"paper_bgcolor\": \"white\", \"plot_bgcolor\": \"#E5ECF6\", \"polar\": {\"angularaxis\": {\"gridcolor\": \"white\", \"linecolor\": \"white\", \"ticks\": \"\"}, \"bgcolor\": \"#E5ECF6\", \"radialaxis\": {\"gridcolor\": \"white\", \"linecolor\": \"white\", \"ticks\": \"\"}}, \"scene\": {\"xaxis\": {\"backgroundcolor\": \"#E5ECF6\", \"gridcolor\": \"white\", \"gridwidth\": 2, \"linecolor\": \"white\", \"showbackground\": true, \"ticks\": \"\", \"zerolinecolor\": \"white\"}, \"yaxis\": {\"backgroundcolor\": \"#E5ECF6\", \"gridcolor\": \"white\", \"gridwidth\": 2, \"linecolor\": \"white\", \"showbackground\": true, \"ticks\": \"\", \"zerolinecolor\": \"white\"}, \"zaxis\": {\"backgroundcolor\": \"#E5ECF6\", \"gridcolor\": \"white\", \"gridwidth\": 2, \"linecolor\": \"white\", \"showbackground\": true, \"ticks\": \"\", \"zerolinecolor\": \"white\"}}, \"shapedefaults\": {\"line\": {\"color\": \"#2a3f5f\"}}, \"ternary\": {\"aaxis\": {\"gridcolor\": \"white\", \"linecolor\": \"white\", \"ticks\": \"\"}, \"baxis\": {\"gridcolor\": \"white\", \"linecolor\": \"white\", \"ticks\": \"\"}, \"bgcolor\": \"#E5ECF6\", \"caxis\": {\"gridcolor\": \"white\", \"linecolor\": \"white\", \"ticks\": \"\"}}, \"title\": {\"x\": 0.05}, \"xaxis\": {\"automargin\": true, \"gridcolor\": \"white\", \"linecolor\": \"white\", \"ticks\": \"\", \"title\": {\"standoff\": 15}, \"zerolinecolor\": \"white\", \"zerolinewidth\": 2}, \"yaxis\": {\"automargin\": true, \"gridcolor\": \"white\", \"linecolor\": \"white\", \"ticks\": \"\", \"title\": {\"standoff\": 15}, \"zerolinecolor\": \"white\", \"zerolinewidth\": 2}}}, \"title\": {\"font\": {\"color\": \"#4D5663\"}}, \"xaxis\": {\"gridcolor\": \"#E1E5ED\", \"showgrid\": true, \"tickfont\": {\"color\": \"#4D5663\"}, \"title\": {\"font\": {\"color\": \"#4D5663\"}, \"text\": \"\"}, \"zerolinecolor\": \"#E1E5ED\"}, \"yaxis\": {\"gridcolor\": \"#E1E5ED\", \"showgrid\": true, \"tickfont\": {\"color\": \"#4D5663\"}, \"title\": {\"font\": {\"color\": \"#4D5663\"}, \"text\": \"\"}, \"zerolinecolor\": \"#E1E5ED\"}},                        {\"showLink\": true, \"linkText\": \"Export to plot.ly\", \"plotlyServerURL\": \"https://plot.ly\", \"responsive\": true}                    ).then(function(){\n",
       "                            \n",
       "var gd = document.getElementById('9cd836b0-ff6b-408d-bce1-7ab35b3bddad');\n",
       "var x = new MutationObserver(function (mutations, observer) {{\n",
       "        var display = window.getComputedStyle(gd).display;\n",
       "        if (!display || display === 'none') {{\n",
       "            console.log([gd, 'removed!']);\n",
       "            Plotly.purge(gd);\n",
       "            observer.disconnect();\n",
       "        }}\n",
       "}});\n",
       "\n",
       "// Listen for the removal of the full notebook cells\n",
       "var notebookContainer = gd.closest('#notebook-container');\n",
       "if (notebookContainer) {{\n",
       "    x.observe(notebookContainer, {childList: true});\n",
       "}}\n",
       "\n",
       "// Listen for the clearing of the current output cell\n",
       "var outputEl = gd.closest('.output');\n",
       "if (outputEl) {{\n",
       "    x.observe(outputEl, {childList: true});\n",
       "}}\n",
       "\n",
       "                        })                };                });            </script>        </div>"
      ]
     },
     "metadata": {},
     "output_type": "display_data"
    }
   ],
   "source": [
    "df.mean().iplot(kind='bar')"
   ]
  },
  {
   "cell_type": "code",
   "execution_count": 26,
   "metadata": {},
   "outputs": [
    {
     "data": {
      "application/vnd.plotly.v1+json": {
       "config": {
        "linkText": "Export to plot.ly",
        "plotlyServerURL": "https://plot.ly",
        "showLink": true
       },
       "data": [
        {
         "marker": {
          "color": "rgba(255, 153, 51, 0.6)",
          "line": {
           "color": "rgba(255, 153, 51, 1.0)",
           "width": 1
          }
         },
         "name": "Values",
         "orientation": "v",
         "text": "",
         "type": "bar",
         "x": [
          "A",
          "B",
          "C"
         ],
         "y": [
          32,
          43,
          50
         ]
        }
       ],
       "layout": {
        "legend": {
         "bgcolor": "#F5F6F9",
         "font": {
          "color": "#4D5663"
         }
        },
        "paper_bgcolor": "#F5F6F9",
        "plot_bgcolor": "#F5F6F9",
        "template": {
         "data": {
          "bar": [
           {
            "error_x": {
             "color": "#2a3f5f"
            },
            "error_y": {
             "color": "#2a3f5f"
            },
            "marker": {
             "line": {
              "color": "#E5ECF6",
              "width": 0.5
             }
            },
            "type": "bar"
           }
          ],
          "barpolar": [
           {
            "marker": {
             "line": {
              "color": "#E5ECF6",
              "width": 0.5
             }
            },
            "type": "barpolar"
           }
          ],
          "carpet": [
           {
            "aaxis": {
             "endlinecolor": "#2a3f5f",
             "gridcolor": "white",
             "linecolor": "white",
             "minorgridcolor": "white",
             "startlinecolor": "#2a3f5f"
            },
            "baxis": {
             "endlinecolor": "#2a3f5f",
             "gridcolor": "white",
             "linecolor": "white",
             "minorgridcolor": "white",
             "startlinecolor": "#2a3f5f"
            },
            "type": "carpet"
           }
          ],
          "choropleth": [
           {
            "colorbar": {
             "outlinewidth": 0,
             "ticks": ""
            },
            "type": "choropleth"
           }
          ],
          "contour": [
           {
            "colorbar": {
             "outlinewidth": 0,
             "ticks": ""
            },
            "colorscale": [
             [
              0,
              "#0d0887"
             ],
             [
              0.1111111111111111,
              "#46039f"
             ],
             [
              0.2222222222222222,
              "#7201a8"
             ],
             [
              0.3333333333333333,
              "#9c179e"
             ],
             [
              0.4444444444444444,
              "#bd3786"
             ],
             [
              0.5555555555555556,
              "#d8576b"
             ],
             [
              0.6666666666666666,
              "#ed7953"
             ],
             [
              0.7777777777777778,
              "#fb9f3a"
             ],
             [
              0.8888888888888888,
              "#fdca26"
             ],
             [
              1,
              "#f0f921"
             ]
            ],
            "type": "contour"
           }
          ],
          "contourcarpet": [
           {
            "colorbar": {
             "outlinewidth": 0,
             "ticks": ""
            },
            "type": "contourcarpet"
           }
          ],
          "heatmap": [
           {
            "colorbar": {
             "outlinewidth": 0,
             "ticks": ""
            },
            "colorscale": [
             [
              0,
              "#0d0887"
             ],
             [
              0.1111111111111111,
              "#46039f"
             ],
             [
              0.2222222222222222,
              "#7201a8"
             ],
             [
              0.3333333333333333,
              "#9c179e"
             ],
             [
              0.4444444444444444,
              "#bd3786"
             ],
             [
              0.5555555555555556,
              "#d8576b"
             ],
             [
              0.6666666666666666,
              "#ed7953"
             ],
             [
              0.7777777777777778,
              "#fb9f3a"
             ],
             [
              0.8888888888888888,
              "#fdca26"
             ],
             [
              1,
              "#f0f921"
             ]
            ],
            "type": "heatmap"
           }
          ],
          "heatmapgl": [
           {
            "colorbar": {
             "outlinewidth": 0,
             "ticks": ""
            },
            "colorscale": [
             [
              0,
              "#0d0887"
             ],
             [
              0.1111111111111111,
              "#46039f"
             ],
             [
              0.2222222222222222,
              "#7201a8"
             ],
             [
              0.3333333333333333,
              "#9c179e"
             ],
             [
              0.4444444444444444,
              "#bd3786"
             ],
             [
              0.5555555555555556,
              "#d8576b"
             ],
             [
              0.6666666666666666,
              "#ed7953"
             ],
             [
              0.7777777777777778,
              "#fb9f3a"
             ],
             [
              0.8888888888888888,
              "#fdca26"
             ],
             [
              1,
              "#f0f921"
             ]
            ],
            "type": "heatmapgl"
           }
          ],
          "histogram": [
           {
            "marker": {
             "colorbar": {
              "outlinewidth": 0,
              "ticks": ""
             }
            },
            "type": "histogram"
           }
          ],
          "histogram2d": [
           {
            "colorbar": {
             "outlinewidth": 0,
             "ticks": ""
            },
            "colorscale": [
             [
              0,
              "#0d0887"
             ],
             [
              0.1111111111111111,
              "#46039f"
             ],
             [
              0.2222222222222222,
              "#7201a8"
             ],
             [
              0.3333333333333333,
              "#9c179e"
             ],
             [
              0.4444444444444444,
              "#bd3786"
             ],
             [
              0.5555555555555556,
              "#d8576b"
             ],
             [
              0.6666666666666666,
              "#ed7953"
             ],
             [
              0.7777777777777778,
              "#fb9f3a"
             ],
             [
              0.8888888888888888,
              "#fdca26"
             ],
             [
              1,
              "#f0f921"
             ]
            ],
            "type": "histogram2d"
           }
          ],
          "histogram2dcontour": [
           {
            "colorbar": {
             "outlinewidth": 0,
             "ticks": ""
            },
            "colorscale": [
             [
              0,
              "#0d0887"
             ],
             [
              0.1111111111111111,
              "#46039f"
             ],
             [
              0.2222222222222222,
              "#7201a8"
             ],
             [
              0.3333333333333333,
              "#9c179e"
             ],
             [
              0.4444444444444444,
              "#bd3786"
             ],
             [
              0.5555555555555556,
              "#d8576b"
             ],
             [
              0.6666666666666666,
              "#ed7953"
             ],
             [
              0.7777777777777778,
              "#fb9f3a"
             ],
             [
              0.8888888888888888,
              "#fdca26"
             ],
             [
              1,
              "#f0f921"
             ]
            ],
            "type": "histogram2dcontour"
           }
          ],
          "mesh3d": [
           {
            "colorbar": {
             "outlinewidth": 0,
             "ticks": ""
            },
            "type": "mesh3d"
           }
          ],
          "parcoords": [
           {
            "line": {
             "colorbar": {
              "outlinewidth": 0,
              "ticks": ""
             }
            },
            "type": "parcoords"
           }
          ],
          "pie": [
           {
            "automargin": true,
            "type": "pie"
           }
          ],
          "scatter": [
           {
            "marker": {
             "colorbar": {
              "outlinewidth": 0,
              "ticks": ""
             }
            },
            "type": "scatter"
           }
          ],
          "scatter3d": [
           {
            "line": {
             "colorbar": {
              "outlinewidth": 0,
              "ticks": ""
             }
            },
            "marker": {
             "colorbar": {
              "outlinewidth": 0,
              "ticks": ""
             }
            },
            "type": "scatter3d"
           }
          ],
          "scattercarpet": [
           {
            "marker": {
             "colorbar": {
              "outlinewidth": 0,
              "ticks": ""
             }
            },
            "type": "scattercarpet"
           }
          ],
          "scattergeo": [
           {
            "marker": {
             "colorbar": {
              "outlinewidth": 0,
              "ticks": ""
             }
            },
            "type": "scattergeo"
           }
          ],
          "scattergl": [
           {
            "marker": {
             "colorbar": {
              "outlinewidth": 0,
              "ticks": ""
             }
            },
            "type": "scattergl"
           }
          ],
          "scattermapbox": [
           {
            "marker": {
             "colorbar": {
              "outlinewidth": 0,
              "ticks": ""
             }
            },
            "type": "scattermapbox"
           }
          ],
          "scatterpolar": [
           {
            "marker": {
             "colorbar": {
              "outlinewidth": 0,
              "ticks": ""
             }
            },
            "type": "scatterpolar"
           }
          ],
          "scatterpolargl": [
           {
            "marker": {
             "colorbar": {
              "outlinewidth": 0,
              "ticks": ""
             }
            },
            "type": "scatterpolargl"
           }
          ],
          "scatterternary": [
           {
            "marker": {
             "colorbar": {
              "outlinewidth": 0,
              "ticks": ""
             }
            },
            "type": "scatterternary"
           }
          ],
          "surface": [
           {
            "colorbar": {
             "outlinewidth": 0,
             "ticks": ""
            },
            "colorscale": [
             [
              0,
              "#0d0887"
             ],
             [
              0.1111111111111111,
              "#46039f"
             ],
             [
              0.2222222222222222,
              "#7201a8"
             ],
             [
              0.3333333333333333,
              "#9c179e"
             ],
             [
              0.4444444444444444,
              "#bd3786"
             ],
             [
              0.5555555555555556,
              "#d8576b"
             ],
             [
              0.6666666666666666,
              "#ed7953"
             ],
             [
              0.7777777777777778,
              "#fb9f3a"
             ],
             [
              0.8888888888888888,
              "#fdca26"
             ],
             [
              1,
              "#f0f921"
             ]
            ],
            "type": "surface"
           }
          ],
          "table": [
           {
            "cells": {
             "fill": {
              "color": "#EBF0F8"
             },
             "line": {
              "color": "white"
             }
            },
            "header": {
             "fill": {
              "color": "#C8D4E3"
             },
             "line": {
              "color": "white"
             }
            },
            "type": "table"
           }
          ]
         },
         "layout": {
          "annotationdefaults": {
           "arrowcolor": "#2a3f5f",
           "arrowhead": 0,
           "arrowwidth": 1
          },
          "coloraxis": {
           "colorbar": {
            "outlinewidth": 0,
            "ticks": ""
           }
          },
          "colorscale": {
           "diverging": [
            [
             0,
             "#8e0152"
            ],
            [
             0.1,
             "#c51b7d"
            ],
            [
             0.2,
             "#de77ae"
            ],
            [
             0.3,
             "#f1b6da"
            ],
            [
             0.4,
             "#fde0ef"
            ],
            [
             0.5,
             "#f7f7f7"
            ],
            [
             0.6,
             "#e6f5d0"
            ],
            [
             0.7,
             "#b8e186"
            ],
            [
             0.8,
             "#7fbc41"
            ],
            [
             0.9,
             "#4d9221"
            ],
            [
             1,
             "#276419"
            ]
           ],
           "sequential": [
            [
             0,
             "#0d0887"
            ],
            [
             0.1111111111111111,
             "#46039f"
            ],
            [
             0.2222222222222222,
             "#7201a8"
            ],
            [
             0.3333333333333333,
             "#9c179e"
            ],
            [
             0.4444444444444444,
             "#bd3786"
            ],
            [
             0.5555555555555556,
             "#d8576b"
            ],
            [
             0.6666666666666666,
             "#ed7953"
            ],
            [
             0.7777777777777778,
             "#fb9f3a"
            ],
            [
             0.8888888888888888,
             "#fdca26"
            ],
            [
             1,
             "#f0f921"
            ]
           ],
           "sequentialminus": [
            [
             0,
             "#0d0887"
            ],
            [
             0.1111111111111111,
             "#46039f"
            ],
            [
             0.2222222222222222,
             "#7201a8"
            ],
            [
             0.3333333333333333,
             "#9c179e"
            ],
            [
             0.4444444444444444,
             "#bd3786"
            ],
            [
             0.5555555555555556,
             "#d8576b"
            ],
            [
             0.6666666666666666,
             "#ed7953"
            ],
            [
             0.7777777777777778,
             "#fb9f3a"
            ],
            [
             0.8888888888888888,
             "#fdca26"
            ],
            [
             1,
             "#f0f921"
            ]
           ]
          },
          "colorway": [
           "#636efa",
           "#EF553B",
           "#00cc96",
           "#ab63fa",
           "#FFA15A",
           "#19d3f3",
           "#FF6692",
           "#B6E880",
           "#FF97FF",
           "#FECB52"
          ],
          "font": {
           "color": "#2a3f5f"
          },
          "geo": {
           "bgcolor": "white",
           "lakecolor": "white",
           "landcolor": "#E5ECF6",
           "showlakes": true,
           "showland": true,
           "subunitcolor": "white"
          },
          "hoverlabel": {
           "align": "left"
          },
          "hovermode": "closest",
          "mapbox": {
           "style": "light"
          },
          "paper_bgcolor": "white",
          "plot_bgcolor": "#E5ECF6",
          "polar": {
           "angularaxis": {
            "gridcolor": "white",
            "linecolor": "white",
            "ticks": ""
           },
           "bgcolor": "#E5ECF6",
           "radialaxis": {
            "gridcolor": "white",
            "linecolor": "white",
            "ticks": ""
           }
          },
          "scene": {
           "xaxis": {
            "backgroundcolor": "#E5ECF6",
            "gridcolor": "white",
            "gridwidth": 2,
            "linecolor": "white",
            "showbackground": true,
            "ticks": "",
            "zerolinecolor": "white"
           },
           "yaxis": {
            "backgroundcolor": "#E5ECF6",
            "gridcolor": "white",
            "gridwidth": 2,
            "linecolor": "white",
            "showbackground": true,
            "ticks": "",
            "zerolinecolor": "white"
           },
           "zaxis": {
            "backgroundcolor": "#E5ECF6",
            "gridcolor": "white",
            "gridwidth": 2,
            "linecolor": "white",
            "showbackground": true,
            "ticks": "",
            "zerolinecolor": "white"
           }
          },
          "shapedefaults": {
           "line": {
            "color": "#2a3f5f"
           }
          },
          "ternary": {
           "aaxis": {
            "gridcolor": "white",
            "linecolor": "white",
            "ticks": ""
           },
           "baxis": {
            "gridcolor": "white",
            "linecolor": "white",
            "ticks": ""
           },
           "bgcolor": "#E5ECF6",
           "caxis": {
            "gridcolor": "white",
            "linecolor": "white",
            "ticks": ""
           }
          },
          "title": {
           "x": 0.05
          },
          "xaxis": {
           "automargin": true,
           "gridcolor": "white",
           "linecolor": "white",
           "ticks": "",
           "title": {
            "standoff": 15
           },
           "zerolinecolor": "white",
           "zerolinewidth": 2
          },
          "yaxis": {
           "automargin": true,
           "gridcolor": "white",
           "linecolor": "white",
           "ticks": "",
           "title": {
            "standoff": 15
           },
           "zerolinecolor": "white",
           "zerolinewidth": 2
          }
         }
        },
        "title": {
         "font": {
          "color": "#4D5663"
         }
        },
        "xaxis": {
         "gridcolor": "#E1E5ED",
         "showgrid": true,
         "tickfont": {
          "color": "#4D5663"
         },
         "title": {
          "font": {
           "color": "#4D5663"
          },
          "text": ""
         },
         "zerolinecolor": "#E1E5ED"
        },
        "yaxis": {
         "gridcolor": "#E1E5ED",
         "showgrid": true,
         "tickfont": {
          "color": "#4D5663"
         },
         "title": {
          "font": {
           "color": "#4D5663"
          },
          "text": ""
         },
         "zerolinecolor": "#E1E5ED"
        }
       }
      },
      "text/html": [
       "<div>                            <div id=\"4a5e4d4b-c449-4092-961f-d67a2040127b\" class=\"plotly-graph-div\" style=\"height:525px; width:100%;\"></div>            <script type=\"text/javascript\">                require([\"plotly\"], function(Plotly) {                    window.PLOTLYENV=window.PLOTLYENV || {};\n",
       "                    window.PLOTLYENV.BASE_URL='https://plot.ly';                                    if (document.getElementById(\"4a5e4d4b-c449-4092-961f-d67a2040127b\")) {                    Plotly.newPlot(                        \"4a5e4d4b-c449-4092-961f-d67a2040127b\",                        [{\"marker\": {\"color\": \"rgba(255, 153, 51, 0.6)\", \"line\": {\"color\": \"rgba(255, 153, 51, 1.0)\", \"width\": 1}}, \"name\": \"Values\", \"orientation\": \"v\", \"text\": \"\", \"type\": \"bar\", \"x\": [\"A\", \"B\", \"C\"], \"y\": [32, 43, 50]}],                        {\"legend\": {\"bgcolor\": \"#F5F6F9\", \"font\": {\"color\": \"#4D5663\"}}, \"paper_bgcolor\": \"#F5F6F9\", \"plot_bgcolor\": \"#F5F6F9\", \"template\": {\"data\": {\"bar\": [{\"error_x\": {\"color\": \"#2a3f5f\"}, \"error_y\": {\"color\": \"#2a3f5f\"}, \"marker\": {\"line\": {\"color\": \"#E5ECF6\", \"width\": 0.5}}, \"type\": \"bar\"}], \"barpolar\": [{\"marker\": {\"line\": {\"color\": \"#E5ECF6\", \"width\": 0.5}}, \"type\": \"barpolar\"}], \"carpet\": [{\"aaxis\": {\"endlinecolor\": \"#2a3f5f\", \"gridcolor\": \"white\", \"linecolor\": \"white\", \"minorgridcolor\": \"white\", \"startlinecolor\": \"#2a3f5f\"}, \"baxis\": {\"endlinecolor\": \"#2a3f5f\", \"gridcolor\": \"white\", \"linecolor\": \"white\", \"minorgridcolor\": \"white\", \"startlinecolor\": \"#2a3f5f\"}, \"type\": \"carpet\"}], \"choropleth\": [{\"colorbar\": {\"outlinewidth\": 0, \"ticks\": \"\"}, \"type\": \"choropleth\"}], \"contour\": [{\"colorbar\": {\"outlinewidth\": 0, \"ticks\": \"\"}, \"colorscale\": [[0.0, \"#0d0887\"], [0.1111111111111111, \"#46039f\"], [0.2222222222222222, \"#7201a8\"], [0.3333333333333333, \"#9c179e\"], [0.4444444444444444, \"#bd3786\"], [0.5555555555555556, \"#d8576b\"], [0.6666666666666666, \"#ed7953\"], [0.7777777777777778, \"#fb9f3a\"], [0.8888888888888888, \"#fdca26\"], [1.0, \"#f0f921\"]], \"type\": \"contour\"}], \"contourcarpet\": [{\"colorbar\": {\"outlinewidth\": 0, \"ticks\": \"\"}, \"type\": \"contourcarpet\"}], \"heatmap\": [{\"colorbar\": {\"outlinewidth\": 0, \"ticks\": \"\"}, \"colorscale\": [[0.0, \"#0d0887\"], [0.1111111111111111, \"#46039f\"], [0.2222222222222222, \"#7201a8\"], [0.3333333333333333, \"#9c179e\"], [0.4444444444444444, \"#bd3786\"], [0.5555555555555556, \"#d8576b\"], [0.6666666666666666, \"#ed7953\"], [0.7777777777777778, \"#fb9f3a\"], [0.8888888888888888, \"#fdca26\"], [1.0, \"#f0f921\"]], \"type\": \"heatmap\"}], \"heatmapgl\": [{\"colorbar\": {\"outlinewidth\": 0, \"ticks\": \"\"}, \"colorscale\": [[0.0, \"#0d0887\"], [0.1111111111111111, \"#46039f\"], [0.2222222222222222, \"#7201a8\"], [0.3333333333333333, \"#9c179e\"], [0.4444444444444444, \"#bd3786\"], [0.5555555555555556, \"#d8576b\"], [0.6666666666666666, \"#ed7953\"], [0.7777777777777778, \"#fb9f3a\"], [0.8888888888888888, \"#fdca26\"], [1.0, \"#f0f921\"]], \"type\": \"heatmapgl\"}], \"histogram\": [{\"marker\": {\"colorbar\": {\"outlinewidth\": 0, \"ticks\": \"\"}}, \"type\": \"histogram\"}], \"histogram2d\": [{\"colorbar\": {\"outlinewidth\": 0, \"ticks\": \"\"}, \"colorscale\": [[0.0, \"#0d0887\"], [0.1111111111111111, \"#46039f\"], [0.2222222222222222, \"#7201a8\"], [0.3333333333333333, \"#9c179e\"], [0.4444444444444444, \"#bd3786\"], [0.5555555555555556, \"#d8576b\"], [0.6666666666666666, \"#ed7953\"], [0.7777777777777778, \"#fb9f3a\"], [0.8888888888888888, \"#fdca26\"], [1.0, \"#f0f921\"]], \"type\": \"histogram2d\"}], \"histogram2dcontour\": [{\"colorbar\": {\"outlinewidth\": 0, \"ticks\": \"\"}, \"colorscale\": [[0.0, \"#0d0887\"], [0.1111111111111111, \"#46039f\"], [0.2222222222222222, \"#7201a8\"], [0.3333333333333333, \"#9c179e\"], [0.4444444444444444, \"#bd3786\"], [0.5555555555555556, \"#d8576b\"], [0.6666666666666666, \"#ed7953\"], [0.7777777777777778, \"#fb9f3a\"], [0.8888888888888888, \"#fdca26\"], [1.0, \"#f0f921\"]], \"type\": \"histogram2dcontour\"}], \"mesh3d\": [{\"colorbar\": {\"outlinewidth\": 0, \"ticks\": \"\"}, \"type\": \"mesh3d\"}], \"parcoords\": [{\"line\": {\"colorbar\": {\"outlinewidth\": 0, \"ticks\": \"\"}}, \"type\": \"parcoords\"}], \"pie\": [{\"automargin\": true, \"type\": \"pie\"}], \"scatter\": [{\"marker\": {\"colorbar\": {\"outlinewidth\": 0, \"ticks\": \"\"}}, \"type\": \"scatter\"}], \"scatter3d\": [{\"line\": {\"colorbar\": {\"outlinewidth\": 0, \"ticks\": \"\"}}, \"marker\": {\"colorbar\": {\"outlinewidth\": 0, \"ticks\": \"\"}}, \"type\": \"scatter3d\"}], \"scattercarpet\": [{\"marker\": {\"colorbar\": {\"outlinewidth\": 0, \"ticks\": \"\"}}, \"type\": \"scattercarpet\"}], \"scattergeo\": [{\"marker\": {\"colorbar\": {\"outlinewidth\": 0, \"ticks\": \"\"}}, \"type\": \"scattergeo\"}], \"scattergl\": [{\"marker\": {\"colorbar\": {\"outlinewidth\": 0, \"ticks\": \"\"}}, \"type\": \"scattergl\"}], \"scattermapbox\": [{\"marker\": {\"colorbar\": {\"outlinewidth\": 0, \"ticks\": \"\"}}, \"type\": \"scattermapbox\"}], \"scatterpolar\": [{\"marker\": {\"colorbar\": {\"outlinewidth\": 0, \"ticks\": \"\"}}, \"type\": \"scatterpolar\"}], \"scatterpolargl\": [{\"marker\": {\"colorbar\": {\"outlinewidth\": 0, \"ticks\": \"\"}}, \"type\": \"scatterpolargl\"}], \"scatterternary\": [{\"marker\": {\"colorbar\": {\"outlinewidth\": 0, \"ticks\": \"\"}}, \"type\": \"scatterternary\"}], \"surface\": [{\"colorbar\": {\"outlinewidth\": 0, \"ticks\": \"\"}, \"colorscale\": [[0.0, \"#0d0887\"], [0.1111111111111111, \"#46039f\"], [0.2222222222222222, \"#7201a8\"], [0.3333333333333333, \"#9c179e\"], [0.4444444444444444, \"#bd3786\"], [0.5555555555555556, \"#d8576b\"], [0.6666666666666666, \"#ed7953\"], [0.7777777777777778, \"#fb9f3a\"], [0.8888888888888888, \"#fdca26\"], [1.0, \"#f0f921\"]], \"type\": \"surface\"}], \"table\": [{\"cells\": {\"fill\": {\"color\": \"#EBF0F8\"}, \"line\": {\"color\": \"white\"}}, \"header\": {\"fill\": {\"color\": \"#C8D4E3\"}, \"line\": {\"color\": \"white\"}}, \"type\": \"table\"}]}, \"layout\": {\"annotationdefaults\": {\"arrowcolor\": \"#2a3f5f\", \"arrowhead\": 0, \"arrowwidth\": 1}, \"coloraxis\": {\"colorbar\": {\"outlinewidth\": 0, \"ticks\": \"\"}}, \"colorscale\": {\"diverging\": [[0, \"#8e0152\"], [0.1, \"#c51b7d\"], [0.2, \"#de77ae\"], [0.3, \"#f1b6da\"], [0.4, \"#fde0ef\"], [0.5, \"#f7f7f7\"], [0.6, \"#e6f5d0\"], [0.7, \"#b8e186\"], [0.8, \"#7fbc41\"], [0.9, \"#4d9221\"], [1, \"#276419\"]], \"sequential\": [[0.0, \"#0d0887\"], [0.1111111111111111, \"#46039f\"], [0.2222222222222222, \"#7201a8\"], [0.3333333333333333, \"#9c179e\"], [0.4444444444444444, \"#bd3786\"], [0.5555555555555556, \"#d8576b\"], [0.6666666666666666, \"#ed7953\"], [0.7777777777777778, \"#fb9f3a\"], [0.8888888888888888, \"#fdca26\"], [1.0, \"#f0f921\"]], \"sequentialminus\": [[0.0, \"#0d0887\"], [0.1111111111111111, \"#46039f\"], [0.2222222222222222, \"#7201a8\"], [0.3333333333333333, \"#9c179e\"], [0.4444444444444444, \"#bd3786\"], [0.5555555555555556, \"#d8576b\"], [0.6666666666666666, \"#ed7953\"], [0.7777777777777778, \"#fb9f3a\"], [0.8888888888888888, \"#fdca26\"], [1.0, \"#f0f921\"]]}, \"colorway\": [\"#636efa\", \"#EF553B\", \"#00cc96\", \"#ab63fa\", \"#FFA15A\", \"#19d3f3\", \"#FF6692\", \"#B6E880\", \"#FF97FF\", \"#FECB52\"], \"font\": {\"color\": \"#2a3f5f\"}, \"geo\": {\"bgcolor\": \"white\", \"lakecolor\": \"white\", \"landcolor\": \"#E5ECF6\", \"showlakes\": true, \"showland\": true, \"subunitcolor\": \"white\"}, \"hoverlabel\": {\"align\": \"left\"}, \"hovermode\": \"closest\", \"mapbox\": {\"style\": \"light\"}, \"paper_bgcolor\": \"white\", \"plot_bgcolor\": \"#E5ECF6\", \"polar\": {\"angularaxis\": {\"gridcolor\": \"white\", \"linecolor\": \"white\", \"ticks\": \"\"}, \"bgcolor\": \"#E5ECF6\", \"radialaxis\": {\"gridcolor\": \"white\", \"linecolor\": \"white\", \"ticks\": \"\"}}, \"scene\": {\"xaxis\": {\"backgroundcolor\": \"#E5ECF6\", \"gridcolor\": \"white\", \"gridwidth\": 2, \"linecolor\": \"white\", \"showbackground\": true, \"ticks\": \"\", \"zerolinecolor\": \"white\"}, \"yaxis\": {\"backgroundcolor\": \"#E5ECF6\", \"gridcolor\": \"white\", \"gridwidth\": 2, \"linecolor\": \"white\", \"showbackground\": true, \"ticks\": \"\", \"zerolinecolor\": \"white\"}, \"zaxis\": {\"backgroundcolor\": \"#E5ECF6\", \"gridcolor\": \"white\", \"gridwidth\": 2, \"linecolor\": \"white\", \"showbackground\": true, \"ticks\": \"\", \"zerolinecolor\": \"white\"}}, \"shapedefaults\": {\"line\": {\"color\": \"#2a3f5f\"}}, \"ternary\": {\"aaxis\": {\"gridcolor\": \"white\", \"linecolor\": \"white\", \"ticks\": \"\"}, \"baxis\": {\"gridcolor\": \"white\", \"linecolor\": \"white\", \"ticks\": \"\"}, \"bgcolor\": \"#E5ECF6\", \"caxis\": {\"gridcolor\": \"white\", \"linecolor\": \"white\", \"ticks\": \"\"}}, \"title\": {\"x\": 0.05}, \"xaxis\": {\"automargin\": true, \"gridcolor\": \"white\", \"linecolor\": \"white\", \"ticks\": \"\", \"title\": {\"standoff\": 15}, \"zerolinecolor\": \"white\", \"zerolinewidth\": 2}, \"yaxis\": {\"automargin\": true, \"gridcolor\": \"white\", \"linecolor\": \"white\", \"ticks\": \"\", \"title\": {\"standoff\": 15}, \"zerolinecolor\": \"white\", \"zerolinewidth\": 2}}}, \"title\": {\"font\": {\"color\": \"#4D5663\"}}, \"xaxis\": {\"gridcolor\": \"#E1E5ED\", \"showgrid\": true, \"tickfont\": {\"color\": \"#4D5663\"}, \"title\": {\"font\": {\"color\": \"#4D5663\"}, \"text\": \"\"}, \"zerolinecolor\": \"#E1E5ED\"}, \"yaxis\": {\"gridcolor\": \"#E1E5ED\", \"showgrid\": true, \"tickfont\": {\"color\": \"#4D5663\"}, \"title\": {\"font\": {\"color\": \"#4D5663\"}, \"text\": \"\"}, \"zerolinecolor\": \"#E1E5ED\"}},                        {\"showLink\": true, \"linkText\": \"Export to plot.ly\", \"plotlyServerURL\": \"https://plot.ly\", \"responsive\": true}                    ).then(function(){\n",
       "                            \n",
       "var gd = document.getElementById('4a5e4d4b-c449-4092-961f-d67a2040127b');\n",
       "var x = new MutationObserver(function (mutations, observer) {{\n",
       "        var display = window.getComputedStyle(gd).display;\n",
       "        if (!display || display === 'none') {{\n",
       "            console.log([gd, 'removed!']);\n",
       "            Plotly.purge(gd);\n",
       "            observer.disconnect();\n",
       "        }}\n",
       "}});\n",
       "\n",
       "// Listen for the removal of the full notebook cells\n",
       "var notebookContainer = gd.closest('#notebook-container');\n",
       "if (notebookContainer) {{\n",
       "    x.observe(notebookContainer, {childList: true});\n",
       "}}\n",
       "\n",
       "// Listen for the clearing of the current output cell\n",
       "var outputEl = gd.closest('.output');\n",
       "if (outputEl) {{\n",
       "    x.observe(outputEl, {childList: true});\n",
       "}}\n",
       "\n",
       "                        })                };                });            </script>        </div>"
      ]
     },
     "metadata": {},
     "output_type": "display_data"
    }
   ],
   "source": [
    "df2.iplot(kind='bar',x='Category',y='Values')"
   ]
  },
  {
   "cell_type": "markdown",
   "metadata": {
    "id": "ImqHUOSkbxvv"
   },
   "source": [
    "## Boxplots"
   ]
  },
  {
   "cell_type": "code",
   "execution_count": 27,
   "metadata": {
    "colab": {
     "base_uri": "https://localhost:8080/",
     "height": 542
    },
    "id": "20D7o5Zgbxvx",
    "outputId": "2fb164fc-da77-4f80-b2af-66d477548ea3"
   },
   "outputs": [
    {
     "data": {
      "application/vnd.plotly.v1+json": {
       "config": {
        "linkText": "Export to plot.ly",
        "plotlyServerURL": "https://plot.ly",
        "showLink": true
       },
       "data": [
        {
         "boxpoints": false,
         "line": {
          "width": 1.3
         },
         "marker": {
          "color": "rgba(255, 153, 51, 1.0)"
         },
         "name": "A",
         "orientation": "v",
         "type": "box",
         "y": [
          2.3050789463764794,
          -0.34544828836374125,
          -1.67491216027255,
          1.207318891717801,
          1.406343778561469,
          -1.112345759784398,
          0.9446789832334939,
          -0.38728675731145373,
          1.3079689084749777,
          -1.8069718036199587,
          0.18825627165035458,
          0.7147828258451806,
          0.44192463870483806,
          -0.49552350971023745,
          -0.322800551035353,
          -0.47433961294441596,
          0.1690883770206803,
          1.2017852529943827,
          -0.1647321336067996,
          -2.3955741265632238,
          -1.4758945487582762,
          0.962445834012295,
          0.6653252839778693,
          -0.41880202344092315,
          0.04627068636022785,
          -1.5185646666381192,
          -1.9938509523173815,
          -0.02240060509745099,
          1.1809831611785004,
          1.8801658934707632,
          1.0292593510337478,
          0.5949117331367149,
          -1.4514506277441748,
          -0.42502646313780856,
          -0.5797899821504993,
          -0.3581390966891277,
          -0.11892770450618409,
          1.0926209083884437,
          0.7050466192122445,
          1.2375172874906153,
          1.4072020975357857,
          0.1575926374578665,
          0.09396028076688108,
          0.14998003245337374,
          1.0006464685965815,
          0.33651897865653907,
          -0.10778939786155453,
          1.7762185531905517,
          0.2433230426333405,
          0.6573414720203437,
          1.4987623651774449,
          0.49100570061636384,
          1.2227945124611799,
          2.0356825538745524,
          0.8960277472124333,
          1.36131627749611,
          -0.01900927284926094,
          -1.123782384244974,
          1.2024407293884816,
          1.7533041101596796,
          2.620102735759663,
          -0.9243960301190819,
          -0.9071010052827692,
          0.7084815208490741,
          -1.0164586395797204,
          -0.9726287488168607,
          -2.0757409191988963,
          -0.4056514932145701,
          -0.4481169032862055,
          0.2999481669822941,
          0.19005409313068863,
          0.20944993347497673,
          1.8535331783127982,
          0.10833367793192912,
          0.9909118192752894,
          -0.18072276264957435,
          -0.27175596496885357,
          -0.3472891841078953,
          -1.3499379537122178,
          -0.24361265423740075,
          0.1823942082455205,
          -0.11683434885062603,
          -1.9611819118675928,
          -0.10124747971168387,
          -0.749519554450631,
          -0.17063962763320573,
          -1.2924000897834025,
          -1.6363561634291774,
          0.31683188489615605,
          0.6767344738274852,
          -1.0561931295586227,
          -2.0631652991243787,
          -1.0225199848753768,
          -1.2074155289643396,
          -0.8839567228513001,
          -0.8159284734528616,
          0.6274816714657359,
          0.9671930475443826,
          -0.27905397820525646,
          -0.9770832801408772
         ]
        },
        {
         "boxpoints": false,
         "line": {
          "width": 1.3
         },
         "marker": {
          "color": "rgba(55, 128, 191, 1.0)"
         },
         "name": "B",
         "orientation": "v",
         "type": "box",
         "y": [
          1.4564807911980027,
          -0.5614415874815344,
          0.7690489749287509,
          1.0745673115894976,
          -0.271650350545234,
          -0.20417947351171928,
          -1.5365217665036148,
          0.5271922043293188,
          -1.486583190597354,
          -1.5334484919941673,
          0.18382394706883978,
          0.1344370782872019,
          1.89905090532156,
          0.6202785332919339,
          -0.45664038843023563,
          1.963126990847653,
          1.9369875383030903,
          1.0315771467695134,
          -0.3453335682768677,
          0.419546447142365,
          -1.225897365627275,
          -1.0887921399676082,
          -0.21263698997725416,
          0.7718171320935325,
          0.44145428919101193,
          -0.8468114640841646,
          0.8526936191566775,
          -0.969355231696488,
          1.5408969327530821,
          -0.04465803887874416,
          -1.0342638822781325,
          0.6075784794307824,
          0.020845455399087748,
          -0.07959203078638698,
          -1.2885327382950438,
          -0.5858261320243598,
          0.2784538175232755,
          0.4716251609013261,
          0.007586918494829923,
          -1.2311721843538845,
          2.263014081539277,
          -0.9445712149750263,
          -0.7801126734963407,
          -0.006307163966420759,
          0.19209429370631423,
          1.4849821222922432,
          -0.402824407169826,
          -0.1535552795197902,
          -0.45306006334156884,
          0.2723494038368278,
          -0.6969797568377994,
          1.3148469312491482,
          -0.4400678278705646,
          -0.5226856061207958,
          -1.2685087511392623,
          -0.7121002063687039,
          0.4922848868566591,
          1.4080506928339986,
          -0.6740640131990668,
          0.47859781454993217,
          0.10407954693386935,
          -0.09125617817861699,
          -1.3627903947738937,
          -1.280305454707673,
          1.0676149669634278,
          0.10098596940395344,
          0.3087197869344185,
          0.3416669711946196,
          -0.2456850602506728,
          -0.8054522753423443,
          -0.3581753964308596,
          1.2538718650534761,
          1.5812764633116267,
          -1.2869964689617,
          0.5134159053161619,
          1.0984181861336495,
          -0.939853681439602,
          -0.7874505356156805,
          -0.5251233813470253,
          1.426548881182392,
          0.07011129375683395,
          0.3043731808315209,
          1.3453342775245516,
          0.8797891435530668,
          0.08819796782327056,
          0.7785641262132776,
          -0.32251783943947593,
          -1.103603729843237,
          1.561003488139711,
          -0.8993481124743095,
          2.527656223510702,
          -0.035756115285384076,
          2.32755828482868,
          0.8455828949792558,
          1.4395208708887242,
          -0.13261587328217128,
          0.9653423868237719,
          -1.5985346969508438,
          -0.9772914721691849,
          0.6427378710046866
         ]
        },
        {
         "boxpoints": false,
         "line": {
          "width": 1.3
         },
         "marker": {
          "color": "rgba(50, 171, 96, 1.0)"
         },
         "name": "C",
         "orientation": "v",
         "type": "box",
         "y": [
          -1.0414728897711043,
          -2.4987006337049427,
          -1.7405625562342926,
          0.7807465485246431,
          0.28696749890926176,
          0.3363917430252014,
          1.293532558358908,
          0.1665194695042929,
          1.2360927636981422,
          -1.2564294093066566,
          1.2563769793990662,
          -0.7363214218721139,
          0.24426512556462346,
          -0.11970512182658005,
          1.4677478735443614,
          1.0647201557032324,
          -0.45187302257846534,
          0.653678868083953,
          -1.5907134807199985,
          -1.277732744505322,
          -0.7228632863713857,
          0.7172278823394252,
          -1.965459613280281,
          0.286972183094621,
          0.907355772897085,
          0.5998967596872434,
          0.5651197404402956,
          -1.0859124022080506,
          -1.5773190091059082,
          1.1157090318556244,
          -0.06785848898904057,
          1.0984784868393382,
          0.7813197529628041,
          0.48810393395852364,
          -0.17708026291624845,
          0.14629573582432567,
          -0.11493238419180425,
          0.44331295229358997,
          0.20136428167932743,
          -0.019043969415183784,
          1.1678372009338673,
          -1.3483861691724721,
          -0.7588281414384854,
          -1.8578532286983487,
          -0.7444082117778972,
          -1.0092091832703185,
          -1.3889162965474495,
          -0.5371878391790263,
          -1.4361023025838564,
          0.7229130593162181,
          -0.7199255425887895,
          -0.30998165984331827,
          0.6114310600050571,
          0.7969940652634873,
          0.6989867534379552,
          0.7715048258999205,
          0.9559915679786413,
          -1.388943101110845,
          -1.1933157339805522,
          0.03930509746200616,
          1.4075249287877474,
          -0.31334032917702986,
          -0.6561559716404194,
          -0.9588235530918053,
          0.007003808306168607,
          -2.2882431550424704,
          0.5874340245739881,
          -1.2836564652794462,
          -0.6128829960450962,
          -0.6384337306448875,
          -0.7473031588310945,
          0.8329215554230448,
          -0.0014366113415588348,
          1.12889882070921,
          -0.6263450347390124,
          -0.15207317744954088,
          -0.34889044161686383,
          1.6308397019642658,
          0.35697692349751,
          -0.11009491880760186,
          0.8975216642444559,
          2.1933943747515614,
          1.88500555603819,
          -0.060286786408807254,
          -0.12427068027435265,
          1.4104620063591755,
          -0.6422684116873881,
          0.6854913943508008,
          1.1785110035923059,
          -0.16773448800986715,
          0.38472630846110245,
          0.36702394044670406,
          -2.408159159994002,
          -0.7380395276178535,
          1.304615893104272,
          1.187080311936938,
          -0.15224202616043214,
          0.4098386402951023,
          0.6487386974994944,
          1.081403143428471
         ]
        },
        {
         "boxpoints": false,
         "line": {
          "width": 1.3
         },
         "marker": {
          "color": "rgba(128, 0, 128, 1.0)"
         },
         "name": "D",
         "orientation": "v",
         "type": "box",
         "y": [
          -2.650812997314717,
          -0.311803005933188,
          0.5234053003502719,
          -1.1370049341208008,
          1.785947315671499,
          0.09836375440051173,
          -1.49973660026947,
          0.6840064709496927,
          -0.29337150802113277,
          -0.2492993835514884,
          -0.2452004782750859,
          0.7453097427990474,
          0.46382336176975625,
          0.14690685645880708,
          1.658889165267742,
          -1.5119993487990275,
          0.45330904405195466,
          -1.6403546564341527,
          0.2252746294380069,
          2.0287963385526178,
          -0.566046123755891,
          0.448211178778663,
          -1.8506720916351953,
          -0.042595144127149306,
          -0.08206156409590681,
          0.9445911772581148,
          0.4361661575564618,
          2.9626678910230035,
          0.7178948825887508,
          0.39177457468797705,
          1.5350778646164982,
          -0.16204914164458326,
          -0.26327624177704206,
          1.9362232339556251,
          1.470902854898459,
          -1.3164221749124145,
          1.5042128521943556,
          -0.5525791281329449,
          0.8730099647445734,
          0.20946417573364837,
          -0.6288275527653823,
          0.5794005820262775,
          -1.2425977976467448,
          -1.4518619763805094,
          2.299083454990828,
          -1.690325676193857,
          -2.4398802478119537,
          1.0090783405534172,
          0.9699967438449757,
          -0.21462755564471853,
          -0.42668066402267263,
          -0.23114341508506436,
          1.5878263873553595,
          1.1974923701274496,
          -0.6328802911920552,
          -0.115689071673373,
          -1.5659625465829852,
          -1.7039208968111301,
          -0.3828743631970665,
          0.5533231160499545,
          0.041511676904158946,
          1.0910109735200546,
          -1.513318971862418,
          1.5973851901395408,
          0.7633726790710887,
          -0.2852253714361112,
          -0.19098469827365344,
          0.07558426108686768,
          1.374003041243804,
          0.6520549544554999,
          -1.5669714988794585,
          0.4982460397601832,
          1.3734024216590928,
          1.0223216631378484,
          -0.9776227762824543,
          0.19719940143862155,
          0.3845888157721083,
          -0.8260134162166382,
          1.5800598722242059,
          -0.7555635387878384,
          -2.8840612108842882,
          0.6200362228783207,
          0.5282222199839804,
          -0.21536613709856278,
          -0.39191915436692076,
          0.2804700919368603,
          1.7476967130053918,
          -0.016109583924299856,
          -0.8780920316098697,
          -0.2110077017324482,
          1.4053406740461782,
          0.8268885442630262,
          0.756069351921896,
          -2.0379589159741074,
          -0.6551719112574574,
          -2.441510348937944,
          0.9514195156737354,
          0.32980494191058835,
          -0.5695516056060412,
          -1.056582768713903
         ]
        }
       ],
       "layout": {
        "legend": {
         "bgcolor": "#F5F6F9",
         "font": {
          "color": "#4D5663"
         }
        },
        "paper_bgcolor": "#F5F6F9",
        "plot_bgcolor": "#F5F6F9",
        "template": {
         "data": {
          "bar": [
           {
            "error_x": {
             "color": "#2a3f5f"
            },
            "error_y": {
             "color": "#2a3f5f"
            },
            "marker": {
             "line": {
              "color": "#E5ECF6",
              "width": 0.5
             }
            },
            "type": "bar"
           }
          ],
          "barpolar": [
           {
            "marker": {
             "line": {
              "color": "#E5ECF6",
              "width": 0.5
             }
            },
            "type": "barpolar"
           }
          ],
          "carpet": [
           {
            "aaxis": {
             "endlinecolor": "#2a3f5f",
             "gridcolor": "white",
             "linecolor": "white",
             "minorgridcolor": "white",
             "startlinecolor": "#2a3f5f"
            },
            "baxis": {
             "endlinecolor": "#2a3f5f",
             "gridcolor": "white",
             "linecolor": "white",
             "minorgridcolor": "white",
             "startlinecolor": "#2a3f5f"
            },
            "type": "carpet"
           }
          ],
          "choropleth": [
           {
            "colorbar": {
             "outlinewidth": 0,
             "ticks": ""
            },
            "type": "choropleth"
           }
          ],
          "contour": [
           {
            "colorbar": {
             "outlinewidth": 0,
             "ticks": ""
            },
            "colorscale": [
             [
              0,
              "#0d0887"
             ],
             [
              0.1111111111111111,
              "#46039f"
             ],
             [
              0.2222222222222222,
              "#7201a8"
             ],
             [
              0.3333333333333333,
              "#9c179e"
             ],
             [
              0.4444444444444444,
              "#bd3786"
             ],
             [
              0.5555555555555556,
              "#d8576b"
             ],
             [
              0.6666666666666666,
              "#ed7953"
             ],
             [
              0.7777777777777778,
              "#fb9f3a"
             ],
             [
              0.8888888888888888,
              "#fdca26"
             ],
             [
              1,
              "#f0f921"
             ]
            ],
            "type": "contour"
           }
          ],
          "contourcarpet": [
           {
            "colorbar": {
             "outlinewidth": 0,
             "ticks": ""
            },
            "type": "contourcarpet"
           }
          ],
          "heatmap": [
           {
            "colorbar": {
             "outlinewidth": 0,
             "ticks": ""
            },
            "colorscale": [
             [
              0,
              "#0d0887"
             ],
             [
              0.1111111111111111,
              "#46039f"
             ],
             [
              0.2222222222222222,
              "#7201a8"
             ],
             [
              0.3333333333333333,
              "#9c179e"
             ],
             [
              0.4444444444444444,
              "#bd3786"
             ],
             [
              0.5555555555555556,
              "#d8576b"
             ],
             [
              0.6666666666666666,
              "#ed7953"
             ],
             [
              0.7777777777777778,
              "#fb9f3a"
             ],
             [
              0.8888888888888888,
              "#fdca26"
             ],
             [
              1,
              "#f0f921"
             ]
            ],
            "type": "heatmap"
           }
          ],
          "heatmapgl": [
           {
            "colorbar": {
             "outlinewidth": 0,
             "ticks": ""
            },
            "colorscale": [
             [
              0,
              "#0d0887"
             ],
             [
              0.1111111111111111,
              "#46039f"
             ],
             [
              0.2222222222222222,
              "#7201a8"
             ],
             [
              0.3333333333333333,
              "#9c179e"
             ],
             [
              0.4444444444444444,
              "#bd3786"
             ],
             [
              0.5555555555555556,
              "#d8576b"
             ],
             [
              0.6666666666666666,
              "#ed7953"
             ],
             [
              0.7777777777777778,
              "#fb9f3a"
             ],
             [
              0.8888888888888888,
              "#fdca26"
             ],
             [
              1,
              "#f0f921"
             ]
            ],
            "type": "heatmapgl"
           }
          ],
          "histogram": [
           {
            "marker": {
             "colorbar": {
              "outlinewidth": 0,
              "ticks": ""
             }
            },
            "type": "histogram"
           }
          ],
          "histogram2d": [
           {
            "colorbar": {
             "outlinewidth": 0,
             "ticks": ""
            },
            "colorscale": [
             [
              0,
              "#0d0887"
             ],
             [
              0.1111111111111111,
              "#46039f"
             ],
             [
              0.2222222222222222,
              "#7201a8"
             ],
             [
              0.3333333333333333,
              "#9c179e"
             ],
             [
              0.4444444444444444,
              "#bd3786"
             ],
             [
              0.5555555555555556,
              "#d8576b"
             ],
             [
              0.6666666666666666,
              "#ed7953"
             ],
             [
              0.7777777777777778,
              "#fb9f3a"
             ],
             [
              0.8888888888888888,
              "#fdca26"
             ],
             [
              1,
              "#f0f921"
             ]
            ],
            "type": "histogram2d"
           }
          ],
          "histogram2dcontour": [
           {
            "colorbar": {
             "outlinewidth": 0,
             "ticks": ""
            },
            "colorscale": [
             [
              0,
              "#0d0887"
             ],
             [
              0.1111111111111111,
              "#46039f"
             ],
             [
              0.2222222222222222,
              "#7201a8"
             ],
             [
              0.3333333333333333,
              "#9c179e"
             ],
             [
              0.4444444444444444,
              "#bd3786"
             ],
             [
              0.5555555555555556,
              "#d8576b"
             ],
             [
              0.6666666666666666,
              "#ed7953"
             ],
             [
              0.7777777777777778,
              "#fb9f3a"
             ],
             [
              0.8888888888888888,
              "#fdca26"
             ],
             [
              1,
              "#f0f921"
             ]
            ],
            "type": "histogram2dcontour"
           }
          ],
          "mesh3d": [
           {
            "colorbar": {
             "outlinewidth": 0,
             "ticks": ""
            },
            "type": "mesh3d"
           }
          ],
          "parcoords": [
           {
            "line": {
             "colorbar": {
              "outlinewidth": 0,
              "ticks": ""
             }
            },
            "type": "parcoords"
           }
          ],
          "pie": [
           {
            "automargin": true,
            "type": "pie"
           }
          ],
          "scatter": [
           {
            "marker": {
             "colorbar": {
              "outlinewidth": 0,
              "ticks": ""
             }
            },
            "type": "scatter"
           }
          ],
          "scatter3d": [
           {
            "line": {
             "colorbar": {
              "outlinewidth": 0,
              "ticks": ""
             }
            },
            "marker": {
             "colorbar": {
              "outlinewidth": 0,
              "ticks": ""
             }
            },
            "type": "scatter3d"
           }
          ],
          "scattercarpet": [
           {
            "marker": {
             "colorbar": {
              "outlinewidth": 0,
              "ticks": ""
             }
            },
            "type": "scattercarpet"
           }
          ],
          "scattergeo": [
           {
            "marker": {
             "colorbar": {
              "outlinewidth": 0,
              "ticks": ""
             }
            },
            "type": "scattergeo"
           }
          ],
          "scattergl": [
           {
            "marker": {
             "colorbar": {
              "outlinewidth": 0,
              "ticks": ""
             }
            },
            "type": "scattergl"
           }
          ],
          "scattermapbox": [
           {
            "marker": {
             "colorbar": {
              "outlinewidth": 0,
              "ticks": ""
             }
            },
            "type": "scattermapbox"
           }
          ],
          "scatterpolar": [
           {
            "marker": {
             "colorbar": {
              "outlinewidth": 0,
              "ticks": ""
             }
            },
            "type": "scatterpolar"
           }
          ],
          "scatterpolargl": [
           {
            "marker": {
             "colorbar": {
              "outlinewidth": 0,
              "ticks": ""
             }
            },
            "type": "scatterpolargl"
           }
          ],
          "scatterternary": [
           {
            "marker": {
             "colorbar": {
              "outlinewidth": 0,
              "ticks": ""
             }
            },
            "type": "scatterternary"
           }
          ],
          "surface": [
           {
            "colorbar": {
             "outlinewidth": 0,
             "ticks": ""
            },
            "colorscale": [
             [
              0,
              "#0d0887"
             ],
             [
              0.1111111111111111,
              "#46039f"
             ],
             [
              0.2222222222222222,
              "#7201a8"
             ],
             [
              0.3333333333333333,
              "#9c179e"
             ],
             [
              0.4444444444444444,
              "#bd3786"
             ],
             [
              0.5555555555555556,
              "#d8576b"
             ],
             [
              0.6666666666666666,
              "#ed7953"
             ],
             [
              0.7777777777777778,
              "#fb9f3a"
             ],
             [
              0.8888888888888888,
              "#fdca26"
             ],
             [
              1,
              "#f0f921"
             ]
            ],
            "type": "surface"
           }
          ],
          "table": [
           {
            "cells": {
             "fill": {
              "color": "#EBF0F8"
             },
             "line": {
              "color": "white"
             }
            },
            "header": {
             "fill": {
              "color": "#C8D4E3"
             },
             "line": {
              "color": "white"
             }
            },
            "type": "table"
           }
          ]
         },
         "layout": {
          "annotationdefaults": {
           "arrowcolor": "#2a3f5f",
           "arrowhead": 0,
           "arrowwidth": 1
          },
          "coloraxis": {
           "colorbar": {
            "outlinewidth": 0,
            "ticks": ""
           }
          },
          "colorscale": {
           "diverging": [
            [
             0,
             "#8e0152"
            ],
            [
             0.1,
             "#c51b7d"
            ],
            [
             0.2,
             "#de77ae"
            ],
            [
             0.3,
             "#f1b6da"
            ],
            [
             0.4,
             "#fde0ef"
            ],
            [
             0.5,
             "#f7f7f7"
            ],
            [
             0.6,
             "#e6f5d0"
            ],
            [
             0.7,
             "#b8e186"
            ],
            [
             0.8,
             "#7fbc41"
            ],
            [
             0.9,
             "#4d9221"
            ],
            [
             1,
             "#276419"
            ]
           ],
           "sequential": [
            [
             0,
             "#0d0887"
            ],
            [
             0.1111111111111111,
             "#46039f"
            ],
            [
             0.2222222222222222,
             "#7201a8"
            ],
            [
             0.3333333333333333,
             "#9c179e"
            ],
            [
             0.4444444444444444,
             "#bd3786"
            ],
            [
             0.5555555555555556,
             "#d8576b"
            ],
            [
             0.6666666666666666,
             "#ed7953"
            ],
            [
             0.7777777777777778,
             "#fb9f3a"
            ],
            [
             0.8888888888888888,
             "#fdca26"
            ],
            [
             1,
             "#f0f921"
            ]
           ],
           "sequentialminus": [
            [
             0,
             "#0d0887"
            ],
            [
             0.1111111111111111,
             "#46039f"
            ],
            [
             0.2222222222222222,
             "#7201a8"
            ],
            [
             0.3333333333333333,
             "#9c179e"
            ],
            [
             0.4444444444444444,
             "#bd3786"
            ],
            [
             0.5555555555555556,
             "#d8576b"
            ],
            [
             0.6666666666666666,
             "#ed7953"
            ],
            [
             0.7777777777777778,
             "#fb9f3a"
            ],
            [
             0.8888888888888888,
             "#fdca26"
            ],
            [
             1,
             "#f0f921"
            ]
           ]
          },
          "colorway": [
           "#636efa",
           "#EF553B",
           "#00cc96",
           "#ab63fa",
           "#FFA15A",
           "#19d3f3",
           "#FF6692",
           "#B6E880",
           "#FF97FF",
           "#FECB52"
          ],
          "font": {
           "color": "#2a3f5f"
          },
          "geo": {
           "bgcolor": "white",
           "lakecolor": "white",
           "landcolor": "#E5ECF6",
           "showlakes": true,
           "showland": true,
           "subunitcolor": "white"
          },
          "hoverlabel": {
           "align": "left"
          },
          "hovermode": "closest",
          "mapbox": {
           "style": "light"
          },
          "paper_bgcolor": "white",
          "plot_bgcolor": "#E5ECF6",
          "polar": {
           "angularaxis": {
            "gridcolor": "white",
            "linecolor": "white",
            "ticks": ""
           },
           "bgcolor": "#E5ECF6",
           "radialaxis": {
            "gridcolor": "white",
            "linecolor": "white",
            "ticks": ""
           }
          },
          "scene": {
           "xaxis": {
            "backgroundcolor": "#E5ECF6",
            "gridcolor": "white",
            "gridwidth": 2,
            "linecolor": "white",
            "showbackground": true,
            "ticks": "",
            "zerolinecolor": "white"
           },
           "yaxis": {
            "backgroundcolor": "#E5ECF6",
            "gridcolor": "white",
            "gridwidth": 2,
            "linecolor": "white",
            "showbackground": true,
            "ticks": "",
            "zerolinecolor": "white"
           },
           "zaxis": {
            "backgroundcolor": "#E5ECF6",
            "gridcolor": "white",
            "gridwidth": 2,
            "linecolor": "white",
            "showbackground": true,
            "ticks": "",
            "zerolinecolor": "white"
           }
          },
          "shapedefaults": {
           "line": {
            "color": "#2a3f5f"
           }
          },
          "ternary": {
           "aaxis": {
            "gridcolor": "white",
            "linecolor": "white",
            "ticks": ""
           },
           "baxis": {
            "gridcolor": "white",
            "linecolor": "white",
            "ticks": ""
           },
           "bgcolor": "#E5ECF6",
           "caxis": {
            "gridcolor": "white",
            "linecolor": "white",
            "ticks": ""
           }
          },
          "title": {
           "x": 0.05
          },
          "xaxis": {
           "automargin": true,
           "gridcolor": "white",
           "linecolor": "white",
           "ticks": "",
           "title": {
            "standoff": 15
           },
           "zerolinecolor": "white",
           "zerolinewidth": 2
          },
          "yaxis": {
           "automargin": true,
           "gridcolor": "white",
           "linecolor": "white",
           "ticks": "",
           "title": {
            "standoff": 15
           },
           "zerolinecolor": "white",
           "zerolinewidth": 2
          }
         }
        },
        "title": {
         "font": {
          "color": "#4D5663"
         }
        },
        "xaxis": {
         "gridcolor": "#E1E5ED",
         "showgrid": true,
         "tickfont": {
          "color": "#4D5663"
         },
         "title": {
          "font": {
           "color": "#4D5663"
          },
          "text": ""
         },
         "zerolinecolor": "#E1E5ED"
        },
        "yaxis": {
         "gridcolor": "#E1E5ED",
         "showgrid": true,
         "tickfont": {
          "color": "#4D5663"
         },
         "title": {
          "font": {
           "color": "#4D5663"
          },
          "text": ""
         },
         "zerolinecolor": "#E1E5ED"
        }
       }
      },
      "text/html": [
       "<div>                            <div id=\"ea07dbb0-6c67-46de-bcb4-18c71849328f\" class=\"plotly-graph-div\" style=\"height:525px; width:100%;\"></div>            <script type=\"text/javascript\">                require([\"plotly\"], function(Plotly) {                    window.PLOTLYENV=window.PLOTLYENV || {};\n",
       "                    window.PLOTLYENV.BASE_URL='https://plot.ly';                                    if (document.getElementById(\"ea07dbb0-6c67-46de-bcb4-18c71849328f\")) {                    Plotly.newPlot(                        \"ea07dbb0-6c67-46de-bcb4-18c71849328f\",                        [{\"boxpoints\": false, \"line\": {\"width\": 1.3}, \"marker\": {\"color\": \"rgba(255, 153, 51, 1.0)\"}, \"name\": \"A\", \"orientation\": \"v\", \"type\": \"box\", \"y\": [2.3050789463764794, -0.34544828836374125, -1.67491216027255, 1.207318891717801, 1.406343778561469, -1.112345759784398, 0.9446789832334939, -0.38728675731145373, 1.3079689084749777, -1.8069718036199587, 0.18825627165035458, 0.7147828258451806, 0.44192463870483806, -0.49552350971023745, -0.322800551035353, -0.47433961294441596, 0.1690883770206803, 1.2017852529943827, -0.1647321336067996, -2.3955741265632238, -1.4758945487582762, 0.962445834012295, 0.6653252839778693, -0.41880202344092315, 0.04627068636022785, -1.5185646666381192, -1.9938509523173815, -0.02240060509745099, 1.1809831611785004, 1.8801658934707632, 1.0292593510337478, 0.5949117331367149, -1.4514506277441748, -0.42502646313780856, -0.5797899821504993, -0.3581390966891277, -0.11892770450618409, 1.0926209083884437, 0.7050466192122445, 1.2375172874906153, 1.4072020975357857, 0.1575926374578665, 0.09396028076688108, 0.14998003245337374, 1.0006464685965815, 0.33651897865653907, -0.10778939786155453, 1.7762185531905517, 0.2433230426333405, 0.6573414720203437, 1.4987623651774449, 0.49100570061636384, 1.2227945124611799, 2.0356825538745524, 0.8960277472124333, 1.36131627749611, -0.01900927284926094, -1.123782384244974, 1.2024407293884816, 1.7533041101596796, 2.620102735759663, -0.9243960301190819, -0.9071010052827692, 0.7084815208490741, -1.0164586395797204, -0.9726287488168607, -2.0757409191988963, -0.4056514932145701, -0.4481169032862055, 0.2999481669822941, 0.19005409313068863, 0.20944993347497673, 1.8535331783127982, 0.10833367793192912, 0.9909118192752894, -0.18072276264957435, -0.27175596496885357, -0.3472891841078953, -1.3499379537122178, -0.24361265423740075, 0.1823942082455205, -0.11683434885062603, -1.9611819118675928, -0.10124747971168387, -0.749519554450631, -0.17063962763320573, -1.2924000897834025, -1.6363561634291774, 0.31683188489615605, 0.6767344738274852, -1.0561931295586227, -2.0631652991243787, -1.0225199848753768, -1.2074155289643396, -0.8839567228513001, -0.8159284734528616, 0.6274816714657359, 0.9671930475443826, -0.27905397820525646, -0.9770832801408772]}, {\"boxpoints\": false, \"line\": {\"width\": 1.3}, \"marker\": {\"color\": \"rgba(55, 128, 191, 1.0)\"}, \"name\": \"B\", \"orientation\": \"v\", \"type\": \"box\", \"y\": [1.4564807911980027, -0.5614415874815344, 0.7690489749287509, 1.0745673115894976, -0.271650350545234, -0.20417947351171928, -1.5365217665036148, 0.5271922043293188, -1.486583190597354, -1.5334484919941673, 0.18382394706883978, 0.1344370782872019, 1.89905090532156, 0.6202785332919339, -0.45664038843023563, 1.963126990847653, 1.9369875383030903, 1.0315771467695134, -0.3453335682768677, 0.419546447142365, -1.225897365627275, -1.0887921399676082, -0.21263698997725416, 0.7718171320935325, 0.44145428919101193, -0.8468114640841646, 0.8526936191566775, -0.969355231696488, 1.5408969327530821, -0.04465803887874416, -1.0342638822781325, 0.6075784794307824, 0.020845455399087748, -0.07959203078638698, -1.2885327382950438, -0.5858261320243598, 0.2784538175232755, 0.4716251609013261, 0.007586918494829923, -1.2311721843538845, 2.263014081539277, -0.9445712149750263, -0.7801126734963407, -0.006307163966420759, 0.19209429370631423, 1.4849821222922432, -0.402824407169826, -0.1535552795197902, -0.45306006334156884, 0.2723494038368278, -0.6969797568377994, 1.3148469312491482, -0.4400678278705646, -0.5226856061207958, -1.2685087511392623, -0.7121002063687039, 0.4922848868566591, 1.4080506928339986, -0.6740640131990668, 0.47859781454993217, 0.10407954693386935, -0.09125617817861699, -1.3627903947738937, -1.280305454707673, 1.0676149669634278, 0.10098596940395344, 0.3087197869344185, 0.3416669711946196, -0.2456850602506728, -0.8054522753423443, -0.3581753964308596, 1.2538718650534761, 1.5812764633116267, -1.2869964689617, 0.5134159053161619, 1.0984181861336495, -0.939853681439602, -0.7874505356156805, -0.5251233813470253, 1.426548881182392, 0.07011129375683395, 0.3043731808315209, 1.3453342775245516, 0.8797891435530668, 0.08819796782327056, 0.7785641262132776, -0.32251783943947593, -1.103603729843237, 1.561003488139711, -0.8993481124743095, 2.527656223510702, -0.035756115285384076, 2.32755828482868, 0.8455828949792558, 1.4395208708887242, -0.13261587328217128, 0.9653423868237719, -1.5985346969508438, -0.9772914721691849, 0.6427378710046866]}, {\"boxpoints\": false, \"line\": {\"width\": 1.3}, \"marker\": {\"color\": \"rgba(50, 171, 96, 1.0)\"}, \"name\": \"C\", \"orientation\": \"v\", \"type\": \"box\", \"y\": [-1.0414728897711043, -2.4987006337049427, -1.7405625562342926, 0.7807465485246431, 0.28696749890926176, 0.3363917430252014, 1.293532558358908, 0.1665194695042929, 1.2360927636981422, -1.2564294093066566, 1.2563769793990662, -0.7363214218721139, 0.24426512556462346, -0.11970512182658005, 1.4677478735443614, 1.0647201557032324, -0.45187302257846534, 0.653678868083953, -1.5907134807199985, -1.277732744505322, -0.7228632863713857, 0.7172278823394252, -1.965459613280281, 0.286972183094621, 0.907355772897085, 0.5998967596872434, 0.5651197404402956, -1.0859124022080506, -1.5773190091059082, 1.1157090318556244, -0.06785848898904057, 1.0984784868393382, 0.7813197529628041, 0.48810393395852364, -0.17708026291624845, 0.14629573582432567, -0.11493238419180425, 0.44331295229358997, 0.20136428167932743, -0.019043969415183784, 1.1678372009338673, -1.3483861691724721, -0.7588281414384854, -1.8578532286983487, -0.7444082117778972, -1.0092091832703185, -1.3889162965474495, -0.5371878391790263, -1.4361023025838564, 0.7229130593162181, -0.7199255425887895, -0.30998165984331827, 0.6114310600050571, 0.7969940652634873, 0.6989867534379552, 0.7715048258999205, 0.9559915679786413, -1.388943101110845, -1.1933157339805522, 0.03930509746200616, 1.4075249287877474, -0.31334032917702986, -0.6561559716404194, -0.9588235530918053, 0.007003808306168607, -2.2882431550424704, 0.5874340245739881, -1.2836564652794462, -0.6128829960450962, -0.6384337306448875, -0.7473031588310945, 0.8329215554230448, -0.0014366113415588348, 1.12889882070921, -0.6263450347390124, -0.15207317744954088, -0.34889044161686383, 1.6308397019642658, 0.35697692349751, -0.11009491880760186, 0.8975216642444559, 2.1933943747515614, 1.88500555603819, -0.060286786408807254, -0.12427068027435265, 1.4104620063591755, -0.6422684116873881, 0.6854913943508008, 1.1785110035923059, -0.16773448800986715, 0.38472630846110245, 0.36702394044670406, -2.408159159994002, -0.7380395276178535, 1.304615893104272, 1.187080311936938, -0.15224202616043214, 0.4098386402951023, 0.6487386974994944, 1.081403143428471]}, {\"boxpoints\": false, \"line\": {\"width\": 1.3}, \"marker\": {\"color\": \"rgba(128, 0, 128, 1.0)\"}, \"name\": \"D\", \"orientation\": \"v\", \"type\": \"box\", \"y\": [-2.650812997314717, -0.311803005933188, 0.5234053003502719, -1.1370049341208008, 1.785947315671499, 0.09836375440051173, -1.49973660026947, 0.6840064709496927, -0.29337150802113277, -0.2492993835514884, -0.2452004782750859, 0.7453097427990474, 0.46382336176975625, 0.14690685645880708, 1.658889165267742, -1.5119993487990275, 0.45330904405195466, -1.6403546564341527, 0.2252746294380069, 2.0287963385526178, -0.566046123755891, 0.448211178778663, -1.8506720916351953, -0.042595144127149306, -0.08206156409590681, 0.9445911772581148, 0.4361661575564618, 2.9626678910230035, 0.7178948825887508, 0.39177457468797705, 1.5350778646164982, -0.16204914164458326, -0.26327624177704206, 1.9362232339556251, 1.470902854898459, -1.3164221749124145, 1.5042128521943556, -0.5525791281329449, 0.8730099647445734, 0.20946417573364837, -0.6288275527653823, 0.5794005820262775, -1.2425977976467448, -1.4518619763805094, 2.299083454990828, -1.690325676193857, -2.4398802478119537, 1.0090783405534172, 0.9699967438449757, -0.21462755564471853, -0.42668066402267263, -0.23114341508506436, 1.5878263873553595, 1.1974923701274496, -0.6328802911920552, -0.115689071673373, -1.5659625465829852, -1.7039208968111301, -0.3828743631970665, 0.5533231160499545, 0.041511676904158946, 1.0910109735200546, -1.513318971862418, 1.5973851901395408, 0.7633726790710887, -0.2852253714361112, -0.19098469827365344, 0.07558426108686768, 1.374003041243804, 0.6520549544554999, -1.5669714988794585, 0.4982460397601832, 1.3734024216590928, 1.0223216631378484, -0.9776227762824543, 0.19719940143862155, 0.3845888157721083, -0.8260134162166382, 1.5800598722242059, -0.7555635387878384, -2.8840612108842882, 0.6200362228783207, 0.5282222199839804, -0.21536613709856278, -0.39191915436692076, 0.2804700919368603, 1.7476967130053918, -0.016109583924299856, -0.8780920316098697, -0.2110077017324482, 1.4053406740461782, 0.8268885442630262, 0.756069351921896, -2.0379589159741074, -0.6551719112574574, -2.441510348937944, 0.9514195156737354, 0.32980494191058835, -0.5695516056060412, -1.056582768713903]}],                        {\"legend\": {\"bgcolor\": \"#F5F6F9\", \"font\": {\"color\": \"#4D5663\"}}, \"paper_bgcolor\": \"#F5F6F9\", \"plot_bgcolor\": \"#F5F6F9\", \"template\": {\"data\": {\"bar\": [{\"error_x\": {\"color\": \"#2a3f5f\"}, \"error_y\": {\"color\": \"#2a3f5f\"}, \"marker\": {\"line\": {\"color\": \"#E5ECF6\", \"width\": 0.5}}, \"type\": \"bar\"}], \"barpolar\": [{\"marker\": {\"line\": {\"color\": \"#E5ECF6\", \"width\": 0.5}}, \"type\": \"barpolar\"}], \"carpet\": [{\"aaxis\": {\"endlinecolor\": \"#2a3f5f\", \"gridcolor\": \"white\", \"linecolor\": \"white\", \"minorgridcolor\": \"white\", \"startlinecolor\": \"#2a3f5f\"}, \"baxis\": {\"endlinecolor\": \"#2a3f5f\", \"gridcolor\": \"white\", \"linecolor\": \"white\", \"minorgridcolor\": \"white\", \"startlinecolor\": \"#2a3f5f\"}, \"type\": \"carpet\"}], \"choropleth\": [{\"colorbar\": {\"outlinewidth\": 0, \"ticks\": \"\"}, \"type\": \"choropleth\"}], \"contour\": [{\"colorbar\": {\"outlinewidth\": 0, \"ticks\": \"\"}, \"colorscale\": [[0.0, \"#0d0887\"], [0.1111111111111111, \"#46039f\"], [0.2222222222222222, \"#7201a8\"], [0.3333333333333333, \"#9c179e\"], [0.4444444444444444, \"#bd3786\"], [0.5555555555555556, \"#d8576b\"], [0.6666666666666666, \"#ed7953\"], [0.7777777777777778, \"#fb9f3a\"], [0.8888888888888888, \"#fdca26\"], [1.0, \"#f0f921\"]], \"type\": \"contour\"}], \"contourcarpet\": [{\"colorbar\": {\"outlinewidth\": 0, \"ticks\": \"\"}, \"type\": \"contourcarpet\"}], \"heatmap\": [{\"colorbar\": {\"outlinewidth\": 0, \"ticks\": \"\"}, \"colorscale\": [[0.0, \"#0d0887\"], [0.1111111111111111, \"#46039f\"], [0.2222222222222222, \"#7201a8\"], [0.3333333333333333, \"#9c179e\"], [0.4444444444444444, \"#bd3786\"], [0.5555555555555556, \"#d8576b\"], [0.6666666666666666, \"#ed7953\"], [0.7777777777777778, \"#fb9f3a\"], [0.8888888888888888, \"#fdca26\"], [1.0, \"#f0f921\"]], \"type\": \"heatmap\"}], \"heatmapgl\": [{\"colorbar\": {\"outlinewidth\": 0, \"ticks\": \"\"}, \"colorscale\": [[0.0, \"#0d0887\"], [0.1111111111111111, \"#46039f\"], [0.2222222222222222, \"#7201a8\"], [0.3333333333333333, \"#9c179e\"], [0.4444444444444444, \"#bd3786\"], [0.5555555555555556, \"#d8576b\"], [0.6666666666666666, \"#ed7953\"], [0.7777777777777778, \"#fb9f3a\"], [0.8888888888888888, \"#fdca26\"], [1.0, \"#f0f921\"]], \"type\": \"heatmapgl\"}], \"histogram\": [{\"marker\": {\"colorbar\": {\"outlinewidth\": 0, \"ticks\": \"\"}}, \"type\": \"histogram\"}], \"histogram2d\": [{\"colorbar\": {\"outlinewidth\": 0, \"ticks\": \"\"}, \"colorscale\": [[0.0, \"#0d0887\"], [0.1111111111111111, \"#46039f\"], [0.2222222222222222, \"#7201a8\"], [0.3333333333333333, \"#9c179e\"], [0.4444444444444444, \"#bd3786\"], [0.5555555555555556, \"#d8576b\"], [0.6666666666666666, \"#ed7953\"], [0.7777777777777778, \"#fb9f3a\"], [0.8888888888888888, \"#fdca26\"], [1.0, \"#f0f921\"]], \"type\": \"histogram2d\"}], \"histogram2dcontour\": [{\"colorbar\": {\"outlinewidth\": 0, \"ticks\": \"\"}, \"colorscale\": [[0.0, \"#0d0887\"], [0.1111111111111111, \"#46039f\"], [0.2222222222222222, \"#7201a8\"], [0.3333333333333333, \"#9c179e\"], [0.4444444444444444, \"#bd3786\"], [0.5555555555555556, \"#d8576b\"], [0.6666666666666666, \"#ed7953\"], [0.7777777777777778, \"#fb9f3a\"], [0.8888888888888888, \"#fdca26\"], [1.0, \"#f0f921\"]], \"type\": \"histogram2dcontour\"}], \"mesh3d\": [{\"colorbar\": {\"outlinewidth\": 0, \"ticks\": \"\"}, \"type\": \"mesh3d\"}], \"parcoords\": [{\"line\": {\"colorbar\": {\"outlinewidth\": 0, \"ticks\": \"\"}}, \"type\": \"parcoords\"}], \"pie\": [{\"automargin\": true, \"type\": \"pie\"}], \"scatter\": [{\"marker\": {\"colorbar\": {\"outlinewidth\": 0, \"ticks\": \"\"}}, \"type\": \"scatter\"}], \"scatter3d\": [{\"line\": {\"colorbar\": {\"outlinewidth\": 0, \"ticks\": \"\"}}, \"marker\": {\"colorbar\": {\"outlinewidth\": 0, \"ticks\": \"\"}}, \"type\": \"scatter3d\"}], \"scattercarpet\": [{\"marker\": {\"colorbar\": {\"outlinewidth\": 0, \"ticks\": \"\"}}, \"type\": \"scattercarpet\"}], \"scattergeo\": [{\"marker\": {\"colorbar\": {\"outlinewidth\": 0, \"ticks\": \"\"}}, \"type\": \"scattergeo\"}], \"scattergl\": [{\"marker\": {\"colorbar\": {\"outlinewidth\": 0, \"ticks\": \"\"}}, \"type\": \"scattergl\"}], \"scattermapbox\": [{\"marker\": {\"colorbar\": {\"outlinewidth\": 0, \"ticks\": \"\"}}, \"type\": \"scattermapbox\"}], \"scatterpolar\": [{\"marker\": {\"colorbar\": {\"outlinewidth\": 0, \"ticks\": \"\"}}, \"type\": \"scatterpolar\"}], \"scatterpolargl\": [{\"marker\": {\"colorbar\": {\"outlinewidth\": 0, \"ticks\": \"\"}}, \"type\": \"scatterpolargl\"}], \"scatterternary\": [{\"marker\": {\"colorbar\": {\"outlinewidth\": 0, \"ticks\": \"\"}}, \"type\": \"scatterternary\"}], \"surface\": [{\"colorbar\": {\"outlinewidth\": 0, \"ticks\": \"\"}, \"colorscale\": [[0.0, \"#0d0887\"], [0.1111111111111111, \"#46039f\"], [0.2222222222222222, \"#7201a8\"], [0.3333333333333333, \"#9c179e\"], [0.4444444444444444, \"#bd3786\"], [0.5555555555555556, \"#d8576b\"], [0.6666666666666666, \"#ed7953\"], [0.7777777777777778, \"#fb9f3a\"], [0.8888888888888888, \"#fdca26\"], [1.0, \"#f0f921\"]], \"type\": \"surface\"}], \"table\": [{\"cells\": {\"fill\": {\"color\": \"#EBF0F8\"}, \"line\": {\"color\": \"white\"}}, \"header\": {\"fill\": {\"color\": \"#C8D4E3\"}, \"line\": {\"color\": \"white\"}}, \"type\": \"table\"}]}, \"layout\": {\"annotationdefaults\": {\"arrowcolor\": \"#2a3f5f\", \"arrowhead\": 0, \"arrowwidth\": 1}, \"coloraxis\": {\"colorbar\": {\"outlinewidth\": 0, \"ticks\": \"\"}}, \"colorscale\": {\"diverging\": [[0, \"#8e0152\"], [0.1, \"#c51b7d\"], [0.2, \"#de77ae\"], [0.3, \"#f1b6da\"], [0.4, \"#fde0ef\"], [0.5, \"#f7f7f7\"], [0.6, \"#e6f5d0\"], [0.7, \"#b8e186\"], [0.8, \"#7fbc41\"], [0.9, \"#4d9221\"], [1, \"#276419\"]], \"sequential\": [[0.0, \"#0d0887\"], [0.1111111111111111, \"#46039f\"], [0.2222222222222222, \"#7201a8\"], [0.3333333333333333, \"#9c179e\"], [0.4444444444444444, \"#bd3786\"], [0.5555555555555556, \"#d8576b\"], [0.6666666666666666, \"#ed7953\"], [0.7777777777777778, \"#fb9f3a\"], [0.8888888888888888, \"#fdca26\"], [1.0, \"#f0f921\"]], \"sequentialminus\": [[0.0, \"#0d0887\"], [0.1111111111111111, \"#46039f\"], [0.2222222222222222, \"#7201a8\"], [0.3333333333333333, \"#9c179e\"], [0.4444444444444444, \"#bd3786\"], [0.5555555555555556, \"#d8576b\"], [0.6666666666666666, \"#ed7953\"], [0.7777777777777778, \"#fb9f3a\"], [0.8888888888888888, \"#fdca26\"], [1.0, \"#f0f921\"]]}, \"colorway\": [\"#636efa\", \"#EF553B\", \"#00cc96\", \"#ab63fa\", \"#FFA15A\", \"#19d3f3\", \"#FF6692\", \"#B6E880\", \"#FF97FF\", \"#FECB52\"], \"font\": {\"color\": \"#2a3f5f\"}, \"geo\": {\"bgcolor\": \"white\", \"lakecolor\": \"white\", \"landcolor\": \"#E5ECF6\", \"showlakes\": true, \"showland\": true, \"subunitcolor\": \"white\"}, \"hoverlabel\": {\"align\": \"left\"}, \"hovermode\": \"closest\", \"mapbox\": {\"style\": \"light\"}, \"paper_bgcolor\": \"white\", \"plot_bgcolor\": \"#E5ECF6\", \"polar\": {\"angularaxis\": {\"gridcolor\": \"white\", \"linecolor\": \"white\", \"ticks\": \"\"}, \"bgcolor\": \"#E5ECF6\", \"radialaxis\": {\"gridcolor\": \"white\", \"linecolor\": \"white\", \"ticks\": \"\"}}, \"scene\": {\"xaxis\": {\"backgroundcolor\": \"#E5ECF6\", \"gridcolor\": \"white\", \"gridwidth\": 2, \"linecolor\": \"white\", \"showbackground\": true, \"ticks\": \"\", \"zerolinecolor\": \"white\"}, \"yaxis\": {\"backgroundcolor\": \"#E5ECF6\", \"gridcolor\": \"white\", \"gridwidth\": 2, \"linecolor\": \"white\", \"showbackground\": true, \"ticks\": \"\", \"zerolinecolor\": \"white\"}, \"zaxis\": {\"backgroundcolor\": \"#E5ECF6\", \"gridcolor\": \"white\", \"gridwidth\": 2, \"linecolor\": \"white\", \"showbackground\": true, \"ticks\": \"\", \"zerolinecolor\": \"white\"}}, \"shapedefaults\": {\"line\": {\"color\": \"#2a3f5f\"}}, \"ternary\": {\"aaxis\": {\"gridcolor\": \"white\", \"linecolor\": \"white\", \"ticks\": \"\"}, \"baxis\": {\"gridcolor\": \"white\", \"linecolor\": \"white\", \"ticks\": \"\"}, \"bgcolor\": \"#E5ECF6\", \"caxis\": {\"gridcolor\": \"white\", \"linecolor\": \"white\", \"ticks\": \"\"}}, \"title\": {\"x\": 0.05}, \"xaxis\": {\"automargin\": true, \"gridcolor\": \"white\", \"linecolor\": \"white\", \"ticks\": \"\", \"title\": {\"standoff\": 15}, \"zerolinecolor\": \"white\", \"zerolinewidth\": 2}, \"yaxis\": {\"automargin\": true, \"gridcolor\": \"white\", \"linecolor\": \"white\", \"ticks\": \"\", \"title\": {\"standoff\": 15}, \"zerolinecolor\": \"white\", \"zerolinewidth\": 2}}}, \"title\": {\"font\": {\"color\": \"#4D5663\"}}, \"xaxis\": {\"gridcolor\": \"#E1E5ED\", \"showgrid\": true, \"tickfont\": {\"color\": \"#4D5663\"}, \"title\": {\"font\": {\"color\": \"#4D5663\"}, \"text\": \"\"}, \"zerolinecolor\": \"#E1E5ED\"}, \"yaxis\": {\"gridcolor\": \"#E1E5ED\", \"showgrid\": true, \"tickfont\": {\"color\": \"#4D5663\"}, \"title\": {\"font\": {\"color\": \"#4D5663\"}, \"text\": \"\"}, \"zerolinecolor\": \"#E1E5ED\"}},                        {\"showLink\": true, \"linkText\": \"Export to plot.ly\", \"plotlyServerURL\": \"https://plot.ly\", \"responsive\": true}                    ).then(function(){\n",
       "                            \n",
       "var gd = document.getElementById('ea07dbb0-6c67-46de-bcb4-18c71849328f');\n",
       "var x = new MutationObserver(function (mutations, observer) {{\n",
       "        var display = window.getComputedStyle(gd).display;\n",
       "        if (!display || display === 'none') {{\n",
       "            console.log([gd, 'removed!']);\n",
       "            Plotly.purge(gd);\n",
       "            observer.disconnect();\n",
       "        }}\n",
       "}});\n",
       "\n",
       "// Listen for the removal of the full notebook cells\n",
       "var notebookContainer = gd.closest('#notebook-container');\n",
       "if (notebookContainer) {{\n",
       "    x.observe(notebookContainer, {childList: true});\n",
       "}}\n",
       "\n",
       "// Listen for the clearing of the current output cell\n",
       "var outputEl = gd.closest('.output');\n",
       "if (outputEl) {{\n",
       "    x.observe(outputEl, {childList: true});\n",
       "}}\n",
       "\n",
       "                        })                };                });            </script>        </div>"
      ]
     },
     "metadata": {},
     "output_type": "display_data"
    }
   ],
   "source": [
    "df.iplot(kind='box')"
   ]
  },
  {
   "cell_type": "markdown",
   "metadata": {
    "id": "uflOlrmpbxv5"
   },
   "source": [
    "## 3d Surface"
   ]
  },
  {
   "cell_type": "code",
   "execution_count": 33,
   "metadata": {},
   "outputs": [
    {
     "data": {
      "text/html": [
       "<div>\n",
       "<style scoped>\n",
       "    .dataframe tbody tr th:only-of-type {\n",
       "        vertical-align: middle;\n",
       "    }\n",
       "\n",
       "    .dataframe tbody tr th {\n",
       "        vertical-align: top;\n",
       "    }\n",
       "\n",
       "    .dataframe thead th {\n",
       "        text-align: right;\n",
       "    }\n",
       "</style>\n",
       "<table border=\"1\" class=\"dataframe\">\n",
       "  <thead>\n",
       "    <tr style=\"text-align: right;\">\n",
       "      <th></th>\n",
       "      <th>x</th>\n",
       "      <th>y</th>\n",
       "      <th>z</th>\n",
       "    </tr>\n",
       "  </thead>\n",
       "  <tbody>\n",
       "    <tr>\n",
       "      <th>0</th>\n",
       "      <td>1</td>\n",
       "      <td>10</td>\n",
       "      <td>5</td>\n",
       "    </tr>\n",
       "    <tr>\n",
       "      <th>1</th>\n",
       "      <td>2</td>\n",
       "      <td>20</td>\n",
       "      <td>4</td>\n",
       "    </tr>\n",
       "    <tr>\n",
       "      <th>2</th>\n",
       "      <td>3</td>\n",
       "      <td>30</td>\n",
       "      <td>3</td>\n",
       "    </tr>\n",
       "    <tr>\n",
       "      <th>3</th>\n",
       "      <td>4</td>\n",
       "      <td>20</td>\n",
       "      <td>2</td>\n",
       "    </tr>\n",
       "    <tr>\n",
       "      <th>4</th>\n",
       "      <td>5</td>\n",
       "      <td>10</td>\n",
       "      <td>1</td>\n",
       "    </tr>\n",
       "  </tbody>\n",
       "</table>\n",
       "</div>"
      ],
      "text/plain": [
       "   x   y  z\n",
       "0  1  10  5\n",
       "1  2  20  4\n",
       "2  3  30  3\n",
       "3  4  20  2\n",
       "4  5  10  1"
      ]
     },
     "execution_count": 33,
     "metadata": {},
     "output_type": "execute_result"
    }
   ],
   "source": [
    "df3 = pd.DataFrame({'x':[1,2,3,4,5],'y':[10,20,30,20,10],'z':[5,4,3,2,1]})\n",
    "df3.head()"
   ]
  },
  {
   "cell_type": "code",
   "execution_count": 34,
   "metadata": {
    "colab": {
     "base_uri": "https://localhost:8080/",
     "height": 542
    },
    "id": "x6kgkjuxbxv7",
    "outputId": "31137cfd-ef5b-4d25-a834-35b7cda62c39"
   },
   "outputs": [
    {
     "data": {
      "application/vnd.plotly.v1+json": {
       "config": {
        "linkText": "Export to plot.ly",
        "plotlyServerURL": "https://plot.ly",
        "showLink": true
       },
       "data": [
        {
         "colorscale": [
          [
           0,
           "rgb(165,0,38)"
          ],
          [
           0.1,
           "rgb(215,48,39)"
          ],
          [
           0.2,
           "rgb(244,109,67)"
          ],
          [
           0.3,
           "rgb(253,174,97)"
          ],
          [
           0.4,
           "rgb(254,224,144)"
          ],
          [
           0.5,
           "rgb(255,255,191)"
          ],
          [
           0.6,
           "rgb(224,243,248)"
          ],
          [
           0.7,
           "rgb(171,217,233)"
          ],
          [
           0.8,
           "rgb(116,173,209)"
          ],
          [
           0.9,
           "rgb(69,117,180)"
          ],
          [
           1,
           "rgb(49,54,149)"
          ]
         ],
         "type": "surface",
         "x": [
          0,
          1,
          2,
          3,
          4
         ],
         "y": [
          "x",
          "y",
          "z"
         ],
         "z": [
          [
           1,
           2,
           3,
           4,
           5
          ],
          [
           10,
           20,
           30,
           20,
           10
          ],
          [
           5,
           4,
           3,
           2,
           1
          ]
         ]
        }
       ],
       "layout": {
        "legend": {
         "bgcolor": "#F5F6F9",
         "font": {
          "color": "#4D5663"
         }
        },
        "paper_bgcolor": "#F5F6F9",
        "plot_bgcolor": "#F5F6F9",
        "template": {
         "data": {
          "bar": [
           {
            "error_x": {
             "color": "#2a3f5f"
            },
            "error_y": {
             "color": "#2a3f5f"
            },
            "marker": {
             "line": {
              "color": "#E5ECF6",
              "width": 0.5
             }
            },
            "type": "bar"
           }
          ],
          "barpolar": [
           {
            "marker": {
             "line": {
              "color": "#E5ECF6",
              "width": 0.5
             }
            },
            "type": "barpolar"
           }
          ],
          "carpet": [
           {
            "aaxis": {
             "endlinecolor": "#2a3f5f",
             "gridcolor": "white",
             "linecolor": "white",
             "minorgridcolor": "white",
             "startlinecolor": "#2a3f5f"
            },
            "baxis": {
             "endlinecolor": "#2a3f5f",
             "gridcolor": "white",
             "linecolor": "white",
             "minorgridcolor": "white",
             "startlinecolor": "#2a3f5f"
            },
            "type": "carpet"
           }
          ],
          "choropleth": [
           {
            "colorbar": {
             "outlinewidth": 0,
             "ticks": ""
            },
            "type": "choropleth"
           }
          ],
          "contour": [
           {
            "colorbar": {
             "outlinewidth": 0,
             "ticks": ""
            },
            "colorscale": [
             [
              0,
              "#0d0887"
             ],
             [
              0.1111111111111111,
              "#46039f"
             ],
             [
              0.2222222222222222,
              "#7201a8"
             ],
             [
              0.3333333333333333,
              "#9c179e"
             ],
             [
              0.4444444444444444,
              "#bd3786"
             ],
             [
              0.5555555555555556,
              "#d8576b"
             ],
             [
              0.6666666666666666,
              "#ed7953"
             ],
             [
              0.7777777777777778,
              "#fb9f3a"
             ],
             [
              0.8888888888888888,
              "#fdca26"
             ],
             [
              1,
              "#f0f921"
             ]
            ],
            "type": "contour"
           }
          ],
          "contourcarpet": [
           {
            "colorbar": {
             "outlinewidth": 0,
             "ticks": ""
            },
            "type": "contourcarpet"
           }
          ],
          "heatmap": [
           {
            "colorbar": {
             "outlinewidth": 0,
             "ticks": ""
            },
            "colorscale": [
             [
              0,
              "#0d0887"
             ],
             [
              0.1111111111111111,
              "#46039f"
             ],
             [
              0.2222222222222222,
              "#7201a8"
             ],
             [
              0.3333333333333333,
              "#9c179e"
             ],
             [
              0.4444444444444444,
              "#bd3786"
             ],
             [
              0.5555555555555556,
              "#d8576b"
             ],
             [
              0.6666666666666666,
              "#ed7953"
             ],
             [
              0.7777777777777778,
              "#fb9f3a"
             ],
             [
              0.8888888888888888,
              "#fdca26"
             ],
             [
              1,
              "#f0f921"
             ]
            ],
            "type": "heatmap"
           }
          ],
          "heatmapgl": [
           {
            "colorbar": {
             "outlinewidth": 0,
             "ticks": ""
            },
            "colorscale": [
             [
              0,
              "#0d0887"
             ],
             [
              0.1111111111111111,
              "#46039f"
             ],
             [
              0.2222222222222222,
              "#7201a8"
             ],
             [
              0.3333333333333333,
              "#9c179e"
             ],
             [
              0.4444444444444444,
              "#bd3786"
             ],
             [
              0.5555555555555556,
              "#d8576b"
             ],
             [
              0.6666666666666666,
              "#ed7953"
             ],
             [
              0.7777777777777778,
              "#fb9f3a"
             ],
             [
              0.8888888888888888,
              "#fdca26"
             ],
             [
              1,
              "#f0f921"
             ]
            ],
            "type": "heatmapgl"
           }
          ],
          "histogram": [
           {
            "marker": {
             "colorbar": {
              "outlinewidth": 0,
              "ticks": ""
             }
            },
            "type": "histogram"
           }
          ],
          "histogram2d": [
           {
            "colorbar": {
             "outlinewidth": 0,
             "ticks": ""
            },
            "colorscale": [
             [
              0,
              "#0d0887"
             ],
             [
              0.1111111111111111,
              "#46039f"
             ],
             [
              0.2222222222222222,
              "#7201a8"
             ],
             [
              0.3333333333333333,
              "#9c179e"
             ],
             [
              0.4444444444444444,
              "#bd3786"
             ],
             [
              0.5555555555555556,
              "#d8576b"
             ],
             [
              0.6666666666666666,
              "#ed7953"
             ],
             [
              0.7777777777777778,
              "#fb9f3a"
             ],
             [
              0.8888888888888888,
              "#fdca26"
             ],
             [
              1,
              "#f0f921"
             ]
            ],
            "type": "histogram2d"
           }
          ],
          "histogram2dcontour": [
           {
            "colorbar": {
             "outlinewidth": 0,
             "ticks": ""
            },
            "colorscale": [
             [
              0,
              "#0d0887"
             ],
             [
              0.1111111111111111,
              "#46039f"
             ],
             [
              0.2222222222222222,
              "#7201a8"
             ],
             [
              0.3333333333333333,
              "#9c179e"
             ],
             [
              0.4444444444444444,
              "#bd3786"
             ],
             [
              0.5555555555555556,
              "#d8576b"
             ],
             [
              0.6666666666666666,
              "#ed7953"
             ],
             [
              0.7777777777777778,
              "#fb9f3a"
             ],
             [
              0.8888888888888888,
              "#fdca26"
             ],
             [
              1,
              "#f0f921"
             ]
            ],
            "type": "histogram2dcontour"
           }
          ],
          "mesh3d": [
           {
            "colorbar": {
             "outlinewidth": 0,
             "ticks": ""
            },
            "type": "mesh3d"
           }
          ],
          "parcoords": [
           {
            "line": {
             "colorbar": {
              "outlinewidth": 0,
              "ticks": ""
             }
            },
            "type": "parcoords"
           }
          ],
          "pie": [
           {
            "automargin": true,
            "type": "pie"
           }
          ],
          "scatter": [
           {
            "marker": {
             "colorbar": {
              "outlinewidth": 0,
              "ticks": ""
             }
            },
            "type": "scatter"
           }
          ],
          "scatter3d": [
           {
            "line": {
             "colorbar": {
              "outlinewidth": 0,
              "ticks": ""
             }
            },
            "marker": {
             "colorbar": {
              "outlinewidth": 0,
              "ticks": ""
             }
            },
            "type": "scatter3d"
           }
          ],
          "scattercarpet": [
           {
            "marker": {
             "colorbar": {
              "outlinewidth": 0,
              "ticks": ""
             }
            },
            "type": "scattercarpet"
           }
          ],
          "scattergeo": [
           {
            "marker": {
             "colorbar": {
              "outlinewidth": 0,
              "ticks": ""
             }
            },
            "type": "scattergeo"
           }
          ],
          "scattergl": [
           {
            "marker": {
             "colorbar": {
              "outlinewidth": 0,
              "ticks": ""
             }
            },
            "type": "scattergl"
           }
          ],
          "scattermapbox": [
           {
            "marker": {
             "colorbar": {
              "outlinewidth": 0,
              "ticks": ""
             }
            },
            "type": "scattermapbox"
           }
          ],
          "scatterpolar": [
           {
            "marker": {
             "colorbar": {
              "outlinewidth": 0,
              "ticks": ""
             }
            },
            "type": "scatterpolar"
           }
          ],
          "scatterpolargl": [
           {
            "marker": {
             "colorbar": {
              "outlinewidth": 0,
              "ticks": ""
             }
            },
            "type": "scatterpolargl"
           }
          ],
          "scatterternary": [
           {
            "marker": {
             "colorbar": {
              "outlinewidth": 0,
              "ticks": ""
             }
            },
            "type": "scatterternary"
           }
          ],
          "surface": [
           {
            "colorbar": {
             "outlinewidth": 0,
             "ticks": ""
            },
            "colorscale": [
             [
              0,
              "#0d0887"
             ],
             [
              0.1111111111111111,
              "#46039f"
             ],
             [
              0.2222222222222222,
              "#7201a8"
             ],
             [
              0.3333333333333333,
              "#9c179e"
             ],
             [
              0.4444444444444444,
              "#bd3786"
             ],
             [
              0.5555555555555556,
              "#d8576b"
             ],
             [
              0.6666666666666666,
              "#ed7953"
             ],
             [
              0.7777777777777778,
              "#fb9f3a"
             ],
             [
              0.8888888888888888,
              "#fdca26"
             ],
             [
              1,
              "#f0f921"
             ]
            ],
            "type": "surface"
           }
          ],
          "table": [
           {
            "cells": {
             "fill": {
              "color": "#EBF0F8"
             },
             "line": {
              "color": "white"
             }
            },
            "header": {
             "fill": {
              "color": "#C8D4E3"
             },
             "line": {
              "color": "white"
             }
            },
            "type": "table"
           }
          ]
         },
         "layout": {
          "annotationdefaults": {
           "arrowcolor": "#2a3f5f",
           "arrowhead": 0,
           "arrowwidth": 1
          },
          "coloraxis": {
           "colorbar": {
            "outlinewidth": 0,
            "ticks": ""
           }
          },
          "colorscale": {
           "diverging": [
            [
             0,
             "#8e0152"
            ],
            [
             0.1,
             "#c51b7d"
            ],
            [
             0.2,
             "#de77ae"
            ],
            [
             0.3,
             "#f1b6da"
            ],
            [
             0.4,
             "#fde0ef"
            ],
            [
             0.5,
             "#f7f7f7"
            ],
            [
             0.6,
             "#e6f5d0"
            ],
            [
             0.7,
             "#b8e186"
            ],
            [
             0.8,
             "#7fbc41"
            ],
            [
             0.9,
             "#4d9221"
            ],
            [
             1,
             "#276419"
            ]
           ],
           "sequential": [
            [
             0,
             "#0d0887"
            ],
            [
             0.1111111111111111,
             "#46039f"
            ],
            [
             0.2222222222222222,
             "#7201a8"
            ],
            [
             0.3333333333333333,
             "#9c179e"
            ],
            [
             0.4444444444444444,
             "#bd3786"
            ],
            [
             0.5555555555555556,
             "#d8576b"
            ],
            [
             0.6666666666666666,
             "#ed7953"
            ],
            [
             0.7777777777777778,
             "#fb9f3a"
            ],
            [
             0.8888888888888888,
             "#fdca26"
            ],
            [
             1,
             "#f0f921"
            ]
           ],
           "sequentialminus": [
            [
             0,
             "#0d0887"
            ],
            [
             0.1111111111111111,
             "#46039f"
            ],
            [
             0.2222222222222222,
             "#7201a8"
            ],
            [
             0.3333333333333333,
             "#9c179e"
            ],
            [
             0.4444444444444444,
             "#bd3786"
            ],
            [
             0.5555555555555556,
             "#d8576b"
            ],
            [
             0.6666666666666666,
             "#ed7953"
            ],
            [
             0.7777777777777778,
             "#fb9f3a"
            ],
            [
             0.8888888888888888,
             "#fdca26"
            ],
            [
             1,
             "#f0f921"
            ]
           ]
          },
          "colorway": [
           "#636efa",
           "#EF553B",
           "#00cc96",
           "#ab63fa",
           "#FFA15A",
           "#19d3f3",
           "#FF6692",
           "#B6E880",
           "#FF97FF",
           "#FECB52"
          ],
          "font": {
           "color": "#2a3f5f"
          },
          "geo": {
           "bgcolor": "white",
           "lakecolor": "white",
           "landcolor": "#E5ECF6",
           "showlakes": true,
           "showland": true,
           "subunitcolor": "white"
          },
          "hoverlabel": {
           "align": "left"
          },
          "hovermode": "closest",
          "mapbox": {
           "style": "light"
          },
          "paper_bgcolor": "white",
          "plot_bgcolor": "#E5ECF6",
          "polar": {
           "angularaxis": {
            "gridcolor": "white",
            "linecolor": "white",
            "ticks": ""
           },
           "bgcolor": "#E5ECF6",
           "radialaxis": {
            "gridcolor": "white",
            "linecolor": "white",
            "ticks": ""
           }
          },
          "scene": {
           "xaxis": {
            "backgroundcolor": "#E5ECF6",
            "gridcolor": "white",
            "gridwidth": 2,
            "linecolor": "white",
            "showbackground": true,
            "ticks": "",
            "zerolinecolor": "white"
           },
           "yaxis": {
            "backgroundcolor": "#E5ECF6",
            "gridcolor": "white",
            "gridwidth": 2,
            "linecolor": "white",
            "showbackground": true,
            "ticks": "",
            "zerolinecolor": "white"
           },
           "zaxis": {
            "backgroundcolor": "#E5ECF6",
            "gridcolor": "white",
            "gridwidth": 2,
            "linecolor": "white",
            "showbackground": true,
            "ticks": "",
            "zerolinecolor": "white"
           }
          },
          "shapedefaults": {
           "line": {
            "color": "#2a3f5f"
           }
          },
          "ternary": {
           "aaxis": {
            "gridcolor": "white",
            "linecolor": "white",
            "ticks": ""
           },
           "baxis": {
            "gridcolor": "white",
            "linecolor": "white",
            "ticks": ""
           },
           "bgcolor": "#E5ECF6",
           "caxis": {
            "gridcolor": "white",
            "linecolor": "white",
            "ticks": ""
           }
          },
          "title": {
           "x": 0.05
          },
          "xaxis": {
           "automargin": true,
           "gridcolor": "white",
           "linecolor": "white",
           "ticks": "",
           "title": {
            "standoff": 15
           },
           "zerolinecolor": "white",
           "zerolinewidth": 2
          },
          "yaxis": {
           "automargin": true,
           "gridcolor": "white",
           "linecolor": "white",
           "ticks": "",
           "title": {
            "standoff": 15
           },
           "zerolinecolor": "white",
           "zerolinewidth": 2
          }
         }
        },
        "title": {
         "font": {
          "color": "#4D5663"
         }
        },
        "xaxis": {
         "gridcolor": "#E1E5ED",
         "showgrid": true,
         "tickfont": {
          "color": "#4D5663"
         },
         "title": {
          "font": {
           "color": "#4D5663"
          },
          "text": ""
         },
         "zerolinecolor": "#E1E5ED"
        },
        "yaxis": {
         "gridcolor": "#E1E5ED",
         "showgrid": true,
         "tickfont": {
          "color": "#4D5663"
         },
         "title": {
          "font": {
           "color": "#4D5663"
          },
          "text": ""
         },
         "zerolinecolor": "#E1E5ED"
        }
       }
      },
      "text/html": [
       "<div>                            <div id=\"106d0a1b-e6fb-4548-9495-913cd54b5730\" class=\"plotly-graph-div\" style=\"height:525px; width:100%;\"></div>            <script type=\"text/javascript\">                require([\"plotly\"], function(Plotly) {                    window.PLOTLYENV=window.PLOTLYENV || {};\n",
       "                    window.PLOTLYENV.BASE_URL='https://plot.ly';                                    if (document.getElementById(\"106d0a1b-e6fb-4548-9495-913cd54b5730\")) {                    Plotly.newPlot(                        \"106d0a1b-e6fb-4548-9495-913cd54b5730\",                        [{\"colorscale\": [[0.0, \"rgb(165,0,38)\"], [0.1, \"rgb(215,48,39)\"], [0.2, \"rgb(244,109,67)\"], [0.3, \"rgb(253,174,97)\"], [0.4, \"rgb(254,224,144)\"], [0.5, \"rgb(255,255,191)\"], [0.6, \"rgb(224,243,248)\"], [0.7, \"rgb(171,217,233)\"], [0.8, \"rgb(116,173,209)\"], [0.9, \"rgb(69,117,180)\"], [1.0, \"rgb(49,54,149)\"]], \"type\": \"surface\", \"x\": [0, 1, 2, 3, 4], \"y\": [\"x\", \"y\", \"z\"], \"z\": [[1, 2, 3, 4, 5], [10, 20, 30, 20, 10], [5, 4, 3, 2, 1]]}],                        {\"legend\": {\"bgcolor\": \"#F5F6F9\", \"font\": {\"color\": \"#4D5663\"}}, \"paper_bgcolor\": \"#F5F6F9\", \"plot_bgcolor\": \"#F5F6F9\", \"template\": {\"data\": {\"bar\": [{\"error_x\": {\"color\": \"#2a3f5f\"}, \"error_y\": {\"color\": \"#2a3f5f\"}, \"marker\": {\"line\": {\"color\": \"#E5ECF6\", \"width\": 0.5}}, \"type\": \"bar\"}], \"barpolar\": [{\"marker\": {\"line\": {\"color\": \"#E5ECF6\", \"width\": 0.5}}, \"type\": \"barpolar\"}], \"carpet\": [{\"aaxis\": {\"endlinecolor\": \"#2a3f5f\", \"gridcolor\": \"white\", \"linecolor\": \"white\", \"minorgridcolor\": \"white\", \"startlinecolor\": \"#2a3f5f\"}, \"baxis\": {\"endlinecolor\": \"#2a3f5f\", \"gridcolor\": \"white\", \"linecolor\": \"white\", \"minorgridcolor\": \"white\", \"startlinecolor\": \"#2a3f5f\"}, \"type\": \"carpet\"}], \"choropleth\": [{\"colorbar\": {\"outlinewidth\": 0, \"ticks\": \"\"}, \"type\": \"choropleth\"}], \"contour\": [{\"colorbar\": {\"outlinewidth\": 0, \"ticks\": \"\"}, \"colorscale\": [[0.0, \"#0d0887\"], [0.1111111111111111, \"#46039f\"], [0.2222222222222222, \"#7201a8\"], [0.3333333333333333, \"#9c179e\"], [0.4444444444444444, \"#bd3786\"], [0.5555555555555556, \"#d8576b\"], [0.6666666666666666, \"#ed7953\"], [0.7777777777777778, \"#fb9f3a\"], [0.8888888888888888, \"#fdca26\"], [1.0, \"#f0f921\"]], \"type\": \"contour\"}], \"contourcarpet\": [{\"colorbar\": {\"outlinewidth\": 0, \"ticks\": \"\"}, \"type\": \"contourcarpet\"}], \"heatmap\": [{\"colorbar\": {\"outlinewidth\": 0, \"ticks\": \"\"}, \"colorscale\": [[0.0, \"#0d0887\"], [0.1111111111111111, \"#46039f\"], [0.2222222222222222, \"#7201a8\"], [0.3333333333333333, \"#9c179e\"], [0.4444444444444444, \"#bd3786\"], [0.5555555555555556, \"#d8576b\"], [0.6666666666666666, \"#ed7953\"], [0.7777777777777778, \"#fb9f3a\"], [0.8888888888888888, \"#fdca26\"], [1.0, \"#f0f921\"]], \"type\": \"heatmap\"}], \"heatmapgl\": [{\"colorbar\": {\"outlinewidth\": 0, \"ticks\": \"\"}, \"colorscale\": [[0.0, \"#0d0887\"], [0.1111111111111111, \"#46039f\"], [0.2222222222222222, \"#7201a8\"], [0.3333333333333333, \"#9c179e\"], [0.4444444444444444, \"#bd3786\"], [0.5555555555555556, \"#d8576b\"], [0.6666666666666666, \"#ed7953\"], [0.7777777777777778, \"#fb9f3a\"], [0.8888888888888888, \"#fdca26\"], [1.0, \"#f0f921\"]], \"type\": \"heatmapgl\"}], \"histogram\": [{\"marker\": {\"colorbar\": {\"outlinewidth\": 0, \"ticks\": \"\"}}, \"type\": \"histogram\"}], \"histogram2d\": [{\"colorbar\": {\"outlinewidth\": 0, \"ticks\": \"\"}, \"colorscale\": [[0.0, \"#0d0887\"], [0.1111111111111111, \"#46039f\"], [0.2222222222222222, \"#7201a8\"], [0.3333333333333333, \"#9c179e\"], [0.4444444444444444, \"#bd3786\"], [0.5555555555555556, \"#d8576b\"], [0.6666666666666666, \"#ed7953\"], [0.7777777777777778, \"#fb9f3a\"], [0.8888888888888888, \"#fdca26\"], [1.0, \"#f0f921\"]], \"type\": \"histogram2d\"}], \"histogram2dcontour\": [{\"colorbar\": {\"outlinewidth\": 0, \"ticks\": \"\"}, \"colorscale\": [[0.0, \"#0d0887\"], [0.1111111111111111, \"#46039f\"], [0.2222222222222222, \"#7201a8\"], [0.3333333333333333, \"#9c179e\"], [0.4444444444444444, \"#bd3786\"], [0.5555555555555556, \"#d8576b\"], [0.6666666666666666, \"#ed7953\"], [0.7777777777777778, \"#fb9f3a\"], [0.8888888888888888, \"#fdca26\"], [1.0, \"#f0f921\"]], \"type\": \"histogram2dcontour\"}], \"mesh3d\": [{\"colorbar\": {\"outlinewidth\": 0, \"ticks\": \"\"}, \"type\": \"mesh3d\"}], \"parcoords\": [{\"line\": {\"colorbar\": {\"outlinewidth\": 0, \"ticks\": \"\"}}, \"type\": \"parcoords\"}], \"pie\": [{\"automargin\": true, \"type\": \"pie\"}], \"scatter\": [{\"marker\": {\"colorbar\": {\"outlinewidth\": 0, \"ticks\": \"\"}}, \"type\": \"scatter\"}], \"scatter3d\": [{\"line\": {\"colorbar\": {\"outlinewidth\": 0, \"ticks\": \"\"}}, \"marker\": {\"colorbar\": {\"outlinewidth\": 0, \"ticks\": \"\"}}, \"type\": \"scatter3d\"}], \"scattercarpet\": [{\"marker\": {\"colorbar\": {\"outlinewidth\": 0, \"ticks\": \"\"}}, \"type\": \"scattercarpet\"}], \"scattergeo\": [{\"marker\": {\"colorbar\": {\"outlinewidth\": 0, \"ticks\": \"\"}}, \"type\": \"scattergeo\"}], \"scattergl\": [{\"marker\": {\"colorbar\": {\"outlinewidth\": 0, \"ticks\": \"\"}}, \"type\": \"scattergl\"}], \"scattermapbox\": [{\"marker\": {\"colorbar\": {\"outlinewidth\": 0, \"ticks\": \"\"}}, \"type\": \"scattermapbox\"}], \"scatterpolar\": [{\"marker\": {\"colorbar\": {\"outlinewidth\": 0, \"ticks\": \"\"}}, \"type\": \"scatterpolar\"}], \"scatterpolargl\": [{\"marker\": {\"colorbar\": {\"outlinewidth\": 0, \"ticks\": \"\"}}, \"type\": \"scatterpolargl\"}], \"scatterternary\": [{\"marker\": {\"colorbar\": {\"outlinewidth\": 0, \"ticks\": \"\"}}, \"type\": \"scatterternary\"}], \"surface\": [{\"colorbar\": {\"outlinewidth\": 0, \"ticks\": \"\"}, \"colorscale\": [[0.0, \"#0d0887\"], [0.1111111111111111, \"#46039f\"], [0.2222222222222222, \"#7201a8\"], [0.3333333333333333, \"#9c179e\"], [0.4444444444444444, \"#bd3786\"], [0.5555555555555556, \"#d8576b\"], [0.6666666666666666, \"#ed7953\"], [0.7777777777777778, \"#fb9f3a\"], [0.8888888888888888, \"#fdca26\"], [1.0, \"#f0f921\"]], \"type\": \"surface\"}], \"table\": [{\"cells\": {\"fill\": {\"color\": \"#EBF0F8\"}, \"line\": {\"color\": \"white\"}}, \"header\": {\"fill\": {\"color\": \"#C8D4E3\"}, \"line\": {\"color\": \"white\"}}, \"type\": \"table\"}]}, \"layout\": {\"annotationdefaults\": {\"arrowcolor\": \"#2a3f5f\", \"arrowhead\": 0, \"arrowwidth\": 1}, \"coloraxis\": {\"colorbar\": {\"outlinewidth\": 0, \"ticks\": \"\"}}, \"colorscale\": {\"diverging\": [[0, \"#8e0152\"], [0.1, \"#c51b7d\"], [0.2, \"#de77ae\"], [0.3, \"#f1b6da\"], [0.4, \"#fde0ef\"], [0.5, \"#f7f7f7\"], [0.6, \"#e6f5d0\"], [0.7, \"#b8e186\"], [0.8, \"#7fbc41\"], [0.9, \"#4d9221\"], [1, \"#276419\"]], \"sequential\": [[0.0, \"#0d0887\"], [0.1111111111111111, \"#46039f\"], [0.2222222222222222, \"#7201a8\"], [0.3333333333333333, \"#9c179e\"], [0.4444444444444444, \"#bd3786\"], [0.5555555555555556, \"#d8576b\"], [0.6666666666666666, \"#ed7953\"], [0.7777777777777778, \"#fb9f3a\"], [0.8888888888888888, \"#fdca26\"], [1.0, \"#f0f921\"]], \"sequentialminus\": [[0.0, \"#0d0887\"], [0.1111111111111111, \"#46039f\"], [0.2222222222222222, \"#7201a8\"], [0.3333333333333333, \"#9c179e\"], [0.4444444444444444, \"#bd3786\"], [0.5555555555555556, \"#d8576b\"], [0.6666666666666666, \"#ed7953\"], [0.7777777777777778, \"#fb9f3a\"], [0.8888888888888888, \"#fdca26\"], [1.0, \"#f0f921\"]]}, \"colorway\": [\"#636efa\", \"#EF553B\", \"#00cc96\", \"#ab63fa\", \"#FFA15A\", \"#19d3f3\", \"#FF6692\", \"#B6E880\", \"#FF97FF\", \"#FECB52\"], \"font\": {\"color\": \"#2a3f5f\"}, \"geo\": {\"bgcolor\": \"white\", \"lakecolor\": \"white\", \"landcolor\": \"#E5ECF6\", \"showlakes\": true, \"showland\": true, \"subunitcolor\": \"white\"}, \"hoverlabel\": {\"align\": \"left\"}, \"hovermode\": \"closest\", \"mapbox\": {\"style\": \"light\"}, \"paper_bgcolor\": \"white\", \"plot_bgcolor\": \"#E5ECF6\", \"polar\": {\"angularaxis\": {\"gridcolor\": \"white\", \"linecolor\": \"white\", \"ticks\": \"\"}, \"bgcolor\": \"#E5ECF6\", \"radialaxis\": {\"gridcolor\": \"white\", \"linecolor\": \"white\", \"ticks\": \"\"}}, \"scene\": {\"xaxis\": {\"backgroundcolor\": \"#E5ECF6\", \"gridcolor\": \"white\", \"gridwidth\": 2, \"linecolor\": \"white\", \"showbackground\": true, \"ticks\": \"\", \"zerolinecolor\": \"white\"}, \"yaxis\": {\"backgroundcolor\": \"#E5ECF6\", \"gridcolor\": \"white\", \"gridwidth\": 2, \"linecolor\": \"white\", \"showbackground\": true, \"ticks\": \"\", \"zerolinecolor\": \"white\"}, \"zaxis\": {\"backgroundcolor\": \"#E5ECF6\", \"gridcolor\": \"white\", \"gridwidth\": 2, \"linecolor\": \"white\", \"showbackground\": true, \"ticks\": \"\", \"zerolinecolor\": \"white\"}}, \"shapedefaults\": {\"line\": {\"color\": \"#2a3f5f\"}}, \"ternary\": {\"aaxis\": {\"gridcolor\": \"white\", \"linecolor\": \"white\", \"ticks\": \"\"}, \"baxis\": {\"gridcolor\": \"white\", \"linecolor\": \"white\", \"ticks\": \"\"}, \"bgcolor\": \"#E5ECF6\", \"caxis\": {\"gridcolor\": \"white\", \"linecolor\": \"white\", \"ticks\": \"\"}}, \"title\": {\"x\": 0.05}, \"xaxis\": {\"automargin\": true, \"gridcolor\": \"white\", \"linecolor\": \"white\", \"ticks\": \"\", \"title\": {\"standoff\": 15}, \"zerolinecolor\": \"white\", \"zerolinewidth\": 2}, \"yaxis\": {\"automargin\": true, \"gridcolor\": \"white\", \"linecolor\": \"white\", \"ticks\": \"\", \"title\": {\"standoff\": 15}, \"zerolinecolor\": \"white\", \"zerolinewidth\": 2}}}, \"title\": {\"font\": {\"color\": \"#4D5663\"}}, \"xaxis\": {\"gridcolor\": \"#E1E5ED\", \"showgrid\": true, \"tickfont\": {\"color\": \"#4D5663\"}, \"title\": {\"font\": {\"color\": \"#4D5663\"}, \"text\": \"\"}, \"zerolinecolor\": \"#E1E5ED\"}, \"yaxis\": {\"gridcolor\": \"#E1E5ED\", \"showgrid\": true, \"tickfont\": {\"color\": \"#4D5663\"}, \"title\": {\"font\": {\"color\": \"#4D5663\"}, \"text\": \"\"}, \"zerolinecolor\": \"#E1E5ED\"}},                        {\"showLink\": true, \"linkText\": \"Export to plot.ly\", \"plotlyServerURL\": \"https://plot.ly\", \"responsive\": true}                    ).then(function(){\n",
       "                            \n",
       "var gd = document.getElementById('106d0a1b-e6fb-4548-9495-913cd54b5730');\n",
       "var x = new MutationObserver(function (mutations, observer) {{\n",
       "        var display = window.getComputedStyle(gd).display;\n",
       "        if (!display || display === 'none') {{\n",
       "            console.log([gd, 'removed!']);\n",
       "            Plotly.purge(gd);\n",
       "            observer.disconnect();\n",
       "        }}\n",
       "}});\n",
       "\n",
       "// Listen for the removal of the full notebook cells\n",
       "var notebookContainer = gd.closest('#notebook-container');\n",
       "if (notebookContainer) {{\n",
       "    x.observe(notebookContainer, {childList: true});\n",
       "}}\n",
       "\n",
       "// Listen for the clearing of the current output cell\n",
       "var outputEl = gd.closest('.output');\n",
       "if (outputEl) {{\n",
       "    x.observe(outputEl, {childList: true});\n",
       "}}\n",
       "\n",
       "                        })                };                });            </script>        </div>"
      ]
     },
     "metadata": {},
     "output_type": "display_data"
    }
   ],
   "source": [
    "df3.iplot(kind='surface',colorscale='rdylbu')"
   ]
  },
  {
   "cell_type": "markdown",
   "metadata": {
    "id": "LhWt74ngbxwE"
   },
   "source": [
    "## Spread"
   ]
  },
  {
   "cell_type": "code",
   "execution_count": 37,
   "metadata": {},
   "outputs": [
    {
     "data": {
      "text/html": [
       "<div>\n",
       "<style scoped>\n",
       "    .dataframe tbody tr th:only-of-type {\n",
       "        vertical-align: middle;\n",
       "    }\n",
       "\n",
       "    .dataframe tbody tr th {\n",
       "        vertical-align: top;\n",
       "    }\n",
       "\n",
       "    .dataframe thead th {\n",
       "        text-align: right;\n",
       "    }\n",
       "</style>\n",
       "<table border=\"1\" class=\"dataframe\">\n",
       "  <thead>\n",
       "    <tr style=\"text-align: right;\">\n",
       "      <th></th>\n",
       "      <th>A</th>\n",
       "      <th>B</th>\n",
       "    </tr>\n",
       "  </thead>\n",
       "  <tbody>\n",
       "    <tr>\n",
       "      <th>0</th>\n",
       "      <td>2.305079</td>\n",
       "      <td>1.456481</td>\n",
       "    </tr>\n",
       "    <tr>\n",
       "      <th>1</th>\n",
       "      <td>-0.345448</td>\n",
       "      <td>-0.561442</td>\n",
       "    </tr>\n",
       "    <tr>\n",
       "      <th>2</th>\n",
       "      <td>-1.674912</td>\n",
       "      <td>0.769049</td>\n",
       "    </tr>\n",
       "    <tr>\n",
       "      <th>3</th>\n",
       "      <td>1.207319</td>\n",
       "      <td>1.074567</td>\n",
       "    </tr>\n",
       "    <tr>\n",
       "      <th>4</th>\n",
       "      <td>1.406344</td>\n",
       "      <td>-0.271650</td>\n",
       "    </tr>\n",
       "  </tbody>\n",
       "</table>\n",
       "</div>"
      ],
      "text/plain": [
       "          A         B\n",
       "0  2.305079  1.456481\n",
       "1 -0.345448 -0.561442\n",
       "2 -1.674912  0.769049\n",
       "3  1.207319  1.074567\n",
       "4  1.406344 -0.271650"
      ]
     },
     "execution_count": 37,
     "metadata": {},
     "output_type": "execute_result"
    }
   ],
   "source": [
    "df[['A','B']].head()"
   ]
  },
  {
   "cell_type": "code",
   "execution_count": 35,
   "metadata": {
    "colab": {
     "base_uri": "https://localhost:8080/",
     "height": 681
    },
    "id": "OMPP9pG_bxwG",
    "outputId": "77710c72-398f-4653-d683-af80f4900b29"
   },
   "outputs": [
    {
     "name": "stderr",
     "output_type": "stream",
     "text": [
      "/home/harpreet/anaconda3/lib/python3.7/site-packages/cufflinks/plotlytools.py:849: FutureWarning:\n",
      "\n",
      "The pandas.np module is deprecated and will be removed from pandas in a future version. Import numpy directly instead\n",
      "\n",
      "/home/harpreet/anaconda3/lib/python3.7/site-packages/cufflinks/plotlytools.py:850: FutureWarning:\n",
      "\n",
      "The pandas.np module is deprecated and will be removed from pandas in a future version. Import numpy directly instead\n",
      "\n"
     ]
    },
    {
     "data": {
      "application/vnd.plotly.v1+json": {
       "config": {
        "linkText": "Export to plot.ly",
        "plotlyServerURL": "https://plot.ly",
        "showLink": true
       },
       "data": [
        {
         "line": {
          "color": "rgba(255, 153, 51, 1.0)",
          "dash": "solid",
          "shape": "linear",
          "width": 1.3
         },
         "mode": "lines",
         "name": "A",
         "text": "",
         "type": "scatter",
         "x": [
          0,
          1,
          2,
          3,
          4,
          5,
          6,
          7,
          8,
          9,
          10,
          11,
          12,
          13,
          14,
          15,
          16,
          17,
          18,
          19,
          20,
          21,
          22,
          23,
          24,
          25,
          26,
          27,
          28,
          29,
          30,
          31,
          32,
          33,
          34,
          35,
          36,
          37,
          38,
          39,
          40,
          41,
          42,
          43,
          44,
          45,
          46,
          47,
          48,
          49,
          50,
          51,
          52,
          53,
          54,
          55,
          56,
          57,
          58,
          59,
          60,
          61,
          62,
          63,
          64,
          65,
          66,
          67,
          68,
          69,
          70,
          71,
          72,
          73,
          74,
          75,
          76,
          77,
          78,
          79,
          80,
          81,
          82,
          83,
          84,
          85,
          86,
          87,
          88,
          89,
          90,
          91,
          92,
          93,
          94,
          95,
          96,
          97,
          98,
          99
         ],
         "y": [
          2.3050789463764794,
          -0.34544828836374125,
          -1.67491216027255,
          1.207318891717801,
          1.406343778561469,
          -1.112345759784398,
          0.9446789832334939,
          -0.38728675731145373,
          1.3079689084749777,
          -1.8069718036199587,
          0.18825627165035458,
          0.7147828258451806,
          0.44192463870483806,
          -0.49552350971023745,
          -0.322800551035353,
          -0.47433961294441596,
          0.1690883770206803,
          1.2017852529943827,
          -0.1647321336067996,
          -2.3955741265632238,
          -1.4758945487582762,
          0.962445834012295,
          0.6653252839778693,
          -0.41880202344092315,
          0.04627068636022785,
          -1.5185646666381192,
          -1.9938509523173815,
          -0.02240060509745099,
          1.1809831611785004,
          1.8801658934707632,
          1.0292593510337478,
          0.5949117331367149,
          -1.4514506277441748,
          -0.42502646313780856,
          -0.5797899821504993,
          -0.3581390966891277,
          -0.11892770450618409,
          1.0926209083884437,
          0.7050466192122445,
          1.2375172874906153,
          1.4072020975357857,
          0.1575926374578665,
          0.09396028076688108,
          0.14998003245337374,
          1.0006464685965815,
          0.33651897865653907,
          -0.10778939786155453,
          1.7762185531905517,
          0.2433230426333405,
          0.6573414720203437,
          1.4987623651774449,
          0.49100570061636384,
          1.2227945124611799,
          2.0356825538745524,
          0.8960277472124333,
          1.36131627749611,
          -0.01900927284926094,
          -1.123782384244974,
          1.2024407293884816,
          1.7533041101596796,
          2.620102735759663,
          -0.9243960301190819,
          -0.9071010052827692,
          0.7084815208490741,
          -1.0164586395797204,
          -0.9726287488168607,
          -2.0757409191988963,
          -0.4056514932145701,
          -0.4481169032862055,
          0.2999481669822941,
          0.19005409313068863,
          0.20944993347497673,
          1.8535331783127982,
          0.10833367793192912,
          0.9909118192752894,
          -0.18072276264957435,
          -0.27175596496885357,
          -0.3472891841078953,
          -1.3499379537122178,
          -0.24361265423740075,
          0.1823942082455205,
          -0.11683434885062603,
          -1.9611819118675928,
          -0.10124747971168387,
          -0.749519554450631,
          -0.17063962763320573,
          -1.2924000897834025,
          -1.6363561634291774,
          0.31683188489615605,
          0.6767344738274852,
          -1.0561931295586227,
          -2.0631652991243787,
          -1.0225199848753768,
          -1.2074155289643396,
          -0.8839567228513001,
          -0.8159284734528616,
          0.6274816714657359,
          0.9671930475443826,
          -0.27905397820525646,
          -0.9770832801408772
         ]
        },
        {
         "line": {
          "color": "rgba(55, 128, 191, 1.0)",
          "dash": "solid",
          "shape": "linear",
          "width": 1.3
         },
         "mode": "lines",
         "name": "B",
         "text": "",
         "type": "scatter",
         "x": [
          0,
          1,
          2,
          3,
          4,
          5,
          6,
          7,
          8,
          9,
          10,
          11,
          12,
          13,
          14,
          15,
          16,
          17,
          18,
          19,
          20,
          21,
          22,
          23,
          24,
          25,
          26,
          27,
          28,
          29,
          30,
          31,
          32,
          33,
          34,
          35,
          36,
          37,
          38,
          39,
          40,
          41,
          42,
          43,
          44,
          45,
          46,
          47,
          48,
          49,
          50,
          51,
          52,
          53,
          54,
          55,
          56,
          57,
          58,
          59,
          60,
          61,
          62,
          63,
          64,
          65,
          66,
          67,
          68,
          69,
          70,
          71,
          72,
          73,
          74,
          75,
          76,
          77,
          78,
          79,
          80,
          81,
          82,
          83,
          84,
          85,
          86,
          87,
          88,
          89,
          90,
          91,
          92,
          93,
          94,
          95,
          96,
          97,
          98,
          99
         ],
         "y": [
          1.4564807911980027,
          -0.5614415874815344,
          0.7690489749287509,
          1.0745673115894976,
          -0.271650350545234,
          -0.20417947351171928,
          -1.5365217665036148,
          0.5271922043293188,
          -1.486583190597354,
          -1.5334484919941673,
          0.18382394706883978,
          0.1344370782872019,
          1.89905090532156,
          0.6202785332919339,
          -0.45664038843023563,
          1.963126990847653,
          1.9369875383030903,
          1.0315771467695134,
          -0.3453335682768677,
          0.419546447142365,
          -1.225897365627275,
          -1.0887921399676082,
          -0.21263698997725416,
          0.7718171320935325,
          0.44145428919101193,
          -0.8468114640841646,
          0.8526936191566775,
          -0.969355231696488,
          1.5408969327530821,
          -0.04465803887874416,
          -1.0342638822781325,
          0.6075784794307824,
          0.020845455399087748,
          -0.07959203078638698,
          -1.2885327382950438,
          -0.5858261320243598,
          0.2784538175232755,
          0.4716251609013261,
          0.007586918494829923,
          -1.2311721843538845,
          2.263014081539277,
          -0.9445712149750263,
          -0.7801126734963407,
          -0.006307163966420759,
          0.19209429370631423,
          1.4849821222922432,
          -0.402824407169826,
          -0.1535552795197902,
          -0.45306006334156884,
          0.2723494038368278,
          -0.6969797568377994,
          1.3148469312491482,
          -0.4400678278705646,
          -0.5226856061207958,
          -1.2685087511392623,
          -0.7121002063687039,
          0.4922848868566591,
          1.4080506928339986,
          -0.6740640131990668,
          0.47859781454993217,
          0.10407954693386935,
          -0.09125617817861699,
          -1.3627903947738937,
          -1.280305454707673,
          1.0676149669634278,
          0.10098596940395344,
          0.3087197869344185,
          0.3416669711946196,
          -0.2456850602506728,
          -0.8054522753423443,
          -0.3581753964308596,
          1.2538718650534761,
          1.5812764633116267,
          -1.2869964689617,
          0.5134159053161619,
          1.0984181861336495,
          -0.939853681439602,
          -0.7874505356156805,
          -0.5251233813470253,
          1.426548881182392,
          0.07011129375683395,
          0.3043731808315209,
          1.3453342775245516,
          0.8797891435530668,
          0.08819796782327056,
          0.7785641262132776,
          -0.32251783943947593,
          -1.103603729843237,
          1.561003488139711,
          -0.8993481124743095,
          2.527656223510702,
          -0.035756115285384076,
          2.32755828482868,
          0.8455828949792558,
          1.4395208708887242,
          -0.13261587328217128,
          0.9653423868237719,
          -1.5985346969508438,
          -0.9772914721691849,
          0.6427378710046866
         ]
        },
        {
         "connectgaps": false,
         "fill": "tozeroy",
         "line": {
          "color": "green",
          "dash": "solid",
          "shape": "linear",
          "width": 0.5
         },
         "mode": "lines",
         "name": "Spread",
         "showlegend": false,
         "type": "scatter",
         "x": [
          0,
          1,
          2,
          3,
          4,
          5,
          6,
          7,
          8,
          9,
          10,
          11,
          12,
          13,
          14,
          15,
          16,
          17,
          18,
          19,
          20,
          21,
          22,
          23,
          24,
          25,
          26,
          27,
          28,
          29,
          30,
          31,
          32,
          33,
          34,
          35,
          36,
          37,
          38,
          39,
          40,
          41,
          42,
          43,
          44,
          45,
          46,
          47,
          48,
          49,
          50,
          51,
          52,
          53,
          54,
          55,
          56,
          57,
          58,
          59,
          60,
          61,
          62,
          63,
          64,
          65,
          66,
          67,
          68,
          69,
          70,
          71,
          72,
          73,
          74,
          75,
          76,
          77,
          78,
          79,
          80,
          81,
          82,
          83,
          84,
          85,
          86,
          87,
          88,
          89,
          90,
          91,
          92,
          93,
          94,
          95,
          96,
          97,
          98,
          99
         ],
         "xaxis": "x2",
         "y": [
          0.8485981551784767,
          0.21599329911779314,
          "",
          0.13275158012830346,
          1.677994129106703,
          "",
          2.4812007497371087,
          "",
          2.794552099072332,
          "",
          0.004432324581514796,
          0.5803457475579787,
          "",
          "",
          0.13383983739488264,
          "",
          "",
          0.17020810622486926,
          0.18060143467006806,
          "",
          "",
          2.0512379739799034,
          0.8779622739551234,
          "",
          "",
          "",
          "",
          0.946954626599037,
          "",
          1.9248239323495073,
          2.06352323331188,
          "",
          "",
          "",
          0.7087427561445445,
          0.22768703533523216,
          "",
          0.6209957474871176,
          0.6974597007174146,
          2.4686894718445,
          "",
          1.1021638524328927,
          0.8740729542632218,
          0.1562871964197945,
          0.8085521748902672,
          "",
          0.2950350093082714,
          1.929773832710342,
          0.6963831059749094,
          0.38499206818351583,
          2.195742122015244,
          "",
          1.6628623403317444,
          2.5583681599953483,
          2.1645364983516955,
          2.073416483864814,
          "",
          "",
          1.8765047425875485,
          1.2747062956097475,
          2.516023188825794,
          "",
          0.4556893894911246,
          1.988786975556747,
          "",
          "",
          "",
          "",
          "",
          1.1054004423246384,
          0.5482294895615483,
          "",
          0.27225671500117143,
          1.395330146893629,
          0.4774959139591275,
          "",
          0.6680977164707484,
          0.4401613515077852,
          "",
          "",
          0.11228291448868655,
          "",
          "",
          "",
          "",
          "",
          "",
          "",
          "",
          1.5760825863017947,
          "",
          "",
          "",
          "",
          "",
          "",
          "",
          2.5657277444952262,
          0.6982374939639284,
          ""
         ],
         "yaxis": "y2"
        },
        {
         "connectgaps": false,
         "fill": "tozeroy",
         "line": {
          "color": "red",
          "dash": "solid",
          "shape": "linear",
          "width": 0.5
         },
         "mode": "lines",
         "name": "Spread",
         "showlegend": false,
         "type": "scatter",
         "x": [
          0,
          1,
          2,
          3,
          4,
          5,
          6,
          7,
          8,
          9,
          10,
          11,
          12,
          13,
          14,
          15,
          16,
          17,
          18,
          19,
          20,
          21,
          22,
          23,
          24,
          25,
          26,
          27,
          28,
          29,
          30,
          31,
          32,
          33,
          34,
          35,
          36,
          37,
          38,
          39,
          40,
          41,
          42,
          43,
          44,
          45,
          46,
          47,
          48,
          49,
          50,
          51,
          52,
          53,
          54,
          55,
          56,
          57,
          58,
          59,
          60,
          61,
          62,
          63,
          64,
          65,
          66,
          67,
          68,
          69,
          70,
          71,
          72,
          73,
          74,
          75,
          76,
          77,
          78,
          79,
          80,
          81,
          82,
          83,
          84,
          85,
          86,
          87,
          88,
          89,
          90,
          91,
          92,
          93,
          94,
          95,
          96,
          97,
          98,
          99
         ],
         "xaxis": "x2",
         "y": [
          "",
          "",
          -2.443961135201301,
          "",
          "",
          -0.9081662862726787,
          "",
          -0.9144789616407725,
          "",
          -0.27352331162579135,
          "",
          "",
          -1.457126266616722,
          -1.1158020430021713,
          "",
          -2.437466603792069,
          -1.76789916128241,
          "",
          "",
          -2.8151205737055887,
          -0.24999718313100128,
          "",
          "",
          -1.1906191555344556,
          -0.3951836028307841,
          -0.6717532025539545,
          -2.846544571474059,
          "",
          -0.3599137715745817,
          "",
          "",
          -0.012666746294067499,
          -1.4722960831432625,
          -0.34543443235142157,
          "",
          "",
          -0.39738152202945964,
          "",
          "",
          "",
          -0.8558119840034915,
          "",
          "",
          "",
          "",
          -1.1484631436357042,
          "",
          "",
          "",
          "",
          "",
          -0.8238412306327844,
          "",
          "",
          "",
          "",
          -0.5112941597059201,
          -2.5318330770789723,
          "",
          "",
          "",
          -0.8331398519404649,
          "",
          "",
          -2.084073606543148,
          -1.073614718220814,
          -2.3844607061333147,
          -0.7473184644091897,
          -0.20243184303553272,
          "",
          "",
          -1.0444219315784995,
          "",
          "",
          "",
          -1.279140948783224,
          "",
          "",
          -0.8248145723651925,
          -1.6701615354197927,
          "",
          -0.4212075296821469,
          -3.3065161893921444,
          -0.9810366232647507,
          -0.8377175222739016,
          -0.9492037538464834,
          -0.9698822503439266,
          -0.5327524335859404,
          -1.244171603243555,
          "",
          -3.5838493530693247,
          -2.0274091838389947,
          -3.3500782697040568,
          -2.0529984239435954,
          -2.3234775937400243,
          -0.6833126001706903,
          -0.3378607153580361,
          "",
          "",
          -1.6198211511455638
         ],
         "yaxis": "y2"
        }
       ],
       "layout": {
        "hovermode": "x",
        "legend": {
         "bgcolor": "#F5F6F9",
         "font": {
          "color": "#4D5663"
         }
        },
        "paper_bgcolor": "#F5F6F9",
        "plot_bgcolor": "#F5F6F9",
        "template": {
         "data": {
          "bar": [
           {
            "error_x": {
             "color": "#2a3f5f"
            },
            "error_y": {
             "color": "#2a3f5f"
            },
            "marker": {
             "line": {
              "color": "#E5ECF6",
              "width": 0.5
             }
            },
            "type": "bar"
           }
          ],
          "barpolar": [
           {
            "marker": {
             "line": {
              "color": "#E5ECF6",
              "width": 0.5
             }
            },
            "type": "barpolar"
           }
          ],
          "carpet": [
           {
            "aaxis": {
             "endlinecolor": "#2a3f5f",
             "gridcolor": "white",
             "linecolor": "white",
             "minorgridcolor": "white",
             "startlinecolor": "#2a3f5f"
            },
            "baxis": {
             "endlinecolor": "#2a3f5f",
             "gridcolor": "white",
             "linecolor": "white",
             "minorgridcolor": "white",
             "startlinecolor": "#2a3f5f"
            },
            "type": "carpet"
           }
          ],
          "choropleth": [
           {
            "colorbar": {
             "outlinewidth": 0,
             "ticks": ""
            },
            "type": "choropleth"
           }
          ],
          "contour": [
           {
            "colorbar": {
             "outlinewidth": 0,
             "ticks": ""
            },
            "colorscale": [
             [
              0,
              "#0d0887"
             ],
             [
              0.1111111111111111,
              "#46039f"
             ],
             [
              0.2222222222222222,
              "#7201a8"
             ],
             [
              0.3333333333333333,
              "#9c179e"
             ],
             [
              0.4444444444444444,
              "#bd3786"
             ],
             [
              0.5555555555555556,
              "#d8576b"
             ],
             [
              0.6666666666666666,
              "#ed7953"
             ],
             [
              0.7777777777777778,
              "#fb9f3a"
             ],
             [
              0.8888888888888888,
              "#fdca26"
             ],
             [
              1,
              "#f0f921"
             ]
            ],
            "type": "contour"
           }
          ],
          "contourcarpet": [
           {
            "colorbar": {
             "outlinewidth": 0,
             "ticks": ""
            },
            "type": "contourcarpet"
           }
          ],
          "heatmap": [
           {
            "colorbar": {
             "outlinewidth": 0,
             "ticks": ""
            },
            "colorscale": [
             [
              0,
              "#0d0887"
             ],
             [
              0.1111111111111111,
              "#46039f"
             ],
             [
              0.2222222222222222,
              "#7201a8"
             ],
             [
              0.3333333333333333,
              "#9c179e"
             ],
             [
              0.4444444444444444,
              "#bd3786"
             ],
             [
              0.5555555555555556,
              "#d8576b"
             ],
             [
              0.6666666666666666,
              "#ed7953"
             ],
             [
              0.7777777777777778,
              "#fb9f3a"
             ],
             [
              0.8888888888888888,
              "#fdca26"
             ],
             [
              1,
              "#f0f921"
             ]
            ],
            "type": "heatmap"
           }
          ],
          "heatmapgl": [
           {
            "colorbar": {
             "outlinewidth": 0,
             "ticks": ""
            },
            "colorscale": [
             [
              0,
              "#0d0887"
             ],
             [
              0.1111111111111111,
              "#46039f"
             ],
             [
              0.2222222222222222,
              "#7201a8"
             ],
             [
              0.3333333333333333,
              "#9c179e"
             ],
             [
              0.4444444444444444,
              "#bd3786"
             ],
             [
              0.5555555555555556,
              "#d8576b"
             ],
             [
              0.6666666666666666,
              "#ed7953"
             ],
             [
              0.7777777777777778,
              "#fb9f3a"
             ],
             [
              0.8888888888888888,
              "#fdca26"
             ],
             [
              1,
              "#f0f921"
             ]
            ],
            "type": "heatmapgl"
           }
          ],
          "histogram": [
           {
            "marker": {
             "colorbar": {
              "outlinewidth": 0,
              "ticks": ""
             }
            },
            "type": "histogram"
           }
          ],
          "histogram2d": [
           {
            "colorbar": {
             "outlinewidth": 0,
             "ticks": ""
            },
            "colorscale": [
             [
              0,
              "#0d0887"
             ],
             [
              0.1111111111111111,
              "#46039f"
             ],
             [
              0.2222222222222222,
              "#7201a8"
             ],
             [
              0.3333333333333333,
              "#9c179e"
             ],
             [
              0.4444444444444444,
              "#bd3786"
             ],
             [
              0.5555555555555556,
              "#d8576b"
             ],
             [
              0.6666666666666666,
              "#ed7953"
             ],
             [
              0.7777777777777778,
              "#fb9f3a"
             ],
             [
              0.8888888888888888,
              "#fdca26"
             ],
             [
              1,
              "#f0f921"
             ]
            ],
            "type": "histogram2d"
           }
          ],
          "histogram2dcontour": [
           {
            "colorbar": {
             "outlinewidth": 0,
             "ticks": ""
            },
            "colorscale": [
             [
              0,
              "#0d0887"
             ],
             [
              0.1111111111111111,
              "#46039f"
             ],
             [
              0.2222222222222222,
              "#7201a8"
             ],
             [
              0.3333333333333333,
              "#9c179e"
             ],
             [
              0.4444444444444444,
              "#bd3786"
             ],
             [
              0.5555555555555556,
              "#d8576b"
             ],
             [
              0.6666666666666666,
              "#ed7953"
             ],
             [
              0.7777777777777778,
              "#fb9f3a"
             ],
             [
              0.8888888888888888,
              "#fdca26"
             ],
             [
              1,
              "#f0f921"
             ]
            ],
            "type": "histogram2dcontour"
           }
          ],
          "mesh3d": [
           {
            "colorbar": {
             "outlinewidth": 0,
             "ticks": ""
            },
            "type": "mesh3d"
           }
          ],
          "parcoords": [
           {
            "line": {
             "colorbar": {
              "outlinewidth": 0,
              "ticks": ""
             }
            },
            "type": "parcoords"
           }
          ],
          "pie": [
           {
            "automargin": true,
            "type": "pie"
           }
          ],
          "scatter": [
           {
            "marker": {
             "colorbar": {
              "outlinewidth": 0,
              "ticks": ""
             }
            },
            "type": "scatter"
           }
          ],
          "scatter3d": [
           {
            "line": {
             "colorbar": {
              "outlinewidth": 0,
              "ticks": ""
             }
            },
            "marker": {
             "colorbar": {
              "outlinewidth": 0,
              "ticks": ""
             }
            },
            "type": "scatter3d"
           }
          ],
          "scattercarpet": [
           {
            "marker": {
             "colorbar": {
              "outlinewidth": 0,
              "ticks": ""
             }
            },
            "type": "scattercarpet"
           }
          ],
          "scattergeo": [
           {
            "marker": {
             "colorbar": {
              "outlinewidth": 0,
              "ticks": ""
             }
            },
            "type": "scattergeo"
           }
          ],
          "scattergl": [
           {
            "marker": {
             "colorbar": {
              "outlinewidth": 0,
              "ticks": ""
             }
            },
            "type": "scattergl"
           }
          ],
          "scattermapbox": [
           {
            "marker": {
             "colorbar": {
              "outlinewidth": 0,
              "ticks": ""
             }
            },
            "type": "scattermapbox"
           }
          ],
          "scatterpolar": [
           {
            "marker": {
             "colorbar": {
              "outlinewidth": 0,
              "ticks": ""
             }
            },
            "type": "scatterpolar"
           }
          ],
          "scatterpolargl": [
           {
            "marker": {
             "colorbar": {
              "outlinewidth": 0,
              "ticks": ""
             }
            },
            "type": "scatterpolargl"
           }
          ],
          "scatterternary": [
           {
            "marker": {
             "colorbar": {
              "outlinewidth": 0,
              "ticks": ""
             }
            },
            "type": "scatterternary"
           }
          ],
          "surface": [
           {
            "colorbar": {
             "outlinewidth": 0,
             "ticks": ""
            },
            "colorscale": [
             [
              0,
              "#0d0887"
             ],
             [
              0.1111111111111111,
              "#46039f"
             ],
             [
              0.2222222222222222,
              "#7201a8"
             ],
             [
              0.3333333333333333,
              "#9c179e"
             ],
             [
              0.4444444444444444,
              "#bd3786"
             ],
             [
              0.5555555555555556,
              "#d8576b"
             ],
             [
              0.6666666666666666,
              "#ed7953"
             ],
             [
              0.7777777777777778,
              "#fb9f3a"
             ],
             [
              0.8888888888888888,
              "#fdca26"
             ],
             [
              1,
              "#f0f921"
             ]
            ],
            "type": "surface"
           }
          ],
          "table": [
           {
            "cells": {
             "fill": {
              "color": "#EBF0F8"
             },
             "line": {
              "color": "white"
             }
            },
            "header": {
             "fill": {
              "color": "#C8D4E3"
             },
             "line": {
              "color": "white"
             }
            },
            "type": "table"
           }
          ]
         },
         "layout": {
          "annotationdefaults": {
           "arrowcolor": "#2a3f5f",
           "arrowhead": 0,
           "arrowwidth": 1
          },
          "coloraxis": {
           "colorbar": {
            "outlinewidth": 0,
            "ticks": ""
           }
          },
          "colorscale": {
           "diverging": [
            [
             0,
             "#8e0152"
            ],
            [
             0.1,
             "#c51b7d"
            ],
            [
             0.2,
             "#de77ae"
            ],
            [
             0.3,
             "#f1b6da"
            ],
            [
             0.4,
             "#fde0ef"
            ],
            [
             0.5,
             "#f7f7f7"
            ],
            [
             0.6,
             "#e6f5d0"
            ],
            [
             0.7,
             "#b8e186"
            ],
            [
             0.8,
             "#7fbc41"
            ],
            [
             0.9,
             "#4d9221"
            ],
            [
             1,
             "#276419"
            ]
           ],
           "sequential": [
            [
             0,
             "#0d0887"
            ],
            [
             0.1111111111111111,
             "#46039f"
            ],
            [
             0.2222222222222222,
             "#7201a8"
            ],
            [
             0.3333333333333333,
             "#9c179e"
            ],
            [
             0.4444444444444444,
             "#bd3786"
            ],
            [
             0.5555555555555556,
             "#d8576b"
            ],
            [
             0.6666666666666666,
             "#ed7953"
            ],
            [
             0.7777777777777778,
             "#fb9f3a"
            ],
            [
             0.8888888888888888,
             "#fdca26"
            ],
            [
             1,
             "#f0f921"
            ]
           ],
           "sequentialminus": [
            [
             0,
             "#0d0887"
            ],
            [
             0.1111111111111111,
             "#46039f"
            ],
            [
             0.2222222222222222,
             "#7201a8"
            ],
            [
             0.3333333333333333,
             "#9c179e"
            ],
            [
             0.4444444444444444,
             "#bd3786"
            ],
            [
             0.5555555555555556,
             "#d8576b"
            ],
            [
             0.6666666666666666,
             "#ed7953"
            ],
            [
             0.7777777777777778,
             "#fb9f3a"
            ],
            [
             0.8888888888888888,
             "#fdca26"
            ],
            [
             1,
             "#f0f921"
            ]
           ]
          },
          "colorway": [
           "#636efa",
           "#EF553B",
           "#00cc96",
           "#ab63fa",
           "#FFA15A",
           "#19d3f3",
           "#FF6692",
           "#B6E880",
           "#FF97FF",
           "#FECB52"
          ],
          "font": {
           "color": "#2a3f5f"
          },
          "geo": {
           "bgcolor": "white",
           "lakecolor": "white",
           "landcolor": "#E5ECF6",
           "showlakes": true,
           "showland": true,
           "subunitcolor": "white"
          },
          "hoverlabel": {
           "align": "left"
          },
          "hovermode": "closest",
          "mapbox": {
           "style": "light"
          },
          "paper_bgcolor": "white",
          "plot_bgcolor": "#E5ECF6",
          "polar": {
           "angularaxis": {
            "gridcolor": "white",
            "linecolor": "white",
            "ticks": ""
           },
           "bgcolor": "#E5ECF6",
           "radialaxis": {
            "gridcolor": "white",
            "linecolor": "white",
            "ticks": ""
           }
          },
          "scene": {
           "xaxis": {
            "backgroundcolor": "#E5ECF6",
            "gridcolor": "white",
            "gridwidth": 2,
            "linecolor": "white",
            "showbackground": true,
            "ticks": "",
            "zerolinecolor": "white"
           },
           "yaxis": {
            "backgroundcolor": "#E5ECF6",
            "gridcolor": "white",
            "gridwidth": 2,
            "linecolor": "white",
            "showbackground": true,
            "ticks": "",
            "zerolinecolor": "white"
           },
           "zaxis": {
            "backgroundcolor": "#E5ECF6",
            "gridcolor": "white",
            "gridwidth": 2,
            "linecolor": "white",
            "showbackground": true,
            "ticks": "",
            "zerolinecolor": "white"
           }
          },
          "shapedefaults": {
           "line": {
            "color": "#2a3f5f"
           }
          },
          "ternary": {
           "aaxis": {
            "gridcolor": "white",
            "linecolor": "white",
            "ticks": ""
           },
           "baxis": {
            "gridcolor": "white",
            "linecolor": "white",
            "ticks": ""
           },
           "bgcolor": "#E5ECF6",
           "caxis": {
            "gridcolor": "white",
            "linecolor": "white",
            "ticks": ""
           }
          },
          "title": {
           "x": 0.05
          },
          "xaxis": {
           "automargin": true,
           "gridcolor": "white",
           "linecolor": "white",
           "ticks": "",
           "title": {
            "standoff": 15
           },
           "zerolinecolor": "white",
           "zerolinewidth": 2
          },
          "yaxis": {
           "automargin": true,
           "gridcolor": "white",
           "linecolor": "white",
           "ticks": "",
           "title": {
            "standoff": 15
           },
           "zerolinecolor": "white",
           "zerolinewidth": 2
          }
         }
        },
        "title": {
         "font": {
          "color": "#4D5663"
         }
        },
        "xaxis": {
         "gridcolor": "#E1E5ED",
         "showgrid": true,
         "tickfont": {
          "color": "#4D5663"
         },
         "title": {
          "font": {
           "color": "#4D5663"
          },
          "text": ""
         },
         "zerolinecolor": "#E1E5ED"
        },
        "xaxis2": {
         "anchor": "y2",
         "gridcolor": "#E1E5ED",
         "showgrid": true,
         "showticklabels": false,
         "tickfont": {
          "color": "#4D5663"
         },
         "title": {
          "font": {
           "color": "#4D5663"
          },
          "text": ""
         },
         "zerolinecolor": "#E1E5ED"
        },
        "yaxis": {
         "domain": [
          0.3,
          1
         ],
         "gridcolor": "#E1E5ED",
         "showgrid": true,
         "tickfont": {
          "color": "#4D5663"
         },
         "title": {
          "font": {
           "color": "#4D5663"
          },
          "text": ""
         },
         "zerolinecolor": "#E1E5ED"
        },
        "yaxis2": {
         "domain": [
          0,
          0.25
         ],
         "gridcolor": "#E1E5ED",
         "showgrid": true,
         "tickfont": {
          "color": "#4D5663"
         },
         "title": {
          "font": {
           "color": "#4D5663"
          },
          "text": "Spread"
         },
         "zerolinecolor": "#E1E5ED"
        }
       }
      },
      "text/html": [
       "<div>                            <div id=\"7c31997e-c8ea-4f5c-9ff4-795606d15491\" class=\"plotly-graph-div\" style=\"height:525px; width:100%;\"></div>            <script type=\"text/javascript\">                require([\"plotly\"], function(Plotly) {                    window.PLOTLYENV=window.PLOTLYENV || {};\n",
       "                    window.PLOTLYENV.BASE_URL='https://plot.ly';                                    if (document.getElementById(\"7c31997e-c8ea-4f5c-9ff4-795606d15491\")) {                    Plotly.newPlot(                        \"7c31997e-c8ea-4f5c-9ff4-795606d15491\",                        [{\"line\": {\"color\": \"rgba(255, 153, 51, 1.0)\", \"dash\": \"solid\", \"shape\": \"linear\", \"width\": 1.3}, \"mode\": \"lines\", \"name\": \"A\", \"text\": \"\", \"type\": \"scatter\", \"x\": [0, 1, 2, 3, 4, 5, 6, 7, 8, 9, 10, 11, 12, 13, 14, 15, 16, 17, 18, 19, 20, 21, 22, 23, 24, 25, 26, 27, 28, 29, 30, 31, 32, 33, 34, 35, 36, 37, 38, 39, 40, 41, 42, 43, 44, 45, 46, 47, 48, 49, 50, 51, 52, 53, 54, 55, 56, 57, 58, 59, 60, 61, 62, 63, 64, 65, 66, 67, 68, 69, 70, 71, 72, 73, 74, 75, 76, 77, 78, 79, 80, 81, 82, 83, 84, 85, 86, 87, 88, 89, 90, 91, 92, 93, 94, 95, 96, 97, 98, 99], \"y\": [2.3050789463764794, -0.34544828836374125, -1.67491216027255, 1.207318891717801, 1.406343778561469, -1.112345759784398, 0.9446789832334939, -0.38728675731145373, 1.3079689084749777, -1.8069718036199587, 0.18825627165035458, 0.7147828258451806, 0.44192463870483806, -0.49552350971023745, -0.322800551035353, -0.47433961294441596, 0.1690883770206803, 1.2017852529943827, -0.1647321336067996, -2.3955741265632238, -1.4758945487582762, 0.962445834012295, 0.6653252839778693, -0.41880202344092315, 0.04627068636022785, -1.5185646666381192, -1.9938509523173815, -0.02240060509745099, 1.1809831611785004, 1.8801658934707632, 1.0292593510337478, 0.5949117331367149, -1.4514506277441748, -0.42502646313780856, -0.5797899821504993, -0.3581390966891277, -0.11892770450618409, 1.0926209083884437, 0.7050466192122445, 1.2375172874906153, 1.4072020975357857, 0.1575926374578665, 0.09396028076688108, 0.14998003245337374, 1.0006464685965815, 0.33651897865653907, -0.10778939786155453, 1.7762185531905517, 0.2433230426333405, 0.6573414720203437, 1.4987623651774449, 0.49100570061636384, 1.2227945124611799, 2.0356825538745524, 0.8960277472124333, 1.36131627749611, -0.01900927284926094, -1.123782384244974, 1.2024407293884816, 1.7533041101596796, 2.620102735759663, -0.9243960301190819, -0.9071010052827692, 0.7084815208490741, -1.0164586395797204, -0.9726287488168607, -2.0757409191988963, -0.4056514932145701, -0.4481169032862055, 0.2999481669822941, 0.19005409313068863, 0.20944993347497673, 1.8535331783127982, 0.10833367793192912, 0.9909118192752894, -0.18072276264957435, -0.27175596496885357, -0.3472891841078953, -1.3499379537122178, -0.24361265423740075, 0.1823942082455205, -0.11683434885062603, -1.9611819118675928, -0.10124747971168387, -0.749519554450631, -0.17063962763320573, -1.2924000897834025, -1.6363561634291774, 0.31683188489615605, 0.6767344738274852, -1.0561931295586227, -2.0631652991243787, -1.0225199848753768, -1.2074155289643396, -0.8839567228513001, -0.8159284734528616, 0.6274816714657359, 0.9671930475443826, -0.27905397820525646, -0.9770832801408772]}, {\"line\": {\"color\": \"rgba(55, 128, 191, 1.0)\", \"dash\": \"solid\", \"shape\": \"linear\", \"width\": 1.3}, \"mode\": \"lines\", \"name\": \"B\", \"text\": \"\", \"type\": \"scatter\", \"x\": [0, 1, 2, 3, 4, 5, 6, 7, 8, 9, 10, 11, 12, 13, 14, 15, 16, 17, 18, 19, 20, 21, 22, 23, 24, 25, 26, 27, 28, 29, 30, 31, 32, 33, 34, 35, 36, 37, 38, 39, 40, 41, 42, 43, 44, 45, 46, 47, 48, 49, 50, 51, 52, 53, 54, 55, 56, 57, 58, 59, 60, 61, 62, 63, 64, 65, 66, 67, 68, 69, 70, 71, 72, 73, 74, 75, 76, 77, 78, 79, 80, 81, 82, 83, 84, 85, 86, 87, 88, 89, 90, 91, 92, 93, 94, 95, 96, 97, 98, 99], \"y\": [1.4564807911980027, -0.5614415874815344, 0.7690489749287509, 1.0745673115894976, -0.271650350545234, -0.20417947351171928, -1.5365217665036148, 0.5271922043293188, -1.486583190597354, -1.5334484919941673, 0.18382394706883978, 0.1344370782872019, 1.89905090532156, 0.6202785332919339, -0.45664038843023563, 1.963126990847653, 1.9369875383030903, 1.0315771467695134, -0.3453335682768677, 0.419546447142365, -1.225897365627275, -1.0887921399676082, -0.21263698997725416, 0.7718171320935325, 0.44145428919101193, -0.8468114640841646, 0.8526936191566775, -0.969355231696488, 1.5408969327530821, -0.04465803887874416, -1.0342638822781325, 0.6075784794307824, 0.020845455399087748, -0.07959203078638698, -1.2885327382950438, -0.5858261320243598, 0.2784538175232755, 0.4716251609013261, 0.007586918494829923, -1.2311721843538845, 2.263014081539277, -0.9445712149750263, -0.7801126734963407, -0.006307163966420759, 0.19209429370631423, 1.4849821222922432, -0.402824407169826, -0.1535552795197902, -0.45306006334156884, 0.2723494038368278, -0.6969797568377994, 1.3148469312491482, -0.4400678278705646, -0.5226856061207958, -1.2685087511392623, -0.7121002063687039, 0.4922848868566591, 1.4080506928339986, -0.6740640131990668, 0.47859781454993217, 0.10407954693386935, -0.09125617817861699, -1.3627903947738937, -1.280305454707673, 1.0676149669634278, 0.10098596940395344, 0.3087197869344185, 0.3416669711946196, -0.2456850602506728, -0.8054522753423443, -0.3581753964308596, 1.2538718650534761, 1.5812764633116267, -1.2869964689617, 0.5134159053161619, 1.0984181861336495, -0.939853681439602, -0.7874505356156805, -0.5251233813470253, 1.426548881182392, 0.07011129375683395, 0.3043731808315209, 1.3453342775245516, 0.8797891435530668, 0.08819796782327056, 0.7785641262132776, -0.32251783943947593, -1.103603729843237, 1.561003488139711, -0.8993481124743095, 2.527656223510702, -0.035756115285384076, 2.32755828482868, 0.8455828949792558, 1.4395208708887242, -0.13261587328217128, 0.9653423868237719, -1.5985346969508438, -0.9772914721691849, 0.6427378710046866]}, {\"connectgaps\": false, \"fill\": \"tozeroy\", \"line\": {\"color\": \"green\", \"dash\": \"solid\", \"shape\": \"linear\", \"width\": 0.5}, \"mode\": \"lines\", \"name\": \"Spread\", \"showlegend\": false, \"type\": \"scatter\", \"x\": [0, 1, 2, 3, 4, 5, 6, 7, 8, 9, 10, 11, 12, 13, 14, 15, 16, 17, 18, 19, 20, 21, 22, 23, 24, 25, 26, 27, 28, 29, 30, 31, 32, 33, 34, 35, 36, 37, 38, 39, 40, 41, 42, 43, 44, 45, 46, 47, 48, 49, 50, 51, 52, 53, 54, 55, 56, 57, 58, 59, 60, 61, 62, 63, 64, 65, 66, 67, 68, 69, 70, 71, 72, 73, 74, 75, 76, 77, 78, 79, 80, 81, 82, 83, 84, 85, 86, 87, 88, 89, 90, 91, 92, 93, 94, 95, 96, 97, 98, 99], \"xaxis\": \"x2\", \"y\": [0.8485981551784767, 0.21599329911779314, \"\", 0.13275158012830346, 1.677994129106703, \"\", 2.4812007497371087, \"\", 2.794552099072332, \"\", 0.004432324581514796, 0.5803457475579787, \"\", \"\", 0.13383983739488264, \"\", \"\", 0.17020810622486926, 0.18060143467006806, \"\", \"\", 2.0512379739799034, 0.8779622739551234, \"\", \"\", \"\", \"\", 0.946954626599037, \"\", 1.9248239323495073, 2.06352323331188, \"\", \"\", \"\", 0.7087427561445445, 0.22768703533523216, \"\", 0.6209957474871176, 0.6974597007174146, 2.4686894718445, \"\", 1.1021638524328927, 0.8740729542632218, 0.1562871964197945, 0.8085521748902672, \"\", 0.2950350093082714, 1.929773832710342, 0.6963831059749094, 0.38499206818351583, 2.195742122015244, \"\", 1.6628623403317444, 2.5583681599953483, 2.1645364983516955, 2.073416483864814, \"\", \"\", 1.8765047425875485, 1.2747062956097475, 2.516023188825794, \"\", 0.4556893894911246, 1.988786975556747, \"\", \"\", \"\", \"\", \"\", 1.1054004423246384, 0.5482294895615483, \"\", 0.27225671500117143, 1.395330146893629, 0.4774959139591275, \"\", 0.6680977164707484, 0.4401613515077852, \"\", \"\", 0.11228291448868655, \"\", \"\", \"\", \"\", \"\", \"\", \"\", \"\", 1.5760825863017947, \"\", \"\", \"\", \"\", \"\", \"\", \"\", 2.5657277444952262, 0.6982374939639284, \"\"], \"yaxis\": \"y2\"}, {\"connectgaps\": false, \"fill\": \"tozeroy\", \"line\": {\"color\": \"red\", \"dash\": \"solid\", \"shape\": \"linear\", \"width\": 0.5}, \"mode\": \"lines\", \"name\": \"Spread\", \"showlegend\": false, \"type\": \"scatter\", \"x\": [0, 1, 2, 3, 4, 5, 6, 7, 8, 9, 10, 11, 12, 13, 14, 15, 16, 17, 18, 19, 20, 21, 22, 23, 24, 25, 26, 27, 28, 29, 30, 31, 32, 33, 34, 35, 36, 37, 38, 39, 40, 41, 42, 43, 44, 45, 46, 47, 48, 49, 50, 51, 52, 53, 54, 55, 56, 57, 58, 59, 60, 61, 62, 63, 64, 65, 66, 67, 68, 69, 70, 71, 72, 73, 74, 75, 76, 77, 78, 79, 80, 81, 82, 83, 84, 85, 86, 87, 88, 89, 90, 91, 92, 93, 94, 95, 96, 97, 98, 99], \"xaxis\": \"x2\", \"y\": [\"\", \"\", -2.443961135201301, \"\", \"\", -0.9081662862726787, \"\", -0.9144789616407725, \"\", -0.27352331162579135, \"\", \"\", -1.457126266616722, -1.1158020430021713, \"\", -2.437466603792069, -1.76789916128241, \"\", \"\", -2.8151205737055887, -0.24999718313100128, \"\", \"\", -1.1906191555344556, -0.3951836028307841, -0.6717532025539545, -2.846544571474059, \"\", -0.3599137715745817, \"\", \"\", -0.012666746294067499, -1.4722960831432625, -0.34543443235142157, \"\", \"\", -0.39738152202945964, \"\", \"\", \"\", -0.8558119840034915, \"\", \"\", \"\", \"\", -1.1484631436357042, \"\", \"\", \"\", \"\", \"\", -0.8238412306327844, \"\", \"\", \"\", \"\", -0.5112941597059201, -2.5318330770789723, \"\", \"\", \"\", -0.8331398519404649, \"\", \"\", -2.084073606543148, -1.073614718220814, -2.3844607061333147, -0.7473184644091897, -0.20243184303553272, \"\", \"\", -1.0444219315784995, \"\", \"\", \"\", -1.279140948783224, \"\", \"\", -0.8248145723651925, -1.6701615354197927, \"\", -0.4212075296821469, -3.3065161893921444, -0.9810366232647507, -0.8377175222739016, -0.9492037538464834, -0.9698822503439266, -0.5327524335859404, -1.244171603243555, \"\", -3.5838493530693247, -2.0274091838389947, -3.3500782697040568, -2.0529984239435954, -2.3234775937400243, -0.6833126001706903, -0.3378607153580361, \"\", \"\", -1.6198211511455638], \"yaxis\": \"y2\"}],                        {\"hovermode\": \"x\", \"legend\": {\"bgcolor\": \"#F5F6F9\", \"font\": {\"color\": \"#4D5663\"}}, \"paper_bgcolor\": \"#F5F6F9\", \"plot_bgcolor\": \"#F5F6F9\", \"template\": {\"data\": {\"bar\": [{\"error_x\": {\"color\": \"#2a3f5f\"}, \"error_y\": {\"color\": \"#2a3f5f\"}, \"marker\": {\"line\": {\"color\": \"#E5ECF6\", \"width\": 0.5}}, \"type\": \"bar\"}], \"barpolar\": [{\"marker\": {\"line\": {\"color\": \"#E5ECF6\", \"width\": 0.5}}, \"type\": \"barpolar\"}], \"carpet\": [{\"aaxis\": {\"endlinecolor\": \"#2a3f5f\", \"gridcolor\": \"white\", \"linecolor\": \"white\", \"minorgridcolor\": \"white\", \"startlinecolor\": \"#2a3f5f\"}, \"baxis\": {\"endlinecolor\": \"#2a3f5f\", \"gridcolor\": \"white\", \"linecolor\": \"white\", \"minorgridcolor\": \"white\", \"startlinecolor\": \"#2a3f5f\"}, \"type\": \"carpet\"}], \"choropleth\": [{\"colorbar\": {\"outlinewidth\": 0, \"ticks\": \"\"}, \"type\": \"choropleth\"}], \"contour\": [{\"colorbar\": {\"outlinewidth\": 0, \"ticks\": \"\"}, \"colorscale\": [[0.0, \"#0d0887\"], [0.1111111111111111, \"#46039f\"], [0.2222222222222222, \"#7201a8\"], [0.3333333333333333, \"#9c179e\"], [0.4444444444444444, \"#bd3786\"], [0.5555555555555556, \"#d8576b\"], [0.6666666666666666, \"#ed7953\"], [0.7777777777777778, \"#fb9f3a\"], [0.8888888888888888, \"#fdca26\"], [1.0, \"#f0f921\"]], \"type\": \"contour\"}], \"contourcarpet\": [{\"colorbar\": {\"outlinewidth\": 0, \"ticks\": \"\"}, \"type\": \"contourcarpet\"}], \"heatmap\": [{\"colorbar\": {\"outlinewidth\": 0, \"ticks\": \"\"}, \"colorscale\": [[0.0, \"#0d0887\"], [0.1111111111111111, \"#46039f\"], [0.2222222222222222, \"#7201a8\"], [0.3333333333333333, \"#9c179e\"], [0.4444444444444444, \"#bd3786\"], [0.5555555555555556, \"#d8576b\"], [0.6666666666666666, \"#ed7953\"], [0.7777777777777778, \"#fb9f3a\"], [0.8888888888888888, \"#fdca26\"], [1.0, \"#f0f921\"]], \"type\": \"heatmap\"}], \"heatmapgl\": [{\"colorbar\": {\"outlinewidth\": 0, \"ticks\": \"\"}, \"colorscale\": [[0.0, \"#0d0887\"], [0.1111111111111111, \"#46039f\"], [0.2222222222222222, \"#7201a8\"], [0.3333333333333333, \"#9c179e\"], [0.4444444444444444, \"#bd3786\"], [0.5555555555555556, \"#d8576b\"], [0.6666666666666666, \"#ed7953\"], [0.7777777777777778, \"#fb9f3a\"], [0.8888888888888888, \"#fdca26\"], [1.0, \"#f0f921\"]], \"type\": \"heatmapgl\"}], \"histogram\": [{\"marker\": {\"colorbar\": {\"outlinewidth\": 0, \"ticks\": \"\"}}, \"type\": \"histogram\"}], \"histogram2d\": [{\"colorbar\": {\"outlinewidth\": 0, \"ticks\": \"\"}, \"colorscale\": [[0.0, \"#0d0887\"], [0.1111111111111111, \"#46039f\"], [0.2222222222222222, \"#7201a8\"], [0.3333333333333333, \"#9c179e\"], [0.4444444444444444, \"#bd3786\"], [0.5555555555555556, \"#d8576b\"], [0.6666666666666666, \"#ed7953\"], [0.7777777777777778, \"#fb9f3a\"], [0.8888888888888888, \"#fdca26\"], [1.0, \"#f0f921\"]], \"type\": \"histogram2d\"}], \"histogram2dcontour\": [{\"colorbar\": {\"outlinewidth\": 0, \"ticks\": \"\"}, \"colorscale\": [[0.0, \"#0d0887\"], [0.1111111111111111, \"#46039f\"], [0.2222222222222222, \"#7201a8\"], [0.3333333333333333, \"#9c179e\"], [0.4444444444444444, \"#bd3786\"], [0.5555555555555556, \"#d8576b\"], [0.6666666666666666, \"#ed7953\"], [0.7777777777777778, \"#fb9f3a\"], [0.8888888888888888, \"#fdca26\"], [1.0, \"#f0f921\"]], \"type\": \"histogram2dcontour\"}], \"mesh3d\": [{\"colorbar\": {\"outlinewidth\": 0, \"ticks\": \"\"}, \"type\": \"mesh3d\"}], \"parcoords\": [{\"line\": {\"colorbar\": {\"outlinewidth\": 0, \"ticks\": \"\"}}, \"type\": \"parcoords\"}], \"pie\": [{\"automargin\": true, \"type\": \"pie\"}], \"scatter\": [{\"marker\": {\"colorbar\": {\"outlinewidth\": 0, \"ticks\": \"\"}}, \"type\": \"scatter\"}], \"scatter3d\": [{\"line\": {\"colorbar\": {\"outlinewidth\": 0, \"ticks\": \"\"}}, \"marker\": {\"colorbar\": {\"outlinewidth\": 0, \"ticks\": \"\"}}, \"type\": \"scatter3d\"}], \"scattercarpet\": [{\"marker\": {\"colorbar\": {\"outlinewidth\": 0, \"ticks\": \"\"}}, \"type\": \"scattercarpet\"}], \"scattergeo\": [{\"marker\": {\"colorbar\": {\"outlinewidth\": 0, \"ticks\": \"\"}}, \"type\": \"scattergeo\"}], \"scattergl\": [{\"marker\": {\"colorbar\": {\"outlinewidth\": 0, \"ticks\": \"\"}}, \"type\": \"scattergl\"}], \"scattermapbox\": [{\"marker\": {\"colorbar\": {\"outlinewidth\": 0, \"ticks\": \"\"}}, \"type\": \"scattermapbox\"}], \"scatterpolar\": [{\"marker\": {\"colorbar\": {\"outlinewidth\": 0, \"ticks\": \"\"}}, \"type\": \"scatterpolar\"}], \"scatterpolargl\": [{\"marker\": {\"colorbar\": {\"outlinewidth\": 0, \"ticks\": \"\"}}, \"type\": \"scatterpolargl\"}], \"scatterternary\": [{\"marker\": {\"colorbar\": {\"outlinewidth\": 0, \"ticks\": \"\"}}, \"type\": \"scatterternary\"}], \"surface\": [{\"colorbar\": {\"outlinewidth\": 0, \"ticks\": \"\"}, \"colorscale\": [[0.0, \"#0d0887\"], [0.1111111111111111, \"#46039f\"], [0.2222222222222222, \"#7201a8\"], [0.3333333333333333, \"#9c179e\"], [0.4444444444444444, \"#bd3786\"], [0.5555555555555556, \"#d8576b\"], [0.6666666666666666, \"#ed7953\"], [0.7777777777777778, \"#fb9f3a\"], [0.8888888888888888, \"#fdca26\"], [1.0, \"#f0f921\"]], \"type\": \"surface\"}], \"table\": [{\"cells\": {\"fill\": {\"color\": \"#EBF0F8\"}, \"line\": {\"color\": \"white\"}}, \"header\": {\"fill\": {\"color\": \"#C8D4E3\"}, \"line\": {\"color\": \"white\"}}, \"type\": \"table\"}]}, \"layout\": {\"annotationdefaults\": {\"arrowcolor\": \"#2a3f5f\", \"arrowhead\": 0, \"arrowwidth\": 1}, \"coloraxis\": {\"colorbar\": {\"outlinewidth\": 0, \"ticks\": \"\"}}, \"colorscale\": {\"diverging\": [[0, \"#8e0152\"], [0.1, \"#c51b7d\"], [0.2, \"#de77ae\"], [0.3, \"#f1b6da\"], [0.4, \"#fde0ef\"], [0.5, \"#f7f7f7\"], [0.6, \"#e6f5d0\"], [0.7, \"#b8e186\"], [0.8, \"#7fbc41\"], [0.9, \"#4d9221\"], [1, \"#276419\"]], \"sequential\": [[0.0, \"#0d0887\"], [0.1111111111111111, \"#46039f\"], [0.2222222222222222, \"#7201a8\"], [0.3333333333333333, \"#9c179e\"], [0.4444444444444444, \"#bd3786\"], [0.5555555555555556, \"#d8576b\"], [0.6666666666666666, \"#ed7953\"], [0.7777777777777778, \"#fb9f3a\"], [0.8888888888888888, \"#fdca26\"], [1.0, \"#f0f921\"]], \"sequentialminus\": [[0.0, \"#0d0887\"], [0.1111111111111111, \"#46039f\"], [0.2222222222222222, \"#7201a8\"], [0.3333333333333333, \"#9c179e\"], [0.4444444444444444, \"#bd3786\"], [0.5555555555555556, \"#d8576b\"], [0.6666666666666666, \"#ed7953\"], [0.7777777777777778, \"#fb9f3a\"], [0.8888888888888888, \"#fdca26\"], [1.0, \"#f0f921\"]]}, \"colorway\": [\"#636efa\", \"#EF553B\", \"#00cc96\", \"#ab63fa\", \"#FFA15A\", \"#19d3f3\", \"#FF6692\", \"#B6E880\", \"#FF97FF\", \"#FECB52\"], \"font\": {\"color\": \"#2a3f5f\"}, \"geo\": {\"bgcolor\": \"white\", \"lakecolor\": \"white\", \"landcolor\": \"#E5ECF6\", \"showlakes\": true, \"showland\": true, \"subunitcolor\": \"white\"}, \"hoverlabel\": {\"align\": \"left\"}, \"hovermode\": \"closest\", \"mapbox\": {\"style\": \"light\"}, \"paper_bgcolor\": \"white\", \"plot_bgcolor\": \"#E5ECF6\", \"polar\": {\"angularaxis\": {\"gridcolor\": \"white\", \"linecolor\": \"white\", \"ticks\": \"\"}, \"bgcolor\": \"#E5ECF6\", \"radialaxis\": {\"gridcolor\": \"white\", \"linecolor\": \"white\", \"ticks\": \"\"}}, \"scene\": {\"xaxis\": {\"backgroundcolor\": \"#E5ECF6\", \"gridcolor\": \"white\", \"gridwidth\": 2, \"linecolor\": \"white\", \"showbackground\": true, \"ticks\": \"\", \"zerolinecolor\": \"white\"}, \"yaxis\": {\"backgroundcolor\": \"#E5ECF6\", \"gridcolor\": \"white\", \"gridwidth\": 2, \"linecolor\": \"white\", \"showbackground\": true, \"ticks\": \"\", \"zerolinecolor\": \"white\"}, \"zaxis\": {\"backgroundcolor\": \"#E5ECF6\", \"gridcolor\": \"white\", \"gridwidth\": 2, \"linecolor\": \"white\", \"showbackground\": true, \"ticks\": \"\", \"zerolinecolor\": \"white\"}}, \"shapedefaults\": {\"line\": {\"color\": \"#2a3f5f\"}}, \"ternary\": {\"aaxis\": {\"gridcolor\": \"white\", \"linecolor\": \"white\", \"ticks\": \"\"}, \"baxis\": {\"gridcolor\": \"white\", \"linecolor\": \"white\", \"ticks\": \"\"}, \"bgcolor\": \"#E5ECF6\", \"caxis\": {\"gridcolor\": \"white\", \"linecolor\": \"white\", \"ticks\": \"\"}}, \"title\": {\"x\": 0.05}, \"xaxis\": {\"automargin\": true, \"gridcolor\": \"white\", \"linecolor\": \"white\", \"ticks\": \"\", \"title\": {\"standoff\": 15}, \"zerolinecolor\": \"white\", \"zerolinewidth\": 2}, \"yaxis\": {\"automargin\": true, \"gridcolor\": \"white\", \"linecolor\": \"white\", \"ticks\": \"\", \"title\": {\"standoff\": 15}, \"zerolinecolor\": \"white\", \"zerolinewidth\": 2}}}, \"title\": {\"font\": {\"color\": \"#4D5663\"}}, \"xaxis\": {\"gridcolor\": \"#E1E5ED\", \"showgrid\": true, \"tickfont\": {\"color\": \"#4D5663\"}, \"title\": {\"font\": {\"color\": \"#4D5663\"}, \"text\": \"\"}, \"zerolinecolor\": \"#E1E5ED\"}, \"xaxis2\": {\"anchor\": \"y2\", \"gridcolor\": \"#E1E5ED\", \"showgrid\": true, \"showticklabels\": false, \"tickfont\": {\"color\": \"#4D5663\"}, \"title\": {\"font\": {\"color\": \"#4D5663\"}, \"text\": \"\"}, \"zerolinecolor\": \"#E1E5ED\"}, \"yaxis\": {\"domain\": [0.3, 1], \"gridcolor\": \"#E1E5ED\", \"showgrid\": true, \"tickfont\": {\"color\": \"#4D5663\"}, \"title\": {\"font\": {\"color\": \"#4D5663\"}, \"text\": \"\"}, \"zerolinecolor\": \"#E1E5ED\"}, \"yaxis2\": {\"domain\": [0, 0.25], \"gridcolor\": \"#E1E5ED\", \"showgrid\": true, \"tickfont\": {\"color\": \"#4D5663\"}, \"title\": {\"font\": {\"color\": \"#4D5663\"}, \"text\": \"Spread\"}, \"zerolinecolor\": \"#E1E5ED\"}},                        {\"showLink\": true, \"linkText\": \"Export to plot.ly\", \"plotlyServerURL\": \"https://plot.ly\", \"responsive\": true}                    ).then(function(){\n",
       "                            \n",
       "var gd = document.getElementById('7c31997e-c8ea-4f5c-9ff4-795606d15491');\n",
       "var x = new MutationObserver(function (mutations, observer) {{\n",
       "        var display = window.getComputedStyle(gd).display;\n",
       "        if (!display || display === 'none') {{\n",
       "            console.log([gd, 'removed!']);\n",
       "            Plotly.purge(gd);\n",
       "            observer.disconnect();\n",
       "        }}\n",
       "}});\n",
       "\n",
       "// Listen for the removal of the full notebook cells\n",
       "var notebookContainer = gd.closest('#notebook-container');\n",
       "if (notebookContainer) {{\n",
       "    x.observe(notebookContainer, {childList: true});\n",
       "}}\n",
       "\n",
       "// Listen for the clearing of the current output cell\n",
       "var outputEl = gd.closest('.output');\n",
       "if (outputEl) {{\n",
       "    x.observe(outputEl, {childList: true});\n",
       "}}\n",
       "\n",
       "                        })                };                });            </script>        </div>"
      ]
     },
     "metadata": {},
     "output_type": "display_data"
    }
   ],
   "source": [
    "df[['A','B']].iplot(kind='spread')"
   ]
  },
  {
   "cell_type": "markdown",
   "metadata": {
    "id": "C-MVM5HTbxwN"
   },
   "source": [
    "## histogram"
   ]
  },
  {
   "cell_type": "code",
   "execution_count": 38,
   "metadata": {
    "colab": {
     "base_uri": "https://localhost:8080/",
     "height": 542
    },
    "id": "Az_SBJcDbxwO",
    "outputId": "54fd16e3-537f-4252-92db-955488838981"
   },
   "outputs": [
    {
     "data": {
      "application/vnd.plotly.v1+json": {
       "config": {
        "linkText": "Export to plot.ly",
        "plotlyServerURL": "https://plot.ly",
        "showLink": true
       },
       "data": [
        {
         "histfunc": "count",
         "histnorm": "",
         "marker": {
          "color": "rgba(255, 153, 51, 1.0)",
          "line": {
           "color": "#4D5663",
           "width": 1.3
          }
         },
         "name": "A",
         "nbinsx": 25,
         "opacity": 0.8,
         "orientation": "v",
         "type": "histogram",
         "x": [
          2.3050789463764794,
          -0.34544828836374125,
          -1.67491216027255,
          1.207318891717801,
          1.406343778561469,
          -1.112345759784398,
          0.9446789832334939,
          -0.38728675731145373,
          1.3079689084749777,
          -1.8069718036199587,
          0.18825627165035458,
          0.7147828258451806,
          0.44192463870483806,
          -0.49552350971023745,
          -0.322800551035353,
          -0.47433961294441596,
          0.1690883770206803,
          1.2017852529943827,
          -0.1647321336067996,
          -2.3955741265632238,
          -1.4758945487582762,
          0.962445834012295,
          0.6653252839778693,
          -0.41880202344092315,
          0.04627068636022785,
          -1.5185646666381192,
          -1.9938509523173815,
          -0.02240060509745099,
          1.1809831611785004,
          1.8801658934707632,
          1.0292593510337478,
          0.5949117331367149,
          -1.4514506277441748,
          -0.42502646313780856,
          -0.5797899821504993,
          -0.3581390966891277,
          -0.11892770450618409,
          1.0926209083884437,
          0.7050466192122445,
          1.2375172874906153,
          1.4072020975357857,
          0.1575926374578665,
          0.09396028076688108,
          0.14998003245337374,
          1.0006464685965815,
          0.33651897865653907,
          -0.10778939786155453,
          1.7762185531905517,
          0.2433230426333405,
          0.6573414720203437,
          1.4987623651774449,
          0.49100570061636384,
          1.2227945124611799,
          2.0356825538745524,
          0.8960277472124333,
          1.36131627749611,
          -0.01900927284926094,
          -1.123782384244974,
          1.2024407293884816,
          1.7533041101596796,
          2.620102735759663,
          -0.9243960301190819,
          -0.9071010052827692,
          0.7084815208490741,
          -1.0164586395797204,
          -0.9726287488168607,
          -2.0757409191988963,
          -0.4056514932145701,
          -0.4481169032862055,
          0.2999481669822941,
          0.19005409313068863,
          0.20944993347497673,
          1.8535331783127982,
          0.10833367793192912,
          0.9909118192752894,
          -0.18072276264957435,
          -0.27175596496885357,
          -0.3472891841078953,
          -1.3499379537122178,
          -0.24361265423740075,
          0.1823942082455205,
          -0.11683434885062603,
          -1.9611819118675928,
          -0.10124747971168387,
          -0.749519554450631,
          -0.17063962763320573,
          -1.2924000897834025,
          -1.6363561634291774,
          0.31683188489615605,
          0.6767344738274852,
          -1.0561931295586227,
          -2.0631652991243787,
          -1.0225199848753768,
          -1.2074155289643396,
          -0.8839567228513001,
          -0.8159284734528616,
          0.6274816714657359,
          0.9671930475443826,
          -0.27905397820525646,
          -0.9770832801408772
         ]
        }
       ],
       "layout": {
        "barmode": "overlay",
        "legend": {
         "bgcolor": "#F5F6F9",
         "font": {
          "color": "#4D5663"
         }
        },
        "paper_bgcolor": "#F5F6F9",
        "plot_bgcolor": "#F5F6F9",
        "template": {
         "data": {
          "bar": [
           {
            "error_x": {
             "color": "#2a3f5f"
            },
            "error_y": {
             "color": "#2a3f5f"
            },
            "marker": {
             "line": {
              "color": "#E5ECF6",
              "width": 0.5
             }
            },
            "type": "bar"
           }
          ],
          "barpolar": [
           {
            "marker": {
             "line": {
              "color": "#E5ECF6",
              "width": 0.5
             }
            },
            "type": "barpolar"
           }
          ],
          "carpet": [
           {
            "aaxis": {
             "endlinecolor": "#2a3f5f",
             "gridcolor": "white",
             "linecolor": "white",
             "minorgridcolor": "white",
             "startlinecolor": "#2a3f5f"
            },
            "baxis": {
             "endlinecolor": "#2a3f5f",
             "gridcolor": "white",
             "linecolor": "white",
             "minorgridcolor": "white",
             "startlinecolor": "#2a3f5f"
            },
            "type": "carpet"
           }
          ],
          "choropleth": [
           {
            "colorbar": {
             "outlinewidth": 0,
             "ticks": ""
            },
            "type": "choropleth"
           }
          ],
          "contour": [
           {
            "colorbar": {
             "outlinewidth": 0,
             "ticks": ""
            },
            "colorscale": [
             [
              0,
              "#0d0887"
             ],
             [
              0.1111111111111111,
              "#46039f"
             ],
             [
              0.2222222222222222,
              "#7201a8"
             ],
             [
              0.3333333333333333,
              "#9c179e"
             ],
             [
              0.4444444444444444,
              "#bd3786"
             ],
             [
              0.5555555555555556,
              "#d8576b"
             ],
             [
              0.6666666666666666,
              "#ed7953"
             ],
             [
              0.7777777777777778,
              "#fb9f3a"
             ],
             [
              0.8888888888888888,
              "#fdca26"
             ],
             [
              1,
              "#f0f921"
             ]
            ],
            "type": "contour"
           }
          ],
          "contourcarpet": [
           {
            "colorbar": {
             "outlinewidth": 0,
             "ticks": ""
            },
            "type": "contourcarpet"
           }
          ],
          "heatmap": [
           {
            "colorbar": {
             "outlinewidth": 0,
             "ticks": ""
            },
            "colorscale": [
             [
              0,
              "#0d0887"
             ],
             [
              0.1111111111111111,
              "#46039f"
             ],
             [
              0.2222222222222222,
              "#7201a8"
             ],
             [
              0.3333333333333333,
              "#9c179e"
             ],
             [
              0.4444444444444444,
              "#bd3786"
             ],
             [
              0.5555555555555556,
              "#d8576b"
             ],
             [
              0.6666666666666666,
              "#ed7953"
             ],
             [
              0.7777777777777778,
              "#fb9f3a"
             ],
             [
              0.8888888888888888,
              "#fdca26"
             ],
             [
              1,
              "#f0f921"
             ]
            ],
            "type": "heatmap"
           }
          ],
          "heatmapgl": [
           {
            "colorbar": {
             "outlinewidth": 0,
             "ticks": ""
            },
            "colorscale": [
             [
              0,
              "#0d0887"
             ],
             [
              0.1111111111111111,
              "#46039f"
             ],
             [
              0.2222222222222222,
              "#7201a8"
             ],
             [
              0.3333333333333333,
              "#9c179e"
             ],
             [
              0.4444444444444444,
              "#bd3786"
             ],
             [
              0.5555555555555556,
              "#d8576b"
             ],
             [
              0.6666666666666666,
              "#ed7953"
             ],
             [
              0.7777777777777778,
              "#fb9f3a"
             ],
             [
              0.8888888888888888,
              "#fdca26"
             ],
             [
              1,
              "#f0f921"
             ]
            ],
            "type": "heatmapgl"
           }
          ],
          "histogram": [
           {
            "marker": {
             "colorbar": {
              "outlinewidth": 0,
              "ticks": ""
             }
            },
            "type": "histogram"
           }
          ],
          "histogram2d": [
           {
            "colorbar": {
             "outlinewidth": 0,
             "ticks": ""
            },
            "colorscale": [
             [
              0,
              "#0d0887"
             ],
             [
              0.1111111111111111,
              "#46039f"
             ],
             [
              0.2222222222222222,
              "#7201a8"
             ],
             [
              0.3333333333333333,
              "#9c179e"
             ],
             [
              0.4444444444444444,
              "#bd3786"
             ],
             [
              0.5555555555555556,
              "#d8576b"
             ],
             [
              0.6666666666666666,
              "#ed7953"
             ],
             [
              0.7777777777777778,
              "#fb9f3a"
             ],
             [
              0.8888888888888888,
              "#fdca26"
             ],
             [
              1,
              "#f0f921"
             ]
            ],
            "type": "histogram2d"
           }
          ],
          "histogram2dcontour": [
           {
            "colorbar": {
             "outlinewidth": 0,
             "ticks": ""
            },
            "colorscale": [
             [
              0,
              "#0d0887"
             ],
             [
              0.1111111111111111,
              "#46039f"
             ],
             [
              0.2222222222222222,
              "#7201a8"
             ],
             [
              0.3333333333333333,
              "#9c179e"
             ],
             [
              0.4444444444444444,
              "#bd3786"
             ],
             [
              0.5555555555555556,
              "#d8576b"
             ],
             [
              0.6666666666666666,
              "#ed7953"
             ],
             [
              0.7777777777777778,
              "#fb9f3a"
             ],
             [
              0.8888888888888888,
              "#fdca26"
             ],
             [
              1,
              "#f0f921"
             ]
            ],
            "type": "histogram2dcontour"
           }
          ],
          "mesh3d": [
           {
            "colorbar": {
             "outlinewidth": 0,
             "ticks": ""
            },
            "type": "mesh3d"
           }
          ],
          "parcoords": [
           {
            "line": {
             "colorbar": {
              "outlinewidth": 0,
              "ticks": ""
             }
            },
            "type": "parcoords"
           }
          ],
          "pie": [
           {
            "automargin": true,
            "type": "pie"
           }
          ],
          "scatter": [
           {
            "marker": {
             "colorbar": {
              "outlinewidth": 0,
              "ticks": ""
             }
            },
            "type": "scatter"
           }
          ],
          "scatter3d": [
           {
            "line": {
             "colorbar": {
              "outlinewidth": 0,
              "ticks": ""
             }
            },
            "marker": {
             "colorbar": {
              "outlinewidth": 0,
              "ticks": ""
             }
            },
            "type": "scatter3d"
           }
          ],
          "scattercarpet": [
           {
            "marker": {
             "colorbar": {
              "outlinewidth": 0,
              "ticks": ""
             }
            },
            "type": "scattercarpet"
           }
          ],
          "scattergeo": [
           {
            "marker": {
             "colorbar": {
              "outlinewidth": 0,
              "ticks": ""
             }
            },
            "type": "scattergeo"
           }
          ],
          "scattergl": [
           {
            "marker": {
             "colorbar": {
              "outlinewidth": 0,
              "ticks": ""
             }
            },
            "type": "scattergl"
           }
          ],
          "scattermapbox": [
           {
            "marker": {
             "colorbar": {
              "outlinewidth": 0,
              "ticks": ""
             }
            },
            "type": "scattermapbox"
           }
          ],
          "scatterpolar": [
           {
            "marker": {
             "colorbar": {
              "outlinewidth": 0,
              "ticks": ""
             }
            },
            "type": "scatterpolar"
           }
          ],
          "scatterpolargl": [
           {
            "marker": {
             "colorbar": {
              "outlinewidth": 0,
              "ticks": ""
             }
            },
            "type": "scatterpolargl"
           }
          ],
          "scatterternary": [
           {
            "marker": {
             "colorbar": {
              "outlinewidth": 0,
              "ticks": ""
             }
            },
            "type": "scatterternary"
           }
          ],
          "surface": [
           {
            "colorbar": {
             "outlinewidth": 0,
             "ticks": ""
            },
            "colorscale": [
             [
              0,
              "#0d0887"
             ],
             [
              0.1111111111111111,
              "#46039f"
             ],
             [
              0.2222222222222222,
              "#7201a8"
             ],
             [
              0.3333333333333333,
              "#9c179e"
             ],
             [
              0.4444444444444444,
              "#bd3786"
             ],
             [
              0.5555555555555556,
              "#d8576b"
             ],
             [
              0.6666666666666666,
              "#ed7953"
             ],
             [
              0.7777777777777778,
              "#fb9f3a"
             ],
             [
              0.8888888888888888,
              "#fdca26"
             ],
             [
              1,
              "#f0f921"
             ]
            ],
            "type": "surface"
           }
          ],
          "table": [
           {
            "cells": {
             "fill": {
              "color": "#EBF0F8"
             },
             "line": {
              "color": "white"
             }
            },
            "header": {
             "fill": {
              "color": "#C8D4E3"
             },
             "line": {
              "color": "white"
             }
            },
            "type": "table"
           }
          ]
         },
         "layout": {
          "annotationdefaults": {
           "arrowcolor": "#2a3f5f",
           "arrowhead": 0,
           "arrowwidth": 1
          },
          "coloraxis": {
           "colorbar": {
            "outlinewidth": 0,
            "ticks": ""
           }
          },
          "colorscale": {
           "diverging": [
            [
             0,
             "#8e0152"
            ],
            [
             0.1,
             "#c51b7d"
            ],
            [
             0.2,
             "#de77ae"
            ],
            [
             0.3,
             "#f1b6da"
            ],
            [
             0.4,
             "#fde0ef"
            ],
            [
             0.5,
             "#f7f7f7"
            ],
            [
             0.6,
             "#e6f5d0"
            ],
            [
             0.7,
             "#b8e186"
            ],
            [
             0.8,
             "#7fbc41"
            ],
            [
             0.9,
             "#4d9221"
            ],
            [
             1,
             "#276419"
            ]
           ],
           "sequential": [
            [
             0,
             "#0d0887"
            ],
            [
             0.1111111111111111,
             "#46039f"
            ],
            [
             0.2222222222222222,
             "#7201a8"
            ],
            [
             0.3333333333333333,
             "#9c179e"
            ],
            [
             0.4444444444444444,
             "#bd3786"
            ],
            [
             0.5555555555555556,
             "#d8576b"
            ],
            [
             0.6666666666666666,
             "#ed7953"
            ],
            [
             0.7777777777777778,
             "#fb9f3a"
            ],
            [
             0.8888888888888888,
             "#fdca26"
            ],
            [
             1,
             "#f0f921"
            ]
           ],
           "sequentialminus": [
            [
             0,
             "#0d0887"
            ],
            [
             0.1111111111111111,
             "#46039f"
            ],
            [
             0.2222222222222222,
             "#7201a8"
            ],
            [
             0.3333333333333333,
             "#9c179e"
            ],
            [
             0.4444444444444444,
             "#bd3786"
            ],
            [
             0.5555555555555556,
             "#d8576b"
            ],
            [
             0.6666666666666666,
             "#ed7953"
            ],
            [
             0.7777777777777778,
             "#fb9f3a"
            ],
            [
             0.8888888888888888,
             "#fdca26"
            ],
            [
             1,
             "#f0f921"
            ]
           ]
          },
          "colorway": [
           "#636efa",
           "#EF553B",
           "#00cc96",
           "#ab63fa",
           "#FFA15A",
           "#19d3f3",
           "#FF6692",
           "#B6E880",
           "#FF97FF",
           "#FECB52"
          ],
          "font": {
           "color": "#2a3f5f"
          },
          "geo": {
           "bgcolor": "white",
           "lakecolor": "white",
           "landcolor": "#E5ECF6",
           "showlakes": true,
           "showland": true,
           "subunitcolor": "white"
          },
          "hoverlabel": {
           "align": "left"
          },
          "hovermode": "closest",
          "mapbox": {
           "style": "light"
          },
          "paper_bgcolor": "white",
          "plot_bgcolor": "#E5ECF6",
          "polar": {
           "angularaxis": {
            "gridcolor": "white",
            "linecolor": "white",
            "ticks": ""
           },
           "bgcolor": "#E5ECF6",
           "radialaxis": {
            "gridcolor": "white",
            "linecolor": "white",
            "ticks": ""
           }
          },
          "scene": {
           "xaxis": {
            "backgroundcolor": "#E5ECF6",
            "gridcolor": "white",
            "gridwidth": 2,
            "linecolor": "white",
            "showbackground": true,
            "ticks": "",
            "zerolinecolor": "white"
           },
           "yaxis": {
            "backgroundcolor": "#E5ECF6",
            "gridcolor": "white",
            "gridwidth": 2,
            "linecolor": "white",
            "showbackground": true,
            "ticks": "",
            "zerolinecolor": "white"
           },
           "zaxis": {
            "backgroundcolor": "#E5ECF6",
            "gridcolor": "white",
            "gridwidth": 2,
            "linecolor": "white",
            "showbackground": true,
            "ticks": "",
            "zerolinecolor": "white"
           }
          },
          "shapedefaults": {
           "line": {
            "color": "#2a3f5f"
           }
          },
          "ternary": {
           "aaxis": {
            "gridcolor": "white",
            "linecolor": "white",
            "ticks": ""
           },
           "baxis": {
            "gridcolor": "white",
            "linecolor": "white",
            "ticks": ""
           },
           "bgcolor": "#E5ECF6",
           "caxis": {
            "gridcolor": "white",
            "linecolor": "white",
            "ticks": ""
           }
          },
          "title": {
           "x": 0.05
          },
          "xaxis": {
           "automargin": true,
           "gridcolor": "white",
           "linecolor": "white",
           "ticks": "",
           "title": {
            "standoff": 15
           },
           "zerolinecolor": "white",
           "zerolinewidth": 2
          },
          "yaxis": {
           "automargin": true,
           "gridcolor": "white",
           "linecolor": "white",
           "ticks": "",
           "title": {
            "standoff": 15
           },
           "zerolinecolor": "white",
           "zerolinewidth": 2
          }
         }
        },
        "title": {
         "font": {
          "color": "#4D5663"
         }
        },
        "xaxis": {
         "gridcolor": "#E1E5ED",
         "showgrid": true,
         "tickfont": {
          "color": "#4D5663"
         },
         "title": {
          "font": {
           "color": "#4D5663"
          },
          "text": ""
         },
         "zerolinecolor": "#E1E5ED"
        },
        "yaxis": {
         "gridcolor": "#E1E5ED",
         "showgrid": true,
         "tickfont": {
          "color": "#4D5663"
         },
         "title": {
          "font": {
           "color": "#4D5663"
          },
          "text": ""
         },
         "zerolinecolor": "#E1E5ED"
        }
       }
      },
      "text/html": [
       "<div>                            <div id=\"a32e91d4-e11e-4c20-92a7-6f6cb7fc35f9\" class=\"plotly-graph-div\" style=\"height:525px; width:100%;\"></div>            <script type=\"text/javascript\">                require([\"plotly\"], function(Plotly) {                    window.PLOTLYENV=window.PLOTLYENV || {};\n",
       "                    window.PLOTLYENV.BASE_URL='https://plot.ly';                                    if (document.getElementById(\"a32e91d4-e11e-4c20-92a7-6f6cb7fc35f9\")) {                    Plotly.newPlot(                        \"a32e91d4-e11e-4c20-92a7-6f6cb7fc35f9\",                        [{\"histfunc\": \"count\", \"histnorm\": \"\", \"marker\": {\"color\": \"rgba(255, 153, 51, 1.0)\", \"line\": {\"color\": \"#4D5663\", \"width\": 1.3}}, \"name\": \"A\", \"nbinsx\": 25, \"opacity\": 0.8, \"orientation\": \"v\", \"type\": \"histogram\", \"x\": [2.3050789463764794, -0.34544828836374125, -1.67491216027255, 1.207318891717801, 1.406343778561469, -1.112345759784398, 0.9446789832334939, -0.38728675731145373, 1.3079689084749777, -1.8069718036199587, 0.18825627165035458, 0.7147828258451806, 0.44192463870483806, -0.49552350971023745, -0.322800551035353, -0.47433961294441596, 0.1690883770206803, 1.2017852529943827, -0.1647321336067996, -2.3955741265632238, -1.4758945487582762, 0.962445834012295, 0.6653252839778693, -0.41880202344092315, 0.04627068636022785, -1.5185646666381192, -1.9938509523173815, -0.02240060509745099, 1.1809831611785004, 1.8801658934707632, 1.0292593510337478, 0.5949117331367149, -1.4514506277441748, -0.42502646313780856, -0.5797899821504993, -0.3581390966891277, -0.11892770450618409, 1.0926209083884437, 0.7050466192122445, 1.2375172874906153, 1.4072020975357857, 0.1575926374578665, 0.09396028076688108, 0.14998003245337374, 1.0006464685965815, 0.33651897865653907, -0.10778939786155453, 1.7762185531905517, 0.2433230426333405, 0.6573414720203437, 1.4987623651774449, 0.49100570061636384, 1.2227945124611799, 2.0356825538745524, 0.8960277472124333, 1.36131627749611, -0.01900927284926094, -1.123782384244974, 1.2024407293884816, 1.7533041101596796, 2.620102735759663, -0.9243960301190819, -0.9071010052827692, 0.7084815208490741, -1.0164586395797204, -0.9726287488168607, -2.0757409191988963, -0.4056514932145701, -0.4481169032862055, 0.2999481669822941, 0.19005409313068863, 0.20944993347497673, 1.8535331783127982, 0.10833367793192912, 0.9909118192752894, -0.18072276264957435, -0.27175596496885357, -0.3472891841078953, -1.3499379537122178, -0.24361265423740075, 0.1823942082455205, -0.11683434885062603, -1.9611819118675928, -0.10124747971168387, -0.749519554450631, -0.17063962763320573, -1.2924000897834025, -1.6363561634291774, 0.31683188489615605, 0.6767344738274852, -1.0561931295586227, -2.0631652991243787, -1.0225199848753768, -1.2074155289643396, -0.8839567228513001, -0.8159284734528616, 0.6274816714657359, 0.9671930475443826, -0.27905397820525646, -0.9770832801408772]}],                        {\"barmode\": \"overlay\", \"legend\": {\"bgcolor\": \"#F5F6F9\", \"font\": {\"color\": \"#4D5663\"}}, \"paper_bgcolor\": \"#F5F6F9\", \"plot_bgcolor\": \"#F5F6F9\", \"template\": {\"data\": {\"bar\": [{\"error_x\": {\"color\": \"#2a3f5f\"}, \"error_y\": {\"color\": \"#2a3f5f\"}, \"marker\": {\"line\": {\"color\": \"#E5ECF6\", \"width\": 0.5}}, \"type\": \"bar\"}], \"barpolar\": [{\"marker\": {\"line\": {\"color\": \"#E5ECF6\", \"width\": 0.5}}, \"type\": \"barpolar\"}], \"carpet\": [{\"aaxis\": {\"endlinecolor\": \"#2a3f5f\", \"gridcolor\": \"white\", \"linecolor\": \"white\", \"minorgridcolor\": \"white\", \"startlinecolor\": \"#2a3f5f\"}, \"baxis\": {\"endlinecolor\": \"#2a3f5f\", \"gridcolor\": \"white\", \"linecolor\": \"white\", \"minorgridcolor\": \"white\", \"startlinecolor\": \"#2a3f5f\"}, \"type\": \"carpet\"}], \"choropleth\": [{\"colorbar\": {\"outlinewidth\": 0, \"ticks\": \"\"}, \"type\": \"choropleth\"}], \"contour\": [{\"colorbar\": {\"outlinewidth\": 0, \"ticks\": \"\"}, \"colorscale\": [[0.0, \"#0d0887\"], [0.1111111111111111, \"#46039f\"], [0.2222222222222222, \"#7201a8\"], [0.3333333333333333, \"#9c179e\"], [0.4444444444444444, \"#bd3786\"], [0.5555555555555556, \"#d8576b\"], [0.6666666666666666, \"#ed7953\"], [0.7777777777777778, \"#fb9f3a\"], [0.8888888888888888, \"#fdca26\"], [1.0, \"#f0f921\"]], \"type\": \"contour\"}], \"contourcarpet\": [{\"colorbar\": {\"outlinewidth\": 0, \"ticks\": \"\"}, \"type\": \"contourcarpet\"}], \"heatmap\": [{\"colorbar\": {\"outlinewidth\": 0, \"ticks\": \"\"}, \"colorscale\": [[0.0, \"#0d0887\"], [0.1111111111111111, \"#46039f\"], [0.2222222222222222, \"#7201a8\"], [0.3333333333333333, \"#9c179e\"], [0.4444444444444444, \"#bd3786\"], [0.5555555555555556, \"#d8576b\"], [0.6666666666666666, \"#ed7953\"], [0.7777777777777778, \"#fb9f3a\"], [0.8888888888888888, \"#fdca26\"], [1.0, \"#f0f921\"]], \"type\": \"heatmap\"}], \"heatmapgl\": [{\"colorbar\": {\"outlinewidth\": 0, \"ticks\": \"\"}, \"colorscale\": [[0.0, \"#0d0887\"], [0.1111111111111111, \"#46039f\"], [0.2222222222222222, \"#7201a8\"], [0.3333333333333333, \"#9c179e\"], [0.4444444444444444, \"#bd3786\"], [0.5555555555555556, \"#d8576b\"], [0.6666666666666666, \"#ed7953\"], [0.7777777777777778, \"#fb9f3a\"], [0.8888888888888888, \"#fdca26\"], [1.0, \"#f0f921\"]], \"type\": \"heatmapgl\"}], \"histogram\": [{\"marker\": {\"colorbar\": {\"outlinewidth\": 0, \"ticks\": \"\"}}, \"type\": \"histogram\"}], \"histogram2d\": [{\"colorbar\": {\"outlinewidth\": 0, \"ticks\": \"\"}, \"colorscale\": [[0.0, \"#0d0887\"], [0.1111111111111111, \"#46039f\"], [0.2222222222222222, \"#7201a8\"], [0.3333333333333333, \"#9c179e\"], [0.4444444444444444, \"#bd3786\"], [0.5555555555555556, \"#d8576b\"], [0.6666666666666666, \"#ed7953\"], [0.7777777777777778, \"#fb9f3a\"], [0.8888888888888888, \"#fdca26\"], [1.0, \"#f0f921\"]], \"type\": \"histogram2d\"}], \"histogram2dcontour\": [{\"colorbar\": {\"outlinewidth\": 0, \"ticks\": \"\"}, \"colorscale\": [[0.0, \"#0d0887\"], [0.1111111111111111, \"#46039f\"], [0.2222222222222222, \"#7201a8\"], [0.3333333333333333, \"#9c179e\"], [0.4444444444444444, \"#bd3786\"], [0.5555555555555556, \"#d8576b\"], [0.6666666666666666, \"#ed7953\"], [0.7777777777777778, \"#fb9f3a\"], [0.8888888888888888, \"#fdca26\"], [1.0, \"#f0f921\"]], \"type\": \"histogram2dcontour\"}], \"mesh3d\": [{\"colorbar\": {\"outlinewidth\": 0, \"ticks\": \"\"}, \"type\": \"mesh3d\"}], \"parcoords\": [{\"line\": {\"colorbar\": {\"outlinewidth\": 0, \"ticks\": \"\"}}, \"type\": \"parcoords\"}], \"pie\": [{\"automargin\": true, \"type\": \"pie\"}], \"scatter\": [{\"marker\": {\"colorbar\": {\"outlinewidth\": 0, \"ticks\": \"\"}}, \"type\": \"scatter\"}], \"scatter3d\": [{\"line\": {\"colorbar\": {\"outlinewidth\": 0, \"ticks\": \"\"}}, \"marker\": {\"colorbar\": {\"outlinewidth\": 0, \"ticks\": \"\"}}, \"type\": \"scatter3d\"}], \"scattercarpet\": [{\"marker\": {\"colorbar\": {\"outlinewidth\": 0, \"ticks\": \"\"}}, \"type\": \"scattercarpet\"}], \"scattergeo\": [{\"marker\": {\"colorbar\": {\"outlinewidth\": 0, \"ticks\": \"\"}}, \"type\": \"scattergeo\"}], \"scattergl\": [{\"marker\": {\"colorbar\": {\"outlinewidth\": 0, \"ticks\": \"\"}}, \"type\": \"scattergl\"}], \"scattermapbox\": [{\"marker\": {\"colorbar\": {\"outlinewidth\": 0, \"ticks\": \"\"}}, \"type\": \"scattermapbox\"}], \"scatterpolar\": [{\"marker\": {\"colorbar\": {\"outlinewidth\": 0, \"ticks\": \"\"}}, \"type\": \"scatterpolar\"}], \"scatterpolargl\": [{\"marker\": {\"colorbar\": {\"outlinewidth\": 0, \"ticks\": \"\"}}, \"type\": \"scatterpolargl\"}], \"scatterternary\": [{\"marker\": {\"colorbar\": {\"outlinewidth\": 0, \"ticks\": \"\"}}, \"type\": \"scatterternary\"}], \"surface\": [{\"colorbar\": {\"outlinewidth\": 0, \"ticks\": \"\"}, \"colorscale\": [[0.0, \"#0d0887\"], [0.1111111111111111, \"#46039f\"], [0.2222222222222222, \"#7201a8\"], [0.3333333333333333, \"#9c179e\"], [0.4444444444444444, \"#bd3786\"], [0.5555555555555556, \"#d8576b\"], [0.6666666666666666, \"#ed7953\"], [0.7777777777777778, \"#fb9f3a\"], [0.8888888888888888, \"#fdca26\"], [1.0, \"#f0f921\"]], \"type\": \"surface\"}], \"table\": [{\"cells\": {\"fill\": {\"color\": \"#EBF0F8\"}, \"line\": {\"color\": \"white\"}}, \"header\": {\"fill\": {\"color\": \"#C8D4E3\"}, \"line\": {\"color\": \"white\"}}, \"type\": \"table\"}]}, \"layout\": {\"annotationdefaults\": {\"arrowcolor\": \"#2a3f5f\", \"arrowhead\": 0, \"arrowwidth\": 1}, \"coloraxis\": {\"colorbar\": {\"outlinewidth\": 0, \"ticks\": \"\"}}, \"colorscale\": {\"diverging\": [[0, \"#8e0152\"], [0.1, \"#c51b7d\"], [0.2, \"#de77ae\"], [0.3, \"#f1b6da\"], [0.4, \"#fde0ef\"], [0.5, \"#f7f7f7\"], [0.6, \"#e6f5d0\"], [0.7, \"#b8e186\"], [0.8, \"#7fbc41\"], [0.9, \"#4d9221\"], [1, \"#276419\"]], \"sequential\": [[0.0, \"#0d0887\"], [0.1111111111111111, \"#46039f\"], [0.2222222222222222, \"#7201a8\"], [0.3333333333333333, \"#9c179e\"], [0.4444444444444444, \"#bd3786\"], [0.5555555555555556, \"#d8576b\"], [0.6666666666666666, \"#ed7953\"], [0.7777777777777778, \"#fb9f3a\"], [0.8888888888888888, \"#fdca26\"], [1.0, \"#f0f921\"]], \"sequentialminus\": [[0.0, \"#0d0887\"], [0.1111111111111111, \"#46039f\"], [0.2222222222222222, \"#7201a8\"], [0.3333333333333333, \"#9c179e\"], [0.4444444444444444, \"#bd3786\"], [0.5555555555555556, \"#d8576b\"], [0.6666666666666666, \"#ed7953\"], [0.7777777777777778, \"#fb9f3a\"], [0.8888888888888888, \"#fdca26\"], [1.0, \"#f0f921\"]]}, \"colorway\": [\"#636efa\", \"#EF553B\", \"#00cc96\", \"#ab63fa\", \"#FFA15A\", \"#19d3f3\", \"#FF6692\", \"#B6E880\", \"#FF97FF\", \"#FECB52\"], \"font\": {\"color\": \"#2a3f5f\"}, \"geo\": {\"bgcolor\": \"white\", \"lakecolor\": \"white\", \"landcolor\": \"#E5ECF6\", \"showlakes\": true, \"showland\": true, \"subunitcolor\": \"white\"}, \"hoverlabel\": {\"align\": \"left\"}, \"hovermode\": \"closest\", \"mapbox\": {\"style\": \"light\"}, \"paper_bgcolor\": \"white\", \"plot_bgcolor\": \"#E5ECF6\", \"polar\": {\"angularaxis\": {\"gridcolor\": \"white\", \"linecolor\": \"white\", \"ticks\": \"\"}, \"bgcolor\": \"#E5ECF6\", \"radialaxis\": {\"gridcolor\": \"white\", \"linecolor\": \"white\", \"ticks\": \"\"}}, \"scene\": {\"xaxis\": {\"backgroundcolor\": \"#E5ECF6\", \"gridcolor\": \"white\", \"gridwidth\": 2, \"linecolor\": \"white\", \"showbackground\": true, \"ticks\": \"\", \"zerolinecolor\": \"white\"}, \"yaxis\": {\"backgroundcolor\": \"#E5ECF6\", \"gridcolor\": \"white\", \"gridwidth\": 2, \"linecolor\": \"white\", \"showbackground\": true, \"ticks\": \"\", \"zerolinecolor\": \"white\"}, \"zaxis\": {\"backgroundcolor\": \"#E5ECF6\", \"gridcolor\": \"white\", \"gridwidth\": 2, \"linecolor\": \"white\", \"showbackground\": true, \"ticks\": \"\", \"zerolinecolor\": \"white\"}}, \"shapedefaults\": {\"line\": {\"color\": \"#2a3f5f\"}}, \"ternary\": {\"aaxis\": {\"gridcolor\": \"white\", \"linecolor\": \"white\", \"ticks\": \"\"}, \"baxis\": {\"gridcolor\": \"white\", \"linecolor\": \"white\", \"ticks\": \"\"}, \"bgcolor\": \"#E5ECF6\", \"caxis\": {\"gridcolor\": \"white\", \"linecolor\": \"white\", \"ticks\": \"\"}}, \"title\": {\"x\": 0.05}, \"xaxis\": {\"automargin\": true, \"gridcolor\": \"white\", \"linecolor\": \"white\", \"ticks\": \"\", \"title\": {\"standoff\": 15}, \"zerolinecolor\": \"white\", \"zerolinewidth\": 2}, \"yaxis\": {\"automargin\": true, \"gridcolor\": \"white\", \"linecolor\": \"white\", \"ticks\": \"\", \"title\": {\"standoff\": 15}, \"zerolinecolor\": \"white\", \"zerolinewidth\": 2}}}, \"title\": {\"font\": {\"color\": \"#4D5663\"}}, \"xaxis\": {\"gridcolor\": \"#E1E5ED\", \"showgrid\": true, \"tickfont\": {\"color\": \"#4D5663\"}, \"title\": {\"font\": {\"color\": \"#4D5663\"}, \"text\": \"\"}, \"zerolinecolor\": \"#E1E5ED\"}, \"yaxis\": {\"gridcolor\": \"#E1E5ED\", \"showgrid\": true, \"tickfont\": {\"color\": \"#4D5663\"}, \"title\": {\"font\": {\"color\": \"#4D5663\"}, \"text\": \"\"}, \"zerolinecolor\": \"#E1E5ED\"}},                        {\"showLink\": true, \"linkText\": \"Export to plot.ly\", \"plotlyServerURL\": \"https://plot.ly\", \"responsive\": true}                    ).then(function(){\n",
       "                            \n",
       "var gd = document.getElementById('a32e91d4-e11e-4c20-92a7-6f6cb7fc35f9');\n",
       "var x = new MutationObserver(function (mutations, observer) {{\n",
       "        var display = window.getComputedStyle(gd).display;\n",
       "        if (!display || display === 'none') {{\n",
       "            console.log([gd, 'removed!']);\n",
       "            Plotly.purge(gd);\n",
       "            observer.disconnect();\n",
       "        }}\n",
       "}});\n",
       "\n",
       "// Listen for the removal of the full notebook cells\n",
       "var notebookContainer = gd.closest('#notebook-container');\n",
       "if (notebookContainer) {{\n",
       "    x.observe(notebookContainer, {childList: true});\n",
       "}}\n",
       "\n",
       "// Listen for the clearing of the current output cell\n",
       "var outputEl = gd.closest('.output');\n",
       "if (outputEl) {{\n",
       "    x.observe(outputEl, {childList: true});\n",
       "}}\n",
       "\n",
       "                        })                };                });            </script>        </div>"
      ]
     },
     "metadata": {},
     "output_type": "display_data"
    }
   ],
   "source": [
    "df['A'].iplot(kind='hist',bins=25)"
   ]
  },
  {
   "cell_type": "code",
   "execution_count": 41,
   "metadata": {
    "id": "Y2zYwyehbxwV",
    "outputId": "c2811791-5856-43b8-c28c-1bd200f4e797"
   },
   "outputs": [
    {
     "data": {
      "application/vnd.plotly.v1+json": {
       "config": {
        "linkText": "Export to plot.ly",
        "plotlyServerURL": "https://plot.ly",
        "showLink": true
       },
       "data": [
        {
         "marker": {
          "color": [
           "rgb(255, 153, 51)",
           "rgb(55, 128, 191)",
           "rgb(50, 171, 96)",
           "rgb(128, 0, 128)",
           "rgb(219, 64, 82)",
           "rgb(0, 128, 128)",
           "rgb(255, 255, 51)",
           "rgb(128, 128, 0)",
           "rgb(251, 128, 114)",
           "rgb(128, 177, 211)"
          ],
          "line": {
           "width": 1.3
          },
          "size": [
           43,
           12,
           28,
           81,
           71,
           72,
           92,
           68,
           91,
           38,
           92,
           49,
           70,
           62,
           96,
           87,
           55,
           79,
           31,
           38,
           49,
           80,
           23,
           71,
           84,
           78,
           77,
           42,
           31,
           89,
           63,
           88,
           81,
           75,
           61,
           68,
           62,
           74,
           69,
           64,
           90,
           36,
           49,
           25,
           49,
           43,
           35,
           53,
           34,
           80,
           49,
           58,
           78,
           82,
           80,
           81,
           85,
           35,
           39,
           66,
           95,
           58,
           51,
           44,
           65,
           16,
           77,
           37,
           52,
           51,
           49,
           83,
           65,
           89,
           51,
           62,
           57,
           100,
           72,
           62,
           84,
           112,
           105,
           63,
           62,
           95,
           51,
           79,
           90,
           61,
           73,
           73,
           13,
           49,
           93,
           90,
           62,
           73,
           79,
           88
          ],
          "symbol": "circle"
         },
         "mode": "markers",
         "text": "",
         "type": "scatter",
         "x": [
          2.3050789463764794,
          -0.34544828836374125,
          -1.67491216027255,
          1.207318891717801,
          1.406343778561469,
          -1.112345759784398,
          0.9446789832334939,
          -0.38728675731145373,
          1.3079689084749777,
          -1.8069718036199587,
          0.18825627165035458,
          0.7147828258451806,
          0.44192463870483806,
          -0.49552350971023745,
          -0.322800551035353,
          -0.47433961294441596,
          0.1690883770206803,
          1.2017852529943827,
          -0.1647321336067996,
          -2.3955741265632238,
          -1.4758945487582762,
          0.962445834012295,
          0.6653252839778693,
          -0.41880202344092315,
          0.04627068636022785,
          -1.5185646666381192,
          -1.9938509523173815,
          -0.02240060509745099,
          1.1809831611785004,
          1.8801658934707632,
          1.0292593510337478,
          0.5949117331367149,
          -1.4514506277441748,
          -0.42502646313780856,
          -0.5797899821504993,
          -0.3581390966891277,
          -0.11892770450618409,
          1.0926209083884437,
          0.7050466192122445,
          1.2375172874906153,
          1.4072020975357857,
          0.1575926374578665,
          0.09396028076688108,
          0.14998003245337374,
          1.0006464685965815,
          0.33651897865653907,
          -0.10778939786155453,
          1.7762185531905517,
          0.2433230426333405,
          0.6573414720203437,
          1.4987623651774449,
          0.49100570061636384,
          1.2227945124611799,
          2.0356825538745524,
          0.8960277472124333,
          1.36131627749611,
          -0.01900927284926094,
          -1.123782384244974,
          1.2024407293884816,
          1.7533041101596796,
          2.620102735759663,
          -0.9243960301190819,
          -0.9071010052827692,
          0.7084815208490741,
          -1.0164586395797204,
          -0.9726287488168607,
          -2.0757409191988963,
          -0.4056514932145701,
          -0.4481169032862055,
          0.2999481669822941,
          0.19005409313068863,
          0.20944993347497673,
          1.8535331783127982,
          0.10833367793192912,
          0.9909118192752894,
          -0.18072276264957435,
          -0.27175596496885357,
          -0.3472891841078953,
          -1.3499379537122178,
          -0.24361265423740075,
          0.1823942082455205,
          -0.11683434885062603,
          -1.9611819118675928,
          -0.10124747971168387,
          -0.749519554450631,
          -0.17063962763320573,
          -1.2924000897834025,
          -1.6363561634291774,
          0.31683188489615605,
          0.6767344738274852,
          -1.0561931295586227,
          -2.0631652991243787,
          -1.0225199848753768,
          -1.2074155289643396,
          -0.8839567228513001,
          -0.8159284734528616,
          0.6274816714657359,
          0.9671930475443826,
          -0.27905397820525646,
          -0.9770832801408772
         ],
         "y": [
          1.4564807911980027,
          -0.5614415874815344,
          0.7690489749287509,
          1.0745673115894976,
          -0.271650350545234,
          -0.20417947351171928,
          -1.5365217665036148,
          0.5271922043293188,
          -1.486583190597354,
          -1.5334484919941673,
          0.18382394706883978,
          0.1344370782872019,
          1.89905090532156,
          0.6202785332919339,
          -0.45664038843023563,
          1.963126990847653,
          1.9369875383030903,
          1.0315771467695134,
          -0.3453335682768677,
          0.419546447142365,
          -1.225897365627275,
          -1.0887921399676082,
          -0.21263698997725416,
          0.7718171320935325,
          0.44145428919101193,
          -0.8468114640841646,
          0.8526936191566775,
          -0.969355231696488,
          1.5408969327530821,
          -0.04465803887874416,
          -1.0342638822781325,
          0.6075784794307824,
          0.020845455399087748,
          -0.07959203078638698,
          -1.2885327382950438,
          -0.5858261320243598,
          0.2784538175232755,
          0.4716251609013261,
          0.007586918494829923,
          -1.2311721843538845,
          2.263014081539277,
          -0.9445712149750263,
          -0.7801126734963407,
          -0.006307163966420759,
          0.19209429370631423,
          1.4849821222922432,
          -0.402824407169826,
          -0.1535552795197902,
          -0.45306006334156884,
          0.2723494038368278,
          -0.6969797568377994,
          1.3148469312491482,
          -0.4400678278705646,
          -0.5226856061207958,
          -1.2685087511392623,
          -0.7121002063687039,
          0.4922848868566591,
          1.4080506928339986,
          -0.6740640131990668,
          0.47859781454993217,
          0.10407954693386935,
          -0.09125617817861699,
          -1.3627903947738937,
          -1.280305454707673,
          1.0676149669634278,
          0.10098596940395344,
          0.3087197869344185,
          0.3416669711946196,
          -0.2456850602506728,
          -0.8054522753423443,
          -0.3581753964308596,
          1.2538718650534761,
          1.5812764633116267,
          -1.2869964689617,
          0.5134159053161619,
          1.0984181861336495,
          -0.939853681439602,
          -0.7874505356156805,
          -0.5251233813470253,
          1.426548881182392,
          0.07011129375683395,
          0.3043731808315209,
          1.3453342775245516,
          0.8797891435530668,
          0.08819796782327056,
          0.7785641262132776,
          -0.32251783943947593,
          -1.103603729843237,
          1.561003488139711,
          -0.8993481124743095,
          2.527656223510702,
          -0.035756115285384076,
          2.32755828482868,
          0.8455828949792558,
          1.4395208708887242,
          -0.13261587328217128,
          0.9653423868237719,
          -1.5985346969508438,
          -0.9772914721691849,
          0.6427378710046866
         ]
        }
       ],
       "layout": {
        "legend": {
         "bgcolor": "#F5F6F9",
         "font": {
          "color": "#4D5663"
         }
        },
        "paper_bgcolor": "#F5F6F9",
        "plot_bgcolor": "#F5F6F9",
        "template": {
         "data": {
          "bar": [
           {
            "error_x": {
             "color": "#2a3f5f"
            },
            "error_y": {
             "color": "#2a3f5f"
            },
            "marker": {
             "line": {
              "color": "#E5ECF6",
              "width": 0.5
             }
            },
            "type": "bar"
           }
          ],
          "barpolar": [
           {
            "marker": {
             "line": {
              "color": "#E5ECF6",
              "width": 0.5
             }
            },
            "type": "barpolar"
           }
          ],
          "carpet": [
           {
            "aaxis": {
             "endlinecolor": "#2a3f5f",
             "gridcolor": "white",
             "linecolor": "white",
             "minorgridcolor": "white",
             "startlinecolor": "#2a3f5f"
            },
            "baxis": {
             "endlinecolor": "#2a3f5f",
             "gridcolor": "white",
             "linecolor": "white",
             "minorgridcolor": "white",
             "startlinecolor": "#2a3f5f"
            },
            "type": "carpet"
           }
          ],
          "choropleth": [
           {
            "colorbar": {
             "outlinewidth": 0,
             "ticks": ""
            },
            "type": "choropleth"
           }
          ],
          "contour": [
           {
            "colorbar": {
             "outlinewidth": 0,
             "ticks": ""
            },
            "colorscale": [
             [
              0,
              "#0d0887"
             ],
             [
              0.1111111111111111,
              "#46039f"
             ],
             [
              0.2222222222222222,
              "#7201a8"
             ],
             [
              0.3333333333333333,
              "#9c179e"
             ],
             [
              0.4444444444444444,
              "#bd3786"
             ],
             [
              0.5555555555555556,
              "#d8576b"
             ],
             [
              0.6666666666666666,
              "#ed7953"
             ],
             [
              0.7777777777777778,
              "#fb9f3a"
             ],
             [
              0.8888888888888888,
              "#fdca26"
             ],
             [
              1,
              "#f0f921"
             ]
            ],
            "type": "contour"
           }
          ],
          "contourcarpet": [
           {
            "colorbar": {
             "outlinewidth": 0,
             "ticks": ""
            },
            "type": "contourcarpet"
           }
          ],
          "heatmap": [
           {
            "colorbar": {
             "outlinewidth": 0,
             "ticks": ""
            },
            "colorscale": [
             [
              0,
              "#0d0887"
             ],
             [
              0.1111111111111111,
              "#46039f"
             ],
             [
              0.2222222222222222,
              "#7201a8"
             ],
             [
              0.3333333333333333,
              "#9c179e"
             ],
             [
              0.4444444444444444,
              "#bd3786"
             ],
             [
              0.5555555555555556,
              "#d8576b"
             ],
             [
              0.6666666666666666,
              "#ed7953"
             ],
             [
              0.7777777777777778,
              "#fb9f3a"
             ],
             [
              0.8888888888888888,
              "#fdca26"
             ],
             [
              1,
              "#f0f921"
             ]
            ],
            "type": "heatmap"
           }
          ],
          "heatmapgl": [
           {
            "colorbar": {
             "outlinewidth": 0,
             "ticks": ""
            },
            "colorscale": [
             [
              0,
              "#0d0887"
             ],
             [
              0.1111111111111111,
              "#46039f"
             ],
             [
              0.2222222222222222,
              "#7201a8"
             ],
             [
              0.3333333333333333,
              "#9c179e"
             ],
             [
              0.4444444444444444,
              "#bd3786"
             ],
             [
              0.5555555555555556,
              "#d8576b"
             ],
             [
              0.6666666666666666,
              "#ed7953"
             ],
             [
              0.7777777777777778,
              "#fb9f3a"
             ],
             [
              0.8888888888888888,
              "#fdca26"
             ],
             [
              1,
              "#f0f921"
             ]
            ],
            "type": "heatmapgl"
           }
          ],
          "histogram": [
           {
            "marker": {
             "colorbar": {
              "outlinewidth": 0,
              "ticks": ""
             }
            },
            "type": "histogram"
           }
          ],
          "histogram2d": [
           {
            "colorbar": {
             "outlinewidth": 0,
             "ticks": ""
            },
            "colorscale": [
             [
              0,
              "#0d0887"
             ],
             [
              0.1111111111111111,
              "#46039f"
             ],
             [
              0.2222222222222222,
              "#7201a8"
             ],
             [
              0.3333333333333333,
              "#9c179e"
             ],
             [
              0.4444444444444444,
              "#bd3786"
             ],
             [
              0.5555555555555556,
              "#d8576b"
             ],
             [
              0.6666666666666666,
              "#ed7953"
             ],
             [
              0.7777777777777778,
              "#fb9f3a"
             ],
             [
              0.8888888888888888,
              "#fdca26"
             ],
             [
              1,
              "#f0f921"
             ]
            ],
            "type": "histogram2d"
           }
          ],
          "histogram2dcontour": [
           {
            "colorbar": {
             "outlinewidth": 0,
             "ticks": ""
            },
            "colorscale": [
             [
              0,
              "#0d0887"
             ],
             [
              0.1111111111111111,
              "#46039f"
             ],
             [
              0.2222222222222222,
              "#7201a8"
             ],
             [
              0.3333333333333333,
              "#9c179e"
             ],
             [
              0.4444444444444444,
              "#bd3786"
             ],
             [
              0.5555555555555556,
              "#d8576b"
             ],
             [
              0.6666666666666666,
              "#ed7953"
             ],
             [
              0.7777777777777778,
              "#fb9f3a"
             ],
             [
              0.8888888888888888,
              "#fdca26"
             ],
             [
              1,
              "#f0f921"
             ]
            ],
            "type": "histogram2dcontour"
           }
          ],
          "mesh3d": [
           {
            "colorbar": {
             "outlinewidth": 0,
             "ticks": ""
            },
            "type": "mesh3d"
           }
          ],
          "parcoords": [
           {
            "line": {
             "colorbar": {
              "outlinewidth": 0,
              "ticks": ""
             }
            },
            "type": "parcoords"
           }
          ],
          "pie": [
           {
            "automargin": true,
            "type": "pie"
           }
          ],
          "scatter": [
           {
            "marker": {
             "colorbar": {
              "outlinewidth": 0,
              "ticks": ""
             }
            },
            "type": "scatter"
           }
          ],
          "scatter3d": [
           {
            "line": {
             "colorbar": {
              "outlinewidth": 0,
              "ticks": ""
             }
            },
            "marker": {
             "colorbar": {
              "outlinewidth": 0,
              "ticks": ""
             }
            },
            "type": "scatter3d"
           }
          ],
          "scattercarpet": [
           {
            "marker": {
             "colorbar": {
              "outlinewidth": 0,
              "ticks": ""
             }
            },
            "type": "scattercarpet"
           }
          ],
          "scattergeo": [
           {
            "marker": {
             "colorbar": {
              "outlinewidth": 0,
              "ticks": ""
             }
            },
            "type": "scattergeo"
           }
          ],
          "scattergl": [
           {
            "marker": {
             "colorbar": {
              "outlinewidth": 0,
              "ticks": ""
             }
            },
            "type": "scattergl"
           }
          ],
          "scattermapbox": [
           {
            "marker": {
             "colorbar": {
              "outlinewidth": 0,
              "ticks": ""
             }
            },
            "type": "scattermapbox"
           }
          ],
          "scatterpolar": [
           {
            "marker": {
             "colorbar": {
              "outlinewidth": 0,
              "ticks": ""
             }
            },
            "type": "scatterpolar"
           }
          ],
          "scatterpolargl": [
           {
            "marker": {
             "colorbar": {
              "outlinewidth": 0,
              "ticks": ""
             }
            },
            "type": "scatterpolargl"
           }
          ],
          "scatterternary": [
           {
            "marker": {
             "colorbar": {
              "outlinewidth": 0,
              "ticks": ""
             }
            },
            "type": "scatterternary"
           }
          ],
          "surface": [
           {
            "colorbar": {
             "outlinewidth": 0,
             "ticks": ""
            },
            "colorscale": [
             [
              0,
              "#0d0887"
             ],
             [
              0.1111111111111111,
              "#46039f"
             ],
             [
              0.2222222222222222,
              "#7201a8"
             ],
             [
              0.3333333333333333,
              "#9c179e"
             ],
             [
              0.4444444444444444,
              "#bd3786"
             ],
             [
              0.5555555555555556,
              "#d8576b"
             ],
             [
              0.6666666666666666,
              "#ed7953"
             ],
             [
              0.7777777777777778,
              "#fb9f3a"
             ],
             [
              0.8888888888888888,
              "#fdca26"
             ],
             [
              1,
              "#f0f921"
             ]
            ],
            "type": "surface"
           }
          ],
          "table": [
           {
            "cells": {
             "fill": {
              "color": "#EBF0F8"
             },
             "line": {
              "color": "white"
             }
            },
            "header": {
             "fill": {
              "color": "#C8D4E3"
             },
             "line": {
              "color": "white"
             }
            },
            "type": "table"
           }
          ]
         },
         "layout": {
          "annotationdefaults": {
           "arrowcolor": "#2a3f5f",
           "arrowhead": 0,
           "arrowwidth": 1
          },
          "coloraxis": {
           "colorbar": {
            "outlinewidth": 0,
            "ticks": ""
           }
          },
          "colorscale": {
           "diverging": [
            [
             0,
             "#8e0152"
            ],
            [
             0.1,
             "#c51b7d"
            ],
            [
             0.2,
             "#de77ae"
            ],
            [
             0.3,
             "#f1b6da"
            ],
            [
             0.4,
             "#fde0ef"
            ],
            [
             0.5,
             "#f7f7f7"
            ],
            [
             0.6,
             "#e6f5d0"
            ],
            [
             0.7,
             "#b8e186"
            ],
            [
             0.8,
             "#7fbc41"
            ],
            [
             0.9,
             "#4d9221"
            ],
            [
             1,
             "#276419"
            ]
           ],
           "sequential": [
            [
             0,
             "#0d0887"
            ],
            [
             0.1111111111111111,
             "#46039f"
            ],
            [
             0.2222222222222222,
             "#7201a8"
            ],
            [
             0.3333333333333333,
             "#9c179e"
            ],
            [
             0.4444444444444444,
             "#bd3786"
            ],
            [
             0.5555555555555556,
             "#d8576b"
            ],
            [
             0.6666666666666666,
             "#ed7953"
            ],
            [
             0.7777777777777778,
             "#fb9f3a"
            ],
            [
             0.8888888888888888,
             "#fdca26"
            ],
            [
             1,
             "#f0f921"
            ]
           ],
           "sequentialminus": [
            [
             0,
             "#0d0887"
            ],
            [
             0.1111111111111111,
             "#46039f"
            ],
            [
             0.2222222222222222,
             "#7201a8"
            ],
            [
             0.3333333333333333,
             "#9c179e"
            ],
            [
             0.4444444444444444,
             "#bd3786"
            ],
            [
             0.5555555555555556,
             "#d8576b"
            ],
            [
             0.6666666666666666,
             "#ed7953"
            ],
            [
             0.7777777777777778,
             "#fb9f3a"
            ],
            [
             0.8888888888888888,
             "#fdca26"
            ],
            [
             1,
             "#f0f921"
            ]
           ]
          },
          "colorway": [
           "#636efa",
           "#EF553B",
           "#00cc96",
           "#ab63fa",
           "#FFA15A",
           "#19d3f3",
           "#FF6692",
           "#B6E880",
           "#FF97FF",
           "#FECB52"
          ],
          "font": {
           "color": "#2a3f5f"
          },
          "geo": {
           "bgcolor": "white",
           "lakecolor": "white",
           "landcolor": "#E5ECF6",
           "showlakes": true,
           "showland": true,
           "subunitcolor": "white"
          },
          "hoverlabel": {
           "align": "left"
          },
          "hovermode": "closest",
          "mapbox": {
           "style": "light"
          },
          "paper_bgcolor": "white",
          "plot_bgcolor": "#E5ECF6",
          "polar": {
           "angularaxis": {
            "gridcolor": "white",
            "linecolor": "white",
            "ticks": ""
           },
           "bgcolor": "#E5ECF6",
           "radialaxis": {
            "gridcolor": "white",
            "linecolor": "white",
            "ticks": ""
           }
          },
          "scene": {
           "xaxis": {
            "backgroundcolor": "#E5ECF6",
            "gridcolor": "white",
            "gridwidth": 2,
            "linecolor": "white",
            "showbackground": true,
            "ticks": "",
            "zerolinecolor": "white"
           },
           "yaxis": {
            "backgroundcolor": "#E5ECF6",
            "gridcolor": "white",
            "gridwidth": 2,
            "linecolor": "white",
            "showbackground": true,
            "ticks": "",
            "zerolinecolor": "white"
           },
           "zaxis": {
            "backgroundcolor": "#E5ECF6",
            "gridcolor": "white",
            "gridwidth": 2,
            "linecolor": "white",
            "showbackground": true,
            "ticks": "",
            "zerolinecolor": "white"
           }
          },
          "shapedefaults": {
           "line": {
            "color": "#2a3f5f"
           }
          },
          "ternary": {
           "aaxis": {
            "gridcolor": "white",
            "linecolor": "white",
            "ticks": ""
           },
           "baxis": {
            "gridcolor": "white",
            "linecolor": "white",
            "ticks": ""
           },
           "bgcolor": "#E5ECF6",
           "caxis": {
            "gridcolor": "white",
            "linecolor": "white",
            "ticks": ""
           }
          },
          "title": {
           "x": 0.05
          },
          "xaxis": {
           "automargin": true,
           "gridcolor": "white",
           "linecolor": "white",
           "ticks": "",
           "title": {
            "standoff": 15
           },
           "zerolinecolor": "white",
           "zerolinewidth": 2
          },
          "yaxis": {
           "automargin": true,
           "gridcolor": "white",
           "linecolor": "white",
           "ticks": "",
           "title": {
            "standoff": 15
           },
           "zerolinecolor": "white",
           "zerolinewidth": 2
          }
         }
        },
        "title": {
         "font": {
          "color": "#4D5663"
         }
        },
        "xaxis": {
         "gridcolor": "#E1E5ED",
         "showgrid": true,
         "tickfont": {
          "color": "#4D5663"
         },
         "title": {
          "font": {
           "color": "#4D5663"
          },
          "text": ""
         },
         "zerolinecolor": "#E1E5ED"
        },
        "yaxis": {
         "gridcolor": "#E1E5ED",
         "showgrid": true,
         "tickfont": {
          "color": "#4D5663"
         },
         "title": {
          "font": {
           "color": "#4D5663"
          },
          "text": ""
         },
         "zerolinecolor": "#E1E5ED"
        }
       }
      },
      "text/html": [
       "<div>                            <div id=\"8e064ef1-63f4-4765-9de2-6c7870557501\" class=\"plotly-graph-div\" style=\"height:525px; width:100%;\"></div>            <script type=\"text/javascript\">                require([\"plotly\"], function(Plotly) {                    window.PLOTLYENV=window.PLOTLYENV || {};\n",
       "                    window.PLOTLYENV.BASE_URL='https://plot.ly';                                    if (document.getElementById(\"8e064ef1-63f4-4765-9de2-6c7870557501\")) {                    Plotly.newPlot(                        \"8e064ef1-63f4-4765-9de2-6c7870557501\",                        [{\"marker\": {\"color\": [\"rgb(255, 153, 51)\", \"rgb(55, 128, 191)\", \"rgb(50, 171, 96)\", \"rgb(128, 0, 128)\", \"rgb(219, 64, 82)\", \"rgb(0, 128, 128)\", \"rgb(255, 255, 51)\", \"rgb(128, 128, 0)\", \"rgb(251, 128, 114)\", \"rgb(128, 177, 211)\"], \"line\": {\"width\": 1.3}, \"size\": [43, 12, 28, 81, 71, 72, 92, 68, 91, 38, 92, 49, 70, 62, 96, 87, 55, 79, 31, 38, 49, 80, 23, 71, 84, 78, 77, 42, 31, 89, 63, 88, 81, 75, 61, 68, 62, 74, 69, 64, 90, 36, 49, 25, 49, 43, 35, 53, 34, 80, 49, 58, 78, 82, 80, 81, 85, 35, 39, 66, 95, 58, 51, 44, 65, 16, 77, 37, 52, 51, 49, 83, 65, 89, 51, 62, 57, 100, 72, 62, 84, 112, 105, 63, 62, 95, 51, 79, 90, 61, 73, 73, 13, 49, 93, 90, 62, 73, 79, 88], \"symbol\": \"circle\"}, \"mode\": \"markers\", \"text\": \"\", \"type\": \"scatter\", \"x\": [2.3050789463764794, -0.34544828836374125, -1.67491216027255, 1.207318891717801, 1.406343778561469, -1.112345759784398, 0.9446789832334939, -0.38728675731145373, 1.3079689084749777, -1.8069718036199587, 0.18825627165035458, 0.7147828258451806, 0.44192463870483806, -0.49552350971023745, -0.322800551035353, -0.47433961294441596, 0.1690883770206803, 1.2017852529943827, -0.1647321336067996, -2.3955741265632238, -1.4758945487582762, 0.962445834012295, 0.6653252839778693, -0.41880202344092315, 0.04627068636022785, -1.5185646666381192, -1.9938509523173815, -0.02240060509745099, 1.1809831611785004, 1.8801658934707632, 1.0292593510337478, 0.5949117331367149, -1.4514506277441748, -0.42502646313780856, -0.5797899821504993, -0.3581390966891277, -0.11892770450618409, 1.0926209083884437, 0.7050466192122445, 1.2375172874906153, 1.4072020975357857, 0.1575926374578665, 0.09396028076688108, 0.14998003245337374, 1.0006464685965815, 0.33651897865653907, -0.10778939786155453, 1.7762185531905517, 0.2433230426333405, 0.6573414720203437, 1.4987623651774449, 0.49100570061636384, 1.2227945124611799, 2.0356825538745524, 0.8960277472124333, 1.36131627749611, -0.01900927284926094, -1.123782384244974, 1.2024407293884816, 1.7533041101596796, 2.620102735759663, -0.9243960301190819, -0.9071010052827692, 0.7084815208490741, -1.0164586395797204, -0.9726287488168607, -2.0757409191988963, -0.4056514932145701, -0.4481169032862055, 0.2999481669822941, 0.19005409313068863, 0.20944993347497673, 1.8535331783127982, 0.10833367793192912, 0.9909118192752894, -0.18072276264957435, -0.27175596496885357, -0.3472891841078953, -1.3499379537122178, -0.24361265423740075, 0.1823942082455205, -0.11683434885062603, -1.9611819118675928, -0.10124747971168387, -0.749519554450631, -0.17063962763320573, -1.2924000897834025, -1.6363561634291774, 0.31683188489615605, 0.6767344738274852, -1.0561931295586227, -2.0631652991243787, -1.0225199848753768, -1.2074155289643396, -0.8839567228513001, -0.8159284734528616, 0.6274816714657359, 0.9671930475443826, -0.27905397820525646, -0.9770832801408772], \"y\": [1.4564807911980027, -0.5614415874815344, 0.7690489749287509, 1.0745673115894976, -0.271650350545234, -0.20417947351171928, -1.5365217665036148, 0.5271922043293188, -1.486583190597354, -1.5334484919941673, 0.18382394706883978, 0.1344370782872019, 1.89905090532156, 0.6202785332919339, -0.45664038843023563, 1.963126990847653, 1.9369875383030903, 1.0315771467695134, -0.3453335682768677, 0.419546447142365, -1.225897365627275, -1.0887921399676082, -0.21263698997725416, 0.7718171320935325, 0.44145428919101193, -0.8468114640841646, 0.8526936191566775, -0.969355231696488, 1.5408969327530821, -0.04465803887874416, -1.0342638822781325, 0.6075784794307824, 0.020845455399087748, -0.07959203078638698, -1.2885327382950438, -0.5858261320243598, 0.2784538175232755, 0.4716251609013261, 0.007586918494829923, -1.2311721843538845, 2.263014081539277, -0.9445712149750263, -0.7801126734963407, -0.006307163966420759, 0.19209429370631423, 1.4849821222922432, -0.402824407169826, -0.1535552795197902, -0.45306006334156884, 0.2723494038368278, -0.6969797568377994, 1.3148469312491482, -0.4400678278705646, -0.5226856061207958, -1.2685087511392623, -0.7121002063687039, 0.4922848868566591, 1.4080506928339986, -0.6740640131990668, 0.47859781454993217, 0.10407954693386935, -0.09125617817861699, -1.3627903947738937, -1.280305454707673, 1.0676149669634278, 0.10098596940395344, 0.3087197869344185, 0.3416669711946196, -0.2456850602506728, -0.8054522753423443, -0.3581753964308596, 1.2538718650534761, 1.5812764633116267, -1.2869964689617, 0.5134159053161619, 1.0984181861336495, -0.939853681439602, -0.7874505356156805, -0.5251233813470253, 1.426548881182392, 0.07011129375683395, 0.3043731808315209, 1.3453342775245516, 0.8797891435530668, 0.08819796782327056, 0.7785641262132776, -0.32251783943947593, -1.103603729843237, 1.561003488139711, -0.8993481124743095, 2.527656223510702, -0.035756115285384076, 2.32755828482868, 0.8455828949792558, 1.4395208708887242, -0.13261587328217128, 0.9653423868237719, -1.5985346969508438, -0.9772914721691849, 0.6427378710046866]}],                        {\"legend\": {\"bgcolor\": \"#F5F6F9\", \"font\": {\"color\": \"#4D5663\"}}, \"paper_bgcolor\": \"#F5F6F9\", \"plot_bgcolor\": \"#F5F6F9\", \"template\": {\"data\": {\"bar\": [{\"error_x\": {\"color\": \"#2a3f5f\"}, \"error_y\": {\"color\": \"#2a3f5f\"}, \"marker\": {\"line\": {\"color\": \"#E5ECF6\", \"width\": 0.5}}, \"type\": \"bar\"}], \"barpolar\": [{\"marker\": {\"line\": {\"color\": \"#E5ECF6\", \"width\": 0.5}}, \"type\": \"barpolar\"}], \"carpet\": [{\"aaxis\": {\"endlinecolor\": \"#2a3f5f\", \"gridcolor\": \"white\", \"linecolor\": \"white\", \"minorgridcolor\": \"white\", \"startlinecolor\": \"#2a3f5f\"}, \"baxis\": {\"endlinecolor\": \"#2a3f5f\", \"gridcolor\": \"white\", \"linecolor\": \"white\", \"minorgridcolor\": \"white\", \"startlinecolor\": \"#2a3f5f\"}, \"type\": \"carpet\"}], \"choropleth\": [{\"colorbar\": {\"outlinewidth\": 0, \"ticks\": \"\"}, \"type\": \"choropleth\"}], \"contour\": [{\"colorbar\": {\"outlinewidth\": 0, \"ticks\": \"\"}, \"colorscale\": [[0.0, \"#0d0887\"], [0.1111111111111111, \"#46039f\"], [0.2222222222222222, \"#7201a8\"], [0.3333333333333333, \"#9c179e\"], [0.4444444444444444, \"#bd3786\"], [0.5555555555555556, \"#d8576b\"], [0.6666666666666666, \"#ed7953\"], [0.7777777777777778, \"#fb9f3a\"], [0.8888888888888888, \"#fdca26\"], [1.0, \"#f0f921\"]], \"type\": \"contour\"}], \"contourcarpet\": [{\"colorbar\": {\"outlinewidth\": 0, \"ticks\": \"\"}, \"type\": \"contourcarpet\"}], \"heatmap\": [{\"colorbar\": {\"outlinewidth\": 0, \"ticks\": \"\"}, \"colorscale\": [[0.0, \"#0d0887\"], [0.1111111111111111, \"#46039f\"], [0.2222222222222222, \"#7201a8\"], [0.3333333333333333, \"#9c179e\"], [0.4444444444444444, \"#bd3786\"], [0.5555555555555556, \"#d8576b\"], [0.6666666666666666, \"#ed7953\"], [0.7777777777777778, \"#fb9f3a\"], [0.8888888888888888, \"#fdca26\"], [1.0, \"#f0f921\"]], \"type\": \"heatmap\"}], \"heatmapgl\": [{\"colorbar\": {\"outlinewidth\": 0, \"ticks\": \"\"}, \"colorscale\": [[0.0, \"#0d0887\"], [0.1111111111111111, \"#46039f\"], [0.2222222222222222, \"#7201a8\"], [0.3333333333333333, \"#9c179e\"], [0.4444444444444444, \"#bd3786\"], [0.5555555555555556, \"#d8576b\"], [0.6666666666666666, \"#ed7953\"], [0.7777777777777778, \"#fb9f3a\"], [0.8888888888888888, \"#fdca26\"], [1.0, \"#f0f921\"]], \"type\": \"heatmapgl\"}], \"histogram\": [{\"marker\": {\"colorbar\": {\"outlinewidth\": 0, \"ticks\": \"\"}}, \"type\": \"histogram\"}], \"histogram2d\": [{\"colorbar\": {\"outlinewidth\": 0, \"ticks\": \"\"}, \"colorscale\": [[0.0, \"#0d0887\"], [0.1111111111111111, \"#46039f\"], [0.2222222222222222, \"#7201a8\"], [0.3333333333333333, \"#9c179e\"], [0.4444444444444444, \"#bd3786\"], [0.5555555555555556, \"#d8576b\"], [0.6666666666666666, \"#ed7953\"], [0.7777777777777778, \"#fb9f3a\"], [0.8888888888888888, \"#fdca26\"], [1.0, \"#f0f921\"]], \"type\": \"histogram2d\"}], \"histogram2dcontour\": [{\"colorbar\": {\"outlinewidth\": 0, \"ticks\": \"\"}, \"colorscale\": [[0.0, \"#0d0887\"], [0.1111111111111111, \"#46039f\"], [0.2222222222222222, \"#7201a8\"], [0.3333333333333333, \"#9c179e\"], [0.4444444444444444, \"#bd3786\"], [0.5555555555555556, \"#d8576b\"], [0.6666666666666666, \"#ed7953\"], [0.7777777777777778, \"#fb9f3a\"], [0.8888888888888888, \"#fdca26\"], [1.0, \"#f0f921\"]], \"type\": \"histogram2dcontour\"}], \"mesh3d\": [{\"colorbar\": {\"outlinewidth\": 0, \"ticks\": \"\"}, \"type\": \"mesh3d\"}], \"parcoords\": [{\"line\": {\"colorbar\": {\"outlinewidth\": 0, \"ticks\": \"\"}}, \"type\": \"parcoords\"}], \"pie\": [{\"automargin\": true, \"type\": \"pie\"}], \"scatter\": [{\"marker\": {\"colorbar\": {\"outlinewidth\": 0, \"ticks\": \"\"}}, \"type\": \"scatter\"}], \"scatter3d\": [{\"line\": {\"colorbar\": {\"outlinewidth\": 0, \"ticks\": \"\"}}, \"marker\": {\"colorbar\": {\"outlinewidth\": 0, \"ticks\": \"\"}}, \"type\": \"scatter3d\"}], \"scattercarpet\": [{\"marker\": {\"colorbar\": {\"outlinewidth\": 0, \"ticks\": \"\"}}, \"type\": \"scattercarpet\"}], \"scattergeo\": [{\"marker\": {\"colorbar\": {\"outlinewidth\": 0, \"ticks\": \"\"}}, \"type\": \"scattergeo\"}], \"scattergl\": [{\"marker\": {\"colorbar\": {\"outlinewidth\": 0, \"ticks\": \"\"}}, \"type\": \"scattergl\"}], \"scattermapbox\": [{\"marker\": {\"colorbar\": {\"outlinewidth\": 0, \"ticks\": \"\"}}, \"type\": \"scattermapbox\"}], \"scatterpolar\": [{\"marker\": {\"colorbar\": {\"outlinewidth\": 0, \"ticks\": \"\"}}, \"type\": \"scatterpolar\"}], \"scatterpolargl\": [{\"marker\": {\"colorbar\": {\"outlinewidth\": 0, \"ticks\": \"\"}}, \"type\": \"scatterpolargl\"}], \"scatterternary\": [{\"marker\": {\"colorbar\": {\"outlinewidth\": 0, \"ticks\": \"\"}}, \"type\": \"scatterternary\"}], \"surface\": [{\"colorbar\": {\"outlinewidth\": 0, \"ticks\": \"\"}, \"colorscale\": [[0.0, \"#0d0887\"], [0.1111111111111111, \"#46039f\"], [0.2222222222222222, \"#7201a8\"], [0.3333333333333333, \"#9c179e\"], [0.4444444444444444, \"#bd3786\"], [0.5555555555555556, \"#d8576b\"], [0.6666666666666666, \"#ed7953\"], [0.7777777777777778, \"#fb9f3a\"], [0.8888888888888888, \"#fdca26\"], [1.0, \"#f0f921\"]], \"type\": \"surface\"}], \"table\": [{\"cells\": {\"fill\": {\"color\": \"#EBF0F8\"}, \"line\": {\"color\": \"white\"}}, \"header\": {\"fill\": {\"color\": \"#C8D4E3\"}, \"line\": {\"color\": \"white\"}}, \"type\": \"table\"}]}, \"layout\": {\"annotationdefaults\": {\"arrowcolor\": \"#2a3f5f\", \"arrowhead\": 0, \"arrowwidth\": 1}, \"coloraxis\": {\"colorbar\": {\"outlinewidth\": 0, \"ticks\": \"\"}}, \"colorscale\": {\"diverging\": [[0, \"#8e0152\"], [0.1, \"#c51b7d\"], [0.2, \"#de77ae\"], [0.3, \"#f1b6da\"], [0.4, \"#fde0ef\"], [0.5, \"#f7f7f7\"], [0.6, \"#e6f5d0\"], [0.7, \"#b8e186\"], [0.8, \"#7fbc41\"], [0.9, \"#4d9221\"], [1, \"#276419\"]], \"sequential\": [[0.0, \"#0d0887\"], [0.1111111111111111, \"#46039f\"], [0.2222222222222222, \"#7201a8\"], [0.3333333333333333, \"#9c179e\"], [0.4444444444444444, \"#bd3786\"], [0.5555555555555556, \"#d8576b\"], [0.6666666666666666, \"#ed7953\"], [0.7777777777777778, \"#fb9f3a\"], [0.8888888888888888, \"#fdca26\"], [1.0, \"#f0f921\"]], \"sequentialminus\": [[0.0, \"#0d0887\"], [0.1111111111111111, \"#46039f\"], [0.2222222222222222, \"#7201a8\"], [0.3333333333333333, \"#9c179e\"], [0.4444444444444444, \"#bd3786\"], [0.5555555555555556, \"#d8576b\"], [0.6666666666666666, \"#ed7953\"], [0.7777777777777778, \"#fb9f3a\"], [0.8888888888888888, \"#fdca26\"], [1.0, \"#f0f921\"]]}, \"colorway\": [\"#636efa\", \"#EF553B\", \"#00cc96\", \"#ab63fa\", \"#FFA15A\", \"#19d3f3\", \"#FF6692\", \"#B6E880\", \"#FF97FF\", \"#FECB52\"], \"font\": {\"color\": \"#2a3f5f\"}, \"geo\": {\"bgcolor\": \"white\", \"lakecolor\": \"white\", \"landcolor\": \"#E5ECF6\", \"showlakes\": true, \"showland\": true, \"subunitcolor\": \"white\"}, \"hoverlabel\": {\"align\": \"left\"}, \"hovermode\": \"closest\", \"mapbox\": {\"style\": \"light\"}, \"paper_bgcolor\": \"white\", \"plot_bgcolor\": \"#E5ECF6\", \"polar\": {\"angularaxis\": {\"gridcolor\": \"white\", \"linecolor\": \"white\", \"ticks\": \"\"}, \"bgcolor\": \"#E5ECF6\", \"radialaxis\": {\"gridcolor\": \"white\", \"linecolor\": \"white\", \"ticks\": \"\"}}, \"scene\": {\"xaxis\": {\"backgroundcolor\": \"#E5ECF6\", \"gridcolor\": \"white\", \"gridwidth\": 2, \"linecolor\": \"white\", \"showbackground\": true, \"ticks\": \"\", \"zerolinecolor\": \"white\"}, \"yaxis\": {\"backgroundcolor\": \"#E5ECF6\", \"gridcolor\": \"white\", \"gridwidth\": 2, \"linecolor\": \"white\", \"showbackground\": true, \"ticks\": \"\", \"zerolinecolor\": \"white\"}, \"zaxis\": {\"backgroundcolor\": \"#E5ECF6\", \"gridcolor\": \"white\", \"gridwidth\": 2, \"linecolor\": \"white\", \"showbackground\": true, \"ticks\": \"\", \"zerolinecolor\": \"white\"}}, \"shapedefaults\": {\"line\": {\"color\": \"#2a3f5f\"}}, \"ternary\": {\"aaxis\": {\"gridcolor\": \"white\", \"linecolor\": \"white\", \"ticks\": \"\"}, \"baxis\": {\"gridcolor\": \"white\", \"linecolor\": \"white\", \"ticks\": \"\"}, \"bgcolor\": \"#E5ECF6\", \"caxis\": {\"gridcolor\": \"white\", \"linecolor\": \"white\", \"ticks\": \"\"}}, \"title\": {\"x\": 0.05}, \"xaxis\": {\"automargin\": true, \"gridcolor\": \"white\", \"linecolor\": \"white\", \"ticks\": \"\", \"title\": {\"standoff\": 15}, \"zerolinecolor\": \"white\", \"zerolinewidth\": 2}, \"yaxis\": {\"automargin\": true, \"gridcolor\": \"white\", \"linecolor\": \"white\", \"ticks\": \"\", \"title\": {\"standoff\": 15}, \"zerolinecolor\": \"white\", \"zerolinewidth\": 2}}}, \"title\": {\"font\": {\"color\": \"#4D5663\"}}, \"xaxis\": {\"gridcolor\": \"#E1E5ED\", \"showgrid\": true, \"tickfont\": {\"color\": \"#4D5663\"}, \"title\": {\"font\": {\"color\": \"#4D5663\"}, \"text\": \"\"}, \"zerolinecolor\": \"#E1E5ED\"}, \"yaxis\": {\"gridcolor\": \"#E1E5ED\", \"showgrid\": true, \"tickfont\": {\"color\": \"#4D5663\"}, \"title\": {\"font\": {\"color\": \"#4D5663\"}, \"text\": \"\"}, \"zerolinecolor\": \"#E1E5ED\"}},                        {\"showLink\": true, \"linkText\": \"Export to plot.ly\", \"plotlyServerURL\": \"https://plot.ly\", \"responsive\": true}                    ).then(function(){\n",
       "                            \n",
       "var gd = document.getElementById('8e064ef1-63f4-4765-9de2-6c7870557501');\n",
       "var x = new MutationObserver(function (mutations, observer) {{\n",
       "        var display = window.getComputedStyle(gd).display;\n",
       "        if (!display || display === 'none') {{\n",
       "            console.log([gd, 'removed!']);\n",
       "            Plotly.purge(gd);\n",
       "            observer.disconnect();\n",
       "        }}\n",
       "}});\n",
       "\n",
       "// Listen for the removal of the full notebook cells\n",
       "var notebookContainer = gd.closest('#notebook-container');\n",
       "if (notebookContainer) {{\n",
       "    x.observe(notebookContainer, {childList: true});\n",
       "}}\n",
       "\n",
       "// Listen for the clearing of the current output cell\n",
       "var outputEl = gd.closest('.output');\n",
       "if (outputEl) {{\n",
       "    x.observe(outputEl, {childList: true});\n",
       "}}\n",
       "\n",
       "                        })                };                });            </script>        </div>"
      ]
     },
     "metadata": {},
     "output_type": "display_data"
    }
   ],
   "source": [
    "df.iplot(kind='bubble',x='A',y='B',size='C')"
   ]
  },
  {
   "cell_type": "markdown",
   "metadata": {
    "id": "WzCkm_6lbxwc"
   },
   "source": [
    "## scatter_matrix()\n",
    "\n",
    "Similar to sns.pairplot()"
   ]
  },
  {
   "cell_type": "code",
   "execution_count": 42,
   "metadata": {
    "id": "OWctyzG1bxwd",
    "outputId": "888b3b4e-51cd-4daa-826d-dceca8d09b80"
   },
   "outputs": [
    {
     "data": {
      "application/vnd.plotly.v1+json": {
       "config": {
        "linkText": "Export to plot.ly",
        "plotlyServerURL": "https://plot.ly",
        "showLink": true
       },
       "data": [
        {
         "histfunc": "count",
         "histnorm": "",
         "marker": {
          "color": "rgba(255, 153, 51, 1.0)",
          "line": {
           "color": "#4D5663",
           "width": 1.3
          }
         },
         "name": "A",
         "nbinsx": 10,
         "opacity": 0.8,
         "orientation": "v",
         "type": "histogram",
         "x": [
          2.3050789463764794,
          -0.34544828836374125,
          -1.67491216027255,
          1.207318891717801,
          1.406343778561469,
          -1.112345759784398,
          0.9446789832334939,
          -0.38728675731145373,
          1.3079689084749777,
          -1.8069718036199587,
          0.18825627165035458,
          0.7147828258451806,
          0.44192463870483806,
          -0.49552350971023745,
          -0.322800551035353,
          -0.47433961294441596,
          0.1690883770206803,
          1.2017852529943827,
          -0.1647321336067996,
          -2.3955741265632238,
          -1.4758945487582762,
          0.962445834012295,
          0.6653252839778693,
          -0.41880202344092315,
          0.04627068636022785,
          -1.5185646666381192,
          -1.9938509523173815,
          -0.02240060509745099,
          1.1809831611785004,
          1.8801658934707632,
          1.0292593510337478,
          0.5949117331367149,
          -1.4514506277441748,
          -0.42502646313780856,
          -0.5797899821504993,
          -0.3581390966891277,
          -0.11892770450618409,
          1.0926209083884437,
          0.7050466192122445,
          1.2375172874906153,
          1.4072020975357857,
          0.1575926374578665,
          0.09396028076688108,
          0.14998003245337374,
          1.0006464685965815,
          0.33651897865653907,
          -0.10778939786155453,
          1.7762185531905517,
          0.2433230426333405,
          0.6573414720203437,
          1.4987623651774449,
          0.49100570061636384,
          1.2227945124611799,
          2.0356825538745524,
          0.8960277472124333,
          1.36131627749611,
          -0.01900927284926094,
          -1.123782384244974,
          1.2024407293884816,
          1.7533041101596796,
          2.620102735759663,
          -0.9243960301190819,
          -0.9071010052827692,
          0.7084815208490741,
          -1.0164586395797204,
          -0.9726287488168607,
          -2.0757409191988963,
          -0.4056514932145701,
          -0.4481169032862055,
          0.2999481669822941,
          0.19005409313068863,
          0.20944993347497673,
          1.8535331783127982,
          0.10833367793192912,
          0.9909118192752894,
          -0.18072276264957435,
          -0.27175596496885357,
          -0.3472891841078953,
          -1.3499379537122178,
          -0.24361265423740075,
          0.1823942082455205,
          -0.11683434885062603,
          -1.9611819118675928,
          -0.10124747971168387,
          -0.749519554450631,
          -0.17063962763320573,
          -1.2924000897834025,
          -1.6363561634291774,
          0.31683188489615605,
          0.6767344738274852,
          -1.0561931295586227,
          -2.0631652991243787,
          -1.0225199848753768,
          -1.2074155289643396,
          -0.8839567228513001,
          -0.8159284734528616,
          0.6274816714657359,
          0.9671930475443826,
          -0.27905397820525646,
          -0.9770832801408772
         ],
         "xaxis": "x",
         "yaxis": "y"
        },
        {
         "line": {
          "color": "rgba(128, 128, 128, 1.0)",
          "dash": "solid",
          "shape": "linear",
          "width": 1.3
         },
         "marker": {
          "size": 2,
          "symbol": "circle"
         },
         "mode": "markers",
         "name": "A",
         "text": "",
         "type": "scatter",
         "x": [
          1.4564807911980027,
          -0.5614415874815344,
          0.7690489749287509,
          1.0745673115894976,
          -0.271650350545234,
          -0.20417947351171928,
          -1.5365217665036148,
          0.5271922043293188,
          -1.486583190597354,
          -1.5334484919941673,
          0.18382394706883978,
          0.1344370782872019,
          1.89905090532156,
          0.6202785332919339,
          -0.45664038843023563,
          1.963126990847653,
          1.9369875383030903,
          1.0315771467695134,
          -0.3453335682768677,
          0.419546447142365,
          -1.225897365627275,
          -1.0887921399676082,
          -0.21263698997725416,
          0.7718171320935325,
          0.44145428919101193,
          -0.8468114640841646,
          0.8526936191566775,
          -0.969355231696488,
          1.5408969327530821,
          -0.04465803887874416,
          -1.0342638822781325,
          0.6075784794307824,
          0.020845455399087748,
          -0.07959203078638698,
          -1.2885327382950438,
          -0.5858261320243598,
          0.2784538175232755,
          0.4716251609013261,
          0.007586918494829923,
          -1.2311721843538845,
          2.263014081539277,
          -0.9445712149750263,
          -0.7801126734963407,
          -0.006307163966420759,
          0.19209429370631423,
          1.4849821222922432,
          -0.402824407169826,
          -0.1535552795197902,
          -0.45306006334156884,
          0.2723494038368278,
          -0.6969797568377994,
          1.3148469312491482,
          -0.4400678278705646,
          -0.5226856061207958,
          -1.2685087511392623,
          -0.7121002063687039,
          0.4922848868566591,
          1.4080506928339986,
          -0.6740640131990668,
          0.47859781454993217,
          0.10407954693386935,
          -0.09125617817861699,
          -1.3627903947738937,
          -1.280305454707673,
          1.0676149669634278,
          0.10098596940395344,
          0.3087197869344185,
          0.3416669711946196,
          -0.2456850602506728,
          -0.8054522753423443,
          -0.3581753964308596,
          1.2538718650534761,
          1.5812764633116267,
          -1.2869964689617,
          0.5134159053161619,
          1.0984181861336495,
          -0.939853681439602,
          -0.7874505356156805,
          -0.5251233813470253,
          1.426548881182392,
          0.07011129375683395,
          0.3043731808315209,
          1.3453342775245516,
          0.8797891435530668,
          0.08819796782327056,
          0.7785641262132776,
          -0.32251783943947593,
          -1.103603729843237,
          1.561003488139711,
          -0.8993481124743095,
          2.527656223510702,
          -0.035756115285384076,
          2.32755828482868,
          0.8455828949792558,
          1.4395208708887242,
          -0.13261587328217128,
          0.9653423868237719,
          -1.5985346969508438,
          -0.9772914721691849,
          0.6427378710046866
         ],
         "xaxis": "x2",
         "y": [
          2.3050789463764794,
          -0.34544828836374125,
          -1.67491216027255,
          1.207318891717801,
          1.406343778561469,
          -1.112345759784398,
          0.9446789832334939,
          -0.38728675731145373,
          1.3079689084749777,
          -1.8069718036199587,
          0.18825627165035458,
          0.7147828258451806,
          0.44192463870483806,
          -0.49552350971023745,
          -0.322800551035353,
          -0.47433961294441596,
          0.1690883770206803,
          1.2017852529943827,
          -0.1647321336067996,
          -2.3955741265632238,
          -1.4758945487582762,
          0.962445834012295,
          0.6653252839778693,
          -0.41880202344092315,
          0.04627068636022785,
          -1.5185646666381192,
          -1.9938509523173815,
          -0.02240060509745099,
          1.1809831611785004,
          1.8801658934707632,
          1.0292593510337478,
          0.5949117331367149,
          -1.4514506277441748,
          -0.42502646313780856,
          -0.5797899821504993,
          -0.3581390966891277,
          -0.11892770450618409,
          1.0926209083884437,
          0.7050466192122445,
          1.2375172874906153,
          1.4072020975357857,
          0.1575926374578665,
          0.09396028076688108,
          0.14998003245337374,
          1.0006464685965815,
          0.33651897865653907,
          -0.10778939786155453,
          1.7762185531905517,
          0.2433230426333405,
          0.6573414720203437,
          1.4987623651774449,
          0.49100570061636384,
          1.2227945124611799,
          2.0356825538745524,
          0.8960277472124333,
          1.36131627749611,
          -0.01900927284926094,
          -1.123782384244974,
          1.2024407293884816,
          1.7533041101596796,
          2.620102735759663,
          -0.9243960301190819,
          -0.9071010052827692,
          0.7084815208490741,
          -1.0164586395797204,
          -0.9726287488168607,
          -2.0757409191988963,
          -0.4056514932145701,
          -0.4481169032862055,
          0.2999481669822941,
          0.19005409313068863,
          0.20944993347497673,
          1.8535331783127982,
          0.10833367793192912,
          0.9909118192752894,
          -0.18072276264957435,
          -0.27175596496885357,
          -0.3472891841078953,
          -1.3499379537122178,
          -0.24361265423740075,
          0.1823942082455205,
          -0.11683434885062603,
          -1.9611819118675928,
          -0.10124747971168387,
          -0.749519554450631,
          -0.17063962763320573,
          -1.2924000897834025,
          -1.6363561634291774,
          0.31683188489615605,
          0.6767344738274852,
          -1.0561931295586227,
          -2.0631652991243787,
          -1.0225199848753768,
          -1.2074155289643396,
          -0.8839567228513001,
          -0.8159284734528616,
          0.6274816714657359,
          0.9671930475443826,
          -0.27905397820525646,
          -0.9770832801408772
         ],
         "yaxis": "y2"
        },
        {
         "line": {
          "color": "rgba(128, 128, 128, 1.0)",
          "dash": "solid",
          "shape": "linear",
          "width": 1.3
         },
         "marker": {
          "size": 2,
          "symbol": "circle"
         },
         "mode": "markers",
         "name": "A",
         "text": "",
         "type": "scatter",
         "x": [
          -1.0414728897711043,
          -2.4987006337049427,
          -1.7405625562342926,
          0.7807465485246431,
          0.28696749890926176,
          0.3363917430252014,
          1.293532558358908,
          0.1665194695042929,
          1.2360927636981422,
          -1.2564294093066566,
          1.2563769793990662,
          -0.7363214218721139,
          0.24426512556462346,
          -0.11970512182658005,
          1.4677478735443614,
          1.0647201557032324,
          -0.45187302257846534,
          0.653678868083953,
          -1.5907134807199985,
          -1.277732744505322,
          -0.7228632863713857,
          0.7172278823394252,
          -1.965459613280281,
          0.286972183094621,
          0.907355772897085,
          0.5998967596872434,
          0.5651197404402956,
          -1.0859124022080506,
          -1.5773190091059082,
          1.1157090318556244,
          -0.06785848898904057,
          1.0984784868393382,
          0.7813197529628041,
          0.48810393395852364,
          -0.17708026291624845,
          0.14629573582432567,
          -0.11493238419180425,
          0.44331295229358997,
          0.20136428167932743,
          -0.019043969415183784,
          1.1678372009338673,
          -1.3483861691724721,
          -0.7588281414384854,
          -1.8578532286983487,
          -0.7444082117778972,
          -1.0092091832703185,
          -1.3889162965474495,
          -0.5371878391790263,
          -1.4361023025838564,
          0.7229130593162181,
          -0.7199255425887895,
          -0.30998165984331827,
          0.6114310600050571,
          0.7969940652634873,
          0.6989867534379552,
          0.7715048258999205,
          0.9559915679786413,
          -1.388943101110845,
          -1.1933157339805522,
          0.03930509746200616,
          1.4075249287877474,
          -0.31334032917702986,
          -0.6561559716404194,
          -0.9588235530918053,
          0.007003808306168607,
          -2.2882431550424704,
          0.5874340245739881,
          -1.2836564652794462,
          -0.6128829960450962,
          -0.6384337306448875,
          -0.7473031588310945,
          0.8329215554230448,
          -0.0014366113415588348,
          1.12889882070921,
          -0.6263450347390124,
          -0.15207317744954088,
          -0.34889044161686383,
          1.6308397019642658,
          0.35697692349751,
          -0.11009491880760186,
          0.8975216642444559,
          2.1933943747515614,
          1.88500555603819,
          -0.060286786408807254,
          -0.12427068027435265,
          1.4104620063591755,
          -0.6422684116873881,
          0.6854913943508008,
          1.1785110035923059,
          -0.16773448800986715,
          0.38472630846110245,
          0.36702394044670406,
          -2.408159159994002,
          -0.7380395276178535,
          1.304615893104272,
          1.187080311936938,
          -0.15224202616043214,
          0.4098386402951023,
          0.6487386974994944,
          1.081403143428471
         ],
         "xaxis": "x3",
         "y": [
          2.3050789463764794,
          -0.34544828836374125,
          -1.67491216027255,
          1.207318891717801,
          1.406343778561469,
          -1.112345759784398,
          0.9446789832334939,
          -0.38728675731145373,
          1.3079689084749777,
          -1.8069718036199587,
          0.18825627165035458,
          0.7147828258451806,
          0.44192463870483806,
          -0.49552350971023745,
          -0.322800551035353,
          -0.47433961294441596,
          0.1690883770206803,
          1.2017852529943827,
          -0.1647321336067996,
          -2.3955741265632238,
          -1.4758945487582762,
          0.962445834012295,
          0.6653252839778693,
          -0.41880202344092315,
          0.04627068636022785,
          -1.5185646666381192,
          -1.9938509523173815,
          -0.02240060509745099,
          1.1809831611785004,
          1.8801658934707632,
          1.0292593510337478,
          0.5949117331367149,
          -1.4514506277441748,
          -0.42502646313780856,
          -0.5797899821504993,
          -0.3581390966891277,
          -0.11892770450618409,
          1.0926209083884437,
          0.7050466192122445,
          1.2375172874906153,
          1.4072020975357857,
          0.1575926374578665,
          0.09396028076688108,
          0.14998003245337374,
          1.0006464685965815,
          0.33651897865653907,
          -0.10778939786155453,
          1.7762185531905517,
          0.2433230426333405,
          0.6573414720203437,
          1.4987623651774449,
          0.49100570061636384,
          1.2227945124611799,
          2.0356825538745524,
          0.8960277472124333,
          1.36131627749611,
          -0.01900927284926094,
          -1.123782384244974,
          1.2024407293884816,
          1.7533041101596796,
          2.620102735759663,
          -0.9243960301190819,
          -0.9071010052827692,
          0.7084815208490741,
          -1.0164586395797204,
          -0.9726287488168607,
          -2.0757409191988963,
          -0.4056514932145701,
          -0.4481169032862055,
          0.2999481669822941,
          0.19005409313068863,
          0.20944993347497673,
          1.8535331783127982,
          0.10833367793192912,
          0.9909118192752894,
          -0.18072276264957435,
          -0.27175596496885357,
          -0.3472891841078953,
          -1.3499379537122178,
          -0.24361265423740075,
          0.1823942082455205,
          -0.11683434885062603,
          -1.9611819118675928,
          -0.10124747971168387,
          -0.749519554450631,
          -0.17063962763320573,
          -1.2924000897834025,
          -1.6363561634291774,
          0.31683188489615605,
          0.6767344738274852,
          -1.0561931295586227,
          -2.0631652991243787,
          -1.0225199848753768,
          -1.2074155289643396,
          -0.8839567228513001,
          -0.8159284734528616,
          0.6274816714657359,
          0.9671930475443826,
          -0.27905397820525646,
          -0.9770832801408772
         ],
         "yaxis": "y3"
        },
        {
         "line": {
          "color": "rgba(128, 128, 128, 1.0)",
          "dash": "solid",
          "shape": "linear",
          "width": 1.3
         },
         "marker": {
          "size": 2,
          "symbol": "circle"
         },
         "mode": "markers",
         "name": "A",
         "text": "",
         "type": "scatter",
         "x": [
          -2.650812997314717,
          -0.311803005933188,
          0.5234053003502719,
          -1.1370049341208008,
          1.785947315671499,
          0.09836375440051173,
          -1.49973660026947,
          0.6840064709496927,
          -0.29337150802113277,
          -0.2492993835514884,
          -0.2452004782750859,
          0.7453097427990474,
          0.46382336176975625,
          0.14690685645880708,
          1.658889165267742,
          -1.5119993487990275,
          0.45330904405195466,
          -1.6403546564341527,
          0.2252746294380069,
          2.0287963385526178,
          -0.566046123755891,
          0.448211178778663,
          -1.8506720916351953,
          -0.042595144127149306,
          -0.08206156409590681,
          0.9445911772581148,
          0.4361661575564618,
          2.9626678910230035,
          0.7178948825887508,
          0.39177457468797705,
          1.5350778646164982,
          -0.16204914164458326,
          -0.26327624177704206,
          1.9362232339556251,
          1.470902854898459,
          -1.3164221749124145,
          1.5042128521943556,
          -0.5525791281329449,
          0.8730099647445734,
          0.20946417573364837,
          -0.6288275527653823,
          0.5794005820262775,
          -1.2425977976467448,
          -1.4518619763805094,
          2.299083454990828,
          -1.690325676193857,
          -2.4398802478119537,
          1.0090783405534172,
          0.9699967438449757,
          -0.21462755564471853,
          -0.42668066402267263,
          -0.23114341508506436,
          1.5878263873553595,
          1.1974923701274496,
          -0.6328802911920552,
          -0.115689071673373,
          -1.5659625465829852,
          -1.7039208968111301,
          -0.3828743631970665,
          0.5533231160499545,
          0.041511676904158946,
          1.0910109735200546,
          -1.513318971862418,
          1.5973851901395408,
          0.7633726790710887,
          -0.2852253714361112,
          -0.19098469827365344,
          0.07558426108686768,
          1.374003041243804,
          0.6520549544554999,
          -1.5669714988794585,
          0.4982460397601832,
          1.3734024216590928,
          1.0223216631378484,
          -0.9776227762824543,
          0.19719940143862155,
          0.3845888157721083,
          -0.8260134162166382,
          1.5800598722242059,
          -0.7555635387878384,
          -2.8840612108842882,
          0.6200362228783207,
          0.5282222199839804,
          -0.21536613709856278,
          -0.39191915436692076,
          0.2804700919368603,
          1.7476967130053918,
          -0.016109583924299856,
          -0.8780920316098697,
          -0.2110077017324482,
          1.4053406740461782,
          0.8268885442630262,
          0.756069351921896,
          -2.0379589159741074,
          -0.6551719112574574,
          -2.441510348937944,
          0.9514195156737354,
          0.32980494191058835,
          -0.5695516056060412,
          -1.056582768713903
         ],
         "xaxis": "x4",
         "y": [
          2.3050789463764794,
          -0.34544828836374125,
          -1.67491216027255,
          1.207318891717801,
          1.406343778561469,
          -1.112345759784398,
          0.9446789832334939,
          -0.38728675731145373,
          1.3079689084749777,
          -1.8069718036199587,
          0.18825627165035458,
          0.7147828258451806,
          0.44192463870483806,
          -0.49552350971023745,
          -0.322800551035353,
          -0.47433961294441596,
          0.1690883770206803,
          1.2017852529943827,
          -0.1647321336067996,
          -2.3955741265632238,
          -1.4758945487582762,
          0.962445834012295,
          0.6653252839778693,
          -0.41880202344092315,
          0.04627068636022785,
          -1.5185646666381192,
          -1.9938509523173815,
          -0.02240060509745099,
          1.1809831611785004,
          1.8801658934707632,
          1.0292593510337478,
          0.5949117331367149,
          -1.4514506277441748,
          -0.42502646313780856,
          -0.5797899821504993,
          -0.3581390966891277,
          -0.11892770450618409,
          1.0926209083884437,
          0.7050466192122445,
          1.2375172874906153,
          1.4072020975357857,
          0.1575926374578665,
          0.09396028076688108,
          0.14998003245337374,
          1.0006464685965815,
          0.33651897865653907,
          -0.10778939786155453,
          1.7762185531905517,
          0.2433230426333405,
          0.6573414720203437,
          1.4987623651774449,
          0.49100570061636384,
          1.2227945124611799,
          2.0356825538745524,
          0.8960277472124333,
          1.36131627749611,
          -0.01900927284926094,
          -1.123782384244974,
          1.2024407293884816,
          1.7533041101596796,
          2.620102735759663,
          -0.9243960301190819,
          -0.9071010052827692,
          0.7084815208490741,
          -1.0164586395797204,
          -0.9726287488168607,
          -2.0757409191988963,
          -0.4056514932145701,
          -0.4481169032862055,
          0.2999481669822941,
          0.19005409313068863,
          0.20944993347497673,
          1.8535331783127982,
          0.10833367793192912,
          0.9909118192752894,
          -0.18072276264957435,
          -0.27175596496885357,
          -0.3472891841078953,
          -1.3499379537122178,
          -0.24361265423740075,
          0.1823942082455205,
          -0.11683434885062603,
          -1.9611819118675928,
          -0.10124747971168387,
          -0.749519554450631,
          -0.17063962763320573,
          -1.2924000897834025,
          -1.6363561634291774,
          0.31683188489615605,
          0.6767344738274852,
          -1.0561931295586227,
          -2.0631652991243787,
          -1.0225199848753768,
          -1.2074155289643396,
          -0.8839567228513001,
          -0.8159284734528616,
          0.6274816714657359,
          0.9671930475443826,
          -0.27905397820525646,
          -0.9770832801408772
         ],
         "yaxis": "y4"
        },
        {
         "line": {
          "color": "rgba(128, 128, 128, 1.0)",
          "dash": "solid",
          "shape": "linear",
          "width": 1.3
         },
         "marker": {
          "size": 2,
          "symbol": "circle"
         },
         "mode": "markers",
         "name": "B",
         "text": "",
         "type": "scatter",
         "x": [
          2.3050789463764794,
          -0.34544828836374125,
          -1.67491216027255,
          1.207318891717801,
          1.406343778561469,
          -1.112345759784398,
          0.9446789832334939,
          -0.38728675731145373,
          1.3079689084749777,
          -1.8069718036199587,
          0.18825627165035458,
          0.7147828258451806,
          0.44192463870483806,
          -0.49552350971023745,
          -0.322800551035353,
          -0.47433961294441596,
          0.1690883770206803,
          1.2017852529943827,
          -0.1647321336067996,
          -2.3955741265632238,
          -1.4758945487582762,
          0.962445834012295,
          0.6653252839778693,
          -0.41880202344092315,
          0.04627068636022785,
          -1.5185646666381192,
          -1.9938509523173815,
          -0.02240060509745099,
          1.1809831611785004,
          1.8801658934707632,
          1.0292593510337478,
          0.5949117331367149,
          -1.4514506277441748,
          -0.42502646313780856,
          -0.5797899821504993,
          -0.3581390966891277,
          -0.11892770450618409,
          1.0926209083884437,
          0.7050466192122445,
          1.2375172874906153,
          1.4072020975357857,
          0.1575926374578665,
          0.09396028076688108,
          0.14998003245337374,
          1.0006464685965815,
          0.33651897865653907,
          -0.10778939786155453,
          1.7762185531905517,
          0.2433230426333405,
          0.6573414720203437,
          1.4987623651774449,
          0.49100570061636384,
          1.2227945124611799,
          2.0356825538745524,
          0.8960277472124333,
          1.36131627749611,
          -0.01900927284926094,
          -1.123782384244974,
          1.2024407293884816,
          1.7533041101596796,
          2.620102735759663,
          -0.9243960301190819,
          -0.9071010052827692,
          0.7084815208490741,
          -1.0164586395797204,
          -0.9726287488168607,
          -2.0757409191988963,
          -0.4056514932145701,
          -0.4481169032862055,
          0.2999481669822941,
          0.19005409313068863,
          0.20944993347497673,
          1.8535331783127982,
          0.10833367793192912,
          0.9909118192752894,
          -0.18072276264957435,
          -0.27175596496885357,
          -0.3472891841078953,
          -1.3499379537122178,
          -0.24361265423740075,
          0.1823942082455205,
          -0.11683434885062603,
          -1.9611819118675928,
          -0.10124747971168387,
          -0.749519554450631,
          -0.17063962763320573,
          -1.2924000897834025,
          -1.6363561634291774,
          0.31683188489615605,
          0.6767344738274852,
          -1.0561931295586227,
          -2.0631652991243787,
          -1.0225199848753768,
          -1.2074155289643396,
          -0.8839567228513001,
          -0.8159284734528616,
          0.6274816714657359,
          0.9671930475443826,
          -0.27905397820525646,
          -0.9770832801408772
         ],
         "xaxis": "x5",
         "y": [
          1.4564807911980027,
          -0.5614415874815344,
          0.7690489749287509,
          1.0745673115894976,
          -0.271650350545234,
          -0.20417947351171928,
          -1.5365217665036148,
          0.5271922043293188,
          -1.486583190597354,
          -1.5334484919941673,
          0.18382394706883978,
          0.1344370782872019,
          1.89905090532156,
          0.6202785332919339,
          -0.45664038843023563,
          1.963126990847653,
          1.9369875383030903,
          1.0315771467695134,
          -0.3453335682768677,
          0.419546447142365,
          -1.225897365627275,
          -1.0887921399676082,
          -0.21263698997725416,
          0.7718171320935325,
          0.44145428919101193,
          -0.8468114640841646,
          0.8526936191566775,
          -0.969355231696488,
          1.5408969327530821,
          -0.04465803887874416,
          -1.0342638822781325,
          0.6075784794307824,
          0.020845455399087748,
          -0.07959203078638698,
          -1.2885327382950438,
          -0.5858261320243598,
          0.2784538175232755,
          0.4716251609013261,
          0.007586918494829923,
          -1.2311721843538845,
          2.263014081539277,
          -0.9445712149750263,
          -0.7801126734963407,
          -0.006307163966420759,
          0.19209429370631423,
          1.4849821222922432,
          -0.402824407169826,
          -0.1535552795197902,
          -0.45306006334156884,
          0.2723494038368278,
          -0.6969797568377994,
          1.3148469312491482,
          -0.4400678278705646,
          -0.5226856061207958,
          -1.2685087511392623,
          -0.7121002063687039,
          0.4922848868566591,
          1.4080506928339986,
          -0.6740640131990668,
          0.47859781454993217,
          0.10407954693386935,
          -0.09125617817861699,
          -1.3627903947738937,
          -1.280305454707673,
          1.0676149669634278,
          0.10098596940395344,
          0.3087197869344185,
          0.3416669711946196,
          -0.2456850602506728,
          -0.8054522753423443,
          -0.3581753964308596,
          1.2538718650534761,
          1.5812764633116267,
          -1.2869964689617,
          0.5134159053161619,
          1.0984181861336495,
          -0.939853681439602,
          -0.7874505356156805,
          -0.5251233813470253,
          1.426548881182392,
          0.07011129375683395,
          0.3043731808315209,
          1.3453342775245516,
          0.8797891435530668,
          0.08819796782327056,
          0.7785641262132776,
          -0.32251783943947593,
          -1.103603729843237,
          1.561003488139711,
          -0.8993481124743095,
          2.527656223510702,
          -0.035756115285384076,
          2.32755828482868,
          0.8455828949792558,
          1.4395208708887242,
          -0.13261587328217128,
          0.9653423868237719,
          -1.5985346969508438,
          -0.9772914721691849,
          0.6427378710046866
         ],
         "yaxis": "y5"
        },
        {
         "histfunc": "count",
         "histnorm": "",
         "marker": {
          "color": "rgba(55, 128, 191, 1.0)",
          "line": {
           "color": "#4D5663",
           "width": 1.3
          }
         },
         "name": "B",
         "nbinsx": 10,
         "opacity": 0.8,
         "orientation": "v",
         "type": "histogram",
         "x": [
          1.4564807911980027,
          -0.5614415874815344,
          0.7690489749287509,
          1.0745673115894976,
          -0.271650350545234,
          -0.20417947351171928,
          -1.5365217665036148,
          0.5271922043293188,
          -1.486583190597354,
          -1.5334484919941673,
          0.18382394706883978,
          0.1344370782872019,
          1.89905090532156,
          0.6202785332919339,
          -0.45664038843023563,
          1.963126990847653,
          1.9369875383030903,
          1.0315771467695134,
          -0.3453335682768677,
          0.419546447142365,
          -1.225897365627275,
          -1.0887921399676082,
          -0.21263698997725416,
          0.7718171320935325,
          0.44145428919101193,
          -0.8468114640841646,
          0.8526936191566775,
          -0.969355231696488,
          1.5408969327530821,
          -0.04465803887874416,
          -1.0342638822781325,
          0.6075784794307824,
          0.020845455399087748,
          -0.07959203078638698,
          -1.2885327382950438,
          -0.5858261320243598,
          0.2784538175232755,
          0.4716251609013261,
          0.007586918494829923,
          -1.2311721843538845,
          2.263014081539277,
          -0.9445712149750263,
          -0.7801126734963407,
          -0.006307163966420759,
          0.19209429370631423,
          1.4849821222922432,
          -0.402824407169826,
          -0.1535552795197902,
          -0.45306006334156884,
          0.2723494038368278,
          -0.6969797568377994,
          1.3148469312491482,
          -0.4400678278705646,
          -0.5226856061207958,
          -1.2685087511392623,
          -0.7121002063687039,
          0.4922848868566591,
          1.4080506928339986,
          -0.6740640131990668,
          0.47859781454993217,
          0.10407954693386935,
          -0.09125617817861699,
          -1.3627903947738937,
          -1.280305454707673,
          1.0676149669634278,
          0.10098596940395344,
          0.3087197869344185,
          0.3416669711946196,
          -0.2456850602506728,
          -0.8054522753423443,
          -0.3581753964308596,
          1.2538718650534761,
          1.5812764633116267,
          -1.2869964689617,
          0.5134159053161619,
          1.0984181861336495,
          -0.939853681439602,
          -0.7874505356156805,
          -0.5251233813470253,
          1.426548881182392,
          0.07011129375683395,
          0.3043731808315209,
          1.3453342775245516,
          0.8797891435530668,
          0.08819796782327056,
          0.7785641262132776,
          -0.32251783943947593,
          -1.103603729843237,
          1.561003488139711,
          -0.8993481124743095,
          2.527656223510702,
          -0.035756115285384076,
          2.32755828482868,
          0.8455828949792558,
          1.4395208708887242,
          -0.13261587328217128,
          0.9653423868237719,
          -1.5985346969508438,
          -0.9772914721691849,
          0.6427378710046866
         ],
         "xaxis": "x6",
         "yaxis": "y6"
        },
        {
         "line": {
          "color": "rgba(128, 128, 128, 1.0)",
          "dash": "solid",
          "shape": "linear",
          "width": 1.3
         },
         "marker": {
          "size": 2,
          "symbol": "circle"
         },
         "mode": "markers",
         "name": "B",
         "text": "",
         "type": "scatter",
         "x": [
          -1.0414728897711043,
          -2.4987006337049427,
          -1.7405625562342926,
          0.7807465485246431,
          0.28696749890926176,
          0.3363917430252014,
          1.293532558358908,
          0.1665194695042929,
          1.2360927636981422,
          -1.2564294093066566,
          1.2563769793990662,
          -0.7363214218721139,
          0.24426512556462346,
          -0.11970512182658005,
          1.4677478735443614,
          1.0647201557032324,
          -0.45187302257846534,
          0.653678868083953,
          -1.5907134807199985,
          -1.277732744505322,
          -0.7228632863713857,
          0.7172278823394252,
          -1.965459613280281,
          0.286972183094621,
          0.907355772897085,
          0.5998967596872434,
          0.5651197404402956,
          -1.0859124022080506,
          -1.5773190091059082,
          1.1157090318556244,
          -0.06785848898904057,
          1.0984784868393382,
          0.7813197529628041,
          0.48810393395852364,
          -0.17708026291624845,
          0.14629573582432567,
          -0.11493238419180425,
          0.44331295229358997,
          0.20136428167932743,
          -0.019043969415183784,
          1.1678372009338673,
          -1.3483861691724721,
          -0.7588281414384854,
          -1.8578532286983487,
          -0.7444082117778972,
          -1.0092091832703185,
          -1.3889162965474495,
          -0.5371878391790263,
          -1.4361023025838564,
          0.7229130593162181,
          -0.7199255425887895,
          -0.30998165984331827,
          0.6114310600050571,
          0.7969940652634873,
          0.6989867534379552,
          0.7715048258999205,
          0.9559915679786413,
          -1.388943101110845,
          -1.1933157339805522,
          0.03930509746200616,
          1.4075249287877474,
          -0.31334032917702986,
          -0.6561559716404194,
          -0.9588235530918053,
          0.007003808306168607,
          -2.2882431550424704,
          0.5874340245739881,
          -1.2836564652794462,
          -0.6128829960450962,
          -0.6384337306448875,
          -0.7473031588310945,
          0.8329215554230448,
          -0.0014366113415588348,
          1.12889882070921,
          -0.6263450347390124,
          -0.15207317744954088,
          -0.34889044161686383,
          1.6308397019642658,
          0.35697692349751,
          -0.11009491880760186,
          0.8975216642444559,
          2.1933943747515614,
          1.88500555603819,
          -0.060286786408807254,
          -0.12427068027435265,
          1.4104620063591755,
          -0.6422684116873881,
          0.6854913943508008,
          1.1785110035923059,
          -0.16773448800986715,
          0.38472630846110245,
          0.36702394044670406,
          -2.408159159994002,
          -0.7380395276178535,
          1.304615893104272,
          1.187080311936938,
          -0.15224202616043214,
          0.4098386402951023,
          0.6487386974994944,
          1.081403143428471
         ],
         "xaxis": "x7",
         "y": [
          1.4564807911980027,
          -0.5614415874815344,
          0.7690489749287509,
          1.0745673115894976,
          -0.271650350545234,
          -0.20417947351171928,
          -1.5365217665036148,
          0.5271922043293188,
          -1.486583190597354,
          -1.5334484919941673,
          0.18382394706883978,
          0.1344370782872019,
          1.89905090532156,
          0.6202785332919339,
          -0.45664038843023563,
          1.963126990847653,
          1.9369875383030903,
          1.0315771467695134,
          -0.3453335682768677,
          0.419546447142365,
          -1.225897365627275,
          -1.0887921399676082,
          -0.21263698997725416,
          0.7718171320935325,
          0.44145428919101193,
          -0.8468114640841646,
          0.8526936191566775,
          -0.969355231696488,
          1.5408969327530821,
          -0.04465803887874416,
          -1.0342638822781325,
          0.6075784794307824,
          0.020845455399087748,
          -0.07959203078638698,
          -1.2885327382950438,
          -0.5858261320243598,
          0.2784538175232755,
          0.4716251609013261,
          0.007586918494829923,
          -1.2311721843538845,
          2.263014081539277,
          -0.9445712149750263,
          -0.7801126734963407,
          -0.006307163966420759,
          0.19209429370631423,
          1.4849821222922432,
          -0.402824407169826,
          -0.1535552795197902,
          -0.45306006334156884,
          0.2723494038368278,
          -0.6969797568377994,
          1.3148469312491482,
          -0.4400678278705646,
          -0.5226856061207958,
          -1.2685087511392623,
          -0.7121002063687039,
          0.4922848868566591,
          1.4080506928339986,
          -0.6740640131990668,
          0.47859781454993217,
          0.10407954693386935,
          -0.09125617817861699,
          -1.3627903947738937,
          -1.280305454707673,
          1.0676149669634278,
          0.10098596940395344,
          0.3087197869344185,
          0.3416669711946196,
          -0.2456850602506728,
          -0.8054522753423443,
          -0.3581753964308596,
          1.2538718650534761,
          1.5812764633116267,
          -1.2869964689617,
          0.5134159053161619,
          1.0984181861336495,
          -0.939853681439602,
          -0.7874505356156805,
          -0.5251233813470253,
          1.426548881182392,
          0.07011129375683395,
          0.3043731808315209,
          1.3453342775245516,
          0.8797891435530668,
          0.08819796782327056,
          0.7785641262132776,
          -0.32251783943947593,
          -1.103603729843237,
          1.561003488139711,
          -0.8993481124743095,
          2.527656223510702,
          -0.035756115285384076,
          2.32755828482868,
          0.8455828949792558,
          1.4395208708887242,
          -0.13261587328217128,
          0.9653423868237719,
          -1.5985346969508438,
          -0.9772914721691849,
          0.6427378710046866
         ],
         "yaxis": "y7"
        },
        {
         "line": {
          "color": "rgba(128, 128, 128, 1.0)",
          "dash": "solid",
          "shape": "linear",
          "width": 1.3
         },
         "marker": {
          "size": 2,
          "symbol": "circle"
         },
         "mode": "markers",
         "name": "B",
         "text": "",
         "type": "scatter",
         "x": [
          -2.650812997314717,
          -0.311803005933188,
          0.5234053003502719,
          -1.1370049341208008,
          1.785947315671499,
          0.09836375440051173,
          -1.49973660026947,
          0.6840064709496927,
          -0.29337150802113277,
          -0.2492993835514884,
          -0.2452004782750859,
          0.7453097427990474,
          0.46382336176975625,
          0.14690685645880708,
          1.658889165267742,
          -1.5119993487990275,
          0.45330904405195466,
          -1.6403546564341527,
          0.2252746294380069,
          2.0287963385526178,
          -0.566046123755891,
          0.448211178778663,
          -1.8506720916351953,
          -0.042595144127149306,
          -0.08206156409590681,
          0.9445911772581148,
          0.4361661575564618,
          2.9626678910230035,
          0.7178948825887508,
          0.39177457468797705,
          1.5350778646164982,
          -0.16204914164458326,
          -0.26327624177704206,
          1.9362232339556251,
          1.470902854898459,
          -1.3164221749124145,
          1.5042128521943556,
          -0.5525791281329449,
          0.8730099647445734,
          0.20946417573364837,
          -0.6288275527653823,
          0.5794005820262775,
          -1.2425977976467448,
          -1.4518619763805094,
          2.299083454990828,
          -1.690325676193857,
          -2.4398802478119537,
          1.0090783405534172,
          0.9699967438449757,
          -0.21462755564471853,
          -0.42668066402267263,
          -0.23114341508506436,
          1.5878263873553595,
          1.1974923701274496,
          -0.6328802911920552,
          -0.115689071673373,
          -1.5659625465829852,
          -1.7039208968111301,
          -0.3828743631970665,
          0.5533231160499545,
          0.041511676904158946,
          1.0910109735200546,
          -1.513318971862418,
          1.5973851901395408,
          0.7633726790710887,
          -0.2852253714361112,
          -0.19098469827365344,
          0.07558426108686768,
          1.374003041243804,
          0.6520549544554999,
          -1.5669714988794585,
          0.4982460397601832,
          1.3734024216590928,
          1.0223216631378484,
          -0.9776227762824543,
          0.19719940143862155,
          0.3845888157721083,
          -0.8260134162166382,
          1.5800598722242059,
          -0.7555635387878384,
          -2.8840612108842882,
          0.6200362228783207,
          0.5282222199839804,
          -0.21536613709856278,
          -0.39191915436692076,
          0.2804700919368603,
          1.7476967130053918,
          -0.016109583924299856,
          -0.8780920316098697,
          -0.2110077017324482,
          1.4053406740461782,
          0.8268885442630262,
          0.756069351921896,
          -2.0379589159741074,
          -0.6551719112574574,
          -2.441510348937944,
          0.9514195156737354,
          0.32980494191058835,
          -0.5695516056060412,
          -1.056582768713903
         ],
         "xaxis": "x8",
         "y": [
          1.4564807911980027,
          -0.5614415874815344,
          0.7690489749287509,
          1.0745673115894976,
          -0.271650350545234,
          -0.20417947351171928,
          -1.5365217665036148,
          0.5271922043293188,
          -1.486583190597354,
          -1.5334484919941673,
          0.18382394706883978,
          0.1344370782872019,
          1.89905090532156,
          0.6202785332919339,
          -0.45664038843023563,
          1.963126990847653,
          1.9369875383030903,
          1.0315771467695134,
          -0.3453335682768677,
          0.419546447142365,
          -1.225897365627275,
          -1.0887921399676082,
          -0.21263698997725416,
          0.7718171320935325,
          0.44145428919101193,
          -0.8468114640841646,
          0.8526936191566775,
          -0.969355231696488,
          1.5408969327530821,
          -0.04465803887874416,
          -1.0342638822781325,
          0.6075784794307824,
          0.020845455399087748,
          -0.07959203078638698,
          -1.2885327382950438,
          -0.5858261320243598,
          0.2784538175232755,
          0.4716251609013261,
          0.007586918494829923,
          -1.2311721843538845,
          2.263014081539277,
          -0.9445712149750263,
          -0.7801126734963407,
          -0.006307163966420759,
          0.19209429370631423,
          1.4849821222922432,
          -0.402824407169826,
          -0.1535552795197902,
          -0.45306006334156884,
          0.2723494038368278,
          -0.6969797568377994,
          1.3148469312491482,
          -0.4400678278705646,
          -0.5226856061207958,
          -1.2685087511392623,
          -0.7121002063687039,
          0.4922848868566591,
          1.4080506928339986,
          -0.6740640131990668,
          0.47859781454993217,
          0.10407954693386935,
          -0.09125617817861699,
          -1.3627903947738937,
          -1.280305454707673,
          1.0676149669634278,
          0.10098596940395344,
          0.3087197869344185,
          0.3416669711946196,
          -0.2456850602506728,
          -0.8054522753423443,
          -0.3581753964308596,
          1.2538718650534761,
          1.5812764633116267,
          -1.2869964689617,
          0.5134159053161619,
          1.0984181861336495,
          -0.939853681439602,
          -0.7874505356156805,
          -0.5251233813470253,
          1.426548881182392,
          0.07011129375683395,
          0.3043731808315209,
          1.3453342775245516,
          0.8797891435530668,
          0.08819796782327056,
          0.7785641262132776,
          -0.32251783943947593,
          -1.103603729843237,
          1.561003488139711,
          -0.8993481124743095,
          2.527656223510702,
          -0.035756115285384076,
          2.32755828482868,
          0.8455828949792558,
          1.4395208708887242,
          -0.13261587328217128,
          0.9653423868237719,
          -1.5985346969508438,
          -0.9772914721691849,
          0.6427378710046866
         ],
         "yaxis": "y8"
        },
        {
         "line": {
          "color": "rgba(128, 128, 128, 1.0)",
          "dash": "solid",
          "shape": "linear",
          "width": 1.3
         },
         "marker": {
          "size": 2,
          "symbol": "circle"
         },
         "mode": "markers",
         "name": "C",
         "text": "",
         "type": "scatter",
         "x": [
          2.3050789463764794,
          -0.34544828836374125,
          -1.67491216027255,
          1.207318891717801,
          1.406343778561469,
          -1.112345759784398,
          0.9446789832334939,
          -0.38728675731145373,
          1.3079689084749777,
          -1.8069718036199587,
          0.18825627165035458,
          0.7147828258451806,
          0.44192463870483806,
          -0.49552350971023745,
          -0.322800551035353,
          -0.47433961294441596,
          0.1690883770206803,
          1.2017852529943827,
          -0.1647321336067996,
          -2.3955741265632238,
          -1.4758945487582762,
          0.962445834012295,
          0.6653252839778693,
          -0.41880202344092315,
          0.04627068636022785,
          -1.5185646666381192,
          -1.9938509523173815,
          -0.02240060509745099,
          1.1809831611785004,
          1.8801658934707632,
          1.0292593510337478,
          0.5949117331367149,
          -1.4514506277441748,
          -0.42502646313780856,
          -0.5797899821504993,
          -0.3581390966891277,
          -0.11892770450618409,
          1.0926209083884437,
          0.7050466192122445,
          1.2375172874906153,
          1.4072020975357857,
          0.1575926374578665,
          0.09396028076688108,
          0.14998003245337374,
          1.0006464685965815,
          0.33651897865653907,
          -0.10778939786155453,
          1.7762185531905517,
          0.2433230426333405,
          0.6573414720203437,
          1.4987623651774449,
          0.49100570061636384,
          1.2227945124611799,
          2.0356825538745524,
          0.8960277472124333,
          1.36131627749611,
          -0.01900927284926094,
          -1.123782384244974,
          1.2024407293884816,
          1.7533041101596796,
          2.620102735759663,
          -0.9243960301190819,
          -0.9071010052827692,
          0.7084815208490741,
          -1.0164586395797204,
          -0.9726287488168607,
          -2.0757409191988963,
          -0.4056514932145701,
          -0.4481169032862055,
          0.2999481669822941,
          0.19005409313068863,
          0.20944993347497673,
          1.8535331783127982,
          0.10833367793192912,
          0.9909118192752894,
          -0.18072276264957435,
          -0.27175596496885357,
          -0.3472891841078953,
          -1.3499379537122178,
          -0.24361265423740075,
          0.1823942082455205,
          -0.11683434885062603,
          -1.9611819118675928,
          -0.10124747971168387,
          -0.749519554450631,
          -0.17063962763320573,
          -1.2924000897834025,
          -1.6363561634291774,
          0.31683188489615605,
          0.6767344738274852,
          -1.0561931295586227,
          -2.0631652991243787,
          -1.0225199848753768,
          -1.2074155289643396,
          -0.8839567228513001,
          -0.8159284734528616,
          0.6274816714657359,
          0.9671930475443826,
          -0.27905397820525646,
          -0.9770832801408772
         ],
         "xaxis": "x9",
         "y": [
          -1.0414728897711043,
          -2.4987006337049427,
          -1.7405625562342926,
          0.7807465485246431,
          0.28696749890926176,
          0.3363917430252014,
          1.293532558358908,
          0.1665194695042929,
          1.2360927636981422,
          -1.2564294093066566,
          1.2563769793990662,
          -0.7363214218721139,
          0.24426512556462346,
          -0.11970512182658005,
          1.4677478735443614,
          1.0647201557032324,
          -0.45187302257846534,
          0.653678868083953,
          -1.5907134807199985,
          -1.277732744505322,
          -0.7228632863713857,
          0.7172278823394252,
          -1.965459613280281,
          0.286972183094621,
          0.907355772897085,
          0.5998967596872434,
          0.5651197404402956,
          -1.0859124022080506,
          -1.5773190091059082,
          1.1157090318556244,
          -0.06785848898904057,
          1.0984784868393382,
          0.7813197529628041,
          0.48810393395852364,
          -0.17708026291624845,
          0.14629573582432567,
          -0.11493238419180425,
          0.44331295229358997,
          0.20136428167932743,
          -0.019043969415183784,
          1.1678372009338673,
          -1.3483861691724721,
          -0.7588281414384854,
          -1.8578532286983487,
          -0.7444082117778972,
          -1.0092091832703185,
          -1.3889162965474495,
          -0.5371878391790263,
          -1.4361023025838564,
          0.7229130593162181,
          -0.7199255425887895,
          -0.30998165984331827,
          0.6114310600050571,
          0.7969940652634873,
          0.6989867534379552,
          0.7715048258999205,
          0.9559915679786413,
          -1.388943101110845,
          -1.1933157339805522,
          0.03930509746200616,
          1.4075249287877474,
          -0.31334032917702986,
          -0.6561559716404194,
          -0.9588235530918053,
          0.007003808306168607,
          -2.2882431550424704,
          0.5874340245739881,
          -1.2836564652794462,
          -0.6128829960450962,
          -0.6384337306448875,
          -0.7473031588310945,
          0.8329215554230448,
          -0.0014366113415588348,
          1.12889882070921,
          -0.6263450347390124,
          -0.15207317744954088,
          -0.34889044161686383,
          1.6308397019642658,
          0.35697692349751,
          -0.11009491880760186,
          0.8975216642444559,
          2.1933943747515614,
          1.88500555603819,
          -0.060286786408807254,
          -0.12427068027435265,
          1.4104620063591755,
          -0.6422684116873881,
          0.6854913943508008,
          1.1785110035923059,
          -0.16773448800986715,
          0.38472630846110245,
          0.36702394044670406,
          -2.408159159994002,
          -0.7380395276178535,
          1.304615893104272,
          1.187080311936938,
          -0.15224202616043214,
          0.4098386402951023,
          0.6487386974994944,
          1.081403143428471
         ],
         "yaxis": "y9"
        },
        {
         "line": {
          "color": "rgba(128, 128, 128, 1.0)",
          "dash": "solid",
          "shape": "linear",
          "width": 1.3
         },
         "marker": {
          "size": 2,
          "symbol": "circle"
         },
         "mode": "markers",
         "name": "C",
         "text": "",
         "type": "scatter",
         "x": [
          1.4564807911980027,
          -0.5614415874815344,
          0.7690489749287509,
          1.0745673115894976,
          -0.271650350545234,
          -0.20417947351171928,
          -1.5365217665036148,
          0.5271922043293188,
          -1.486583190597354,
          -1.5334484919941673,
          0.18382394706883978,
          0.1344370782872019,
          1.89905090532156,
          0.6202785332919339,
          -0.45664038843023563,
          1.963126990847653,
          1.9369875383030903,
          1.0315771467695134,
          -0.3453335682768677,
          0.419546447142365,
          -1.225897365627275,
          -1.0887921399676082,
          -0.21263698997725416,
          0.7718171320935325,
          0.44145428919101193,
          -0.8468114640841646,
          0.8526936191566775,
          -0.969355231696488,
          1.5408969327530821,
          -0.04465803887874416,
          -1.0342638822781325,
          0.6075784794307824,
          0.020845455399087748,
          -0.07959203078638698,
          -1.2885327382950438,
          -0.5858261320243598,
          0.2784538175232755,
          0.4716251609013261,
          0.007586918494829923,
          -1.2311721843538845,
          2.263014081539277,
          -0.9445712149750263,
          -0.7801126734963407,
          -0.006307163966420759,
          0.19209429370631423,
          1.4849821222922432,
          -0.402824407169826,
          -0.1535552795197902,
          -0.45306006334156884,
          0.2723494038368278,
          -0.6969797568377994,
          1.3148469312491482,
          -0.4400678278705646,
          -0.5226856061207958,
          -1.2685087511392623,
          -0.7121002063687039,
          0.4922848868566591,
          1.4080506928339986,
          -0.6740640131990668,
          0.47859781454993217,
          0.10407954693386935,
          -0.09125617817861699,
          -1.3627903947738937,
          -1.280305454707673,
          1.0676149669634278,
          0.10098596940395344,
          0.3087197869344185,
          0.3416669711946196,
          -0.2456850602506728,
          -0.8054522753423443,
          -0.3581753964308596,
          1.2538718650534761,
          1.5812764633116267,
          -1.2869964689617,
          0.5134159053161619,
          1.0984181861336495,
          -0.939853681439602,
          -0.7874505356156805,
          -0.5251233813470253,
          1.426548881182392,
          0.07011129375683395,
          0.3043731808315209,
          1.3453342775245516,
          0.8797891435530668,
          0.08819796782327056,
          0.7785641262132776,
          -0.32251783943947593,
          -1.103603729843237,
          1.561003488139711,
          -0.8993481124743095,
          2.527656223510702,
          -0.035756115285384076,
          2.32755828482868,
          0.8455828949792558,
          1.4395208708887242,
          -0.13261587328217128,
          0.9653423868237719,
          -1.5985346969508438,
          -0.9772914721691849,
          0.6427378710046866
         ],
         "xaxis": "x10",
         "y": [
          -1.0414728897711043,
          -2.4987006337049427,
          -1.7405625562342926,
          0.7807465485246431,
          0.28696749890926176,
          0.3363917430252014,
          1.293532558358908,
          0.1665194695042929,
          1.2360927636981422,
          -1.2564294093066566,
          1.2563769793990662,
          -0.7363214218721139,
          0.24426512556462346,
          -0.11970512182658005,
          1.4677478735443614,
          1.0647201557032324,
          -0.45187302257846534,
          0.653678868083953,
          -1.5907134807199985,
          -1.277732744505322,
          -0.7228632863713857,
          0.7172278823394252,
          -1.965459613280281,
          0.286972183094621,
          0.907355772897085,
          0.5998967596872434,
          0.5651197404402956,
          -1.0859124022080506,
          -1.5773190091059082,
          1.1157090318556244,
          -0.06785848898904057,
          1.0984784868393382,
          0.7813197529628041,
          0.48810393395852364,
          -0.17708026291624845,
          0.14629573582432567,
          -0.11493238419180425,
          0.44331295229358997,
          0.20136428167932743,
          -0.019043969415183784,
          1.1678372009338673,
          -1.3483861691724721,
          -0.7588281414384854,
          -1.8578532286983487,
          -0.7444082117778972,
          -1.0092091832703185,
          -1.3889162965474495,
          -0.5371878391790263,
          -1.4361023025838564,
          0.7229130593162181,
          -0.7199255425887895,
          -0.30998165984331827,
          0.6114310600050571,
          0.7969940652634873,
          0.6989867534379552,
          0.7715048258999205,
          0.9559915679786413,
          -1.388943101110845,
          -1.1933157339805522,
          0.03930509746200616,
          1.4075249287877474,
          -0.31334032917702986,
          -0.6561559716404194,
          -0.9588235530918053,
          0.007003808306168607,
          -2.2882431550424704,
          0.5874340245739881,
          -1.2836564652794462,
          -0.6128829960450962,
          -0.6384337306448875,
          -0.7473031588310945,
          0.8329215554230448,
          -0.0014366113415588348,
          1.12889882070921,
          -0.6263450347390124,
          -0.15207317744954088,
          -0.34889044161686383,
          1.6308397019642658,
          0.35697692349751,
          -0.11009491880760186,
          0.8975216642444559,
          2.1933943747515614,
          1.88500555603819,
          -0.060286786408807254,
          -0.12427068027435265,
          1.4104620063591755,
          -0.6422684116873881,
          0.6854913943508008,
          1.1785110035923059,
          -0.16773448800986715,
          0.38472630846110245,
          0.36702394044670406,
          -2.408159159994002,
          -0.7380395276178535,
          1.304615893104272,
          1.187080311936938,
          -0.15224202616043214,
          0.4098386402951023,
          0.6487386974994944,
          1.081403143428471
         ],
         "yaxis": "y10"
        },
        {
         "histfunc": "count",
         "histnorm": "",
         "marker": {
          "color": "rgba(50, 171, 96, 1.0)",
          "line": {
           "color": "#4D5663",
           "width": 1.3
          }
         },
         "name": "C",
         "nbinsx": 10,
         "opacity": 0.8,
         "orientation": "v",
         "type": "histogram",
         "x": [
          -1.0414728897711043,
          -2.4987006337049427,
          -1.7405625562342926,
          0.7807465485246431,
          0.28696749890926176,
          0.3363917430252014,
          1.293532558358908,
          0.1665194695042929,
          1.2360927636981422,
          -1.2564294093066566,
          1.2563769793990662,
          -0.7363214218721139,
          0.24426512556462346,
          -0.11970512182658005,
          1.4677478735443614,
          1.0647201557032324,
          -0.45187302257846534,
          0.653678868083953,
          -1.5907134807199985,
          -1.277732744505322,
          -0.7228632863713857,
          0.7172278823394252,
          -1.965459613280281,
          0.286972183094621,
          0.907355772897085,
          0.5998967596872434,
          0.5651197404402956,
          -1.0859124022080506,
          -1.5773190091059082,
          1.1157090318556244,
          -0.06785848898904057,
          1.0984784868393382,
          0.7813197529628041,
          0.48810393395852364,
          -0.17708026291624845,
          0.14629573582432567,
          -0.11493238419180425,
          0.44331295229358997,
          0.20136428167932743,
          -0.019043969415183784,
          1.1678372009338673,
          -1.3483861691724721,
          -0.7588281414384854,
          -1.8578532286983487,
          -0.7444082117778972,
          -1.0092091832703185,
          -1.3889162965474495,
          -0.5371878391790263,
          -1.4361023025838564,
          0.7229130593162181,
          -0.7199255425887895,
          -0.30998165984331827,
          0.6114310600050571,
          0.7969940652634873,
          0.6989867534379552,
          0.7715048258999205,
          0.9559915679786413,
          -1.388943101110845,
          -1.1933157339805522,
          0.03930509746200616,
          1.4075249287877474,
          -0.31334032917702986,
          -0.6561559716404194,
          -0.9588235530918053,
          0.007003808306168607,
          -2.2882431550424704,
          0.5874340245739881,
          -1.2836564652794462,
          -0.6128829960450962,
          -0.6384337306448875,
          -0.7473031588310945,
          0.8329215554230448,
          -0.0014366113415588348,
          1.12889882070921,
          -0.6263450347390124,
          -0.15207317744954088,
          -0.34889044161686383,
          1.6308397019642658,
          0.35697692349751,
          -0.11009491880760186,
          0.8975216642444559,
          2.1933943747515614,
          1.88500555603819,
          -0.060286786408807254,
          -0.12427068027435265,
          1.4104620063591755,
          -0.6422684116873881,
          0.6854913943508008,
          1.1785110035923059,
          -0.16773448800986715,
          0.38472630846110245,
          0.36702394044670406,
          -2.408159159994002,
          -0.7380395276178535,
          1.304615893104272,
          1.187080311936938,
          -0.15224202616043214,
          0.4098386402951023,
          0.6487386974994944,
          1.081403143428471
         ],
         "xaxis": "x11",
         "yaxis": "y11"
        },
        {
         "line": {
          "color": "rgba(128, 128, 128, 1.0)",
          "dash": "solid",
          "shape": "linear",
          "width": 1.3
         },
         "marker": {
          "size": 2,
          "symbol": "circle"
         },
         "mode": "markers",
         "name": "C",
         "text": "",
         "type": "scatter",
         "x": [
          -2.650812997314717,
          -0.311803005933188,
          0.5234053003502719,
          -1.1370049341208008,
          1.785947315671499,
          0.09836375440051173,
          -1.49973660026947,
          0.6840064709496927,
          -0.29337150802113277,
          -0.2492993835514884,
          -0.2452004782750859,
          0.7453097427990474,
          0.46382336176975625,
          0.14690685645880708,
          1.658889165267742,
          -1.5119993487990275,
          0.45330904405195466,
          -1.6403546564341527,
          0.2252746294380069,
          2.0287963385526178,
          -0.566046123755891,
          0.448211178778663,
          -1.8506720916351953,
          -0.042595144127149306,
          -0.08206156409590681,
          0.9445911772581148,
          0.4361661575564618,
          2.9626678910230035,
          0.7178948825887508,
          0.39177457468797705,
          1.5350778646164982,
          -0.16204914164458326,
          -0.26327624177704206,
          1.9362232339556251,
          1.470902854898459,
          -1.3164221749124145,
          1.5042128521943556,
          -0.5525791281329449,
          0.8730099647445734,
          0.20946417573364837,
          -0.6288275527653823,
          0.5794005820262775,
          -1.2425977976467448,
          -1.4518619763805094,
          2.299083454990828,
          -1.690325676193857,
          -2.4398802478119537,
          1.0090783405534172,
          0.9699967438449757,
          -0.21462755564471853,
          -0.42668066402267263,
          -0.23114341508506436,
          1.5878263873553595,
          1.1974923701274496,
          -0.6328802911920552,
          -0.115689071673373,
          -1.5659625465829852,
          -1.7039208968111301,
          -0.3828743631970665,
          0.5533231160499545,
          0.041511676904158946,
          1.0910109735200546,
          -1.513318971862418,
          1.5973851901395408,
          0.7633726790710887,
          -0.2852253714361112,
          -0.19098469827365344,
          0.07558426108686768,
          1.374003041243804,
          0.6520549544554999,
          -1.5669714988794585,
          0.4982460397601832,
          1.3734024216590928,
          1.0223216631378484,
          -0.9776227762824543,
          0.19719940143862155,
          0.3845888157721083,
          -0.8260134162166382,
          1.5800598722242059,
          -0.7555635387878384,
          -2.8840612108842882,
          0.6200362228783207,
          0.5282222199839804,
          -0.21536613709856278,
          -0.39191915436692076,
          0.2804700919368603,
          1.7476967130053918,
          -0.016109583924299856,
          -0.8780920316098697,
          -0.2110077017324482,
          1.4053406740461782,
          0.8268885442630262,
          0.756069351921896,
          -2.0379589159741074,
          -0.6551719112574574,
          -2.441510348937944,
          0.9514195156737354,
          0.32980494191058835,
          -0.5695516056060412,
          -1.056582768713903
         ],
         "xaxis": "x12",
         "y": [
          -1.0414728897711043,
          -2.4987006337049427,
          -1.7405625562342926,
          0.7807465485246431,
          0.28696749890926176,
          0.3363917430252014,
          1.293532558358908,
          0.1665194695042929,
          1.2360927636981422,
          -1.2564294093066566,
          1.2563769793990662,
          -0.7363214218721139,
          0.24426512556462346,
          -0.11970512182658005,
          1.4677478735443614,
          1.0647201557032324,
          -0.45187302257846534,
          0.653678868083953,
          -1.5907134807199985,
          -1.277732744505322,
          -0.7228632863713857,
          0.7172278823394252,
          -1.965459613280281,
          0.286972183094621,
          0.907355772897085,
          0.5998967596872434,
          0.5651197404402956,
          -1.0859124022080506,
          -1.5773190091059082,
          1.1157090318556244,
          -0.06785848898904057,
          1.0984784868393382,
          0.7813197529628041,
          0.48810393395852364,
          -0.17708026291624845,
          0.14629573582432567,
          -0.11493238419180425,
          0.44331295229358997,
          0.20136428167932743,
          -0.019043969415183784,
          1.1678372009338673,
          -1.3483861691724721,
          -0.7588281414384854,
          -1.8578532286983487,
          -0.7444082117778972,
          -1.0092091832703185,
          -1.3889162965474495,
          -0.5371878391790263,
          -1.4361023025838564,
          0.7229130593162181,
          -0.7199255425887895,
          -0.30998165984331827,
          0.6114310600050571,
          0.7969940652634873,
          0.6989867534379552,
          0.7715048258999205,
          0.9559915679786413,
          -1.388943101110845,
          -1.1933157339805522,
          0.03930509746200616,
          1.4075249287877474,
          -0.31334032917702986,
          -0.6561559716404194,
          -0.9588235530918053,
          0.007003808306168607,
          -2.2882431550424704,
          0.5874340245739881,
          -1.2836564652794462,
          -0.6128829960450962,
          -0.6384337306448875,
          -0.7473031588310945,
          0.8329215554230448,
          -0.0014366113415588348,
          1.12889882070921,
          -0.6263450347390124,
          -0.15207317744954088,
          -0.34889044161686383,
          1.6308397019642658,
          0.35697692349751,
          -0.11009491880760186,
          0.8975216642444559,
          2.1933943747515614,
          1.88500555603819,
          -0.060286786408807254,
          -0.12427068027435265,
          1.4104620063591755,
          -0.6422684116873881,
          0.6854913943508008,
          1.1785110035923059,
          -0.16773448800986715,
          0.38472630846110245,
          0.36702394044670406,
          -2.408159159994002,
          -0.7380395276178535,
          1.304615893104272,
          1.187080311936938,
          -0.15224202616043214,
          0.4098386402951023,
          0.6487386974994944,
          1.081403143428471
         ],
         "yaxis": "y12"
        },
        {
         "line": {
          "color": "rgba(128, 128, 128, 1.0)",
          "dash": "solid",
          "shape": "linear",
          "width": 1.3
         },
         "marker": {
          "size": 2,
          "symbol": "circle"
         },
         "mode": "markers",
         "name": "D",
         "text": "",
         "type": "scatter",
         "x": [
          2.3050789463764794,
          -0.34544828836374125,
          -1.67491216027255,
          1.207318891717801,
          1.406343778561469,
          -1.112345759784398,
          0.9446789832334939,
          -0.38728675731145373,
          1.3079689084749777,
          -1.8069718036199587,
          0.18825627165035458,
          0.7147828258451806,
          0.44192463870483806,
          -0.49552350971023745,
          -0.322800551035353,
          -0.47433961294441596,
          0.1690883770206803,
          1.2017852529943827,
          -0.1647321336067996,
          -2.3955741265632238,
          -1.4758945487582762,
          0.962445834012295,
          0.6653252839778693,
          -0.41880202344092315,
          0.04627068636022785,
          -1.5185646666381192,
          -1.9938509523173815,
          -0.02240060509745099,
          1.1809831611785004,
          1.8801658934707632,
          1.0292593510337478,
          0.5949117331367149,
          -1.4514506277441748,
          -0.42502646313780856,
          -0.5797899821504993,
          -0.3581390966891277,
          -0.11892770450618409,
          1.0926209083884437,
          0.7050466192122445,
          1.2375172874906153,
          1.4072020975357857,
          0.1575926374578665,
          0.09396028076688108,
          0.14998003245337374,
          1.0006464685965815,
          0.33651897865653907,
          -0.10778939786155453,
          1.7762185531905517,
          0.2433230426333405,
          0.6573414720203437,
          1.4987623651774449,
          0.49100570061636384,
          1.2227945124611799,
          2.0356825538745524,
          0.8960277472124333,
          1.36131627749611,
          -0.01900927284926094,
          -1.123782384244974,
          1.2024407293884816,
          1.7533041101596796,
          2.620102735759663,
          -0.9243960301190819,
          -0.9071010052827692,
          0.7084815208490741,
          -1.0164586395797204,
          -0.9726287488168607,
          -2.0757409191988963,
          -0.4056514932145701,
          -0.4481169032862055,
          0.2999481669822941,
          0.19005409313068863,
          0.20944993347497673,
          1.8535331783127982,
          0.10833367793192912,
          0.9909118192752894,
          -0.18072276264957435,
          -0.27175596496885357,
          -0.3472891841078953,
          -1.3499379537122178,
          -0.24361265423740075,
          0.1823942082455205,
          -0.11683434885062603,
          -1.9611819118675928,
          -0.10124747971168387,
          -0.749519554450631,
          -0.17063962763320573,
          -1.2924000897834025,
          -1.6363561634291774,
          0.31683188489615605,
          0.6767344738274852,
          -1.0561931295586227,
          -2.0631652991243787,
          -1.0225199848753768,
          -1.2074155289643396,
          -0.8839567228513001,
          -0.8159284734528616,
          0.6274816714657359,
          0.9671930475443826,
          -0.27905397820525646,
          -0.9770832801408772
         ],
         "xaxis": "x13",
         "y": [
          -2.650812997314717,
          -0.311803005933188,
          0.5234053003502719,
          -1.1370049341208008,
          1.785947315671499,
          0.09836375440051173,
          -1.49973660026947,
          0.6840064709496927,
          -0.29337150802113277,
          -0.2492993835514884,
          -0.2452004782750859,
          0.7453097427990474,
          0.46382336176975625,
          0.14690685645880708,
          1.658889165267742,
          -1.5119993487990275,
          0.45330904405195466,
          -1.6403546564341527,
          0.2252746294380069,
          2.0287963385526178,
          -0.566046123755891,
          0.448211178778663,
          -1.8506720916351953,
          -0.042595144127149306,
          -0.08206156409590681,
          0.9445911772581148,
          0.4361661575564618,
          2.9626678910230035,
          0.7178948825887508,
          0.39177457468797705,
          1.5350778646164982,
          -0.16204914164458326,
          -0.26327624177704206,
          1.9362232339556251,
          1.470902854898459,
          -1.3164221749124145,
          1.5042128521943556,
          -0.5525791281329449,
          0.8730099647445734,
          0.20946417573364837,
          -0.6288275527653823,
          0.5794005820262775,
          -1.2425977976467448,
          -1.4518619763805094,
          2.299083454990828,
          -1.690325676193857,
          -2.4398802478119537,
          1.0090783405534172,
          0.9699967438449757,
          -0.21462755564471853,
          -0.42668066402267263,
          -0.23114341508506436,
          1.5878263873553595,
          1.1974923701274496,
          -0.6328802911920552,
          -0.115689071673373,
          -1.5659625465829852,
          -1.7039208968111301,
          -0.3828743631970665,
          0.5533231160499545,
          0.041511676904158946,
          1.0910109735200546,
          -1.513318971862418,
          1.5973851901395408,
          0.7633726790710887,
          -0.2852253714361112,
          -0.19098469827365344,
          0.07558426108686768,
          1.374003041243804,
          0.6520549544554999,
          -1.5669714988794585,
          0.4982460397601832,
          1.3734024216590928,
          1.0223216631378484,
          -0.9776227762824543,
          0.19719940143862155,
          0.3845888157721083,
          -0.8260134162166382,
          1.5800598722242059,
          -0.7555635387878384,
          -2.8840612108842882,
          0.6200362228783207,
          0.5282222199839804,
          -0.21536613709856278,
          -0.39191915436692076,
          0.2804700919368603,
          1.7476967130053918,
          -0.016109583924299856,
          -0.8780920316098697,
          -0.2110077017324482,
          1.4053406740461782,
          0.8268885442630262,
          0.756069351921896,
          -2.0379589159741074,
          -0.6551719112574574,
          -2.441510348937944,
          0.9514195156737354,
          0.32980494191058835,
          -0.5695516056060412,
          -1.056582768713903
         ],
         "yaxis": "y13"
        },
        {
         "line": {
          "color": "rgba(128, 128, 128, 1.0)",
          "dash": "solid",
          "shape": "linear",
          "width": 1.3
         },
         "marker": {
          "size": 2,
          "symbol": "circle"
         },
         "mode": "markers",
         "name": "D",
         "text": "",
         "type": "scatter",
         "x": [
          1.4564807911980027,
          -0.5614415874815344,
          0.7690489749287509,
          1.0745673115894976,
          -0.271650350545234,
          -0.20417947351171928,
          -1.5365217665036148,
          0.5271922043293188,
          -1.486583190597354,
          -1.5334484919941673,
          0.18382394706883978,
          0.1344370782872019,
          1.89905090532156,
          0.6202785332919339,
          -0.45664038843023563,
          1.963126990847653,
          1.9369875383030903,
          1.0315771467695134,
          -0.3453335682768677,
          0.419546447142365,
          -1.225897365627275,
          -1.0887921399676082,
          -0.21263698997725416,
          0.7718171320935325,
          0.44145428919101193,
          -0.8468114640841646,
          0.8526936191566775,
          -0.969355231696488,
          1.5408969327530821,
          -0.04465803887874416,
          -1.0342638822781325,
          0.6075784794307824,
          0.020845455399087748,
          -0.07959203078638698,
          -1.2885327382950438,
          -0.5858261320243598,
          0.2784538175232755,
          0.4716251609013261,
          0.007586918494829923,
          -1.2311721843538845,
          2.263014081539277,
          -0.9445712149750263,
          -0.7801126734963407,
          -0.006307163966420759,
          0.19209429370631423,
          1.4849821222922432,
          -0.402824407169826,
          -0.1535552795197902,
          -0.45306006334156884,
          0.2723494038368278,
          -0.6969797568377994,
          1.3148469312491482,
          -0.4400678278705646,
          -0.5226856061207958,
          -1.2685087511392623,
          -0.7121002063687039,
          0.4922848868566591,
          1.4080506928339986,
          -0.6740640131990668,
          0.47859781454993217,
          0.10407954693386935,
          -0.09125617817861699,
          -1.3627903947738937,
          -1.280305454707673,
          1.0676149669634278,
          0.10098596940395344,
          0.3087197869344185,
          0.3416669711946196,
          -0.2456850602506728,
          -0.8054522753423443,
          -0.3581753964308596,
          1.2538718650534761,
          1.5812764633116267,
          -1.2869964689617,
          0.5134159053161619,
          1.0984181861336495,
          -0.939853681439602,
          -0.7874505356156805,
          -0.5251233813470253,
          1.426548881182392,
          0.07011129375683395,
          0.3043731808315209,
          1.3453342775245516,
          0.8797891435530668,
          0.08819796782327056,
          0.7785641262132776,
          -0.32251783943947593,
          -1.103603729843237,
          1.561003488139711,
          -0.8993481124743095,
          2.527656223510702,
          -0.035756115285384076,
          2.32755828482868,
          0.8455828949792558,
          1.4395208708887242,
          -0.13261587328217128,
          0.9653423868237719,
          -1.5985346969508438,
          -0.9772914721691849,
          0.6427378710046866
         ],
         "xaxis": "x14",
         "y": [
          -2.650812997314717,
          -0.311803005933188,
          0.5234053003502719,
          -1.1370049341208008,
          1.785947315671499,
          0.09836375440051173,
          -1.49973660026947,
          0.6840064709496927,
          -0.29337150802113277,
          -0.2492993835514884,
          -0.2452004782750859,
          0.7453097427990474,
          0.46382336176975625,
          0.14690685645880708,
          1.658889165267742,
          -1.5119993487990275,
          0.45330904405195466,
          -1.6403546564341527,
          0.2252746294380069,
          2.0287963385526178,
          -0.566046123755891,
          0.448211178778663,
          -1.8506720916351953,
          -0.042595144127149306,
          -0.08206156409590681,
          0.9445911772581148,
          0.4361661575564618,
          2.9626678910230035,
          0.7178948825887508,
          0.39177457468797705,
          1.5350778646164982,
          -0.16204914164458326,
          -0.26327624177704206,
          1.9362232339556251,
          1.470902854898459,
          -1.3164221749124145,
          1.5042128521943556,
          -0.5525791281329449,
          0.8730099647445734,
          0.20946417573364837,
          -0.6288275527653823,
          0.5794005820262775,
          -1.2425977976467448,
          -1.4518619763805094,
          2.299083454990828,
          -1.690325676193857,
          -2.4398802478119537,
          1.0090783405534172,
          0.9699967438449757,
          -0.21462755564471853,
          -0.42668066402267263,
          -0.23114341508506436,
          1.5878263873553595,
          1.1974923701274496,
          -0.6328802911920552,
          -0.115689071673373,
          -1.5659625465829852,
          -1.7039208968111301,
          -0.3828743631970665,
          0.5533231160499545,
          0.041511676904158946,
          1.0910109735200546,
          -1.513318971862418,
          1.5973851901395408,
          0.7633726790710887,
          -0.2852253714361112,
          -0.19098469827365344,
          0.07558426108686768,
          1.374003041243804,
          0.6520549544554999,
          -1.5669714988794585,
          0.4982460397601832,
          1.3734024216590928,
          1.0223216631378484,
          -0.9776227762824543,
          0.19719940143862155,
          0.3845888157721083,
          -0.8260134162166382,
          1.5800598722242059,
          -0.7555635387878384,
          -2.8840612108842882,
          0.6200362228783207,
          0.5282222199839804,
          -0.21536613709856278,
          -0.39191915436692076,
          0.2804700919368603,
          1.7476967130053918,
          -0.016109583924299856,
          -0.8780920316098697,
          -0.2110077017324482,
          1.4053406740461782,
          0.8268885442630262,
          0.756069351921896,
          -2.0379589159741074,
          -0.6551719112574574,
          -2.441510348937944,
          0.9514195156737354,
          0.32980494191058835,
          -0.5695516056060412,
          -1.056582768713903
         ],
         "yaxis": "y14"
        },
        {
         "line": {
          "color": "rgba(128, 128, 128, 1.0)",
          "dash": "solid",
          "shape": "linear",
          "width": 1.3
         },
         "marker": {
          "size": 2,
          "symbol": "circle"
         },
         "mode": "markers",
         "name": "D",
         "text": "",
         "type": "scatter",
         "x": [
          -1.0414728897711043,
          -2.4987006337049427,
          -1.7405625562342926,
          0.7807465485246431,
          0.28696749890926176,
          0.3363917430252014,
          1.293532558358908,
          0.1665194695042929,
          1.2360927636981422,
          -1.2564294093066566,
          1.2563769793990662,
          -0.7363214218721139,
          0.24426512556462346,
          -0.11970512182658005,
          1.4677478735443614,
          1.0647201557032324,
          -0.45187302257846534,
          0.653678868083953,
          -1.5907134807199985,
          -1.277732744505322,
          -0.7228632863713857,
          0.7172278823394252,
          -1.965459613280281,
          0.286972183094621,
          0.907355772897085,
          0.5998967596872434,
          0.5651197404402956,
          -1.0859124022080506,
          -1.5773190091059082,
          1.1157090318556244,
          -0.06785848898904057,
          1.0984784868393382,
          0.7813197529628041,
          0.48810393395852364,
          -0.17708026291624845,
          0.14629573582432567,
          -0.11493238419180425,
          0.44331295229358997,
          0.20136428167932743,
          -0.019043969415183784,
          1.1678372009338673,
          -1.3483861691724721,
          -0.7588281414384854,
          -1.8578532286983487,
          -0.7444082117778972,
          -1.0092091832703185,
          -1.3889162965474495,
          -0.5371878391790263,
          -1.4361023025838564,
          0.7229130593162181,
          -0.7199255425887895,
          -0.30998165984331827,
          0.6114310600050571,
          0.7969940652634873,
          0.6989867534379552,
          0.7715048258999205,
          0.9559915679786413,
          -1.388943101110845,
          -1.1933157339805522,
          0.03930509746200616,
          1.4075249287877474,
          -0.31334032917702986,
          -0.6561559716404194,
          -0.9588235530918053,
          0.007003808306168607,
          -2.2882431550424704,
          0.5874340245739881,
          -1.2836564652794462,
          -0.6128829960450962,
          -0.6384337306448875,
          -0.7473031588310945,
          0.8329215554230448,
          -0.0014366113415588348,
          1.12889882070921,
          -0.6263450347390124,
          -0.15207317744954088,
          -0.34889044161686383,
          1.6308397019642658,
          0.35697692349751,
          -0.11009491880760186,
          0.8975216642444559,
          2.1933943747515614,
          1.88500555603819,
          -0.060286786408807254,
          -0.12427068027435265,
          1.4104620063591755,
          -0.6422684116873881,
          0.6854913943508008,
          1.1785110035923059,
          -0.16773448800986715,
          0.38472630846110245,
          0.36702394044670406,
          -2.408159159994002,
          -0.7380395276178535,
          1.304615893104272,
          1.187080311936938,
          -0.15224202616043214,
          0.4098386402951023,
          0.6487386974994944,
          1.081403143428471
         ],
         "xaxis": "x15",
         "y": [
          -2.650812997314717,
          -0.311803005933188,
          0.5234053003502719,
          -1.1370049341208008,
          1.785947315671499,
          0.09836375440051173,
          -1.49973660026947,
          0.6840064709496927,
          -0.29337150802113277,
          -0.2492993835514884,
          -0.2452004782750859,
          0.7453097427990474,
          0.46382336176975625,
          0.14690685645880708,
          1.658889165267742,
          -1.5119993487990275,
          0.45330904405195466,
          -1.6403546564341527,
          0.2252746294380069,
          2.0287963385526178,
          -0.566046123755891,
          0.448211178778663,
          -1.8506720916351953,
          -0.042595144127149306,
          -0.08206156409590681,
          0.9445911772581148,
          0.4361661575564618,
          2.9626678910230035,
          0.7178948825887508,
          0.39177457468797705,
          1.5350778646164982,
          -0.16204914164458326,
          -0.26327624177704206,
          1.9362232339556251,
          1.470902854898459,
          -1.3164221749124145,
          1.5042128521943556,
          -0.5525791281329449,
          0.8730099647445734,
          0.20946417573364837,
          -0.6288275527653823,
          0.5794005820262775,
          -1.2425977976467448,
          -1.4518619763805094,
          2.299083454990828,
          -1.690325676193857,
          -2.4398802478119537,
          1.0090783405534172,
          0.9699967438449757,
          -0.21462755564471853,
          -0.42668066402267263,
          -0.23114341508506436,
          1.5878263873553595,
          1.1974923701274496,
          -0.6328802911920552,
          -0.115689071673373,
          -1.5659625465829852,
          -1.7039208968111301,
          -0.3828743631970665,
          0.5533231160499545,
          0.041511676904158946,
          1.0910109735200546,
          -1.513318971862418,
          1.5973851901395408,
          0.7633726790710887,
          -0.2852253714361112,
          -0.19098469827365344,
          0.07558426108686768,
          1.374003041243804,
          0.6520549544554999,
          -1.5669714988794585,
          0.4982460397601832,
          1.3734024216590928,
          1.0223216631378484,
          -0.9776227762824543,
          0.19719940143862155,
          0.3845888157721083,
          -0.8260134162166382,
          1.5800598722242059,
          -0.7555635387878384,
          -2.8840612108842882,
          0.6200362228783207,
          0.5282222199839804,
          -0.21536613709856278,
          -0.39191915436692076,
          0.2804700919368603,
          1.7476967130053918,
          -0.016109583924299856,
          -0.8780920316098697,
          -0.2110077017324482,
          1.4053406740461782,
          0.8268885442630262,
          0.756069351921896,
          -2.0379589159741074,
          -0.6551719112574574,
          -2.441510348937944,
          0.9514195156737354,
          0.32980494191058835,
          -0.5695516056060412,
          -1.056582768713903
         ],
         "yaxis": "y15"
        },
        {
         "histfunc": "count",
         "histnorm": "",
         "marker": {
          "color": "rgba(128, 0, 128, 1.0)",
          "line": {
           "color": "#4D5663",
           "width": 1.3
          }
         },
         "name": "D",
         "nbinsx": 10,
         "opacity": 0.8,
         "orientation": "v",
         "type": "histogram",
         "x": [
          -2.650812997314717,
          -0.311803005933188,
          0.5234053003502719,
          -1.1370049341208008,
          1.785947315671499,
          0.09836375440051173,
          -1.49973660026947,
          0.6840064709496927,
          -0.29337150802113277,
          -0.2492993835514884,
          -0.2452004782750859,
          0.7453097427990474,
          0.46382336176975625,
          0.14690685645880708,
          1.658889165267742,
          -1.5119993487990275,
          0.45330904405195466,
          -1.6403546564341527,
          0.2252746294380069,
          2.0287963385526178,
          -0.566046123755891,
          0.448211178778663,
          -1.8506720916351953,
          -0.042595144127149306,
          -0.08206156409590681,
          0.9445911772581148,
          0.4361661575564618,
          2.9626678910230035,
          0.7178948825887508,
          0.39177457468797705,
          1.5350778646164982,
          -0.16204914164458326,
          -0.26327624177704206,
          1.9362232339556251,
          1.470902854898459,
          -1.3164221749124145,
          1.5042128521943556,
          -0.5525791281329449,
          0.8730099647445734,
          0.20946417573364837,
          -0.6288275527653823,
          0.5794005820262775,
          -1.2425977976467448,
          -1.4518619763805094,
          2.299083454990828,
          -1.690325676193857,
          -2.4398802478119537,
          1.0090783405534172,
          0.9699967438449757,
          -0.21462755564471853,
          -0.42668066402267263,
          -0.23114341508506436,
          1.5878263873553595,
          1.1974923701274496,
          -0.6328802911920552,
          -0.115689071673373,
          -1.5659625465829852,
          -1.7039208968111301,
          -0.3828743631970665,
          0.5533231160499545,
          0.041511676904158946,
          1.0910109735200546,
          -1.513318971862418,
          1.5973851901395408,
          0.7633726790710887,
          -0.2852253714361112,
          -0.19098469827365344,
          0.07558426108686768,
          1.374003041243804,
          0.6520549544554999,
          -1.5669714988794585,
          0.4982460397601832,
          1.3734024216590928,
          1.0223216631378484,
          -0.9776227762824543,
          0.19719940143862155,
          0.3845888157721083,
          -0.8260134162166382,
          1.5800598722242059,
          -0.7555635387878384,
          -2.8840612108842882,
          0.6200362228783207,
          0.5282222199839804,
          -0.21536613709856278,
          -0.39191915436692076,
          0.2804700919368603,
          1.7476967130053918,
          -0.016109583924299856,
          -0.8780920316098697,
          -0.2110077017324482,
          1.4053406740461782,
          0.8268885442630262,
          0.756069351921896,
          -2.0379589159741074,
          -0.6551719112574574,
          -2.441510348937944,
          0.9514195156737354,
          0.32980494191058835,
          -0.5695516056060412,
          -1.056582768713903
         ],
         "xaxis": "x16",
         "yaxis": "y16"
        }
       ],
       "layout": {
        "bargap": 0.02,
        "legend": {
         "bgcolor": "#F5F6F9",
         "font": {
          "color": "#4D5663"
         }
        },
        "paper_bgcolor": "#F5F6F9",
        "plot_bgcolor": "#F5F6F9",
        "showlegend": false,
        "template": {
         "data": {
          "bar": [
           {
            "error_x": {
             "color": "#2a3f5f"
            },
            "error_y": {
             "color": "#2a3f5f"
            },
            "marker": {
             "line": {
              "color": "#E5ECF6",
              "width": 0.5
             }
            },
            "type": "bar"
           }
          ],
          "barpolar": [
           {
            "marker": {
             "line": {
              "color": "#E5ECF6",
              "width": 0.5
             }
            },
            "type": "barpolar"
           }
          ],
          "carpet": [
           {
            "aaxis": {
             "endlinecolor": "#2a3f5f",
             "gridcolor": "white",
             "linecolor": "white",
             "minorgridcolor": "white",
             "startlinecolor": "#2a3f5f"
            },
            "baxis": {
             "endlinecolor": "#2a3f5f",
             "gridcolor": "white",
             "linecolor": "white",
             "minorgridcolor": "white",
             "startlinecolor": "#2a3f5f"
            },
            "type": "carpet"
           }
          ],
          "choropleth": [
           {
            "colorbar": {
             "outlinewidth": 0,
             "ticks": ""
            },
            "type": "choropleth"
           }
          ],
          "contour": [
           {
            "colorbar": {
             "outlinewidth": 0,
             "ticks": ""
            },
            "colorscale": [
             [
              0,
              "#0d0887"
             ],
             [
              0.1111111111111111,
              "#46039f"
             ],
             [
              0.2222222222222222,
              "#7201a8"
             ],
             [
              0.3333333333333333,
              "#9c179e"
             ],
             [
              0.4444444444444444,
              "#bd3786"
             ],
             [
              0.5555555555555556,
              "#d8576b"
             ],
             [
              0.6666666666666666,
              "#ed7953"
             ],
             [
              0.7777777777777778,
              "#fb9f3a"
             ],
             [
              0.8888888888888888,
              "#fdca26"
             ],
             [
              1,
              "#f0f921"
             ]
            ],
            "type": "contour"
           }
          ],
          "contourcarpet": [
           {
            "colorbar": {
             "outlinewidth": 0,
             "ticks": ""
            },
            "type": "contourcarpet"
           }
          ],
          "heatmap": [
           {
            "colorbar": {
             "outlinewidth": 0,
             "ticks": ""
            },
            "colorscale": [
             [
              0,
              "#0d0887"
             ],
             [
              0.1111111111111111,
              "#46039f"
             ],
             [
              0.2222222222222222,
              "#7201a8"
             ],
             [
              0.3333333333333333,
              "#9c179e"
             ],
             [
              0.4444444444444444,
              "#bd3786"
             ],
             [
              0.5555555555555556,
              "#d8576b"
             ],
             [
              0.6666666666666666,
              "#ed7953"
             ],
             [
              0.7777777777777778,
              "#fb9f3a"
             ],
             [
              0.8888888888888888,
              "#fdca26"
             ],
             [
              1,
              "#f0f921"
             ]
            ],
            "type": "heatmap"
           }
          ],
          "heatmapgl": [
           {
            "colorbar": {
             "outlinewidth": 0,
             "ticks": ""
            },
            "colorscale": [
             [
              0,
              "#0d0887"
             ],
             [
              0.1111111111111111,
              "#46039f"
             ],
             [
              0.2222222222222222,
              "#7201a8"
             ],
             [
              0.3333333333333333,
              "#9c179e"
             ],
             [
              0.4444444444444444,
              "#bd3786"
             ],
             [
              0.5555555555555556,
              "#d8576b"
             ],
             [
              0.6666666666666666,
              "#ed7953"
             ],
             [
              0.7777777777777778,
              "#fb9f3a"
             ],
             [
              0.8888888888888888,
              "#fdca26"
             ],
             [
              1,
              "#f0f921"
             ]
            ],
            "type": "heatmapgl"
           }
          ],
          "histogram": [
           {
            "marker": {
             "colorbar": {
              "outlinewidth": 0,
              "ticks": ""
             }
            },
            "type": "histogram"
           }
          ],
          "histogram2d": [
           {
            "colorbar": {
             "outlinewidth": 0,
             "ticks": ""
            },
            "colorscale": [
             [
              0,
              "#0d0887"
             ],
             [
              0.1111111111111111,
              "#46039f"
             ],
             [
              0.2222222222222222,
              "#7201a8"
             ],
             [
              0.3333333333333333,
              "#9c179e"
             ],
             [
              0.4444444444444444,
              "#bd3786"
             ],
             [
              0.5555555555555556,
              "#d8576b"
             ],
             [
              0.6666666666666666,
              "#ed7953"
             ],
             [
              0.7777777777777778,
              "#fb9f3a"
             ],
             [
              0.8888888888888888,
              "#fdca26"
             ],
             [
              1,
              "#f0f921"
             ]
            ],
            "type": "histogram2d"
           }
          ],
          "histogram2dcontour": [
           {
            "colorbar": {
             "outlinewidth": 0,
             "ticks": ""
            },
            "colorscale": [
             [
              0,
              "#0d0887"
             ],
             [
              0.1111111111111111,
              "#46039f"
             ],
             [
              0.2222222222222222,
              "#7201a8"
             ],
             [
              0.3333333333333333,
              "#9c179e"
             ],
             [
              0.4444444444444444,
              "#bd3786"
             ],
             [
              0.5555555555555556,
              "#d8576b"
             ],
             [
              0.6666666666666666,
              "#ed7953"
             ],
             [
              0.7777777777777778,
              "#fb9f3a"
             ],
             [
              0.8888888888888888,
              "#fdca26"
             ],
             [
              1,
              "#f0f921"
             ]
            ],
            "type": "histogram2dcontour"
           }
          ],
          "mesh3d": [
           {
            "colorbar": {
             "outlinewidth": 0,
             "ticks": ""
            },
            "type": "mesh3d"
           }
          ],
          "parcoords": [
           {
            "line": {
             "colorbar": {
              "outlinewidth": 0,
              "ticks": ""
             }
            },
            "type": "parcoords"
           }
          ],
          "pie": [
           {
            "automargin": true,
            "type": "pie"
           }
          ],
          "scatter": [
           {
            "marker": {
             "colorbar": {
              "outlinewidth": 0,
              "ticks": ""
             }
            },
            "type": "scatter"
           }
          ],
          "scatter3d": [
           {
            "line": {
             "colorbar": {
              "outlinewidth": 0,
              "ticks": ""
             }
            },
            "marker": {
             "colorbar": {
              "outlinewidth": 0,
              "ticks": ""
             }
            },
            "type": "scatter3d"
           }
          ],
          "scattercarpet": [
           {
            "marker": {
             "colorbar": {
              "outlinewidth": 0,
              "ticks": ""
             }
            },
            "type": "scattercarpet"
           }
          ],
          "scattergeo": [
           {
            "marker": {
             "colorbar": {
              "outlinewidth": 0,
              "ticks": ""
             }
            },
            "type": "scattergeo"
           }
          ],
          "scattergl": [
           {
            "marker": {
             "colorbar": {
              "outlinewidth": 0,
              "ticks": ""
             }
            },
            "type": "scattergl"
           }
          ],
          "scattermapbox": [
           {
            "marker": {
             "colorbar": {
              "outlinewidth": 0,
              "ticks": ""
             }
            },
            "type": "scattermapbox"
           }
          ],
          "scatterpolar": [
           {
            "marker": {
             "colorbar": {
              "outlinewidth": 0,
              "ticks": ""
             }
            },
            "type": "scatterpolar"
           }
          ],
          "scatterpolargl": [
           {
            "marker": {
             "colorbar": {
              "outlinewidth": 0,
              "ticks": ""
             }
            },
            "type": "scatterpolargl"
           }
          ],
          "scatterternary": [
           {
            "marker": {
             "colorbar": {
              "outlinewidth": 0,
              "ticks": ""
             }
            },
            "type": "scatterternary"
           }
          ],
          "surface": [
           {
            "colorbar": {
             "outlinewidth": 0,
             "ticks": ""
            },
            "colorscale": [
             [
              0,
              "#0d0887"
             ],
             [
              0.1111111111111111,
              "#46039f"
             ],
             [
              0.2222222222222222,
              "#7201a8"
             ],
             [
              0.3333333333333333,
              "#9c179e"
             ],
             [
              0.4444444444444444,
              "#bd3786"
             ],
             [
              0.5555555555555556,
              "#d8576b"
             ],
             [
              0.6666666666666666,
              "#ed7953"
             ],
             [
              0.7777777777777778,
              "#fb9f3a"
             ],
             [
              0.8888888888888888,
              "#fdca26"
             ],
             [
              1,
              "#f0f921"
             ]
            ],
            "type": "surface"
           }
          ],
          "table": [
           {
            "cells": {
             "fill": {
              "color": "#EBF0F8"
             },
             "line": {
              "color": "white"
             }
            },
            "header": {
             "fill": {
              "color": "#C8D4E3"
             },
             "line": {
              "color": "white"
             }
            },
            "type": "table"
           }
          ]
         },
         "layout": {
          "annotationdefaults": {
           "arrowcolor": "#2a3f5f",
           "arrowhead": 0,
           "arrowwidth": 1
          },
          "coloraxis": {
           "colorbar": {
            "outlinewidth": 0,
            "ticks": ""
           }
          },
          "colorscale": {
           "diverging": [
            [
             0,
             "#8e0152"
            ],
            [
             0.1,
             "#c51b7d"
            ],
            [
             0.2,
             "#de77ae"
            ],
            [
             0.3,
             "#f1b6da"
            ],
            [
             0.4,
             "#fde0ef"
            ],
            [
             0.5,
             "#f7f7f7"
            ],
            [
             0.6,
             "#e6f5d0"
            ],
            [
             0.7,
             "#b8e186"
            ],
            [
             0.8,
             "#7fbc41"
            ],
            [
             0.9,
             "#4d9221"
            ],
            [
             1,
             "#276419"
            ]
           ],
           "sequential": [
            [
             0,
             "#0d0887"
            ],
            [
             0.1111111111111111,
             "#46039f"
            ],
            [
             0.2222222222222222,
             "#7201a8"
            ],
            [
             0.3333333333333333,
             "#9c179e"
            ],
            [
             0.4444444444444444,
             "#bd3786"
            ],
            [
             0.5555555555555556,
             "#d8576b"
            ],
            [
             0.6666666666666666,
             "#ed7953"
            ],
            [
             0.7777777777777778,
             "#fb9f3a"
            ],
            [
             0.8888888888888888,
             "#fdca26"
            ],
            [
             1,
             "#f0f921"
            ]
           ],
           "sequentialminus": [
            [
             0,
             "#0d0887"
            ],
            [
             0.1111111111111111,
             "#46039f"
            ],
            [
             0.2222222222222222,
             "#7201a8"
            ],
            [
             0.3333333333333333,
             "#9c179e"
            ],
            [
             0.4444444444444444,
             "#bd3786"
            ],
            [
             0.5555555555555556,
             "#d8576b"
            ],
            [
             0.6666666666666666,
             "#ed7953"
            ],
            [
             0.7777777777777778,
             "#fb9f3a"
            ],
            [
             0.8888888888888888,
             "#fdca26"
            ],
            [
             1,
             "#f0f921"
            ]
           ]
          },
          "colorway": [
           "#636efa",
           "#EF553B",
           "#00cc96",
           "#ab63fa",
           "#FFA15A",
           "#19d3f3",
           "#FF6692",
           "#B6E880",
           "#FF97FF",
           "#FECB52"
          ],
          "font": {
           "color": "#2a3f5f"
          },
          "geo": {
           "bgcolor": "white",
           "lakecolor": "white",
           "landcolor": "#E5ECF6",
           "showlakes": true,
           "showland": true,
           "subunitcolor": "white"
          },
          "hoverlabel": {
           "align": "left"
          },
          "hovermode": "closest",
          "mapbox": {
           "style": "light"
          },
          "paper_bgcolor": "white",
          "plot_bgcolor": "#E5ECF6",
          "polar": {
           "angularaxis": {
            "gridcolor": "white",
            "linecolor": "white",
            "ticks": ""
           },
           "bgcolor": "#E5ECF6",
           "radialaxis": {
            "gridcolor": "white",
            "linecolor": "white",
            "ticks": ""
           }
          },
          "scene": {
           "xaxis": {
            "backgroundcolor": "#E5ECF6",
            "gridcolor": "white",
            "gridwidth": 2,
            "linecolor": "white",
            "showbackground": true,
            "ticks": "",
            "zerolinecolor": "white"
           },
           "yaxis": {
            "backgroundcolor": "#E5ECF6",
            "gridcolor": "white",
            "gridwidth": 2,
            "linecolor": "white",
            "showbackground": true,
            "ticks": "",
            "zerolinecolor": "white"
           },
           "zaxis": {
            "backgroundcolor": "#E5ECF6",
            "gridcolor": "white",
            "gridwidth": 2,
            "linecolor": "white",
            "showbackground": true,
            "ticks": "",
            "zerolinecolor": "white"
           }
          },
          "shapedefaults": {
           "line": {
            "color": "#2a3f5f"
           }
          },
          "ternary": {
           "aaxis": {
            "gridcolor": "white",
            "linecolor": "white",
            "ticks": ""
           },
           "baxis": {
            "gridcolor": "white",
            "linecolor": "white",
            "ticks": ""
           },
           "bgcolor": "#E5ECF6",
           "caxis": {
            "gridcolor": "white",
            "linecolor": "white",
            "ticks": ""
           }
          },
          "title": {
           "x": 0.05
          },
          "xaxis": {
           "automargin": true,
           "gridcolor": "white",
           "linecolor": "white",
           "ticks": "",
           "title": {
            "standoff": 15
           },
           "zerolinecolor": "white",
           "zerolinewidth": 2
          },
          "yaxis": {
           "automargin": true,
           "gridcolor": "white",
           "linecolor": "white",
           "ticks": "",
           "title": {
            "standoff": 15
           },
           "zerolinecolor": "white",
           "zerolinewidth": 2
          }
         }
        },
        "title": {
         "font": {
          "color": "#4D5663"
         }
        },
        "xaxis": {
         "anchor": "y",
         "domain": [
          0,
          0.2125
         ],
         "gridcolor": "#E1E5ED",
         "showgrid": false,
         "tickfont": {
          "color": "#4D5663"
         },
         "title": {
          "font": {
           "color": "#4D5663"
          },
          "text": ""
         },
         "zerolinecolor": "#E1E5ED"
        },
        "xaxis10": {
         "anchor": "y10",
         "domain": [
          0.2625,
          0.475
         ],
         "gridcolor": "#E1E5ED",
         "showgrid": false,
         "tickfont": {
          "color": "#4D5663"
         },
         "title": {
          "font": {
           "color": "#4D5663"
          },
          "text": ""
         },
         "zerolinecolor": "#E1E5ED"
        },
        "xaxis11": {
         "anchor": "y11",
         "domain": [
          0.525,
          0.7375
         ],
         "gridcolor": "#E1E5ED",
         "showgrid": false,
         "tickfont": {
          "color": "#4D5663"
         },
         "title": {
          "font": {
           "color": "#4D5663"
          },
          "text": ""
         },
         "zerolinecolor": "#E1E5ED"
        },
        "xaxis12": {
         "anchor": "y12",
         "domain": [
          0.7875,
          1
         ],
         "gridcolor": "#E1E5ED",
         "showgrid": false,
         "tickfont": {
          "color": "#4D5663"
         },
         "title": {
          "font": {
           "color": "#4D5663"
          },
          "text": ""
         },
         "zerolinecolor": "#E1E5ED"
        },
        "xaxis13": {
         "anchor": "y13",
         "domain": [
          0,
          0.2125
         ],
         "gridcolor": "#E1E5ED",
         "showgrid": false,
         "tickfont": {
          "color": "#4D5663"
         },
         "title": {
          "font": {
           "color": "#4D5663"
          },
          "text": ""
         },
         "zerolinecolor": "#E1E5ED"
        },
        "xaxis14": {
         "anchor": "y14",
         "domain": [
          0.2625,
          0.475
         ],
         "gridcolor": "#E1E5ED",
         "showgrid": false,
         "tickfont": {
          "color": "#4D5663"
         },
         "title": {
          "font": {
           "color": "#4D5663"
          },
          "text": ""
         },
         "zerolinecolor": "#E1E5ED"
        },
        "xaxis15": {
         "anchor": "y15",
         "domain": [
          0.525,
          0.7375
         ],
         "gridcolor": "#E1E5ED",
         "showgrid": false,
         "tickfont": {
          "color": "#4D5663"
         },
         "title": {
          "font": {
           "color": "#4D5663"
          },
          "text": ""
         },
         "zerolinecolor": "#E1E5ED"
        },
        "xaxis16": {
         "anchor": "y16",
         "domain": [
          0.7875,
          1
         ],
         "gridcolor": "#E1E5ED",
         "showgrid": false,
         "tickfont": {
          "color": "#4D5663"
         },
         "title": {
          "font": {
           "color": "#4D5663"
          },
          "text": ""
         },
         "zerolinecolor": "#E1E5ED"
        },
        "xaxis2": {
         "anchor": "y2",
         "domain": [
          0.2625,
          0.475
         ],
         "gridcolor": "#E1E5ED",
         "showgrid": false,
         "tickfont": {
          "color": "#4D5663"
         },
         "title": {
          "font": {
           "color": "#4D5663"
          },
          "text": ""
         },
         "zerolinecolor": "#E1E5ED"
        },
        "xaxis3": {
         "anchor": "y3",
         "domain": [
          0.525,
          0.7375
         ],
         "gridcolor": "#E1E5ED",
         "showgrid": false,
         "tickfont": {
          "color": "#4D5663"
         },
         "title": {
          "font": {
           "color": "#4D5663"
          },
          "text": ""
         },
         "zerolinecolor": "#E1E5ED"
        },
        "xaxis4": {
         "anchor": "y4",
         "domain": [
          0.7875,
          1
         ],
         "gridcolor": "#E1E5ED",
         "showgrid": false,
         "tickfont": {
          "color": "#4D5663"
         },
         "title": {
          "font": {
           "color": "#4D5663"
          },
          "text": ""
         },
         "zerolinecolor": "#E1E5ED"
        },
        "xaxis5": {
         "anchor": "y5",
         "domain": [
          0,
          0.2125
         ],
         "gridcolor": "#E1E5ED",
         "showgrid": false,
         "tickfont": {
          "color": "#4D5663"
         },
         "title": {
          "font": {
           "color": "#4D5663"
          },
          "text": ""
         },
         "zerolinecolor": "#E1E5ED"
        },
        "xaxis6": {
         "anchor": "y6",
         "domain": [
          0.2625,
          0.475
         ],
         "gridcolor": "#E1E5ED",
         "showgrid": false,
         "tickfont": {
          "color": "#4D5663"
         },
         "title": {
          "font": {
           "color": "#4D5663"
          },
          "text": ""
         },
         "zerolinecolor": "#E1E5ED"
        },
        "xaxis7": {
         "anchor": "y7",
         "domain": [
          0.525,
          0.7375
         ],
         "gridcolor": "#E1E5ED",
         "showgrid": false,
         "tickfont": {
          "color": "#4D5663"
         },
         "title": {
          "font": {
           "color": "#4D5663"
          },
          "text": ""
         },
         "zerolinecolor": "#E1E5ED"
        },
        "xaxis8": {
         "anchor": "y8",
         "domain": [
          0.7875,
          1
         ],
         "gridcolor": "#E1E5ED",
         "showgrid": false,
         "tickfont": {
          "color": "#4D5663"
         },
         "title": {
          "font": {
           "color": "#4D5663"
          },
          "text": ""
         },
         "zerolinecolor": "#E1E5ED"
        },
        "xaxis9": {
         "anchor": "y9",
         "domain": [
          0,
          0.2125
         ],
         "gridcolor": "#E1E5ED",
         "showgrid": false,
         "tickfont": {
          "color": "#4D5663"
         },
         "title": {
          "font": {
           "color": "#4D5663"
          },
          "text": ""
         },
         "zerolinecolor": "#E1E5ED"
        },
        "yaxis": {
         "anchor": "x",
         "domain": [
          0.8025,
          1
         ],
         "gridcolor": "#E1E5ED",
         "showgrid": false,
         "tickfont": {
          "color": "#4D5663"
         },
         "title": {
          "font": {
           "color": "#4D5663"
          },
          "text": ""
         },
         "zerolinecolor": "#E1E5ED"
        },
        "yaxis10": {
         "anchor": "x10",
         "domain": [
          0.2675,
          0.465
         ],
         "gridcolor": "#E1E5ED",
         "showgrid": false,
         "tickfont": {
          "color": "#4D5663"
         },
         "title": {
          "font": {
           "color": "#4D5663"
          },
          "text": ""
         },
         "zerolinecolor": "#E1E5ED"
        },
        "yaxis11": {
         "anchor": "x11",
         "domain": [
          0.2675,
          0.465
         ],
         "gridcolor": "#E1E5ED",
         "showgrid": false,
         "tickfont": {
          "color": "#4D5663"
         },
         "title": {
          "font": {
           "color": "#4D5663"
          },
          "text": ""
         },
         "zerolinecolor": "#E1E5ED"
        },
        "yaxis12": {
         "anchor": "x12",
         "domain": [
          0.2675,
          0.465
         ],
         "gridcolor": "#E1E5ED",
         "showgrid": false,
         "tickfont": {
          "color": "#4D5663"
         },
         "title": {
          "font": {
           "color": "#4D5663"
          },
          "text": ""
         },
         "zerolinecolor": "#E1E5ED"
        },
        "yaxis13": {
         "anchor": "x13",
         "domain": [
          0,
          0.1975
         ],
         "gridcolor": "#E1E5ED",
         "showgrid": false,
         "tickfont": {
          "color": "#4D5663"
         },
         "title": {
          "font": {
           "color": "#4D5663"
          },
          "text": ""
         },
         "zerolinecolor": "#E1E5ED"
        },
        "yaxis14": {
         "anchor": "x14",
         "domain": [
          0,
          0.1975
         ],
         "gridcolor": "#E1E5ED",
         "showgrid": false,
         "tickfont": {
          "color": "#4D5663"
         },
         "title": {
          "font": {
           "color": "#4D5663"
          },
          "text": ""
         },
         "zerolinecolor": "#E1E5ED"
        },
        "yaxis15": {
         "anchor": "x15",
         "domain": [
          0,
          0.1975
         ],
         "gridcolor": "#E1E5ED",
         "showgrid": false,
         "tickfont": {
          "color": "#4D5663"
         },
         "title": {
          "font": {
           "color": "#4D5663"
          },
          "text": ""
         },
         "zerolinecolor": "#E1E5ED"
        },
        "yaxis16": {
         "anchor": "x16",
         "domain": [
          0,
          0.1975
         ],
         "gridcolor": "#E1E5ED",
         "showgrid": false,
         "tickfont": {
          "color": "#4D5663"
         },
         "title": {
          "font": {
           "color": "#4D5663"
          },
          "text": ""
         },
         "zerolinecolor": "#E1E5ED"
        },
        "yaxis2": {
         "anchor": "x2",
         "domain": [
          0.8025,
          1
         ],
         "gridcolor": "#E1E5ED",
         "showgrid": false,
         "tickfont": {
          "color": "#4D5663"
         },
         "title": {
          "font": {
           "color": "#4D5663"
          },
          "text": ""
         },
         "zerolinecolor": "#E1E5ED"
        },
        "yaxis3": {
         "anchor": "x3",
         "domain": [
          0.8025,
          1
         ],
         "gridcolor": "#E1E5ED",
         "showgrid": false,
         "tickfont": {
          "color": "#4D5663"
         },
         "title": {
          "font": {
           "color": "#4D5663"
          },
          "text": ""
         },
         "zerolinecolor": "#E1E5ED"
        },
        "yaxis4": {
         "anchor": "x4",
         "domain": [
          0.8025,
          1
         ],
         "gridcolor": "#E1E5ED",
         "showgrid": false,
         "tickfont": {
          "color": "#4D5663"
         },
         "title": {
          "font": {
           "color": "#4D5663"
          },
          "text": ""
         },
         "zerolinecolor": "#E1E5ED"
        },
        "yaxis5": {
         "anchor": "x5",
         "domain": [
          0.535,
          0.7325
         ],
         "gridcolor": "#E1E5ED",
         "showgrid": false,
         "tickfont": {
          "color": "#4D5663"
         },
         "title": {
          "font": {
           "color": "#4D5663"
          },
          "text": ""
         },
         "zerolinecolor": "#E1E5ED"
        },
        "yaxis6": {
         "anchor": "x6",
         "domain": [
          0.535,
          0.7325
         ],
         "gridcolor": "#E1E5ED",
         "showgrid": false,
         "tickfont": {
          "color": "#4D5663"
         },
         "title": {
          "font": {
           "color": "#4D5663"
          },
          "text": ""
         },
         "zerolinecolor": "#E1E5ED"
        },
        "yaxis7": {
         "anchor": "x7",
         "domain": [
          0.535,
          0.7325
         ],
         "gridcolor": "#E1E5ED",
         "showgrid": false,
         "tickfont": {
          "color": "#4D5663"
         },
         "title": {
          "font": {
           "color": "#4D5663"
          },
          "text": ""
         },
         "zerolinecolor": "#E1E5ED"
        },
        "yaxis8": {
         "anchor": "x8",
         "domain": [
          0.535,
          0.7325
         ],
         "gridcolor": "#E1E5ED",
         "showgrid": false,
         "tickfont": {
          "color": "#4D5663"
         },
         "title": {
          "font": {
           "color": "#4D5663"
          },
          "text": ""
         },
         "zerolinecolor": "#E1E5ED"
        },
        "yaxis9": {
         "anchor": "x9",
         "domain": [
          0.2675,
          0.465
         ],
         "gridcolor": "#E1E5ED",
         "showgrid": false,
         "tickfont": {
          "color": "#4D5663"
         },
         "title": {
          "font": {
           "color": "#4D5663"
          },
          "text": ""
         },
         "zerolinecolor": "#E1E5ED"
        }
       }
      },
      "text/html": [
       "<div>                            <div id=\"52246a1e-fc5d-48ed-8c83-b96e70fc4e41\" class=\"plotly-graph-div\" style=\"height:525px; width:100%;\"></div>            <script type=\"text/javascript\">                require([\"plotly\"], function(Plotly) {                    window.PLOTLYENV=window.PLOTLYENV || {};\n",
       "                    window.PLOTLYENV.BASE_URL='https://plot.ly';                                    if (document.getElementById(\"52246a1e-fc5d-48ed-8c83-b96e70fc4e41\")) {                    Plotly.newPlot(                        \"52246a1e-fc5d-48ed-8c83-b96e70fc4e41\",                        [{\"histfunc\": \"count\", \"histnorm\": \"\", \"marker\": {\"color\": \"rgba(255, 153, 51, 1.0)\", \"line\": {\"color\": \"#4D5663\", \"width\": 1.3}}, \"name\": \"A\", \"nbinsx\": 10, \"opacity\": 0.8, \"orientation\": \"v\", \"type\": \"histogram\", \"x\": [2.3050789463764794, -0.34544828836374125, -1.67491216027255, 1.207318891717801, 1.406343778561469, -1.112345759784398, 0.9446789832334939, -0.38728675731145373, 1.3079689084749777, -1.8069718036199587, 0.18825627165035458, 0.7147828258451806, 0.44192463870483806, -0.49552350971023745, -0.322800551035353, -0.47433961294441596, 0.1690883770206803, 1.2017852529943827, -0.1647321336067996, -2.3955741265632238, -1.4758945487582762, 0.962445834012295, 0.6653252839778693, -0.41880202344092315, 0.04627068636022785, -1.5185646666381192, -1.9938509523173815, -0.02240060509745099, 1.1809831611785004, 1.8801658934707632, 1.0292593510337478, 0.5949117331367149, -1.4514506277441748, -0.42502646313780856, -0.5797899821504993, -0.3581390966891277, -0.11892770450618409, 1.0926209083884437, 0.7050466192122445, 1.2375172874906153, 1.4072020975357857, 0.1575926374578665, 0.09396028076688108, 0.14998003245337374, 1.0006464685965815, 0.33651897865653907, -0.10778939786155453, 1.7762185531905517, 0.2433230426333405, 0.6573414720203437, 1.4987623651774449, 0.49100570061636384, 1.2227945124611799, 2.0356825538745524, 0.8960277472124333, 1.36131627749611, -0.01900927284926094, -1.123782384244974, 1.2024407293884816, 1.7533041101596796, 2.620102735759663, -0.9243960301190819, -0.9071010052827692, 0.7084815208490741, -1.0164586395797204, -0.9726287488168607, -2.0757409191988963, -0.4056514932145701, -0.4481169032862055, 0.2999481669822941, 0.19005409313068863, 0.20944993347497673, 1.8535331783127982, 0.10833367793192912, 0.9909118192752894, -0.18072276264957435, -0.27175596496885357, -0.3472891841078953, -1.3499379537122178, -0.24361265423740075, 0.1823942082455205, -0.11683434885062603, -1.9611819118675928, -0.10124747971168387, -0.749519554450631, -0.17063962763320573, -1.2924000897834025, -1.6363561634291774, 0.31683188489615605, 0.6767344738274852, -1.0561931295586227, -2.0631652991243787, -1.0225199848753768, -1.2074155289643396, -0.8839567228513001, -0.8159284734528616, 0.6274816714657359, 0.9671930475443826, -0.27905397820525646, -0.9770832801408772], \"xaxis\": \"x\", \"yaxis\": \"y\"}, {\"line\": {\"color\": \"rgba(128, 128, 128, 1.0)\", \"dash\": \"solid\", \"shape\": \"linear\", \"width\": 1.3}, \"marker\": {\"size\": 2, \"symbol\": \"circle\"}, \"mode\": \"markers\", \"name\": \"A\", \"text\": \"\", \"type\": \"scatter\", \"x\": [1.4564807911980027, -0.5614415874815344, 0.7690489749287509, 1.0745673115894976, -0.271650350545234, -0.20417947351171928, -1.5365217665036148, 0.5271922043293188, -1.486583190597354, -1.5334484919941673, 0.18382394706883978, 0.1344370782872019, 1.89905090532156, 0.6202785332919339, -0.45664038843023563, 1.963126990847653, 1.9369875383030903, 1.0315771467695134, -0.3453335682768677, 0.419546447142365, -1.225897365627275, -1.0887921399676082, -0.21263698997725416, 0.7718171320935325, 0.44145428919101193, -0.8468114640841646, 0.8526936191566775, -0.969355231696488, 1.5408969327530821, -0.04465803887874416, -1.0342638822781325, 0.6075784794307824, 0.020845455399087748, -0.07959203078638698, -1.2885327382950438, -0.5858261320243598, 0.2784538175232755, 0.4716251609013261, 0.007586918494829923, -1.2311721843538845, 2.263014081539277, -0.9445712149750263, -0.7801126734963407, -0.006307163966420759, 0.19209429370631423, 1.4849821222922432, -0.402824407169826, -0.1535552795197902, -0.45306006334156884, 0.2723494038368278, -0.6969797568377994, 1.3148469312491482, -0.4400678278705646, -0.5226856061207958, -1.2685087511392623, -0.7121002063687039, 0.4922848868566591, 1.4080506928339986, -0.6740640131990668, 0.47859781454993217, 0.10407954693386935, -0.09125617817861699, -1.3627903947738937, -1.280305454707673, 1.0676149669634278, 0.10098596940395344, 0.3087197869344185, 0.3416669711946196, -0.2456850602506728, -0.8054522753423443, -0.3581753964308596, 1.2538718650534761, 1.5812764633116267, -1.2869964689617, 0.5134159053161619, 1.0984181861336495, -0.939853681439602, -0.7874505356156805, -0.5251233813470253, 1.426548881182392, 0.07011129375683395, 0.3043731808315209, 1.3453342775245516, 0.8797891435530668, 0.08819796782327056, 0.7785641262132776, -0.32251783943947593, -1.103603729843237, 1.561003488139711, -0.8993481124743095, 2.527656223510702, -0.035756115285384076, 2.32755828482868, 0.8455828949792558, 1.4395208708887242, -0.13261587328217128, 0.9653423868237719, -1.5985346969508438, -0.9772914721691849, 0.6427378710046866], \"xaxis\": \"x2\", \"y\": [2.3050789463764794, -0.34544828836374125, -1.67491216027255, 1.207318891717801, 1.406343778561469, -1.112345759784398, 0.9446789832334939, -0.38728675731145373, 1.3079689084749777, -1.8069718036199587, 0.18825627165035458, 0.7147828258451806, 0.44192463870483806, -0.49552350971023745, -0.322800551035353, -0.47433961294441596, 0.1690883770206803, 1.2017852529943827, -0.1647321336067996, -2.3955741265632238, -1.4758945487582762, 0.962445834012295, 0.6653252839778693, -0.41880202344092315, 0.04627068636022785, -1.5185646666381192, -1.9938509523173815, -0.02240060509745099, 1.1809831611785004, 1.8801658934707632, 1.0292593510337478, 0.5949117331367149, -1.4514506277441748, -0.42502646313780856, -0.5797899821504993, -0.3581390966891277, -0.11892770450618409, 1.0926209083884437, 0.7050466192122445, 1.2375172874906153, 1.4072020975357857, 0.1575926374578665, 0.09396028076688108, 0.14998003245337374, 1.0006464685965815, 0.33651897865653907, -0.10778939786155453, 1.7762185531905517, 0.2433230426333405, 0.6573414720203437, 1.4987623651774449, 0.49100570061636384, 1.2227945124611799, 2.0356825538745524, 0.8960277472124333, 1.36131627749611, -0.01900927284926094, -1.123782384244974, 1.2024407293884816, 1.7533041101596796, 2.620102735759663, -0.9243960301190819, -0.9071010052827692, 0.7084815208490741, -1.0164586395797204, -0.9726287488168607, -2.0757409191988963, -0.4056514932145701, -0.4481169032862055, 0.2999481669822941, 0.19005409313068863, 0.20944993347497673, 1.8535331783127982, 0.10833367793192912, 0.9909118192752894, -0.18072276264957435, -0.27175596496885357, -0.3472891841078953, -1.3499379537122178, -0.24361265423740075, 0.1823942082455205, -0.11683434885062603, -1.9611819118675928, -0.10124747971168387, -0.749519554450631, -0.17063962763320573, -1.2924000897834025, -1.6363561634291774, 0.31683188489615605, 0.6767344738274852, -1.0561931295586227, -2.0631652991243787, -1.0225199848753768, -1.2074155289643396, -0.8839567228513001, -0.8159284734528616, 0.6274816714657359, 0.9671930475443826, -0.27905397820525646, -0.9770832801408772], \"yaxis\": \"y2\"}, {\"line\": {\"color\": \"rgba(128, 128, 128, 1.0)\", \"dash\": \"solid\", \"shape\": \"linear\", \"width\": 1.3}, \"marker\": {\"size\": 2, \"symbol\": \"circle\"}, \"mode\": \"markers\", \"name\": \"A\", \"text\": \"\", \"type\": \"scatter\", \"x\": [-1.0414728897711043, -2.4987006337049427, -1.7405625562342926, 0.7807465485246431, 0.28696749890926176, 0.3363917430252014, 1.293532558358908, 0.1665194695042929, 1.2360927636981422, -1.2564294093066566, 1.2563769793990662, -0.7363214218721139, 0.24426512556462346, -0.11970512182658005, 1.4677478735443614, 1.0647201557032324, -0.45187302257846534, 0.653678868083953, -1.5907134807199985, -1.277732744505322, -0.7228632863713857, 0.7172278823394252, -1.965459613280281, 0.286972183094621, 0.907355772897085, 0.5998967596872434, 0.5651197404402956, -1.0859124022080506, -1.5773190091059082, 1.1157090318556244, -0.06785848898904057, 1.0984784868393382, 0.7813197529628041, 0.48810393395852364, -0.17708026291624845, 0.14629573582432567, -0.11493238419180425, 0.44331295229358997, 0.20136428167932743, -0.019043969415183784, 1.1678372009338673, -1.3483861691724721, -0.7588281414384854, -1.8578532286983487, -0.7444082117778972, -1.0092091832703185, -1.3889162965474495, -0.5371878391790263, -1.4361023025838564, 0.7229130593162181, -0.7199255425887895, -0.30998165984331827, 0.6114310600050571, 0.7969940652634873, 0.6989867534379552, 0.7715048258999205, 0.9559915679786413, -1.388943101110845, -1.1933157339805522, 0.03930509746200616, 1.4075249287877474, -0.31334032917702986, -0.6561559716404194, -0.9588235530918053, 0.007003808306168607, -2.2882431550424704, 0.5874340245739881, -1.2836564652794462, -0.6128829960450962, -0.6384337306448875, -0.7473031588310945, 0.8329215554230448, -0.0014366113415588348, 1.12889882070921, -0.6263450347390124, -0.15207317744954088, -0.34889044161686383, 1.6308397019642658, 0.35697692349751, -0.11009491880760186, 0.8975216642444559, 2.1933943747515614, 1.88500555603819, -0.060286786408807254, -0.12427068027435265, 1.4104620063591755, -0.6422684116873881, 0.6854913943508008, 1.1785110035923059, -0.16773448800986715, 0.38472630846110245, 0.36702394044670406, -2.408159159994002, -0.7380395276178535, 1.304615893104272, 1.187080311936938, -0.15224202616043214, 0.4098386402951023, 0.6487386974994944, 1.081403143428471], \"xaxis\": \"x3\", \"y\": [2.3050789463764794, -0.34544828836374125, -1.67491216027255, 1.207318891717801, 1.406343778561469, -1.112345759784398, 0.9446789832334939, -0.38728675731145373, 1.3079689084749777, -1.8069718036199587, 0.18825627165035458, 0.7147828258451806, 0.44192463870483806, -0.49552350971023745, -0.322800551035353, -0.47433961294441596, 0.1690883770206803, 1.2017852529943827, -0.1647321336067996, -2.3955741265632238, -1.4758945487582762, 0.962445834012295, 0.6653252839778693, -0.41880202344092315, 0.04627068636022785, -1.5185646666381192, -1.9938509523173815, -0.02240060509745099, 1.1809831611785004, 1.8801658934707632, 1.0292593510337478, 0.5949117331367149, -1.4514506277441748, -0.42502646313780856, -0.5797899821504993, -0.3581390966891277, -0.11892770450618409, 1.0926209083884437, 0.7050466192122445, 1.2375172874906153, 1.4072020975357857, 0.1575926374578665, 0.09396028076688108, 0.14998003245337374, 1.0006464685965815, 0.33651897865653907, -0.10778939786155453, 1.7762185531905517, 0.2433230426333405, 0.6573414720203437, 1.4987623651774449, 0.49100570061636384, 1.2227945124611799, 2.0356825538745524, 0.8960277472124333, 1.36131627749611, -0.01900927284926094, -1.123782384244974, 1.2024407293884816, 1.7533041101596796, 2.620102735759663, -0.9243960301190819, -0.9071010052827692, 0.7084815208490741, -1.0164586395797204, -0.9726287488168607, -2.0757409191988963, -0.4056514932145701, -0.4481169032862055, 0.2999481669822941, 0.19005409313068863, 0.20944993347497673, 1.8535331783127982, 0.10833367793192912, 0.9909118192752894, -0.18072276264957435, -0.27175596496885357, -0.3472891841078953, -1.3499379537122178, -0.24361265423740075, 0.1823942082455205, -0.11683434885062603, -1.9611819118675928, -0.10124747971168387, -0.749519554450631, -0.17063962763320573, -1.2924000897834025, -1.6363561634291774, 0.31683188489615605, 0.6767344738274852, -1.0561931295586227, -2.0631652991243787, -1.0225199848753768, -1.2074155289643396, -0.8839567228513001, -0.8159284734528616, 0.6274816714657359, 0.9671930475443826, -0.27905397820525646, -0.9770832801408772], \"yaxis\": \"y3\"}, {\"line\": {\"color\": \"rgba(128, 128, 128, 1.0)\", \"dash\": \"solid\", \"shape\": \"linear\", \"width\": 1.3}, \"marker\": {\"size\": 2, \"symbol\": \"circle\"}, \"mode\": \"markers\", \"name\": \"A\", \"text\": \"\", \"type\": \"scatter\", \"x\": [-2.650812997314717, -0.311803005933188, 0.5234053003502719, -1.1370049341208008, 1.785947315671499, 0.09836375440051173, -1.49973660026947, 0.6840064709496927, -0.29337150802113277, -0.2492993835514884, -0.2452004782750859, 0.7453097427990474, 0.46382336176975625, 0.14690685645880708, 1.658889165267742, -1.5119993487990275, 0.45330904405195466, -1.6403546564341527, 0.2252746294380069, 2.0287963385526178, -0.566046123755891, 0.448211178778663, -1.8506720916351953, -0.042595144127149306, -0.08206156409590681, 0.9445911772581148, 0.4361661575564618, 2.9626678910230035, 0.7178948825887508, 0.39177457468797705, 1.5350778646164982, -0.16204914164458326, -0.26327624177704206, 1.9362232339556251, 1.470902854898459, -1.3164221749124145, 1.5042128521943556, -0.5525791281329449, 0.8730099647445734, 0.20946417573364837, -0.6288275527653823, 0.5794005820262775, -1.2425977976467448, -1.4518619763805094, 2.299083454990828, -1.690325676193857, -2.4398802478119537, 1.0090783405534172, 0.9699967438449757, -0.21462755564471853, -0.42668066402267263, -0.23114341508506436, 1.5878263873553595, 1.1974923701274496, -0.6328802911920552, -0.115689071673373, -1.5659625465829852, -1.7039208968111301, -0.3828743631970665, 0.5533231160499545, 0.041511676904158946, 1.0910109735200546, -1.513318971862418, 1.5973851901395408, 0.7633726790710887, -0.2852253714361112, -0.19098469827365344, 0.07558426108686768, 1.374003041243804, 0.6520549544554999, -1.5669714988794585, 0.4982460397601832, 1.3734024216590928, 1.0223216631378484, -0.9776227762824543, 0.19719940143862155, 0.3845888157721083, -0.8260134162166382, 1.5800598722242059, -0.7555635387878384, -2.8840612108842882, 0.6200362228783207, 0.5282222199839804, -0.21536613709856278, -0.39191915436692076, 0.2804700919368603, 1.7476967130053918, -0.016109583924299856, -0.8780920316098697, -0.2110077017324482, 1.4053406740461782, 0.8268885442630262, 0.756069351921896, -2.0379589159741074, -0.6551719112574574, -2.441510348937944, 0.9514195156737354, 0.32980494191058835, -0.5695516056060412, -1.056582768713903], \"xaxis\": \"x4\", \"y\": [2.3050789463764794, -0.34544828836374125, -1.67491216027255, 1.207318891717801, 1.406343778561469, -1.112345759784398, 0.9446789832334939, -0.38728675731145373, 1.3079689084749777, -1.8069718036199587, 0.18825627165035458, 0.7147828258451806, 0.44192463870483806, -0.49552350971023745, -0.322800551035353, -0.47433961294441596, 0.1690883770206803, 1.2017852529943827, -0.1647321336067996, -2.3955741265632238, -1.4758945487582762, 0.962445834012295, 0.6653252839778693, -0.41880202344092315, 0.04627068636022785, -1.5185646666381192, -1.9938509523173815, -0.02240060509745099, 1.1809831611785004, 1.8801658934707632, 1.0292593510337478, 0.5949117331367149, -1.4514506277441748, -0.42502646313780856, -0.5797899821504993, -0.3581390966891277, -0.11892770450618409, 1.0926209083884437, 0.7050466192122445, 1.2375172874906153, 1.4072020975357857, 0.1575926374578665, 0.09396028076688108, 0.14998003245337374, 1.0006464685965815, 0.33651897865653907, -0.10778939786155453, 1.7762185531905517, 0.2433230426333405, 0.6573414720203437, 1.4987623651774449, 0.49100570061636384, 1.2227945124611799, 2.0356825538745524, 0.8960277472124333, 1.36131627749611, -0.01900927284926094, -1.123782384244974, 1.2024407293884816, 1.7533041101596796, 2.620102735759663, -0.9243960301190819, -0.9071010052827692, 0.7084815208490741, -1.0164586395797204, -0.9726287488168607, -2.0757409191988963, -0.4056514932145701, -0.4481169032862055, 0.2999481669822941, 0.19005409313068863, 0.20944993347497673, 1.8535331783127982, 0.10833367793192912, 0.9909118192752894, -0.18072276264957435, -0.27175596496885357, -0.3472891841078953, -1.3499379537122178, -0.24361265423740075, 0.1823942082455205, -0.11683434885062603, -1.9611819118675928, -0.10124747971168387, -0.749519554450631, -0.17063962763320573, -1.2924000897834025, -1.6363561634291774, 0.31683188489615605, 0.6767344738274852, -1.0561931295586227, -2.0631652991243787, -1.0225199848753768, -1.2074155289643396, -0.8839567228513001, -0.8159284734528616, 0.6274816714657359, 0.9671930475443826, -0.27905397820525646, -0.9770832801408772], \"yaxis\": \"y4\"}, {\"line\": {\"color\": \"rgba(128, 128, 128, 1.0)\", \"dash\": \"solid\", \"shape\": \"linear\", \"width\": 1.3}, \"marker\": {\"size\": 2, \"symbol\": \"circle\"}, \"mode\": \"markers\", \"name\": \"B\", \"text\": \"\", \"type\": \"scatter\", \"x\": [2.3050789463764794, -0.34544828836374125, -1.67491216027255, 1.207318891717801, 1.406343778561469, -1.112345759784398, 0.9446789832334939, -0.38728675731145373, 1.3079689084749777, -1.8069718036199587, 0.18825627165035458, 0.7147828258451806, 0.44192463870483806, -0.49552350971023745, -0.322800551035353, -0.47433961294441596, 0.1690883770206803, 1.2017852529943827, -0.1647321336067996, -2.3955741265632238, -1.4758945487582762, 0.962445834012295, 0.6653252839778693, -0.41880202344092315, 0.04627068636022785, -1.5185646666381192, -1.9938509523173815, -0.02240060509745099, 1.1809831611785004, 1.8801658934707632, 1.0292593510337478, 0.5949117331367149, -1.4514506277441748, -0.42502646313780856, -0.5797899821504993, -0.3581390966891277, -0.11892770450618409, 1.0926209083884437, 0.7050466192122445, 1.2375172874906153, 1.4072020975357857, 0.1575926374578665, 0.09396028076688108, 0.14998003245337374, 1.0006464685965815, 0.33651897865653907, -0.10778939786155453, 1.7762185531905517, 0.2433230426333405, 0.6573414720203437, 1.4987623651774449, 0.49100570061636384, 1.2227945124611799, 2.0356825538745524, 0.8960277472124333, 1.36131627749611, -0.01900927284926094, -1.123782384244974, 1.2024407293884816, 1.7533041101596796, 2.620102735759663, -0.9243960301190819, -0.9071010052827692, 0.7084815208490741, -1.0164586395797204, -0.9726287488168607, -2.0757409191988963, -0.4056514932145701, -0.4481169032862055, 0.2999481669822941, 0.19005409313068863, 0.20944993347497673, 1.8535331783127982, 0.10833367793192912, 0.9909118192752894, -0.18072276264957435, -0.27175596496885357, -0.3472891841078953, -1.3499379537122178, -0.24361265423740075, 0.1823942082455205, -0.11683434885062603, -1.9611819118675928, -0.10124747971168387, -0.749519554450631, -0.17063962763320573, -1.2924000897834025, -1.6363561634291774, 0.31683188489615605, 0.6767344738274852, -1.0561931295586227, -2.0631652991243787, -1.0225199848753768, -1.2074155289643396, -0.8839567228513001, -0.8159284734528616, 0.6274816714657359, 0.9671930475443826, -0.27905397820525646, -0.9770832801408772], \"xaxis\": \"x5\", \"y\": [1.4564807911980027, -0.5614415874815344, 0.7690489749287509, 1.0745673115894976, -0.271650350545234, -0.20417947351171928, -1.5365217665036148, 0.5271922043293188, -1.486583190597354, -1.5334484919941673, 0.18382394706883978, 0.1344370782872019, 1.89905090532156, 0.6202785332919339, -0.45664038843023563, 1.963126990847653, 1.9369875383030903, 1.0315771467695134, -0.3453335682768677, 0.419546447142365, -1.225897365627275, -1.0887921399676082, -0.21263698997725416, 0.7718171320935325, 0.44145428919101193, -0.8468114640841646, 0.8526936191566775, -0.969355231696488, 1.5408969327530821, -0.04465803887874416, -1.0342638822781325, 0.6075784794307824, 0.020845455399087748, -0.07959203078638698, -1.2885327382950438, -0.5858261320243598, 0.2784538175232755, 0.4716251609013261, 0.007586918494829923, -1.2311721843538845, 2.263014081539277, -0.9445712149750263, -0.7801126734963407, -0.006307163966420759, 0.19209429370631423, 1.4849821222922432, -0.402824407169826, -0.1535552795197902, -0.45306006334156884, 0.2723494038368278, -0.6969797568377994, 1.3148469312491482, -0.4400678278705646, -0.5226856061207958, -1.2685087511392623, -0.7121002063687039, 0.4922848868566591, 1.4080506928339986, -0.6740640131990668, 0.47859781454993217, 0.10407954693386935, -0.09125617817861699, -1.3627903947738937, -1.280305454707673, 1.0676149669634278, 0.10098596940395344, 0.3087197869344185, 0.3416669711946196, -0.2456850602506728, -0.8054522753423443, -0.3581753964308596, 1.2538718650534761, 1.5812764633116267, -1.2869964689617, 0.5134159053161619, 1.0984181861336495, -0.939853681439602, -0.7874505356156805, -0.5251233813470253, 1.426548881182392, 0.07011129375683395, 0.3043731808315209, 1.3453342775245516, 0.8797891435530668, 0.08819796782327056, 0.7785641262132776, -0.32251783943947593, -1.103603729843237, 1.561003488139711, -0.8993481124743095, 2.527656223510702, -0.035756115285384076, 2.32755828482868, 0.8455828949792558, 1.4395208708887242, -0.13261587328217128, 0.9653423868237719, -1.5985346969508438, -0.9772914721691849, 0.6427378710046866], \"yaxis\": \"y5\"}, {\"histfunc\": \"count\", \"histnorm\": \"\", \"marker\": {\"color\": \"rgba(55, 128, 191, 1.0)\", \"line\": {\"color\": \"#4D5663\", \"width\": 1.3}}, \"name\": \"B\", \"nbinsx\": 10, \"opacity\": 0.8, \"orientation\": \"v\", \"type\": \"histogram\", \"x\": [1.4564807911980027, -0.5614415874815344, 0.7690489749287509, 1.0745673115894976, -0.271650350545234, -0.20417947351171928, -1.5365217665036148, 0.5271922043293188, -1.486583190597354, -1.5334484919941673, 0.18382394706883978, 0.1344370782872019, 1.89905090532156, 0.6202785332919339, -0.45664038843023563, 1.963126990847653, 1.9369875383030903, 1.0315771467695134, -0.3453335682768677, 0.419546447142365, -1.225897365627275, -1.0887921399676082, -0.21263698997725416, 0.7718171320935325, 0.44145428919101193, -0.8468114640841646, 0.8526936191566775, -0.969355231696488, 1.5408969327530821, -0.04465803887874416, -1.0342638822781325, 0.6075784794307824, 0.020845455399087748, -0.07959203078638698, -1.2885327382950438, -0.5858261320243598, 0.2784538175232755, 0.4716251609013261, 0.007586918494829923, -1.2311721843538845, 2.263014081539277, -0.9445712149750263, -0.7801126734963407, -0.006307163966420759, 0.19209429370631423, 1.4849821222922432, -0.402824407169826, -0.1535552795197902, -0.45306006334156884, 0.2723494038368278, -0.6969797568377994, 1.3148469312491482, -0.4400678278705646, -0.5226856061207958, -1.2685087511392623, -0.7121002063687039, 0.4922848868566591, 1.4080506928339986, -0.6740640131990668, 0.47859781454993217, 0.10407954693386935, -0.09125617817861699, -1.3627903947738937, -1.280305454707673, 1.0676149669634278, 0.10098596940395344, 0.3087197869344185, 0.3416669711946196, -0.2456850602506728, -0.8054522753423443, -0.3581753964308596, 1.2538718650534761, 1.5812764633116267, -1.2869964689617, 0.5134159053161619, 1.0984181861336495, -0.939853681439602, -0.7874505356156805, -0.5251233813470253, 1.426548881182392, 0.07011129375683395, 0.3043731808315209, 1.3453342775245516, 0.8797891435530668, 0.08819796782327056, 0.7785641262132776, -0.32251783943947593, -1.103603729843237, 1.561003488139711, -0.8993481124743095, 2.527656223510702, -0.035756115285384076, 2.32755828482868, 0.8455828949792558, 1.4395208708887242, -0.13261587328217128, 0.9653423868237719, -1.5985346969508438, -0.9772914721691849, 0.6427378710046866], \"xaxis\": \"x6\", \"yaxis\": \"y6\"}, {\"line\": {\"color\": \"rgba(128, 128, 128, 1.0)\", \"dash\": \"solid\", \"shape\": \"linear\", \"width\": 1.3}, \"marker\": {\"size\": 2, \"symbol\": \"circle\"}, \"mode\": \"markers\", \"name\": \"B\", \"text\": \"\", \"type\": \"scatter\", \"x\": [-1.0414728897711043, -2.4987006337049427, -1.7405625562342926, 0.7807465485246431, 0.28696749890926176, 0.3363917430252014, 1.293532558358908, 0.1665194695042929, 1.2360927636981422, -1.2564294093066566, 1.2563769793990662, -0.7363214218721139, 0.24426512556462346, -0.11970512182658005, 1.4677478735443614, 1.0647201557032324, -0.45187302257846534, 0.653678868083953, -1.5907134807199985, -1.277732744505322, -0.7228632863713857, 0.7172278823394252, -1.965459613280281, 0.286972183094621, 0.907355772897085, 0.5998967596872434, 0.5651197404402956, -1.0859124022080506, -1.5773190091059082, 1.1157090318556244, -0.06785848898904057, 1.0984784868393382, 0.7813197529628041, 0.48810393395852364, -0.17708026291624845, 0.14629573582432567, -0.11493238419180425, 0.44331295229358997, 0.20136428167932743, -0.019043969415183784, 1.1678372009338673, -1.3483861691724721, -0.7588281414384854, -1.8578532286983487, -0.7444082117778972, -1.0092091832703185, -1.3889162965474495, -0.5371878391790263, -1.4361023025838564, 0.7229130593162181, -0.7199255425887895, -0.30998165984331827, 0.6114310600050571, 0.7969940652634873, 0.6989867534379552, 0.7715048258999205, 0.9559915679786413, -1.388943101110845, -1.1933157339805522, 0.03930509746200616, 1.4075249287877474, -0.31334032917702986, -0.6561559716404194, -0.9588235530918053, 0.007003808306168607, -2.2882431550424704, 0.5874340245739881, -1.2836564652794462, -0.6128829960450962, -0.6384337306448875, -0.7473031588310945, 0.8329215554230448, -0.0014366113415588348, 1.12889882070921, -0.6263450347390124, -0.15207317744954088, -0.34889044161686383, 1.6308397019642658, 0.35697692349751, -0.11009491880760186, 0.8975216642444559, 2.1933943747515614, 1.88500555603819, -0.060286786408807254, -0.12427068027435265, 1.4104620063591755, -0.6422684116873881, 0.6854913943508008, 1.1785110035923059, -0.16773448800986715, 0.38472630846110245, 0.36702394044670406, -2.408159159994002, -0.7380395276178535, 1.304615893104272, 1.187080311936938, -0.15224202616043214, 0.4098386402951023, 0.6487386974994944, 1.081403143428471], \"xaxis\": \"x7\", \"y\": [1.4564807911980027, -0.5614415874815344, 0.7690489749287509, 1.0745673115894976, -0.271650350545234, -0.20417947351171928, -1.5365217665036148, 0.5271922043293188, -1.486583190597354, -1.5334484919941673, 0.18382394706883978, 0.1344370782872019, 1.89905090532156, 0.6202785332919339, -0.45664038843023563, 1.963126990847653, 1.9369875383030903, 1.0315771467695134, -0.3453335682768677, 0.419546447142365, -1.225897365627275, -1.0887921399676082, -0.21263698997725416, 0.7718171320935325, 0.44145428919101193, -0.8468114640841646, 0.8526936191566775, -0.969355231696488, 1.5408969327530821, -0.04465803887874416, -1.0342638822781325, 0.6075784794307824, 0.020845455399087748, -0.07959203078638698, -1.2885327382950438, -0.5858261320243598, 0.2784538175232755, 0.4716251609013261, 0.007586918494829923, -1.2311721843538845, 2.263014081539277, -0.9445712149750263, -0.7801126734963407, -0.006307163966420759, 0.19209429370631423, 1.4849821222922432, -0.402824407169826, -0.1535552795197902, -0.45306006334156884, 0.2723494038368278, -0.6969797568377994, 1.3148469312491482, -0.4400678278705646, -0.5226856061207958, -1.2685087511392623, -0.7121002063687039, 0.4922848868566591, 1.4080506928339986, -0.6740640131990668, 0.47859781454993217, 0.10407954693386935, -0.09125617817861699, -1.3627903947738937, -1.280305454707673, 1.0676149669634278, 0.10098596940395344, 0.3087197869344185, 0.3416669711946196, -0.2456850602506728, -0.8054522753423443, -0.3581753964308596, 1.2538718650534761, 1.5812764633116267, -1.2869964689617, 0.5134159053161619, 1.0984181861336495, -0.939853681439602, -0.7874505356156805, -0.5251233813470253, 1.426548881182392, 0.07011129375683395, 0.3043731808315209, 1.3453342775245516, 0.8797891435530668, 0.08819796782327056, 0.7785641262132776, -0.32251783943947593, -1.103603729843237, 1.561003488139711, -0.8993481124743095, 2.527656223510702, -0.035756115285384076, 2.32755828482868, 0.8455828949792558, 1.4395208708887242, -0.13261587328217128, 0.9653423868237719, -1.5985346969508438, -0.9772914721691849, 0.6427378710046866], \"yaxis\": \"y7\"}, {\"line\": {\"color\": \"rgba(128, 128, 128, 1.0)\", \"dash\": \"solid\", \"shape\": \"linear\", \"width\": 1.3}, \"marker\": {\"size\": 2, \"symbol\": \"circle\"}, \"mode\": \"markers\", \"name\": \"B\", \"text\": \"\", \"type\": \"scatter\", \"x\": [-2.650812997314717, -0.311803005933188, 0.5234053003502719, -1.1370049341208008, 1.785947315671499, 0.09836375440051173, -1.49973660026947, 0.6840064709496927, -0.29337150802113277, -0.2492993835514884, -0.2452004782750859, 0.7453097427990474, 0.46382336176975625, 0.14690685645880708, 1.658889165267742, -1.5119993487990275, 0.45330904405195466, -1.6403546564341527, 0.2252746294380069, 2.0287963385526178, -0.566046123755891, 0.448211178778663, -1.8506720916351953, -0.042595144127149306, -0.08206156409590681, 0.9445911772581148, 0.4361661575564618, 2.9626678910230035, 0.7178948825887508, 0.39177457468797705, 1.5350778646164982, -0.16204914164458326, -0.26327624177704206, 1.9362232339556251, 1.470902854898459, -1.3164221749124145, 1.5042128521943556, -0.5525791281329449, 0.8730099647445734, 0.20946417573364837, -0.6288275527653823, 0.5794005820262775, -1.2425977976467448, -1.4518619763805094, 2.299083454990828, -1.690325676193857, -2.4398802478119537, 1.0090783405534172, 0.9699967438449757, -0.21462755564471853, -0.42668066402267263, -0.23114341508506436, 1.5878263873553595, 1.1974923701274496, -0.6328802911920552, -0.115689071673373, -1.5659625465829852, -1.7039208968111301, -0.3828743631970665, 0.5533231160499545, 0.041511676904158946, 1.0910109735200546, -1.513318971862418, 1.5973851901395408, 0.7633726790710887, -0.2852253714361112, -0.19098469827365344, 0.07558426108686768, 1.374003041243804, 0.6520549544554999, -1.5669714988794585, 0.4982460397601832, 1.3734024216590928, 1.0223216631378484, -0.9776227762824543, 0.19719940143862155, 0.3845888157721083, -0.8260134162166382, 1.5800598722242059, -0.7555635387878384, -2.8840612108842882, 0.6200362228783207, 0.5282222199839804, -0.21536613709856278, -0.39191915436692076, 0.2804700919368603, 1.7476967130053918, -0.016109583924299856, -0.8780920316098697, -0.2110077017324482, 1.4053406740461782, 0.8268885442630262, 0.756069351921896, -2.0379589159741074, -0.6551719112574574, -2.441510348937944, 0.9514195156737354, 0.32980494191058835, -0.5695516056060412, -1.056582768713903], \"xaxis\": \"x8\", \"y\": [1.4564807911980027, -0.5614415874815344, 0.7690489749287509, 1.0745673115894976, -0.271650350545234, -0.20417947351171928, -1.5365217665036148, 0.5271922043293188, -1.486583190597354, -1.5334484919941673, 0.18382394706883978, 0.1344370782872019, 1.89905090532156, 0.6202785332919339, -0.45664038843023563, 1.963126990847653, 1.9369875383030903, 1.0315771467695134, -0.3453335682768677, 0.419546447142365, -1.225897365627275, -1.0887921399676082, -0.21263698997725416, 0.7718171320935325, 0.44145428919101193, -0.8468114640841646, 0.8526936191566775, -0.969355231696488, 1.5408969327530821, -0.04465803887874416, -1.0342638822781325, 0.6075784794307824, 0.020845455399087748, -0.07959203078638698, -1.2885327382950438, -0.5858261320243598, 0.2784538175232755, 0.4716251609013261, 0.007586918494829923, -1.2311721843538845, 2.263014081539277, -0.9445712149750263, -0.7801126734963407, -0.006307163966420759, 0.19209429370631423, 1.4849821222922432, -0.402824407169826, -0.1535552795197902, -0.45306006334156884, 0.2723494038368278, -0.6969797568377994, 1.3148469312491482, -0.4400678278705646, -0.5226856061207958, -1.2685087511392623, -0.7121002063687039, 0.4922848868566591, 1.4080506928339986, -0.6740640131990668, 0.47859781454993217, 0.10407954693386935, -0.09125617817861699, -1.3627903947738937, -1.280305454707673, 1.0676149669634278, 0.10098596940395344, 0.3087197869344185, 0.3416669711946196, -0.2456850602506728, -0.8054522753423443, -0.3581753964308596, 1.2538718650534761, 1.5812764633116267, -1.2869964689617, 0.5134159053161619, 1.0984181861336495, -0.939853681439602, -0.7874505356156805, -0.5251233813470253, 1.426548881182392, 0.07011129375683395, 0.3043731808315209, 1.3453342775245516, 0.8797891435530668, 0.08819796782327056, 0.7785641262132776, -0.32251783943947593, -1.103603729843237, 1.561003488139711, -0.8993481124743095, 2.527656223510702, -0.035756115285384076, 2.32755828482868, 0.8455828949792558, 1.4395208708887242, -0.13261587328217128, 0.9653423868237719, -1.5985346969508438, -0.9772914721691849, 0.6427378710046866], \"yaxis\": \"y8\"}, {\"line\": {\"color\": \"rgba(128, 128, 128, 1.0)\", \"dash\": \"solid\", \"shape\": \"linear\", \"width\": 1.3}, \"marker\": {\"size\": 2, \"symbol\": \"circle\"}, \"mode\": \"markers\", \"name\": \"C\", \"text\": \"\", \"type\": \"scatter\", \"x\": [2.3050789463764794, -0.34544828836374125, -1.67491216027255, 1.207318891717801, 1.406343778561469, -1.112345759784398, 0.9446789832334939, -0.38728675731145373, 1.3079689084749777, -1.8069718036199587, 0.18825627165035458, 0.7147828258451806, 0.44192463870483806, -0.49552350971023745, -0.322800551035353, -0.47433961294441596, 0.1690883770206803, 1.2017852529943827, -0.1647321336067996, -2.3955741265632238, -1.4758945487582762, 0.962445834012295, 0.6653252839778693, -0.41880202344092315, 0.04627068636022785, -1.5185646666381192, -1.9938509523173815, -0.02240060509745099, 1.1809831611785004, 1.8801658934707632, 1.0292593510337478, 0.5949117331367149, -1.4514506277441748, -0.42502646313780856, -0.5797899821504993, -0.3581390966891277, -0.11892770450618409, 1.0926209083884437, 0.7050466192122445, 1.2375172874906153, 1.4072020975357857, 0.1575926374578665, 0.09396028076688108, 0.14998003245337374, 1.0006464685965815, 0.33651897865653907, -0.10778939786155453, 1.7762185531905517, 0.2433230426333405, 0.6573414720203437, 1.4987623651774449, 0.49100570061636384, 1.2227945124611799, 2.0356825538745524, 0.8960277472124333, 1.36131627749611, -0.01900927284926094, -1.123782384244974, 1.2024407293884816, 1.7533041101596796, 2.620102735759663, -0.9243960301190819, -0.9071010052827692, 0.7084815208490741, -1.0164586395797204, -0.9726287488168607, -2.0757409191988963, -0.4056514932145701, -0.4481169032862055, 0.2999481669822941, 0.19005409313068863, 0.20944993347497673, 1.8535331783127982, 0.10833367793192912, 0.9909118192752894, -0.18072276264957435, -0.27175596496885357, -0.3472891841078953, -1.3499379537122178, -0.24361265423740075, 0.1823942082455205, -0.11683434885062603, -1.9611819118675928, -0.10124747971168387, -0.749519554450631, -0.17063962763320573, -1.2924000897834025, -1.6363561634291774, 0.31683188489615605, 0.6767344738274852, -1.0561931295586227, -2.0631652991243787, -1.0225199848753768, -1.2074155289643396, -0.8839567228513001, -0.8159284734528616, 0.6274816714657359, 0.9671930475443826, -0.27905397820525646, -0.9770832801408772], \"xaxis\": \"x9\", \"y\": [-1.0414728897711043, -2.4987006337049427, -1.7405625562342926, 0.7807465485246431, 0.28696749890926176, 0.3363917430252014, 1.293532558358908, 0.1665194695042929, 1.2360927636981422, -1.2564294093066566, 1.2563769793990662, -0.7363214218721139, 0.24426512556462346, -0.11970512182658005, 1.4677478735443614, 1.0647201557032324, -0.45187302257846534, 0.653678868083953, -1.5907134807199985, -1.277732744505322, -0.7228632863713857, 0.7172278823394252, -1.965459613280281, 0.286972183094621, 0.907355772897085, 0.5998967596872434, 0.5651197404402956, -1.0859124022080506, -1.5773190091059082, 1.1157090318556244, -0.06785848898904057, 1.0984784868393382, 0.7813197529628041, 0.48810393395852364, -0.17708026291624845, 0.14629573582432567, -0.11493238419180425, 0.44331295229358997, 0.20136428167932743, -0.019043969415183784, 1.1678372009338673, -1.3483861691724721, -0.7588281414384854, -1.8578532286983487, -0.7444082117778972, -1.0092091832703185, -1.3889162965474495, -0.5371878391790263, -1.4361023025838564, 0.7229130593162181, -0.7199255425887895, -0.30998165984331827, 0.6114310600050571, 0.7969940652634873, 0.6989867534379552, 0.7715048258999205, 0.9559915679786413, -1.388943101110845, -1.1933157339805522, 0.03930509746200616, 1.4075249287877474, -0.31334032917702986, -0.6561559716404194, -0.9588235530918053, 0.007003808306168607, -2.2882431550424704, 0.5874340245739881, -1.2836564652794462, -0.6128829960450962, -0.6384337306448875, -0.7473031588310945, 0.8329215554230448, -0.0014366113415588348, 1.12889882070921, -0.6263450347390124, -0.15207317744954088, -0.34889044161686383, 1.6308397019642658, 0.35697692349751, -0.11009491880760186, 0.8975216642444559, 2.1933943747515614, 1.88500555603819, -0.060286786408807254, -0.12427068027435265, 1.4104620063591755, -0.6422684116873881, 0.6854913943508008, 1.1785110035923059, -0.16773448800986715, 0.38472630846110245, 0.36702394044670406, -2.408159159994002, -0.7380395276178535, 1.304615893104272, 1.187080311936938, -0.15224202616043214, 0.4098386402951023, 0.6487386974994944, 1.081403143428471], \"yaxis\": \"y9\"}, {\"line\": {\"color\": \"rgba(128, 128, 128, 1.0)\", \"dash\": \"solid\", \"shape\": \"linear\", \"width\": 1.3}, \"marker\": {\"size\": 2, \"symbol\": \"circle\"}, \"mode\": \"markers\", \"name\": \"C\", \"text\": \"\", \"type\": \"scatter\", \"x\": [1.4564807911980027, -0.5614415874815344, 0.7690489749287509, 1.0745673115894976, -0.271650350545234, -0.20417947351171928, -1.5365217665036148, 0.5271922043293188, -1.486583190597354, -1.5334484919941673, 0.18382394706883978, 0.1344370782872019, 1.89905090532156, 0.6202785332919339, -0.45664038843023563, 1.963126990847653, 1.9369875383030903, 1.0315771467695134, -0.3453335682768677, 0.419546447142365, -1.225897365627275, -1.0887921399676082, -0.21263698997725416, 0.7718171320935325, 0.44145428919101193, -0.8468114640841646, 0.8526936191566775, -0.969355231696488, 1.5408969327530821, -0.04465803887874416, -1.0342638822781325, 0.6075784794307824, 0.020845455399087748, -0.07959203078638698, -1.2885327382950438, -0.5858261320243598, 0.2784538175232755, 0.4716251609013261, 0.007586918494829923, -1.2311721843538845, 2.263014081539277, -0.9445712149750263, -0.7801126734963407, -0.006307163966420759, 0.19209429370631423, 1.4849821222922432, -0.402824407169826, -0.1535552795197902, -0.45306006334156884, 0.2723494038368278, -0.6969797568377994, 1.3148469312491482, -0.4400678278705646, -0.5226856061207958, -1.2685087511392623, -0.7121002063687039, 0.4922848868566591, 1.4080506928339986, -0.6740640131990668, 0.47859781454993217, 0.10407954693386935, -0.09125617817861699, -1.3627903947738937, -1.280305454707673, 1.0676149669634278, 0.10098596940395344, 0.3087197869344185, 0.3416669711946196, -0.2456850602506728, -0.8054522753423443, -0.3581753964308596, 1.2538718650534761, 1.5812764633116267, -1.2869964689617, 0.5134159053161619, 1.0984181861336495, -0.939853681439602, -0.7874505356156805, -0.5251233813470253, 1.426548881182392, 0.07011129375683395, 0.3043731808315209, 1.3453342775245516, 0.8797891435530668, 0.08819796782327056, 0.7785641262132776, -0.32251783943947593, -1.103603729843237, 1.561003488139711, -0.8993481124743095, 2.527656223510702, -0.035756115285384076, 2.32755828482868, 0.8455828949792558, 1.4395208708887242, -0.13261587328217128, 0.9653423868237719, -1.5985346969508438, -0.9772914721691849, 0.6427378710046866], \"xaxis\": \"x10\", \"y\": [-1.0414728897711043, -2.4987006337049427, -1.7405625562342926, 0.7807465485246431, 0.28696749890926176, 0.3363917430252014, 1.293532558358908, 0.1665194695042929, 1.2360927636981422, -1.2564294093066566, 1.2563769793990662, -0.7363214218721139, 0.24426512556462346, -0.11970512182658005, 1.4677478735443614, 1.0647201557032324, -0.45187302257846534, 0.653678868083953, -1.5907134807199985, -1.277732744505322, -0.7228632863713857, 0.7172278823394252, -1.965459613280281, 0.286972183094621, 0.907355772897085, 0.5998967596872434, 0.5651197404402956, -1.0859124022080506, -1.5773190091059082, 1.1157090318556244, -0.06785848898904057, 1.0984784868393382, 0.7813197529628041, 0.48810393395852364, -0.17708026291624845, 0.14629573582432567, -0.11493238419180425, 0.44331295229358997, 0.20136428167932743, -0.019043969415183784, 1.1678372009338673, -1.3483861691724721, -0.7588281414384854, -1.8578532286983487, -0.7444082117778972, -1.0092091832703185, -1.3889162965474495, -0.5371878391790263, -1.4361023025838564, 0.7229130593162181, -0.7199255425887895, -0.30998165984331827, 0.6114310600050571, 0.7969940652634873, 0.6989867534379552, 0.7715048258999205, 0.9559915679786413, -1.388943101110845, -1.1933157339805522, 0.03930509746200616, 1.4075249287877474, -0.31334032917702986, -0.6561559716404194, -0.9588235530918053, 0.007003808306168607, -2.2882431550424704, 0.5874340245739881, -1.2836564652794462, -0.6128829960450962, -0.6384337306448875, -0.7473031588310945, 0.8329215554230448, -0.0014366113415588348, 1.12889882070921, -0.6263450347390124, -0.15207317744954088, -0.34889044161686383, 1.6308397019642658, 0.35697692349751, -0.11009491880760186, 0.8975216642444559, 2.1933943747515614, 1.88500555603819, -0.060286786408807254, -0.12427068027435265, 1.4104620063591755, -0.6422684116873881, 0.6854913943508008, 1.1785110035923059, -0.16773448800986715, 0.38472630846110245, 0.36702394044670406, -2.408159159994002, -0.7380395276178535, 1.304615893104272, 1.187080311936938, -0.15224202616043214, 0.4098386402951023, 0.6487386974994944, 1.081403143428471], \"yaxis\": \"y10\"}, {\"histfunc\": \"count\", \"histnorm\": \"\", \"marker\": {\"color\": \"rgba(50, 171, 96, 1.0)\", \"line\": {\"color\": \"#4D5663\", \"width\": 1.3}}, \"name\": \"C\", \"nbinsx\": 10, \"opacity\": 0.8, \"orientation\": \"v\", \"type\": \"histogram\", \"x\": [-1.0414728897711043, -2.4987006337049427, -1.7405625562342926, 0.7807465485246431, 0.28696749890926176, 0.3363917430252014, 1.293532558358908, 0.1665194695042929, 1.2360927636981422, -1.2564294093066566, 1.2563769793990662, -0.7363214218721139, 0.24426512556462346, -0.11970512182658005, 1.4677478735443614, 1.0647201557032324, -0.45187302257846534, 0.653678868083953, -1.5907134807199985, -1.277732744505322, -0.7228632863713857, 0.7172278823394252, -1.965459613280281, 0.286972183094621, 0.907355772897085, 0.5998967596872434, 0.5651197404402956, -1.0859124022080506, -1.5773190091059082, 1.1157090318556244, -0.06785848898904057, 1.0984784868393382, 0.7813197529628041, 0.48810393395852364, -0.17708026291624845, 0.14629573582432567, -0.11493238419180425, 0.44331295229358997, 0.20136428167932743, -0.019043969415183784, 1.1678372009338673, -1.3483861691724721, -0.7588281414384854, -1.8578532286983487, -0.7444082117778972, -1.0092091832703185, -1.3889162965474495, -0.5371878391790263, -1.4361023025838564, 0.7229130593162181, -0.7199255425887895, -0.30998165984331827, 0.6114310600050571, 0.7969940652634873, 0.6989867534379552, 0.7715048258999205, 0.9559915679786413, -1.388943101110845, -1.1933157339805522, 0.03930509746200616, 1.4075249287877474, -0.31334032917702986, -0.6561559716404194, -0.9588235530918053, 0.007003808306168607, -2.2882431550424704, 0.5874340245739881, -1.2836564652794462, -0.6128829960450962, -0.6384337306448875, -0.7473031588310945, 0.8329215554230448, -0.0014366113415588348, 1.12889882070921, -0.6263450347390124, -0.15207317744954088, -0.34889044161686383, 1.6308397019642658, 0.35697692349751, -0.11009491880760186, 0.8975216642444559, 2.1933943747515614, 1.88500555603819, -0.060286786408807254, -0.12427068027435265, 1.4104620063591755, -0.6422684116873881, 0.6854913943508008, 1.1785110035923059, -0.16773448800986715, 0.38472630846110245, 0.36702394044670406, -2.408159159994002, -0.7380395276178535, 1.304615893104272, 1.187080311936938, -0.15224202616043214, 0.4098386402951023, 0.6487386974994944, 1.081403143428471], \"xaxis\": \"x11\", \"yaxis\": \"y11\"}, {\"line\": {\"color\": \"rgba(128, 128, 128, 1.0)\", \"dash\": \"solid\", \"shape\": \"linear\", \"width\": 1.3}, \"marker\": {\"size\": 2, \"symbol\": \"circle\"}, \"mode\": \"markers\", \"name\": \"C\", \"text\": \"\", \"type\": \"scatter\", \"x\": [-2.650812997314717, -0.311803005933188, 0.5234053003502719, -1.1370049341208008, 1.785947315671499, 0.09836375440051173, -1.49973660026947, 0.6840064709496927, -0.29337150802113277, -0.2492993835514884, -0.2452004782750859, 0.7453097427990474, 0.46382336176975625, 0.14690685645880708, 1.658889165267742, -1.5119993487990275, 0.45330904405195466, -1.6403546564341527, 0.2252746294380069, 2.0287963385526178, -0.566046123755891, 0.448211178778663, -1.8506720916351953, -0.042595144127149306, -0.08206156409590681, 0.9445911772581148, 0.4361661575564618, 2.9626678910230035, 0.7178948825887508, 0.39177457468797705, 1.5350778646164982, -0.16204914164458326, -0.26327624177704206, 1.9362232339556251, 1.470902854898459, -1.3164221749124145, 1.5042128521943556, -0.5525791281329449, 0.8730099647445734, 0.20946417573364837, -0.6288275527653823, 0.5794005820262775, -1.2425977976467448, -1.4518619763805094, 2.299083454990828, -1.690325676193857, -2.4398802478119537, 1.0090783405534172, 0.9699967438449757, -0.21462755564471853, -0.42668066402267263, -0.23114341508506436, 1.5878263873553595, 1.1974923701274496, -0.6328802911920552, -0.115689071673373, -1.5659625465829852, -1.7039208968111301, -0.3828743631970665, 0.5533231160499545, 0.041511676904158946, 1.0910109735200546, -1.513318971862418, 1.5973851901395408, 0.7633726790710887, -0.2852253714361112, -0.19098469827365344, 0.07558426108686768, 1.374003041243804, 0.6520549544554999, -1.5669714988794585, 0.4982460397601832, 1.3734024216590928, 1.0223216631378484, -0.9776227762824543, 0.19719940143862155, 0.3845888157721083, -0.8260134162166382, 1.5800598722242059, -0.7555635387878384, -2.8840612108842882, 0.6200362228783207, 0.5282222199839804, -0.21536613709856278, -0.39191915436692076, 0.2804700919368603, 1.7476967130053918, -0.016109583924299856, -0.8780920316098697, -0.2110077017324482, 1.4053406740461782, 0.8268885442630262, 0.756069351921896, -2.0379589159741074, -0.6551719112574574, -2.441510348937944, 0.9514195156737354, 0.32980494191058835, -0.5695516056060412, -1.056582768713903], \"xaxis\": \"x12\", \"y\": [-1.0414728897711043, -2.4987006337049427, -1.7405625562342926, 0.7807465485246431, 0.28696749890926176, 0.3363917430252014, 1.293532558358908, 0.1665194695042929, 1.2360927636981422, -1.2564294093066566, 1.2563769793990662, -0.7363214218721139, 0.24426512556462346, -0.11970512182658005, 1.4677478735443614, 1.0647201557032324, -0.45187302257846534, 0.653678868083953, -1.5907134807199985, -1.277732744505322, -0.7228632863713857, 0.7172278823394252, -1.965459613280281, 0.286972183094621, 0.907355772897085, 0.5998967596872434, 0.5651197404402956, -1.0859124022080506, -1.5773190091059082, 1.1157090318556244, -0.06785848898904057, 1.0984784868393382, 0.7813197529628041, 0.48810393395852364, -0.17708026291624845, 0.14629573582432567, -0.11493238419180425, 0.44331295229358997, 0.20136428167932743, -0.019043969415183784, 1.1678372009338673, -1.3483861691724721, -0.7588281414384854, -1.8578532286983487, -0.7444082117778972, -1.0092091832703185, -1.3889162965474495, -0.5371878391790263, -1.4361023025838564, 0.7229130593162181, -0.7199255425887895, -0.30998165984331827, 0.6114310600050571, 0.7969940652634873, 0.6989867534379552, 0.7715048258999205, 0.9559915679786413, -1.388943101110845, -1.1933157339805522, 0.03930509746200616, 1.4075249287877474, -0.31334032917702986, -0.6561559716404194, -0.9588235530918053, 0.007003808306168607, -2.2882431550424704, 0.5874340245739881, -1.2836564652794462, -0.6128829960450962, -0.6384337306448875, -0.7473031588310945, 0.8329215554230448, -0.0014366113415588348, 1.12889882070921, -0.6263450347390124, -0.15207317744954088, -0.34889044161686383, 1.6308397019642658, 0.35697692349751, -0.11009491880760186, 0.8975216642444559, 2.1933943747515614, 1.88500555603819, -0.060286786408807254, -0.12427068027435265, 1.4104620063591755, -0.6422684116873881, 0.6854913943508008, 1.1785110035923059, -0.16773448800986715, 0.38472630846110245, 0.36702394044670406, -2.408159159994002, -0.7380395276178535, 1.304615893104272, 1.187080311936938, -0.15224202616043214, 0.4098386402951023, 0.6487386974994944, 1.081403143428471], \"yaxis\": \"y12\"}, {\"line\": {\"color\": \"rgba(128, 128, 128, 1.0)\", \"dash\": \"solid\", \"shape\": \"linear\", \"width\": 1.3}, \"marker\": {\"size\": 2, \"symbol\": \"circle\"}, \"mode\": \"markers\", \"name\": \"D\", \"text\": \"\", \"type\": \"scatter\", \"x\": [2.3050789463764794, -0.34544828836374125, -1.67491216027255, 1.207318891717801, 1.406343778561469, -1.112345759784398, 0.9446789832334939, -0.38728675731145373, 1.3079689084749777, -1.8069718036199587, 0.18825627165035458, 0.7147828258451806, 0.44192463870483806, -0.49552350971023745, -0.322800551035353, -0.47433961294441596, 0.1690883770206803, 1.2017852529943827, -0.1647321336067996, -2.3955741265632238, -1.4758945487582762, 0.962445834012295, 0.6653252839778693, -0.41880202344092315, 0.04627068636022785, -1.5185646666381192, -1.9938509523173815, -0.02240060509745099, 1.1809831611785004, 1.8801658934707632, 1.0292593510337478, 0.5949117331367149, -1.4514506277441748, -0.42502646313780856, -0.5797899821504993, -0.3581390966891277, -0.11892770450618409, 1.0926209083884437, 0.7050466192122445, 1.2375172874906153, 1.4072020975357857, 0.1575926374578665, 0.09396028076688108, 0.14998003245337374, 1.0006464685965815, 0.33651897865653907, -0.10778939786155453, 1.7762185531905517, 0.2433230426333405, 0.6573414720203437, 1.4987623651774449, 0.49100570061636384, 1.2227945124611799, 2.0356825538745524, 0.8960277472124333, 1.36131627749611, -0.01900927284926094, -1.123782384244974, 1.2024407293884816, 1.7533041101596796, 2.620102735759663, -0.9243960301190819, -0.9071010052827692, 0.7084815208490741, -1.0164586395797204, -0.9726287488168607, -2.0757409191988963, -0.4056514932145701, -0.4481169032862055, 0.2999481669822941, 0.19005409313068863, 0.20944993347497673, 1.8535331783127982, 0.10833367793192912, 0.9909118192752894, -0.18072276264957435, -0.27175596496885357, -0.3472891841078953, -1.3499379537122178, -0.24361265423740075, 0.1823942082455205, -0.11683434885062603, -1.9611819118675928, -0.10124747971168387, -0.749519554450631, -0.17063962763320573, -1.2924000897834025, -1.6363561634291774, 0.31683188489615605, 0.6767344738274852, -1.0561931295586227, -2.0631652991243787, -1.0225199848753768, -1.2074155289643396, -0.8839567228513001, -0.8159284734528616, 0.6274816714657359, 0.9671930475443826, -0.27905397820525646, -0.9770832801408772], \"xaxis\": \"x13\", \"y\": [-2.650812997314717, -0.311803005933188, 0.5234053003502719, -1.1370049341208008, 1.785947315671499, 0.09836375440051173, -1.49973660026947, 0.6840064709496927, -0.29337150802113277, -0.2492993835514884, -0.2452004782750859, 0.7453097427990474, 0.46382336176975625, 0.14690685645880708, 1.658889165267742, -1.5119993487990275, 0.45330904405195466, -1.6403546564341527, 0.2252746294380069, 2.0287963385526178, -0.566046123755891, 0.448211178778663, -1.8506720916351953, -0.042595144127149306, -0.08206156409590681, 0.9445911772581148, 0.4361661575564618, 2.9626678910230035, 0.7178948825887508, 0.39177457468797705, 1.5350778646164982, -0.16204914164458326, -0.26327624177704206, 1.9362232339556251, 1.470902854898459, -1.3164221749124145, 1.5042128521943556, -0.5525791281329449, 0.8730099647445734, 0.20946417573364837, -0.6288275527653823, 0.5794005820262775, -1.2425977976467448, -1.4518619763805094, 2.299083454990828, -1.690325676193857, -2.4398802478119537, 1.0090783405534172, 0.9699967438449757, -0.21462755564471853, -0.42668066402267263, -0.23114341508506436, 1.5878263873553595, 1.1974923701274496, -0.6328802911920552, -0.115689071673373, -1.5659625465829852, -1.7039208968111301, -0.3828743631970665, 0.5533231160499545, 0.041511676904158946, 1.0910109735200546, -1.513318971862418, 1.5973851901395408, 0.7633726790710887, -0.2852253714361112, -0.19098469827365344, 0.07558426108686768, 1.374003041243804, 0.6520549544554999, -1.5669714988794585, 0.4982460397601832, 1.3734024216590928, 1.0223216631378484, -0.9776227762824543, 0.19719940143862155, 0.3845888157721083, -0.8260134162166382, 1.5800598722242059, -0.7555635387878384, -2.8840612108842882, 0.6200362228783207, 0.5282222199839804, -0.21536613709856278, -0.39191915436692076, 0.2804700919368603, 1.7476967130053918, -0.016109583924299856, -0.8780920316098697, -0.2110077017324482, 1.4053406740461782, 0.8268885442630262, 0.756069351921896, -2.0379589159741074, -0.6551719112574574, -2.441510348937944, 0.9514195156737354, 0.32980494191058835, -0.5695516056060412, -1.056582768713903], \"yaxis\": \"y13\"}, {\"line\": {\"color\": \"rgba(128, 128, 128, 1.0)\", \"dash\": \"solid\", \"shape\": \"linear\", \"width\": 1.3}, \"marker\": {\"size\": 2, \"symbol\": \"circle\"}, \"mode\": \"markers\", \"name\": \"D\", \"text\": \"\", \"type\": \"scatter\", \"x\": [1.4564807911980027, -0.5614415874815344, 0.7690489749287509, 1.0745673115894976, -0.271650350545234, -0.20417947351171928, -1.5365217665036148, 0.5271922043293188, -1.486583190597354, -1.5334484919941673, 0.18382394706883978, 0.1344370782872019, 1.89905090532156, 0.6202785332919339, -0.45664038843023563, 1.963126990847653, 1.9369875383030903, 1.0315771467695134, -0.3453335682768677, 0.419546447142365, -1.225897365627275, -1.0887921399676082, -0.21263698997725416, 0.7718171320935325, 0.44145428919101193, -0.8468114640841646, 0.8526936191566775, -0.969355231696488, 1.5408969327530821, -0.04465803887874416, -1.0342638822781325, 0.6075784794307824, 0.020845455399087748, -0.07959203078638698, -1.2885327382950438, -0.5858261320243598, 0.2784538175232755, 0.4716251609013261, 0.007586918494829923, -1.2311721843538845, 2.263014081539277, -0.9445712149750263, -0.7801126734963407, -0.006307163966420759, 0.19209429370631423, 1.4849821222922432, -0.402824407169826, -0.1535552795197902, -0.45306006334156884, 0.2723494038368278, -0.6969797568377994, 1.3148469312491482, -0.4400678278705646, -0.5226856061207958, -1.2685087511392623, -0.7121002063687039, 0.4922848868566591, 1.4080506928339986, -0.6740640131990668, 0.47859781454993217, 0.10407954693386935, -0.09125617817861699, -1.3627903947738937, -1.280305454707673, 1.0676149669634278, 0.10098596940395344, 0.3087197869344185, 0.3416669711946196, -0.2456850602506728, -0.8054522753423443, -0.3581753964308596, 1.2538718650534761, 1.5812764633116267, -1.2869964689617, 0.5134159053161619, 1.0984181861336495, -0.939853681439602, -0.7874505356156805, -0.5251233813470253, 1.426548881182392, 0.07011129375683395, 0.3043731808315209, 1.3453342775245516, 0.8797891435530668, 0.08819796782327056, 0.7785641262132776, -0.32251783943947593, -1.103603729843237, 1.561003488139711, -0.8993481124743095, 2.527656223510702, -0.035756115285384076, 2.32755828482868, 0.8455828949792558, 1.4395208708887242, -0.13261587328217128, 0.9653423868237719, -1.5985346969508438, -0.9772914721691849, 0.6427378710046866], \"xaxis\": \"x14\", \"y\": [-2.650812997314717, -0.311803005933188, 0.5234053003502719, -1.1370049341208008, 1.785947315671499, 0.09836375440051173, -1.49973660026947, 0.6840064709496927, -0.29337150802113277, -0.2492993835514884, -0.2452004782750859, 0.7453097427990474, 0.46382336176975625, 0.14690685645880708, 1.658889165267742, -1.5119993487990275, 0.45330904405195466, -1.6403546564341527, 0.2252746294380069, 2.0287963385526178, -0.566046123755891, 0.448211178778663, -1.8506720916351953, -0.042595144127149306, -0.08206156409590681, 0.9445911772581148, 0.4361661575564618, 2.9626678910230035, 0.7178948825887508, 0.39177457468797705, 1.5350778646164982, -0.16204914164458326, -0.26327624177704206, 1.9362232339556251, 1.470902854898459, -1.3164221749124145, 1.5042128521943556, -0.5525791281329449, 0.8730099647445734, 0.20946417573364837, -0.6288275527653823, 0.5794005820262775, -1.2425977976467448, -1.4518619763805094, 2.299083454990828, -1.690325676193857, -2.4398802478119537, 1.0090783405534172, 0.9699967438449757, -0.21462755564471853, -0.42668066402267263, -0.23114341508506436, 1.5878263873553595, 1.1974923701274496, -0.6328802911920552, -0.115689071673373, -1.5659625465829852, -1.7039208968111301, -0.3828743631970665, 0.5533231160499545, 0.041511676904158946, 1.0910109735200546, -1.513318971862418, 1.5973851901395408, 0.7633726790710887, -0.2852253714361112, -0.19098469827365344, 0.07558426108686768, 1.374003041243804, 0.6520549544554999, -1.5669714988794585, 0.4982460397601832, 1.3734024216590928, 1.0223216631378484, -0.9776227762824543, 0.19719940143862155, 0.3845888157721083, -0.8260134162166382, 1.5800598722242059, -0.7555635387878384, -2.8840612108842882, 0.6200362228783207, 0.5282222199839804, -0.21536613709856278, -0.39191915436692076, 0.2804700919368603, 1.7476967130053918, -0.016109583924299856, -0.8780920316098697, -0.2110077017324482, 1.4053406740461782, 0.8268885442630262, 0.756069351921896, -2.0379589159741074, -0.6551719112574574, -2.441510348937944, 0.9514195156737354, 0.32980494191058835, -0.5695516056060412, -1.056582768713903], \"yaxis\": \"y14\"}, {\"line\": {\"color\": \"rgba(128, 128, 128, 1.0)\", \"dash\": \"solid\", \"shape\": \"linear\", \"width\": 1.3}, \"marker\": {\"size\": 2, \"symbol\": \"circle\"}, \"mode\": \"markers\", \"name\": \"D\", \"text\": \"\", \"type\": \"scatter\", \"x\": [-1.0414728897711043, -2.4987006337049427, -1.7405625562342926, 0.7807465485246431, 0.28696749890926176, 0.3363917430252014, 1.293532558358908, 0.1665194695042929, 1.2360927636981422, -1.2564294093066566, 1.2563769793990662, -0.7363214218721139, 0.24426512556462346, -0.11970512182658005, 1.4677478735443614, 1.0647201557032324, -0.45187302257846534, 0.653678868083953, -1.5907134807199985, -1.277732744505322, -0.7228632863713857, 0.7172278823394252, -1.965459613280281, 0.286972183094621, 0.907355772897085, 0.5998967596872434, 0.5651197404402956, -1.0859124022080506, -1.5773190091059082, 1.1157090318556244, -0.06785848898904057, 1.0984784868393382, 0.7813197529628041, 0.48810393395852364, -0.17708026291624845, 0.14629573582432567, -0.11493238419180425, 0.44331295229358997, 0.20136428167932743, -0.019043969415183784, 1.1678372009338673, -1.3483861691724721, -0.7588281414384854, -1.8578532286983487, -0.7444082117778972, -1.0092091832703185, -1.3889162965474495, -0.5371878391790263, -1.4361023025838564, 0.7229130593162181, -0.7199255425887895, -0.30998165984331827, 0.6114310600050571, 0.7969940652634873, 0.6989867534379552, 0.7715048258999205, 0.9559915679786413, -1.388943101110845, -1.1933157339805522, 0.03930509746200616, 1.4075249287877474, -0.31334032917702986, -0.6561559716404194, -0.9588235530918053, 0.007003808306168607, -2.2882431550424704, 0.5874340245739881, -1.2836564652794462, -0.6128829960450962, -0.6384337306448875, -0.7473031588310945, 0.8329215554230448, -0.0014366113415588348, 1.12889882070921, -0.6263450347390124, -0.15207317744954088, -0.34889044161686383, 1.6308397019642658, 0.35697692349751, -0.11009491880760186, 0.8975216642444559, 2.1933943747515614, 1.88500555603819, -0.060286786408807254, -0.12427068027435265, 1.4104620063591755, -0.6422684116873881, 0.6854913943508008, 1.1785110035923059, -0.16773448800986715, 0.38472630846110245, 0.36702394044670406, -2.408159159994002, -0.7380395276178535, 1.304615893104272, 1.187080311936938, -0.15224202616043214, 0.4098386402951023, 0.6487386974994944, 1.081403143428471], \"xaxis\": \"x15\", \"y\": [-2.650812997314717, -0.311803005933188, 0.5234053003502719, -1.1370049341208008, 1.785947315671499, 0.09836375440051173, -1.49973660026947, 0.6840064709496927, -0.29337150802113277, -0.2492993835514884, -0.2452004782750859, 0.7453097427990474, 0.46382336176975625, 0.14690685645880708, 1.658889165267742, -1.5119993487990275, 0.45330904405195466, -1.6403546564341527, 0.2252746294380069, 2.0287963385526178, -0.566046123755891, 0.448211178778663, -1.8506720916351953, -0.042595144127149306, -0.08206156409590681, 0.9445911772581148, 0.4361661575564618, 2.9626678910230035, 0.7178948825887508, 0.39177457468797705, 1.5350778646164982, -0.16204914164458326, -0.26327624177704206, 1.9362232339556251, 1.470902854898459, -1.3164221749124145, 1.5042128521943556, -0.5525791281329449, 0.8730099647445734, 0.20946417573364837, -0.6288275527653823, 0.5794005820262775, -1.2425977976467448, -1.4518619763805094, 2.299083454990828, -1.690325676193857, -2.4398802478119537, 1.0090783405534172, 0.9699967438449757, -0.21462755564471853, -0.42668066402267263, -0.23114341508506436, 1.5878263873553595, 1.1974923701274496, -0.6328802911920552, -0.115689071673373, -1.5659625465829852, -1.7039208968111301, -0.3828743631970665, 0.5533231160499545, 0.041511676904158946, 1.0910109735200546, -1.513318971862418, 1.5973851901395408, 0.7633726790710887, -0.2852253714361112, -0.19098469827365344, 0.07558426108686768, 1.374003041243804, 0.6520549544554999, -1.5669714988794585, 0.4982460397601832, 1.3734024216590928, 1.0223216631378484, -0.9776227762824543, 0.19719940143862155, 0.3845888157721083, -0.8260134162166382, 1.5800598722242059, -0.7555635387878384, -2.8840612108842882, 0.6200362228783207, 0.5282222199839804, -0.21536613709856278, -0.39191915436692076, 0.2804700919368603, 1.7476967130053918, -0.016109583924299856, -0.8780920316098697, -0.2110077017324482, 1.4053406740461782, 0.8268885442630262, 0.756069351921896, -2.0379589159741074, -0.6551719112574574, -2.441510348937944, 0.9514195156737354, 0.32980494191058835, -0.5695516056060412, -1.056582768713903], \"yaxis\": \"y15\"}, {\"histfunc\": \"count\", \"histnorm\": \"\", \"marker\": {\"color\": \"rgba(128, 0, 128, 1.0)\", \"line\": {\"color\": \"#4D5663\", \"width\": 1.3}}, \"name\": \"D\", \"nbinsx\": 10, \"opacity\": 0.8, \"orientation\": \"v\", \"type\": \"histogram\", \"x\": [-2.650812997314717, -0.311803005933188, 0.5234053003502719, -1.1370049341208008, 1.785947315671499, 0.09836375440051173, -1.49973660026947, 0.6840064709496927, -0.29337150802113277, -0.2492993835514884, -0.2452004782750859, 0.7453097427990474, 0.46382336176975625, 0.14690685645880708, 1.658889165267742, -1.5119993487990275, 0.45330904405195466, -1.6403546564341527, 0.2252746294380069, 2.0287963385526178, -0.566046123755891, 0.448211178778663, -1.8506720916351953, -0.042595144127149306, -0.08206156409590681, 0.9445911772581148, 0.4361661575564618, 2.9626678910230035, 0.7178948825887508, 0.39177457468797705, 1.5350778646164982, -0.16204914164458326, -0.26327624177704206, 1.9362232339556251, 1.470902854898459, -1.3164221749124145, 1.5042128521943556, -0.5525791281329449, 0.8730099647445734, 0.20946417573364837, -0.6288275527653823, 0.5794005820262775, -1.2425977976467448, -1.4518619763805094, 2.299083454990828, -1.690325676193857, -2.4398802478119537, 1.0090783405534172, 0.9699967438449757, -0.21462755564471853, -0.42668066402267263, -0.23114341508506436, 1.5878263873553595, 1.1974923701274496, -0.6328802911920552, -0.115689071673373, -1.5659625465829852, -1.7039208968111301, -0.3828743631970665, 0.5533231160499545, 0.041511676904158946, 1.0910109735200546, -1.513318971862418, 1.5973851901395408, 0.7633726790710887, -0.2852253714361112, -0.19098469827365344, 0.07558426108686768, 1.374003041243804, 0.6520549544554999, -1.5669714988794585, 0.4982460397601832, 1.3734024216590928, 1.0223216631378484, -0.9776227762824543, 0.19719940143862155, 0.3845888157721083, -0.8260134162166382, 1.5800598722242059, -0.7555635387878384, -2.8840612108842882, 0.6200362228783207, 0.5282222199839804, -0.21536613709856278, -0.39191915436692076, 0.2804700919368603, 1.7476967130053918, -0.016109583924299856, -0.8780920316098697, -0.2110077017324482, 1.4053406740461782, 0.8268885442630262, 0.756069351921896, -2.0379589159741074, -0.6551719112574574, -2.441510348937944, 0.9514195156737354, 0.32980494191058835, -0.5695516056060412, -1.056582768713903], \"xaxis\": \"x16\", \"yaxis\": \"y16\"}],                        {\"bargap\": 0.02, \"legend\": {\"bgcolor\": \"#F5F6F9\", \"font\": {\"color\": \"#4D5663\"}}, \"paper_bgcolor\": \"#F5F6F9\", \"plot_bgcolor\": \"#F5F6F9\", \"showlegend\": false, \"template\": {\"data\": {\"bar\": [{\"error_x\": {\"color\": \"#2a3f5f\"}, \"error_y\": {\"color\": \"#2a3f5f\"}, \"marker\": {\"line\": {\"color\": \"#E5ECF6\", \"width\": 0.5}}, \"type\": \"bar\"}], \"barpolar\": [{\"marker\": {\"line\": {\"color\": \"#E5ECF6\", \"width\": 0.5}}, \"type\": \"barpolar\"}], \"carpet\": [{\"aaxis\": {\"endlinecolor\": \"#2a3f5f\", \"gridcolor\": \"white\", \"linecolor\": \"white\", \"minorgridcolor\": \"white\", \"startlinecolor\": \"#2a3f5f\"}, \"baxis\": {\"endlinecolor\": \"#2a3f5f\", \"gridcolor\": \"white\", \"linecolor\": \"white\", \"minorgridcolor\": \"white\", \"startlinecolor\": \"#2a3f5f\"}, \"type\": \"carpet\"}], \"choropleth\": [{\"colorbar\": {\"outlinewidth\": 0, \"ticks\": \"\"}, \"type\": \"choropleth\"}], \"contour\": [{\"colorbar\": {\"outlinewidth\": 0, \"ticks\": \"\"}, \"colorscale\": [[0.0, \"#0d0887\"], [0.1111111111111111, \"#46039f\"], [0.2222222222222222, \"#7201a8\"], [0.3333333333333333, \"#9c179e\"], [0.4444444444444444, \"#bd3786\"], [0.5555555555555556, \"#d8576b\"], [0.6666666666666666, \"#ed7953\"], [0.7777777777777778, \"#fb9f3a\"], [0.8888888888888888, \"#fdca26\"], [1.0, \"#f0f921\"]], \"type\": \"contour\"}], \"contourcarpet\": [{\"colorbar\": {\"outlinewidth\": 0, \"ticks\": \"\"}, \"type\": \"contourcarpet\"}], \"heatmap\": [{\"colorbar\": {\"outlinewidth\": 0, \"ticks\": \"\"}, \"colorscale\": [[0.0, \"#0d0887\"], [0.1111111111111111, \"#46039f\"], [0.2222222222222222, \"#7201a8\"], [0.3333333333333333, \"#9c179e\"], [0.4444444444444444, \"#bd3786\"], [0.5555555555555556, \"#d8576b\"], [0.6666666666666666, \"#ed7953\"], [0.7777777777777778, \"#fb9f3a\"], [0.8888888888888888, \"#fdca26\"], [1.0, \"#f0f921\"]], \"type\": \"heatmap\"}], \"heatmapgl\": [{\"colorbar\": {\"outlinewidth\": 0, \"ticks\": \"\"}, \"colorscale\": [[0.0, \"#0d0887\"], [0.1111111111111111, \"#46039f\"], [0.2222222222222222, \"#7201a8\"], [0.3333333333333333, \"#9c179e\"], [0.4444444444444444, \"#bd3786\"], [0.5555555555555556, \"#d8576b\"], [0.6666666666666666, \"#ed7953\"], [0.7777777777777778, \"#fb9f3a\"], [0.8888888888888888, \"#fdca26\"], [1.0, \"#f0f921\"]], \"type\": \"heatmapgl\"}], \"histogram\": [{\"marker\": {\"colorbar\": {\"outlinewidth\": 0, \"ticks\": \"\"}}, \"type\": \"histogram\"}], \"histogram2d\": [{\"colorbar\": {\"outlinewidth\": 0, \"ticks\": \"\"}, \"colorscale\": [[0.0, \"#0d0887\"], [0.1111111111111111, \"#46039f\"], [0.2222222222222222, \"#7201a8\"], [0.3333333333333333, \"#9c179e\"], [0.4444444444444444, \"#bd3786\"], [0.5555555555555556, \"#d8576b\"], [0.6666666666666666, \"#ed7953\"], [0.7777777777777778, \"#fb9f3a\"], [0.8888888888888888, \"#fdca26\"], [1.0, \"#f0f921\"]], \"type\": \"histogram2d\"}], \"histogram2dcontour\": [{\"colorbar\": {\"outlinewidth\": 0, \"ticks\": \"\"}, \"colorscale\": [[0.0, \"#0d0887\"], [0.1111111111111111, \"#46039f\"], [0.2222222222222222, \"#7201a8\"], [0.3333333333333333, \"#9c179e\"], [0.4444444444444444, \"#bd3786\"], [0.5555555555555556, \"#d8576b\"], [0.6666666666666666, \"#ed7953\"], [0.7777777777777778, \"#fb9f3a\"], [0.8888888888888888, \"#fdca26\"], [1.0, \"#f0f921\"]], \"type\": \"histogram2dcontour\"}], \"mesh3d\": [{\"colorbar\": {\"outlinewidth\": 0, \"ticks\": \"\"}, \"type\": \"mesh3d\"}], \"parcoords\": [{\"line\": {\"colorbar\": {\"outlinewidth\": 0, \"ticks\": \"\"}}, \"type\": \"parcoords\"}], \"pie\": [{\"automargin\": true, \"type\": \"pie\"}], \"scatter\": [{\"marker\": {\"colorbar\": {\"outlinewidth\": 0, \"ticks\": \"\"}}, \"type\": \"scatter\"}], \"scatter3d\": [{\"line\": {\"colorbar\": {\"outlinewidth\": 0, \"ticks\": \"\"}}, \"marker\": {\"colorbar\": {\"outlinewidth\": 0, \"ticks\": \"\"}}, \"type\": \"scatter3d\"}], \"scattercarpet\": [{\"marker\": {\"colorbar\": {\"outlinewidth\": 0, \"ticks\": \"\"}}, \"type\": \"scattercarpet\"}], \"scattergeo\": [{\"marker\": {\"colorbar\": {\"outlinewidth\": 0, \"ticks\": \"\"}}, \"type\": \"scattergeo\"}], \"scattergl\": [{\"marker\": {\"colorbar\": {\"outlinewidth\": 0, \"ticks\": \"\"}}, \"type\": \"scattergl\"}], \"scattermapbox\": [{\"marker\": {\"colorbar\": {\"outlinewidth\": 0, \"ticks\": \"\"}}, \"type\": \"scattermapbox\"}], \"scatterpolar\": [{\"marker\": {\"colorbar\": {\"outlinewidth\": 0, \"ticks\": \"\"}}, \"type\": \"scatterpolar\"}], \"scatterpolargl\": [{\"marker\": {\"colorbar\": {\"outlinewidth\": 0, \"ticks\": \"\"}}, \"type\": \"scatterpolargl\"}], \"scatterternary\": [{\"marker\": {\"colorbar\": {\"outlinewidth\": 0, \"ticks\": \"\"}}, \"type\": \"scatterternary\"}], \"surface\": [{\"colorbar\": {\"outlinewidth\": 0, \"ticks\": \"\"}, \"colorscale\": [[0.0, \"#0d0887\"], [0.1111111111111111, \"#46039f\"], [0.2222222222222222, \"#7201a8\"], [0.3333333333333333, \"#9c179e\"], [0.4444444444444444, \"#bd3786\"], [0.5555555555555556, \"#d8576b\"], [0.6666666666666666, \"#ed7953\"], [0.7777777777777778, \"#fb9f3a\"], [0.8888888888888888, \"#fdca26\"], [1.0, \"#f0f921\"]], \"type\": \"surface\"}], \"table\": [{\"cells\": {\"fill\": {\"color\": \"#EBF0F8\"}, \"line\": {\"color\": \"white\"}}, \"header\": {\"fill\": {\"color\": \"#C8D4E3\"}, \"line\": {\"color\": \"white\"}}, \"type\": \"table\"}]}, \"layout\": {\"annotationdefaults\": {\"arrowcolor\": \"#2a3f5f\", \"arrowhead\": 0, \"arrowwidth\": 1}, \"coloraxis\": {\"colorbar\": {\"outlinewidth\": 0, \"ticks\": \"\"}}, \"colorscale\": {\"diverging\": [[0, \"#8e0152\"], [0.1, \"#c51b7d\"], [0.2, \"#de77ae\"], [0.3, \"#f1b6da\"], [0.4, \"#fde0ef\"], [0.5, \"#f7f7f7\"], [0.6, \"#e6f5d0\"], [0.7, \"#b8e186\"], [0.8, \"#7fbc41\"], [0.9, \"#4d9221\"], [1, \"#276419\"]], \"sequential\": [[0.0, \"#0d0887\"], [0.1111111111111111, \"#46039f\"], [0.2222222222222222, \"#7201a8\"], [0.3333333333333333, \"#9c179e\"], [0.4444444444444444, \"#bd3786\"], [0.5555555555555556, \"#d8576b\"], [0.6666666666666666, \"#ed7953\"], [0.7777777777777778, \"#fb9f3a\"], [0.8888888888888888, \"#fdca26\"], [1.0, \"#f0f921\"]], \"sequentialminus\": [[0.0, \"#0d0887\"], [0.1111111111111111, \"#46039f\"], [0.2222222222222222, \"#7201a8\"], [0.3333333333333333, \"#9c179e\"], [0.4444444444444444, \"#bd3786\"], [0.5555555555555556, \"#d8576b\"], [0.6666666666666666, \"#ed7953\"], [0.7777777777777778, \"#fb9f3a\"], [0.8888888888888888, \"#fdca26\"], [1.0, \"#f0f921\"]]}, \"colorway\": [\"#636efa\", \"#EF553B\", \"#00cc96\", \"#ab63fa\", \"#FFA15A\", \"#19d3f3\", \"#FF6692\", \"#B6E880\", \"#FF97FF\", \"#FECB52\"], \"font\": {\"color\": \"#2a3f5f\"}, \"geo\": {\"bgcolor\": \"white\", \"lakecolor\": \"white\", \"landcolor\": \"#E5ECF6\", \"showlakes\": true, \"showland\": true, \"subunitcolor\": \"white\"}, \"hoverlabel\": {\"align\": \"left\"}, \"hovermode\": \"closest\", \"mapbox\": {\"style\": \"light\"}, \"paper_bgcolor\": \"white\", \"plot_bgcolor\": \"#E5ECF6\", \"polar\": {\"angularaxis\": {\"gridcolor\": \"white\", \"linecolor\": \"white\", \"ticks\": \"\"}, \"bgcolor\": \"#E5ECF6\", \"radialaxis\": {\"gridcolor\": \"white\", \"linecolor\": \"white\", \"ticks\": \"\"}}, \"scene\": {\"xaxis\": {\"backgroundcolor\": \"#E5ECF6\", \"gridcolor\": \"white\", \"gridwidth\": 2, \"linecolor\": \"white\", \"showbackground\": true, \"ticks\": \"\", \"zerolinecolor\": \"white\"}, \"yaxis\": {\"backgroundcolor\": \"#E5ECF6\", \"gridcolor\": \"white\", \"gridwidth\": 2, \"linecolor\": \"white\", \"showbackground\": true, \"ticks\": \"\", \"zerolinecolor\": \"white\"}, \"zaxis\": {\"backgroundcolor\": \"#E5ECF6\", \"gridcolor\": \"white\", \"gridwidth\": 2, \"linecolor\": \"white\", \"showbackground\": true, \"ticks\": \"\", \"zerolinecolor\": \"white\"}}, \"shapedefaults\": {\"line\": {\"color\": \"#2a3f5f\"}}, \"ternary\": {\"aaxis\": {\"gridcolor\": \"white\", \"linecolor\": \"white\", \"ticks\": \"\"}, \"baxis\": {\"gridcolor\": \"white\", \"linecolor\": \"white\", \"ticks\": \"\"}, \"bgcolor\": \"#E5ECF6\", \"caxis\": {\"gridcolor\": \"white\", \"linecolor\": \"white\", \"ticks\": \"\"}}, \"title\": {\"x\": 0.05}, \"xaxis\": {\"automargin\": true, \"gridcolor\": \"white\", \"linecolor\": \"white\", \"ticks\": \"\", \"title\": {\"standoff\": 15}, \"zerolinecolor\": \"white\", \"zerolinewidth\": 2}, \"yaxis\": {\"automargin\": true, \"gridcolor\": \"white\", \"linecolor\": \"white\", \"ticks\": \"\", \"title\": {\"standoff\": 15}, \"zerolinecolor\": \"white\", \"zerolinewidth\": 2}}}, \"title\": {\"font\": {\"color\": \"#4D5663\"}}, \"xaxis\": {\"anchor\": \"y\", \"domain\": [0.0, 0.2125], \"gridcolor\": \"#E1E5ED\", \"showgrid\": false, \"tickfont\": {\"color\": \"#4D5663\"}, \"title\": {\"font\": {\"color\": \"#4D5663\"}, \"text\": \"\"}, \"zerolinecolor\": \"#E1E5ED\"}, \"xaxis10\": {\"anchor\": \"y10\", \"domain\": [0.2625, 0.475], \"gridcolor\": \"#E1E5ED\", \"showgrid\": false, \"tickfont\": {\"color\": \"#4D5663\"}, \"title\": {\"font\": {\"color\": \"#4D5663\"}, \"text\": \"\"}, \"zerolinecolor\": \"#E1E5ED\"}, \"xaxis11\": {\"anchor\": \"y11\", \"domain\": [0.525, 0.7375], \"gridcolor\": \"#E1E5ED\", \"showgrid\": false, \"tickfont\": {\"color\": \"#4D5663\"}, \"title\": {\"font\": {\"color\": \"#4D5663\"}, \"text\": \"\"}, \"zerolinecolor\": \"#E1E5ED\"}, \"xaxis12\": {\"anchor\": \"y12\", \"domain\": [0.7875, 1.0], \"gridcolor\": \"#E1E5ED\", \"showgrid\": false, \"tickfont\": {\"color\": \"#4D5663\"}, \"title\": {\"font\": {\"color\": \"#4D5663\"}, \"text\": \"\"}, \"zerolinecolor\": \"#E1E5ED\"}, \"xaxis13\": {\"anchor\": \"y13\", \"domain\": [0.0, 0.2125], \"gridcolor\": \"#E1E5ED\", \"showgrid\": false, \"tickfont\": {\"color\": \"#4D5663\"}, \"title\": {\"font\": {\"color\": \"#4D5663\"}, \"text\": \"\"}, \"zerolinecolor\": \"#E1E5ED\"}, \"xaxis14\": {\"anchor\": \"y14\", \"domain\": [0.2625, 0.475], \"gridcolor\": \"#E1E5ED\", \"showgrid\": false, \"tickfont\": {\"color\": \"#4D5663\"}, \"title\": {\"font\": {\"color\": \"#4D5663\"}, \"text\": \"\"}, \"zerolinecolor\": \"#E1E5ED\"}, \"xaxis15\": {\"anchor\": \"y15\", \"domain\": [0.525, 0.7375], \"gridcolor\": \"#E1E5ED\", \"showgrid\": false, \"tickfont\": {\"color\": \"#4D5663\"}, \"title\": {\"font\": {\"color\": \"#4D5663\"}, \"text\": \"\"}, \"zerolinecolor\": \"#E1E5ED\"}, \"xaxis16\": {\"anchor\": \"y16\", \"domain\": [0.7875, 1.0], \"gridcolor\": \"#E1E5ED\", \"showgrid\": false, \"tickfont\": {\"color\": \"#4D5663\"}, \"title\": {\"font\": {\"color\": \"#4D5663\"}, \"text\": \"\"}, \"zerolinecolor\": \"#E1E5ED\"}, \"xaxis2\": {\"anchor\": \"y2\", \"domain\": [0.2625, 0.475], \"gridcolor\": \"#E1E5ED\", \"showgrid\": false, \"tickfont\": {\"color\": \"#4D5663\"}, \"title\": {\"font\": {\"color\": \"#4D5663\"}, \"text\": \"\"}, \"zerolinecolor\": \"#E1E5ED\"}, \"xaxis3\": {\"anchor\": \"y3\", \"domain\": [0.525, 0.7375], \"gridcolor\": \"#E1E5ED\", \"showgrid\": false, \"tickfont\": {\"color\": \"#4D5663\"}, \"title\": {\"font\": {\"color\": \"#4D5663\"}, \"text\": \"\"}, \"zerolinecolor\": \"#E1E5ED\"}, \"xaxis4\": {\"anchor\": \"y4\", \"domain\": [0.7875, 1.0], \"gridcolor\": \"#E1E5ED\", \"showgrid\": false, \"tickfont\": {\"color\": \"#4D5663\"}, \"title\": {\"font\": {\"color\": \"#4D5663\"}, \"text\": \"\"}, \"zerolinecolor\": \"#E1E5ED\"}, \"xaxis5\": {\"anchor\": \"y5\", \"domain\": [0.0, 0.2125], \"gridcolor\": \"#E1E5ED\", \"showgrid\": false, \"tickfont\": {\"color\": \"#4D5663\"}, \"title\": {\"font\": {\"color\": \"#4D5663\"}, \"text\": \"\"}, \"zerolinecolor\": \"#E1E5ED\"}, \"xaxis6\": {\"anchor\": \"y6\", \"domain\": [0.2625, 0.475], \"gridcolor\": \"#E1E5ED\", \"showgrid\": false, \"tickfont\": {\"color\": \"#4D5663\"}, \"title\": {\"font\": {\"color\": \"#4D5663\"}, \"text\": \"\"}, \"zerolinecolor\": \"#E1E5ED\"}, \"xaxis7\": {\"anchor\": \"y7\", \"domain\": [0.525, 0.7375], \"gridcolor\": \"#E1E5ED\", \"showgrid\": false, \"tickfont\": {\"color\": \"#4D5663\"}, \"title\": {\"font\": {\"color\": \"#4D5663\"}, \"text\": \"\"}, \"zerolinecolor\": \"#E1E5ED\"}, \"xaxis8\": {\"anchor\": \"y8\", \"domain\": [0.7875, 1.0], \"gridcolor\": \"#E1E5ED\", \"showgrid\": false, \"tickfont\": {\"color\": \"#4D5663\"}, \"title\": {\"font\": {\"color\": \"#4D5663\"}, \"text\": \"\"}, \"zerolinecolor\": \"#E1E5ED\"}, \"xaxis9\": {\"anchor\": \"y9\", \"domain\": [0.0, 0.2125], \"gridcolor\": \"#E1E5ED\", \"showgrid\": false, \"tickfont\": {\"color\": \"#4D5663\"}, \"title\": {\"font\": {\"color\": \"#4D5663\"}, \"text\": \"\"}, \"zerolinecolor\": \"#E1E5ED\"}, \"yaxis\": {\"anchor\": \"x\", \"domain\": [0.8025, 1.0], \"gridcolor\": \"#E1E5ED\", \"showgrid\": false, \"tickfont\": {\"color\": \"#4D5663\"}, \"title\": {\"font\": {\"color\": \"#4D5663\"}, \"text\": \"\"}, \"zerolinecolor\": \"#E1E5ED\"}, \"yaxis10\": {\"anchor\": \"x10\", \"domain\": [0.2675, 0.465], \"gridcolor\": \"#E1E5ED\", \"showgrid\": false, \"tickfont\": {\"color\": \"#4D5663\"}, \"title\": {\"font\": {\"color\": \"#4D5663\"}, \"text\": \"\"}, \"zerolinecolor\": \"#E1E5ED\"}, \"yaxis11\": {\"anchor\": \"x11\", \"domain\": [0.2675, 0.465], \"gridcolor\": \"#E1E5ED\", \"showgrid\": false, \"tickfont\": {\"color\": \"#4D5663\"}, \"title\": {\"font\": {\"color\": \"#4D5663\"}, \"text\": \"\"}, \"zerolinecolor\": \"#E1E5ED\"}, \"yaxis12\": {\"anchor\": \"x12\", \"domain\": [0.2675, 0.465], \"gridcolor\": \"#E1E5ED\", \"showgrid\": false, \"tickfont\": {\"color\": \"#4D5663\"}, \"title\": {\"font\": {\"color\": \"#4D5663\"}, \"text\": \"\"}, \"zerolinecolor\": \"#E1E5ED\"}, \"yaxis13\": {\"anchor\": \"x13\", \"domain\": [0.0, 0.1975], \"gridcolor\": \"#E1E5ED\", \"showgrid\": false, \"tickfont\": {\"color\": \"#4D5663\"}, \"title\": {\"font\": {\"color\": \"#4D5663\"}, \"text\": \"\"}, \"zerolinecolor\": \"#E1E5ED\"}, \"yaxis14\": {\"anchor\": \"x14\", \"domain\": [0.0, 0.1975], \"gridcolor\": \"#E1E5ED\", \"showgrid\": false, \"tickfont\": {\"color\": \"#4D5663\"}, \"title\": {\"font\": {\"color\": \"#4D5663\"}, \"text\": \"\"}, \"zerolinecolor\": \"#E1E5ED\"}, \"yaxis15\": {\"anchor\": \"x15\", \"domain\": [0.0, 0.1975], \"gridcolor\": \"#E1E5ED\", \"showgrid\": false, \"tickfont\": {\"color\": \"#4D5663\"}, \"title\": {\"font\": {\"color\": \"#4D5663\"}, \"text\": \"\"}, \"zerolinecolor\": \"#E1E5ED\"}, \"yaxis16\": {\"anchor\": \"x16\", \"domain\": [0.0, 0.1975], \"gridcolor\": \"#E1E5ED\", \"showgrid\": false, \"tickfont\": {\"color\": \"#4D5663\"}, \"title\": {\"font\": {\"color\": \"#4D5663\"}, \"text\": \"\"}, \"zerolinecolor\": \"#E1E5ED\"}, \"yaxis2\": {\"anchor\": \"x2\", \"domain\": [0.8025, 1.0], \"gridcolor\": \"#E1E5ED\", \"showgrid\": false, \"tickfont\": {\"color\": \"#4D5663\"}, \"title\": {\"font\": {\"color\": \"#4D5663\"}, \"text\": \"\"}, \"zerolinecolor\": \"#E1E5ED\"}, \"yaxis3\": {\"anchor\": \"x3\", \"domain\": [0.8025, 1.0], \"gridcolor\": \"#E1E5ED\", \"showgrid\": false, \"tickfont\": {\"color\": \"#4D5663\"}, \"title\": {\"font\": {\"color\": \"#4D5663\"}, \"text\": \"\"}, \"zerolinecolor\": \"#E1E5ED\"}, \"yaxis4\": {\"anchor\": \"x4\", \"domain\": [0.8025, 1.0], \"gridcolor\": \"#E1E5ED\", \"showgrid\": false, \"tickfont\": {\"color\": \"#4D5663\"}, \"title\": {\"font\": {\"color\": \"#4D5663\"}, \"text\": \"\"}, \"zerolinecolor\": \"#E1E5ED\"}, \"yaxis5\": {\"anchor\": \"x5\", \"domain\": [0.535, 0.7325], \"gridcolor\": \"#E1E5ED\", \"showgrid\": false, \"tickfont\": {\"color\": \"#4D5663\"}, \"title\": {\"font\": {\"color\": \"#4D5663\"}, \"text\": \"\"}, \"zerolinecolor\": \"#E1E5ED\"}, \"yaxis6\": {\"anchor\": \"x6\", \"domain\": [0.535, 0.7325], \"gridcolor\": \"#E1E5ED\", \"showgrid\": false, \"tickfont\": {\"color\": \"#4D5663\"}, \"title\": {\"font\": {\"color\": \"#4D5663\"}, \"text\": \"\"}, \"zerolinecolor\": \"#E1E5ED\"}, \"yaxis7\": {\"anchor\": \"x7\", \"domain\": [0.535, 0.7325], \"gridcolor\": \"#E1E5ED\", \"showgrid\": false, \"tickfont\": {\"color\": \"#4D5663\"}, \"title\": {\"font\": {\"color\": \"#4D5663\"}, \"text\": \"\"}, \"zerolinecolor\": \"#E1E5ED\"}, \"yaxis8\": {\"anchor\": \"x8\", \"domain\": [0.535, 0.7325], \"gridcolor\": \"#E1E5ED\", \"showgrid\": false, \"tickfont\": {\"color\": \"#4D5663\"}, \"title\": {\"font\": {\"color\": \"#4D5663\"}, \"text\": \"\"}, \"zerolinecolor\": \"#E1E5ED\"}, \"yaxis9\": {\"anchor\": \"x9\", \"domain\": [0.2675, 0.465], \"gridcolor\": \"#E1E5ED\", \"showgrid\": false, \"tickfont\": {\"color\": \"#4D5663\"}, \"title\": {\"font\": {\"color\": \"#4D5663\"}, \"text\": \"\"}, \"zerolinecolor\": \"#E1E5ED\"}},                        {\"showLink\": true, \"linkText\": \"Export to plot.ly\", \"plotlyServerURL\": \"https://plot.ly\", \"responsive\": true}                    ).then(function(){\n",
       "                            \n",
       "var gd = document.getElementById('52246a1e-fc5d-48ed-8c83-b96e70fc4e41');\n",
       "var x = new MutationObserver(function (mutations, observer) {{\n",
       "        var display = window.getComputedStyle(gd).display;\n",
       "        if (!display || display === 'none') {{\n",
       "            console.log([gd, 'removed!']);\n",
       "            Plotly.purge(gd);\n",
       "            observer.disconnect();\n",
       "        }}\n",
       "}});\n",
       "\n",
       "// Listen for the removal of the full notebook cells\n",
       "var notebookContainer = gd.closest('#notebook-container');\n",
       "if (notebookContainer) {{\n",
       "    x.observe(notebookContainer, {childList: true});\n",
       "}}\n",
       "\n",
       "// Listen for the clearing of the current output cell\n",
       "var outputEl = gd.closest('.output');\n",
       "if (outputEl) {{\n",
       "    x.observe(outputEl, {childList: true});\n",
       "}}\n",
       "\n",
       "                        })                };                });            </script>        </div>"
      ]
     },
     "metadata": {},
     "output_type": "display_data"
    }
   ],
   "source": [
    "df.scatter_matrix()"
   ]
  },
  {
   "cell_type": "code",
   "execution_count": null,
   "metadata": {},
   "outputs": [],
   "source": []
  }
 ],
 "metadata": {
  "colab": {
   "name": "01-Plotly and Cufflinks.ipynb",
   "provenance": []
  },
  "kernelspec": {
   "display_name": "Python 3",
   "language": "python",
   "name": "python3"
  },
  "language_info": {
   "codemirror_mode": {
    "name": "ipython",
    "version": 3
   },
   "file_extension": ".py",
   "mimetype": "text/x-python",
   "name": "python",
   "nbconvert_exporter": "python",
   "pygments_lexer": "ipython3",
   "version": "3.7.6"
  }
 },
 "nbformat": 4,
 "nbformat_minor": 1
}
