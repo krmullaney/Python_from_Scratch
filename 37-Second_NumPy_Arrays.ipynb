{
  "nbformat": 4,
  "nbformat_minor": 0,
  "metadata": {
    "kernelspec": {
      "display_name": "Python 3",
      "language": "python",
      "name": "python3"
    },
    "language_info": {
      "codemirror_mode": {
        "name": "ipython",
        "version": 3
      },
      "file_extension": ".py",
      "mimetype": "text/x-python",
      "name": "python",
      "nbconvert_exporter": "python",
      "pygments_lexer": "ipython3",
      "version": "3.6.2"
    },
    "colab": {
      "name": "Second-NumPy Arrays.ipynb",
      "provenance": [],
      "collapsed_sections": []
    }
  },
  "cells": [
    {
      "cell_type": "markdown",
      "metadata": {
        "id": "WSx5RyKjMc4i",
        "colab_type": "text"
      },
      "source": [
        "# NumPy Array Attributes\n"
      ]
    },
    {
      "cell_type": "code",
      "metadata": {
        "id": "aRPgr9yJWxFv",
        "colab_type": "code",
        "colab": {}
      },
      "source": [
        "import numpy as np"
      ],
      "execution_count": 0,
      "outputs": []
    },
    {
      "cell_type": "markdown",
      "metadata": {
        "id": "n_NE6sysMc5L",
        "colab_type": "text"
      },
      "source": [
        "## Reshaping arrays\n",
        "\n",
        "Reshaping means changing the shape of an array. Returns an array containing the same data with a new shape.\n",
        "\n",
        "\n",
        "The shape of an array is the number of elements in each dimension.\n",
        "\n",
        "By reshaping we can add or remove dimensions or change number of elements in each dimension.\n",
        "\n",
        "For example, if you want to put the num‐\n",
        "bers 1 through 9 in a 3×3 grid, you can do the following:\n"
      ]
    },
    {
      "cell_type": "code",
      "metadata": {
        "id": "R0JHgIGv74Ws",
        "colab_type": "code",
        "outputId": "24a26119-b448-4927-c58a-bb292ac77b2e",
        "colab": {
          "base_uri": "https://localhost:8080/",
          "height": 69
        }
      },
      "source": [
        "grid = np.arange(1, 10).reshape(3,3)\n",
        "print(grid)"
      ],
      "execution_count": 46,
      "outputs": [
        {
          "output_type": "stream",
          "text": [
            "[[1 2 3]\n",
            " [4 5 6]\n",
            " [7 8 9]]\n"
          ],
          "name": "stdout"
        }
      ]
    },
    {
      "cell_type": "markdown",
      "metadata": {
        "id": "OrRcHf_y8Yk2",
        "colab_type": "text"
      },
      "source": [
        "Note that for this to work, the size of the initial array must match the size of the reshaped array."
      ]
    },
    {
      "cell_type": "code",
      "metadata": {
        "id": "WRn2A6BrMc4l",
        "colab_type": "code",
        "colab": {}
      },
      "source": [
        "arr = np.arange(25)\n",
        "ranarr = np.random.randint(0,50,10)"
      ],
      "execution_count": 0,
      "outputs": []
    },
    {
      "cell_type": "code",
      "metadata": {
        "id": "mdRAMNeKMc4w",
        "colab_type": "code",
        "outputId": "e08fab6f-db40-44b0-a4dc-e7cfee72891f",
        "colab": {
          "base_uri": "https://localhost:8080/",
          "height": 52
        }
      },
      "source": [
        "arr"
      ],
      "execution_count": 51,
      "outputs": [
        {
          "output_type": "execute_result",
          "data": {
            "text/plain": [
              "array([ 0,  1,  2,  3,  4,  5,  6,  7,  8,  9, 10, 11, 12, 13, 14, 15, 16,\n",
              "       17, 18, 19, 20, 21, 22, 23, 24])"
            ]
          },
          "metadata": {
            "tags": []
          },
          "execution_count": 51
        }
      ]
    },
    {
      "cell_type": "code",
      "metadata": {
        "id": "9sw_AuMOi1e8",
        "colab_type": "code",
        "colab": {
          "base_uri": "https://localhost:8080/",
          "height": 52
        },
        "outputId": "411985f7-7a5f-419f-8747-29e2e3b3a4ce"
      },
      "source": [
        "print(arr)"
      ],
      "execution_count": 52,
      "outputs": [
        {
          "output_type": "stream",
          "text": [
            "[ 0  1  2  3  4  5  6  7  8  9 10 11 12 13 14 15 16 17 18 19 20 21 22 23\n",
            " 24]\n"
          ],
          "name": "stdout"
        }
      ]
    },
    {
      "cell_type": "code",
      "metadata": {
        "id": "oPehEMAPMc46",
        "colab_type": "code",
        "outputId": "0b90699e-f6e9-4631-a3e8-dcd30829b42b",
        "colab": {
          "base_uri": "https://localhost:8080/",
          "height": 34
        }
      },
      "source": [
        "ranarr"
      ],
      "execution_count": 40,
      "outputs": [
        {
          "output_type": "execute_result",
          "data": {
            "text/plain": [
              "array([47,  3, 12, 36, 40, 14, 15, 20, 35, 23])"
            ]
          },
          "metadata": {
            "tags": []
          },
          "execution_count": 40
        }
      ]
    },
    {
      "cell_type": "code",
      "metadata": {
        "id": "I_10P0rf80HY",
        "colab_type": "code",
        "outputId": "a81f6195-bba9-4d26-e740-9e630359e958",
        "colab": {
          "base_uri": "https://localhost:8080/",
          "height": 139
        }
      },
      "source": [
        "# row vector via reshape\n",
        "# Notice the two sets of brackets\n",
        "print(arr)\n",
        "print(arr.shape)\n",
        "print(arr.ndim)\n",
        "\n",
        "\n",
        "print(arr.reshape(1,25))\n",
        "print(arr.reshape(1,25).ndim)"
      ],
      "execution_count": 48,
      "outputs": [
        {
          "output_type": "stream",
          "text": [
            "[ 0  1  2  3  4  5  6  7  8  9 10 11 12 13 14 15 16 17 18 19 20 21 22 23\n",
            " 24]\n",
            "(25,)\n",
            "1\n",
            "[[ 0  1  2  3  4  5  6  7  8  9 10 11 12 13 14 15 16 17 18 19 20 21 22 23\n",
            "  24]]\n",
            "2\n"
          ],
          "name": "stdout"
        }
      ]
    },
    {
      "cell_type": "markdown",
      "metadata": {
        "id": "gqdItjYT9B9-",
        "colab_type": "text"
      },
      "source": [
        "You can do this with the reshape\n",
        "method, or more easily by making use of the newaxis keyword within a slice opera‐\n",
        "tion:"
      ]
    },
    {
      "cell_type": "code",
      "metadata": {
        "id": "mRVNodOu9I0Q",
        "colab_type": "code",
        "outputId": "e9131032-f398-4458-d7ca-c35527de1fb0",
        "colab": {
          "base_uri": "https://localhost:8080/",
          "height": 52
        }
      },
      "source": [
        "# row vector via newaxis\n",
        "# arr.reshape(1,25)\n",
        "arr[np.newaxis, :]"
      ],
      "execution_count": 53,
      "outputs": [
        {
          "output_type": "execute_result",
          "data": {
            "text/plain": [
              "array([[ 0,  1,  2,  3,  4,  5,  6,  7,  8,  9, 10, 11, 12, 13, 14, 15,\n",
              "        16, 17, 18, 19, 20, 21, 22, 23, 24]])"
            ]
          },
          "metadata": {
            "tags": []
          },
          "execution_count": 53
        }
      ]
    },
    {
      "cell_type": "code",
      "metadata": {
        "id": "V8tGqx8X9av7",
        "colab_type": "code",
        "outputId": "2dba5bea-ff03-4ec6-a2aa-f1fd62dec100",
        "colab": {
          "base_uri": "https://localhost:8080/",
          "height": 451
        }
      },
      "source": [
        "# column vector via reshape\n",
        "arr.reshape((25, 1))"
      ],
      "execution_count": 54,
      "outputs": [
        {
          "output_type": "execute_result",
          "data": {
            "text/plain": [
              "array([[ 0],\n",
              "       [ 1],\n",
              "       [ 2],\n",
              "       [ 3],\n",
              "       [ 4],\n",
              "       [ 5],\n",
              "       [ 6],\n",
              "       [ 7],\n",
              "       [ 8],\n",
              "       [ 9],\n",
              "       [10],\n",
              "       [11],\n",
              "       [12],\n",
              "       [13],\n",
              "       [14],\n",
              "       [15],\n",
              "       [16],\n",
              "       [17],\n",
              "       [18],\n",
              "       [19],\n",
              "       [20],\n",
              "       [21],\n",
              "       [22],\n",
              "       [23],\n",
              "       [24]])"
            ]
          },
          "metadata": {
            "tags": []
          },
          "execution_count": 54
        }
      ]
    },
    {
      "cell_type": "code",
      "metadata": {
        "id": "jfyNOquu916I",
        "colab_type": "code",
        "outputId": "a5b55c67-1f93-4bdf-8e2f-e8a35d7fb1fb",
        "colab": {
          "base_uri": "https://localhost:8080/",
          "height": 451
        }
      },
      "source": [
        "# column vector via newaxis\n",
        "#arr.reshape((25, 1))\n",
        "arr[:, np.newaxis]"
      ],
      "execution_count": 55,
      "outputs": [
        {
          "output_type": "execute_result",
          "data": {
            "text/plain": [
              "array([[ 0],\n",
              "       [ 1],\n",
              "       [ 2],\n",
              "       [ 3],\n",
              "       [ 4],\n",
              "       [ 5],\n",
              "       [ 6],\n",
              "       [ 7],\n",
              "       [ 8],\n",
              "       [ 9],\n",
              "       [10],\n",
              "       [11],\n",
              "       [12],\n",
              "       [13],\n",
              "       [14],\n",
              "       [15],\n",
              "       [16],\n",
              "       [17],\n",
              "       [18],\n",
              "       [19],\n",
              "       [20],\n",
              "       [21],\n",
              "       [22],\n",
              "       [23],\n",
              "       [24]])"
            ]
          },
          "metadata": {
            "tags": []
          },
          "execution_count": 55
        }
      ]
    },
    {
      "cell_type": "markdown",
      "metadata": {
        "id": "rl8CRsurtont",
        "colab_type": "text"
      },
      "source": [
        "### Reshape From 1-D to 2-D\n",
        "\n",
        "Convert the following 1-D array with 25 elements into a 2-D array.\n",
        "\n",
        "The outermost dimension will have 5 arrays, each with 5 elements:"
      ]
    },
    {
      "cell_type": "code",
      "metadata": {
        "id": "O0Ap6_osMc5N",
        "colab_type": "code",
        "outputId": "b4630f63-8df3-4586-e83d-1e24a8db7969",
        "colab": {
          "base_uri": "https://localhost:8080/",
          "height": 104
        }
      },
      "source": [
        "arr.reshape(5,5)"
      ],
      "execution_count": 56,
      "outputs": [
        {
          "output_type": "execute_result",
          "data": {
            "text/plain": [
              "array([[ 0,  1,  2,  3,  4],\n",
              "       [ 5,  6,  7,  8,  9],\n",
              "       [10, 11, 12, 13, 14],\n",
              "       [15, 16, 17, 18, 19],\n",
              "       [20, 21, 22, 23, 24]])"
            ]
          },
          "metadata": {
            "tags": []
          },
          "execution_count": 56
        }
      ]
    },
    {
      "cell_type": "markdown",
      "metadata": {
        "id": "k8i6HZEK_j4_",
        "colab_type": "text"
      },
      "source": [
        "We’ll start by defining three random\n",
        "arrays: a one-dimensional, two-dimensional, and three-dimensional array. We’ll use\n",
        "NumPy’s random number generator, which we will seed with a set value in order to\n",
        "ensure that the same random arrays are generated each time this code is run:"
      ]
    },
    {
      "cell_type": "code",
      "metadata": {
        "id": "T9bSU0N__sxJ",
        "colab_type": "code",
        "colab": {}
      },
      "source": [
        "np.random.seed(0) # seed for reproducibility\n",
        "\n",
        "x1 = np.random.randint(10, size=6) # One-dimensional array\n",
        "x2 = np.random.randint(10, size=(3, 4)) # Two-dimensional array\n",
        "x3 = np.random.randint(10, size=(3, 4, 5)) # Three-dimensional array"
      ],
      "execution_count": 0,
      "outputs": []
    },
    {
      "cell_type": "markdown",
      "metadata": {
        "id": "j6VWeaBS_6b4",
        "colab_type": "text"
      },
      "source": [
        "Each array has attributes ndim (the number of dimensions), shape (the size of each\n",
        "dimension), and size (the total size of the array):"
      ]
    },
    {
      "cell_type": "code",
      "metadata": {
        "id": "4lNnHh2cAC6g",
        "colab_type": "code",
        "outputId": "60063a22-f25c-4d30-f6e3-dbc249a80a3b",
        "colab": {
          "base_uri": "https://localhost:8080/",
          "height": 86
        }
      },
      "source": [
        "print(x1)\n",
        "\n",
        "print(\"x1 ndim: \", x1.ndim)\n",
        "print(\"x1 shape:\", x1.shape)\n",
        "print(\"x1 size: \", x1.size)\n"
      ],
      "execution_count": 62,
      "outputs": [
        {
          "output_type": "stream",
          "text": [
            "[5 0 3 3 7 9]\n",
            "x1 ndim:  1\n",
            "x1 shape: (6,)\n",
            "x1 size:  6\n"
          ],
          "name": "stdout"
        }
      ]
    },
    {
      "cell_type": "code",
      "metadata": {
        "id": "K9v42e7U_s-4",
        "colab_type": "code",
        "outputId": "be3cc305-cf89-4a86-d68b-8115fb004ca6",
        "colab": {
          "base_uri": "https://localhost:8080/",
          "height": 121
        }
      },
      "source": [
        "print(x2)\n",
        "\n",
        "print(\"x2 ndim: \", x2.ndim)\n",
        "print(\"x2 shape:\", x2.shape)\n",
        "print(\"x2 size: \", x2.size)\n"
      ],
      "execution_count": 63,
      "outputs": [
        {
          "output_type": "stream",
          "text": [
            "[[3 5 2 4]\n",
            " [7 6 8 8]\n",
            " [1 6 7 7]]\n",
            "x2 ndim:  2\n",
            "x2 shape: (3, 4)\n",
            "x2 size:  12\n"
          ],
          "name": "stdout"
        }
      ]
    },
    {
      "cell_type": "code",
      "metadata": {
        "id": "4j4ekW2W_tDu",
        "colab_type": "code",
        "outputId": "19961271-a769-417f-d0c5-3da711623e90",
        "colab": {
          "base_uri": "https://localhost:8080/",
          "height": 312
        }
      },
      "source": [
        "print(x3)\n",
        "\n",
        "print(\"x3 ndim: \", x3.ndim)\n",
        "print(\"x3 shape:\", x3.shape)\n",
        "print(\"x3 size: \", x3.size)\n"
      ],
      "execution_count": 64,
      "outputs": [
        {
          "output_type": "stream",
          "text": [
            "[[[8 1 5 9 8]\n",
            "  [9 4 3 0 3]\n",
            "  [5 0 2 3 8]\n",
            "  [1 3 3 3 7]]\n",
            "\n",
            " [[0 1 9 9 0]\n",
            "  [4 7 3 2 7]\n",
            "  [2 0 0 4 5]\n",
            "  [5 6 8 4 1]]\n",
            "\n",
            " [[4 9 8 1 1]\n",
            "  [7 9 9 3 6]\n",
            "  [7 2 0 3 5]\n",
            "  [9 4 4 6 4]]]\n",
            "x3 ndim:  3\n",
            "x3 shape: (3, 4, 5)\n",
            "x3 size:  60\n"
          ],
          "name": "stdout"
        }
      ]
    },
    {
      "cell_type": "markdown",
      "metadata": {
        "id": "puunZhnfAmTf",
        "colab_type": "text"
      },
      "source": [
        "Another useful attribute is the dtype , the data type of the array (which we discussed previously )"
      ]
    },
    {
      "cell_type": "code",
      "metadata": {
        "id": "gw6PHrcR_tOL",
        "colab_type": "code",
        "outputId": "76bab965-2430-4bfe-8cc3-6ad1b3f99aef",
        "colab": {
          "base_uri": "https://localhost:8080/",
          "height": 69
        }
      },
      "source": [
        "print(\"x1 dtype:\", x1.dtype)\n",
        "print(\"x2 dtype:\", x2.dtype)\n",
        "print(\"x3 dtype:\", x3.dtype)"
      ],
      "execution_count": 65,
      "outputs": [
        {
          "output_type": "stream",
          "text": [
            "x1 dtype: int64\n",
            "x2 dtype: int64\n",
            "x3 dtype: int64\n"
          ],
          "name": "stdout"
        }
      ]
    },
    {
      "cell_type": "markdown",
      "metadata": {
        "id": "ifWeorkIA3AS",
        "colab_type": "text"
      },
      "source": [
        "Other attributes include itemsize , which lists the size (in bytes) of each array element, and nbytes , which lists the total size (in bytes) of the array:\n"
      ]
    },
    {
      "cell_type": "code",
      "metadata": {
        "id": "3jcwwZ11BA8t",
        "colab_type": "code",
        "outputId": "94281be2-ad63-4b2c-b0c5-d962b42af036",
        "colab": {
          "base_uri": "https://localhost:8080/",
          "height": 208
        }
      },
      "source": [
        "print(\"x1 size (means total number of elements): \", x1.size)\n",
        "print(\"x1 itemsize (means total number of bytes occupied by the individual element):\", x1.itemsize, \"bytes\")\n",
        "print(\"x1 nbytes (means total number of bytes occupied by the n elements = size * itemsize ):\", x1.nbytes, \"bytes\")\n",
        "\n",
        "print('\\n')\n",
        "print(\"x2 itemsize:\", x2.itemsize, \"bytes\")\n",
        "print(\"x2 nbytes:\", x2.nbytes, \"bytes\")\n",
        "print('\\n')\n",
        "\n",
        "print(\"x3 itemsize:\", x3.itemsize, \"bytes\")\n",
        "print(\"x3 nbytes:\", x3.nbytes, \"bytes\")"
      ],
      "execution_count": 66,
      "outputs": [
        {
          "output_type": "stream",
          "text": [
            "x1 size (means total number of elements):  6\n",
            "x1 itemsize (means total number of bytes occupied by the individual element): 8 bytes\n",
            "x1 nbytes (means total number of bytes occupied by the n elements = size * itemsize ): 48 bytes\n",
            "\n",
            "\n",
            "x2 itemsize: 8 bytes\n",
            "x2 nbytes: 96 bytes\n",
            "\n",
            "\n",
            "x3 itemsize: 8 bytes\n",
            "x3 nbytes: 480 bytes\n"
          ],
          "name": "stdout"
        }
      ]
    },
    {
      "cell_type": "markdown",
      "metadata": {
        "id": "pcBkfZQnMc6L",
        "colab_type": "text"
      },
      "source": [
        "## Shape\n",
        "\n",
        "Shape is an attribute that arrays have (not a method):"
      ]
    },
    {
      "cell_type": "code",
      "metadata": {
        "id": "hDNKwHcuMc6M",
        "colab_type": "code",
        "colab": {
          "base_uri": "https://localhost:8080/",
          "height": 34
        },
        "outputId": "1bb285e5-f279-455e-bb57-270ad2f14715"
      },
      "source": [
        "# Vector\n",
        "arr.shape"
      ],
      "execution_count": 67,
      "outputs": [
        {
          "output_type": "execute_result",
          "data": {
            "text/plain": [
              "(25,)"
            ]
          },
          "metadata": {
            "tags": []
          },
          "execution_count": 67
        }
      ]
    },
    {
      "cell_type": "code",
      "metadata": {
        "id": "KrgkH4pqMc6U",
        "colab_type": "code",
        "colab": {
          "base_uri": "https://localhost:8080/",
          "height": 52
        },
        "outputId": "2d0bdb87-6c7c-4a56-ec78-374721e396a6"
      },
      "source": [
        "# Notice the two sets of brackets\n",
        "arr.reshape(1,25)"
      ],
      "execution_count": 68,
      "outputs": [
        {
          "output_type": "execute_result",
          "data": {
            "text/plain": [
              "array([[ 0,  1,  2,  3,  4,  5,  6,  7,  8,  9, 10, 11, 12, 13, 14, 15,\n",
              "        16, 17, 18, 19, 20, 21, 22, 23, 24]])"
            ]
          },
          "metadata": {
            "tags": []
          },
          "execution_count": 68
        }
      ]
    },
    {
      "cell_type": "code",
      "metadata": {
        "id": "IZHYessVMc6g",
        "colab_type": "code",
        "colab": {
          "base_uri": "https://localhost:8080/",
          "height": 34
        },
        "outputId": "303924ca-5556-48c9-de53-94fec6654ed2"
      },
      "source": [
        "arr.reshape(1,25).shape"
      ],
      "execution_count": 69,
      "outputs": [
        {
          "output_type": "execute_result",
          "data": {
            "text/plain": [
              "(1, 25)"
            ]
          },
          "metadata": {
            "tags": []
          },
          "execution_count": 69
        }
      ]
    },
    {
      "cell_type": "code",
      "metadata": {
        "id": "ZMPaybyRMc6r",
        "colab_type": "code",
        "colab": {
          "base_uri": "https://localhost:8080/",
          "height": 451
        },
        "outputId": "9cc04217-f0ef-41c9-bf0c-751be550870e"
      },
      "source": [
        "arr.reshape(25,1)"
      ],
      "execution_count": 70,
      "outputs": [
        {
          "output_type": "execute_result",
          "data": {
            "text/plain": [
              "array([[ 0],\n",
              "       [ 1],\n",
              "       [ 2],\n",
              "       [ 3],\n",
              "       [ 4],\n",
              "       [ 5],\n",
              "       [ 6],\n",
              "       [ 7],\n",
              "       [ 8],\n",
              "       [ 9],\n",
              "       [10],\n",
              "       [11],\n",
              "       [12],\n",
              "       [13],\n",
              "       [14],\n",
              "       [15],\n",
              "       [16],\n",
              "       [17],\n",
              "       [18],\n",
              "       [19],\n",
              "       [20],\n",
              "       [21],\n",
              "       [22],\n",
              "       [23],\n",
              "       [24]])"
            ]
          },
          "metadata": {
            "tags": []
          },
          "execution_count": 70
        }
      ]
    },
    {
      "cell_type": "code",
      "metadata": {
        "id": "QpQdbdHNMc61",
        "colab_type": "code",
        "colab": {
          "base_uri": "https://localhost:8080/",
          "height": 34
        },
        "outputId": "6b4f965a-46d5-4442-da28-c4821259a605"
      },
      "source": [
        "arr.reshape(25,1).shape"
      ],
      "execution_count": 71,
      "outputs": [
        {
          "output_type": "execute_result",
          "data": {
            "text/plain": [
              "(25, 1)"
            ]
          },
          "metadata": {
            "tags": []
          },
          "execution_count": 71
        }
      ]
    },
    {
      "cell_type": "code",
      "metadata": {
        "id": "73saj-EClei1",
        "colab_type": "code",
        "colab": {}
      },
      "source": [
        ""
      ],
      "execution_count": 0,
      "outputs": []
    }
  ]
}