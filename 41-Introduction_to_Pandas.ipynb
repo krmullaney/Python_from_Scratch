{
  "nbformat": 4,
  "nbformat_minor": 0,
  "metadata": {
    "kernelspec": {
      "display_name": "Python 3",
      "language": "python",
      "name": "python3"
    },
    "language_info": {
      "codemirror_mode": {
        "name": "ipython",
        "version": 3
      },
      "file_extension": ".py",
      "mimetype": "text/x-python",
      "name": "python",
      "nbconvert_exporter": "python",
      "pygments_lexer": "ipython3",
      "version": "3.5.1"
    },
    "colab": {
      "name": "01-Introduction to Pandas.ipynb",
      "provenance": [],
      "collapsed_sections": []
    }
  },
  "cells": [
    {
      "cell_type": "markdown",
      "metadata": {
        "collapsed": true,
        "id": "4yhKFJA9mIqM",
        "colab_type": "text"
      },
      "source": [
        "#About Pandas\n",
        "\n",
        "Pandas is an open-source, BSD-licensed Python library providing high-performance, easy-to-use data structures and data analysis tools for the Python programming language. \n",
        "\n",
        "Python with Pandas is used in a wide range of fields including academic and commercial domains including finance, economics, Statistics, analytics, etc. \n",
        "\n",
        "#Data Analysis\n",
        "\n",
        "Learn how to use pandas for data analysis and data cleansing. You can think of pandas as an extremely powerful version of Excel, with a lot more features. \n",
        "\n",
        "    Introduction to Pandas\n",
        "    Series\n",
        "    DataFrames\n",
        "    Missing Data\n",
        "    GroupBy\n",
        "    Merging,Joining,and Concatenating\n",
        "    Operations\n",
        "    Data Input and Output\n",
        "\n",
        "# Origin of Pandas\n",
        "\n",
        "Pandas is an open-source Python Library providing high-performance data manipulation and analysis tool using its powerful data structures. The name Pandas is derived from the word Panel Data – an Econometrics from Multidimensional data.\n",
        "\n",
        "In 2008, developer Wes McKinney started developing pandas when in need of high performance, flexible tool for analysis of data.\n",
        "\n",
        "Prior to Pandas, Python was majorly used for data munging and preparation. It had very little contribution towards data analysis. Pandas solved this problem. Using Pandas, we can accomplish five typical steps in the processing and analysis of data, regardless of the origin of data — load, prepare, manipulate, model, and analyze.\n",
        "\n",
        "Python with Pandas is used in a wide range of fields including academic and commercial domains including finance, economics, Statistics, analytics, etc\n",
        "\n",
        "\n",
        "#Key Features of Pandas\n",
        "\n",
        "    Fast and efficient DataFrame object with default and customized indexing.\n",
        "    Tools for loading data into in-memory data objects from different file formats.\n",
        "    Data alignment and integrated handling of missing data.\n",
        "    Reshaping and pivoting of date sets.\n",
        "    Label-based slicing, indexing and subsetting of large data sets.\n",
        "    Columns from a data structure can be deleted or inserted.\n",
        "    Group by data for aggregation and transformations.\n",
        "    High performance merging and joining of data.\n",
        "    Time Series functionality.\n",
        "\n",
        "\n",
        "#Installation of pandas\n",
        "\n",
        "    pip install pandas\n",
        "\n",
        "Once Pandas is installed, you can import it and check the version:\n"
      ]
    },
    {
      "cell_type": "code",
      "metadata": {
        "id": "9lV6-2zZmURG",
        "colab_type": "code",
        "colab": {
          "base_uri": "https://localhost:8080/",
          "height": 34
        },
        "outputId": "41b99f7e-c483-4594-a12c-16fd1e41ab0c"
      },
      "source": [
        "#import pandas\n",
        "import pandas as pd \n",
        "pandas.__version__"
      ],
      "execution_count": 11,
      "outputs": [
        {
          "output_type": "execute_result",
          "data": {
            "text/plain": [
              "'1.0.3'"
            ]
          },
          "metadata": {
            "tags": []
          },
          "execution_count": 11
        }
      ]
    },
    {
      "cell_type": "markdown",
      "metadata": {
        "id": "AwbnzBgkmZY6",
        "colab_type": "text"
      },
      "source": [
        "Just as we generally import NumPy under the alias np , we will import Pandas under the alias pd : import pandas as pd"
      ]
    },
    {
      "cell_type": "markdown",
      "metadata": {
        "id": "26-XLPsCmad_",
        "colab_type": "text"
      },
      "source": [
        "# Built-in Documentation\n",
        "\n",
        "To display all the contents of the pandas namespace, you can type this:\n"
      ]
    },
    {
      "cell_type": "code",
      "metadata": {
        "id": "rofr4fPHmeS1",
        "colab_type": "code",
        "colab": {}
      },
      "source": [
        "#pd.<TAB>"
      ],
      "execution_count": 0,
      "outputs": []
    },
    {
      "cell_type": "markdown",
      "metadata": {
        "id": "45omO41qmsLm",
        "colab_type": "text"
      },
      "source": [
        "\n",
        "To display the built-in Pandas documentation, you can use this:"
      ]
    },
    {
      "cell_type": "code",
      "metadata": {
        "id": "CX3b8fzLmwxP",
        "colab_type": "code",
        "colab": {}
      },
      "source": [
        "pd?"
      ],
      "execution_count": 0,
      "outputs": []
    },
    {
      "cell_type": "markdown",
      "metadata": {
        "id": "I0tJmHlZm6zt",
        "colab_type": "text"
      },
      "source": [
        "\n",
        "More detailed documentation, along with tutorials and other resources, can be found at http://pandas.pydata.org/.\n"
      ]
    },
    {
      "cell_type": "code",
      "metadata": {
        "id": "aOSgoK00m4_L",
        "colab_type": "code",
        "colab": {}
      },
      "source": [
        ""
      ],
      "execution_count": 0,
      "outputs": []
    }
  ]
}